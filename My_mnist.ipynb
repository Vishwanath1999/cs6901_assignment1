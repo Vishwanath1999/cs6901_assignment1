{
 "cells": [
  {
   "cell_type": "code",
   "execution_count": 5,
   "metadata": {},
   "outputs": [],
   "source": [
    "import numpy as np\n",
    "import wandb\n",
    "import matplotlib.pyplot as plt\n",
    "from keras.datasets import fashion_mnist,mnist\n",
    "from sklearn.model_selection import train_test_split\n",
    "from scipy.special import log_softmax,softmax\n",
    "import seaborn as sns"
   ]
  },
  {
   "cell_type": "code",
   "execution_count": null,
   "metadata": {},
   "outputs": [],
   "source": [
    "\n",
    "def confusion_matrix(y_true, y_pred):\n",
    "\n",
    "    classes = np.unique(y_true)\n",
    "    n_classes = len(classes)\n",
    "    cm = np.zeros((n_classes, n_classes), dtype=int)\n",
    "\n",
    "    for i in range(n_classes):\n",
    "        for j in range(n_classes):\n",
    "            cm[i, j] = np.sum((y_true == classes[i]) & (y_pred == classes[j]))\n",
    "\n",
    "    return cm\n",
    "\n",
    "def precision_score(y_true, y_pred, average='binary'):\n",
    "\n",
    "    classes = np.unique(y_true)\n",
    "    n_classes = len(classes)\n",
    "    precision = np.zeros(n_classes)\n",
    "\n",
    "    for i in range(n_classes):\n",
    "        true_positive = np.sum((y_true == classes[i]) & (y_pred == classes[i]))\n",
    "        false_positive = np.sum((y_true != classes[i]) & (y_pred == classes[i]))\n",
    "        precision[i] = true_positive / (true_positive + false_positive)\n",
    "    if average == 'binary':\n",
    "        return precision[1]  \n",
    "    elif average == 'micro':\n",
    "        true_positive = np.sum(y_true == y_pred)\n",
    "        false_positive = np.sum(y_true != y_pred)\n",
    "        return true_positive / (true_positive + false_positive)\n",
    "    elif average == 'macro':\n",
    "        return np.mean(precision)\n",
    "    elif average == 'weighted':\n",
    "        class_count = np.bincount(y_true)\n",
    "        weights = class_count / np.sum(class_count)\n",
    "        return np.average(precision, weights=weights)\n",
    "    else:\n",
    "        raise ValueError(\"The 'average' parameter must be one of 'binary', 'micro', 'macro', or 'weighted'.\")"
   ]
  },
  {
   "cell_type": "code",
   "execution_count": 2,
   "metadata": {},
   "outputs": [],
   "source": [
    "class FFNN:\n",
    "    def __init__(self,net_size,layer_act,init_wb='random',lr=1e-3,opt='rmsprop',lamda=0,batch_size=64,\\\n",
    "                 n_epochs=10,gamma=0.9,beta=0.999,beta_1=0.9,beta_2=0.999,seed=None,loss='cross_ent',relu_param=0,epsilon=1e-8):\n",
    "        \n",
    "        self.net_size = net_size\n",
    "        self.layer_acts = layer_act\n",
    "        self.init_wb = init_wb\n",
    "        self.lr = lr\n",
    "        self.optim = opt\n",
    "        self.lamda = lamda\n",
    "        self.batch_size = batch_size\n",
    "        self.n_epochs = n_epochs\n",
    "        self.beta_1 = beta_1\n",
    "        self.beta_2 = beta_2\n",
    "        self.loss = loss\n",
    "        self.seed = seed\n",
    "        self.relu_param=relu_param\n",
    "        self.gamma = gamma\n",
    "        self.beta=beta\n",
    "        self.epsilon=epsilon\n",
    "\n",
    "    def onehot_encode(self,y, n_labels):\n",
    "        mat = np.zeros((len(y), n_labels))\n",
    "        for i, val in enumerate(y):\n",
    "            mat[i, val] = 1\n",
    "        return mat.T\n",
    "    \n",
    "    def nn_init(self, network_size, wb_init='random'):\n",
    "\n",
    "        if self.seed is not None:\n",
    "            np.random.seed(self.seed)\n",
    "\n",
    "        params = {}\n",
    "\n",
    "        num_layers = len(network_size)\n",
    "\n",
    "        if wb_init == 'random':\n",
    "            for layer in range(1, num_layers):\n",
    "                params['weights' + str(layer)] = np.random.normal(0,1,(network_size[layer], network_size[layer - 1]))\n",
    "                params['biases' + str(layer)] = np.random.normal(0,1,(network_size[layer], 1))\n",
    "                \n",
    "        elif wb_init == 'xavier_uniform':\n",
    "            for layer in range(1, num_layers):\n",
    "                r = np.sqrt(6.0 / (network_size[layer] + network_size[layer - 1]))\n",
    "                params['weights' + str(layer)] = np.random.uniform(-r, r, (network_size[layer], network_size[layer - 1]))\n",
    "                params['biases' + str(layer)] = np.random.uniform(-r, r, (network_size[layer], 1))\n",
    "        \n",
    "        else:\n",
    "            raise ValueError('Invalid Activation function ...')\n",
    "        return params\n",
    "    \n",
    "    def Linear(self,input_data,diff=False):\n",
    "        input_data = np.array(input_data, dtype=np.float64)\n",
    "        if diff == False:\n",
    "            return input_data\n",
    "        else:\n",
    "            return np.ones_like(input_data)\n",
    "\n",
    "    def ReLU(self, input_data, diff=False):\n",
    "        alpha = self.relu_param\n",
    "        input_data = np.array(input_data, dtype=np.float64)\n",
    "\n",
    "        if diff == False:\n",
    "            return np.where(input_data < 0, alpha * input_data, input_data)\n",
    "\n",
    "        elif diff == True:\n",
    "            output_data = np.ones_like(input_data, dtype=np.float64)\n",
    "            output_data[input_data < 0] = alpha\n",
    "            return output_data\n",
    "    \n",
    "    # def ELU(self,input_data,diff=False):\n",
    "    #     alpha = self.relu_param\n",
    "    #     input_data = np.where(input_data>700,700,input_data)\n",
    "    #     if diff == False:\n",
    "    #         return np.where(input_data < 0, alpha * (np.exp(input_data)-1), input_data)\n",
    "    #     else:\n",
    "    #         output_data = np.ones_like(input_data, dtype=np.float64)\n",
    "    #         output_data[input_data < 0] = alpha*np.exp(input_data)\n",
    "    #         return output_data  \n",
    "    \n",
    "    def sigmoid(self, input_data, diff=False):\n",
    "        input_data = np.where(input_data<-700,-700,input_data)\n",
    "        if not diff:\n",
    "            output_data = 1 / (1 + np.exp(-np.array(input_data)))\n",
    "        else:\n",
    "            s = 1 / (1 + np.exp(-np.array(input_data)))\n",
    "            output_data = s * (1 - s)\n",
    "        return output_data\n",
    "\n",
    "    def Tanh(self, input_data, diff=False):\n",
    "        input_data = np.array(input_data)\n",
    "        input_data = np.clip(input_data,-700,700)\n",
    "        if not diff:\n",
    "            output_data = np.tanh(input_data)\n",
    "        else:\n",
    "            output_data = 1 - np.tanh(input_data) ** 2\n",
    "        return output_data\n",
    "    \n",
    "    def softmax(self,X):\n",
    "        X = np.clip(X,-700,700)\n",
    "        return log_softmax(X,axis=0)\n",
    "\n",
    "    def forward(self,data,acts,params):\n",
    "        if self.seed is not None:\n",
    "            np.random.seed(self.seed)\n",
    "        param_list = []\n",
    "        act_out = data\n",
    "        for idx, act in enumerate(acts,start=1):\n",
    "            data_prev = act_out\n",
    "            Wb = np.dot(params['weights'+str(idx)],data_prev)+params['biases'+str(idx)]\n",
    "\n",
    "            if act == 'sigmoid':\n",
    "                act_out = self.sigmoid(Wb)\n",
    "            elif act == 'tanh':\n",
    "                act_out = self.Tanh(Wb)\n",
    "            elif act == 'relu':\n",
    "                act_out = self.ReLU(Wb)\n",
    "            elif act == 'softmax':\n",
    "                act_out = self.softmax(Wb)\n",
    "            elif act == 'identity':\n",
    "                act_out = self.Linear(Wb)\n",
    "            # elif act == 'elu':\n",
    "            #     act_out == self.ELU(Wb)\n",
    "            else:\n",
    "                raise ValueError('Invalid activation function ...')\n",
    "            \n",
    "            pl = ((data_prev,params['weights'+str(idx)],params['biases'+str(idx)]),Wb)\n",
    "            param_list.append(pl)\n",
    "        return act_out,param_list\n",
    "    \n",
    "    def grad(self,pred,target,params,lamda=0,loss='cross_ent'):\n",
    "        n_class = target.shape[1]\n",
    "        if loss == 'cross_ent':\n",
    "            loss = -np.mean(np.multiply(pred,target),axis=1).sum()\n",
    "        elif loss=='mse':\n",
    "            loss = -np.mean(np.multiply(pred-target,pred-target),axis=1).sum()\n",
    "        else:\n",
    "            raise ValueError('Error function invalid. Please choose either \"cross_ent\" or \"mse\" ')\n",
    "        param_len = len(params)//2\n",
    "\n",
    "        sum_w = 0\n",
    "        for idx in range(1,param_len):\n",
    "            sum_w += np.square(params['weights'+str(idx)]).sum()\n",
    "        loss += sum_w*(lamda/(2*n_class))\n",
    "        return loss\n",
    "\n",
    "    def backward(self,pred,target,param_list,acts,lamda=0,loss='cross_ent'):\n",
    "        grad_tape = {}\n",
    "        lpl = len(param_list)\n",
    "        m,n = pred.shape\n",
    "        target = target.reshape(pred.shape)\n",
    "        if loss == 'cross_ent':\n",
    "            dOut = np.exp(pred) - target\n",
    "        elif loss == 'mse':\n",
    "            dOut = 2*(np.exp(pred) - target)\n",
    "        else:\n",
    "            raise ValueError('Error function invalid. Please choose either \"cross_ent\" or \"mse\" ')\n",
    "\n",
    "        pred,weight,_ = param_list[-1][0]\n",
    "        grad_tape['d_weights'+str(lpl)] = np.dot(dOut,pred.T)/m\n",
    "        grad_tape['d_biases'+str(lpl)] = dOut.sum(axis=1,keepdims=True)/m\n",
    "        grad_tape['d_pred'+str(lpl-1)] = np.dot(weight.T,dOut)\n",
    "\n",
    "        for idx in reversed(range(lpl-1)):\n",
    "            linear_pred,out = param_list[idx]\n",
    "            out_prev,weight,b = linear_pred\n",
    "\n",
    "            m,n = out_prev.shape\n",
    "            dOut_prev = grad_tape['d_pred'+str(idx+1)]\n",
    "\n",
    "            if acts[idx] == 'relu':\n",
    "                dOut = dOut_prev*self.ReLU(out,True)\n",
    "            elif acts[idx] == 'sigmoid':\n",
    "                dOut = dOut_prev*self.sigmoid(out,True)\n",
    "            elif acts[idx] == 'tanh':\n",
    "                dOut = dOut_prev*self.Tanh(out,True)\n",
    "            # elif acts[idx] == 'elu':\n",
    "            #     dOut = dOut_prev*self.ELU(out,True)\n",
    "            elif acts[idx] == 'identity':\n",
    "                dOut = dOut_prev*self.Linear(out,True)            \n",
    "            \n",
    "            grad_tape['d_pred'+str(idx)] = np.dot(weight.T,dOut)\n",
    "            grad_tape['d_weights'+str(idx+1)] = (np.dot(dOut,out_prev.T)+ lamda*weight)/m\n",
    "            grad_tape['d_biases'+str(idx+1)] = dOut.sum(axis=1,keepdims=True)/m\n",
    "        return grad_tape\n",
    "        \n",
    "\n",
    "    def optim_step(self,params,grad_tape,lr,t_step,algo='adam',moment_params=None):\n",
    "        len_param = len(params)//2\n",
    "\n",
    "        if algo == 'sgd':\n",
    "            for idx in range(len_param):\n",
    "                params['weights'+str(idx+1)] -= lr*grad_tape['d_weights'+str(idx+1)]\n",
    "                params['biases'+str(idx+1)] -= lr*grad_tape['d_biases'+str(idx+1)]\n",
    "                moment_params=None\n",
    "        elif algo == 'sgdm':\n",
    "            for idx in range(len_param):\n",
    "                moment_params['v_w'+str(idx+1)] = self.gamma*moment_params['v_w'+str(idx+1)] + (1-self.gamma)*grad_tape['d_weights'+str(idx+1)]\n",
    "                moment_params['v_b'+str(idx+1)] = self.gamma*moment_params['v_b'+str(idx+1)] + (1-self.gamma)*grad_tape['d_biases'+str(idx+1)]\n",
    "\n",
    "                params['weights'+str(idx+1)] -= lr*moment_params['v_w'+str(idx+1)]\n",
    "                params['biases'+str(idx+1)] -= lr*moment_params['v_b'+str(idx+1)]\n",
    "        elif algo == 'nag':\n",
    "            for idx in range(len_param):\n",
    "                moment_params['v_w'+str(idx+1)] = self.gamma*moment_params['v_w'+str(idx+1)] - lr*grad_tape['d_weights'+str(idx+1)]\n",
    "                moment_params['v_b'+str(idx+1)] = self.gamma*moment_params['v_b'+str(idx+1)] - lr*grad_tape['d_biases'+str(idx+1)]\n",
    "\n",
    "                params['weights'+str(idx+1)] -= self.gamma*(moment_params['v_w'+str(idx+1)] - moment_params['v_w_prev'+str(idx+1)])\n",
    "                params['biases'+str(idx+1)] -= self.gamma*(moment_params['v_b'+str(idx+1)] - moment_params['v_b_prev'+str(idx+1)])\n",
    "\n",
    "                moment_params['v_w_prev'+str(idx+1)] = moment_params['v_w'+str(idx+1)]\n",
    "                moment_params['v_b_prev'+str(idx+1)] = moment_params['v_b'+str(idx+1)]\n",
    "\n",
    "        elif algo == 'rmsprop':\n",
    "            for idx in range(len_param):\n",
    "                moment_params['m_b'+str(idx+1)] = self.beta*moment_params['m_b'+str(idx+1)] + (1-self.beta)*(grad_tape['d_biases'+str(idx+1)]**2)\n",
    "                moment_params['m_w'+str(idx+1)] = self.beta*moment_params['m_w'+str(idx+1)] + (1-self.beta)*(grad_tape['d_weights'+str(idx+1)]**2)\n",
    "\n",
    "                params['weights'+str(idx+1)] -= lr*grad_tape['d_weights'+str(idx+1)]/(np.sqrt(moment_params['m_w'+str(idx+1)])+self.epsilon)\n",
    "                params['biases'+str(idx+1)] -= lr*grad_tape['d_biases'+str(idx+1)]/(np.sqrt(moment_params['m_b'+str(idx+1)])+self.epsilon)\n",
    "\n",
    "        elif algo == 'adam':\n",
    "            for idx in range(len_param):\n",
    "                moment_params['v_b'+str(idx+1)] = self.beta_1*moment_params['v_b'+str(idx+1)] + (1-self.beta_1)*grad_tape['d_biases'+str(idx+1)]\n",
    "                moment_params['v_w'+str(idx+1)] = self.beta_1*moment_params['v_w'+str(idx+1)] + (1-self.beta_1)*grad_tape['d_weights'+str(idx+1)]\n",
    "\n",
    "                moment_params['m_b'+str(idx+1)] = self.beta_2*moment_params['m_b'+str(idx+1)] + (1-self.beta_2)*(grad_tape['d_biases'+str(idx+1)]**2)\n",
    "                moment_params['m_w'+str(idx+1)] = self.beta_2*moment_params['m_w'+str(idx+1)] + (1-self.beta_2)*(grad_tape['d_weights'+str(idx+1)]**2)\n",
    "\n",
    "                mod_lr = lr*np.sqrt((1-self.beta_2**t_step)/(1-self.beta_1**t_step+self.epsilon))\n",
    "                params['weights'+str(idx+1)] -= mod_lr*(moment_params['v_w'+str(idx+1)]/(np.sqrt(moment_params['m_w'+str(idx+1)])+self.epsilon))\n",
    "                params['biases'+str(idx+1)] -= mod_lr*(moment_params['v_b'+str(idx+1)]/(np.sqrt(moment_params['m_b'+str(idx+1)])+self.epsilon))\n",
    "        elif algo =='nadam':\n",
    "            for idx in range(len_param):\n",
    "                moment_params['v_b'+str(idx+1)] = self.beta_1*moment_params['v_b'+str(idx+1)] + (1-self.beta_1)*grad_tape['d_biases'+str(idx+1)]\n",
    "                moment_params['v_w'+str(idx+1)] = self.beta_1*moment_params['v_w'+str(idx+1)] + (1-self.beta_1)*grad_tape['d_weights'+str(idx+1)]\n",
    "\n",
    "                moment_params['m_b'+str(idx+1)] = self.beta_2*moment_params['m_b'+str(idx+1)] + (1-self.beta_2)*(grad_tape['d_biases'+str(idx+1)]**2)\n",
    "                moment_params['m_w'+str(idx+1)] = self.beta_2*moment_params['m_w'+str(idx+1)] + (1-self.beta_2)*(grad_tape['d_weights'+str(idx+1)]**2)\n",
    "\n",
    "                mod_lr = lr*np.sqrt((1-self.beta_2**t_step)/(1-self.beta_1**t_step+self.epsilon))\n",
    "                params['weights'+str(idx+1)] -= (mod_lr/(np.sqrt(moment_params['m_w'+str(idx+1)])+self.epsilon))*(self.beta_1*moment_params['v_w'+str(idx+1)] + (1-self.beta_1)*grad_tape['d_weights'+str(idx+1)])\n",
    "                params['biases'+str(idx+1)] -= (mod_lr/(np.sqrt(moment_params['m_b'+str(idx+1)])+self.epsilon))*(self.beta_1*moment_params['v_b'+str(idx+1)] + (1-self.beta_1)*grad_tape['d_biases'+str(idx+1)])\n",
    "        return params,moment_params\n",
    "    \n",
    "    def predict(self,data):\n",
    "        out = self.forward(data,self.layer_acts,self.params)[0]\n",
    "        return np.argmax(out,axis=0),out.T\n",
    "    \n",
    "    def train(self,X_train,Y_train,X_val,Y_val,n_classes=10,wb_log=True):\n",
    "        self.losses=[]\n",
    "        moment_params = {}\n",
    "        m = X_train.shape[1]\n",
    "        y_train = self.onehot_encode(Y_train,n_classes)\n",
    "        y_val = self.onehot_encode(Y_val,n_classes)\n",
    "        self.params = self.nn_init(self.net_size,self.init_wb)\n",
    "        self.t_step = 1\n",
    "        idx = np.arange(m)\n",
    "\n",
    "        if self.optim != 'sgd':\n",
    "            for ii in range(1,len(self.net_size)):\n",
    "                moment_params['v_w'+str(ii)] = np.zeros((self.net_size[ii],self.net_size[ii-1]))\n",
    "                moment_params['v_b'+str(ii)] = np.zeros((self.net_size[ii],1))\n",
    "\n",
    "                moment_params['v_w_prev'+str(ii)] = np.zeros((self.net_size[ii],self.net_size[ii-1]))\n",
    "                moment_params['v_b_prev'+str(ii)] = np.zeros((self.net_size[ii],1))\n",
    "\n",
    "                moment_params['m_w'+str(ii)] = np.zeros((self.net_size[ii],self.net_size[ii-1]))\n",
    "                moment_params['m_b'+str(ii)] = np.zeros((self.net_size[ii],1))\n",
    "        \n",
    "        for _ in range(self.n_epochs):\n",
    "            np.random.shuffle(idx)\n",
    "            X_shuffled = X_train[:,idx]\n",
    "            Y_shuffled = y_train[:,idx]\n",
    "            for ii in range(0,m,self.batch_size):\n",
    "                X_batched = X_shuffled[:,ii:ii+self.batch_size]\n",
    "                Y_batched = Y_shuffled[:,ii:ii+self.batch_size]\n",
    "\n",
    "                out,param_list = self.forward(X_batched,self.layer_acts,self.params)                \n",
    "                loss = self.grad(out,Y_batched,self.params,self.lamda,self.loss)                \n",
    "                self.losses.append(loss)\n",
    "                grads = self.backward(out,Y_batched,param_list,self.layer_acts,self.lamda,self.loss)\n",
    "                self.params,moment_params = self.optim_step(self.params,grads,self.lr,\\\n",
    "                                                            self.t_step,self.optim,moment_params)\n",
    "                self.t_step+=1\n",
    "            y_pred_train,_ = self.predict(X_train)\n",
    "            y_pred_valid,_ = self.predict(X_val)\n",
    "\n",
    "            train_acc = accuracy_score(Y_train,y_pred_train)\n",
    "            val_acc = accuracy_score(Y_val,y_pred_valid)\n",
    "            val_out,_ = self.forward(X_val,self.layer_acts,self.params)\n",
    "            val_loss = self.grad(val_out,y_val,self.params,self.lamda,self.loss)\n",
    "            log = {'train_acc':train_acc, 'val_acc':val_acc,'train_loss':loss,'val_loss':val_loss}#\n",
    "            if wb_log:\n",
    "                wandb.log(log)\n",
    "            else:\n",
    "                print(log)"
   ]
  },
  {
   "cell_type": "code",
   "execution_count": 3,
   "metadata": {},
   "outputs": [],
   "source": [
    "class_names = ['T-shirt/top', 'Trouser', 'Pullover', 'Dress',\n",
    "               'Coat', 'Sandal', 'Shirt', 'Sneaker', 'Bag', 'Ankle boot']"
   ]
  },
  {
   "cell_type": "code",
   "execution_count": 4,
   "metadata": {},
   "outputs": [
    {
     "data": {
      "image/png": "[encoded data removed]",
      "text/plain": [
       "<Figure size 540x288 with 10 Axes>"
      ]
     },
     "metadata": {
      "needs_background": "light"
     },
     "output_type": "display_data"
    }
   ],
   "source": [
    "(x_train, y_train), (x_test, y_test) = fashion_mnist.load_data()\n",
    "\n",
    "class_num = 10\n",
    "num_row = 2\n",
    "num_col = 5# plot images\n",
    "fig, axes = plt.subplots(num_row, num_col, figsize=(1.5*num_col,2*num_row))\n",
    "img_list=[]\n",
    "for i in range(class_num):\n",
    "  ax = axes[i//num_col, i%num_col]\n",
    "  a = np.argmax(y_train == i)\n",
    "  ax.imshow(x_train[a], cmap='gray')\n",
    "  ax.set_title(class_names[i])\n",
    "plt.tight_layout()\n",
    "\n",
    "x_train, x_valid, y_train, y_valid = train_test_split(x_train, y_train, test_size=0.1, random_state=0, stratify=y_train)\n",
    "\n",
    "x_train = x_train.reshape((len(x_train), 28*28))\n",
    "x_train = x_train.astype('float32') / 255\n",
    "\n",
    "x_valid = x_valid.reshape((len(x_valid), 28*28))\n",
    "x_valid = x_valid.astype('float32') / 255\n",
    "\n",
    "# Preprocessing test data\n",
    "x_test = x_test.reshape((len(x_test), 28 * 28))\n",
    "x_test = x_test.astype('float32') / 225"
   ]
  },
  {
   "cell_type": "code",
   "execution_count": 5,
   "metadata": {},
   "outputs": [],
   "source": [
    "X = x_train.T\n",
    "X_valid = x_valid.T\n",
    "Y_valid = y_valid\n",
    "Y = y_train\n",
    "n_class= 10\n",
    "n_hidden = 4\n",
    "layers = []\n",
    "hidden_size=32\n",
    "for i in range(n_hidden+2):\n",
    "    if i == 0:\n",
    "        layers.append(X.shape[0])\n",
    "    elif i == n_hidden+1:\n",
    "        layers.append(n_class)\n",
    "    else:\n",
    "        layers.append(hidden_size)\n",
    "    i = i+1\n",
    "act = []\n",
    "o_act = 'softmax'\n",
    "actvn_fn = 'identity'\n",
    "for i in range(n_hidden+1):\n",
    "    if i == n_hidden:\n",
    "        act.append(o_act)\n",
    "    else:\n",
    "        act.append(actvn_fn)\n",
    "    i = i+1\n",
    "model = FFNN(layers,act,'xavier_uniform',opt='adam')"
   ]
  },
  {
   "cell_type": "code",
   "execution_count": 6,
   "metadata": {},
   "outputs": [],
   "source": [
    "# model.params = model.nn_init(layers)\n",
    "# model.train(X,Y,X_valid,Y_valid,wb_log=False)\n",
    "# y_pred,_ = model.predict(x_test.T)"
   ]
  },
  {
   "cell_type": "code",
   "execution_count": 7,
   "metadata": {},
   "outputs": [],
   "source": [
    "sweep_config = {\n",
    "    'method':'bayes',\n",
    "    'metric':{\n",
    "    'name':'val_acc',\n",
    "    'goal':'maximize'\n",
    "    },\n",
    "    'parameters':{\n",
    "    'n_epochs':{\n",
    "    'values':[5,10]\n",
    "    },\n",
    "    'n_hidden':{\n",
    "    'values':[3,4,5]\n",
    "    },\n",
    "    'n_hidden_units':{\n",
    "    'values':[32,64,128]\n",
    "    },\n",
    "    'l2_coeff':{\n",
    "    'values':[0,5e-4,5e-1]\n",
    "    },\n",
    "    'lr':{\n",
    "    'values':[1e-3,1e-4]\n",
    "    },\n",
    "    'optim_algo':{\n",
    "    'values':['sgd','sgdm','rmsprop','adam','nadam','nag']\n",
    "    },\n",
    "    'batch_size':{\n",
    "    'values':[16,32,64]\n",
    "    },\n",
    "    'weights_init':{\n",
    "    'values':['random','xavier_uniform']\n",
    "    },\n",
    "    'act_func':{\n",
    "    'values':['relu','sigmoid','tanh','identity']\n",
    "    },\n",
    "    'loss_func':{\n",
    "    'values':['cross_ent','mse']\n",
    "    },\n",
    "    'relu_param':{\n",
    "    'values':[0,1e-1,1e-2,1e-3]\n",
    "    }\n",
    "    }\n",
    "}\n"
   ]
  },
  {
   "cell_type": "code",
   "execution_count": 8,
   "metadata": {},
   "outputs": [
    {
     "name": "stderr",
     "output_type": "stream",
     "text": [
      "Failed to detect the name of this notebook, you can set it manually with the WANDB_NOTEBOOK_NAME environment variable to enable code saving.\n"
     ]
    },
    {
     "name": "stdout",
     "output_type": "stream",
     "text": [
      "Create sweep with ID: 5hrjihf5\n",
      "Sweep URL: https://wandb.ai/viswa_ee/CS6910/sweeps/5hrjihf5\n"
     ]
    }
   ],
   "source": [
    "sweep_id = wandb.sweep(sweep_config, entity=\"viswa_ee\", project=\"CS6910\")"
   ]
  },
  {
   "cell_type": "code",
   "execution_count": 9,
   "metadata": {},
   "outputs": [],
   "source": [
    "def learn():\n",
    "    config_defaults={\n",
    "        'n_epochs':10,\n",
    "        'n_hidden':3,\n",
    "        'n_hidden_units':10,\n",
    "        'l2_coeff':0,\n",
    "        'lr':1e-3,\n",
    "        'optim_algo':'sgd',\n",
    "        'batch_size':16,\n",
    "        'weights_init':'random',\n",
    "        'act_func':'relu',\n",
    "        'loss_func':'cross_ent',\n",
    "        'relu_param':0\n",
    "    }\n",
    "    wandb.init(config=config_defaults)\n",
    "    config = wandb.config\n",
    "    X = x_train.T\n",
    "    X_valid = x_valid.T\n",
    "    Y_valid = y_valid\n",
    "    Y = y_train\n",
    "    n_class= 10\n",
    "    class_names = ['T-shirt/top', 'Trouser', 'Pullover', 'Dress',\n",
    "               'Coat', 'Sandal', 'Shirt', 'Sneaker', 'Bag', 'Ankle boot']\n",
    "\n",
    "    layers = []\n",
    "    for i in range(config.n_hidden+2):\n",
    "        if i == 0:\n",
    "            layers.append(X.shape[0])\n",
    "        elif i == config.n_hidden+1:\n",
    "            layers.append(n_class)\n",
    "        else:\n",
    "            layers.append(config.n_hidden_units)\n",
    "        i = i+1\n",
    "    \n",
    "    output_act = 'softmax'\n",
    "    act_fn = config.act_func\n",
    "\n",
    "    acts = []\n",
    "    for i in range(config.n_hidden+1):\n",
    "        if i == config.n_hidden:\n",
    "            acts.append(output_act)\n",
    "        else:\n",
    "            acts.append(act_fn)\n",
    "        i = i+1\n",
    "    \n",
    "    wandb.run.name = config.weights_init+'_'+ config.optim_algo +'_'+ config.act_func + '_bs_' + str(config.batch_size)+'_layers_'+str(config.n_hidden)+'_neurons_'+str(config.n_hidden_units)\n",
    "    model = FFNN(net_size=layers,layer_act=acts,init_wb=config.weights_init,lr=config.lr,opt=config.optim_algo,\\\n",
    "                 lamda=config.l2_coeff,batch_size=config.batch_size,n_epochs=config.n_epochs,loss=config.loss_func,relu_param=config.relu_param)\n",
    "    model.train(X,Y,X_valid,Y_valid)\n",
    "    y_test_pred,_ = model.predict(x_test.T)\n",
    "    cm = confusion_matrix(y_test, y_test_pred)\n",
    "    cm_norm = cm.astype(\"float\") / cm.sum(axis=1)[:, np.newaxis]\n",
    "    fig, ax = plt.subplots(figsize=(8, 6))\n",
    "    sns.heatmap(\n",
    "        cm_norm, annot=True, cmap=\"Blues\", square=True, xticklabels=class_names, yticklabels=class_names\n",
    "    )\n",
    "    plt.ylabel(\"True label\")\n",
    "    plt.xlabel(\"Predicted label\")\n",
    "    # Log the confusion matrix plot to wandb\n",
    "    wandb.log({\"Confusion Matrix\":wandb.Image(fig)})\n",
    "    fig.clf()\n",
    "    plt.close('all')\n",
    "    # log = {'conf_matrix':wandb.plot.confusion_matrix(y_true=y_test,preds=y_test_pred,class_names=class_names)}\n",
    "    # wandb.log(log)\n",
    "    # wandb.log({'conf_mat_'+wandb.run.name:wandb.plot.confusion_matrix(y_true=y_test,preds=y_test_pred,class_names=class_names)})\n",
    "    "
   ]
  },
  {
   "cell_type": "code",
   "execution_count": 10,
   "metadata": {},
   "outputs": [
    {
     "name": "stderr",
     "output_type": "stream",
     "text": [
      "\u001b[34m\u001b[1mwandb\u001b[0m: Agent Starting Run: xcrk1fqa with config:\n",
      "\u001b[34m\u001b[1mwandb\u001b[0m: \tact_func: identity\n",
      "\u001b[34m\u001b[1mwandb\u001b[0m: \tbatch_size: 64\n",
      "\u001b[34m\u001b[1mwandb\u001b[0m: \tl2_coeff: 0.0005\n",
      "\u001b[34m\u001b[1mwandb\u001b[0m: \tloss_func: cross_ent\n",
      "\u001b[34m\u001b[1mwandb\u001b[0m: \tlr: 0.001\n",
      "\u001b[34m\u001b[1mwandb\u001b[0m: \tn_epochs: 10\n",
      "\u001b[34m\u001b[1mwandb\u001b[0m: \tn_hidden: 5\n",
      "\u001b[34m\u001b[1mwandb\u001b[0m: \tn_hidden_units: 128\n",
      "\u001b[34m\u001b[1mwandb\u001b[0m: \toptim_algo: rmsprop\n",
      "\u001b[34m\u001b[1mwandb\u001b[0m: \trelu_param: 0.001\n",
      "\u001b[34m\u001b[1mwandb\u001b[0m: \tweights_init: xavier_uniform\n",
      "Failed to detect the name of this notebook, you can set it manually with the WANDB_NOTEBOOK_NAME environment variable to enable code saving.\n",
      "\u001b[34m\u001b[1mwandb\u001b[0m: Currently logged in as: \u001b[33mviswa_ee\u001b[0m. Use \u001b[1m`wandb login --relogin`\u001b[0m to force relogin\n"
     ]
    },
    {
     "data": {
      "text/html": [
       "Tracking run with wandb version 0.14.0"
      ],
      "text/plain": [
       "<IPython.core.display.HTML object>"
      ]
     },
     "metadata": {},
     "output_type": "display_data"
    },
    {
     "data": {
      "text/html": [
       "Run data is saved locally in <code>d:\\CS6901\\wandb\\run-20230317_224651-xcrk1fqa</code>"
      ],
      "text/plain": [
       "<IPython.core.display.HTML object>"
      ]
     },
     "metadata": {},
     "output_type": "display_data"
    },
    {
     "data": {
      "text/html": [
       "Syncing run <strong><a href='https://wandb.ai/viswa_ee/CS6910/runs/xcrk1fqa' target=\"_blank\">stilted-sweep-1</a></strong> to <a href='https://wandb.ai/viswa_ee/CS6910' target=\"_blank\">Weights & Biases</a> (<a href='https://wandb.me/run' target=\"_blank\">docs</a>)<br/>Sweep page: <a href='https://wandb.ai/viswa_ee/CS6910/sweeps/5hrjihf5' target=\"_blank\">https://wandb.ai/viswa_ee/CS6910/sweeps/5hrjihf5</a>"
      ],
      "text/plain": [
       "<IPython.core.display.HTML object>"
      ]
     },
     "metadata": {},
     "output_type": "display_data"
    },
    {
     "data": {
      "text/html": [
       " View project at <a href='https://wandb.ai/viswa_ee/CS6910' target=\"_blank\">https://wandb.ai/viswa_ee/CS6910</a>"
      ],
      "text/plain": [
       "<IPython.core.display.HTML object>"
      ]
     },
     "metadata": {},
     "output_type": "display_data"
    },
    {
     "data": {
      "text/html": [
       " View sweep at <a href='https://wandb.ai/viswa_ee/CS6910/sweeps/5hrjihf5' target=\"_blank\">https://wandb.ai/viswa_ee/CS6910/sweeps/5hrjihf5</a>"
      ],
      "text/plain": [
       "<IPython.core.display.HTML object>"
      ]
     },
     "metadata": {},
     "output_type": "display_data"
    },
    {
     "data": {
      "text/html": [
       " View run at <a href='https://wandb.ai/viswa_ee/CS6910/runs/xcrk1fqa' target=\"_blank\">https://wandb.ai/viswa_ee/CS6910/runs/xcrk1fqa</a>"
      ],
      "text/plain": [
       "<IPython.core.display.HTML object>"
      ]
     },
     "metadata": {},
     "output_type": "display_data"
    },
    {
     "data": {
      "text/html": [
       "Waiting for W&B process to finish... <strong style=\"color:green\">(success).</strong>"
      ],
      "text/plain": [
       "<IPython.core.display.HTML object>"
      ]
     },
     "metadata": {},
     "output_type": "display_data"
    },
    {
     "data": {
      "text/html": [
       "<style>\n",
       "    table.wandb td:nth-child(1) { padding: 0 10px; text-align: left ; width: auto;} td:nth-child(2) {text-align: left ; width: 100%}\n",
       "    .wandb-row { display: flex; flex-direction: row; flex-wrap: wrap; justify-content: flex-start; width: 100% }\n",
       "    .wandb-col { display: flex; flex-direction: column; flex-basis: 100%; flex: 1; padding: 10px; }\n",
       "    </style>\n",
       "<div class=\"wandb-row\"><div class=\"wandb-col\"><h3>Run history:</h3><br/><table class=\"wandb\"><tr><td>train_acc</td><td>▅▆▇▆▁▇██▇█</td></tr><tr><td>train_loss</td><td>▂▁▃▃▆▇▄█▅▄</td></tr><tr><td>val_acc</td><td>▅▆▇▆▁▇██▇█</td></tr><tr><td>val_loss</td><td>▄▃▁▃█▁▁▁▂▁</td></tr></table><br/></div><div class=\"wandb-col\"><h3>Run summary:</h3><br/><table class=\"wandb\"><tr><td>train_acc</td><td>0.8538</td></tr><tr><td>train_loss</td><td>0.49757</td></tr><tr><td>val_acc</td><td>0.8465</td></tr><tr><td>val_loss</td><td>0.44533</td></tr></table><br/></div></div>"
      ],
      "text/plain": [
       "<IPython.core.display.HTML object>"
      ]
     },
     "metadata": {},
     "output_type": "display_data"
    },
    {
     "data": {
      "text/html": [
       " View run <strong style=\"color:#cdcd00\">stilted-sweep-1</strong> at: <a href='https://wandb.ai/viswa_ee/CS6910/runs/xcrk1fqa' target=\"_blank\">https://wandb.ai/viswa_ee/CS6910/runs/xcrk1fqa</a><br/>Synced 4 W&B file(s), 1 media file(s), 0 artifact file(s) and 0 other file(s)"
      ],
      "text/plain": [
       "<IPython.core.display.HTML object>"
      ]
     },
     "metadata": {},
     "output_type": "display_data"
    },
    {
     "data": {
      "text/html": [
       "Find logs at: <code>.\\wandb\\run-20230317_224651-xcrk1fqa\\logs</code>"
      ],
      "text/plain": [
       "<IPython.core.display.HTML object>"
      ]
     },
     "metadata": {},
     "output_type": "display_data"
    },
    {
     "name": "stderr",
     "output_type": "stream",
     "text": [
      "\u001b[34m\u001b[1mwandb\u001b[0m: Agent Starting Run: t62dnstb with config:\n",
      "\u001b[34m\u001b[1mwandb\u001b[0m: \tact_func: tanh\n",
      "\u001b[34m\u001b[1mwandb\u001b[0m: \tbatch_size: 32\n",
      "\u001b[34m\u001b[1mwandb\u001b[0m: \tl2_coeff: 0\n",
      "\u001b[34m\u001b[1mwandb\u001b[0m: \tloss_func: cross_ent\n",
      "\u001b[34m\u001b[1mwandb\u001b[0m: \tlr: 0.0001\n",
      "\u001b[34m\u001b[1mwandb\u001b[0m: \tn_epochs: 10\n",
      "\u001b[34m\u001b[1mwandb\u001b[0m: \tn_hidden: 5\n",
      "\u001b[34m\u001b[1mwandb\u001b[0m: \tn_hidden_units: 128\n",
      "\u001b[34m\u001b[1mwandb\u001b[0m: \toptim_algo: nadam\n",
      "\u001b[34m\u001b[1mwandb\u001b[0m: \trelu_param: 0.01\n",
      "\u001b[34m\u001b[1mwandb\u001b[0m: \tweights_init: random\n",
      "Failed to detect the name of this notebook, you can set it manually with the WANDB_NOTEBOOK_NAME environment variable to enable code saving.\n"
     ]
    },
    {
     "data": {
      "text/html": [
       "Tracking run with wandb version 0.14.0"
      ],
      "text/plain": [
       "<IPython.core.display.HTML object>"
      ]
     },
     "metadata": {},
     "output_type": "display_data"
    },
    {
     "data": {
      "text/html": [
       "Run data is saved locally in <code>d:\\CS6901\\wandb\\run-20230317_224840-t62dnstb</code>"
      ],
      "text/plain": [
       "<IPython.core.display.HTML object>"
      ]
     },
     "metadata": {},
     "output_type": "display_data"
    },
    {
     "data": {
      "text/html": [
       "Syncing run <strong><a href='https://wandb.ai/viswa_ee/CS6910/runs/t62dnstb' target=\"_blank\">gentle-sweep-2</a></strong> to <a href='https://wandb.ai/viswa_ee/CS6910' target=\"_blank\">Weights & Biases</a> (<a href='https://wandb.me/run' target=\"_blank\">docs</a>)<br/>Sweep page: <a href='https://wandb.ai/viswa_ee/CS6910/sweeps/5hrjihf5' target=\"_blank\">https://wandb.ai/viswa_ee/CS6910/sweeps/5hrjihf5</a>"
      ],
      "text/plain": [
       "<IPython.core.display.HTML object>"
      ]
     },
     "metadata": {},
     "output_type": "display_data"
    },
    {
     "data": {
      "text/html": [
       " View project at <a href='https://wandb.ai/viswa_ee/CS6910' target=\"_blank\">https://wandb.ai/viswa_ee/CS6910</a>"
      ],
      "text/plain": [
       "<IPython.core.display.HTML object>"
      ]
     },
     "metadata": {},
     "output_type": "display_data"
    },
    {
     "data": {
      "text/html": [
       " View sweep at <a href='https://wandb.ai/viswa_ee/CS6910/sweeps/5hrjihf5' target=\"_blank\">https://wandb.ai/viswa_ee/CS6910/sweeps/5hrjihf5</a>"
      ],
      "text/plain": [
       "<IPython.core.display.HTML object>"
      ]
     },
     "metadata": {},
     "output_type": "display_data"
    },
    {
     "data": {
      "text/html": [
       " View run at <a href='https://wandb.ai/viswa_ee/CS6910/runs/t62dnstb' target=\"_blank\">https://wandb.ai/viswa_ee/CS6910/runs/t62dnstb</a>"
      ],
      "text/plain": [
       "<IPython.core.display.HTML object>"
      ]
     },
     "metadata": {},
     "output_type": "display_data"
    },
    {
     "data": {
      "text/html": [
       "Waiting for W&B process to finish... <strong style=\"color:green\">(success).</strong>"
      ],
      "text/plain": [
       "<IPython.core.display.HTML object>"
      ]
     },
     "metadata": {},
     "output_type": "display_data"
    },
    {
     "data": {
      "text/html": [
       "<style>\n",
       "    table.wandb td:nth-child(1) { padding: 0 10px; text-align: left ; width: auto;} td:nth-child(2) {text-align: left ; width: 100%}\n",
       "    .wandb-row { display: flex; flex-direction: row; flex-wrap: wrap; justify-content: flex-start; width: 100% }\n",
       "    .wandb-col { display: flex; flex-direction: column; flex-basis: 100%; flex: 1; padding: 10px; }\n",
       "    </style>\n",
       "<div class=\"wandb-row\"><div class=\"wandb-col\"><h3>Run history:</h3><br/><table class=\"wandb\"><tr><td>train_acc</td><td>▁▃▄▅▆▆▇▇██</td></tr><tr><td>train_loss</td><td>█▅▂▄▃▂▃▁▂▁</td></tr><tr><td>val_acc</td><td>▁▃▄▅▆▇▇███</td></tr><tr><td>val_loss</td><td>█▅▄▃▃▂▂▁▁▁</td></tr></table><br/></div><div class=\"wandb-col\"><h3>Run summary:</h3><br/><table class=\"wandb\"><tr><td>train_acc</td><td>0.49607</td></tr><tr><td>train_loss</td><td>2.0091</td></tr><tr><td>val_acc</td><td>0.475</td></tr><tr><td>val_loss</td><td>3.94171</td></tr></table><br/></div></div>"
      ],
      "text/plain": [
       "<IPython.core.display.HTML object>"
      ]
     },
     "metadata": {},
     "output_type": "display_data"
    },
    {
     "data": {
      "text/html": [
       " View run <strong style=\"color:#cdcd00\">gentle-sweep-2</strong> at: <a href='https://wandb.ai/viswa_ee/CS6910/runs/t62dnstb' target=\"_blank\">https://wandb.ai/viswa_ee/CS6910/runs/t62dnstb</a><br/>Synced 4 W&B file(s), 1 media file(s), 0 artifact file(s) and 0 other file(s)"
      ],
      "text/plain": [
       "<IPython.core.display.HTML object>"
      ]
     },
     "metadata": {},
     "output_type": "display_data"
    },
    {
     "data": {
      "text/html": [
       "Find logs at: <code>.\\wandb\\run-20230317_224840-t62dnstb\\logs</code>"
      ],
      "text/plain": [
       "<IPython.core.display.HTML object>"
      ]
     },
     "metadata": {},
     "output_type": "display_data"
    },
    {
     "name": "stderr",
     "output_type": "stream",
     "text": [
      "\u001b[34m\u001b[1mwandb\u001b[0m: Agent Starting Run: hek1wzia with config:\n",
      "\u001b[34m\u001b[1mwandb\u001b[0m: \tact_func: tanh\n",
      "\u001b[34m\u001b[1mwandb\u001b[0m: \tbatch_size: 64\n",
      "\u001b[34m\u001b[1mwandb\u001b[0m: \tl2_coeff: 0\n",
      "\u001b[34m\u001b[1mwandb\u001b[0m: \tloss_func: mse\n",
      "\u001b[34m\u001b[1mwandb\u001b[0m: \tlr: 0.001\n",
      "\u001b[34m\u001b[1mwandb\u001b[0m: \tn_epochs: 10\n",
      "\u001b[34m\u001b[1mwandb\u001b[0m: \tn_hidden: 5\n",
      "\u001b[34m\u001b[1mwandb\u001b[0m: \tn_hidden_units: 128\n",
      "\u001b[34m\u001b[1mwandb\u001b[0m: \toptim_algo: nag\n",
      "\u001b[34m\u001b[1mwandb\u001b[0m: \trelu_param: 0.1\n",
      "\u001b[34m\u001b[1mwandb\u001b[0m: \tweights_init: xavier_uniform\n",
      "Failed to detect the name of this notebook, you can set it manually with the WANDB_NOTEBOOK_NAME environment variable to enable code saving.\n"
     ]
    },
    {
     "data": {
      "text/html": [
       "Tracking run with wandb version 0.14.0"
      ],
      "text/plain": [
       "<IPython.core.display.HTML object>"
      ]
     },
     "metadata": {},
     "output_type": "display_data"
    },
    {
     "data": {
      "text/html": [
       "Run data is saved locally in <code>d:\\CS6901\\wandb\\run-20230317_225247-hek1wzia</code>"
      ],
      "text/plain": [
       "<IPython.core.display.HTML object>"
      ]
     },
     "metadata": {},
     "output_type": "display_data"
    },
    {
     "data": {
      "text/html": [
       "Syncing run <strong><a href='https://wandb.ai/viswa_ee/CS6910/runs/hek1wzia' target=\"_blank\">polar-sweep-3</a></strong> to <a href='https://wandb.ai/viswa_ee/CS6910' target=\"_blank\">Weights & Biases</a> (<a href='https://wandb.me/run' target=\"_blank\">docs</a>)<br/>Sweep page: <a href='https://wandb.ai/viswa_ee/CS6910/sweeps/5hrjihf5' target=\"_blank\">https://wandb.ai/viswa_ee/CS6910/sweeps/5hrjihf5</a>"
      ],
      "text/plain": [
       "<IPython.core.display.HTML object>"
      ]
     },
     "metadata": {},
     "output_type": "display_data"
    },
    {
     "data": {
      "text/html": [
       " View project at <a href='https://wandb.ai/viswa_ee/CS6910' target=\"_blank\">https://wandb.ai/viswa_ee/CS6910</a>"
      ],
      "text/plain": [
       "<IPython.core.display.HTML object>"
      ]
     },
     "metadata": {},
     "output_type": "display_data"
    },
    {
     "data": {
      "text/html": [
       " View sweep at <a href='https://wandb.ai/viswa_ee/CS6910/sweeps/5hrjihf5' target=\"_blank\">https://wandb.ai/viswa_ee/CS6910/sweeps/5hrjihf5</a>"
      ],
      "text/plain": [
       "<IPython.core.display.HTML object>"
      ]
     },
     "metadata": {},
     "output_type": "display_data"
    },
    {
     "data": {
      "text/html": [
       " View run at <a href='https://wandb.ai/viswa_ee/CS6910/runs/hek1wzia' target=\"_blank\">https://wandb.ai/viswa_ee/CS6910/runs/hek1wzia</a>"
      ],
      "text/plain": [
       "<IPython.core.display.HTML object>"
      ]
     },
     "metadata": {},
     "output_type": "display_data"
    },
    {
     "data": {
      "text/html": [
       "Waiting for W&B process to finish... <strong style=\"color:green\">(success).</strong>"
      ],
      "text/plain": [
       "<IPython.core.display.HTML object>"
      ]
     },
     "metadata": {},
     "output_type": "display_data"
    },
    {
     "data": {
      "text/html": [
       "<style>\n",
       "    table.wandb td:nth-child(1) { padding: 0 10px; text-align: left ; width: auto;} td:nth-child(2) {text-align: left ; width: 100%}\n",
       "    .wandb-row { display: flex; flex-direction: row; flex-wrap: wrap; justify-content: flex-start; width: 100% }\n",
       "    .wandb-col { display: flex; flex-direction: column; flex-basis: 100%; flex: 1; padding: 10px; }\n",
       "    </style>\n",
       "<div class=\"wandb-row\"><div class=\"wandb-col\"><h3>Run history:</h3><br/><table class=\"wandb\"><tr><td>train_acc</td><td>▁█▂▇▂▆▇███</td></tr><tr><td>train_loss</td><td>▅▁▄▇▃▄▂█▅▂</td></tr><tr><td>val_acc</td><td>▂█▂▆▁▆▇▆▇▇</td></tr><tr><td>val_loss</td><td>▆▄▅▇▆▃▁█▄▅</td></tr></table><br/></div><div class=\"wandb-col\"><h3>Run summary:</h3><br/><table class=\"wandb\"><tr><td>train_acc</td><td>0.08567</td></tr><tr><td>train_loss</td><td>-72.9421</td></tr><tr><td>val_acc</td><td>0.09217</td></tr><tr><td>val_loss</td><td>-72.469</td></tr></table><br/></div></div>"
      ],
      "text/plain": [
       "<IPython.core.display.HTML object>"
      ]
     },
     "metadata": {},
     "output_type": "display_data"
    },
    {
     "data": {
      "text/html": [
       " View run <strong style=\"color:#cdcd00\">polar-sweep-3</strong> at: <a href='https://wandb.ai/viswa_ee/CS6910/runs/hek1wzia' target=\"_blank\">https://wandb.ai/viswa_ee/CS6910/runs/hek1wzia</a><br/>Synced 4 W&B file(s), 1 media file(s), 0 artifact file(s) and 0 other file(s)"
      ],
      "text/plain": [
       "<IPython.core.display.HTML object>"
      ]
     },
     "metadata": {},
     "output_type": "display_data"
    },
    {
     "data": {
      "text/html": [
       "Find logs at: <code>.\\wandb\\run-20230317_225247-hek1wzia\\logs</code>"
      ],
      "text/plain": [
       "<IPython.core.display.HTML object>"
      ]
     },
     "metadata": {},
     "output_type": "display_data"
    },
    {
     "name": "stderr",
     "output_type": "stream",
     "text": [
      "\u001b[34m\u001b[1mwandb\u001b[0m: Sweep Agent: Waiting for job.\n",
      "\u001b[34m\u001b[1mwandb\u001b[0m: Job received.\n",
      "\u001b[34m\u001b[1mwandb\u001b[0m: Agent Starting Run: d4q6v8fj with config:\n",
      "\u001b[34m\u001b[1mwandb\u001b[0m: \tact_func: sigmoid\n",
      "\u001b[34m\u001b[1mwandb\u001b[0m: \tbatch_size: 16\n",
      "\u001b[34m\u001b[1mwandb\u001b[0m: \tl2_coeff: 0\n",
      "\u001b[34m\u001b[1mwandb\u001b[0m: \tloss_func: mse\n",
      "\u001b[34m\u001b[1mwandb\u001b[0m: \tlr: 0.0001\n",
      "\u001b[34m\u001b[1mwandb\u001b[0m: \tn_epochs: 10\n",
      "\u001b[34m\u001b[1mwandb\u001b[0m: \tn_hidden: 5\n",
      "\u001b[34m\u001b[1mwandb\u001b[0m: \tn_hidden_units: 128\n",
      "\u001b[34m\u001b[1mwandb\u001b[0m: \toptim_algo: sgdm\n",
      "\u001b[34m\u001b[1mwandb\u001b[0m: \trelu_param: 0.1\n",
      "\u001b[34m\u001b[1mwandb\u001b[0m: \tweights_init: random\n",
      "Failed to detect the name of this notebook, you can set it manually with the WANDB_NOTEBOOK_NAME environment variable to enable code saving.\n"
     ]
    },
    {
     "data": {
      "text/html": [
       "Tracking run with wandb version 0.14.0"
      ],
      "text/plain": [
       "<IPython.core.display.HTML object>"
      ]
     },
     "metadata": {},
     "output_type": "display_data"
    },
    {
     "data": {
      "text/html": [
       "Run data is saved locally in <code>d:\\CS6901\\wandb\\run-20230317_225518-d4q6v8fj</code>"
      ],
      "text/plain": [
       "<IPython.core.display.HTML object>"
      ]
     },
     "metadata": {},
     "output_type": "display_data"
    },
    {
     "data": {
      "text/html": [
       "Syncing run <strong><a href='https://wandb.ai/viswa_ee/CS6910/runs/d4q6v8fj' target=\"_blank\">golden-sweep-4</a></strong> to <a href='https://wandb.ai/viswa_ee/CS6910' target=\"_blank\">Weights & Biases</a> (<a href='https://wandb.me/run' target=\"_blank\">docs</a>)<br/>Sweep page: <a href='https://wandb.ai/viswa_ee/CS6910/sweeps/5hrjihf5' target=\"_blank\">https://wandb.ai/viswa_ee/CS6910/sweeps/5hrjihf5</a>"
      ],
      "text/plain": [
       "<IPython.core.display.HTML object>"
      ]
     },
     "metadata": {},
     "output_type": "display_data"
    },
    {
     "data": {
      "text/html": [
       " View project at <a href='https://wandb.ai/viswa_ee/CS6910' target=\"_blank\">https://wandb.ai/viswa_ee/CS6910</a>"
      ],
      "text/plain": [
       "<IPython.core.display.HTML object>"
      ]
     },
     "metadata": {},
     "output_type": "display_data"
    },
    {
     "data": {
      "text/html": [
       " View sweep at <a href='https://wandb.ai/viswa_ee/CS6910/sweeps/5hrjihf5' target=\"_blank\">https://wandb.ai/viswa_ee/CS6910/sweeps/5hrjihf5</a>"
      ],
      "text/plain": [
       "<IPython.core.display.HTML object>"
      ]
     },
     "metadata": {},
     "output_type": "display_data"
    },
    {
     "data": {
      "text/html": [
       " View run at <a href='https://wandb.ai/viswa_ee/CS6910/runs/d4q6v8fj' target=\"_blank\">https://wandb.ai/viswa_ee/CS6910/runs/d4q6v8fj</a>"
      ],
      "text/plain": [
       "<IPython.core.display.HTML object>"
      ]
     },
     "metadata": {},
     "output_type": "display_data"
    },
    {
     "data": {
      "text/html": [
       "Waiting for W&B process to finish... <strong style=\"color:green\">(success).</strong>"
      ],
      "text/plain": [
       "<IPython.core.display.HTML object>"
      ]
     },
     "metadata": {},
     "output_type": "display_data"
    },
    {
     "name": "stderr",
     "output_type": "stream",
     "text": [
      "\u001b[34m\u001b[1mwandb\u001b[0m: Network error (ConnectionError), entering retry loop.\n"
     ]
    },
    {
     "data": {
      "text/html": [
       "<style>\n",
       "    table.wandb td:nth-child(1) { padding: 0 10px; text-align: left ; width: auto;} td:nth-child(2) {text-align: left ; width: 100%}\n",
       "    .wandb-row { display: flex; flex-direction: row; flex-wrap: wrap; justify-content: flex-start; width: 100% }\n",
       "    .wandb-col { display: flex; flex-direction: column; flex-basis: 100%; flex: 1; padding: 10px; }\n",
       "    </style>\n",
       "<div class=\"wandb-row\"><div class=\"wandb-col\"><h3>Run history:</h3><br/><table class=\"wandb\"><tr><td>train_acc</td><td>▁▂▂▃▄▅▆▇▇█</td></tr><tr><td>train_loss</td><td>▁▇▇█▆▇▆▇█▆</td></tr><tr><td>val_acc</td><td>▁▂▃▄▄▅▆▇▇█</td></tr><tr><td>val_loss</td><td>▁▇▇███████</td></tr></table><br/></div><div class=\"wandb-col\"><h3>Run summary:</h3><br/><table class=\"wandb\"><tr><td>train_acc</td><td>0.2825</td></tr><tr><td>train_loss</td><td>-181.8052</td></tr><tr><td>val_acc</td><td>0.2735</td></tr><tr><td>val_loss</td><td>-151.63111</td></tr></table><br/></div></div>"
      ],
      "text/plain": [
       "<IPython.core.display.HTML object>"
      ]
     },
     "metadata": {},
     "output_type": "display_data"
    },
    {
     "data": {
      "text/html": [
       " View run <strong style=\"color:#cdcd00\">golden-sweep-4</strong> at: <a href='https://wandb.ai/viswa_ee/CS6910/runs/d4q6v8fj' target=\"_blank\">https://wandb.ai/viswa_ee/CS6910/runs/d4q6v8fj</a><br/>Synced 4 W&B file(s), 1 media file(s), 0 artifact file(s) and 0 other file(s)"
      ],
      "text/plain": [
       "<IPython.core.display.HTML object>"
      ]
     },
     "metadata": {},
     "output_type": "display_data"
    },
    {
     "data": {
      "text/html": [
       "Find logs at: <code>.\\wandb\\run-20230317_225518-d4q6v8fj\\logs</code>"
      ],
      "text/plain": [
       "<IPython.core.display.HTML object>"
      ]
     },
     "metadata": {},
     "output_type": "display_data"
    },
    {
     "name": "stderr",
     "output_type": "stream",
     "text": [
      "\u001b[34m\u001b[1mwandb\u001b[0m: Agent Starting Run: 42nubn62 with config:\n",
      "\u001b[34m\u001b[1mwandb\u001b[0m: \tact_func: relu\n",
      "\u001b[34m\u001b[1mwandb\u001b[0m: \tbatch_size: 16\n",
      "\u001b[34m\u001b[1mwandb\u001b[0m: \tl2_coeff: 0.5\n",
      "\u001b[34m\u001b[1mwandb\u001b[0m: \tloss_func: mse\n",
      "\u001b[34m\u001b[1mwandb\u001b[0m: \tlr: 0.001\n",
      "\u001b[34m\u001b[1mwandb\u001b[0m: \tn_epochs: 5\n",
      "\u001b[34m\u001b[1mwandb\u001b[0m: \tn_hidden: 5\n",
      "\u001b[34m\u001b[1mwandb\u001b[0m: \tn_hidden_units: 32\n",
      "\u001b[34m\u001b[1mwandb\u001b[0m: \toptim_algo: sgdm\n",
      "\u001b[34m\u001b[1mwandb\u001b[0m: \trelu_param: 0.01\n",
      "\u001b[34m\u001b[1mwandb\u001b[0m: \tweights_init: random\n",
      "Failed to detect the name of this notebook, you can set it manually with the WANDB_NOTEBOOK_NAME environment variable to enable code saving.\n"
     ]
    },
    {
     "data": {
      "text/html": [
       "Tracking run with wandb version 0.14.0"
      ],
      "text/plain": [
       "<IPython.core.display.HTML object>"
      ]
     },
     "metadata": {},
     "output_type": "display_data"
    },
    {
     "data": {
      "text/html": [
       "Run data is saved locally in <code>d:\\CS6901\\wandb\\run-20230317_230111-42nubn62</code>"
      ],
      "text/plain": [
       "<IPython.core.display.HTML object>"
      ]
     },
     "metadata": {},
     "output_type": "display_data"
    },
    {
     "data": {
      "text/html": [
       "Syncing run <strong><a href='https://wandb.ai/viswa_ee/CS6910/runs/42nubn62' target=\"_blank\">ruby-sweep-5</a></strong> to <a href='https://wandb.ai/viswa_ee/CS6910' target=\"_blank\">Weights & Biases</a> (<a href='https://wandb.me/run' target=\"_blank\">docs</a>)<br/>Sweep page: <a href='https://wandb.ai/viswa_ee/CS6910/sweeps/5hrjihf5' target=\"_blank\">https://wandb.ai/viswa_ee/CS6910/sweeps/5hrjihf5</a>"
      ],
      "text/plain": [
       "<IPython.core.display.HTML object>"
      ]
     },
     "metadata": {},
     "output_type": "display_data"
    },
    {
     "data": {
      "text/html": [
       " View project at <a href='https://wandb.ai/viswa_ee/CS6910' target=\"_blank\">https://wandb.ai/viswa_ee/CS6910</a>"
      ],
      "text/plain": [
       "<IPython.core.display.HTML object>"
      ]
     },
     "metadata": {},
     "output_type": "display_data"
    },
    {
     "data": {
      "text/html": [
       " View sweep at <a href='https://wandb.ai/viswa_ee/CS6910/sweeps/5hrjihf5' target=\"_blank\">https://wandb.ai/viswa_ee/CS6910/sweeps/5hrjihf5</a>"
      ],
      "text/plain": [
       "<IPython.core.display.HTML object>"
      ]
     },
     "metadata": {},
     "output_type": "display_data"
    },
    {
     "data": {
      "text/html": [
       " View run at <a href='https://wandb.ai/viswa_ee/CS6910/runs/42nubn62' target=\"_blank\">https://wandb.ai/viswa_ee/CS6910/runs/42nubn62</a>"
      ],
      "text/plain": [
       "<IPython.core.display.HTML object>"
      ]
     },
     "metadata": {},
     "output_type": "display_data"
    },
    {
     "data": {
      "text/html": [
       "Waiting for W&B process to finish... <strong style=\"color:green\">(success).</strong>"
      ],
      "text/plain": [
       "<IPython.core.display.HTML object>"
      ]
     },
     "metadata": {},
     "output_type": "display_data"
    },
    {
     "data": {
      "text/html": [
       "<style>\n",
       "    table.wandb td:nth-child(1) { padding: 0 10px; text-align: left ; width: auto;} td:nth-child(2) {text-align: left ; width: 100%}\n",
       "    .wandb-row { display: flex; flex-direction: row; flex-wrap: wrap; justify-content: flex-start; width: 100% }\n",
       "    .wandb-col { display: flex; flex-direction: column; flex-basis: 100%; flex: 1; padding: 10px; }\n",
       "    </style>\n",
       "<div class=\"wandb-row\"><div class=\"wandb-col\"><h3>Run history:</h3><br/><table class=\"wandb\"><tr><td>train_acc</td><td>▁▆▅██</td></tr><tr><td>train_loss</td><td>▁▅▃▇█</td></tr><tr><td>val_acc</td><td>▁▆▅▇█</td></tr><tr><td>val_loss</td><td>▁▅▆▇█</td></tr></table><br/></div><div class=\"wandb-col\"><h3>Run summary:</h3><br/><table class=\"wandb\"><tr><td>train_acc</td><td>0.55035</td></tr><tr><td>train_loss</td><td>-23.19866</td></tr><tr><td>val_acc</td><td>0.54817</td></tr><tr><td>val_loss</td><td>-507.74044</td></tr></table><br/></div></div>"
      ],
      "text/plain": [
       "<IPython.core.display.HTML object>"
      ]
     },
     "metadata": {},
     "output_type": "display_data"
    },
    {
     "data": {
      "text/html": [
       " View run <strong style=\"color:#cdcd00\">ruby-sweep-5</strong> at: <a href='https://wandb.ai/viswa_ee/CS6910/runs/42nubn62' target=\"_blank\">https://wandb.ai/viswa_ee/CS6910/runs/42nubn62</a><br/>Synced 4 W&B file(s), 1 media file(s), 0 artifact file(s) and 0 other file(s)"
      ],
      "text/plain": [
       "<IPython.core.display.HTML object>"
      ]
     },
     "metadata": {},
     "output_type": "display_data"
    },
    {
     "data": {
      "text/html": [
       "Find logs at: <code>.\\wandb\\run-20230317_230111-42nubn62\\logs</code>"
      ],
      "text/plain": [
       "<IPython.core.display.HTML object>"
      ]
     },
     "metadata": {},
     "output_type": "display_data"
    },
    {
     "name": "stderr",
     "output_type": "stream",
     "text": [
      "\u001b[34m\u001b[1mwandb\u001b[0m: Sweep Agent: Waiting for job.\n",
      "\u001b[34m\u001b[1mwandb\u001b[0m: Job received.\n",
      "\u001b[34m\u001b[1mwandb\u001b[0m: Agent Starting Run: 4w08kvb9 with config:\n",
      "\u001b[34m\u001b[1mwandb\u001b[0m: \tact_func: relu\n",
      "\u001b[34m\u001b[1mwandb\u001b[0m: \tbatch_size: 64\n",
      "\u001b[34m\u001b[1mwandb\u001b[0m: \tl2_coeff: 0.5\n",
      "\u001b[34m\u001b[1mwandb\u001b[0m: \tloss_func: mse\n",
      "\u001b[34m\u001b[1mwandb\u001b[0m: \tlr: 0.0001\n",
      "\u001b[34m\u001b[1mwandb\u001b[0m: \tn_epochs: 10\n",
      "\u001b[34m\u001b[1mwandb\u001b[0m: \tn_hidden: 5\n",
      "\u001b[34m\u001b[1mwandb\u001b[0m: \tn_hidden_units: 32\n",
      "\u001b[34m\u001b[1mwandb\u001b[0m: \toptim_algo: sgdm\n",
      "\u001b[34m\u001b[1mwandb\u001b[0m: \trelu_param: 0.001\n",
      "\u001b[34m\u001b[1mwandb\u001b[0m: \tweights_init: xavier_uniform\n",
      "Failed to detect the name of this notebook, you can set it manually with the WANDB_NOTEBOOK_NAME environment variable to enable code saving.\n"
     ]
    },
    {
     "data": {
      "text/html": [
       "Tracking run with wandb version 0.14.0"
      ],
      "text/plain": [
       "<IPython.core.display.HTML object>"
      ]
     },
     "metadata": {},
     "output_type": "display_data"
    },
    {
     "data": {
      "text/html": [
       "Run data is saved locally in <code>d:\\CS6901\\wandb\\run-20230317_230222-4w08kvb9</code>"
      ],
      "text/plain": [
       "<IPython.core.display.HTML object>"
      ]
     },
     "metadata": {},
     "output_type": "display_data"
    },
    {
     "data": {
      "text/html": [
       "Syncing run <strong><a href='https://wandb.ai/viswa_ee/CS6910/runs/4w08kvb9' target=\"_blank\">morning-sweep-6</a></strong> to <a href='https://wandb.ai/viswa_ee/CS6910' target=\"_blank\">Weights & Biases</a> (<a href='https://wandb.me/run' target=\"_blank\">docs</a>)<br/>Sweep page: <a href='https://wandb.ai/viswa_ee/CS6910/sweeps/5hrjihf5' target=\"_blank\">https://wandb.ai/viswa_ee/CS6910/sweeps/5hrjihf5</a>"
      ],
      "text/plain": [
       "<IPython.core.display.HTML object>"
      ]
     },
     "metadata": {},
     "output_type": "display_data"
    },
    {
     "data": {
      "text/html": [
       " View project at <a href='https://wandb.ai/viswa_ee/CS6910' target=\"_blank\">https://wandb.ai/viswa_ee/CS6910</a>"
      ],
      "text/plain": [
       "<IPython.core.display.HTML object>"
      ]
     },
     "metadata": {},
     "output_type": "display_data"
    },
    {
     "data": {
      "text/html": [
       " View sweep at <a href='https://wandb.ai/viswa_ee/CS6910/sweeps/5hrjihf5' target=\"_blank\">https://wandb.ai/viswa_ee/CS6910/sweeps/5hrjihf5</a>"
      ],
      "text/plain": [
       "<IPython.core.display.HTML object>"
      ]
     },
     "metadata": {},
     "output_type": "display_data"
    },
    {
     "data": {
      "text/html": [
       " View run at <a href='https://wandb.ai/viswa_ee/CS6910/runs/4w08kvb9' target=\"_blank\">https://wandb.ai/viswa_ee/CS6910/runs/4w08kvb9</a>"
      ],
      "text/plain": [
       "<IPython.core.display.HTML object>"
      ]
     },
     "metadata": {},
     "output_type": "display_data"
    },
    {
     "data": {
      "text/html": [
       "Waiting for W&B process to finish... <strong style=\"color:green\">(success).</strong>"
      ],
      "text/plain": [
       "<IPython.core.display.HTML object>"
      ]
     },
     "metadata": {},
     "output_type": "display_data"
    },
    {
     "data": {
      "text/html": [
       "<style>\n",
       "    table.wandb td:nth-child(1) { padding: 0 10px; text-align: left ; width: auto;} td:nth-child(2) {text-align: left ; width: 100%}\n",
       "    .wandb-row { display: flex; flex-direction: row; flex-wrap: wrap; justify-content: flex-start; width: 100% }\n",
       "    .wandb-col { display: flex; flex-direction: column; flex-basis: 100%; flex: 1; padding: 10px; }\n",
       "    </style>\n",
       "<div class=\"wandb-row\"><div class=\"wandb-col\"><h3>Run history:</h3><br/><table class=\"wandb\"><tr><td>train_acc</td><td>▁▂▂▂▃▄▅▆▇█</td></tr><tr><td>train_loss</td><td>▁▄▅▇▇██▇▆▇</td></tr><tr><td>val_acc</td><td>▁▂▂▃▃▄▅▆▇█</td></tr><tr><td>val_loss</td><td>▁▄▆▇▇███▇▇</td></tr></table><br/></div><div class=\"wandb-col\"><h3>Run summary:</h3><br/><table class=\"wandb\"><tr><td>train_acc</td><td>0.20676</td></tr><tr><td>train_loss</td><td>-57.98144</td></tr><tr><td>val_acc</td><td>0.21183</td></tr><tr><td>val_loss</td><td>-59.0002</td></tr></table><br/></div></div>"
      ],
      "text/plain": [
       "<IPython.core.display.HTML object>"
      ]
     },
     "metadata": {},
     "output_type": "display_data"
    },
    {
     "data": {
      "text/html": [
       " View run <strong style=\"color:#cdcd00\">morning-sweep-6</strong> at: <a href='https://wandb.ai/viswa_ee/CS6910/runs/4w08kvb9' target=\"_blank\">https://wandb.ai/viswa_ee/CS6910/runs/4w08kvb9</a><br/>Synced 4 W&B file(s), 1 media file(s), 0 artifact file(s) and 0 other file(s)"
      ],
      "text/plain": [
       "<IPython.core.display.HTML object>"
      ]
     },
     "metadata": {},
     "output_type": "display_data"
    },
    {
     "data": {
      "text/html": [
       "Find logs at: <code>.\\wandb\\run-20230317_230222-4w08kvb9\\logs</code>"
      ],
      "text/plain": [
       "<IPython.core.display.HTML object>"
      ]
     },
     "metadata": {},
     "output_type": "display_data"
    },
    {
     "name": "stderr",
     "output_type": "stream",
     "text": [
      "\u001b[34m\u001b[1mwandb\u001b[0m: Agent Starting Run: bsxztiqb with config:\n",
      "\u001b[34m\u001b[1mwandb\u001b[0m: \tact_func: identity\n",
      "\u001b[34m\u001b[1mwandb\u001b[0m: \tbatch_size: 32\n",
      "\u001b[34m\u001b[1mwandb\u001b[0m: \tl2_coeff: 0.5\n",
      "\u001b[34m\u001b[1mwandb\u001b[0m: \tloss_func: cross_ent\n",
      "\u001b[34m\u001b[1mwandb\u001b[0m: \tlr: 0.001\n",
      "\u001b[34m\u001b[1mwandb\u001b[0m: \tn_epochs: 5\n",
      "\u001b[34m\u001b[1mwandb\u001b[0m: \tn_hidden: 3\n",
      "\u001b[34m\u001b[1mwandb\u001b[0m: \tn_hidden_units: 32\n",
      "\u001b[34m\u001b[1mwandb\u001b[0m: \toptim_algo: rmsprop\n",
      "\u001b[34m\u001b[1mwandb\u001b[0m: \trelu_param: 0\n",
      "\u001b[34m\u001b[1mwandb\u001b[0m: \tweights_init: xavier_uniform\n",
      "Failed to detect the name of this notebook, you can set it manually with the WANDB_NOTEBOOK_NAME environment variable to enable code saving.\n"
     ]
    },
    {
     "data": {
      "text/html": [
       "Tracking run with wandb version 0.14.0"
      ],
      "text/plain": [
       "<IPython.core.display.HTML object>"
      ]
     },
     "metadata": {},
     "output_type": "display_data"
    },
    {
     "data": {
      "text/html": [
       "Run data is saved locally in <code>d:\\CS6901\\wandb\\run-20230317_230302-bsxztiqb</code>"
      ],
      "text/plain": [
       "<IPython.core.display.HTML object>"
      ]
     },
     "metadata": {},
     "output_type": "display_data"
    },
    {
     "data": {
      "text/html": [
       "Syncing run <strong><a href='https://wandb.ai/viswa_ee/CS6910/runs/bsxztiqb' target=\"_blank\">confused-sweep-7</a></strong> to <a href='https://wandb.ai/viswa_ee/CS6910' target=\"_blank\">Weights & Biases</a> (<a href='https://wandb.me/run' target=\"_blank\">docs</a>)<br/>Sweep page: <a href='https://wandb.ai/viswa_ee/CS6910/sweeps/5hrjihf5' target=\"_blank\">https://wandb.ai/viswa_ee/CS6910/sweeps/5hrjihf5</a>"
      ],
      "text/plain": [
       "<IPython.core.display.HTML object>"
      ]
     },
     "metadata": {},
     "output_type": "display_data"
    },
    {
     "data": {
      "text/html": [
       " View project at <a href='https://wandb.ai/viswa_ee/CS6910' target=\"_blank\">https://wandb.ai/viswa_ee/CS6910</a>"
      ],
      "text/plain": [
       "<IPython.core.display.HTML object>"
      ]
     },
     "metadata": {},
     "output_type": "display_data"
    },
    {
     "data": {
      "text/html": [
       " View sweep at <a href='https://wandb.ai/viswa_ee/CS6910/sweeps/5hrjihf5' target=\"_blank\">https://wandb.ai/viswa_ee/CS6910/sweeps/5hrjihf5</a>"
      ],
      "text/plain": [
       "<IPython.core.display.HTML object>"
      ]
     },
     "metadata": {},
     "output_type": "display_data"
    },
    {
     "data": {
      "text/html": [
       " View run at <a href='https://wandb.ai/viswa_ee/CS6910/runs/bsxztiqb' target=\"_blank\">https://wandb.ai/viswa_ee/CS6910/runs/bsxztiqb</a>"
      ],
      "text/plain": [
       "<IPython.core.display.HTML object>"
      ]
     },
     "metadata": {},
     "output_type": "display_data"
    },
    {
     "data": {
      "text/html": [
       "Waiting for W&B process to finish... <strong style=\"color:green\">(success).</strong>"
      ],
      "text/plain": [
       "<IPython.core.display.HTML object>"
      ]
     },
     "metadata": {},
     "output_type": "display_data"
    },
    {
     "data": {
      "text/html": [
       "<style>\n",
       "    table.wandb td:nth-child(1) { padding: 0 10px; text-align: left ; width: auto;} td:nth-child(2) {text-align: left ; width: 100%}\n",
       "    .wandb-row { display: flex; flex-direction: row; flex-wrap: wrap; justify-content: flex-start; width: 100% }\n",
       "    .wandb-col { display: flex; flex-direction: column; flex-basis: 100%; flex: 1; padding: 10px; }\n",
       "    </style>\n",
       "<div class=\"wandb-row\"><div class=\"wandb-col\"><h3>Run history:</h3><br/><table class=\"wandb\"><tr><td>train_acc</td><td>▆▁▆█▃</td></tr><tr><td>train_loss</td><td>▆▅█▅▁</td></tr><tr><td>val_acc</td><td>▆▁▆█▂</td></tr><tr><td>val_loss</td><td>▄█▅▁▄</td></tr></table><br/></div><div class=\"wandb-col\"><h3>Run summary:</h3><br/><table class=\"wandb\"><tr><td>train_acc</td><td>0.80843</td></tr><tr><td>train_loss</td><td>0.57699</td></tr><tr><td>val_acc</td><td>0.802</td></tr><tr><td>val_loss</td><td>0.53864</td></tr></table><br/></div></div>"
      ],
      "text/plain": [
       "<IPython.core.display.HTML object>"
      ]
     },
     "metadata": {},
     "output_type": "display_data"
    },
    {
     "data": {
      "text/html": [
       " View run <strong style=\"color:#cdcd00\">confused-sweep-7</strong> at: <a href='https://wandb.ai/viswa_ee/CS6910/runs/bsxztiqb' target=\"_blank\">https://wandb.ai/viswa_ee/CS6910/runs/bsxztiqb</a><br/>Synced 4 W&B file(s), 1 media file(s), 0 artifact file(s) and 0 other file(s)"
      ],
      "text/plain": [
       "<IPython.core.display.HTML object>"
      ]
     },
     "metadata": {},
     "output_type": "display_data"
    },
    {
     "data": {
      "text/html": [
       "Find logs at: <code>.\\wandb\\run-20230317_230302-bsxztiqb\\logs</code>"
      ],
      "text/plain": [
       "<IPython.core.display.HTML object>"
      ]
     },
     "metadata": {},
     "output_type": "display_data"
    },
    {
     "name": "stderr",
     "output_type": "stream",
     "text": [
      "\u001b[34m\u001b[1mwandb\u001b[0m: Agent Starting Run: b59na5c9 with config:\n",
      "\u001b[34m\u001b[1mwandb\u001b[0m: \tact_func: tanh\n",
      "\u001b[34m\u001b[1mwandb\u001b[0m: \tbatch_size: 32\n",
      "\u001b[34m\u001b[1mwandb\u001b[0m: \tl2_coeff: 0\n",
      "\u001b[34m\u001b[1mwandb\u001b[0m: \tloss_func: mse\n",
      "\u001b[34m\u001b[1mwandb\u001b[0m: \tlr: 0.0001\n",
      "\u001b[34m\u001b[1mwandb\u001b[0m: \tn_epochs: 10\n",
      "\u001b[34m\u001b[1mwandb\u001b[0m: \tn_hidden: 5\n",
      "\u001b[34m\u001b[1mwandb\u001b[0m: \tn_hidden_units: 128\n",
      "\u001b[34m\u001b[1mwandb\u001b[0m: \toptim_algo: nag\n",
      "\u001b[34m\u001b[1mwandb\u001b[0m: \trelu_param: 0.01\n",
      "\u001b[34m\u001b[1mwandb\u001b[0m: \tweights_init: random\n",
      "Failed to detect the name of this notebook, you can set it manually with the WANDB_NOTEBOOK_NAME environment variable to enable code saving.\n"
     ]
    },
    {
     "data": {
      "text/html": [
       "Tracking run with wandb version 0.14.0"
      ],
      "text/plain": [
       "<IPython.core.display.HTML object>"
      ]
     },
     "metadata": {},
     "output_type": "display_data"
    },
    {
     "data": {
      "text/html": [
       "Run data is saved locally in <code>d:\\CS6901\\wandb\\run-20230317_230332-b59na5c9</code>"
      ],
      "text/plain": [
       "<IPython.core.display.HTML object>"
      ]
     },
     "metadata": {},
     "output_type": "display_data"
    },
    {
     "data": {
      "text/html": [
       "Syncing run <strong><a href='https://wandb.ai/viswa_ee/CS6910/runs/b59na5c9' target=\"_blank\">treasured-sweep-8</a></strong> to <a href='https://wandb.ai/viswa_ee/CS6910' target=\"_blank\">Weights & Biases</a> (<a href='https://wandb.me/run' target=\"_blank\">docs</a>)<br/>Sweep page: <a href='https://wandb.ai/viswa_ee/CS6910/sweeps/5hrjihf5' target=\"_blank\">https://wandb.ai/viswa_ee/CS6910/sweeps/5hrjihf5</a>"
      ],
      "text/plain": [
       "<IPython.core.display.HTML object>"
      ]
     },
     "metadata": {},
     "output_type": "display_data"
    },
    {
     "data": {
      "text/html": [
       " View project at <a href='https://wandb.ai/viswa_ee/CS6910' target=\"_blank\">https://wandb.ai/viswa_ee/CS6910</a>"
      ],
      "text/plain": [
       "<IPython.core.display.HTML object>"
      ]
     },
     "metadata": {},
     "output_type": "display_data"
    },
    {
     "data": {
      "text/html": [
       " View sweep at <a href='https://wandb.ai/viswa_ee/CS6910/sweeps/5hrjihf5' target=\"_blank\">https://wandb.ai/viswa_ee/CS6910/sweeps/5hrjihf5</a>"
      ],
      "text/plain": [
       "<IPython.core.display.HTML object>"
      ]
     },
     "metadata": {},
     "output_type": "display_data"
    },
    {
     "data": {
      "text/html": [
       " View run at <a href='https://wandb.ai/viswa_ee/CS6910/runs/b59na5c9' target=\"_blank\">https://wandb.ai/viswa_ee/CS6910/runs/b59na5c9</a>"
      ],
      "text/plain": [
       "<IPython.core.display.HTML object>"
      ]
     },
     "metadata": {},
     "output_type": "display_data"
    },
    {
     "data": {
      "text/html": [
       "Waiting for W&B process to finish... <strong style=\"color:green\">(success).</strong>"
      ],
      "text/plain": [
       "<IPython.core.display.HTML object>"
      ]
     },
     "metadata": {},
     "output_type": "display_data"
    },
    {
     "data": {
      "text/html": [
       "<style>\n",
       "    table.wandb td:nth-child(1) { padding: 0 10px; text-align: left ; width: auto;} td:nth-child(2) {text-align: left ; width: 100%}\n",
       "    .wandb-row { display: flex; flex-direction: row; flex-wrap: wrap; justify-content: flex-start; width: 100% }\n",
       "    .wandb-col { display: flex; flex-direction: column; flex-basis: 100%; flex: 1; padding: 10px; }\n",
       "    </style>\n",
       "<div class=\"wandb-row\"><div class=\"wandb-col\"><h3>Run history:</h3><br/><table class=\"wandb\"><tr><td>train_acc</td><td>▄█▃▁▁▆▆▁▆▅</td></tr><tr><td>train_loss</td><td>▁▄▃▅▅▃█▄▃▅</td></tr><tr><td>val_acc</td><td>▃▄▅▄█▃▄▁▆▅</td></tr><tr><td>val_loss</td><td>▅▅▅██▃▇▇▅▁</td></tr></table><br/></div><div class=\"wandb-col\"><h3>Run summary:</h3><br/><table class=\"wandb\"><tr><td>train_acc</td><td>0.10433</td></tr><tr><td>train_loss</td><td>-4861.71267</td></tr><tr><td>val_acc</td><td>0.10117</td></tr><tr><td>val_loss</td><td>-5202.58429</td></tr></table><br/></div></div>"
      ],
      "text/plain": [
       "<IPython.core.display.HTML object>"
      ]
     },
     "metadata": {},
     "output_type": "display_data"
    },
    {
     "data": {
      "text/html": [
       " View run <strong style=\"color:#cdcd00\">treasured-sweep-8</strong> at: <a href='https://wandb.ai/viswa_ee/CS6910/runs/b59na5c9' target=\"_blank\">https://wandb.ai/viswa_ee/CS6910/runs/b59na5c9</a><br/>Synced 4 W&B file(s), 1 media file(s), 0 artifact file(s) and 0 other file(s)"
      ],
      "text/plain": [
       "<IPython.core.display.HTML object>"
      ]
     },
     "metadata": {},
     "output_type": "display_data"
    },
    {
     "data": {
      "text/html": [
       "Find logs at: <code>.\\wandb\\run-20230317_230332-b59na5c9\\logs</code>"
      ],
      "text/plain": [
       "<IPython.core.display.HTML object>"
      ]
     },
     "metadata": {},
     "output_type": "display_data"
    },
    {
     "name": "stderr",
     "output_type": "stream",
     "text": [
      "\u001b[34m\u001b[1mwandb\u001b[0m: Agent Starting Run: d08zs73e with config:\n",
      "\u001b[34m\u001b[1mwandb\u001b[0m: \tact_func: relu\n",
      "\u001b[34m\u001b[1mwandb\u001b[0m: \tbatch_size: 32\n",
      "\u001b[34m\u001b[1mwandb\u001b[0m: \tl2_coeff: 0\n",
      "\u001b[34m\u001b[1mwandb\u001b[0m: \tloss_func: mse\n",
      "\u001b[34m\u001b[1mwandb\u001b[0m: \tlr: 0.0001\n",
      "\u001b[34m\u001b[1mwandb\u001b[0m: \tn_epochs: 10\n",
      "\u001b[34m\u001b[1mwandb\u001b[0m: \tn_hidden: 4\n",
      "\u001b[34m\u001b[1mwandb\u001b[0m: \tn_hidden_units: 128\n",
      "\u001b[34m\u001b[1mwandb\u001b[0m: \toptim_algo: sgd\n",
      "\u001b[34m\u001b[1mwandb\u001b[0m: \trelu_param: 0\n",
      "\u001b[34m\u001b[1mwandb\u001b[0m: \tweights_init: xavier_uniform\n",
      "Failed to detect the name of this notebook, you can set it manually with the WANDB_NOTEBOOK_NAME environment variable to enable code saving.\n"
     ]
    },
    {
     "data": {
      "text/html": [
       "Tracking run with wandb version 0.14.0"
      ],
      "text/plain": [
       "<IPython.core.display.HTML object>"
      ]
     },
     "metadata": {},
     "output_type": "display_data"
    },
    {
     "data": {
      "text/html": [
       "Run data is saved locally in <code>d:\\CS6901\\wandb\\run-20230317_230720-d08zs73e</code>"
      ],
      "text/plain": [
       "<IPython.core.display.HTML object>"
      ]
     },
     "metadata": {},
     "output_type": "display_data"
    },
    {
     "data": {
      "text/html": [
       "Syncing run <strong><a href='https://wandb.ai/viswa_ee/CS6910/runs/d08zs73e' target=\"_blank\">sandy-sweep-9</a></strong> to <a href='https://wandb.ai/viswa_ee/CS6910' target=\"_blank\">Weights & Biases</a> (<a href='https://wandb.me/run' target=\"_blank\">docs</a>)<br/>Sweep page: <a href='https://wandb.ai/viswa_ee/CS6910/sweeps/5hrjihf5' target=\"_blank\">https://wandb.ai/viswa_ee/CS6910/sweeps/5hrjihf5</a>"
      ],
      "text/plain": [
       "<IPython.core.display.HTML object>"
      ]
     },
     "metadata": {},
     "output_type": "display_data"
    },
    {
     "data": {
      "text/html": [
       " View project at <a href='https://wandb.ai/viswa_ee/CS6910' target=\"_blank\">https://wandb.ai/viswa_ee/CS6910</a>"
      ],
      "text/plain": [
       "<IPython.core.display.HTML object>"
      ]
     },
     "metadata": {},
     "output_type": "display_data"
    },
    {
     "data": {
      "text/html": [
       " View sweep at <a href='https://wandb.ai/viswa_ee/CS6910/sweeps/5hrjihf5' target=\"_blank\">https://wandb.ai/viswa_ee/CS6910/sweeps/5hrjihf5</a>"
      ],
      "text/plain": [
       "<IPython.core.display.HTML object>"
      ]
     },
     "metadata": {},
     "output_type": "display_data"
    },
    {
     "data": {
      "text/html": [
       " View run at <a href='https://wandb.ai/viswa_ee/CS6910/runs/d08zs73e' target=\"_blank\">https://wandb.ai/viswa_ee/CS6910/runs/d08zs73e</a>"
      ],
      "text/plain": [
       "<IPython.core.display.HTML object>"
      ]
     },
     "metadata": {},
     "output_type": "display_data"
    },
    {
     "data": {
      "text/html": [
       "Waiting for W&B process to finish... <strong style=\"color:green\">(success).</strong>"
      ],
      "text/plain": [
       "<IPython.core.display.HTML object>"
      ]
     },
     "metadata": {},
     "output_type": "display_data"
    },
    {
     "data": {
      "text/html": [
       "<style>\n",
       "    table.wandb td:nth-child(1) { padding: 0 10px; text-align: left ; width: auto;} td:nth-child(2) {text-align: left ; width: 100%}\n",
       "    .wandb-row { display: flex; flex-direction: row; flex-wrap: wrap; justify-content: flex-start; width: 100% }\n",
       "    .wandb-col { display: flex; flex-direction: column; flex-basis: 100%; flex: 1; padding: 10px; }\n",
       "    </style>\n",
       "<div class=\"wandb-row\"><div class=\"wandb-col\"><h3>Run history:</h3><br/><table class=\"wandb\"><tr><td>train_acc</td><td>▁▂▄▅▆▇▇▇██</td></tr><tr><td>train_loss</td><td>████▇▇▇▆▄▁</td></tr><tr><td>val_acc</td><td>▁▂▄▅▆▇▇▇██</td></tr><tr><td>val_loss</td><td>█████▇▆▅▄▁</td></tr></table><br/></div><div class=\"wandb-col\"><h3>Run summary:</h3><br/><table class=\"wandb\"><tr><td>train_acc</td><td>0.52452</td></tr><tr><td>train_loss</td><td>-69.80124</td></tr><tr><td>val_acc</td><td>0.52167</td></tr><tr><td>val_loss</td><td>-69.09015</td></tr></table><br/></div></div>"
      ],
      "text/plain": [
       "<IPython.core.display.HTML object>"
      ]
     },
     "metadata": {},
     "output_type": "display_data"
    },
    {
     "data": {
      "text/html": [
       " View run <strong style=\"color:#cdcd00\">sandy-sweep-9</strong> at: <a href='https://wandb.ai/viswa_ee/CS6910/runs/d08zs73e' target=\"_blank\">https://wandb.ai/viswa_ee/CS6910/runs/d08zs73e</a><br/>Synced 4 W&B file(s), 1 media file(s), 0 artifact file(s) and 0 other file(s)"
      ],
      "text/plain": [
       "<IPython.core.display.HTML object>"
      ]
     },
     "metadata": {},
     "output_type": "display_data"
    },
    {
     "data": {
      "text/html": [
       "Find logs at: <code>.\\wandb\\run-20230317_230720-d08zs73e\\logs</code>"
      ],
      "text/plain": [
       "<IPython.core.display.HTML object>"
      ]
     },
     "metadata": {},
     "output_type": "display_data"
    },
    {
     "name": "stderr",
     "output_type": "stream",
     "text": [
      "\u001b[34m\u001b[1mwandb\u001b[0m: Agent Starting Run: 1q971row with config:\n",
      "\u001b[34m\u001b[1mwandb\u001b[0m: \tact_func: sigmoid\n",
      "\u001b[34m\u001b[1mwandb\u001b[0m: \tbatch_size: 64\n",
      "\u001b[34m\u001b[1mwandb\u001b[0m: \tl2_coeff: 0.0005\n",
      "\u001b[34m\u001b[1mwandb\u001b[0m: \tloss_func: cross_ent\n",
      "\u001b[34m\u001b[1mwandb\u001b[0m: \tlr: 0.001\n",
      "\u001b[34m\u001b[1mwandb\u001b[0m: \tn_epochs: 5\n",
      "\u001b[34m\u001b[1mwandb\u001b[0m: \tn_hidden: 3\n",
      "\u001b[34m\u001b[1mwandb\u001b[0m: \tn_hidden_units: 32\n",
      "\u001b[34m\u001b[1mwandb\u001b[0m: \toptim_algo: sgd\n",
      "\u001b[34m\u001b[1mwandb\u001b[0m: \trelu_param: 0.001\n",
      "\u001b[34m\u001b[1mwandb\u001b[0m: \tweights_init: random\n",
      "Failed to detect the name of this notebook, you can set it manually with the WANDB_NOTEBOOK_NAME environment variable to enable code saving.\n"
     ]
    },
    {
     "data": {
      "text/html": [
       "Tracking run with wandb version 0.14.0"
      ],
      "text/plain": [
       "<IPython.core.display.HTML object>"
      ]
     },
     "metadata": {},
     "output_type": "display_data"
    },
    {
     "data": {
      "text/html": [
       "Run data is saved locally in <code>d:\\CS6901\\wandb\\run-20230317_230941-1q971row</code>"
      ],
      "text/plain": [
       "<IPython.core.display.HTML object>"
      ]
     },
     "metadata": {},
     "output_type": "display_data"
    },
    {
     "data": {
      "text/html": [
       "Syncing run <strong><a href='https://wandb.ai/viswa_ee/CS6910/runs/1q971row' target=\"_blank\">pleasant-sweep-10</a></strong> to <a href='https://wandb.ai/viswa_ee/CS6910' target=\"_blank\">Weights & Biases</a> (<a href='https://wandb.me/run' target=\"_blank\">docs</a>)<br/>Sweep page: <a href='https://wandb.ai/viswa_ee/CS6910/sweeps/5hrjihf5' target=\"_blank\">https://wandb.ai/viswa_ee/CS6910/sweeps/5hrjihf5</a>"
      ],
      "text/plain": [
       "<IPython.core.display.HTML object>"
      ]
     },
     "metadata": {},
     "output_type": "display_data"
    },
    {
     "data": {
      "text/html": [
       " View project at <a href='https://wandb.ai/viswa_ee/CS6910' target=\"_blank\">https://wandb.ai/viswa_ee/CS6910</a>"
      ],
      "text/plain": [
       "<IPython.core.display.HTML object>"
      ]
     },
     "metadata": {},
     "output_type": "display_data"
    },
    {
     "data": {
      "text/html": [
       " View sweep at <a href='https://wandb.ai/viswa_ee/CS6910/sweeps/5hrjihf5' target=\"_blank\">https://wandb.ai/viswa_ee/CS6910/sweeps/5hrjihf5</a>"
      ],
      "text/plain": [
       "<IPython.core.display.HTML object>"
      ]
     },
     "metadata": {},
     "output_type": "display_data"
    },
    {
     "data": {
      "text/html": [
       " View run at <a href='https://wandb.ai/viswa_ee/CS6910/runs/1q971row' target=\"_blank\">https://wandb.ai/viswa_ee/CS6910/runs/1q971row</a>"
      ],
      "text/plain": [
       "<IPython.core.display.HTML object>"
      ]
     },
     "metadata": {},
     "output_type": "display_data"
    },
    {
     "data": {
      "text/html": [
       "Waiting for W&B process to finish... <strong style=\"color:green\">(success).</strong>"
      ],
      "text/plain": [
       "<IPython.core.display.HTML object>"
      ]
     },
     "metadata": {},
     "output_type": "display_data"
    },
    {
     "data": {
      "text/html": [
       "<style>\n",
       "    table.wandb td:nth-child(1) { padding: 0 10px; text-align: left ; width: auto;} td:nth-child(2) {text-align: left ; width: 100%}\n",
       "    .wandb-row { display: flex; flex-direction: row; flex-wrap: wrap; justify-content: flex-start; width: 100% }\n",
       "    .wandb-col { display: flex; flex-direction: column; flex-basis: 100%; flex: 1; padding: 10px; }\n",
       "    </style>\n",
       "<div class=\"wandb-row\"><div class=\"wandb-col\"><h3>Run history:</h3><br/><table class=\"wandb\"><tr><td>train_acc</td><td>▁▄▆▇█</td></tr><tr><td>train_loss</td><td>█▆▄▁▁</td></tr><tr><td>val_acc</td><td>▁▄▆▇█</td></tr><tr><td>val_loss</td><td>█▆▄▂▁</td></tr></table><br/></div><div class=\"wandb-col\"><h3>Run summary:</h3><br/><table class=\"wandb\"><tr><td>train_acc</td><td>0.33276</td></tr><tr><td>train_loss</td><td>1.98202</td></tr><tr><td>val_acc</td><td>0.32983</td></tr><tr><td>val_loss</td><td>1.91704</td></tr></table><br/></div></div>"
      ],
      "text/plain": [
       "<IPython.core.display.HTML object>"
      ]
     },
     "metadata": {},
     "output_type": "display_data"
    },
    {
     "data": {
      "text/html": [
       " View run <strong style=\"color:#cdcd00\">pleasant-sweep-10</strong> at: <a href='https://wandb.ai/viswa_ee/CS6910/runs/1q971row' target=\"_blank\">https://wandb.ai/viswa_ee/CS6910/runs/1q971row</a><br/>Synced 4 W&B file(s), 1 media file(s), 0 artifact file(s) and 0 other file(s)"
      ],
      "text/plain": [
       "<IPython.core.display.HTML object>"
      ]
     },
     "metadata": {},
     "output_type": "display_data"
    },
    {
     "data": {
      "text/html": [
       "Find logs at: <code>.\\wandb\\run-20230317_230941-1q971row\\logs</code>"
      ],
      "text/plain": [
       "<IPython.core.display.HTML object>"
      ]
     },
     "metadata": {},
     "output_type": "display_data"
    },
    {
     "name": "stderr",
     "output_type": "stream",
     "text": [
      "\u001b[34m\u001b[1mwandb\u001b[0m: Agent Starting Run: g5h22lzr with config:\n",
      "\u001b[34m\u001b[1mwandb\u001b[0m: \tact_func: tanh\n",
      "\u001b[34m\u001b[1mwandb\u001b[0m: \tbatch_size: 16\n",
      "\u001b[34m\u001b[1mwandb\u001b[0m: \tl2_coeff: 0\n",
      "\u001b[34m\u001b[1mwandb\u001b[0m: \tloss_func: mse\n",
      "\u001b[34m\u001b[1mwandb\u001b[0m: \tlr: 0.0001\n",
      "\u001b[34m\u001b[1mwandb\u001b[0m: \tn_epochs: 10\n",
      "\u001b[34m\u001b[1mwandb\u001b[0m: \tn_hidden: 5\n",
      "\u001b[34m\u001b[1mwandb\u001b[0m: \tn_hidden_units: 64\n",
      "\u001b[34m\u001b[1mwandb\u001b[0m: \toptim_algo: rmsprop\n",
      "\u001b[34m\u001b[1mwandb\u001b[0m: \trelu_param: 0.1\n",
      "\u001b[34m\u001b[1mwandb\u001b[0m: \tweights_init: xavier_uniform\n",
      "Failed to detect the name of this notebook, you can set it manually with the WANDB_NOTEBOOK_NAME environment variable to enable code saving.\n"
     ]
    },
    {
     "data": {
      "text/html": [
       "Tracking run with wandb version 0.14.0"
      ],
      "text/plain": [
       "<IPython.core.display.HTML object>"
      ]
     },
     "metadata": {},
     "output_type": "display_data"
    },
    {
     "data": {
      "text/html": [
       "Run data is saved locally in <code>d:\\CS6901\\wandb\\run-20230317_231005-g5h22lzr</code>"
      ],
      "text/plain": [
       "<IPython.core.display.HTML object>"
      ]
     },
     "metadata": {},
     "output_type": "display_data"
    },
    {
     "data": {
      "text/html": [
       "Syncing run <strong><a href='https://wandb.ai/viswa_ee/CS6910/runs/g5h22lzr' target=\"_blank\">snowy-sweep-11</a></strong> to <a href='https://wandb.ai/viswa_ee/CS6910' target=\"_blank\">Weights & Biases</a> (<a href='https://wandb.me/run' target=\"_blank\">docs</a>)<br/>Sweep page: <a href='https://wandb.ai/viswa_ee/CS6910/sweeps/5hrjihf5' target=\"_blank\">https://wandb.ai/viswa_ee/CS6910/sweeps/5hrjihf5</a>"
      ],
      "text/plain": [
       "<IPython.core.display.HTML object>"
      ]
     },
     "metadata": {},
     "output_type": "display_data"
    },
    {
     "data": {
      "text/html": [
       " View project at <a href='https://wandb.ai/viswa_ee/CS6910' target=\"_blank\">https://wandb.ai/viswa_ee/CS6910</a>"
      ],
      "text/plain": [
       "<IPython.core.display.HTML object>"
      ]
     },
     "metadata": {},
     "output_type": "display_data"
    },
    {
     "data": {
      "text/html": [
       " View sweep at <a href='https://wandb.ai/viswa_ee/CS6910/sweeps/5hrjihf5' target=\"_blank\">https://wandb.ai/viswa_ee/CS6910/sweeps/5hrjihf5</a>"
      ],
      "text/plain": [
       "<IPython.core.display.HTML object>"
      ]
     },
     "metadata": {},
     "output_type": "display_data"
    },
    {
     "data": {
      "text/html": [
       " View run at <a href='https://wandb.ai/viswa_ee/CS6910/runs/g5h22lzr' target=\"_blank\">https://wandb.ai/viswa_ee/CS6910/runs/g5h22lzr</a>"
      ],
      "text/plain": [
       "<IPython.core.display.HTML object>"
      ]
     },
     "metadata": {},
     "output_type": "display_data"
    },
    {
     "data": {
      "text/html": [
       "Waiting for W&B process to finish... <strong style=\"color:green\">(success).</strong>"
      ],
      "text/plain": [
       "<IPython.core.display.HTML object>"
      ]
     },
     "metadata": {},
     "output_type": "display_data"
    },
    {
     "data": {
      "text/html": [
       "<style>\n",
       "    table.wandb td:nth-child(1) { padding: 0 10px; text-align: left ; width: auto;} td:nth-child(2) {text-align: left ; width: 100%}\n",
       "    .wandb-row { display: flex; flex-direction: row; flex-wrap: wrap; justify-content: flex-start; width: 100% }\n",
       "    .wandb-col { display: flex; flex-direction: column; flex-basis: 100%; flex: 1; padding: 10px; }\n",
       "    </style>\n",
       "<div class=\"wandb-row\"><div class=\"wandb-col\"><h3>Run history:</h3><br/><table class=\"wandb\"><tr><td>train_acc</td><td>▁▂▄▅▆▆▇▇▇█</td></tr><tr><td>train_loss</td><td>█▇▅▅▄▄▁▁▃▃</td></tr><tr><td>val_acc</td><td>▁▁▄▆▇▆▇▇▇█</td></tr><tr><td>val_loss</td><td>█▆▅▅▄▃▃▂▂▁</td></tr></table><br/></div><div class=\"wandb-col\"><h3>Run summary:</h3><br/><table class=\"wandb\"><tr><td>train_acc</td><td>0.8978</td></tr><tr><td>train_loss</td><td>-643.98923</td></tr><tr><td>val_acc</td><td>0.881</td></tr><tr><td>val_loss</td><td>-737.39656</td></tr></table><br/></div></div>"
      ],
      "text/plain": [
       "<IPython.core.display.HTML object>"
      ]
     },
     "metadata": {},
     "output_type": "display_data"
    },
    {
     "data": {
      "text/html": [
       " View run <strong style=\"color:#cdcd00\">snowy-sweep-11</strong> at: <a href='https://wandb.ai/viswa_ee/CS6910/runs/g5h22lzr' target=\"_blank\">https://wandb.ai/viswa_ee/CS6910/runs/g5h22lzr</a><br/>Synced 4 W&B file(s), 1 media file(s), 0 artifact file(s) and 0 other file(s)"
      ],
      "text/plain": [
       "<IPython.core.display.HTML object>"
      ]
     },
     "metadata": {},
     "output_type": "display_data"
    },
    {
     "data": {
      "text/html": [
       "Find logs at: <code>.\\wandb\\run-20230317_231005-g5h22lzr\\logs</code>"
      ],
      "text/plain": [
       "<IPython.core.display.HTML object>"
      ]
     },
     "metadata": {},
     "output_type": "display_data"
    },
    {
     "name": "stderr",
     "output_type": "stream",
     "text": [
      "\u001b[34m\u001b[1mwandb\u001b[0m: Sweep Agent: Waiting for job.\n",
      "\u001b[34m\u001b[1mwandb\u001b[0m: Job received.\n",
      "\u001b[34m\u001b[1mwandb\u001b[0m: Agent Starting Run: jwglf2lu with config:\n",
      "\u001b[34m\u001b[1mwandb\u001b[0m: \tact_func: relu\n",
      "\u001b[34m\u001b[1mwandb\u001b[0m: \tbatch_size: 32\n",
      "\u001b[34m\u001b[1mwandb\u001b[0m: \tl2_coeff: 0.5\n",
      "\u001b[34m\u001b[1mwandb\u001b[0m: \tloss_func: cross_ent\n",
      "\u001b[34m\u001b[1mwandb\u001b[0m: \tlr: 0.0001\n",
      "\u001b[34m\u001b[1mwandb\u001b[0m: \tn_epochs: 10\n",
      "\u001b[34m\u001b[1mwandb\u001b[0m: \tn_hidden: 4\n",
      "\u001b[34m\u001b[1mwandb\u001b[0m: \tn_hidden_units: 64\n",
      "\u001b[34m\u001b[1mwandb\u001b[0m: \toptim_algo: adam\n",
      "\u001b[34m\u001b[1mwandb\u001b[0m: \trelu_param: 0\n",
      "\u001b[34m\u001b[1mwandb\u001b[0m: \tweights_init: random\n",
      "Failed to detect the name of this notebook, you can set it manually with the WANDB_NOTEBOOK_NAME environment variable to enable code saving.\n"
     ]
    },
    {
     "data": {
      "text/html": [
       "Tracking run with wandb version 0.14.0"
      ],
      "text/plain": [
       "<IPython.core.display.HTML object>"
      ]
     },
     "metadata": {},
     "output_type": "display_data"
    },
    {
     "data": {
      "text/html": [
       "Run data is saved locally in <code>d:\\CS6901\\wandb\\run-20230317_231246-jwglf2lu</code>"
      ],
      "text/plain": [
       "<IPython.core.display.HTML object>"
      ]
     },
     "metadata": {},
     "output_type": "display_data"
    },
    {
     "data": {
      "text/html": [
       "Syncing run <strong><a href='https://wandb.ai/viswa_ee/CS6910/runs/jwglf2lu' target=\"_blank\">devoted-sweep-12</a></strong> to <a href='https://wandb.ai/viswa_ee/CS6910' target=\"_blank\">Weights & Biases</a> (<a href='https://wandb.me/run' target=\"_blank\">docs</a>)<br/>Sweep page: <a href='https://wandb.ai/viswa_ee/CS6910/sweeps/5hrjihf5' target=\"_blank\">https://wandb.ai/viswa_ee/CS6910/sweeps/5hrjihf5</a>"
      ],
      "text/plain": [
       "<IPython.core.display.HTML object>"
      ]
     },
     "metadata": {},
     "output_type": "display_data"
    },
    {
     "data": {
      "text/html": [
       " View project at <a href='https://wandb.ai/viswa_ee/CS6910' target=\"_blank\">https://wandb.ai/viswa_ee/CS6910</a>"
      ],
      "text/plain": [
       "<IPython.core.display.HTML object>"
      ]
     },
     "metadata": {},
     "output_type": "display_data"
    },
    {
     "data": {
      "text/html": [
       " View sweep at <a href='https://wandb.ai/viswa_ee/CS6910/sweeps/5hrjihf5' target=\"_blank\">https://wandb.ai/viswa_ee/CS6910/sweeps/5hrjihf5</a>"
      ],
      "text/plain": [
       "<IPython.core.display.HTML object>"
      ]
     },
     "metadata": {},
     "output_type": "display_data"
    },
    {
     "data": {
      "text/html": [
       " View run at <a href='https://wandb.ai/viswa_ee/CS6910/runs/jwglf2lu' target=\"_blank\">https://wandb.ai/viswa_ee/CS6910/runs/jwglf2lu</a>"
      ],
      "text/plain": [
       "<IPython.core.display.HTML object>"
      ]
     },
     "metadata": {},
     "output_type": "display_data"
    },
    {
     "data": {
      "text/html": [
       "Waiting for W&B process to finish... <strong style=\"color:green\">(success).</strong>"
      ],
      "text/plain": [
       "<IPython.core.display.HTML object>"
      ]
     },
     "metadata": {},
     "output_type": "display_data"
    },
    {
     "data": {
      "text/html": [
       "<style>\n",
       "    table.wandb td:nth-child(1) { padding: 0 10px; text-align: left ; width: auto;} td:nth-child(2) {text-align: left ; width: 100%}\n",
       "    .wandb-row { display: flex; flex-direction: row; flex-wrap: wrap; justify-content: flex-start; width: 100% }\n",
       "    .wandb-col { display: flex; flex-direction: column; flex-basis: 100%; flex: 1; padding: 10px; }\n",
       "    </style>\n",
       "<div class=\"wandb-row\"><div class=\"wandb-col\"><h3>Run history:</h3><br/><table class=\"wandb\"><tr><td>train_acc</td><td>▁▅▆▆▇▇▇███</td></tr><tr><td>train_loss</td><td>█▄▃▁▆▁▃▃▄▁</td></tr><tr><td>val_acc</td><td>▁▅▆▆▇▇▇███</td></tr><tr><td>val_loss</td><td>█▂▂▂▂▁▂▂▂▂</td></tr></table><br/></div><div class=\"wandb-col\"><h3>Run summary:</h3><br/><table class=\"wandb\"><tr><td>train_acc</td><td>0.67289</td></tr><tr><td>train_loss</td><td>969.4168</td></tr><tr><td>val_acc</td><td>0.67267</td></tr><tr><td>val_loss</td><td>68.23546</td></tr></table><br/></div></div>"
      ],
      "text/plain": [
       "<IPython.core.display.HTML object>"
      ]
     },
     "metadata": {},
     "output_type": "display_data"
    },
    {
     "data": {
      "text/html": [
       " View run <strong style=\"color:#cdcd00\">devoted-sweep-12</strong> at: <a href='https://wandb.ai/viswa_ee/CS6910/runs/jwglf2lu' target=\"_blank\">https://wandb.ai/viswa_ee/CS6910/runs/jwglf2lu</a><br/>Synced 4 W&B file(s), 1 media file(s), 0 artifact file(s) and 0 other file(s)"
      ],
      "text/plain": [
       "<IPython.core.display.HTML object>"
      ]
     },
     "metadata": {},
     "output_type": "display_data"
    },
    {
     "data": {
      "text/html": [
       "Find logs at: <code>.\\wandb\\run-20230317_231246-jwglf2lu\\logs</code>"
      ],
      "text/plain": [
       "<IPython.core.display.HTML object>"
      ]
     },
     "metadata": {},
     "output_type": "display_data"
    },
    {
     "name": "stderr",
     "output_type": "stream",
     "text": [
      "\u001b[34m\u001b[1mwandb\u001b[0m: Sweep Agent: Waiting for job.\n",
      "\u001b[34m\u001b[1mwandb\u001b[0m: Job received.\n",
      "\u001b[34m\u001b[1mwandb\u001b[0m: Agent Starting Run: lp1b9vd7 with config:\n",
      "\u001b[34m\u001b[1mwandb\u001b[0m: \tact_func: tanh\n",
      "\u001b[34m\u001b[1mwandb\u001b[0m: \tbatch_size: 32\n",
      "\u001b[34m\u001b[1mwandb\u001b[0m: \tl2_coeff: 0.0005\n",
      "\u001b[34m\u001b[1mwandb\u001b[0m: \tloss_func: mse\n",
      "\u001b[34m\u001b[1mwandb\u001b[0m: \tlr: 0.0001\n",
      "\u001b[34m\u001b[1mwandb\u001b[0m: \tn_epochs: 5\n",
      "\u001b[34m\u001b[1mwandb\u001b[0m: \tn_hidden: 4\n",
      "\u001b[34m\u001b[1mwandb\u001b[0m: \tn_hidden_units: 128\n",
      "\u001b[34m\u001b[1mwandb\u001b[0m: \toptim_algo: rmsprop\n",
      "\u001b[34m\u001b[1mwandb\u001b[0m: \trelu_param: 0.1\n",
      "\u001b[34m\u001b[1mwandb\u001b[0m: \tweights_init: xavier_uniform\n",
      "Failed to detect the name of this notebook, you can set it manually with the WANDB_NOTEBOOK_NAME environment variable to enable code saving.\n"
     ]
    },
    {
     "data": {
      "text/html": [
       "Tracking run with wandb version 0.14.0"
      ],
      "text/plain": [
       "<IPython.core.display.HTML object>"
      ]
     },
     "metadata": {},
     "output_type": "display_data"
    },
    {
     "data": {
      "text/html": [
       "Run data is saved locally in <code>d:\\CS6901\\wandb\\run-20230317_231406-lp1b9vd7</code>"
      ],
      "text/plain": [
       "<IPython.core.display.HTML object>"
      ]
     },
     "metadata": {},
     "output_type": "display_data"
    },
    {
     "data": {
      "text/html": [
       "Syncing run <strong><a href='https://wandb.ai/viswa_ee/CS6910/runs/lp1b9vd7' target=\"_blank\">eternal-sweep-13</a></strong> to <a href='https://wandb.ai/viswa_ee/CS6910' target=\"_blank\">Weights & Biases</a> (<a href='https://wandb.me/run' target=\"_blank\">docs</a>)<br/>Sweep page: <a href='https://wandb.ai/viswa_ee/CS6910/sweeps/5hrjihf5' target=\"_blank\">https://wandb.ai/viswa_ee/CS6910/sweeps/5hrjihf5</a>"
      ],
      "text/plain": [
       "<IPython.core.display.HTML object>"
      ]
     },
     "metadata": {},
     "output_type": "display_data"
    },
    {
     "data": {
      "text/html": [
       " View project at <a href='https://wandb.ai/viswa_ee/CS6910' target=\"_blank\">https://wandb.ai/viswa_ee/CS6910</a>"
      ],
      "text/plain": [
       "<IPython.core.display.HTML object>"
      ]
     },
     "metadata": {},
     "output_type": "display_data"
    },
    {
     "data": {
      "text/html": [
       " View sweep at <a href='https://wandb.ai/viswa_ee/CS6910/sweeps/5hrjihf5' target=\"_blank\">https://wandb.ai/viswa_ee/CS6910/sweeps/5hrjihf5</a>"
      ],
      "text/plain": [
       "<IPython.core.display.HTML object>"
      ]
     },
     "metadata": {},
     "output_type": "display_data"
    },
    {
     "data": {
      "text/html": [
       " View run at <a href='https://wandb.ai/viswa_ee/CS6910/runs/lp1b9vd7' target=\"_blank\">https://wandb.ai/viswa_ee/CS6910/runs/lp1b9vd7</a>"
      ],
      "text/plain": [
       "<IPython.core.display.HTML object>"
      ]
     },
     "metadata": {},
     "output_type": "display_data"
    },
    {
     "data": {
      "text/html": [
       "Waiting for W&B process to finish... <strong style=\"color:green\">(success).</strong>"
      ],
      "text/plain": [
       "<IPython.core.display.HTML object>"
      ]
     },
     "metadata": {},
     "output_type": "display_data"
    },
    {
     "data": {
      "text/html": [
       "<style>\n",
       "    table.wandb td:nth-child(1) { padding: 0 10px; text-align: left ; width: auto;} td:nth-child(2) {text-align: left ; width: 100%}\n",
       "    .wandb-row { display: flex; flex-direction: row; flex-wrap: wrap; justify-content: flex-start; width: 100% }\n",
       "    .wandb-col { display: flex; flex-direction: column; flex-basis: 100%; flex: 1; padding: 10px; }\n",
       "    </style>\n",
       "<div class=\"wandb-row\"><div class=\"wandb-col\"><h3>Run history:</h3><br/><table class=\"wandb\"><tr><td>train_acc</td><td>▁▄▇▇█</td></tr><tr><td>train_loss</td><td>█▅▃▃▁</td></tr><tr><td>val_acc</td><td>▁▅▇██</td></tr><tr><td>val_loss</td><td>█▆▄▂▁</td></tr></table><br/></div><div class=\"wandb-col\"><h3>Run summary:</h3><br/><table class=\"wandb\"><tr><td>train_acc</td><td>0.88083</td></tr><tr><td>train_loss</td><td>-661.05691</td></tr><tr><td>val_acc</td><td>0.87183</td></tr><tr><td>val_loss</td><td>-694.73446</td></tr></table><br/></div></div>"
      ],
      "text/plain": [
       "<IPython.core.display.HTML object>"
      ]
     },
     "metadata": {},
     "output_type": "display_data"
    },
    {
     "data": {
      "text/html": [
       " View run <strong style=\"color:#cdcd00\">eternal-sweep-13</strong> at: <a href='https://wandb.ai/viswa_ee/CS6910/runs/lp1b9vd7' target=\"_blank\">https://wandb.ai/viswa_ee/CS6910/runs/lp1b9vd7</a><br/>Synced 4 W&B file(s), 1 media file(s), 0 artifact file(s) and 0 other file(s)"
      ],
      "text/plain": [
       "<IPython.core.display.HTML object>"
      ]
     },
     "metadata": {},
     "output_type": "display_data"
    },
    {
     "data": {
      "text/html": [
       "Find logs at: <code>.\\wandb\\run-20230317_231406-lp1b9vd7\\logs</code>"
      ],
      "text/plain": [
       "<IPython.core.display.HTML object>"
      ]
     },
     "metadata": {},
     "output_type": "display_data"
    },
    {
     "name": "stderr",
     "output_type": "stream",
     "text": [
      "\u001b[34m\u001b[1mwandb\u001b[0m: Agent Starting Run: trp6c52f with config:\n",
      "\u001b[34m\u001b[1mwandb\u001b[0m: \tact_func: identity\n",
      "\u001b[34m\u001b[1mwandb\u001b[0m: \tbatch_size: 32\n",
      "\u001b[34m\u001b[1mwandb\u001b[0m: \tl2_coeff: 0.0005\n",
      "\u001b[34m\u001b[1mwandb\u001b[0m: \tloss_func: mse\n",
      "\u001b[34m\u001b[1mwandb\u001b[0m: \tlr: 0.0001\n",
      "\u001b[34m\u001b[1mwandb\u001b[0m: \tn_epochs: 5\n",
      "\u001b[34m\u001b[1mwandb\u001b[0m: \tn_hidden: 5\n",
      "\u001b[34m\u001b[1mwandb\u001b[0m: \tn_hidden_units: 128\n",
      "\u001b[34m\u001b[1mwandb\u001b[0m: \toptim_algo: sgdm\n",
      "\u001b[34m\u001b[1mwandb\u001b[0m: \trelu_param: 0.001\n",
      "\u001b[34m\u001b[1mwandb\u001b[0m: \tweights_init: xavier_uniform\n",
      "Failed to detect the name of this notebook, you can set it manually with the WANDB_NOTEBOOK_NAME environment variable to enable code saving.\n"
     ]
    },
    {
     "data": {
      "text/html": [
       "Tracking run with wandb version 0.14.0"
      ],
      "text/plain": [
       "<IPython.core.display.HTML object>"
      ]
     },
     "metadata": {},
     "output_type": "display_data"
    },
    {
     "data": {
      "text/html": [
       "Run data is saved locally in <code>d:\\CS6901\\wandb\\run-20230317_231540-trp6c52f</code>"
      ],
      "text/plain": [
       "<IPython.core.display.HTML object>"
      ]
     },
     "metadata": {},
     "output_type": "display_data"
    },
    {
     "data": {
      "text/html": [
       "Syncing run <strong><a href='https://wandb.ai/viswa_ee/CS6910/runs/trp6c52f' target=\"_blank\">fluent-sweep-14</a></strong> to <a href='https://wandb.ai/viswa_ee/CS6910' target=\"_blank\">Weights & Biases</a> (<a href='https://wandb.me/run' target=\"_blank\">docs</a>)<br/>Sweep page: <a href='https://wandb.ai/viswa_ee/CS6910/sweeps/5hrjihf5' target=\"_blank\">https://wandb.ai/viswa_ee/CS6910/sweeps/5hrjihf5</a>"
      ],
      "text/plain": [
       "<IPython.core.display.HTML object>"
      ]
     },
     "metadata": {},
     "output_type": "display_data"
    },
    {
     "data": {
      "text/html": [
       " View project at <a href='https://wandb.ai/viswa_ee/CS6910' target=\"_blank\">https://wandb.ai/viswa_ee/CS6910</a>"
      ],
      "text/plain": [
       "<IPython.core.display.HTML object>"
      ]
     },
     "metadata": {},
     "output_type": "display_data"
    },
    {
     "data": {
      "text/html": [
       " View sweep at <a href='https://wandb.ai/viswa_ee/CS6910/sweeps/5hrjihf5' target=\"_blank\">https://wandb.ai/viswa_ee/CS6910/sweeps/5hrjihf5</a>"
      ],
      "text/plain": [
       "<IPython.core.display.HTML object>"
      ]
     },
     "metadata": {},
     "output_type": "display_data"
    },
    {
     "data": {
      "text/html": [
       " View run at <a href='https://wandb.ai/viswa_ee/CS6910/runs/trp6c52f' target=\"_blank\">https://wandb.ai/viswa_ee/CS6910/runs/trp6c52f</a>"
      ],
      "text/plain": [
       "<IPython.core.display.HTML object>"
      ]
     },
     "metadata": {},
     "output_type": "display_data"
    },
    {
     "data": {
      "text/html": [
       "Waiting for W&B process to finish... <strong style=\"color:green\">(success).</strong>"
      ],
      "text/plain": [
       "<IPython.core.display.HTML object>"
      ]
     },
     "metadata": {},
     "output_type": "display_data"
    },
    {
     "data": {
      "text/html": [
       "<style>\n",
       "    table.wandb td:nth-child(1) { padding: 0 10px; text-align: left ; width: auto;} td:nth-child(2) {text-align: left ; width: 100%}\n",
       "    .wandb-row { display: flex; flex-direction: row; flex-wrap: wrap; justify-content: flex-start; width: 100% }\n",
       "    .wandb-col { display: flex; flex-direction: column; flex-basis: 100%; flex: 1; padding: 10px; }\n",
       "    </style>\n",
       "<div class=\"wandb-row\"><div class=\"wandb-col\"><h3>Run history:</h3><br/><table class=\"wandb\"><tr><td>train_acc</td><td>▁▅▆▇█</td></tr><tr><td>train_loss</td><td>█▇▅▄▁</td></tr><tr><td>val_acc</td><td>▁▅▆▇█</td></tr><tr><td>val_loss</td><td>█▇▅▃▁</td></tr></table><br/></div><div class=\"wandb-col\"><h3>Run summary:</h3><br/><table class=\"wandb\"><tr><td>train_acc</td><td>0.70463</td></tr><tr><td>train_loss</td><td>-220.09011</td></tr><tr><td>val_acc</td><td>0.698</td></tr><tr><td>val_loss</td><td>-209.32405</td></tr></table><br/></div></div>"
      ],
      "text/plain": [
       "<IPython.core.display.HTML object>"
      ]
     },
     "metadata": {},
     "output_type": "display_data"
    },
    {
     "data": {
      "text/html": [
       " View run <strong style=\"color:#cdcd00\">fluent-sweep-14</strong> at: <a href='https://wandb.ai/viswa_ee/CS6910/runs/trp6c52f' target=\"_blank\">https://wandb.ai/viswa_ee/CS6910/runs/trp6c52f</a><br/>Synced 4 W&B file(s), 1 media file(s), 0 artifact file(s) and 0 other file(s)"
      ],
      "text/plain": [
       "<IPython.core.display.HTML object>"
      ]
     },
     "metadata": {},
     "output_type": "display_data"
    },
    {
     "data": {
      "text/html": [
       "Find logs at: <code>.\\wandb\\run-20230317_231540-trp6c52f\\logs</code>"
      ],
      "text/plain": [
       "<IPython.core.display.HTML object>"
      ]
     },
     "metadata": {},
     "output_type": "display_data"
    },
    {
     "name": "stderr",
     "output_type": "stream",
     "text": [
      "\u001b[34m\u001b[1mwandb\u001b[0m: Agent Starting Run: ljk7vy18 with config:\n",
      "\u001b[34m\u001b[1mwandb\u001b[0m: \tact_func: identity\n",
      "\u001b[34m\u001b[1mwandb\u001b[0m: \tbatch_size: 64\n",
      "\u001b[34m\u001b[1mwandb\u001b[0m: \tl2_coeff: 0.5\n",
      "\u001b[34m\u001b[1mwandb\u001b[0m: \tloss_func: cross_ent\n",
      "\u001b[34m\u001b[1mwandb\u001b[0m: \tlr: 0.001\n",
      "\u001b[34m\u001b[1mwandb\u001b[0m: \tn_epochs: 10\n",
      "\u001b[34m\u001b[1mwandb\u001b[0m: \tn_hidden: 3\n",
      "\u001b[34m\u001b[1mwandb\u001b[0m: \tn_hidden_units: 64\n",
      "\u001b[34m\u001b[1mwandb\u001b[0m: \toptim_algo: sgdm\n",
      "\u001b[34m\u001b[1mwandb\u001b[0m: \trelu_param: 0.1\n",
      "\u001b[34m\u001b[1mwandb\u001b[0m: \tweights_init: xavier_uniform\n",
      "Failed to detect the name of this notebook, you can set it manually with the WANDB_NOTEBOOK_NAME environment variable to enable code saving.\n"
     ]
    },
    {
     "data": {
      "text/html": [
       "Tracking run with wandb version 0.14.0"
      ],
      "text/plain": [
       "<IPython.core.display.HTML object>"
      ]
     },
     "metadata": {},
     "output_type": "display_data"
    },
    {
     "data": {
      "text/html": [
       "Run data is saved locally in <code>d:\\CS6901\\wandb\\run-20230317_231649-ljk7vy18</code>"
      ],
      "text/plain": [
       "<IPython.core.display.HTML object>"
      ]
     },
     "metadata": {},
     "output_type": "display_data"
    },
    {
     "data": {
      "text/html": [
       "Syncing run <strong><a href='https://wandb.ai/viswa_ee/CS6910/runs/ljk7vy18' target=\"_blank\">fast-sweep-15</a></strong> to <a href='https://wandb.ai/viswa_ee/CS6910' target=\"_blank\">Weights & Biases</a> (<a href='https://wandb.me/run' target=\"_blank\">docs</a>)<br/>Sweep page: <a href='https://wandb.ai/viswa_ee/CS6910/sweeps/5hrjihf5' target=\"_blank\">https://wandb.ai/viswa_ee/CS6910/sweeps/5hrjihf5</a>"
      ],
      "text/plain": [
       "<IPython.core.display.HTML object>"
      ]
     },
     "metadata": {},
     "output_type": "display_data"
    },
    {
     "data": {
      "text/html": [
       " View project at <a href='https://wandb.ai/viswa_ee/CS6910' target=\"_blank\">https://wandb.ai/viswa_ee/CS6910</a>"
      ],
      "text/plain": [
       "<IPython.core.display.HTML object>"
      ]
     },
     "metadata": {},
     "output_type": "display_data"
    },
    {
     "data": {
      "text/html": [
       " View sweep at <a href='https://wandb.ai/viswa_ee/CS6910/sweeps/5hrjihf5' target=\"_blank\">https://wandb.ai/viswa_ee/CS6910/sweeps/5hrjihf5</a>"
      ],
      "text/plain": [
       "<IPython.core.display.HTML object>"
      ]
     },
     "metadata": {},
     "output_type": "display_data"
    },
    {
     "data": {
      "text/html": [
       " View run at <a href='https://wandb.ai/viswa_ee/CS6910/runs/ljk7vy18' target=\"_blank\">https://wandb.ai/viswa_ee/CS6910/runs/ljk7vy18</a>"
      ],
      "text/plain": [
       "<IPython.core.display.HTML object>"
      ]
     },
     "metadata": {},
     "output_type": "display_data"
    },
    {
     "data": {
      "text/html": [
       "Waiting for W&B process to finish... <strong style=\"color:green\">(success).</strong>"
      ],
      "text/plain": [
       "<IPython.core.display.HTML object>"
      ]
     },
     "metadata": {},
     "output_type": "display_data"
    },
    {
     "data": {
      "text/html": [
       "<style>\n",
       "    table.wandb td:nth-child(1) { padding: 0 10px; text-align: left ; width: auto;} td:nth-child(2) {text-align: left ; width: 100%}\n",
       "    .wandb-row { display: flex; flex-direction: row; flex-wrap: wrap; justify-content: flex-start; width: 100% }\n",
       "    .wandb-col { display: flex; flex-direction: column; flex-basis: 100%; flex: 1; padding: 10px; }\n",
       "    </style>\n",
       "<div class=\"wandb-row\"><div class=\"wandb-col\"><h3>Run history:</h3><br/><table class=\"wandb\"><tr><td>train_acc</td><td>▁▄▅▆▇▇▇███</td></tr><tr><td>train_loss</td><td>█▄▃▂▃▄▃▂▁▁</td></tr><tr><td>val_acc</td><td>▁▄▅▆▇▇▇▇██</td></tr><tr><td>val_loss</td><td>█▅▃▃▂▂▂▁▁▁</td></tr></table><br/></div><div class=\"wandb-col\"><h3>Run summary:</h3><br/><table class=\"wandb\"><tr><td>train_acc</td><td>0.77665</td></tr><tr><td>train_loss</td><td>1.8143</td></tr><tr><td>val_acc</td><td>0.77317</td></tr><tr><td>val_loss</td><td>0.65771</td></tr></table><br/></div></div>"
      ],
      "text/plain": [
       "<IPython.core.display.HTML object>"
      ]
     },
     "metadata": {},
     "output_type": "display_data"
    },
    {
     "data": {
      "text/html": [
       " View run <strong style=\"color:#cdcd00\">fast-sweep-15</strong> at: <a href='https://wandb.ai/viswa_ee/CS6910/runs/ljk7vy18' target=\"_blank\">https://wandb.ai/viswa_ee/CS6910/runs/ljk7vy18</a><br/>Synced 4 W&B file(s), 1 media file(s), 0 artifact file(s) and 0 other file(s)"
      ],
      "text/plain": [
       "<IPython.core.display.HTML object>"
      ]
     },
     "metadata": {},
     "output_type": "display_data"
    },
    {
     "data": {
      "text/html": [
       "Find logs at: <code>.\\wandb\\run-20230317_231649-ljk7vy18\\logs</code>"
      ],
      "text/plain": [
       "<IPython.core.display.HTML object>"
      ]
     },
     "metadata": {},
     "output_type": "display_data"
    },
    {
     "name": "stderr",
     "output_type": "stream",
     "text": [
      "\u001b[34m\u001b[1mwandb\u001b[0m: Sweep Agent: Waiting for job.\n",
      "\u001b[34m\u001b[1mwandb\u001b[0m: Job received.\n",
      "\u001b[34m\u001b[1mwandb\u001b[0m: Agent Starting Run: mldam7et with config:\n",
      "\u001b[34m\u001b[1mwandb\u001b[0m: \tact_func: identity\n",
      "\u001b[34m\u001b[1mwandb\u001b[0m: \tbatch_size: 32\n",
      "\u001b[34m\u001b[1mwandb\u001b[0m: \tl2_coeff: 0.0005\n",
      "\u001b[34m\u001b[1mwandb\u001b[0m: \tloss_func: mse\n",
      "\u001b[34m\u001b[1mwandb\u001b[0m: \tlr: 0.0001\n",
      "\u001b[34m\u001b[1mwandb\u001b[0m: \tn_epochs: 5\n",
      "\u001b[34m\u001b[1mwandb\u001b[0m: \tn_hidden: 5\n",
      "\u001b[34m\u001b[1mwandb\u001b[0m: \tn_hidden_units: 128\n",
      "\u001b[34m\u001b[1mwandb\u001b[0m: \toptim_algo: rmsprop\n",
      "\u001b[34m\u001b[1mwandb\u001b[0m: \trelu_param: 0.001\n",
      "\u001b[34m\u001b[1mwandb\u001b[0m: \tweights_init: xavier_uniform\n",
      "Failed to detect the name of this notebook, you can set it manually with the WANDB_NOTEBOOK_NAME environment variable to enable code saving.\n"
     ]
    },
    {
     "data": {
      "text/html": [
       "Tracking run with wandb version 0.14.0"
      ],
      "text/plain": [
       "<IPython.core.display.HTML object>"
      ]
     },
     "metadata": {},
     "output_type": "display_data"
    },
    {
     "data": {
      "text/html": [
       "Run data is saved locally in <code>d:\\CS6901\\wandb\\run-20230317_231732-mldam7et</code>"
      ],
      "text/plain": [
       "<IPython.core.display.HTML object>"
      ]
     },
     "metadata": {},
     "output_type": "display_data"
    },
    {
     "data": {
      "text/html": [
       "Syncing run <strong><a href='https://wandb.ai/viswa_ee/CS6910/runs/mldam7et' target=\"_blank\">graceful-sweep-16</a></strong> to <a href='https://wandb.ai/viswa_ee/CS6910' target=\"_blank\">Weights & Biases</a> (<a href='https://wandb.me/run' target=\"_blank\">docs</a>)<br/>Sweep page: <a href='https://wandb.ai/viswa_ee/CS6910/sweeps/5hrjihf5' target=\"_blank\">https://wandb.ai/viswa_ee/CS6910/sweeps/5hrjihf5</a>"
      ],
      "text/plain": [
       "<IPython.core.display.HTML object>"
      ]
     },
     "metadata": {},
     "output_type": "display_data"
    },
    {
     "data": {
      "text/html": [
       " View project at <a href='https://wandb.ai/viswa_ee/CS6910' target=\"_blank\">https://wandb.ai/viswa_ee/CS6910</a>"
      ],
      "text/plain": [
       "<IPython.core.display.HTML object>"
      ]
     },
     "metadata": {},
     "output_type": "display_data"
    },
    {
     "data": {
      "text/html": [
       " View sweep at <a href='https://wandb.ai/viswa_ee/CS6910/sweeps/5hrjihf5' target=\"_blank\">https://wandb.ai/viswa_ee/CS6910/sweeps/5hrjihf5</a>"
      ],
      "text/plain": [
       "<IPython.core.display.HTML object>"
      ]
     },
     "metadata": {},
     "output_type": "display_data"
    },
    {
     "data": {
      "text/html": [
       " View run at <a href='https://wandb.ai/viswa_ee/CS6910/runs/mldam7et' target=\"_blank\">https://wandb.ai/viswa_ee/CS6910/runs/mldam7et</a>"
      ],
      "text/plain": [
       "<IPython.core.display.HTML object>"
      ]
     },
     "metadata": {},
     "output_type": "display_data"
    },
    {
     "data": {
      "text/html": [
       "Waiting for W&B process to finish... <strong style=\"color:green\">(success).</strong>"
      ],
      "text/plain": [
       "<IPython.core.display.HTML object>"
      ]
     },
     "metadata": {},
     "output_type": "display_data"
    },
    {
     "data": {
      "text/html": [
       "<style>\n",
       "    table.wandb td:nth-child(1) { padding: 0 10px; text-align: left ; width: auto;} td:nth-child(2) {text-align: left ; width: 100%}\n",
       "    .wandb-row { display: flex; flex-direction: row; flex-wrap: wrap; justify-content: flex-start; width: 100% }\n",
       "    .wandb-col { display: flex; flex-direction: column; flex-basis: 100%; flex: 1; padding: 10px; }\n",
       "    </style>\n",
       "<div class=\"wandb-row\"><div class=\"wandb-col\"><h3>Run history:</h3><br/><table class=\"wandb\"><tr><td>train_acc</td><td>▁▄▆██</td></tr><tr><td>train_loss</td><td>█▇▆▆▁</td></tr><tr><td>val_acc</td><td>▁▃▆▇█</td></tr><tr><td>val_loss</td><td>█▆▅▄▁</td></tr></table><br/></div><div class=\"wandb-col\"><h3>Run summary:</h3><br/><table class=\"wandb\"><tr><td>train_acc</td><td>0.86015</td></tr><tr><td>train_loss</td><td>-1967.68749</td></tr><tr><td>val_acc</td><td>0.85167</td></tr><tr><td>val_loss</td><td>-1783.40304</td></tr></table><br/></div></div>"
      ],
      "text/plain": [
       "<IPython.core.display.HTML object>"
      ]
     },
     "metadata": {},
     "output_type": "display_data"
    },
    {
     "data": {
      "text/html": [
       " View run <strong style=\"color:#cdcd00\">graceful-sweep-16</strong> at: <a href='https://wandb.ai/viswa_ee/CS6910/runs/mldam7et' target=\"_blank\">https://wandb.ai/viswa_ee/CS6910/runs/mldam7et</a><br/>Synced 4 W&B file(s), 1 media file(s), 0 artifact file(s) and 0 other file(s)"
      ],
      "text/plain": [
       "<IPython.core.display.HTML object>"
      ]
     },
     "metadata": {},
     "output_type": "display_data"
    },
    {
     "data": {
      "text/html": [
       "Find logs at: <code>.\\wandb\\run-20230317_231732-mldam7et\\logs</code>"
      ],
      "text/plain": [
       "<IPython.core.display.HTML object>"
      ]
     },
     "metadata": {},
     "output_type": "display_data"
    },
    {
     "name": "stderr",
     "output_type": "stream",
     "text": [
      "\u001b[34m\u001b[1mwandb\u001b[0m: Sweep Agent: Waiting for job.\n",
      "\u001b[34m\u001b[1mwandb\u001b[0m: Job received.\n",
      "\u001b[34m\u001b[1mwandb\u001b[0m: Agent Starting Run: 2jtwpjla with config:\n",
      "\u001b[34m\u001b[1mwandb\u001b[0m: \tact_func: identity\n",
      "\u001b[34m\u001b[1mwandb\u001b[0m: \tbatch_size: 64\n",
      "\u001b[34m\u001b[1mwandb\u001b[0m: \tl2_coeff: 0.5\n",
      "\u001b[34m\u001b[1mwandb\u001b[0m: \tloss_func: cross_ent\n",
      "\u001b[34m\u001b[1mwandb\u001b[0m: \tlr: 0.001\n",
      "\u001b[34m\u001b[1mwandb\u001b[0m: \tn_epochs: 10\n",
      "\u001b[34m\u001b[1mwandb\u001b[0m: \tn_hidden: 3\n",
      "\u001b[34m\u001b[1mwandb\u001b[0m: \tn_hidden_units: 128\n",
      "\u001b[34m\u001b[1mwandb\u001b[0m: \toptim_algo: rmsprop\n",
      "\u001b[34m\u001b[1mwandb\u001b[0m: \trelu_param: 0.1\n",
      "\u001b[34m\u001b[1mwandb\u001b[0m: \tweights_init: xavier_uniform\n",
      "Failed to detect the name of this notebook, you can set it manually with the WANDB_NOTEBOOK_NAME environment variable to enable code saving.\n"
     ]
    },
    {
     "data": {
      "text/html": [
       "Tracking run with wandb version 0.14.0"
      ],
      "text/plain": [
       "<IPython.core.display.HTML object>"
      ]
     },
     "metadata": {},
     "output_type": "display_data"
    },
    {
     "data": {
      "text/html": [
       "Run data is saved locally in <code>d:\\CS6901\\wandb\\run-20230317_231850-2jtwpjla</code>"
      ],
      "text/plain": [
       "<IPython.core.display.HTML object>"
      ]
     },
     "metadata": {},
     "output_type": "display_data"
    },
    {
     "data": {
      "text/html": [
       "Syncing run <strong><a href='https://wandb.ai/viswa_ee/CS6910/runs/2jtwpjla' target=\"_blank\">rose-sweep-17</a></strong> to <a href='https://wandb.ai/viswa_ee/CS6910' target=\"_blank\">Weights & Biases</a> (<a href='https://wandb.me/run' target=\"_blank\">docs</a>)<br/>Sweep page: <a href='https://wandb.ai/viswa_ee/CS6910/sweeps/5hrjihf5' target=\"_blank\">https://wandb.ai/viswa_ee/CS6910/sweeps/5hrjihf5</a>"
      ],
      "text/plain": [
       "<IPython.core.display.HTML object>"
      ]
     },
     "metadata": {},
     "output_type": "display_data"
    },
    {
     "data": {
      "text/html": [
       " View project at <a href='https://wandb.ai/viswa_ee/CS6910' target=\"_blank\">https://wandb.ai/viswa_ee/CS6910</a>"
      ],
      "text/plain": [
       "<IPython.core.display.HTML object>"
      ]
     },
     "metadata": {},
     "output_type": "display_data"
    },
    {
     "data": {
      "text/html": [
       " View sweep at <a href='https://wandb.ai/viswa_ee/CS6910/sweeps/5hrjihf5' target=\"_blank\">https://wandb.ai/viswa_ee/CS6910/sweeps/5hrjihf5</a>"
      ],
      "text/plain": [
       "<IPython.core.display.HTML object>"
      ]
     },
     "metadata": {},
     "output_type": "display_data"
    },
    {
     "data": {
      "text/html": [
       " View run at <a href='https://wandb.ai/viswa_ee/CS6910/runs/2jtwpjla' target=\"_blank\">https://wandb.ai/viswa_ee/CS6910/runs/2jtwpjla</a>"
      ],
      "text/plain": [
       "<IPython.core.display.HTML object>"
      ]
     },
     "metadata": {},
     "output_type": "display_data"
    },
    {
     "data": {
      "text/html": [
       "Waiting for W&B process to finish... <strong style=\"color:green\">(success).</strong>"
      ],
      "text/plain": [
       "<IPython.core.display.HTML object>"
      ]
     },
     "metadata": {},
     "output_type": "display_data"
    },
    {
     "data": {
      "text/html": [
       "<style>\n",
       "    table.wandb td:nth-child(1) { padding: 0 10px; text-align: left ; width: auto;} td:nth-child(2) {text-align: left ; width: 100%}\n",
       "    .wandb-row { display: flex; flex-direction: row; flex-wrap: wrap; justify-content: flex-start; width: 100% }\n",
       "    .wandb-col { display: flex; flex-direction: column; flex-basis: 100%; flex: 1; padding: 10px; }\n",
       "    </style>\n",
       "<div class=\"wandb-row\"><div class=\"wandb-col\"><h3>Run history:</h3><br/><table class=\"wandb\"><tr><td>train_acc</td><td>▁█▄▆▆▁▂█▅█</td></tr><tr><td>train_loss</td><td>█▅▄▃▂▁▁▁▂▁</td></tr><tr><td>val_acc</td><td>▂▇▃▆▆▁▂█▅▇</td></tr><tr><td>val_loss</td><td>█▁▅▂▂▅▆▁▄▁</td></tr></table><br/></div><div class=\"wandb-col\"><h3>Run summary:</h3><br/><table class=\"wandb\"><tr><td>train_acc</td><td>0.83787</td></tr><tr><td>train_loss</td><td>0.68728</td></tr><tr><td>val_acc</td><td>0.83133</td></tr><tr><td>val_loss</td><td>0.48205</td></tr></table><br/></div></div>"
      ],
      "text/plain": [
       "<IPython.core.display.HTML object>"
      ]
     },
     "metadata": {},
     "output_type": "display_data"
    },
    {
     "data": {
      "text/html": [
       " View run <strong style=\"color:#cdcd00\">rose-sweep-17</strong> at: <a href='https://wandb.ai/viswa_ee/CS6910/runs/2jtwpjla' target=\"_blank\">https://wandb.ai/viswa_ee/CS6910/runs/2jtwpjla</a><br/>Synced 4 W&B file(s), 1 media file(s), 0 artifact file(s) and 0 other file(s)"
      ],
      "text/plain": [
       "<IPython.core.display.HTML object>"
      ]
     },
     "metadata": {},
     "output_type": "display_data"
    },
    {
     "data": {
      "text/html": [
       "Find logs at: <code>.\\wandb\\run-20230317_231850-2jtwpjla\\logs</code>"
      ],
      "text/plain": [
       "<IPython.core.display.HTML object>"
      ]
     },
     "metadata": {},
     "output_type": "display_data"
    },
    {
     "name": "stderr",
     "output_type": "stream",
     "text": [
      "\u001b[34m\u001b[1mwandb\u001b[0m: Agent Starting Run: 6eb0qrk0 with config:\n",
      "\u001b[34m\u001b[1mwandb\u001b[0m: \tact_func: identity\n",
      "\u001b[34m\u001b[1mwandb\u001b[0m: \tbatch_size: 32\n",
      "\u001b[34m\u001b[1mwandb\u001b[0m: \tl2_coeff: 0.0005\n",
      "\u001b[34m\u001b[1mwandb\u001b[0m: \tloss_func: mse\n",
      "\u001b[34m\u001b[1mwandb\u001b[0m: \tlr: 0.0001\n",
      "\u001b[34m\u001b[1mwandb\u001b[0m: \tn_epochs: 10\n",
      "\u001b[34m\u001b[1mwandb\u001b[0m: \tn_hidden: 5\n",
      "\u001b[34m\u001b[1mwandb\u001b[0m: \tn_hidden_units: 128\n",
      "\u001b[34m\u001b[1mwandb\u001b[0m: \toptim_algo: adam\n",
      "\u001b[34m\u001b[1mwandb\u001b[0m: \trelu_param: 0.1\n",
      "\u001b[34m\u001b[1mwandb\u001b[0m: \tweights_init: xavier_uniform\n",
      "Failed to detect the name of this notebook, you can set it manually with the WANDB_NOTEBOOK_NAME environment variable to enable code saving.\n"
     ]
    },
    {
     "data": {
      "text/html": [
       "Tracking run with wandb version 0.14.0"
      ],
      "text/plain": [
       "<IPython.core.display.HTML object>"
      ]
     },
     "metadata": {},
     "output_type": "display_data"
    },
    {
     "data": {
      "text/html": [
       "Run data is saved locally in <code>d:\\CS6901\\wandb\\run-20230317_231956-6eb0qrk0</code>"
      ],
      "text/plain": [
       "<IPython.core.display.HTML object>"
      ]
     },
     "metadata": {},
     "output_type": "display_data"
    },
    {
     "data": {
      "text/html": [
       "Syncing run <strong><a href='https://wandb.ai/viswa_ee/CS6910/runs/6eb0qrk0' target=\"_blank\">stellar-sweep-18</a></strong> to <a href='https://wandb.ai/viswa_ee/CS6910' target=\"_blank\">Weights & Biases</a> (<a href='https://wandb.me/run' target=\"_blank\">docs</a>)<br/>Sweep page: <a href='https://wandb.ai/viswa_ee/CS6910/sweeps/5hrjihf5' target=\"_blank\">https://wandb.ai/viswa_ee/CS6910/sweeps/5hrjihf5</a>"
      ],
      "text/plain": [
       "<IPython.core.display.HTML object>"
      ]
     },
     "metadata": {},
     "output_type": "display_data"
    },
    {
     "data": {
      "text/html": [
       " View project at <a href='https://wandb.ai/viswa_ee/CS6910' target=\"_blank\">https://wandb.ai/viswa_ee/CS6910</a>"
      ],
      "text/plain": [
       "<IPython.core.display.HTML object>"
      ]
     },
     "metadata": {},
     "output_type": "display_data"
    },
    {
     "data": {
      "text/html": [
       " View sweep at <a href='https://wandb.ai/viswa_ee/CS6910/sweeps/5hrjihf5' target=\"_blank\">https://wandb.ai/viswa_ee/CS6910/sweeps/5hrjihf5</a>"
      ],
      "text/plain": [
       "<IPython.core.display.HTML object>"
      ]
     },
     "metadata": {},
     "output_type": "display_data"
    },
    {
     "data": {
      "text/html": [
       " View run at <a href='https://wandb.ai/viswa_ee/CS6910/runs/6eb0qrk0' target=\"_blank\">https://wandb.ai/viswa_ee/CS6910/runs/6eb0qrk0</a>"
      ],
      "text/plain": [
       "<IPython.core.display.HTML object>"
      ]
     },
     "metadata": {},
     "output_type": "display_data"
    },
    {
     "data": {
      "text/html": [
       "Waiting for W&B process to finish... <strong style=\"color:green\">(success).</strong>"
      ],
      "text/plain": [
       "<IPython.core.display.HTML object>"
      ]
     },
     "metadata": {},
     "output_type": "display_data"
    },
    {
     "data": {
      "text/html": [
       "<style>\n",
       "    table.wandb td:nth-child(1) { padding: 0 10px; text-align: left ; width: auto;} td:nth-child(2) {text-align: left ; width: 100%}\n",
       "    .wandb-row { display: flex; flex-direction: row; flex-wrap: wrap; justify-content: flex-start; width: 100% }\n",
       "    .wandb-col { display: flex; flex-direction: column; flex-basis: 100%; flex: 1; padding: 10px; }\n",
       "    </style>\n",
       "<div class=\"wandb-row\"><div class=\"wandb-col\"><h3>Run history:</h3><br/><table class=\"wandb\"><tr><td>train_acc</td><td>▁▂▄▆▄▆▅▇█▇</td></tr><tr><td>train_loss</td><td>██▅▆▂▃▄▅▁▂</td></tr><tr><td>val_acc</td><td>▃▁▄▆▃▅▅▅█▇</td></tr><tr><td>val_loss</td><td>█▇▅▄▄▄▂▁▁▁</td></tr></table><br/></div><div class=\"wandb-col\"><h3>Run summary:</h3><br/><table class=\"wandb\"><tr><td>train_acc</td><td>0.861</td></tr><tr><td>train_loss</td><td>-2051.18477</td></tr><tr><td>val_acc</td><td>0.85033</td></tr><tr><td>val_loss</td><td>-2021.13457</td></tr></table><br/></div></div>"
      ],
      "text/plain": [
       "<IPython.core.display.HTML object>"
      ]
     },
     "metadata": {},
     "output_type": "display_data"
    },
    {
     "data": {
      "text/html": [
       " View run <strong style=\"color:#cdcd00\">stellar-sweep-18</strong> at: <a href='https://wandb.ai/viswa_ee/CS6910/runs/6eb0qrk0' target=\"_blank\">https://wandb.ai/viswa_ee/CS6910/runs/6eb0qrk0</a><br/>Synced 4 W&B file(s), 1 media file(s), 0 artifact file(s) and 0 other file(s)"
      ],
      "text/plain": [
       "<IPython.core.display.HTML object>"
      ]
     },
     "metadata": {},
     "output_type": "display_data"
    },
    {
     "data": {
      "text/html": [
       "Find logs at: <code>.\\wandb\\run-20230317_231956-6eb0qrk0\\logs</code>"
      ],
      "text/plain": [
       "<IPython.core.display.HTML object>"
      ]
     },
     "metadata": {},
     "output_type": "display_data"
    },
    {
     "name": "stderr",
     "output_type": "stream",
     "text": [
      "\u001b[34m\u001b[1mwandb\u001b[0m: Agent Starting Run: 0rel6u9x with config:\n",
      "\u001b[34m\u001b[1mwandb\u001b[0m: \tact_func: identity\n",
      "\u001b[34m\u001b[1mwandb\u001b[0m: \tbatch_size: 64\n",
      "\u001b[34m\u001b[1mwandb\u001b[0m: \tl2_coeff: 0.5\n",
      "\u001b[34m\u001b[1mwandb\u001b[0m: \tloss_func: cross_ent\n",
      "\u001b[34m\u001b[1mwandb\u001b[0m: \tlr: 0.0001\n",
      "\u001b[34m\u001b[1mwandb\u001b[0m: \tn_epochs: 10\n",
      "\u001b[34m\u001b[1mwandb\u001b[0m: \tn_hidden: 5\n",
      "\u001b[34m\u001b[1mwandb\u001b[0m: \tn_hidden_units: 128\n",
      "\u001b[34m\u001b[1mwandb\u001b[0m: \toptim_algo: adam\n",
      "\u001b[34m\u001b[1mwandb\u001b[0m: \trelu_param: 0.1\n",
      "\u001b[34m\u001b[1mwandb\u001b[0m: \tweights_init: xavier_uniform\n",
      "Failed to detect the name of this notebook, you can set it manually with the WANDB_NOTEBOOK_NAME environment variable to enable code saving.\n"
     ]
    },
    {
     "data": {
      "text/html": [
       "Tracking run with wandb version 0.14.0"
      ],
      "text/plain": [
       "<IPython.core.display.HTML object>"
      ]
     },
     "metadata": {},
     "output_type": "display_data"
    },
    {
     "data": {
      "text/html": [
       "Run data is saved locally in <code>d:\\CS6901\\wandb\\run-20230317_232229-0rel6u9x</code>"
      ],
      "text/plain": [
       "<IPython.core.display.HTML object>"
      ]
     },
     "metadata": {},
     "output_type": "display_data"
    },
    {
     "data": {
      "text/html": [
       "Syncing run <strong><a href='https://wandb.ai/viswa_ee/CS6910/runs/0rel6u9x' target=\"_blank\">trim-sweep-19</a></strong> to <a href='https://wandb.ai/viswa_ee/CS6910' target=\"_blank\">Weights & Biases</a> (<a href='https://wandb.me/run' target=\"_blank\">docs</a>)<br/>Sweep page: <a href='https://wandb.ai/viswa_ee/CS6910/sweeps/5hrjihf5' target=\"_blank\">https://wandb.ai/viswa_ee/CS6910/sweeps/5hrjihf5</a>"
      ],
      "text/plain": [
       "<IPython.core.display.HTML object>"
      ]
     },
     "metadata": {},
     "output_type": "display_data"
    },
    {
     "data": {
      "text/html": [
       " View project at <a href='https://wandb.ai/viswa_ee/CS6910' target=\"_blank\">https://wandb.ai/viswa_ee/CS6910</a>"
      ],
      "text/plain": [
       "<IPython.core.display.HTML object>"
      ]
     },
     "metadata": {},
     "output_type": "display_data"
    },
    {
     "data": {
      "text/html": [
       " View sweep at <a href='https://wandb.ai/viswa_ee/CS6910/sweeps/5hrjihf5' target=\"_blank\">https://wandb.ai/viswa_ee/CS6910/sweeps/5hrjihf5</a>"
      ],
      "text/plain": [
       "<IPython.core.display.HTML object>"
      ]
     },
     "metadata": {},
     "output_type": "display_data"
    },
    {
     "data": {
      "text/html": [
       " View run at <a href='https://wandb.ai/viswa_ee/CS6910/runs/0rel6u9x' target=\"_blank\">https://wandb.ai/viswa_ee/CS6910/runs/0rel6u9x</a>"
      ],
      "text/plain": [
       "<IPython.core.display.HTML object>"
      ]
     },
     "metadata": {},
     "output_type": "display_data"
    },
    {
     "data": {
      "text/html": [
       "Waiting for W&B process to finish... <strong style=\"color:green\">(success).</strong>"
      ],
      "text/plain": [
       "<IPython.core.display.HTML object>"
      ]
     },
     "metadata": {},
     "output_type": "display_data"
    },
    {
     "data": {
      "text/html": [
       "<style>\n",
       "    table.wandb td:nth-child(1) { padding: 0 10px; text-align: left ; width: auto;} td:nth-child(2) {text-align: left ; width: 100%}\n",
       "    .wandb-row { display: flex; flex-direction: row; flex-wrap: wrap; justify-content: flex-start; width: 100% }\n",
       "    .wandb-col { display: flex; flex-direction: column; flex-basis: 100%; flex: 1; padding: 10px; }\n",
       "    </style>\n",
       "<div class=\"wandb-row\"><div class=\"wandb-col\"><h3>Run history:</h3><br/><table class=\"wandb\"><tr><td>train_acc</td><td>▁▅▆█▆█▆▇██</td></tr><tr><td>train_loss</td><td>█▆▅▄▃▂▂▂▁▂</td></tr><tr><td>val_acc</td><td>▁▅▅▇▅█▆▆██</td></tr><tr><td>val_loss</td><td>█▅▃▂▃▂▃▂▁▁</td></tr></table><br/></div><div class=\"wandb-col\"><h3>Run summary:</h3><br/><table class=\"wandb\"><tr><td>train_acc</td><td>0.85093</td></tr><tr><td>train_loss</td><td>1.26438</td></tr><tr><td>val_acc</td><td>0.8475</td></tr><tr><td>val_loss</td><td>0.4475</td></tr></table><br/></div></div>"
      ],
      "text/plain": [
       "<IPython.core.display.HTML object>"
      ]
     },
     "metadata": {},
     "output_type": "display_data"
    },
    {
     "data": {
      "text/html": [
       " View run <strong style=\"color:#cdcd00\">trim-sweep-19</strong> at: <a href='https://wandb.ai/viswa_ee/CS6910/runs/0rel6u9x' target=\"_blank\">https://wandb.ai/viswa_ee/CS6910/runs/0rel6u9x</a><br/>Synced 4 W&B file(s), 1 media file(s), 0 artifact file(s) and 0 other file(s)"
      ],
      "text/plain": [
       "<IPython.core.display.HTML object>"
      ]
     },
     "metadata": {},
     "output_type": "display_data"
    },
    {
     "data": {
      "text/html": [
       "Find logs at: <code>.\\wandb\\run-20230317_232229-0rel6u9x\\logs</code>"
      ],
      "text/plain": [
       "<IPython.core.display.HTML object>"
      ]
     },
     "metadata": {},
     "output_type": "display_data"
    },
    {
     "name": "stderr",
     "output_type": "stream",
     "text": [
      "\u001b[34m\u001b[1mwandb\u001b[0m: Agent Starting Run: dznzrxlx with config:\n",
      "\u001b[34m\u001b[1mwandb\u001b[0m: \tact_func: identity\n",
      "\u001b[34m\u001b[1mwandb\u001b[0m: \tbatch_size: 64\n",
      "\u001b[34m\u001b[1mwandb\u001b[0m: \tl2_coeff: 0.5\n",
      "\u001b[34m\u001b[1mwandb\u001b[0m: \tloss_func: cross_ent\n",
      "\u001b[34m\u001b[1mwandb\u001b[0m: \tlr: 0.0001\n",
      "\u001b[34m\u001b[1mwandb\u001b[0m: \tn_epochs: 10\n",
      "\u001b[34m\u001b[1mwandb\u001b[0m: \tn_hidden: 5\n",
      "\u001b[34m\u001b[1mwandb\u001b[0m: \tn_hidden_units: 128\n",
      "\u001b[34m\u001b[1mwandb\u001b[0m: \toptim_algo: rmsprop\n",
      "\u001b[34m\u001b[1mwandb\u001b[0m: \trelu_param: 0.01\n",
      "\u001b[34m\u001b[1mwandb\u001b[0m: \tweights_init: xavier_uniform\n",
      "Failed to detect the name of this notebook, you can set it manually with the WANDB_NOTEBOOK_NAME environment variable to enable code saving.\n"
     ]
    },
    {
     "data": {
      "text/html": [
       "Tracking run with wandb version 0.14.0"
      ],
      "text/plain": [
       "<IPython.core.display.HTML object>"
      ]
     },
     "metadata": {},
     "output_type": "display_data"
    },
    {
     "data": {
      "text/html": [
       "Run data is saved locally in <code>d:\\CS6901\\wandb\\run-20230317_232406-dznzrxlx</code>"
      ],
      "text/plain": [
       "<IPython.core.display.HTML object>"
      ]
     },
     "metadata": {},
     "output_type": "display_data"
    },
    {
     "data": {
      "text/html": [
       "Syncing run <strong><a href='https://wandb.ai/viswa_ee/CS6910/runs/dznzrxlx' target=\"_blank\">breezy-sweep-20</a></strong> to <a href='https://wandb.ai/viswa_ee/CS6910' target=\"_blank\">Weights & Biases</a> (<a href='https://wandb.me/run' target=\"_blank\">docs</a>)<br/>Sweep page: <a href='https://wandb.ai/viswa_ee/CS6910/sweeps/5hrjihf5' target=\"_blank\">https://wandb.ai/viswa_ee/CS6910/sweeps/5hrjihf5</a>"
      ],
      "text/plain": [
       "<IPython.core.display.HTML object>"
      ]
     },
     "metadata": {},
     "output_type": "display_data"
    },
    {
     "data": {
      "text/html": [
       " View project at <a href='https://wandb.ai/viswa_ee/CS6910' target=\"_blank\">https://wandb.ai/viswa_ee/CS6910</a>"
      ],
      "text/plain": [
       "<IPython.core.display.HTML object>"
      ]
     },
     "metadata": {},
     "output_type": "display_data"
    },
    {
     "data": {
      "text/html": [
       " View sweep at <a href='https://wandb.ai/viswa_ee/CS6910/sweeps/5hrjihf5' target=\"_blank\">https://wandb.ai/viswa_ee/CS6910/sweeps/5hrjihf5</a>"
      ],
      "text/plain": [
       "<IPython.core.display.HTML object>"
      ]
     },
     "metadata": {},
     "output_type": "display_data"
    },
    {
     "data": {
      "text/html": [
       " View run at <a href='https://wandb.ai/viswa_ee/CS6910/runs/dznzrxlx' target=\"_blank\">https://wandb.ai/viswa_ee/CS6910/runs/dznzrxlx</a>"
      ],
      "text/plain": [
       "<IPython.core.display.HTML object>"
      ]
     },
     "metadata": {},
     "output_type": "display_data"
    },
    {
     "data": {
      "text/html": [
       "Waiting for W&B process to finish... <strong style=\"color:green\">(success).</strong>"
      ],
      "text/plain": [
       "<IPython.core.display.HTML object>"
      ]
     },
     "metadata": {},
     "output_type": "display_data"
    },
    {
     "data": {
      "text/html": [
       "<style>\n",
       "    table.wandb td:nth-child(1) { padding: 0 10px; text-align: left ; width: auto;} td:nth-child(2) {text-align: left ; width: 100%}\n",
       "    .wandb-row { display: flex; flex-direction: row; flex-wrap: wrap; justify-content: flex-start; width: 100% }\n",
       "    .wandb-col { display: flex; flex-direction: column; flex-basis: 100%; flex: 1; padding: 10px; }\n",
       "    </style>\n",
       "<div class=\"wandb-row\"><div class=\"wandb-col\"><h3>Run history:</h3><br/><table class=\"wandb\"><tr><td>train_acc</td><td>▁▂▂▅▇▇█▅▃█</td></tr><tr><td>train_loss</td><td>█▇▅▄▃▂▂▁▂▂</td></tr><tr><td>val_acc</td><td>▂▂▁▄▇██▅▂▆</td></tr><tr><td>val_loss</td><td>█▇▆▃▂▁▁▂▄▁</td></tr></table><br/></div><div class=\"wandb-col\"><h3>Run summary:</h3><br/><table class=\"wandb\"><tr><td>train_acc</td><td>0.85061</td></tr><tr><td>train_loss</td><td>0.99749</td></tr><tr><td>val_acc</td><td>0.84283</td></tr><tr><td>val_loss</td><td>0.44951</td></tr></table><br/></div></div>"
      ],
      "text/plain": [
       "<IPython.core.display.HTML object>"
      ]
     },
     "metadata": {},
     "output_type": "display_data"
    },
    {
     "data": {
      "text/html": [
       " View run <strong style=\"color:#cdcd00\">breezy-sweep-20</strong> at: <a href='https://wandb.ai/viswa_ee/CS6910/runs/dznzrxlx' target=\"_blank\">https://wandb.ai/viswa_ee/CS6910/runs/dznzrxlx</a><br/>Synced 4 W&B file(s), 1 media file(s), 0 artifact file(s) and 0 other file(s)"
      ],
      "text/plain": [
       "<IPython.core.display.HTML object>"
      ]
     },
     "metadata": {},
     "output_type": "display_data"
    },
    {
     "data": {
      "text/html": [
       "Find logs at: <code>.\\wandb\\run-20230317_232406-dznzrxlx\\logs</code>"
      ],
      "text/plain": [
       "<IPython.core.display.HTML object>"
      ]
     },
     "metadata": {},
     "output_type": "display_data"
    },
    {
     "name": "stderr",
     "output_type": "stream",
     "text": [
      "\u001b[34m\u001b[1mwandb\u001b[0m: Agent Starting Run: ki6sxppr with config:\n",
      "\u001b[34m\u001b[1mwandb\u001b[0m: \tact_func: identity\n",
      "\u001b[34m\u001b[1mwandb\u001b[0m: \tbatch_size: 64\n",
      "\u001b[34m\u001b[1mwandb\u001b[0m: \tl2_coeff: 0.0005\n",
      "\u001b[34m\u001b[1mwandb\u001b[0m: \tloss_func: mse\n",
      "\u001b[34m\u001b[1mwandb\u001b[0m: \tlr: 0.0001\n",
      "\u001b[34m\u001b[1mwandb\u001b[0m: \tn_epochs: 10\n",
      "\u001b[34m\u001b[1mwandb\u001b[0m: \tn_hidden: 5\n",
      "\u001b[34m\u001b[1mwandb\u001b[0m: \tn_hidden_units: 64\n",
      "\u001b[34m\u001b[1mwandb\u001b[0m: \toptim_algo: adam\n",
      "\u001b[34m\u001b[1mwandb\u001b[0m: \trelu_param: 0.1\n",
      "\u001b[34m\u001b[1mwandb\u001b[0m: \tweights_init: xavier_uniform\n",
      "Failed to detect the name of this notebook, you can set it manually with the WANDB_NOTEBOOK_NAME environment variable to enable code saving.\n"
     ]
    },
    {
     "data": {
      "text/html": [
       "Tracking run with wandb version 0.14.0"
      ],
      "text/plain": [
       "<IPython.core.display.HTML object>"
      ]
     },
     "metadata": {},
     "output_type": "display_data"
    },
    {
     "data": {
      "text/html": [
       "Run data is saved locally in <code>d:\\CS6901\\wandb\\run-20230317_232537-ki6sxppr</code>"
      ],
      "text/plain": [
       "<IPython.core.display.HTML object>"
      ]
     },
     "metadata": {},
     "output_type": "display_data"
    },
    {
     "data": {
      "text/html": [
       "Syncing run <strong><a href='https://wandb.ai/viswa_ee/CS6910/runs/ki6sxppr' target=\"_blank\">clear-sweep-21</a></strong> to <a href='https://wandb.ai/viswa_ee/CS6910' target=\"_blank\">Weights & Biases</a> (<a href='https://wandb.me/run' target=\"_blank\">docs</a>)<br/>Sweep page: <a href='https://wandb.ai/viswa_ee/CS6910/sweeps/5hrjihf5' target=\"_blank\">https://wandb.ai/viswa_ee/CS6910/sweeps/5hrjihf5</a>"
      ],
      "text/plain": [
       "<IPython.core.display.HTML object>"
      ]
     },
     "metadata": {},
     "output_type": "display_data"
    },
    {
     "data": {
      "text/html": [
       " View project at <a href='https://wandb.ai/viswa_ee/CS6910' target=\"_blank\">https://wandb.ai/viswa_ee/CS6910</a>"
      ],
      "text/plain": [
       "<IPython.core.display.HTML object>"
      ]
     },
     "metadata": {},
     "output_type": "display_data"
    },
    {
     "data": {
      "text/html": [
       " View sweep at <a href='https://wandb.ai/viswa_ee/CS6910/sweeps/5hrjihf5' target=\"_blank\">https://wandb.ai/viswa_ee/CS6910/sweeps/5hrjihf5</a>"
      ],
      "text/plain": [
       "<IPython.core.display.HTML object>"
      ]
     },
     "metadata": {},
     "output_type": "display_data"
    },
    {
     "data": {
      "text/html": [
       " View run at <a href='https://wandb.ai/viswa_ee/CS6910/runs/ki6sxppr' target=\"_blank\">https://wandb.ai/viswa_ee/CS6910/runs/ki6sxppr</a>"
      ],
      "text/plain": [
       "<IPython.core.display.HTML object>"
      ]
     },
     "metadata": {},
     "output_type": "display_data"
    },
    {
     "data": {
      "text/html": [
       "Waiting for W&B process to finish... <strong style=\"color:green\">(success).</strong>"
      ],
      "text/plain": [
       "<IPython.core.display.HTML object>"
      ]
     },
     "metadata": {},
     "output_type": "display_data"
    },
    {
     "data": {
      "text/html": [
       "<style>\n",
       "    table.wandb td:nth-child(1) { padding: 0 10px; text-align: left ; width: auto;} td:nth-child(2) {text-align: left ; width: 100%}\n",
       "    .wandb-row { display: flex; flex-direction: row; flex-wrap: wrap; justify-content: flex-start; width: 100% }\n",
       "    .wandb-col { display: flex; flex-direction: column; flex-basis: 100%; flex: 1; padding: 10px; }\n",
       "    </style>\n",
       "<div class=\"wandb-row\"><div class=\"wandb-col\"><h3>Run history:</h3><br/><table class=\"wandb\"><tr><td>train_acc</td><td>▁▅▅▆▆▇▆▇▇█</td></tr><tr><td>train_loss</td><td>█▇▃▅▅▃▃▄▃▁</td></tr><tr><td>val_acc</td><td>▁▅▆▇▇█▆█▇█</td></tr><tr><td>val_loss</td><td>█▆▅▃▃▃▂▂▂▁</td></tr></table><br/></div><div class=\"wandb-col\"><h3>Run summary:</h3><br/><table class=\"wandb\"><tr><td>train_acc</td><td>0.86224</td></tr><tr><td>train_loss</td><td>-2248.55798</td></tr><tr><td>val_acc</td><td>0.851</td></tr><tr><td>val_loss</td><td>-2257.7403</td></tr></table><br/></div></div>"
      ],
      "text/plain": [
       "<IPython.core.display.HTML object>"
      ]
     },
     "metadata": {},
     "output_type": "display_data"
    },
    {
     "data": {
      "text/html": [
       " View run <strong style=\"color:#cdcd00\">clear-sweep-21</strong> at: <a href='https://wandb.ai/viswa_ee/CS6910/runs/ki6sxppr' target=\"_blank\">https://wandb.ai/viswa_ee/CS6910/runs/ki6sxppr</a><br/>Synced 4 W&B file(s), 1 media file(s), 0 artifact file(s) and 0 other file(s)"
      ],
      "text/plain": [
       "<IPython.core.display.HTML object>"
      ]
     },
     "metadata": {},
     "output_type": "display_data"
    },
    {
     "data": {
      "text/html": [
       "Find logs at: <code>.\\wandb\\run-20230317_232537-ki6sxppr\\logs</code>"
      ],
      "text/plain": [
       "<IPython.core.display.HTML object>"
      ]
     },
     "metadata": {},
     "output_type": "display_data"
    },
    {
     "name": "stderr",
     "output_type": "stream",
     "text": [
      "\u001b[34m\u001b[1mwandb\u001b[0m: Agent Starting Run: dnj36weo with config:\n",
      "\u001b[34m\u001b[1mwandb\u001b[0m: \tact_func: identity\n",
      "\u001b[34m\u001b[1mwandb\u001b[0m: \tbatch_size: 64\n",
      "\u001b[34m\u001b[1mwandb\u001b[0m: \tl2_coeff: 0.5\n",
      "\u001b[34m\u001b[1mwandb\u001b[0m: \tloss_func: cross_ent\n",
      "\u001b[34m\u001b[1mwandb\u001b[0m: \tlr: 0.0001\n",
      "\u001b[34m\u001b[1mwandb\u001b[0m: \tn_epochs: 5\n",
      "\u001b[34m\u001b[1mwandb\u001b[0m: \tn_hidden: 5\n",
      "\u001b[34m\u001b[1mwandb\u001b[0m: \tn_hidden_units: 128\n",
      "\u001b[34m\u001b[1mwandb\u001b[0m: \toptim_algo: adam\n",
      "\u001b[34m\u001b[1mwandb\u001b[0m: \trelu_param: 0\n",
      "\u001b[34m\u001b[1mwandb\u001b[0m: \tweights_init: xavier_uniform\n",
      "Failed to detect the name of this notebook, you can set it manually with the WANDB_NOTEBOOK_NAME environment variable to enable code saving.\n"
     ]
    },
    {
     "data": {
      "text/html": [
       "Tracking run with wandb version 0.14.0"
      ],
      "text/plain": [
       "<IPython.core.display.HTML object>"
      ]
     },
     "metadata": {},
     "output_type": "display_data"
    },
    {
     "data": {
      "text/html": [
       "Run data is saved locally in <code>d:\\CS6901\\wandb\\run-20230317_232628-dnj36weo</code>"
      ],
      "text/plain": [
       "<IPython.core.display.HTML object>"
      ]
     },
     "metadata": {},
     "output_type": "display_data"
    },
    {
     "data": {
      "text/html": [
       "Syncing run <strong><a href='https://wandb.ai/viswa_ee/CS6910/runs/dnj36weo' target=\"_blank\">breezy-sweep-22</a></strong> to <a href='https://wandb.ai/viswa_ee/CS6910' target=\"_blank\">Weights & Biases</a> (<a href='https://wandb.me/run' target=\"_blank\">docs</a>)<br/>Sweep page: <a href='https://wandb.ai/viswa_ee/CS6910/sweeps/5hrjihf5' target=\"_blank\">https://wandb.ai/viswa_ee/CS6910/sweeps/5hrjihf5</a>"
      ],
      "text/plain": [
       "<IPython.core.display.HTML object>"
      ]
     },
     "metadata": {},
     "output_type": "display_data"
    },
    {
     "data": {
      "text/html": [
       " View project at <a href='https://wandb.ai/viswa_ee/CS6910' target=\"_blank\">https://wandb.ai/viswa_ee/CS6910</a>"
      ],
      "text/plain": [
       "<IPython.core.display.HTML object>"
      ]
     },
     "metadata": {},
     "output_type": "display_data"
    },
    {
     "data": {
      "text/html": [
       " View sweep at <a href='https://wandb.ai/viswa_ee/CS6910/sweeps/5hrjihf5' target=\"_blank\">https://wandb.ai/viswa_ee/CS6910/sweeps/5hrjihf5</a>"
      ],
      "text/plain": [
       "<IPython.core.display.HTML object>"
      ]
     },
     "metadata": {},
     "output_type": "display_data"
    },
    {
     "data": {
      "text/html": [
       " View run at <a href='https://wandb.ai/viswa_ee/CS6910/runs/dnj36weo' target=\"_blank\">https://wandb.ai/viswa_ee/CS6910/runs/dnj36weo</a>"
      ],
      "text/plain": [
       "<IPython.core.display.HTML object>"
      ]
     },
     "metadata": {},
     "output_type": "display_data"
    },
    {
     "data": {
      "text/html": [
       "Waiting for W&B process to finish... <strong style=\"color:green\">(success).</strong>"
      ],
      "text/plain": [
       "<IPython.core.display.HTML object>"
      ]
     },
     "metadata": {},
     "output_type": "display_data"
    },
    {
     "data": {
      "text/html": [
       "<style>\n",
       "    table.wandb td:nth-child(1) { padding: 0 10px; text-align: left ; width: auto;} td:nth-child(2) {text-align: left ; width: 100%}\n",
       "    .wandb-row { display: flex; flex-direction: row; flex-wrap: wrap; justify-content: flex-start; width: 100% }\n",
       "    .wandb-col { display: flex; flex-direction: column; flex-basis: 100%; flex: 1; padding: 10px; }\n",
       "    </style>\n",
       "<div class=\"wandb-row\"><div class=\"wandb-col\"><h3>Run history:</h3><br/><table class=\"wandb\"><tr><td>train_acc</td><td>▁▆▄█▇</td></tr><tr><td>train_loss</td><td>█▆▄▂▁</td></tr><tr><td>val_acc</td><td>▁▅▄▇█</td></tr><tr><td>val_loss</td><td>█▄▄▁▁</td></tr></table><br/></div><div class=\"wandb-col\"><h3>Run summary:</h3><br/><table class=\"wandb\"><tr><td>train_acc</td><td>0.84531</td></tr><tr><td>train_loss</td><td>1.6158</td></tr><tr><td>val_acc</td><td>0.8425</td></tr><tr><td>val_loss</td><td>0.46641</td></tr></table><br/></div></div>"
      ],
      "text/plain": [
       "<IPython.core.display.HTML object>"
      ]
     },
     "metadata": {},
     "output_type": "display_data"
    },
    {
     "data": {
      "text/html": [
       " View run <strong style=\"color:#cdcd00\">breezy-sweep-22</strong> at: <a href='https://wandb.ai/viswa_ee/CS6910/runs/dnj36weo' target=\"_blank\">https://wandb.ai/viswa_ee/CS6910/runs/dnj36weo</a><br/>Synced 4 W&B file(s), 1 media file(s), 0 artifact file(s) and 0 other file(s)"
      ],
      "text/plain": [
       "<IPython.core.display.HTML object>"
      ]
     },
     "metadata": {},
     "output_type": "display_data"
    },
    {
     "data": {
      "text/html": [
       "Find logs at: <code>.\\wandb\\run-20230317_232628-dnj36weo\\logs</code>"
      ],
      "text/plain": [
       "<IPython.core.display.HTML object>"
      ]
     },
     "metadata": {},
     "output_type": "display_data"
    },
    {
     "name": "stderr",
     "output_type": "stream",
     "text": [
      "\u001b[34m\u001b[1mwandb\u001b[0m: Agent Starting Run: kgjx3xnk with config:\n",
      "\u001b[34m\u001b[1mwandb\u001b[0m: \tact_func: identity\n",
      "\u001b[34m\u001b[1mwandb\u001b[0m: \tbatch_size: 32\n",
      "\u001b[34m\u001b[1mwandb\u001b[0m: \tl2_coeff: 0.5\n",
      "\u001b[34m\u001b[1mwandb\u001b[0m: \tloss_func: cross_ent\n",
      "\u001b[34m\u001b[1mwandb\u001b[0m: \tlr: 0.0001\n",
      "\u001b[34m\u001b[1mwandb\u001b[0m: \tn_epochs: 10\n",
      "\u001b[34m\u001b[1mwandb\u001b[0m: \tn_hidden: 5\n",
      "\u001b[34m\u001b[1mwandb\u001b[0m: \tn_hidden_units: 128\n",
      "\u001b[34m\u001b[1mwandb\u001b[0m: \toptim_algo: nadam\n",
      "\u001b[34m\u001b[1mwandb\u001b[0m: \trelu_param: 0.01\n",
      "\u001b[34m\u001b[1mwandb\u001b[0m: \tweights_init: xavier_uniform\n",
      "Failed to detect the name of this notebook, you can set it manually with the WANDB_NOTEBOOK_NAME environment variable to enable code saving.\n"
     ]
    },
    {
     "data": {
      "text/html": [
       "Tracking run with wandb version 0.14.0"
      ],
      "text/plain": [
       "<IPython.core.display.HTML object>"
      ]
     },
     "metadata": {},
     "output_type": "display_data"
    },
    {
     "data": {
      "text/html": [
       "Run data is saved locally in <code>d:\\CS6901\\wandb\\run-20230317_232725-kgjx3xnk</code>"
      ],
      "text/plain": [
       "<IPython.core.display.HTML object>"
      ]
     },
     "metadata": {},
     "output_type": "display_data"
    },
    {
     "data": {
      "text/html": [
       "Syncing run <strong><a href='https://wandb.ai/viswa_ee/CS6910/runs/kgjx3xnk' target=\"_blank\">usual-sweep-23</a></strong> to <a href='https://wandb.ai/viswa_ee/CS6910' target=\"_blank\">Weights & Biases</a> (<a href='https://wandb.me/run' target=\"_blank\">docs</a>)<br/>Sweep page: <a href='https://wandb.ai/viswa_ee/CS6910/sweeps/5hrjihf5' target=\"_blank\">https://wandb.ai/viswa_ee/CS6910/sweeps/5hrjihf5</a>"
      ],
      "text/plain": [
       "<IPython.core.display.HTML object>"
      ]
     },
     "metadata": {},
     "output_type": "display_data"
    },
    {
     "data": {
      "text/html": [
       " View project at <a href='https://wandb.ai/viswa_ee/CS6910' target=\"_blank\">https://wandb.ai/viswa_ee/CS6910</a>"
      ],
      "text/plain": [
       "<IPython.core.display.HTML object>"
      ]
     },
     "metadata": {},
     "output_type": "display_data"
    },
    {
     "data": {
      "text/html": [
       " View sweep at <a href='https://wandb.ai/viswa_ee/CS6910/sweeps/5hrjihf5' target=\"_blank\">https://wandb.ai/viswa_ee/CS6910/sweeps/5hrjihf5</a>"
      ],
      "text/plain": [
       "<IPython.core.display.HTML object>"
      ]
     },
     "metadata": {},
     "output_type": "display_data"
    },
    {
     "data": {
      "text/html": [
       " View run at <a href='https://wandb.ai/viswa_ee/CS6910/runs/kgjx3xnk' target=\"_blank\">https://wandb.ai/viswa_ee/CS6910/runs/kgjx3xnk</a>"
      ],
      "text/plain": [
       "<IPython.core.display.HTML object>"
      ]
     },
     "metadata": {},
     "output_type": "display_data"
    },
    {
     "data": {
      "text/html": [
       "Waiting for W&B process to finish... <strong style=\"color:green\">(success).</strong>"
      ],
      "text/plain": [
       "<IPython.core.display.HTML object>"
      ]
     },
     "metadata": {},
     "output_type": "display_data"
    },
    {
     "data": {
      "text/html": [
       "<style>\n",
       "    table.wandb td:nth-child(1) { padding: 0 10px; text-align: left ; width: auto;} td:nth-child(2) {text-align: left ; width: 100%}\n",
       "    .wandb-row { display: flex; flex-direction: row; flex-wrap: wrap; justify-content: flex-start; width: 100% }\n",
       "    .wandb-col { display: flex; flex-direction: column; flex-basis: 100%; flex: 1; padding: 10px; }\n",
       "    </style>\n",
       "<div class=\"wandb-row\"><div class=\"wandb-col\"><h3>Run history:</h3><br/><table class=\"wandb\"><tr><td>train_acc</td><td>▁▄▆▆▅▅▆▅█▄</td></tr><tr><td>train_loss</td><td>█▅▃▂▂▂▂▁▁▂</td></tr><tr><td>val_acc</td><td>▁▇█▇▄▆▄▄▇▄</td></tr><tr><td>val_loss</td><td>█▃▃▃▃▁▂▂▁▄</td></tr></table><br/></div><div class=\"wandb-col\"><h3>Run summary:</h3><br/><table class=\"wandb\"><tr><td>train_acc</td><td>0.8325</td></tr><tr><td>train_loss</td><td>1.48681</td></tr><tr><td>val_acc</td><td>0.82733</td></tr><tr><td>val_loss</td><td>0.49998</td></tr></table><br/></div></div>"
      ],
      "text/plain": [
       "<IPython.core.display.HTML object>"
      ]
     },
     "metadata": {},
     "output_type": "display_data"
    },
    {
     "data": {
      "text/html": [
       " View run <strong style=\"color:#cdcd00\">usual-sweep-23</strong> at: <a href='https://wandb.ai/viswa_ee/CS6910/runs/kgjx3xnk' target=\"_blank\">https://wandb.ai/viswa_ee/CS6910/runs/kgjx3xnk</a><br/>Synced 4 W&B file(s), 1 media file(s), 0 artifact file(s) and 0 other file(s)"
      ],
      "text/plain": [
       "<IPython.core.display.HTML object>"
      ]
     },
     "metadata": {},
     "output_type": "display_data"
    },
    {
     "data": {
      "text/html": [
       "Find logs at: <code>.\\wandb\\run-20230317_232725-kgjx3xnk\\logs</code>"
      ],
      "text/plain": [
       "<IPython.core.display.HTML object>"
      ]
     },
     "metadata": {},
     "output_type": "display_data"
    },
    {
     "name": "stderr",
     "output_type": "stream",
     "text": [
      "\u001b[34m\u001b[1mwandb\u001b[0m: Agent Starting Run: 7asu2sj0 with config:\n",
      "\u001b[34m\u001b[1mwandb\u001b[0m: \tact_func: identity\n",
      "\u001b[34m\u001b[1mwandb\u001b[0m: \tbatch_size: 64\n",
      "\u001b[34m\u001b[1mwandb\u001b[0m: \tl2_coeff: 0.5\n",
      "\u001b[34m\u001b[1mwandb\u001b[0m: \tloss_func: mse\n",
      "\u001b[34m\u001b[1mwandb\u001b[0m: \tlr: 0.0001\n",
      "\u001b[34m\u001b[1mwandb\u001b[0m: \tn_epochs: 5\n",
      "\u001b[34m\u001b[1mwandb\u001b[0m: \tn_hidden: 3\n",
      "\u001b[34m\u001b[1mwandb\u001b[0m: \tn_hidden_units: 128\n",
      "\u001b[34m\u001b[1mwandb\u001b[0m: \toptim_algo: nadam\n",
      "\u001b[34m\u001b[1mwandb\u001b[0m: \trelu_param: 0\n",
      "\u001b[34m\u001b[1mwandb\u001b[0m: \tweights_init: xavier_uniform\n",
      "Failed to detect the name of this notebook, you can set it manually with the WANDB_NOTEBOOK_NAME environment variable to enable code saving.\n"
     ]
    },
    {
     "data": {
      "text/html": [
       "Tracking run with wandb version 0.14.0"
      ],
      "text/plain": [
       "<IPython.core.display.HTML object>"
      ]
     },
     "metadata": {},
     "output_type": "display_data"
    },
    {
     "data": {
      "text/html": [
       "Run data is saved locally in <code>d:\\CS6901\\wandb\\run-20230317_233017-7asu2sj0</code>"
      ],
      "text/plain": [
       "<IPython.core.display.HTML object>"
      ]
     },
     "metadata": {},
     "output_type": "display_data"
    },
    {
     "data": {
      "text/html": [
       "Syncing run <strong><a href='https://wandb.ai/viswa_ee/CS6910/runs/7asu2sj0' target=\"_blank\">confused-sweep-24</a></strong> to <a href='https://wandb.ai/viswa_ee/CS6910' target=\"_blank\">Weights & Biases</a> (<a href='https://wandb.me/run' target=\"_blank\">docs</a>)<br/>Sweep page: <a href='https://wandb.ai/viswa_ee/CS6910/sweeps/5hrjihf5' target=\"_blank\">https://wandb.ai/viswa_ee/CS6910/sweeps/5hrjihf5</a>"
      ],
      "text/plain": [
       "<IPython.core.display.HTML object>"
      ]
     },
     "metadata": {},
     "output_type": "display_data"
    },
    {
     "data": {
      "text/html": [
       " View project at <a href='https://wandb.ai/viswa_ee/CS6910' target=\"_blank\">https://wandb.ai/viswa_ee/CS6910</a>"
      ],
      "text/plain": [
       "<IPython.core.display.HTML object>"
      ]
     },
     "metadata": {},
     "output_type": "display_data"
    },
    {
     "data": {
      "text/html": [
       " View sweep at <a href='https://wandb.ai/viswa_ee/CS6910/sweeps/5hrjihf5' target=\"_blank\">https://wandb.ai/viswa_ee/CS6910/sweeps/5hrjihf5</a>"
      ],
      "text/plain": [
       "<IPython.core.display.HTML object>"
      ]
     },
     "metadata": {},
     "output_type": "display_data"
    },
    {
     "data": {
      "text/html": [
       " View run at <a href='https://wandb.ai/viswa_ee/CS6910/runs/7asu2sj0' target=\"_blank\">https://wandb.ai/viswa_ee/CS6910/runs/7asu2sj0</a>"
      ],
      "text/plain": [
       "<IPython.core.display.HTML object>"
      ]
     },
     "metadata": {},
     "output_type": "display_data"
    },
    {
     "data": {
      "text/html": [
       "Waiting for W&B process to finish... <strong style=\"color:green\">(success).</strong>"
      ],
      "text/plain": [
       "<IPython.core.display.HTML object>"
      ]
     },
     "metadata": {},
     "output_type": "display_data"
    },
    {
     "data": {
      "text/html": [
       "<style>\n",
       "    table.wandb td:nth-child(1) { padding: 0 10px; text-align: left ; width: auto;} td:nth-child(2) {text-align: left ; width: 100%}\n",
       "    .wandb-row { display: flex; flex-direction: row; flex-wrap: wrap; justify-content: flex-start; width: 100% }\n",
       "    .wandb-col { display: flex; flex-direction: column; flex-basis: 100%; flex: 1; padding: 10px; }\n",
       "    </style>\n",
       "<div class=\"wandb-row\"><div class=\"wandb-col\"><h3>Run history:</h3><br/><table class=\"wandb\"><tr><td>train_acc</td><td>▁▅▆█▆</td></tr><tr><td>train_loss</td><td>█▆▄▃▁</td></tr><tr><td>val_acc</td><td>▁▆▇█▇</td></tr><tr><td>val_loss</td><td>█▄▃▁▁</td></tr></table><br/></div><div class=\"wandb-col\"><h3>Run summary:</h3><br/><table class=\"wandb\"><tr><td>train_acc</td><td>0.84639</td></tr><tr><td>train_loss</td><td>-1363.53673</td></tr><tr><td>val_acc</td><td>0.84367</td></tr><tr><td>val_loss</td><td>-1193.69658</td></tr></table><br/></div></div>"
      ],
      "text/plain": [
       "<IPython.core.display.HTML object>"
      ]
     },
     "metadata": {},
     "output_type": "display_data"
    },
    {
     "data": {
      "text/html": [
       " View run <strong style=\"color:#cdcd00\">confused-sweep-24</strong> at: <a href='https://wandb.ai/viswa_ee/CS6910/runs/7asu2sj0' target=\"_blank\">https://wandb.ai/viswa_ee/CS6910/runs/7asu2sj0</a><br/>Synced 4 W&B file(s), 1 media file(s), 0 artifact file(s) and 0 other file(s)"
      ],
      "text/plain": [
       "<IPython.core.display.HTML object>"
      ]
     },
     "metadata": {},
     "output_type": "display_data"
    },
    {
     "data": {
      "text/html": [
       "Find logs at: <code>.\\wandb\\run-20230317_233017-7asu2sj0\\logs</code>"
      ],
      "text/plain": [
       "<IPython.core.display.HTML object>"
      ]
     },
     "metadata": {},
     "output_type": "display_data"
    },
    {
     "name": "stderr",
     "output_type": "stream",
     "text": [
      "\u001b[34m\u001b[1mwandb\u001b[0m: Sweep Agent: Waiting for job.\n",
      "\u001b[34m\u001b[1mwandb\u001b[0m: Job received.\n",
      "\u001b[34m\u001b[1mwandb\u001b[0m: Agent Starting Run: f2hhzmoj with config:\n",
      "\u001b[34m\u001b[1mwandb\u001b[0m: \tact_func: identity\n",
      "\u001b[34m\u001b[1mwandb\u001b[0m: \tbatch_size: 64\n",
      "\u001b[34m\u001b[1mwandb\u001b[0m: \tl2_coeff: 0.0005\n",
      "\u001b[34m\u001b[1mwandb\u001b[0m: \tloss_func: mse\n",
      "\u001b[34m\u001b[1mwandb\u001b[0m: \tlr: 0.0001\n",
      "\u001b[34m\u001b[1mwandb\u001b[0m: \tn_epochs: 10\n",
      "\u001b[34m\u001b[1mwandb\u001b[0m: \tn_hidden: 5\n",
      "\u001b[34m\u001b[1mwandb\u001b[0m: \tn_hidden_units: 64\n",
      "\u001b[34m\u001b[1mwandb\u001b[0m: \toptim_algo: adam\n",
      "\u001b[34m\u001b[1mwandb\u001b[0m: \trelu_param: 0.1\n",
      "\u001b[34m\u001b[1mwandb\u001b[0m: \tweights_init: xavier_uniform\n",
      "Failed to detect the name of this notebook, you can set it manually with the WANDB_NOTEBOOK_NAME environment variable to enable code saving.\n"
     ]
    },
    {
     "data": {
      "text/html": [
       "Tracking run with wandb version 0.14.0"
      ],
      "text/plain": [
       "<IPython.core.display.HTML object>"
      ]
     },
     "metadata": {},
     "output_type": "display_data"
    },
    {
     "data": {
      "text/html": [
       "Run data is saved locally in <code>d:\\CS6901\\wandb\\run-20230317_233112-f2hhzmoj</code>"
      ],
      "text/plain": [
       "<IPython.core.display.HTML object>"
      ]
     },
     "metadata": {},
     "output_type": "display_data"
    },
    {
     "data": {
      "text/html": [
       "Syncing run <strong><a href='https://wandb.ai/viswa_ee/CS6910/runs/f2hhzmoj' target=\"_blank\">brisk-sweep-25</a></strong> to <a href='https://wandb.ai/viswa_ee/CS6910' target=\"_blank\">Weights & Biases</a> (<a href='https://wandb.me/run' target=\"_blank\">docs</a>)<br/>Sweep page: <a href='https://wandb.ai/viswa_ee/CS6910/sweeps/5hrjihf5' target=\"_blank\">https://wandb.ai/viswa_ee/CS6910/sweeps/5hrjihf5</a>"
      ],
      "text/plain": [
       "<IPython.core.display.HTML object>"
      ]
     },
     "metadata": {},
     "output_type": "display_data"
    },
    {
     "data": {
      "text/html": [
       " View project at <a href='https://wandb.ai/viswa_ee/CS6910' target=\"_blank\">https://wandb.ai/viswa_ee/CS6910</a>"
      ],
      "text/plain": [
       "<IPython.core.display.HTML object>"
      ]
     },
     "metadata": {},
     "output_type": "display_data"
    },
    {
     "data": {
      "text/html": [
       " View sweep at <a href='https://wandb.ai/viswa_ee/CS6910/sweeps/5hrjihf5' target=\"_blank\">https://wandb.ai/viswa_ee/CS6910/sweeps/5hrjihf5</a>"
      ],
      "text/plain": [
       "<IPython.core.display.HTML object>"
      ]
     },
     "metadata": {},
     "output_type": "display_data"
    },
    {
     "data": {
      "text/html": [
       " View run at <a href='https://wandb.ai/viswa_ee/CS6910/runs/f2hhzmoj' target=\"_blank\">https://wandb.ai/viswa_ee/CS6910/runs/f2hhzmoj</a>"
      ],
      "text/plain": [
       "<IPython.core.display.HTML object>"
      ]
     },
     "metadata": {},
     "output_type": "display_data"
    },
    {
     "data": {
      "text/html": [
       "Waiting for W&B process to finish... <strong style=\"color:green\">(success).</strong>"
      ],
      "text/plain": [
       "<IPython.core.display.HTML object>"
      ]
     },
     "metadata": {},
     "output_type": "display_data"
    },
    {
     "data": {
      "text/html": [
       "<style>\n",
       "    table.wandb td:nth-child(1) { padding: 0 10px; text-align: left ; width: auto;} td:nth-child(2) {text-align: left ; width: 100%}\n",
       "    .wandb-row { display: flex; flex-direction: row; flex-wrap: wrap; justify-content: flex-start; width: 100% }\n",
       "    .wandb-col { display: flex; flex-direction: column; flex-basis: 100%; flex: 1; padding: 10px; }\n",
       "    </style>\n",
       "<div class=\"wandb-row\"><div class=\"wandb-col\"><h3>Run history:</h3><br/><table class=\"wandb\"><tr><td>train_acc</td><td>▁▄▅▆▆▇▆███</td></tr><tr><td>train_loss</td><td>█▆▄▄▂▃▃▁▁▁</td></tr><tr><td>val_acc</td><td>▁▅▅▆▇█▆███</td></tr><tr><td>val_loss</td><td>█▆▅▄▃▂▂▂▁▁</td></tr></table><br/></div><div class=\"wandb-col\"><h3>Run summary:</h3><br/><table class=\"wandb\"><tr><td>train_acc</td><td>0.85887</td></tr><tr><td>train_loss</td><td>-2134.25441</td></tr><tr><td>val_acc</td><td>0.85217</td></tr><tr><td>val_loss</td><td>-2105.6702</td></tr></table><br/></div></div>"
      ],
      "text/plain": [
       "<IPython.core.display.HTML object>"
      ]
     },
     "metadata": {},
     "output_type": "display_data"
    },
    {
     "data": {
      "text/html": [
       " View run <strong style=\"color:#cdcd00\">brisk-sweep-25</strong> at: <a href='https://wandb.ai/viswa_ee/CS6910/runs/f2hhzmoj' target=\"_blank\">https://wandb.ai/viswa_ee/CS6910/runs/f2hhzmoj</a><br/>Synced 4 W&B file(s), 1 media file(s), 0 artifact file(s) and 0 other file(s)"
      ],
      "text/plain": [
       "<IPython.core.display.HTML object>"
      ]
     },
     "metadata": {},
     "output_type": "display_data"
    },
    {
     "data": {
      "text/html": [
       "Find logs at: <code>.\\wandb\\run-20230317_233112-f2hhzmoj\\logs</code>"
      ],
      "text/plain": [
       "<IPython.core.display.HTML object>"
      ]
     },
     "metadata": {},
     "output_type": "display_data"
    },
    {
     "name": "stderr",
     "output_type": "stream",
     "text": [
      "\u001b[34m\u001b[1mwandb\u001b[0m: Agent Starting Run: 90oizpox with config:\n",
      "\u001b[34m\u001b[1mwandb\u001b[0m: \tact_func: identity\n",
      "\u001b[34m\u001b[1mwandb\u001b[0m: \tbatch_size: 16\n",
      "\u001b[34m\u001b[1mwandb\u001b[0m: \tl2_coeff: 0.0005\n",
      "\u001b[34m\u001b[1mwandb\u001b[0m: \tloss_func: mse\n",
      "\u001b[34m\u001b[1mwandb\u001b[0m: \tlr: 0.0001\n",
      "\u001b[34m\u001b[1mwandb\u001b[0m: \tn_epochs: 5\n",
      "\u001b[34m\u001b[1mwandb\u001b[0m: \tn_hidden: 5\n",
      "\u001b[34m\u001b[1mwandb\u001b[0m: \tn_hidden_units: 64\n",
      "\u001b[34m\u001b[1mwandb\u001b[0m: \toptim_algo: adam\n",
      "\u001b[34m\u001b[1mwandb\u001b[0m: \trelu_param: 0.01\n",
      "\u001b[34m\u001b[1mwandb\u001b[0m: \tweights_init: xavier_uniform\n",
      "Failed to detect the name of this notebook, you can set it manually with the WANDB_NOTEBOOK_NAME environment variable to enable code saving.\n"
     ]
    },
    {
     "data": {
      "text/html": [
       "Tracking run with wandb version 0.14.0"
      ],
      "text/plain": [
       "<IPython.core.display.HTML object>"
      ]
     },
     "metadata": {},
     "output_type": "display_data"
    },
    {
     "data": {
      "text/html": [
       "Run data is saved locally in <code>d:\\CS6901\\wandb\\run-20230317_233202-90oizpox</code>"
      ],
      "text/plain": [
       "<IPython.core.display.HTML object>"
      ]
     },
     "metadata": {},
     "output_type": "display_data"
    },
    {
     "data": {
      "text/html": [
       "Syncing run <strong><a href='https://wandb.ai/viswa_ee/CS6910/runs/90oizpox' target=\"_blank\">volcanic-sweep-26</a></strong> to <a href='https://wandb.ai/viswa_ee/CS6910' target=\"_blank\">Weights & Biases</a> (<a href='https://wandb.me/run' target=\"_blank\">docs</a>)<br/>Sweep page: <a href='https://wandb.ai/viswa_ee/CS6910/sweeps/5hrjihf5' target=\"_blank\">https://wandb.ai/viswa_ee/CS6910/sweeps/5hrjihf5</a>"
      ],
      "text/plain": [
       "<IPython.core.display.HTML object>"
      ]
     },
     "metadata": {},
     "output_type": "display_data"
    },
    {
     "data": {
      "text/html": [
       " View project at <a href='https://wandb.ai/viswa_ee/CS6910' target=\"_blank\">https://wandb.ai/viswa_ee/CS6910</a>"
      ],
      "text/plain": [
       "<IPython.core.display.HTML object>"
      ]
     },
     "metadata": {},
     "output_type": "display_data"
    },
    {
     "data": {
      "text/html": [
       " View sweep at <a href='https://wandb.ai/viswa_ee/CS6910/sweeps/5hrjihf5' target=\"_blank\">https://wandb.ai/viswa_ee/CS6910/sweeps/5hrjihf5</a>"
      ],
      "text/plain": [
       "<IPython.core.display.HTML object>"
      ]
     },
     "metadata": {},
     "output_type": "display_data"
    },
    {
     "data": {
      "text/html": [
       " View run at <a href='https://wandb.ai/viswa_ee/CS6910/runs/90oizpox' target=\"_blank\">https://wandb.ai/viswa_ee/CS6910/runs/90oizpox</a>"
      ],
      "text/plain": [
       "<IPython.core.display.HTML object>"
      ]
     },
     "metadata": {},
     "output_type": "display_data"
    },
    {
     "data": {
      "text/html": [
       "Waiting for W&B process to finish... <strong style=\"color:green\">(success).</strong>"
      ],
      "text/plain": [
       "<IPython.core.display.HTML object>"
      ]
     },
     "metadata": {},
     "output_type": "display_data"
    },
    {
     "data": {
      "text/html": [
       "<style>\n",
       "    table.wandb td:nth-child(1) { padding: 0 10px; text-align: left ; width: auto;} td:nth-child(2) {text-align: left ; width: 100%}\n",
       "    .wandb-row { display: flex; flex-direction: row; flex-wrap: wrap; justify-content: flex-start; width: 100% }\n",
       "    .wandb-col { display: flex; flex-direction: column; flex-basis: 100%; flex: 1; padding: 10px; }\n",
       "    </style>\n",
       "<div class=\"wandb-row\"><div class=\"wandb-col\"><h3>Run history:</h3><br/><table class=\"wandb\"><tr><td>train_acc</td><td>▁▃▅▆█</td></tr><tr><td>train_loss</td><td>▅▂██▁</td></tr><tr><td>val_acc</td><td>▁▃▅▅█</td></tr><tr><td>val_loss</td><td>█▄▃▁▂</td></tr></table><br/></div><div class=\"wandb-col\"><h3>Run summary:</h3><br/><table class=\"wandb\"><tr><td>train_acc</td><td>0.86233</td></tr><tr><td>train_loss</td><td>-2199.26718</td></tr><tr><td>val_acc</td><td>0.8565</td></tr><tr><td>val_loss</td><td>-1693.61638</td></tr></table><br/></div></div>"
      ],
      "text/plain": [
       "<IPython.core.display.HTML object>"
      ]
     },
     "metadata": {},
     "output_type": "display_data"
    },
    {
     "data": {
      "text/html": [
       " View run <strong style=\"color:#cdcd00\">volcanic-sweep-26</strong> at: <a href='https://wandb.ai/viswa_ee/CS6910/runs/90oizpox' target=\"_blank\">https://wandb.ai/viswa_ee/CS6910/runs/90oizpox</a><br/>Synced 4 W&B file(s), 1 media file(s), 0 artifact file(s) and 0 other file(s)"
      ],
      "text/plain": [
       "<IPython.core.display.HTML object>"
      ]
     },
     "metadata": {},
     "output_type": "display_data"
    },
    {
     "data": {
      "text/html": [
       "Find logs at: <code>.\\wandb\\run-20230317_233202-90oizpox\\logs</code>"
      ],
      "text/plain": [
       "<IPython.core.display.HTML object>"
      ]
     },
     "metadata": {},
     "output_type": "display_data"
    },
    {
     "name": "stderr",
     "output_type": "stream",
     "text": [
      "\u001b[34m\u001b[1mwandb\u001b[0m: Agent Starting Run: ry5075s1 with config:\n",
      "\u001b[34m\u001b[1mwandb\u001b[0m: \tact_func: identity\n",
      "\u001b[34m\u001b[1mwandb\u001b[0m: \tbatch_size: 16\n",
      "\u001b[34m\u001b[1mwandb\u001b[0m: \tl2_coeff: 0.5\n",
      "\u001b[34m\u001b[1mwandb\u001b[0m: \tloss_func: mse\n",
      "\u001b[34m\u001b[1mwandb\u001b[0m: \tlr: 0.0001\n",
      "\u001b[34m\u001b[1mwandb\u001b[0m: \tn_epochs: 10\n",
      "\u001b[34m\u001b[1mwandb\u001b[0m: \tn_hidden: 4\n",
      "\u001b[34m\u001b[1mwandb\u001b[0m: \tn_hidden_units: 128\n",
      "\u001b[34m\u001b[1mwandb\u001b[0m: \toptim_algo: rmsprop\n",
      "\u001b[34m\u001b[1mwandb\u001b[0m: \trelu_param: 0\n",
      "\u001b[34m\u001b[1mwandb\u001b[0m: \tweights_init: xavier_uniform\n",
      "Failed to detect the name of this notebook, you can set it manually with the WANDB_NOTEBOOK_NAME environment variable to enable code saving.\n"
     ]
    },
    {
     "data": {
      "text/html": [
       "Tracking run with wandb version 0.14.0"
      ],
      "text/plain": [
       "<IPython.core.display.HTML object>"
      ]
     },
     "metadata": {},
     "output_type": "display_data"
    },
    {
     "data": {
      "text/html": [
       "Run data is saved locally in <code>d:\\CS6901\\wandb\\run-20230317_233303-ry5075s1</code>"
      ],
      "text/plain": [
       "<IPython.core.display.HTML object>"
      ]
     },
     "metadata": {},
     "output_type": "display_data"
    },
    {
     "data": {
      "text/html": [
       "Syncing run <strong><a href='https://wandb.ai/viswa_ee/CS6910/runs/ry5075s1' target=\"_blank\">giddy-sweep-27</a></strong> to <a href='https://wandb.ai/viswa_ee/CS6910' target=\"_blank\">Weights & Biases</a> (<a href='https://wandb.me/run' target=\"_blank\">docs</a>)<br/>Sweep page: <a href='https://wandb.ai/viswa_ee/CS6910/sweeps/5hrjihf5' target=\"_blank\">https://wandb.ai/viswa_ee/CS6910/sweeps/5hrjihf5</a>"
      ],
      "text/plain": [
       "<IPython.core.display.HTML object>"
      ]
     },
     "metadata": {},
     "output_type": "display_data"
    },
    {
     "data": {
      "text/html": [
       " View project at <a href='https://wandb.ai/viswa_ee/CS6910' target=\"_blank\">https://wandb.ai/viswa_ee/CS6910</a>"
      ],
      "text/plain": [
       "<IPython.core.display.HTML object>"
      ]
     },
     "metadata": {},
     "output_type": "display_data"
    },
    {
     "data": {
      "text/html": [
       " View sweep at <a href='https://wandb.ai/viswa_ee/CS6910/sweeps/5hrjihf5' target=\"_blank\">https://wandb.ai/viswa_ee/CS6910/sweeps/5hrjihf5</a>"
      ],
      "text/plain": [
       "<IPython.core.display.HTML object>"
      ]
     },
     "metadata": {},
     "output_type": "display_data"
    },
    {
     "data": {
      "text/html": [
       " View run at <a href='https://wandb.ai/viswa_ee/CS6910/runs/ry5075s1' target=\"_blank\">https://wandb.ai/viswa_ee/CS6910/runs/ry5075s1</a>"
      ],
      "text/plain": [
       "<IPython.core.display.HTML object>"
      ]
     },
     "metadata": {},
     "output_type": "display_data"
    },
    {
     "data": {
      "text/html": [
       "Waiting for W&B process to finish... <strong style=\"color:green\">(success).</strong>"
      ],
      "text/plain": [
       "<IPython.core.display.HTML object>"
      ]
     },
     "metadata": {},
     "output_type": "display_data"
    },
    {
     "data": {
      "text/html": [
       "<style>\n",
       "    table.wandb td:nth-child(1) { padding: 0 10px; text-align: left ; width: auto;} td:nth-child(2) {text-align: left ; width: 100%}\n",
       "    .wandb-row { display: flex; flex-direction: row; flex-wrap: wrap; justify-content: flex-start; width: 100% }\n",
       "    .wandb-col { display: flex; flex-direction: column; flex-basis: 100%; flex: 1; padding: 10px; }\n",
       "    </style>\n",
       "<div class=\"wandb-row\"><div class=\"wandb-col\"><h3>Run history:</h3><br/><table class=\"wandb\"><tr><td>train_acc</td><td>▁▆▆▆██▇▇▆▆</td></tr><tr><td>train_loss</td><td>▇▅▅▄▆▁█▂▂▃</td></tr><tr><td>val_acc</td><td>▁▆▆▄█▇▇▆▄▄</td></tr><tr><td>val_loss</td><td>██▇▅▆▄▄▂▃▁</td></tr></table><br/></div><div class=\"wandb-col\"><h3>Run summary:</h3><br/><table class=\"wandb\"><tr><td>train_acc</td><td>0.8297</td></tr><tr><td>train_loss</td><td>-939.25716</td></tr><tr><td>val_acc</td><td>0.82033</td></tr><tr><td>val_loss</td><td>-1011.83569</td></tr></table><br/></div></div>"
      ],
      "text/plain": [
       "<IPython.core.display.HTML object>"
      ]
     },
     "metadata": {},
     "output_type": "display_data"
    },
    {
     "data": {
      "text/html": [
       " View run <strong style=\"color:#cdcd00\">giddy-sweep-27</strong> at: <a href='https://wandb.ai/viswa_ee/CS6910/runs/ry5075s1' target=\"_blank\">https://wandb.ai/viswa_ee/CS6910/runs/ry5075s1</a><br/>Synced 4 W&B file(s), 1 media file(s), 0 artifact file(s) and 0 other file(s)"
      ],
      "text/plain": [
       "<IPython.core.display.HTML object>"
      ]
     },
     "metadata": {},
     "output_type": "display_data"
    },
    {
     "data": {
      "text/html": [
       "Find logs at: <code>.\\wandb\\run-20230317_233303-ry5075s1\\logs</code>"
      ],
      "text/plain": [
       "<IPython.core.display.HTML object>"
      ]
     },
     "metadata": {},
     "output_type": "display_data"
    },
    {
     "name": "stderr",
     "output_type": "stream",
     "text": [
      "\u001b[34m\u001b[1mwandb\u001b[0m: Agent Starting Run: zk5otmul with config:\n",
      "\u001b[34m\u001b[1mwandb\u001b[0m: \tact_func: identity\n",
      "\u001b[34m\u001b[1mwandb\u001b[0m: \tbatch_size: 32\n",
      "\u001b[34m\u001b[1mwandb\u001b[0m: \tl2_coeff: 0.5\n",
      "\u001b[34m\u001b[1mwandb\u001b[0m: \tloss_func: mse\n",
      "\u001b[34m\u001b[1mwandb\u001b[0m: \tlr: 0.0001\n",
      "\u001b[34m\u001b[1mwandb\u001b[0m: \tn_epochs: 5\n",
      "\u001b[34m\u001b[1mwandb\u001b[0m: \tn_hidden: 4\n",
      "\u001b[34m\u001b[1mwandb\u001b[0m: \tn_hidden_units: 128\n",
      "\u001b[34m\u001b[1mwandb\u001b[0m: \toptim_algo: nadam\n",
      "\u001b[34m\u001b[1mwandb\u001b[0m: \trelu_param: 0.1\n",
      "\u001b[34m\u001b[1mwandb\u001b[0m: \tweights_init: xavier_uniform\n",
      "Failed to detect the name of this notebook, you can set it manually with the WANDB_NOTEBOOK_NAME environment variable to enable code saving.\n"
     ]
    },
    {
     "data": {
      "text/html": [
       "Tracking run with wandb version 0.14.0"
      ],
      "text/plain": [
       "<IPython.core.display.HTML object>"
      ]
     },
     "metadata": {},
     "output_type": "display_data"
    },
    {
     "data": {
      "text/html": [
       "Run data is saved locally in <code>d:\\CS6901\\wandb\\run-20230317_233553-zk5otmul</code>"
      ],
      "text/plain": [
       "<IPython.core.display.HTML object>"
      ]
     },
     "metadata": {},
     "output_type": "display_data"
    },
    {
     "data": {
      "text/html": [
       "Syncing run <strong><a href='https://wandb.ai/viswa_ee/CS6910/runs/zk5otmul' target=\"_blank\">drawn-sweep-28</a></strong> to <a href='https://wandb.ai/viswa_ee/CS6910' target=\"_blank\">Weights & Biases</a> (<a href='https://wandb.me/run' target=\"_blank\">docs</a>)<br/>Sweep page: <a href='https://wandb.ai/viswa_ee/CS6910/sweeps/5hrjihf5' target=\"_blank\">https://wandb.ai/viswa_ee/CS6910/sweeps/5hrjihf5</a>"
      ],
      "text/plain": [
       "<IPython.core.display.HTML object>"
      ]
     },
     "metadata": {},
     "output_type": "display_data"
    },
    {
     "data": {
      "text/html": [
       " View project at <a href='https://wandb.ai/viswa_ee/CS6910' target=\"_blank\">https://wandb.ai/viswa_ee/CS6910</a>"
      ],
      "text/plain": [
       "<IPython.core.display.HTML object>"
      ]
     },
     "metadata": {},
     "output_type": "display_data"
    },
    {
     "data": {
      "text/html": [
       " View sweep at <a href='https://wandb.ai/viswa_ee/CS6910/sweeps/5hrjihf5' target=\"_blank\">https://wandb.ai/viswa_ee/CS6910/sweeps/5hrjihf5</a>"
      ],
      "text/plain": [
       "<IPython.core.display.HTML object>"
      ]
     },
     "metadata": {},
     "output_type": "display_data"
    },
    {
     "data": {
      "text/html": [
       " View run at <a href='https://wandb.ai/viswa_ee/CS6910/runs/zk5otmul' target=\"_blank\">https://wandb.ai/viswa_ee/CS6910/runs/zk5otmul</a>"
      ],
      "text/plain": [
       "<IPython.core.display.HTML object>"
      ]
     },
     "metadata": {},
     "output_type": "display_data"
    },
    {
     "data": {
      "text/html": [
       "Waiting for W&B process to finish... <strong style=\"color:green\">(success).</strong>"
      ],
      "text/plain": [
       "<IPython.core.display.HTML object>"
      ]
     },
     "metadata": {},
     "output_type": "display_data"
    },
    {
     "data": {
      "text/html": [
       "<style>\n",
       "    table.wandb td:nth-child(1) { padding: 0 10px; text-align: left ; width: auto;} td:nth-child(2) {text-align: left ; width: 100%}\n",
       "    .wandb-row { display: flex; flex-direction: row; flex-wrap: wrap; justify-content: flex-start; width: 100% }\n",
       "    .wandb-col { display: flex; flex-direction: column; flex-basis: 100%; flex: 1; padding: 10px; }\n",
       "    </style>\n",
       "<div class=\"wandb-row\"><div class=\"wandb-col\"><h3>Run history:</h3><br/><table class=\"wandb\"><tr><td>train_acc</td><td>▁█▇▅▁</td></tr><tr><td>train_loss</td><td>▅▄▄█▁</td></tr><tr><td>val_acc</td><td>▂█▇▄▁</td></tr><tr><td>val_loss</td><td>█▅▁▄▃</td></tr></table><br/></div><div class=\"wandb-col\"><h3>Run summary:</h3><br/><table class=\"wandb\"><tr><td>train_acc</td><td>0.83656</td></tr><tr><td>train_loss</td><td>-1072.66763</td></tr><tr><td>val_acc</td><td>0.82917</td></tr><tr><td>val_loss</td><td>-961.35853</td></tr></table><br/></div></div>"
      ],
      "text/plain": [
       "<IPython.core.display.HTML object>"
      ]
     },
     "metadata": {},
     "output_type": "display_data"
    },
    {
     "data": {
      "text/html": [
       " View run <strong style=\"color:#cdcd00\">drawn-sweep-28</strong> at: <a href='https://wandb.ai/viswa_ee/CS6910/runs/zk5otmul' target=\"_blank\">https://wandb.ai/viswa_ee/CS6910/runs/zk5otmul</a><br/>Synced 4 W&B file(s), 1 media file(s), 0 artifact file(s) and 0 other file(s)"
      ],
      "text/plain": [
       "<IPython.core.display.HTML object>"
      ]
     },
     "metadata": {},
     "output_type": "display_data"
    },
    {
     "data": {
      "text/html": [
       "Find logs at: <code>.\\wandb\\run-20230317_233553-zk5otmul\\logs</code>"
      ],
      "text/plain": [
       "<IPython.core.display.HTML object>"
      ]
     },
     "metadata": {},
     "output_type": "display_data"
    },
    {
     "name": "stderr",
     "output_type": "stream",
     "text": [
      "\u001b[34m\u001b[1mwandb\u001b[0m: Agent Starting Run: w60fxw0u with config:\n",
      "\u001b[34m\u001b[1mwandb\u001b[0m: \tact_func: identity\n",
      "\u001b[34m\u001b[1mwandb\u001b[0m: \tbatch_size: 16\n",
      "\u001b[34m\u001b[1mwandb\u001b[0m: \tl2_coeff: 0.5\n",
      "\u001b[34m\u001b[1mwandb\u001b[0m: \tloss_func: mse\n",
      "\u001b[34m\u001b[1mwandb\u001b[0m: \tlr: 0.0001\n",
      "\u001b[34m\u001b[1mwandb\u001b[0m: \tn_epochs: 5\n",
      "\u001b[34m\u001b[1mwandb\u001b[0m: \tn_hidden: 5\n",
      "\u001b[34m\u001b[1mwandb\u001b[0m: \tn_hidden_units: 128\n",
      "\u001b[34m\u001b[1mwandb\u001b[0m: \toptim_algo: nag\n",
      "\u001b[34m\u001b[1mwandb\u001b[0m: \trelu_param: 0.1\n",
      "\u001b[34m\u001b[1mwandb\u001b[0m: \tweights_init: xavier_uniform\n",
      "Failed to detect the name of this notebook, you can set it manually with the WANDB_NOTEBOOK_NAME environment variable to enable code saving.\n"
     ]
    },
    {
     "data": {
      "text/html": [
       "Tracking run with wandb version 0.14.0"
      ],
      "text/plain": [
       "<IPython.core.display.HTML object>"
      ]
     },
     "metadata": {},
     "output_type": "display_data"
    },
    {
     "data": {
      "text/html": [
       "Run data is saved locally in <code>d:\\CS6901\\wandb\\run-20230317_233708-w60fxw0u</code>"
      ],
      "text/plain": [
       "<IPython.core.display.HTML object>"
      ]
     },
     "metadata": {},
     "output_type": "display_data"
    },
    {
     "data": {
      "text/html": [
       "Syncing run <strong><a href='https://wandb.ai/viswa_ee/CS6910/runs/w60fxw0u' target=\"_blank\">volcanic-sweep-29</a></strong> to <a href='https://wandb.ai/viswa_ee/CS6910' target=\"_blank\">Weights & Biases</a> (<a href='https://wandb.me/run' target=\"_blank\">docs</a>)<br/>Sweep page: <a href='https://wandb.ai/viswa_ee/CS6910/sweeps/5hrjihf5' target=\"_blank\">https://wandb.ai/viswa_ee/CS6910/sweeps/5hrjihf5</a>"
      ],
      "text/plain": [
       "<IPython.core.display.HTML object>"
      ]
     },
     "metadata": {},
     "output_type": "display_data"
    },
    {
     "data": {
      "text/html": [
       " View project at <a href='https://wandb.ai/viswa_ee/CS6910' target=\"_blank\">https://wandb.ai/viswa_ee/CS6910</a>"
      ],
      "text/plain": [
       "<IPython.core.display.HTML object>"
      ]
     },
     "metadata": {},
     "output_type": "display_data"
    },
    {
     "data": {
      "text/html": [
       " View sweep at <a href='https://wandb.ai/viswa_ee/CS6910/sweeps/5hrjihf5' target=\"_blank\">https://wandb.ai/viswa_ee/CS6910/sweeps/5hrjihf5</a>"
      ],
      "text/plain": [
       "<IPython.core.display.HTML object>"
      ]
     },
     "metadata": {},
     "output_type": "display_data"
    },
    {
     "data": {
      "text/html": [
       " View run at <a href='https://wandb.ai/viswa_ee/CS6910/runs/w60fxw0u' target=\"_blank\">https://wandb.ai/viswa_ee/CS6910/runs/w60fxw0u</a>"
      ],
      "text/plain": [
       "<IPython.core.display.HTML object>"
      ]
     },
     "metadata": {},
     "output_type": "display_data"
    },
    {
     "data": {
      "text/html": [
       "Waiting for W&B process to finish... <strong style=\"color:green\">(success).</strong>"
      ],
      "text/plain": [
       "<IPython.core.display.HTML object>"
      ]
     },
     "metadata": {},
     "output_type": "display_data"
    },
    {
     "data": {
      "text/html": [
       "<style>\n",
       "    table.wandb td:nth-child(1) { padding: 0 10px; text-align: left ; width: auto;} td:nth-child(2) {text-align: left ; width: 100%}\n",
       "    .wandb-row { display: flex; flex-direction: row; flex-wrap: wrap; justify-content: flex-start; width: 100% }\n",
       "    .wandb-col { display: flex; flex-direction: column; flex-basis: 100%; flex: 1; padding: 10px; }\n",
       "    </style>\n",
       "<div class=\"wandb-row\"><div class=\"wandb-col\"><h3>Run history:</h3><br/><table class=\"wandb\"><tr><td>train_acc</td><td>█▇▅▁▅</td></tr><tr><td>train_loss</td><td>█▁▁▃█</td></tr><tr><td>val_acc</td><td>██▁█▁</td></tr><tr><td>val_loss</td><td>▂▁▃▂█</td></tr></table><br/></div><div class=\"wandb-col\"><h3>Run summary:</h3><br/><table class=\"wandb\"><tr><td>train_acc</td><td>0.10635</td></tr><tr><td>train_loss</td><td>-61.38353</td></tr><tr><td>val_acc</td><td>0.10317</td></tr><tr><td>val_loss</td><td>-74.77847</td></tr></table><br/></div></div>"
      ],
      "text/plain": [
       "<IPython.core.display.HTML object>"
      ]
     },
     "metadata": {},
     "output_type": "display_data"
    },
    {
     "data": {
      "text/html": [
       " View run <strong style=\"color:#cdcd00\">volcanic-sweep-29</strong> at: <a href='https://wandb.ai/viswa_ee/CS6910/runs/w60fxw0u' target=\"_blank\">https://wandb.ai/viswa_ee/CS6910/runs/w60fxw0u</a><br/>Synced 4 W&B file(s), 1 media file(s), 0 artifact file(s) and 0 other file(s)"
      ],
      "text/plain": [
       "<IPython.core.display.HTML object>"
      ]
     },
     "metadata": {},
     "output_type": "display_data"
    },
    {
     "data": {
      "text/html": [
       "Find logs at: <code>.\\wandb\\run-20230317_233708-w60fxw0u\\logs</code>"
      ],
      "text/plain": [
       "<IPython.core.display.HTML object>"
      ]
     },
     "metadata": {},
     "output_type": "display_data"
    },
    {
     "name": "stderr",
     "output_type": "stream",
     "text": [
      "\u001b[34m\u001b[1mwandb\u001b[0m: Sweep Agent: Waiting for job.\n",
      "\u001b[34m\u001b[1mwandb\u001b[0m: Job received.\n",
      "\u001b[34m\u001b[1mwandb\u001b[0m: Agent Starting Run: ap8y4qs0 with config:\n",
      "\u001b[34m\u001b[1mwandb\u001b[0m: \tact_func: identity\n",
      "\u001b[34m\u001b[1mwandb\u001b[0m: \tbatch_size: 32\n",
      "\u001b[34m\u001b[1mwandb\u001b[0m: \tl2_coeff: 0.0005\n",
      "\u001b[34m\u001b[1mwandb\u001b[0m: \tloss_func: mse\n",
      "\u001b[34m\u001b[1mwandb\u001b[0m: \tlr: 0.0001\n",
      "\u001b[34m\u001b[1mwandb\u001b[0m: \tn_epochs: 10\n",
      "\u001b[34m\u001b[1mwandb\u001b[0m: \tn_hidden: 4\n",
      "\u001b[34m\u001b[1mwandb\u001b[0m: \tn_hidden_units: 128\n",
      "\u001b[34m\u001b[1mwandb\u001b[0m: \toptim_algo: sgdm\n",
      "\u001b[34m\u001b[1mwandb\u001b[0m: \trelu_param: 0\n",
      "\u001b[34m\u001b[1mwandb\u001b[0m: \tweights_init: xavier_uniform\n",
      "Failed to detect the name of this notebook, you can set it manually with the WANDB_NOTEBOOK_NAME environment variable to enable code saving.\n"
     ]
    },
    {
     "data": {
      "text/html": [
       "Tracking run with wandb version 0.14.0"
      ],
      "text/plain": [
       "<IPython.core.display.HTML object>"
      ]
     },
     "metadata": {},
     "output_type": "display_data"
    },
    {
     "data": {
      "text/html": [
       "Run data is saved locally in <code>d:\\CS6901\\wandb\\run-20230317_233854-ap8y4qs0</code>"
      ],
      "text/plain": [
       "<IPython.core.display.HTML object>"
      ]
     },
     "metadata": {},
     "output_type": "display_data"
    },
    {
     "data": {
      "text/html": [
       "Syncing run <strong><a href='https://wandb.ai/viswa_ee/CS6910/runs/ap8y4qs0' target=\"_blank\">apricot-sweep-30</a></strong> to <a href='https://wandb.ai/viswa_ee/CS6910' target=\"_blank\">Weights & Biases</a> (<a href='https://wandb.me/run' target=\"_blank\">docs</a>)<br/>Sweep page: <a href='https://wandb.ai/viswa_ee/CS6910/sweeps/5hrjihf5' target=\"_blank\">https://wandb.ai/viswa_ee/CS6910/sweeps/5hrjihf5</a>"
      ],
      "text/plain": [
       "<IPython.core.display.HTML object>"
      ]
     },
     "metadata": {},
     "output_type": "display_data"
    },
    {
     "data": {
      "text/html": [
       " View project at <a href='https://wandb.ai/viswa_ee/CS6910' target=\"_blank\">https://wandb.ai/viswa_ee/CS6910</a>"
      ],
      "text/plain": [
       "<IPython.core.display.HTML object>"
      ]
     },
     "metadata": {},
     "output_type": "display_data"
    },
    {
     "data": {
      "text/html": [
       " View sweep at <a href='https://wandb.ai/viswa_ee/CS6910/sweeps/5hrjihf5' target=\"_blank\">https://wandb.ai/viswa_ee/CS6910/sweeps/5hrjihf5</a>"
      ],
      "text/plain": [
       "<IPython.core.display.HTML object>"
      ]
     },
     "metadata": {},
     "output_type": "display_data"
    },
    {
     "data": {
      "text/html": [
       " View run at <a href='https://wandb.ai/viswa_ee/CS6910/runs/ap8y4qs0' target=\"_blank\">https://wandb.ai/viswa_ee/CS6910/runs/ap8y4qs0</a>"
      ],
      "text/plain": [
       "<IPython.core.display.HTML object>"
      ]
     },
     "metadata": {},
     "output_type": "display_data"
    },
    {
     "data": {
      "text/html": [
       "Waiting for W&B process to finish... <strong style=\"color:green\">(success).</strong>"
      ],
      "text/plain": [
       "<IPython.core.display.HTML object>"
      ]
     },
     "metadata": {},
     "output_type": "display_data"
    },
    {
     "data": {
      "text/html": [
       "<style>\n",
       "    table.wandb td:nth-child(1) { padding: 0 10px; text-align: left ; width: auto;} td:nth-child(2) {text-align: left ; width: 100%}\n",
       "    .wandb-row { display: flex; flex-direction: row; flex-wrap: wrap; justify-content: flex-start; width: 100% }\n",
       "    .wandb-col { display: flex; flex-direction: column; flex-basis: 100%; flex: 1; padding: 10px; }\n",
       "    </style>\n",
       "<div class=\"wandb-row\"><div class=\"wandb-col\"><h3>Run history:</h3><br/><table class=\"wandb\"><tr><td>train_acc</td><td>▁▄▅▆▇▇▇███</td></tr><tr><td>train_loss</td><td>██▇▆▆▃▃▂▁▄</td></tr><tr><td>val_acc</td><td>▁▄▅▆▇▇████</td></tr><tr><td>val_loss</td><td>█▇▇▆▅▄▃▃▂▁</td></tr></table><br/></div><div class=\"wandb-col\"><h3>Run summary:</h3><br/><table class=\"wandb\"><tr><td>train_acc</td><td>0.72867</td></tr><tr><td>train_loss</td><td>-172.54003</td></tr><tr><td>val_acc</td><td>0.71967</td></tr><tr><td>val_loss</td><td>-280.92005</td></tr></table><br/></div></div>"
      ],
      "text/plain": [
       "<IPython.core.display.HTML object>"
      ]
     },
     "metadata": {},
     "output_type": "display_data"
    },
    {
     "data": {
      "text/html": [
       " View run <strong style=\"color:#cdcd00\">apricot-sweep-30</strong> at: <a href='https://wandb.ai/viswa_ee/CS6910/runs/ap8y4qs0' target=\"_blank\">https://wandb.ai/viswa_ee/CS6910/runs/ap8y4qs0</a><br/>Synced 4 W&B file(s), 1 media file(s), 0 artifact file(s) and 0 other file(s)"
      ],
      "text/plain": [
       "<IPython.core.display.HTML object>"
      ]
     },
     "metadata": {},
     "output_type": "display_data"
    },
    {
     "data": {
      "text/html": [
       "Find logs at: <code>.\\wandb\\run-20230317_233854-ap8y4qs0\\logs</code>"
      ],
      "text/plain": [
       "<IPython.core.display.HTML object>"
      ]
     },
     "metadata": {},
     "output_type": "display_data"
    },
    {
     "name": "stderr",
     "output_type": "stream",
     "text": [
      "\u001b[34m\u001b[1mwandb\u001b[0m: Agent Starting Run: 84wl8nq2 with config:\n",
      "\u001b[34m\u001b[1mwandb\u001b[0m: \tact_func: identity\n",
      "\u001b[34m\u001b[1mwandb\u001b[0m: \tbatch_size: 16\n",
      "\u001b[34m\u001b[1mwandb\u001b[0m: \tl2_coeff: 0.5\n",
      "\u001b[34m\u001b[1mwandb\u001b[0m: \tloss_func: mse\n",
      "\u001b[34m\u001b[1mwandb\u001b[0m: \tlr: 0.0001\n",
      "\u001b[34m\u001b[1mwandb\u001b[0m: \tn_epochs: 10\n",
      "\u001b[34m\u001b[1mwandb\u001b[0m: \tn_hidden: 4\n",
      "\u001b[34m\u001b[1mwandb\u001b[0m: \tn_hidden_units: 32\n",
      "\u001b[34m\u001b[1mwandb\u001b[0m: \toptim_algo: adam\n",
      "\u001b[34m\u001b[1mwandb\u001b[0m: \trelu_param: 0\n",
      "\u001b[34m\u001b[1mwandb\u001b[0m: \tweights_init: xavier_uniform\n",
      "Failed to detect the name of this notebook, you can set it manually with the WANDB_NOTEBOOK_NAME environment variable to enable code saving.\n"
     ]
    },
    {
     "data": {
      "text/html": [
       "Tracking run with wandb version 0.14.0"
      ],
      "text/plain": [
       "<IPython.core.display.HTML object>"
      ]
     },
     "metadata": {},
     "output_type": "display_data"
    },
    {
     "data": {
      "text/html": [
       "Run data is saved locally in <code>d:\\CS6901\\wandb\\run-20230317_234114-84wl8nq2</code>"
      ],
      "text/plain": [
       "<IPython.core.display.HTML object>"
      ]
     },
     "metadata": {},
     "output_type": "display_data"
    },
    {
     "data": {
      "text/html": [
       "Syncing run <strong><a href='https://wandb.ai/viswa_ee/CS6910/runs/84wl8nq2' target=\"_blank\">elated-sweep-31</a></strong> to <a href='https://wandb.ai/viswa_ee/CS6910' target=\"_blank\">Weights & Biases</a> (<a href='https://wandb.me/run' target=\"_blank\">docs</a>)<br/>Sweep page: <a href='https://wandb.ai/viswa_ee/CS6910/sweeps/5hrjihf5' target=\"_blank\">https://wandb.ai/viswa_ee/CS6910/sweeps/5hrjihf5</a>"
      ],
      "text/plain": [
       "<IPython.core.display.HTML object>"
      ]
     },
     "metadata": {},
     "output_type": "display_data"
    },
    {
     "data": {
      "text/html": [
       " View project at <a href='https://wandb.ai/viswa_ee/CS6910' target=\"_blank\">https://wandb.ai/viswa_ee/CS6910</a>"
      ],
      "text/plain": [
       "<IPython.core.display.HTML object>"
      ]
     },
     "metadata": {},
     "output_type": "display_data"
    },
    {
     "data": {
      "text/html": [
       " View sweep at <a href='https://wandb.ai/viswa_ee/CS6910/sweeps/5hrjihf5' target=\"_blank\">https://wandb.ai/viswa_ee/CS6910/sweeps/5hrjihf5</a>"
      ],
      "text/plain": [
       "<IPython.core.display.HTML object>"
      ]
     },
     "metadata": {},
     "output_type": "display_data"
    },
    {
     "data": {
      "text/html": [
       " View run at <a href='https://wandb.ai/viswa_ee/CS6910/runs/84wl8nq2' target=\"_blank\">https://wandb.ai/viswa_ee/CS6910/runs/84wl8nq2</a>"
      ],
      "text/plain": [
       "<IPython.core.display.HTML object>"
      ]
     },
     "metadata": {},
     "output_type": "display_data"
    },
    {
     "data": {
      "text/html": [
       "Waiting for W&B process to finish... <strong style=\"color:green\">(success).</strong>"
      ],
      "text/plain": [
       "<IPython.core.display.HTML object>"
      ]
     },
     "metadata": {},
     "output_type": "display_data"
    },
    {
     "data": {
      "text/html": [
       "<style>\n",
       "    table.wandb td:nth-child(1) { padding: 0 10px; text-align: left ; width: auto;} td:nth-child(2) {text-align: left ; width: 100%}\n",
       "    .wandb-row { display: flex; flex-direction: row; flex-wrap: wrap; justify-content: flex-start; width: 100% }\n",
       "    .wandb-col { display: flex; flex-direction: column; flex-basis: 100%; flex: 1; padding: 10px; }\n",
       "    </style>\n",
       "<div class=\"wandb-row\"><div class=\"wandb-col\"><h3>Run history:</h3><br/><table class=\"wandb\"><tr><td>train_acc</td><td>▁▄▆▅▆▆▇███</td></tr><tr><td>train_loss</td><td>▇▅█▇▃▃█▁▄█</td></tr><tr><td>val_acc</td><td>▁▄▆▅▆▆▇▇██</td></tr><tr><td>val_loss</td><td>█▄▅▅▄▄▃▁▂▁</td></tr></table><br/></div><div class=\"wandb-col\"><h3>Run summary:</h3><br/><table class=\"wandb\"><tr><td>train_acc</td><td>0.83881</td></tr><tr><td>train_loss</td><td>-726.4714</td></tr><tr><td>val_acc</td><td>0.83483</td></tr><tr><td>val_loss</td><td>-867.33059</td></tr></table><br/></div></div>"
      ],
      "text/plain": [
       "<IPython.core.display.HTML object>"
      ]
     },
     "metadata": {},
     "output_type": "display_data"
    },
    {
     "data": {
      "text/html": [
       " View run <strong style=\"color:#cdcd00\">elated-sweep-31</strong> at: <a href='https://wandb.ai/viswa_ee/CS6910/runs/84wl8nq2' target=\"_blank\">https://wandb.ai/viswa_ee/CS6910/runs/84wl8nq2</a><br/>Synced 4 W&B file(s), 1 media file(s), 0 artifact file(s) and 0 other file(s)"
      ],
      "text/plain": [
       "<IPython.core.display.HTML object>"
      ]
     },
     "metadata": {},
     "output_type": "display_data"
    },
    {
     "data": {
      "text/html": [
       "Find logs at: <code>.\\wandb\\run-20230317_234114-84wl8nq2\\logs</code>"
      ],
      "text/plain": [
       "<IPython.core.display.HTML object>"
      ]
     },
     "metadata": {},
     "output_type": "display_data"
    },
    {
     "name": "stderr",
     "output_type": "stream",
     "text": [
      "\u001b[34m\u001b[1mwandb\u001b[0m: Agent Starting Run: 7tv2hdlm with config:\n",
      "\u001b[34m\u001b[1mwandb\u001b[0m: \tact_func: identity\n",
      "\u001b[34m\u001b[1mwandb\u001b[0m: \tbatch_size: 64\n",
      "\u001b[34m\u001b[1mwandb\u001b[0m: \tl2_coeff: 0.0005\n",
      "\u001b[34m\u001b[1mwandb\u001b[0m: \tloss_func: mse\n",
      "\u001b[34m\u001b[1mwandb\u001b[0m: \tlr: 0.0001\n",
      "\u001b[34m\u001b[1mwandb\u001b[0m: \tn_epochs: 5\n",
      "\u001b[34m\u001b[1mwandb\u001b[0m: \tn_hidden: 5\n",
      "\u001b[34m\u001b[1mwandb\u001b[0m: \tn_hidden_units: 64\n",
      "\u001b[34m\u001b[1mwandb\u001b[0m: \toptim_algo: adam\n",
      "\u001b[34m\u001b[1mwandb\u001b[0m: \trelu_param: 0.1\n",
      "\u001b[34m\u001b[1mwandb\u001b[0m: \tweights_init: xavier_uniform\n",
      "Failed to detect the name of this notebook, you can set it manually with the WANDB_NOTEBOOK_NAME environment variable to enable code saving.\n"
     ]
    },
    {
     "data": {
      "text/html": [
       "Tracking run with wandb version 0.14.0"
      ],
      "text/plain": [
       "<IPython.core.display.HTML object>"
      ]
     },
     "metadata": {},
     "output_type": "display_data"
    },
    {
     "data": {
      "text/html": [
       "Run data is saved locally in <code>d:\\CS6901\\wandb\\run-20230317_234240-7tv2hdlm</code>"
      ],
      "text/plain": [
       "<IPython.core.display.HTML object>"
      ]
     },
     "metadata": {},
     "output_type": "display_data"
    },
    {
     "data": {
      "text/html": [
       "Syncing run <strong><a href='https://wandb.ai/viswa_ee/CS6910/runs/7tv2hdlm' target=\"_blank\">solar-sweep-32</a></strong> to <a href='https://wandb.ai/viswa_ee/CS6910' target=\"_blank\">Weights & Biases</a> (<a href='https://wandb.me/run' target=\"_blank\">docs</a>)<br/>Sweep page: <a href='https://wandb.ai/viswa_ee/CS6910/sweeps/5hrjihf5' target=\"_blank\">https://wandb.ai/viswa_ee/CS6910/sweeps/5hrjihf5</a>"
      ],
      "text/plain": [
       "<IPython.core.display.HTML object>"
      ]
     },
     "metadata": {},
     "output_type": "display_data"
    },
    {
     "data": {
      "text/html": [
       " View project at <a href='https://wandb.ai/viswa_ee/CS6910' target=\"_blank\">https://wandb.ai/viswa_ee/CS6910</a>"
      ],
      "text/plain": [
       "<IPython.core.display.HTML object>"
      ]
     },
     "metadata": {},
     "output_type": "display_data"
    },
    {
     "data": {
      "text/html": [
       " View sweep at <a href='https://wandb.ai/viswa_ee/CS6910/sweeps/5hrjihf5' target=\"_blank\">https://wandb.ai/viswa_ee/CS6910/sweeps/5hrjihf5</a>"
      ],
      "text/plain": [
       "<IPython.core.display.HTML object>"
      ]
     },
     "metadata": {},
     "output_type": "display_data"
    },
    {
     "data": {
      "text/html": [
       " View run at <a href='https://wandb.ai/viswa_ee/CS6910/runs/7tv2hdlm' target=\"_blank\">https://wandb.ai/viswa_ee/CS6910/runs/7tv2hdlm</a>"
      ],
      "text/plain": [
       "<IPython.core.display.HTML object>"
      ]
     },
     "metadata": {},
     "output_type": "display_data"
    },
    {
     "data": {
      "text/html": [
       "Waiting for W&B process to finish... <strong style=\"color:green\">(success).</strong>"
      ],
      "text/plain": [
       "<IPython.core.display.HTML object>"
      ]
     },
     "metadata": {},
     "output_type": "display_data"
    },
    {
     "data": {
      "text/html": [
       "<style>\n",
       "    table.wandb td:nth-child(1) { padding: 0 10px; text-align: left ; width: auto;} td:nth-child(2) {text-align: left ; width: 100%}\n",
       "    .wandb-row { display: flex; flex-direction: row; flex-wrap: wrap; justify-content: flex-start; width: 100% }\n",
       "    .wandb-col { display: flex; flex-direction: column; flex-basis: 100%; flex: 1; padding: 10px; }\n",
       "    </style>\n",
       "<div class=\"wandb-row\"><div class=\"wandb-col\"><h3>Run history:</h3><br/><table class=\"wandb\"><tr><td>train_acc</td><td>▁▅██▇</td></tr><tr><td>train_loss</td><td>█▆▃▂▁</td></tr><tr><td>val_acc</td><td>▁▆███</td></tr><tr><td>val_loss</td><td>█▅▃▂▁</td></tr></table><br/></div><div class=\"wandb-col\"><h3>Run summary:</h3><br/><table class=\"wandb\"><tr><td>train_acc</td><td>0.8462</td></tr><tr><td>train_loss</td><td>-1856.89651</td></tr><tr><td>val_acc</td><td>0.84117</td></tr><tr><td>val_loss</td><td>-1655.93436</td></tr></table><br/></div></div>"
      ],
      "text/plain": [
       "<IPython.core.display.HTML object>"
      ]
     },
     "metadata": {},
     "output_type": "display_data"
    },
    {
     "data": {
      "text/html": [
       " View run <strong style=\"color:#cdcd00\">solar-sweep-32</strong> at: <a href='https://wandb.ai/viswa_ee/CS6910/runs/7tv2hdlm' target=\"_blank\">https://wandb.ai/viswa_ee/CS6910/runs/7tv2hdlm</a><br/>Synced 4 W&B file(s), 1 media file(s), 0 artifact file(s) and 0 other file(s)"
      ],
      "text/plain": [
       "<IPython.core.display.HTML object>"
      ]
     },
     "metadata": {},
     "output_type": "display_data"
    },
    {
     "data": {
      "text/html": [
       "Find logs at: <code>.\\wandb\\run-20230317_234240-7tv2hdlm\\logs</code>"
      ],
      "text/plain": [
       "<IPython.core.display.HTML object>"
      ]
     },
     "metadata": {},
     "output_type": "display_data"
    },
    {
     "name": "stderr",
     "output_type": "stream",
     "text": [
      "\u001b[34m\u001b[1mwandb\u001b[0m: Sweep Agent: Waiting for job.\n",
      "\u001b[34m\u001b[1mwandb\u001b[0m: Job received.\n",
      "\u001b[34m\u001b[1mwandb\u001b[0m: Agent Starting Run: 97uu3d07 with config:\n",
      "\u001b[34m\u001b[1mwandb\u001b[0m: \tact_func: identity\n",
      "\u001b[34m\u001b[1mwandb\u001b[0m: \tbatch_size: 32\n",
      "\u001b[34m\u001b[1mwandb\u001b[0m: \tl2_coeff: 0.0005\n",
      "\u001b[34m\u001b[1mwandb\u001b[0m: \tloss_func: mse\n",
      "\u001b[34m\u001b[1mwandb\u001b[0m: \tlr: 0.0001\n",
      "\u001b[34m\u001b[1mwandb\u001b[0m: \tn_epochs: 10\n",
      "\u001b[34m\u001b[1mwandb\u001b[0m: \tn_hidden: 5\n",
      "\u001b[34m\u001b[1mwandb\u001b[0m: \tn_hidden_units: 64\n",
      "\u001b[34m\u001b[1mwandb\u001b[0m: \toptim_algo: adam\n",
      "\u001b[34m\u001b[1mwandb\u001b[0m: \trelu_param: 0.1\n",
      "\u001b[34m\u001b[1mwandb\u001b[0m: \tweights_init: xavier_uniform\n",
      "Failed to detect the name of this notebook, you can set it manually with the WANDB_NOTEBOOK_NAME environment variable to enable code saving.\n"
     ]
    },
    {
     "data": {
      "text/html": [
       "Tracking run with wandb version 0.14.0"
      ],
      "text/plain": [
       "<IPython.core.display.HTML object>"
      ]
     },
     "metadata": {},
     "output_type": "display_data"
    },
    {
     "data": {
      "text/html": [
       "Run data is saved locally in <code>d:\\CS6901\\wandb\\run-20230317_234317-97uu3d07</code>"
      ],
      "text/plain": [
       "<IPython.core.display.HTML object>"
      ]
     },
     "metadata": {},
     "output_type": "display_data"
    },
    {
     "data": {
      "text/html": [
       "Syncing run <strong><a href='https://wandb.ai/viswa_ee/CS6910/runs/97uu3d07' target=\"_blank\">comfy-sweep-33</a></strong> to <a href='https://wandb.ai/viswa_ee/CS6910' target=\"_blank\">Weights & Biases</a> (<a href='https://wandb.me/run' target=\"_blank\">docs</a>)<br/>Sweep page: <a href='https://wandb.ai/viswa_ee/CS6910/sweeps/5hrjihf5' target=\"_blank\">https://wandb.ai/viswa_ee/CS6910/sweeps/5hrjihf5</a>"
      ],
      "text/plain": [
       "<IPython.core.display.HTML object>"
      ]
     },
     "metadata": {},
     "output_type": "display_data"
    },
    {
     "data": {
      "text/html": [
       " View project at <a href='https://wandb.ai/viswa_ee/CS6910' target=\"_blank\">https://wandb.ai/viswa_ee/CS6910</a>"
      ],
      "text/plain": [
       "<IPython.core.display.HTML object>"
      ]
     },
     "metadata": {},
     "output_type": "display_data"
    },
    {
     "data": {
      "text/html": [
       " View sweep at <a href='https://wandb.ai/viswa_ee/CS6910/sweeps/5hrjihf5' target=\"_blank\">https://wandb.ai/viswa_ee/CS6910/sweeps/5hrjihf5</a>"
      ],
      "text/plain": [
       "<IPython.core.display.HTML object>"
      ]
     },
     "metadata": {},
     "output_type": "display_data"
    },
    {
     "data": {
      "text/html": [
       " View run at <a href='https://wandb.ai/viswa_ee/CS6910/runs/97uu3d07' target=\"_blank\">https://wandb.ai/viswa_ee/CS6910/runs/97uu3d07</a>"
      ],
      "text/plain": [
       "<IPython.core.display.HTML object>"
      ]
     },
     "metadata": {},
     "output_type": "display_data"
    },
    {
     "data": {
      "text/html": [
       "Waiting for W&B process to finish... <strong style=\"color:green\">(success).</strong>"
      ],
      "text/plain": [
       "<IPython.core.display.HTML object>"
      ]
     },
     "metadata": {},
     "output_type": "display_data"
    },
    {
     "data": {
      "text/html": [
       "<style>\n",
       "    table.wandb td:nth-child(1) { padding: 0 10px; text-align: left ; width: auto;} td:nth-child(2) {text-align: left ; width: 100%}\n",
       "    .wandb-row { display: flex; flex-direction: row; flex-wrap: wrap; justify-content: flex-start; width: 100% }\n",
       "    .wandb-col { display: flex; flex-direction: column; flex-basis: 100%; flex: 1; padding: 10px; }\n",
       "    </style>\n",
       "<div class=\"wandb-row\"><div class=\"wandb-col\"><h3>Run history:</h3><br/><table class=\"wandb\"><tr><td>train_acc</td><td>▁▄▅▇▇▆▇███</td></tr><tr><td>train_loss</td><td>█▅▆▅▆▄▅▃▃▁</td></tr><tr><td>val_acc</td><td>▁▅▅▇█▆▇███</td></tr><tr><td>val_loss</td><td>█▆▅▄▃▃▃▂▂▁</td></tr></table><br/></div><div class=\"wandb-col\"><h3>Run summary:</h3><br/><table class=\"wandb\"><tr><td>train_acc</td><td>0.86165</td></tr><tr><td>train_loss</td><td>-3100.64671</td></tr><tr><td>val_acc</td><td>0.85517</td></tr><tr><td>val_loss</td><td>-2284.46118</td></tr></table><br/></div></div>"
      ],
      "text/plain": [
       "<IPython.core.display.HTML object>"
      ]
     },
     "metadata": {},
     "output_type": "display_data"
    },
    {
     "data": {
      "text/html": [
       " View run <strong style=\"color:#cdcd00\">comfy-sweep-33</strong> at: <a href='https://wandb.ai/viswa_ee/CS6910/runs/97uu3d07' target=\"_blank\">https://wandb.ai/viswa_ee/CS6910/runs/97uu3d07</a><br/>Synced 4 W&B file(s), 1 media file(s), 0 artifact file(s) and 0 other file(s)"
      ],
      "text/plain": [
       "<IPython.core.display.HTML object>"
      ]
     },
     "metadata": {},
     "output_type": "display_data"
    },
    {
     "data": {
      "text/html": [
       "Find logs at: <code>.\\wandb\\run-20230317_234317-97uu3d07\\logs</code>"
      ],
      "text/plain": [
       "<IPython.core.display.HTML object>"
      ]
     },
     "metadata": {},
     "output_type": "display_data"
    },
    {
     "name": "stderr",
     "output_type": "stream",
     "text": [
      "\u001b[34m\u001b[1mwandb\u001b[0m: Sweep Agent: Waiting for job.\n",
      "\u001b[34m\u001b[1mwandb\u001b[0m: Job received.\n",
      "\u001b[34m\u001b[1mwandb\u001b[0m: Agent Starting Run: ozom9imt with config:\n",
      "\u001b[34m\u001b[1mwandb\u001b[0m: \tact_func: identity\n",
      "\u001b[34m\u001b[1mwandb\u001b[0m: \tbatch_size: 64\n",
      "\u001b[34m\u001b[1mwandb\u001b[0m: \tl2_coeff: 0.5\n",
      "\u001b[34m\u001b[1mwandb\u001b[0m: \tloss_func: cross_ent\n",
      "\u001b[34m\u001b[1mwandb\u001b[0m: \tlr: 0.0001\n",
      "\u001b[34m\u001b[1mwandb\u001b[0m: \tn_epochs: 5\n",
      "\u001b[34m\u001b[1mwandb\u001b[0m: \tn_hidden: 5\n",
      "\u001b[34m\u001b[1mwandb\u001b[0m: \tn_hidden_units: 128\n",
      "\u001b[34m\u001b[1mwandb\u001b[0m: \toptim_algo: rmsprop\n",
      "\u001b[34m\u001b[1mwandb\u001b[0m: \trelu_param: 0.1\n",
      "\u001b[34m\u001b[1mwandb\u001b[0m: \tweights_init: xavier_uniform\n",
      "Failed to detect the name of this notebook, you can set it manually with the WANDB_NOTEBOOK_NAME environment variable to enable code saving.\n"
     ]
    },
    {
     "data": {
      "text/html": [
       "Tracking run with wandb version 0.14.0"
      ],
      "text/plain": [
       "<IPython.core.display.HTML object>"
      ]
     },
     "metadata": {},
     "output_type": "display_data"
    },
    {
     "data": {
      "text/html": [
       "Run data is saved locally in <code>d:\\CS6901\\wandb\\run-20230317_234431-ozom9imt</code>"
      ],
      "text/plain": [
       "<IPython.core.display.HTML object>"
      ]
     },
     "metadata": {},
     "output_type": "display_data"
    },
    {
     "data": {
      "text/html": [
       "Syncing run <strong><a href='https://wandb.ai/viswa_ee/CS6910/runs/ozom9imt' target=\"_blank\">spring-sweep-34</a></strong> to <a href='https://wandb.ai/viswa_ee/CS6910' target=\"_blank\">Weights & Biases</a> (<a href='https://wandb.me/run' target=\"_blank\">docs</a>)<br/>Sweep page: <a href='https://wandb.ai/viswa_ee/CS6910/sweeps/5hrjihf5' target=\"_blank\">https://wandb.ai/viswa_ee/CS6910/sweeps/5hrjihf5</a>"
      ],
      "text/plain": [
       "<IPython.core.display.HTML object>"
      ]
     },
     "metadata": {},
     "output_type": "display_data"
    },
    {
     "data": {
      "text/html": [
       " View project at <a href='https://wandb.ai/viswa_ee/CS6910' target=\"_blank\">https://wandb.ai/viswa_ee/CS6910</a>"
      ],
      "text/plain": [
       "<IPython.core.display.HTML object>"
      ]
     },
     "metadata": {},
     "output_type": "display_data"
    },
    {
     "data": {
      "text/html": [
       " View sweep at <a href='https://wandb.ai/viswa_ee/CS6910/sweeps/5hrjihf5' target=\"_blank\">https://wandb.ai/viswa_ee/CS6910/sweeps/5hrjihf5</a>"
      ],
      "text/plain": [
       "<IPython.core.display.HTML object>"
      ]
     },
     "metadata": {},
     "output_type": "display_data"
    },
    {
     "data": {
      "text/html": [
       " View run at <a href='https://wandb.ai/viswa_ee/CS6910/runs/ozom9imt' target=\"_blank\">https://wandb.ai/viswa_ee/CS6910/runs/ozom9imt</a>"
      ],
      "text/plain": [
       "<IPython.core.display.HTML object>"
      ]
     },
     "metadata": {},
     "output_type": "display_data"
    },
    {
     "data": {
      "text/html": [
       "Waiting for W&B process to finish... <strong style=\"color:green\">(success).</strong>"
      ],
      "text/plain": [
       "<IPython.core.display.HTML object>"
      ]
     },
     "metadata": {},
     "output_type": "display_data"
    },
    {
     "data": {
      "text/html": [
       "<style>\n",
       "    table.wandb td:nth-child(1) { padding: 0 10px; text-align: left ; width: auto;} td:nth-child(2) {text-align: left ; width: 100%}\n",
       "    .wandb-row { display: flex; flex-direction: row; flex-wrap: wrap; justify-content: flex-start; width: 100% }\n",
       "    .wandb-col { display: flex; flex-direction: column; flex-basis: 100%; flex: 1; padding: 10px; }\n",
       "    </style>\n",
       "<div class=\"wandb-row\"><div class=\"wandb-col\"><h3>Run history:</h3><br/><table class=\"wandb\"><tr><td>train_acc</td><td>▁▇▇▄█</td></tr><tr><td>train_loss</td><td>█▅▃▃▁</td></tr><tr><td>val_acc</td><td>▁▇▇▆█</td></tr><tr><td>val_loss</td><td>█▃▂▃▁</td></tr></table><br/></div><div class=\"wandb-col\"><h3>Run summary:</h3><br/><table class=\"wandb\"><tr><td>train_acc</td><td>0.8483</td></tr><tr><td>train_loss</td><td>1.19577</td></tr><tr><td>val_acc</td><td>0.84417</td></tr><tr><td>val_loss</td><td>0.45867</td></tr></table><br/></div></div>"
      ],
      "text/plain": [
       "<IPython.core.display.HTML object>"
      ]
     },
     "metadata": {},
     "output_type": "display_data"
    },
    {
     "data": {
      "text/html": [
       " View run <strong style=\"color:#cdcd00\">spring-sweep-34</strong> at: <a href='https://wandb.ai/viswa_ee/CS6910/runs/ozom9imt' target=\"_blank\">https://wandb.ai/viswa_ee/CS6910/runs/ozom9imt</a><br/>Synced 4 W&B file(s), 1 media file(s), 0 artifact file(s) and 0 other file(s)"
      ],
      "text/plain": [
       "<IPython.core.display.HTML object>"
      ]
     },
     "metadata": {},
     "output_type": "display_data"
    },
    {
     "data": {
      "text/html": [
       "Find logs at: <code>.\\wandb\\run-20230317_234431-ozom9imt\\logs</code>"
      ],
      "text/plain": [
       "<IPython.core.display.HTML object>"
      ]
     },
     "metadata": {},
     "output_type": "display_data"
    },
    {
     "name": "stderr",
     "output_type": "stream",
     "text": [
      "\u001b[34m\u001b[1mwandb\u001b[0m: Agent Starting Run: 2hmb3yv9 with config:\n",
      "\u001b[34m\u001b[1mwandb\u001b[0m: \tact_func: identity\n",
      "\u001b[34m\u001b[1mwandb\u001b[0m: \tbatch_size: 64\n",
      "\u001b[34m\u001b[1mwandb\u001b[0m: \tl2_coeff: 0.5\n",
      "\u001b[34m\u001b[1mwandb\u001b[0m: \tloss_func: mse\n",
      "\u001b[34m\u001b[1mwandb\u001b[0m: \tlr: 0.0001\n",
      "\u001b[34m\u001b[1mwandb\u001b[0m: \tn_epochs: 10\n",
      "\u001b[34m\u001b[1mwandb\u001b[0m: \tn_hidden: 3\n",
      "\u001b[34m\u001b[1mwandb\u001b[0m: \tn_hidden_units: 128\n",
      "\u001b[34m\u001b[1mwandb\u001b[0m: \toptim_algo: nadam\n",
      "\u001b[34m\u001b[1mwandb\u001b[0m: \trelu_param: 0.01\n",
      "\u001b[34m\u001b[1mwandb\u001b[0m: \tweights_init: xavier_uniform\n",
      "Failed to detect the name of this notebook, you can set it manually with the WANDB_NOTEBOOK_NAME environment variable to enable code saving.\n"
     ]
    },
    {
     "data": {
      "text/html": [
       "Tracking run with wandb version 0.14.0"
      ],
      "text/plain": [
       "<IPython.core.display.HTML object>"
      ]
     },
     "metadata": {},
     "output_type": "display_data"
    },
    {
     "data": {
      "text/html": [
       "Run data is saved locally in <code>d:\\CS6901\\wandb\\run-20230317_234519-2hmb3yv9</code>"
      ],
      "text/plain": [
       "<IPython.core.display.HTML object>"
      ]
     },
     "metadata": {},
     "output_type": "display_data"
    },
    {
     "data": {
      "text/html": [
       "Syncing run <strong><a href='https://wandb.ai/viswa_ee/CS6910/runs/2hmb3yv9' target=\"_blank\">brisk-sweep-35</a></strong> to <a href='https://wandb.ai/viswa_ee/CS6910' target=\"_blank\">Weights & Biases</a> (<a href='https://wandb.me/run' target=\"_blank\">docs</a>)<br/>Sweep page: <a href='https://wandb.ai/viswa_ee/CS6910/sweeps/5hrjihf5' target=\"_blank\">https://wandb.ai/viswa_ee/CS6910/sweeps/5hrjihf5</a>"
      ],
      "text/plain": [
       "<IPython.core.display.HTML object>"
      ]
     },
     "metadata": {},
     "output_type": "display_data"
    },
    {
     "data": {
      "text/html": [
       " View project at <a href='https://wandb.ai/viswa_ee/CS6910' target=\"_blank\">https://wandb.ai/viswa_ee/CS6910</a>"
      ],
      "text/plain": [
       "<IPython.core.display.HTML object>"
      ]
     },
     "metadata": {},
     "output_type": "display_data"
    },
    {
     "data": {
      "text/html": [
       " View sweep at <a href='https://wandb.ai/viswa_ee/CS6910/sweeps/5hrjihf5' target=\"_blank\">https://wandb.ai/viswa_ee/CS6910/sweeps/5hrjihf5</a>"
      ],
      "text/plain": [
       "<IPython.core.display.HTML object>"
      ]
     },
     "metadata": {},
     "output_type": "display_data"
    },
    {
     "data": {
      "text/html": [
       " View run at <a href='https://wandb.ai/viswa_ee/CS6910/runs/2hmb3yv9' target=\"_blank\">https://wandb.ai/viswa_ee/CS6910/runs/2hmb3yv9</a>"
      ],
      "text/plain": [
       "<IPython.core.display.HTML object>"
      ]
     },
     "metadata": {},
     "output_type": "display_data"
    },
    {
     "data": {
      "text/html": [
       "Waiting for W&B process to finish... <strong style=\"color:green\">(success).</strong>"
      ],
      "text/plain": [
       "<IPython.core.display.HTML object>"
      ]
     },
     "metadata": {},
     "output_type": "display_data"
    },
    {
     "data": {
      "text/html": [
       "<style>\n",
       "    table.wandb td:nth-child(1) { padding: 0 10px; text-align: left ; width: auto;} td:nth-child(2) {text-align: left ; width: 100%}\n",
       "    .wandb-row { display: flex; flex-direction: row; flex-wrap: wrap; justify-content: flex-start; width: 100% }\n",
       "    .wandb-col { display: flex; flex-direction: column; flex-basis: 100%; flex: 1; padding: 10px; }\n",
       "    </style>\n",
       "<div class=\"wandb-row\"><div class=\"wandb-col\"><h3>Run history:</h3><br/><table class=\"wandb\"><tr><td>train_acc</td><td>▁▄▆▆▇▇▆█▇█</td></tr><tr><td>train_loss</td><td>█▄▄▁▁▁▂▃▁▂</td></tr><tr><td>val_acc</td><td>▁▅▆▆▇▆▆▇▇█</td></tr><tr><td>val_loss</td><td>█▅▄▂▃▂▂▁▁▁</td></tr></table><br/></div><div class=\"wandb-col\"><h3>Run summary:</h3><br/><table class=\"wandb\"><tr><td>train_acc</td><td>0.86057</td></tr><tr><td>train_loss</td><td>-1252.6596</td></tr><tr><td>val_acc</td><td>0.854</td></tr><tr><td>val_loss</td><td>-1289.36251</td></tr></table><br/></div></div>"
      ],
      "text/plain": [
       "<IPython.core.display.HTML object>"
      ]
     },
     "metadata": {},
     "output_type": "display_data"
    },
    {
     "data": {
      "text/html": [
       " View run <strong style=\"color:#cdcd00\">brisk-sweep-35</strong> at: <a href='https://wandb.ai/viswa_ee/CS6910/runs/2hmb3yv9' target=\"_blank\">https://wandb.ai/viswa_ee/CS6910/runs/2hmb3yv9</a><br/>Synced 4 W&B file(s), 1 media file(s), 0 artifact file(s) and 0 other file(s)"
      ],
      "text/plain": [
       "<IPython.core.display.HTML object>"
      ]
     },
     "metadata": {},
     "output_type": "display_data"
    },
    {
     "data": {
      "text/html": [
       "Find logs at: <code>.\\wandb\\run-20230317_234519-2hmb3yv9\\logs</code>"
      ],
      "text/plain": [
       "<IPython.core.display.HTML object>"
      ]
     },
     "metadata": {},
     "output_type": "display_data"
    },
    {
     "name": "stderr",
     "output_type": "stream",
     "text": [
      "\u001b[34m\u001b[1mwandb\u001b[0m: Agent Starting Run: 661nbjro with config:\n",
      "\u001b[34m\u001b[1mwandb\u001b[0m: \tact_func: identity\n",
      "\u001b[34m\u001b[1mwandb\u001b[0m: \tbatch_size: 64\n",
      "\u001b[34m\u001b[1mwandb\u001b[0m: \tl2_coeff: 0.5\n",
      "\u001b[34m\u001b[1mwandb\u001b[0m: \tloss_func: cross_ent\n",
      "\u001b[34m\u001b[1mwandb\u001b[0m: \tlr: 0.0001\n",
      "\u001b[34m\u001b[1mwandb\u001b[0m: \tn_epochs: 10\n",
      "\u001b[34m\u001b[1mwandb\u001b[0m: \tn_hidden: 4\n",
      "\u001b[34m\u001b[1mwandb\u001b[0m: \tn_hidden_units: 128\n",
      "\u001b[34m\u001b[1mwandb\u001b[0m: \toptim_algo: adam\n",
      "\u001b[34m\u001b[1mwandb\u001b[0m: \trelu_param: 0.1\n",
      "\u001b[34m\u001b[1mwandb\u001b[0m: \tweights_init: xavier_uniform\n",
      "Failed to detect the name of this notebook, you can set it manually with the WANDB_NOTEBOOK_NAME environment variable to enable code saving.\n"
     ]
    },
    {
     "data": {
      "text/html": [
       "Tracking run with wandb version 0.14.0"
      ],
      "text/plain": [
       "<IPython.core.display.HTML object>"
      ]
     },
     "metadata": {},
     "output_type": "display_data"
    },
    {
     "data": {
      "text/html": [
       "Run data is saved locally in <code>d:\\CS6901\\wandb\\run-20230317_234632-661nbjro</code>"
      ],
      "text/plain": [
       "<IPython.core.display.HTML object>"
      ]
     },
     "metadata": {},
     "output_type": "display_data"
    },
    {
     "data": {
      "text/html": [
       "Syncing run <strong><a href='https://wandb.ai/viswa_ee/CS6910/runs/661nbjro' target=\"_blank\">pious-sweep-36</a></strong> to <a href='https://wandb.ai/viswa_ee/CS6910' target=\"_blank\">Weights & Biases</a> (<a href='https://wandb.me/run' target=\"_blank\">docs</a>)<br/>Sweep page: <a href='https://wandb.ai/viswa_ee/CS6910/sweeps/5hrjihf5' target=\"_blank\">https://wandb.ai/viswa_ee/CS6910/sweeps/5hrjihf5</a>"
      ],
      "text/plain": [
       "<IPython.core.display.HTML object>"
      ]
     },
     "metadata": {},
     "output_type": "display_data"
    },
    {
     "data": {
      "text/html": [
       " View project at <a href='https://wandb.ai/viswa_ee/CS6910' target=\"_blank\">https://wandb.ai/viswa_ee/CS6910</a>"
      ],
      "text/plain": [
       "<IPython.core.display.HTML object>"
      ]
     },
     "metadata": {},
     "output_type": "display_data"
    },
    {
     "data": {
      "text/html": [
       " View sweep at <a href='https://wandb.ai/viswa_ee/CS6910/sweeps/5hrjihf5' target=\"_blank\">https://wandb.ai/viswa_ee/CS6910/sweeps/5hrjihf5</a>"
      ],
      "text/plain": [
       "<IPython.core.display.HTML object>"
      ]
     },
     "metadata": {},
     "output_type": "display_data"
    },
    {
     "data": {
      "text/html": [
       " View run at <a href='https://wandb.ai/viswa_ee/CS6910/runs/661nbjro' target=\"_blank\">https://wandb.ai/viswa_ee/CS6910/runs/661nbjro</a>"
      ],
      "text/plain": [
       "<IPython.core.display.HTML object>"
      ]
     },
     "metadata": {},
     "output_type": "display_data"
    },
    {
     "data": {
      "text/html": [
       "Waiting for W&B process to finish... <strong style=\"color:green\">(success).</strong>"
      ],
      "text/plain": [
       "<IPython.core.display.HTML object>"
      ]
     },
     "metadata": {},
     "output_type": "display_data"
    },
    {
     "data": {
      "text/html": [
       "<style>\n",
       "    table.wandb td:nth-child(1) { padding: 0 10px; text-align: left ; width: auto;} td:nth-child(2) {text-align: left ; width: 100%}\n",
       "    .wandb-row { display: flex; flex-direction: row; flex-wrap: wrap; justify-content: flex-start; width: 100% }\n",
       "    .wandb-col { display: flex; flex-direction: column; flex-basis: 100%; flex: 1; padding: 10px; }\n",
       "    </style>\n",
       "<div class=\"wandb-row\"><div class=\"wandb-col\"><h3>Run history:</h3><br/><table class=\"wandb\"><tr><td>train_acc</td><td>▁▅▆▇▆▆▇▇▇█</td></tr><tr><td>train_loss</td><td>█▆▅▄▃▂▂▂▁▁</td></tr><tr><td>val_acc</td><td>▁▅▇▇▇▆▇▇██</td></tr><tr><td>val_loss</td><td>█▄▃▂▂▃▂▂▂▁</td></tr></table><br/></div><div class=\"wandb-col\"><h3>Run summary:</h3><br/><table class=\"wandb\"><tr><td>train_acc</td><td>0.85393</td></tr><tr><td>train_loss</td><td>0.91554</td></tr><tr><td>val_acc</td><td>0.8475</td></tr><tr><td>val_loss</td><td>0.44126</td></tr></table><br/></div></div>"
      ],
      "text/plain": [
       "<IPython.core.display.HTML object>"
      ]
     },
     "metadata": {},
     "output_type": "display_data"
    },
    {
     "data": {
      "text/html": [
       " View run <strong style=\"color:#cdcd00\">pious-sweep-36</strong> at: <a href='https://wandb.ai/viswa_ee/CS6910/runs/661nbjro' target=\"_blank\">https://wandb.ai/viswa_ee/CS6910/runs/661nbjro</a><br/>Synced 4 W&B file(s), 1 media file(s), 0 artifact file(s) and 0 other file(s)"
      ],
      "text/plain": [
       "<IPython.core.display.HTML object>"
      ]
     },
     "metadata": {},
     "output_type": "display_data"
    },
    {
     "data": {
      "text/html": [
       "Find logs at: <code>.\\wandb\\run-20230317_234632-661nbjro\\logs</code>"
      ],
      "text/plain": [
       "<IPython.core.display.HTML object>"
      ]
     },
     "metadata": {},
     "output_type": "display_data"
    },
    {
     "name": "stderr",
     "output_type": "stream",
     "text": [
      "\u001b[34m\u001b[1mwandb\u001b[0m: Agent Starting Run: cv1gs7q0 with config:\n",
      "\u001b[34m\u001b[1mwandb\u001b[0m: \tact_func: identity\n",
      "\u001b[34m\u001b[1mwandb\u001b[0m: \tbatch_size: 32\n",
      "\u001b[34m\u001b[1mwandb\u001b[0m: \tl2_coeff: 0.5\n",
      "\u001b[34m\u001b[1mwandb\u001b[0m: \tloss_func: mse\n",
      "\u001b[34m\u001b[1mwandb\u001b[0m: \tlr: 0.0001\n",
      "\u001b[34m\u001b[1mwandb\u001b[0m: \tn_epochs: 10\n",
      "\u001b[34m\u001b[1mwandb\u001b[0m: \tn_hidden: 3\n",
      "\u001b[34m\u001b[1mwandb\u001b[0m: \tn_hidden_units: 128\n",
      "\u001b[34m\u001b[1mwandb\u001b[0m: \toptim_algo: nadam\n",
      "\u001b[34m\u001b[1mwandb\u001b[0m: \trelu_param: 0\n",
      "\u001b[34m\u001b[1mwandb\u001b[0m: \tweights_init: xavier_uniform\n",
      "Failed to detect the name of this notebook, you can set it manually with the WANDB_NOTEBOOK_NAME environment variable to enable code saving.\n"
     ]
    },
    {
     "data": {
      "text/html": [
       "Tracking run with wandb version 0.14.0"
      ],
      "text/plain": [
       "<IPython.core.display.HTML object>"
      ]
     },
     "metadata": {},
     "output_type": "display_data"
    },
    {
     "data": {
      "text/html": [
       "Run data is saved locally in <code>d:\\CS6901\\wandb\\run-20230317_234752-cv1gs7q0</code>"
      ],
      "text/plain": [
       "<IPython.core.display.HTML object>"
      ]
     },
     "metadata": {},
     "output_type": "display_data"
    },
    {
     "data": {
      "text/html": [
       "Syncing run <strong><a href='https://wandb.ai/viswa_ee/CS6910/runs/cv1gs7q0' target=\"_blank\">curious-sweep-37</a></strong> to <a href='https://wandb.ai/viswa_ee/CS6910' target=\"_blank\">Weights & Biases</a> (<a href='https://wandb.me/run' target=\"_blank\">docs</a>)<br/>Sweep page: <a href='https://wandb.ai/viswa_ee/CS6910/sweeps/5hrjihf5' target=\"_blank\">https://wandb.ai/viswa_ee/CS6910/sweeps/5hrjihf5</a>"
      ],
      "text/plain": [
       "<IPython.core.display.HTML object>"
      ]
     },
     "metadata": {},
     "output_type": "display_data"
    },
    {
     "data": {
      "text/html": [
       " View project at <a href='https://wandb.ai/viswa_ee/CS6910' target=\"_blank\">https://wandb.ai/viswa_ee/CS6910</a>"
      ],
      "text/plain": [
       "<IPython.core.display.HTML object>"
      ]
     },
     "metadata": {},
     "output_type": "display_data"
    },
    {
     "data": {
      "text/html": [
       " View sweep at <a href='https://wandb.ai/viswa_ee/CS6910/sweeps/5hrjihf5' target=\"_blank\">https://wandb.ai/viswa_ee/CS6910/sweeps/5hrjihf5</a>"
      ],
      "text/plain": [
       "<IPython.core.display.HTML object>"
      ]
     },
     "metadata": {},
     "output_type": "display_data"
    },
    {
     "data": {
      "text/html": [
       " View run at <a href='https://wandb.ai/viswa_ee/CS6910/runs/cv1gs7q0' target=\"_blank\">https://wandb.ai/viswa_ee/CS6910/runs/cv1gs7q0</a>"
      ],
      "text/plain": [
       "<IPython.core.display.HTML object>"
      ]
     },
     "metadata": {},
     "output_type": "display_data"
    },
    {
     "data": {
      "text/html": [
       "Waiting for W&B process to finish... <strong style=\"color:green\">(success).</strong>"
      ],
      "text/plain": [
       "<IPython.core.display.HTML object>"
      ]
     },
     "metadata": {},
     "output_type": "display_data"
    },
    {
     "data": {
      "text/html": [
       "<style>\n",
       "    table.wandb td:nth-child(1) { padding: 0 10px; text-align: left ; width: auto;} td:nth-child(2) {text-align: left ; width: 100%}\n",
       "    .wandb-row { display: flex; flex-direction: row; flex-wrap: wrap; justify-content: flex-start; width: 100% }\n",
       "    .wandb-col { display: flex; flex-direction: column; flex-basis: 100%; flex: 1; padding: 10px; }\n",
       "    </style>\n",
       "<div class=\"wandb-row\"><div class=\"wandb-col\"><h3>Run history:</h3><br/><table class=\"wandb\"><tr><td>train_acc</td><td>▁▃▇▇█▆▆▇▇█</td></tr><tr><td>train_loss</td><td>▄█▁▂▃▄▂▅▄▄</td></tr><tr><td>val_acc</td><td>▁▃▇▆▆▆▆▇▇█</td></tr><tr><td>val_loss</td><td>█▅▅▄▃▂▂▂▁▁</td></tr></table><br/></div><div class=\"wandb-col\"><h3>Run summary:</h3><br/><table class=\"wandb\"><tr><td>train_acc</td><td>0.85217</td></tr><tr><td>train_loss</td><td>-859.92527</td></tr><tr><td>val_acc</td><td>0.84733</td></tr><tr><td>val_loss</td><td>-953.17428</td></tr></table><br/></div></div>"
      ],
      "text/plain": [
       "<IPython.core.display.HTML object>"
      ]
     },
     "metadata": {},
     "output_type": "display_data"
    },
    {
     "data": {
      "text/html": [
       " View run <strong style=\"color:#cdcd00\">curious-sweep-37</strong> at: <a href='https://wandb.ai/viswa_ee/CS6910/runs/cv1gs7q0' target=\"_blank\">https://wandb.ai/viswa_ee/CS6910/runs/cv1gs7q0</a><br/>Synced 4 W&B file(s), 1 media file(s), 0 artifact file(s) and 0 other file(s)"
      ],
      "text/plain": [
       "<IPython.core.display.HTML object>"
      ]
     },
     "metadata": {},
     "output_type": "display_data"
    },
    {
     "data": {
      "text/html": [
       "Find logs at: <code>.\\wandb\\run-20230317_234752-cv1gs7q0\\logs</code>"
      ],
      "text/plain": [
       "<IPython.core.display.HTML object>"
      ]
     },
     "metadata": {},
     "output_type": "display_data"
    },
    {
     "name": "stderr",
     "output_type": "stream",
     "text": [
      "\u001b[34m\u001b[1mwandb\u001b[0m: Sweep Agent: Waiting for job.\n",
      "\u001b[34m\u001b[1mwandb\u001b[0m: Job received.\n",
      "\u001b[34m\u001b[1mwandb\u001b[0m: Agent Starting Run: 4pkh01lw with config:\n",
      "\u001b[34m\u001b[1mwandb\u001b[0m: \tact_func: identity\n",
      "\u001b[34m\u001b[1mwandb\u001b[0m: \tbatch_size: 32\n",
      "\u001b[34m\u001b[1mwandb\u001b[0m: \tl2_coeff: 0.5\n",
      "\u001b[34m\u001b[1mwandb\u001b[0m: \tloss_func: mse\n",
      "\u001b[34m\u001b[1mwandb\u001b[0m: \tlr: 0.0001\n",
      "\u001b[34m\u001b[1mwandb\u001b[0m: \tn_epochs: 10\n",
      "\u001b[34m\u001b[1mwandb\u001b[0m: \tn_hidden: 3\n",
      "\u001b[34m\u001b[1mwandb\u001b[0m: \tn_hidden_units: 128\n",
      "\u001b[34m\u001b[1mwandb\u001b[0m: \toptim_algo: nag\n",
      "\u001b[34m\u001b[1mwandb\u001b[0m: \trelu_param: 0.001\n",
      "\u001b[34m\u001b[1mwandb\u001b[0m: \tweights_init: xavier_uniform\n",
      "Failed to detect the name of this notebook, you can set it manually with the WANDB_NOTEBOOK_NAME environment variable to enable code saving.\n"
     ]
    },
    {
     "data": {
      "text/html": [
       "Tracking run with wandb version 0.14.0"
      ],
      "text/plain": [
       "<IPython.core.display.HTML object>"
      ]
     },
     "metadata": {},
     "output_type": "display_data"
    },
    {
     "data": {
      "text/html": [
       "Run data is saved locally in <code>d:\\CS6901\\wandb\\run-20230317_235002-4pkh01lw</code>"
      ],
      "text/plain": [
       "<IPython.core.display.HTML object>"
      ]
     },
     "metadata": {},
     "output_type": "display_data"
    },
    {
     "data": {
      "text/html": [
       "Syncing run <strong><a href='https://wandb.ai/viswa_ee/CS6910/runs/4pkh01lw' target=\"_blank\">prime-sweep-38</a></strong> to <a href='https://wandb.ai/viswa_ee/CS6910' target=\"_blank\">Weights & Biases</a> (<a href='https://wandb.me/run' target=\"_blank\">docs</a>)<br/>Sweep page: <a href='https://wandb.ai/viswa_ee/CS6910/sweeps/5hrjihf5' target=\"_blank\">https://wandb.ai/viswa_ee/CS6910/sweeps/5hrjihf5</a>"
      ],
      "text/plain": [
       "<IPython.core.display.HTML object>"
      ]
     },
     "metadata": {},
     "output_type": "display_data"
    },
    {
     "data": {
      "text/html": [
       " View project at <a href='https://wandb.ai/viswa_ee/CS6910' target=\"_blank\">https://wandb.ai/viswa_ee/CS6910</a>"
      ],
      "text/plain": [
       "<IPython.core.display.HTML object>"
      ]
     },
     "metadata": {},
     "output_type": "display_data"
    },
    {
     "data": {
      "text/html": [
       " View sweep at <a href='https://wandb.ai/viswa_ee/CS6910/sweeps/5hrjihf5' target=\"_blank\">https://wandb.ai/viswa_ee/CS6910/sweeps/5hrjihf5</a>"
      ],
      "text/plain": [
       "<IPython.core.display.HTML object>"
      ]
     },
     "metadata": {},
     "output_type": "display_data"
    },
    {
     "data": {
      "text/html": [
       " View run at <a href='https://wandb.ai/viswa_ee/CS6910/runs/4pkh01lw' target=\"_blank\">https://wandb.ai/viswa_ee/CS6910/runs/4pkh01lw</a>"
      ],
      "text/plain": [
       "<IPython.core.display.HTML object>"
      ]
     },
     "metadata": {},
     "output_type": "display_data"
    },
    {
     "data": {
      "text/html": [
       "Waiting for W&B process to finish... <strong style=\"color:green\">(success).</strong>"
      ],
      "text/plain": [
       "<IPython.core.display.HTML object>"
      ]
     },
     "metadata": {},
     "output_type": "display_data"
    },
    {
     "data": {
      "text/html": [
       "<style>\n",
       "    table.wandb td:nth-child(1) { padding: 0 10px; text-align: left ; width: auto;} td:nth-child(2) {text-align: left ; width: 100%}\n",
       "    .wandb-row { display: flex; flex-direction: row; flex-wrap: wrap; justify-content: flex-start; width: 100% }\n",
       "    .wandb-col { display: flex; flex-direction: column; flex-basis: 100%; flex: 1; padding: 10px; }\n",
       "    </style>\n",
       "<div class=\"wandb-row\"><div class=\"wandb-col\"><h3>Run history:</h3><br/><table class=\"wandb\"><tr><td>train_acc</td><td>▂▅▄▁▇▃▅▂█▃</td></tr><tr><td>train_loss</td><td>▂▇▃▃█▅▁▅▇▆</td></tr><tr><td>val_acc</td><td>▄▄▅▂▇█▇▁▄▄</td></tr><tr><td>val_loss</td><td>█▄▇█▇▄▂█▇▁</td></tr></table><br/></div><div class=\"wandb-col\"><h3>Run summary:</h3><br/><table class=\"wandb\"><tr><td>train_acc</td><td>0.15235</td></tr><tr><td>train_loss</td><td>-67.34895</td></tr><tr><td>val_acc</td><td>0.1495</td></tr><tr><td>val_loss</td><td>-76.20949</td></tr></table><br/></div></div>"
      ],
      "text/plain": [
       "<IPython.core.display.HTML object>"
      ]
     },
     "metadata": {},
     "output_type": "display_data"
    },
    {
     "data": {
      "text/html": [
       " View run <strong style=\"color:#cdcd00\">prime-sweep-38</strong> at: <a href='https://wandb.ai/viswa_ee/CS6910/runs/4pkh01lw' target=\"_blank\">https://wandb.ai/viswa_ee/CS6910/runs/4pkh01lw</a><br/>Synced 4 W&B file(s), 1 media file(s), 0 artifact file(s) and 0 other file(s)"
      ],
      "text/plain": [
       "<IPython.core.display.HTML object>"
      ]
     },
     "metadata": {},
     "output_type": "display_data"
    },
    {
     "data": {
      "text/html": [
       "Find logs at: <code>.\\wandb\\run-20230317_235002-4pkh01lw\\logs</code>"
      ],
      "text/plain": [
       "<IPython.core.display.HTML object>"
      ]
     },
     "metadata": {},
     "output_type": "display_data"
    },
    {
     "name": "stderr",
     "output_type": "stream",
     "text": [
      "\u001b[34m\u001b[1mwandb\u001b[0m: Sweep Agent: Waiting for job.\n",
      "\u001b[34m\u001b[1mwandb\u001b[0m: Job received.\n",
      "\u001b[34m\u001b[1mwandb\u001b[0m: Agent Starting Run: zkxy0owz with config:\n",
      "\u001b[34m\u001b[1mwandb\u001b[0m: \tact_func: identity\n",
      "\u001b[34m\u001b[1mwandb\u001b[0m: \tbatch_size: 16\n",
      "\u001b[34m\u001b[1mwandb\u001b[0m: \tl2_coeff: 0.0005\n",
      "\u001b[34m\u001b[1mwandb\u001b[0m: \tloss_func: mse\n",
      "\u001b[34m\u001b[1mwandb\u001b[0m: \tlr: 0.0001\n",
      "\u001b[34m\u001b[1mwandb\u001b[0m: \tn_epochs: 10\n",
      "\u001b[34m\u001b[1mwandb\u001b[0m: \tn_hidden: 4\n",
      "\u001b[34m\u001b[1mwandb\u001b[0m: \tn_hidden_units: 32\n",
      "\u001b[34m\u001b[1mwandb\u001b[0m: \toptim_algo: adam\n",
      "\u001b[34m\u001b[1mwandb\u001b[0m: \trelu_param: 0\n",
      "\u001b[34m\u001b[1mwandb\u001b[0m: \tweights_init: xavier_uniform\n",
      "Failed to detect the name of this notebook, you can set it manually with the WANDB_NOTEBOOK_NAME environment variable to enable code saving.\n"
     ]
    },
    {
     "data": {
      "text/html": [
       "Tracking run with wandb version 0.14.0"
      ],
      "text/plain": [
       "<IPython.core.display.HTML object>"
      ]
     },
     "metadata": {},
     "output_type": "display_data"
    },
    {
     "data": {
      "text/html": [
       "Run data is saved locally in <code>d:\\CS6901\\wandb\\run-20230317_235147-zkxy0owz</code>"
      ],
      "text/plain": [
       "<IPython.core.display.HTML object>"
      ]
     },
     "metadata": {},
     "output_type": "display_data"
    },
    {
     "data": {
      "text/html": [
       "Syncing run <strong><a href='https://wandb.ai/viswa_ee/CS6910/runs/zkxy0owz' target=\"_blank\">colorful-sweep-39</a></strong> to <a href='https://wandb.ai/viswa_ee/CS6910' target=\"_blank\">Weights & Biases</a> (<a href='https://wandb.me/run' target=\"_blank\">docs</a>)<br/>Sweep page: <a href='https://wandb.ai/viswa_ee/CS6910/sweeps/5hrjihf5' target=\"_blank\">https://wandb.ai/viswa_ee/CS6910/sweeps/5hrjihf5</a>"
      ],
      "text/plain": [
       "<IPython.core.display.HTML object>"
      ]
     },
     "metadata": {},
     "output_type": "display_data"
    },
    {
     "data": {
      "text/html": [
       " View project at <a href='https://wandb.ai/viswa_ee/CS6910' target=\"_blank\">https://wandb.ai/viswa_ee/CS6910</a>"
      ],
      "text/plain": [
       "<IPython.core.display.HTML object>"
      ]
     },
     "metadata": {},
     "output_type": "display_data"
    },
    {
     "data": {
      "text/html": [
       " View sweep at <a href='https://wandb.ai/viswa_ee/CS6910/sweeps/5hrjihf5' target=\"_blank\">https://wandb.ai/viswa_ee/CS6910/sweeps/5hrjihf5</a>"
      ],
      "text/plain": [
       "<IPython.core.display.HTML object>"
      ]
     },
     "metadata": {},
     "output_type": "display_data"
    },
    {
     "data": {
      "text/html": [
       " View run at <a href='https://wandb.ai/viswa_ee/CS6910/runs/zkxy0owz' target=\"_blank\">https://wandb.ai/viswa_ee/CS6910/runs/zkxy0owz</a>"
      ],
      "text/plain": [
       "<IPython.core.display.HTML object>"
      ]
     },
     "metadata": {},
     "output_type": "display_data"
    },
    {
     "data": {
      "text/html": [
       "Waiting for W&B process to finish... <strong style=\"color:green\">(success).</strong>"
      ],
      "text/plain": [
       "<IPython.core.display.HTML object>"
      ]
     },
     "metadata": {},
     "output_type": "display_data"
    },
    {
     "data": {
      "text/html": [
       "<style>\n",
       "    table.wandb td:nth-child(1) { padding: 0 10px; text-align: left ; width: auto;} td:nth-child(2) {text-align: left ; width: 100%}\n",
       "    .wandb-row { display: flex; flex-direction: row; flex-wrap: wrap; justify-content: flex-start; width: 100% }\n",
       "    .wandb-col { display: flex; flex-direction: column; flex-basis: 100%; flex: 1; padding: 10px; }\n",
       "    </style>\n",
       "<div class=\"wandb-row\"><div class=\"wandb-col\"><h3>Run history:</h3><br/><table class=\"wandb\"><tr><td>train_acc</td><td>▁▄▅▆▆▇█▆▇█</td></tr><tr><td>train_loss</td><td>█▇▅▂▄▃▁▃▄▁</td></tr><tr><td>val_acc</td><td>▁▄▅▆▇▇█▆▇█</td></tr><tr><td>val_loss</td><td>█▆▅▄▃▃▂▂▁▁</td></tr></table><br/></div><div class=\"wandb-col\"><h3>Run summary:</h3><br/><table class=\"wandb\"><tr><td>train_acc</td><td>0.86437</td></tr><tr><td>train_loss</td><td>-2717.7726</td></tr><tr><td>val_acc</td><td>0.855</td></tr><tr><td>val_loss</td><td>-2376.85634</td></tr></table><br/></div></div>"
      ],
      "text/plain": [
       "<IPython.core.display.HTML object>"
      ]
     },
     "metadata": {},
     "output_type": "display_data"
    },
    {
     "data": {
      "text/html": [
       " View run <strong style=\"color:#cdcd00\">colorful-sweep-39</strong> at: <a href='https://wandb.ai/viswa_ee/CS6910/runs/zkxy0owz' target=\"_blank\">https://wandb.ai/viswa_ee/CS6910/runs/zkxy0owz</a><br/>Synced 4 W&B file(s), 1 media file(s), 0 artifact file(s) and 0 other file(s)"
      ],
      "text/plain": [
       "<IPython.core.display.HTML object>"
      ]
     },
     "metadata": {},
     "output_type": "display_data"
    },
    {
     "data": {
      "text/html": [
       "Find logs at: <code>.\\wandb\\run-20230317_235147-zkxy0owz\\logs</code>"
      ],
      "text/plain": [
       "<IPython.core.display.HTML object>"
      ]
     },
     "metadata": {},
     "output_type": "display_data"
    },
    {
     "name": "stderr",
     "output_type": "stream",
     "text": [
      "\u001b[34m\u001b[1mwandb\u001b[0m: Agent Starting Run: j2znwrub with config:\n",
      "\u001b[34m\u001b[1mwandb\u001b[0m: \tact_func: identity\n",
      "\u001b[34m\u001b[1mwandb\u001b[0m: \tbatch_size: 16\n",
      "\u001b[34m\u001b[1mwandb\u001b[0m: \tl2_coeff: 0.5\n",
      "\u001b[34m\u001b[1mwandb\u001b[0m: \tloss_func: cross_ent\n",
      "\u001b[34m\u001b[1mwandb\u001b[0m: \tlr: 0.0001\n",
      "\u001b[34m\u001b[1mwandb\u001b[0m: \tn_epochs: 10\n",
      "\u001b[34m\u001b[1mwandb\u001b[0m: \tn_hidden: 5\n",
      "\u001b[34m\u001b[1mwandb\u001b[0m: \tn_hidden_units: 64\n",
      "\u001b[34m\u001b[1mwandb\u001b[0m: \toptim_algo: adam\n",
      "\u001b[34m\u001b[1mwandb\u001b[0m: \trelu_param: 0\n",
      "\u001b[34m\u001b[1mwandb\u001b[0m: \tweights_init: xavier_uniform\n",
      "Failed to detect the name of this notebook, you can set it manually with the WANDB_NOTEBOOK_NAME environment variable to enable code saving.\n"
     ]
    },
    {
     "data": {
      "text/html": [
       "Tracking run with wandb version 0.14.0"
      ],
      "text/plain": [
       "<IPython.core.display.HTML object>"
      ]
     },
     "metadata": {},
     "output_type": "display_data"
    },
    {
     "data": {
      "text/html": [
       "Run data is saved locally in <code>d:\\CS6901\\wandb\\run-20230317_235313-j2znwrub</code>"
      ],
      "text/plain": [
       "<IPython.core.display.HTML object>"
      ]
     },
     "metadata": {},
     "output_type": "display_data"
    },
    {
     "data": {
      "text/html": [
       "Syncing run <strong><a href='https://wandb.ai/viswa_ee/CS6910/runs/j2znwrub' target=\"_blank\">colorful-sweep-40</a></strong> to <a href='https://wandb.ai/viswa_ee/CS6910' target=\"_blank\">Weights & Biases</a> (<a href='https://wandb.me/run' target=\"_blank\">docs</a>)<br/>Sweep page: <a href='https://wandb.ai/viswa_ee/CS6910/sweeps/5hrjihf5' target=\"_blank\">https://wandb.ai/viswa_ee/CS6910/sweeps/5hrjihf5</a>"
      ],
      "text/plain": [
       "<IPython.core.display.HTML object>"
      ]
     },
     "metadata": {},
     "output_type": "display_data"
    },
    {
     "data": {
      "text/html": [
       " View project at <a href='https://wandb.ai/viswa_ee/CS6910' target=\"_blank\">https://wandb.ai/viswa_ee/CS6910</a>"
      ],
      "text/plain": [
       "<IPython.core.display.HTML object>"
      ]
     },
     "metadata": {},
     "output_type": "display_data"
    },
    {
     "data": {
      "text/html": [
       " View sweep at <a href='https://wandb.ai/viswa_ee/CS6910/sweeps/5hrjihf5' target=\"_blank\">https://wandb.ai/viswa_ee/CS6910/sweeps/5hrjihf5</a>"
      ],
      "text/plain": [
       "<IPython.core.display.HTML object>"
      ]
     },
     "metadata": {},
     "output_type": "display_data"
    },
    {
     "data": {
      "text/html": [
       " View run at <a href='https://wandb.ai/viswa_ee/CS6910/runs/j2znwrub' target=\"_blank\">https://wandb.ai/viswa_ee/CS6910/runs/j2znwrub</a>"
      ],
      "text/plain": [
       "<IPython.core.display.HTML object>"
      ]
     },
     "metadata": {},
     "output_type": "display_data"
    },
    {
     "data": {
      "text/html": [
       "Waiting for W&B process to finish... <strong style=\"color:green\">(success).</strong>"
      ],
      "text/plain": [
       "<IPython.core.display.HTML object>"
      ]
     },
     "metadata": {},
     "output_type": "display_data"
    },
    {
     "data": {
      "text/html": [
       "<style>\n",
       "    table.wandb td:nth-child(1) { padding: 0 10px; text-align: left ; width: auto;} td:nth-child(2) {text-align: left ; width: 100%}\n",
       "    .wandb-row { display: flex; flex-direction: row; flex-wrap: wrap; justify-content: flex-start; width: 100% }\n",
       "    .wandb-col { display: flex; flex-direction: column; flex-basis: 100%; flex: 1; padding: 10px; }\n",
       "    </style>\n",
       "<div class=\"wandb-row\"><div class=\"wandb-col\"><h3>Run history:</h3><br/><table class=\"wandb\"><tr><td>train_acc</td><td>▂█▇▁▁▃▄█▁▇</td></tr><tr><td>train_loss</td><td>█▄▃▃▂▂▄▁▁▃</td></tr><tr><td>val_acc</td><td>▃▇█▁▂▄▁█▄▇</td></tr><tr><td>val_loss</td><td>█▃▂▅▅▄▃▂▅▁</td></tr></table><br/></div><div class=\"wandb-col\"><h3>Run summary:</h3><br/><table class=\"wandb\"><tr><td>train_acc</td><td>0.81352</td></tr><tr><td>train_loss</td><td>1.05678</td></tr><tr><td>val_acc</td><td>0.80767</td></tr><tr><td>val_loss</td><td>0.5565</td></tr></table><br/></div></div>"
      ],
      "text/plain": [
       "<IPython.core.display.HTML object>"
      ]
     },
     "metadata": {},
     "output_type": "display_data"
    },
    {
     "data": {
      "text/html": [
       " View run <strong style=\"color:#cdcd00\">colorful-sweep-40</strong> at: <a href='https://wandb.ai/viswa_ee/CS6910/runs/j2znwrub' target=\"_blank\">https://wandb.ai/viswa_ee/CS6910/runs/j2znwrub</a><br/>Synced 4 W&B file(s), 1 media file(s), 0 artifact file(s) and 0 other file(s)"
      ],
      "text/plain": [
       "<IPython.core.display.HTML object>"
      ]
     },
     "metadata": {},
     "output_type": "display_data"
    },
    {
     "data": {
      "text/html": [
       "Find logs at: <code>.\\wandb\\run-20230317_235313-j2znwrub\\logs</code>"
      ],
      "text/plain": [
       "<IPython.core.display.HTML object>"
      ]
     },
     "metadata": {},
     "output_type": "display_data"
    },
    {
     "name": "stderr",
     "output_type": "stream",
     "text": [
      "\u001b[34m\u001b[1mwandb\u001b[0m: Agent Starting Run: zcdqkwra with config:\n",
      "\u001b[34m\u001b[1mwandb\u001b[0m: \tact_func: identity\n",
      "\u001b[34m\u001b[1mwandb\u001b[0m: \tbatch_size: 64\n",
      "\u001b[34m\u001b[1mwandb\u001b[0m: \tl2_coeff: 0.5\n",
      "\u001b[34m\u001b[1mwandb\u001b[0m: \tloss_func: mse\n",
      "\u001b[34m\u001b[1mwandb\u001b[0m: \tlr: 0.0001\n",
      "\u001b[34m\u001b[1mwandb\u001b[0m: \tn_epochs: 10\n",
      "\u001b[34m\u001b[1mwandb\u001b[0m: \tn_hidden: 4\n",
      "\u001b[34m\u001b[1mwandb\u001b[0m: \tn_hidden_units: 128\n",
      "\u001b[34m\u001b[1mwandb\u001b[0m: \toptim_algo: sgdm\n",
      "\u001b[34m\u001b[1mwandb\u001b[0m: \trelu_param: 0.01\n",
      "\u001b[34m\u001b[1mwandb\u001b[0m: \tweights_init: xavier_uniform\n",
      "Failed to detect the name of this notebook, you can set it manually with the WANDB_NOTEBOOK_NAME environment variable to enable code saving.\n"
     ]
    },
    {
     "data": {
      "text/html": [
       "Tracking run with wandb version 0.14.0"
      ],
      "text/plain": [
       "<IPython.core.display.HTML object>"
      ]
     },
     "metadata": {},
     "output_type": "display_data"
    },
    {
     "data": {
      "text/html": [
       "Run data is saved locally in <code>d:\\CS6901\\wandb\\run-20230317_235506-zcdqkwra</code>"
      ],
      "text/plain": [
       "<IPython.core.display.HTML object>"
      ]
     },
     "metadata": {},
     "output_type": "display_data"
    },
    {
     "data": {
      "text/html": [
       "Syncing run <strong><a href='https://wandb.ai/viswa_ee/CS6910/runs/zcdqkwra' target=\"_blank\">grateful-sweep-41</a></strong> to <a href='https://wandb.ai/viswa_ee/CS6910' target=\"_blank\">Weights & Biases</a> (<a href='https://wandb.me/run' target=\"_blank\">docs</a>)<br/>Sweep page: <a href='https://wandb.ai/viswa_ee/CS6910/sweeps/5hrjihf5' target=\"_blank\">https://wandb.ai/viswa_ee/CS6910/sweeps/5hrjihf5</a>"
      ],
      "text/plain": [
       "<IPython.core.display.HTML object>"
      ]
     },
     "metadata": {},
     "output_type": "display_data"
    },
    {
     "data": {
      "text/html": [
       " View project at <a href='https://wandb.ai/viswa_ee/CS6910' target=\"_blank\">https://wandb.ai/viswa_ee/CS6910</a>"
      ],
      "text/plain": [
       "<IPython.core.display.HTML object>"
      ]
     },
     "metadata": {},
     "output_type": "display_data"
    },
    {
     "data": {
      "text/html": [
       " View sweep at <a href='https://wandb.ai/viswa_ee/CS6910/sweeps/5hrjihf5' target=\"_blank\">https://wandb.ai/viswa_ee/CS6910/sweeps/5hrjihf5</a>"
      ],
      "text/plain": [
       "<IPython.core.display.HTML object>"
      ]
     },
     "metadata": {},
     "output_type": "display_data"
    },
    {
     "data": {
      "text/html": [
       " View run at <a href='https://wandb.ai/viswa_ee/CS6910/runs/zcdqkwra' target=\"_blank\">https://wandb.ai/viswa_ee/CS6910/runs/zcdqkwra</a>"
      ],
      "text/plain": [
       "<IPython.core.display.HTML object>"
      ]
     },
     "metadata": {},
     "output_type": "display_data"
    },
    {
     "data": {
      "text/html": [
       "Waiting for W&B process to finish... <strong style=\"color:green\">(success).</strong>"
      ],
      "text/plain": [
       "<IPython.core.display.HTML object>"
      ]
     },
     "metadata": {},
     "output_type": "display_data"
    },
    {
     "data": {
      "text/html": [
       "<style>\n",
       "    table.wandb td:nth-child(1) { padding: 0 10px; text-align: left ; width: auto;} td:nth-child(2) {text-align: left ; width: 100%}\n",
       "    .wandb-row { display: flex; flex-direction: row; flex-wrap: wrap; justify-content: flex-start; width: 100% }\n",
       "    .wandb-col { display: flex; flex-direction: column; flex-basis: 100%; flex: 1; padding: 10px; }\n",
       "    </style>\n",
       "<div class=\"wandb-row\"><div class=\"wandb-col\"><h3>Run history:</h3><br/><table class=\"wandb\"><tr><td>train_acc</td><td>▁▅▆▇▇▇████</td></tr><tr><td>train_loss</td><td>█▇▇▆▅▅▃▄▂▁</td></tr><tr><td>val_acc</td><td>▁▅▆▆▇▇████</td></tr><tr><td>val_loss</td><td>█▇▇▆▅▄▃▂▂▁</td></tr></table><br/></div><div class=\"wandb-col\"><h3>Run summary:</h3><br/><table class=\"wandb\"><tr><td>train_acc</td><td>0.73091</td></tr><tr><td>train_loss</td><td>-291.86951</td></tr><tr><td>val_acc</td><td>0.71933</td></tr><tr><td>val_loss</td><td>-286.16291</td></tr></table><br/></div></div>"
      ],
      "text/plain": [
       "<IPython.core.display.HTML object>"
      ]
     },
     "metadata": {},
     "output_type": "display_data"
    },
    {
     "data": {
      "text/html": [
       " View run <strong style=\"color:#cdcd00\">grateful-sweep-41</strong> at: <a href='https://wandb.ai/viswa_ee/CS6910/runs/zcdqkwra' target=\"_blank\">https://wandb.ai/viswa_ee/CS6910/runs/zcdqkwra</a><br/>Synced 4 W&B file(s), 1 media file(s), 0 artifact file(s) and 0 other file(s)"
      ],
      "text/plain": [
       "<IPython.core.display.HTML object>"
      ]
     },
     "metadata": {},
     "output_type": "display_data"
    },
    {
     "data": {
      "text/html": [
       "Find logs at: <code>.\\wandb\\run-20230317_235506-zcdqkwra\\logs</code>"
      ],
      "text/plain": [
       "<IPython.core.display.HTML object>"
      ]
     },
     "metadata": {},
     "output_type": "display_data"
    },
    {
     "name": "stderr",
     "output_type": "stream",
     "text": [
      "\u001b[34m\u001b[1mwandb\u001b[0m: Agent Starting Run: jcewn2ds with config:\n",
      "\u001b[34m\u001b[1mwandb\u001b[0m: \tact_func: tanh\n",
      "\u001b[34m\u001b[1mwandb\u001b[0m: \tbatch_size: 16\n",
      "\u001b[34m\u001b[1mwandb\u001b[0m: \tl2_coeff: 0.5\n",
      "\u001b[34m\u001b[1mwandb\u001b[0m: \tloss_func: mse\n",
      "\u001b[34m\u001b[1mwandb\u001b[0m: \tlr: 0.0001\n",
      "\u001b[34m\u001b[1mwandb\u001b[0m: \tn_epochs: 5\n",
      "\u001b[34m\u001b[1mwandb\u001b[0m: \tn_hidden: 3\n",
      "\u001b[34m\u001b[1mwandb\u001b[0m: \tn_hidden_units: 32\n",
      "\u001b[34m\u001b[1mwandb\u001b[0m: \toptim_algo: rmsprop\n",
      "\u001b[34m\u001b[1mwandb\u001b[0m: \trelu_param: 0\n",
      "\u001b[34m\u001b[1mwandb\u001b[0m: \tweights_init: xavier_uniform\n",
      "Failed to detect the name of this notebook, you can set it manually with the WANDB_NOTEBOOK_NAME environment variable to enable code saving.\n"
     ]
    },
    {
     "data": {
      "text/html": [
       "Tracking run with wandb version 0.14.0"
      ],
      "text/plain": [
       "<IPython.core.display.HTML object>"
      ]
     },
     "metadata": {},
     "output_type": "display_data"
    },
    {
     "data": {
      "text/html": [
       "Run data is saved locally in <code>d:\\CS6901\\wandb\\run-20230317_235615-jcewn2ds</code>"
      ],
      "text/plain": [
       "<IPython.core.display.HTML object>"
      ]
     },
     "metadata": {},
     "output_type": "display_data"
    },
    {
     "data": {
      "text/html": [
       "Syncing run <strong><a href='https://wandb.ai/viswa_ee/CS6910/runs/jcewn2ds' target=\"_blank\">soft-sweep-42</a></strong> to <a href='https://wandb.ai/viswa_ee/CS6910' target=\"_blank\">Weights & Biases</a> (<a href='https://wandb.me/run' target=\"_blank\">docs</a>)<br/>Sweep page: <a href='https://wandb.ai/viswa_ee/CS6910/sweeps/5hrjihf5' target=\"_blank\">https://wandb.ai/viswa_ee/CS6910/sweeps/5hrjihf5</a>"
      ],
      "text/plain": [
       "<IPython.core.display.HTML object>"
      ]
     },
     "metadata": {},
     "output_type": "display_data"
    },
    {
     "data": {
      "text/html": [
       " View project at <a href='https://wandb.ai/viswa_ee/CS6910' target=\"_blank\">https://wandb.ai/viswa_ee/CS6910</a>"
      ],
      "text/plain": [
       "<IPython.core.display.HTML object>"
      ]
     },
     "metadata": {},
     "output_type": "display_data"
    },
    {
     "data": {
      "text/html": [
       " View sweep at <a href='https://wandb.ai/viswa_ee/CS6910/sweeps/5hrjihf5' target=\"_blank\">https://wandb.ai/viswa_ee/CS6910/sweeps/5hrjihf5</a>"
      ],
      "text/plain": [
       "<IPython.core.display.HTML object>"
      ]
     },
     "metadata": {},
     "output_type": "display_data"
    },
    {
     "data": {
      "text/html": [
       " View run at <a href='https://wandb.ai/viswa_ee/CS6910/runs/jcewn2ds' target=\"_blank\">https://wandb.ai/viswa_ee/CS6910/runs/jcewn2ds</a>"
      ],
      "text/plain": [
       "<IPython.core.display.HTML object>"
      ]
     },
     "metadata": {},
     "output_type": "display_data"
    },
    {
     "data": {
      "text/html": [
       "Waiting for W&B process to finish... <strong style=\"color:green\">(success).</strong>"
      ],
      "text/plain": [
       "<IPython.core.display.HTML object>"
      ]
     },
     "metadata": {},
     "output_type": "display_data"
    },
    {
     "data": {
      "text/html": [
       "<style>\n",
       "    table.wandb td:nth-child(1) { padding: 0 10px; text-align: left ; width: auto;} td:nth-child(2) {text-align: left ; width: 100%}\n",
       "    .wandb-row { display: flex; flex-direction: row; flex-wrap: wrap; justify-content: flex-start; width: 100% }\n",
       "    .wandb-col { display: flex; flex-direction: column; flex-basis: 100%; flex: 1; padding: 10px; }\n",
       "    </style>\n",
       "<div class=\"wandb-row\"><div class=\"wandb-col\"><h3>Run history:</h3><br/><table class=\"wandb\"><tr><td>train_acc</td><td>▁▄▆▅█</td></tr><tr><td>train_loss</td><td>█▆▄▂▁</td></tr><tr><td>val_acc</td><td>▁▄▇▆█</td></tr><tr><td>val_loss</td><td>█▅▄▂▁</td></tr></table><br/></div><div class=\"wandb-col\"><h3>Run summary:</h3><br/><table class=\"wandb\"><tr><td>train_acc</td><td>0.84837</td></tr><tr><td>train_loss</td><td>-339.19894</td></tr><tr><td>val_acc</td><td>0.84267</td></tr><tr><td>val_loss</td><td>-353.825</td></tr></table><br/></div></div>"
      ],
      "text/plain": [
       "<IPython.core.display.HTML object>"
      ]
     },
     "metadata": {},
     "output_type": "display_data"
    },
    {
     "data": {
      "text/html": [
       " View run <strong style=\"color:#cdcd00\">soft-sweep-42</strong> at: <a href='https://wandb.ai/viswa_ee/CS6910/runs/jcewn2ds' target=\"_blank\">https://wandb.ai/viswa_ee/CS6910/runs/jcewn2ds</a><br/>Synced 4 W&B file(s), 1 media file(s), 0 artifact file(s) and 0 other file(s)"
      ],
      "text/plain": [
       "<IPython.core.display.HTML object>"
      ]
     },
     "metadata": {},
     "output_type": "display_data"
    },
    {
     "data": {
      "text/html": [
       "Find logs at: <code>.\\wandb\\run-20230317_235615-jcewn2ds\\logs</code>"
      ],
      "text/plain": [
       "<IPython.core.display.HTML object>"
      ]
     },
     "metadata": {},
     "output_type": "display_data"
    },
    {
     "name": "stderr",
     "output_type": "stream",
     "text": [
      "\u001b[34m\u001b[1mwandb\u001b[0m: Sweep Agent: Waiting for job.\n",
      "\u001b[34m\u001b[1mwandb\u001b[0m: Job received.\n",
      "\u001b[34m\u001b[1mwandb\u001b[0m: Agent Starting Run: 17mk8gig with config:\n",
      "\u001b[34m\u001b[1mwandb\u001b[0m: \tact_func: identity\n",
      "\u001b[34m\u001b[1mwandb\u001b[0m: \tbatch_size: 16\n",
      "\u001b[34m\u001b[1mwandb\u001b[0m: \tl2_coeff: 0.5\n",
      "\u001b[34m\u001b[1mwandb\u001b[0m: \tloss_func: mse\n",
      "\u001b[34m\u001b[1mwandb\u001b[0m: \tlr: 0.0001\n",
      "\u001b[34m\u001b[1mwandb\u001b[0m: \tn_epochs: 5\n",
      "\u001b[34m\u001b[1mwandb\u001b[0m: \tn_hidden: 4\n",
      "\u001b[34m\u001b[1mwandb\u001b[0m: \tn_hidden_units: 64\n",
      "\u001b[34m\u001b[1mwandb\u001b[0m: \toptim_algo: sgdm\n",
      "\u001b[34m\u001b[1mwandb\u001b[0m: \trelu_param: 0\n",
      "\u001b[34m\u001b[1mwandb\u001b[0m: \tweights_init: xavier_uniform\n",
      "Failed to detect the name of this notebook, you can set it manually with the WANDB_NOTEBOOK_NAME environment variable to enable code saving.\n"
     ]
    },
    {
     "data": {
      "text/html": [
       "Tracking run with wandb version 0.14.0"
      ],
      "text/plain": [
       "<IPython.core.display.HTML object>"
      ]
     },
     "metadata": {},
     "output_type": "display_data"
    },
    {
     "data": {
      "text/html": [
       "Run data is saved locally in <code>d:\\CS6901\\wandb\\run-20230317_235711-17mk8gig</code>"
      ],
      "text/plain": [
       "<IPython.core.display.HTML object>"
      ]
     },
     "metadata": {},
     "output_type": "display_data"
    },
    {
     "data": {
      "text/html": [
       "Syncing run <strong><a href='https://wandb.ai/viswa_ee/CS6910/runs/17mk8gig' target=\"_blank\">effortless-sweep-43</a></strong> to <a href='https://wandb.ai/viswa_ee/CS6910' target=\"_blank\">Weights & Biases</a> (<a href='https://wandb.me/run' target=\"_blank\">docs</a>)<br/>Sweep page: <a href='https://wandb.ai/viswa_ee/CS6910/sweeps/5hrjihf5' target=\"_blank\">https://wandb.ai/viswa_ee/CS6910/sweeps/5hrjihf5</a>"
      ],
      "text/plain": [
       "<IPython.core.display.HTML object>"
      ]
     },
     "metadata": {},
     "output_type": "display_data"
    },
    {
     "data": {
      "text/html": [
       " View project at <a href='https://wandb.ai/viswa_ee/CS6910' target=\"_blank\">https://wandb.ai/viswa_ee/CS6910</a>"
      ],
      "text/plain": [
       "<IPython.core.display.HTML object>"
      ]
     },
     "metadata": {},
     "output_type": "display_data"
    },
    {
     "data": {
      "text/html": [
       " View sweep at <a href='https://wandb.ai/viswa_ee/CS6910/sweeps/5hrjihf5' target=\"_blank\">https://wandb.ai/viswa_ee/CS6910/sweeps/5hrjihf5</a>"
      ],
      "text/plain": [
       "<IPython.core.display.HTML object>"
      ]
     },
     "metadata": {},
     "output_type": "display_data"
    },
    {
     "data": {
      "text/html": [
       " View run at <a href='https://wandb.ai/viswa_ee/CS6910/runs/17mk8gig' target=\"_blank\">https://wandb.ai/viswa_ee/CS6910/runs/17mk8gig</a>"
      ],
      "text/plain": [
       "<IPython.core.display.HTML object>"
      ]
     },
     "metadata": {},
     "output_type": "display_data"
    },
    {
     "data": {
      "text/html": [
       "Waiting for W&B process to finish... <strong style=\"color:green\">(success).</strong>"
      ],
      "text/plain": [
       "<IPython.core.display.HTML object>"
      ]
     },
     "metadata": {},
     "output_type": "display_data"
    },
    {
     "data": {
      "text/html": [
       "<style>\n",
       "    table.wandb td:nth-child(1) { padding: 0 10px; text-align: left ; width: auto;} td:nth-child(2) {text-align: left ; width: 100%}\n",
       "    .wandb-row { display: flex; flex-direction: row; flex-wrap: wrap; justify-content: flex-start; width: 100% }\n",
       "    .wandb-col { display: flex; flex-direction: column; flex-basis: 100%; flex: 1; padding: 10px; }\n",
       "    </style>\n",
       "<div class=\"wandb-row\"><div class=\"wandb-col\"><h3>Run history:</h3><br/><table class=\"wandb\"><tr><td>train_acc</td><td>▁▅▇██</td></tr><tr><td>train_loss</td><td>█▆▅▁▂</td></tr><tr><td>val_acc</td><td>▁▅▇██</td></tr><tr><td>val_loss</td><td>█▇▅▃▁</td></tr></table><br/></div><div class=\"wandb-col\"><h3>Run summary:</h3><br/><table class=\"wandb\"><tr><td>train_acc</td><td>0.63648</td></tr><tr><td>train_loss</td><td>-128.29763</td></tr><tr><td>val_acc</td><td>0.63017</td></tr><tr><td>val_loss</td><td>-151.61482</td></tr></table><br/></div></div>"
      ],
      "text/plain": [
       "<IPython.core.display.HTML object>"
      ]
     },
     "metadata": {},
     "output_type": "display_data"
    },
    {
     "data": {
      "text/html": [
       " View run <strong style=\"color:#cdcd00\">effortless-sweep-43</strong> at: <a href='https://wandb.ai/viswa_ee/CS6910/runs/17mk8gig' target=\"_blank\">https://wandb.ai/viswa_ee/CS6910/runs/17mk8gig</a><br/>Synced 4 W&B file(s), 1 media file(s), 0 artifact file(s) and 0 other file(s)"
      ],
      "text/plain": [
       "<IPython.core.display.HTML object>"
      ]
     },
     "metadata": {},
     "output_type": "display_data"
    },
    {
     "data": {
      "text/html": [
       "Find logs at: <code>.\\wandb\\run-20230317_235711-17mk8gig\\logs</code>"
      ],
      "text/plain": [
       "<IPython.core.display.HTML object>"
      ]
     },
     "metadata": {},
     "output_type": "display_data"
    },
    {
     "name": "stderr",
     "output_type": "stream",
     "text": [
      "\u001b[34m\u001b[1mwandb\u001b[0m: Sweep Agent: Waiting for job.\n",
      "\u001b[34m\u001b[1mwandb\u001b[0m: Job received.\n",
      "\u001b[34m\u001b[1mwandb\u001b[0m: Agent Starting Run: sg23uhzi with config:\n",
      "\u001b[34m\u001b[1mwandb\u001b[0m: \tact_func: identity\n",
      "\u001b[34m\u001b[1mwandb\u001b[0m: \tbatch_size: 32\n",
      "\u001b[34m\u001b[1mwandb\u001b[0m: \tl2_coeff: 0.5\n",
      "\u001b[34m\u001b[1mwandb\u001b[0m: \tloss_func: mse\n",
      "\u001b[34m\u001b[1mwandb\u001b[0m: \tlr: 0.0001\n",
      "\u001b[34m\u001b[1mwandb\u001b[0m: \tn_epochs: 10\n",
      "\u001b[34m\u001b[1mwandb\u001b[0m: \tn_hidden: 4\n",
      "\u001b[34m\u001b[1mwandb\u001b[0m: \tn_hidden_units: 128\n",
      "\u001b[34m\u001b[1mwandb\u001b[0m: \toptim_algo: nadam\n",
      "\u001b[34m\u001b[1mwandb\u001b[0m: \trelu_param: 0.1\n",
      "\u001b[34m\u001b[1mwandb\u001b[0m: \tweights_init: xavier_uniform\n",
      "Failed to detect the name of this notebook, you can set it manually with the WANDB_NOTEBOOK_NAME environment variable to enable code saving.\n"
     ]
    },
    {
     "data": {
      "text/html": [
       "Tracking run with wandb version 0.14.0"
      ],
      "text/plain": [
       "<IPython.core.display.HTML object>"
      ]
     },
     "metadata": {},
     "output_type": "display_data"
    },
    {
     "data": {
      "text/html": [
       "Run data is saved locally in <code>d:\\CS6901\\wandb\\run-20230317_235807-sg23uhzi</code>"
      ],
      "text/plain": [
       "<IPython.core.display.HTML object>"
      ]
     },
     "metadata": {},
     "output_type": "display_data"
    },
    {
     "data": {
      "text/html": [
       "Syncing run <strong><a href='https://wandb.ai/viswa_ee/CS6910/runs/sg23uhzi' target=\"_blank\">amber-sweep-44</a></strong> to <a href='https://wandb.ai/viswa_ee/CS6910' target=\"_blank\">Weights & Biases</a> (<a href='https://wandb.me/run' target=\"_blank\">docs</a>)<br/>Sweep page: <a href='https://wandb.ai/viswa_ee/CS6910/sweeps/5hrjihf5' target=\"_blank\">https://wandb.ai/viswa_ee/CS6910/sweeps/5hrjihf5</a>"
      ],
      "text/plain": [
       "<IPython.core.display.HTML object>"
      ]
     },
     "metadata": {},
     "output_type": "display_data"
    },
    {
     "data": {
      "text/html": [
       " View project at <a href='https://wandb.ai/viswa_ee/CS6910' target=\"_blank\">https://wandb.ai/viswa_ee/CS6910</a>"
      ],
      "text/plain": [
       "<IPython.core.display.HTML object>"
      ]
     },
     "metadata": {},
     "output_type": "display_data"
    },
    {
     "data": {
      "text/html": [
       " View sweep at <a href='https://wandb.ai/viswa_ee/CS6910/sweeps/5hrjihf5' target=\"_blank\">https://wandb.ai/viswa_ee/CS6910/sweeps/5hrjihf5</a>"
      ],
      "text/plain": [
       "<IPython.core.display.HTML object>"
      ]
     },
     "metadata": {},
     "output_type": "display_data"
    },
    {
     "data": {
      "text/html": [
       " View run at <a href='https://wandb.ai/viswa_ee/CS6910/runs/sg23uhzi' target=\"_blank\">https://wandb.ai/viswa_ee/CS6910/runs/sg23uhzi</a>"
      ],
      "text/plain": [
       "<IPython.core.display.HTML object>"
      ]
     },
     "metadata": {},
     "output_type": "display_data"
    },
    {
     "data": {
      "text/html": [
       "Waiting for W&B process to finish... <strong style=\"color:green\">(success).</strong>"
      ],
      "text/plain": [
       "<IPython.core.display.HTML object>"
      ]
     },
     "metadata": {},
     "output_type": "display_data"
    },
    {
     "data": {
      "text/html": [
       "<style>\n",
       "    table.wandb td:nth-child(1) { padding: 0 10px; text-align: left ; width: auto;} td:nth-child(2) {text-align: left ; width: 100%}\n",
       "    .wandb-row { display: flex; flex-direction: row; flex-wrap: wrap; justify-content: flex-start; width: 100% }\n",
       "    .wandb-col { display: flex; flex-direction: column; flex-basis: 100%; flex: 1; padding: 10px; }\n",
       "    </style>\n",
       "<div class=\"wandb-row\"><div class=\"wandb-col\"><h3>Run history:</h3><br/><table class=\"wandb\"><tr><td>train_acc</td><td>▁▃▃▇▆▆▆█▇▇</td></tr><tr><td>train_loss</td><td>▆▅▅▂▄▂█▂▁█</td></tr><tr><td>val_acc</td><td>▁▄▄▇█▆▆██▇</td></tr><tr><td>val_loss</td><td>▅▆▅█▅▂▃▂▄▁</td></tr></table><br/></div><div class=\"wandb-col\"><h3>Run summary:</h3><br/><table class=\"wandb\"><tr><td>train_acc</td><td>0.85007</td></tr><tr><td>train_loss</td><td>-706.89187</td></tr><tr><td>val_acc</td><td>0.8435</td></tr><tr><td>val_loss</td><td>-1007.93139</td></tr></table><br/></div></div>"
      ],
      "text/plain": [
       "<IPython.core.display.HTML object>"
      ]
     },
     "metadata": {},
     "output_type": "display_data"
    },
    {
     "data": {
      "text/html": [
       " View run <strong style=\"color:#cdcd00\">amber-sweep-44</strong> at: <a href='https://wandb.ai/viswa_ee/CS6910/runs/sg23uhzi' target=\"_blank\">https://wandb.ai/viswa_ee/CS6910/runs/sg23uhzi</a><br/>Synced 4 W&B file(s), 1 media file(s), 0 artifact file(s) and 0 other file(s)"
      ],
      "text/plain": [
       "<IPython.core.display.HTML object>"
      ]
     },
     "metadata": {},
     "output_type": "display_data"
    },
    {
     "data": {
      "text/html": [
       "Find logs at: <code>.\\wandb\\run-20230317_235807-sg23uhzi\\logs</code>"
      ],
      "text/plain": [
       "<IPython.core.display.HTML object>"
      ]
     },
     "metadata": {},
     "output_type": "display_data"
    },
    {
     "name": "stderr",
     "output_type": "stream",
     "text": [
      "\u001b[34m\u001b[1mwandb\u001b[0m: Agent Starting Run: vsnkz9av with config:\n",
      "\u001b[34m\u001b[1mwandb\u001b[0m: \tact_func: identity\n",
      "\u001b[34m\u001b[1mwandb\u001b[0m: \tbatch_size: 32\n",
      "\u001b[34m\u001b[1mwandb\u001b[0m: \tl2_coeff: 0.0005\n",
      "\u001b[34m\u001b[1mwandb\u001b[0m: \tloss_func: cross_ent\n",
      "\u001b[34m\u001b[1mwandb\u001b[0m: \tlr: 0.0001\n",
      "\u001b[34m\u001b[1mwandb\u001b[0m: \tn_epochs: 10\n",
      "\u001b[34m\u001b[1mwandb\u001b[0m: \tn_hidden: 5\n",
      "\u001b[34m\u001b[1mwandb\u001b[0m: \tn_hidden_units: 64\n",
      "\u001b[34m\u001b[1mwandb\u001b[0m: \toptim_algo: nadam\n",
      "\u001b[34m\u001b[1mwandb\u001b[0m: \trelu_param: 0.1\n",
      "\u001b[34m\u001b[1mwandb\u001b[0m: \tweights_init: xavier_uniform\n",
      "Failed to detect the name of this notebook, you can set it manually with the WANDB_NOTEBOOK_NAME environment variable to enable code saving.\n"
     ]
    },
    {
     "data": {
      "text/html": [
       "Tracking run with wandb version 0.14.0"
      ],
      "text/plain": [
       "<IPython.core.display.HTML object>"
      ]
     },
     "metadata": {},
     "output_type": "display_data"
    },
    {
     "data": {
      "text/html": [
       "Run data is saved locally in <code>d:\\CS6901\\wandb\\run-20230318_000037-vsnkz9av</code>"
      ],
      "text/plain": [
       "<IPython.core.display.HTML object>"
      ]
     },
     "metadata": {},
     "output_type": "display_data"
    },
    {
     "data": {
      "text/html": [
       "Syncing run <strong><a href='https://wandb.ai/viswa_ee/CS6910/runs/vsnkz9av' target=\"_blank\">iconic-sweep-45</a></strong> to <a href='https://wandb.ai/viswa_ee/CS6910' target=\"_blank\">Weights & Biases</a> (<a href='https://wandb.me/run' target=\"_blank\">docs</a>)<br/>Sweep page: <a href='https://wandb.ai/viswa_ee/CS6910/sweeps/5hrjihf5' target=\"_blank\">https://wandb.ai/viswa_ee/CS6910/sweeps/5hrjihf5</a>"
      ],
      "text/plain": [
       "<IPython.core.display.HTML object>"
      ]
     },
     "metadata": {},
     "output_type": "display_data"
    },
    {
     "data": {
      "text/html": [
       " View project at <a href='https://wandb.ai/viswa_ee/CS6910' target=\"_blank\">https://wandb.ai/viswa_ee/CS6910</a>"
      ],
      "text/plain": [
       "<IPython.core.display.HTML object>"
      ]
     },
     "metadata": {},
     "output_type": "display_data"
    },
    {
     "data": {
      "text/html": [
       " View sweep at <a href='https://wandb.ai/viswa_ee/CS6910/sweeps/5hrjihf5' target=\"_blank\">https://wandb.ai/viswa_ee/CS6910/sweeps/5hrjihf5</a>"
      ],
      "text/plain": [
       "<IPython.core.display.HTML object>"
      ]
     },
     "metadata": {},
     "output_type": "display_data"
    },
    {
     "data": {
      "text/html": [
       " View run at <a href='https://wandb.ai/viswa_ee/CS6910/runs/vsnkz9av' target=\"_blank\">https://wandb.ai/viswa_ee/CS6910/runs/vsnkz9av</a>"
      ],
      "text/plain": [
       "<IPython.core.display.HTML object>"
      ]
     },
     "metadata": {},
     "output_type": "display_data"
    },
    {
     "data": {
      "text/html": [
       "Waiting for W&B process to finish... <strong style=\"color:green\">(success).</strong>"
      ],
      "text/plain": [
       "<IPython.core.display.HTML object>"
      ]
     },
     "metadata": {},
     "output_type": "display_data"
    },
    {
     "data": {
      "text/html": [
       "<style>\n",
       "    table.wandb td:nth-child(1) { padding: 0 10px; text-align: left ; width: auto;} td:nth-child(2) {text-align: left ; width: 100%}\n",
       "    .wandb-row { display: flex; flex-direction: row; flex-wrap: wrap; justify-content: flex-start; width: 100% }\n",
       "    .wandb-col { display: flex; flex-direction: column; flex-basis: 100%; flex: 1; padding: 10px; }\n",
       "    </style>\n",
       "<div class=\"wandb-row\"><div class=\"wandb-col\"><h3>Run history:</h3><br/><table class=\"wandb\"><tr><td>train_acc</td><td>▁▅▆▆▆▇▇▇██</td></tr><tr><td>train_loss</td><td>▅▁▂▇▄▂▄▄█▄</td></tr><tr><td>val_acc</td><td>▁▅▇▇▇▇▇▆██</td></tr><tr><td>val_loss</td><td>█▄▃▂▃▂▂▂▁▁</td></tr></table><br/></div><div class=\"wandb-col\"><h3>Run summary:</h3><br/><table class=\"wandb\"><tr><td>train_acc</td><td>0.86243</td></tr><tr><td>train_loss</td><td>0.41608</td></tr><tr><td>val_acc</td><td>0.85517</td></tr><tr><td>val_loss</td><td>0.41439</td></tr></table><br/></div></div>"
      ],
      "text/plain": [
       "<IPython.core.display.HTML object>"
      ]
     },
     "metadata": {},
     "output_type": "display_data"
    },
    {
     "data": {
      "text/html": [
       " View run <strong style=\"color:#cdcd00\">iconic-sweep-45</strong> at: <a href='https://wandb.ai/viswa_ee/CS6910/runs/vsnkz9av' target=\"_blank\">https://wandb.ai/viswa_ee/CS6910/runs/vsnkz9av</a><br/>Synced 4 W&B file(s), 1 media file(s), 0 artifact file(s) and 0 other file(s)"
      ],
      "text/plain": [
       "<IPython.core.display.HTML object>"
      ]
     },
     "metadata": {},
     "output_type": "display_data"
    },
    {
     "data": {
      "text/html": [
       "Find logs at: <code>.\\wandb\\run-20230318_000037-vsnkz9av\\logs</code>"
      ],
      "text/plain": [
       "<IPython.core.display.HTML object>"
      ]
     },
     "metadata": {},
     "output_type": "display_data"
    },
    {
     "name": "stderr",
     "output_type": "stream",
     "text": [
      "\u001b[34m\u001b[1mwandb\u001b[0m: Agent Starting Run: h9awkp8e with config:\n",
      "\u001b[34m\u001b[1mwandb\u001b[0m: \tact_func: identity\n",
      "\u001b[34m\u001b[1mwandb\u001b[0m: \tbatch_size: 64\n",
      "\u001b[34m\u001b[1mwandb\u001b[0m: \tl2_coeff: 0.5\n",
      "\u001b[34m\u001b[1mwandb\u001b[0m: \tloss_func: cross_ent\n",
      "\u001b[34m\u001b[1mwandb\u001b[0m: \tlr: 0.0001\n",
      "\u001b[34m\u001b[1mwandb\u001b[0m: \tn_epochs: 10\n",
      "\u001b[34m\u001b[1mwandb\u001b[0m: \tn_hidden: 5\n",
      "\u001b[34m\u001b[1mwandb\u001b[0m: \tn_hidden_units: 32\n",
      "\u001b[34m\u001b[1mwandb\u001b[0m: \toptim_algo: nag\n",
      "\u001b[34m\u001b[1mwandb\u001b[0m: \trelu_param: 0\n",
      "\u001b[34m\u001b[1mwandb\u001b[0m: \tweights_init: xavier_uniform\n",
      "Failed to detect the name of this notebook, you can set it manually with the WANDB_NOTEBOOK_NAME environment variable to enable code saving.\n"
     ]
    },
    {
     "data": {
      "text/html": [
       "Tracking run with wandb version 0.14.0"
      ],
      "text/plain": [
       "<IPython.core.display.HTML object>"
      ]
     },
     "metadata": {},
     "output_type": "display_data"
    },
    {
     "data": {
      "text/html": [
       "Run data is saved locally in <code>d:\\CS6901\\wandb\\run-20230318_000150-h9awkp8e</code>"
      ],
      "text/plain": [
       "<IPython.core.display.HTML object>"
      ]
     },
     "metadata": {},
     "output_type": "display_data"
    },
    {
     "data": {
      "text/html": [
       "Syncing run <strong><a href='https://wandb.ai/viswa_ee/CS6910/runs/h9awkp8e' target=\"_blank\">rich-sweep-46</a></strong> to <a href='https://wandb.ai/viswa_ee/CS6910' target=\"_blank\">Weights & Biases</a> (<a href='https://wandb.me/run' target=\"_blank\">docs</a>)<br/>Sweep page: <a href='https://wandb.ai/viswa_ee/CS6910/sweeps/5hrjihf5' target=\"_blank\">https://wandb.ai/viswa_ee/CS6910/sweeps/5hrjihf5</a>"
      ],
      "text/plain": [
       "<IPython.core.display.HTML object>"
      ]
     },
     "metadata": {},
     "output_type": "display_data"
    },
    {
     "data": {
      "text/html": [
       " View project at <a href='https://wandb.ai/viswa_ee/CS6910' target=\"_blank\">https://wandb.ai/viswa_ee/CS6910</a>"
      ],
      "text/plain": [
       "<IPython.core.display.HTML object>"
      ]
     },
     "metadata": {},
     "output_type": "display_data"
    },
    {
     "data": {
      "text/html": [
       " View sweep at <a href='https://wandb.ai/viswa_ee/CS6910/sweeps/5hrjihf5' target=\"_blank\">https://wandb.ai/viswa_ee/CS6910/sweeps/5hrjihf5</a>"
      ],
      "text/plain": [
       "<IPython.core.display.HTML object>"
      ]
     },
     "metadata": {},
     "output_type": "display_data"
    },
    {
     "data": {
      "text/html": [
       " View run at <a href='https://wandb.ai/viswa_ee/CS6910/runs/h9awkp8e' target=\"_blank\">https://wandb.ai/viswa_ee/CS6910/runs/h9awkp8e</a>"
      ],
      "text/plain": [
       "<IPython.core.display.HTML object>"
      ]
     },
     "metadata": {},
     "output_type": "display_data"
    },
    {
     "data": {
      "text/html": [
       "Waiting for W&B process to finish... <strong style=\"color:green\">(success).</strong>"
      ],
      "text/plain": [
       "<IPython.core.display.HTML object>"
      ]
     },
     "metadata": {},
     "output_type": "display_data"
    },
    {
     "data": {
      "text/html": [
       "<style>\n",
       "    table.wandb td:nth-child(1) { padding: 0 10px; text-align: left ; width: auto;} td:nth-child(2) {text-align: left ; width: 100%}\n",
       "    .wandb-row { display: flex; flex-direction: row; flex-wrap: wrap; justify-content: flex-start; width: 100% }\n",
       "    .wandb-col { display: flex; flex-direction: column; flex-basis: 100%; flex: 1; padding: 10px; }\n",
       "    </style>\n",
       "<div class=\"wandb-row\"><div class=\"wandb-col\"><h3>Run history:</h3><br/><table class=\"wandb\"><tr><td>train_acc</td><td>▇▄▃▆▂▁▅▃▄█</td></tr><tr><td>train_loss</td><td>▇▄▅▅▅█▁▇▃▆</td></tr><tr><td>val_acc</td><td>█▁▇▇▂█▄▂▅▇</td></tr><tr><td>val_loss</td><td>██▁▇▇▆▅▅▅▄</td></tr></table><br/></div><div class=\"wandb-col\"><h3>Run summary:</h3><br/><table class=\"wandb\"><tr><td>train_acc</td><td>0.12319</td></tr><tr><td>train_loss</td><td>3.54318</td></tr><tr><td>val_acc</td><td>0.12183</td></tr><tr><td>val_loss</td><td>2.5252</td></tr></table><br/></div></div>"
      ],
      "text/plain": [
       "<IPython.core.display.HTML object>"
      ]
     },
     "metadata": {},
     "output_type": "display_data"
    },
    {
     "data": {
      "text/html": [
       " View run <strong style=\"color:#cdcd00\">rich-sweep-46</strong> at: <a href='https://wandb.ai/viswa_ee/CS6910/runs/h9awkp8e' target=\"_blank\">https://wandb.ai/viswa_ee/CS6910/runs/h9awkp8e</a><br/>Synced 4 W&B file(s), 1 media file(s), 0 artifact file(s) and 0 other file(s)"
      ],
      "text/plain": [
       "<IPython.core.display.HTML object>"
      ]
     },
     "metadata": {},
     "output_type": "display_data"
    },
    {
     "data": {
      "text/html": [
       "Find logs at: <code>.\\wandb\\run-20230318_000150-h9awkp8e\\logs</code>"
      ],
      "text/plain": [
       "<IPython.core.display.HTML object>"
      ]
     },
     "metadata": {},
     "output_type": "display_data"
    },
    {
     "name": "stderr",
     "output_type": "stream",
     "text": [
      "\u001b[34m\u001b[1mwandb\u001b[0m: Sweep Agent: Waiting for job.\n",
      "\u001b[34m\u001b[1mwandb\u001b[0m: Job received.\n",
      "\u001b[34m\u001b[1mwandb\u001b[0m: Agent Starting Run: prn9nzrb with config:\n",
      "\u001b[34m\u001b[1mwandb\u001b[0m: \tact_func: identity\n",
      "\u001b[34m\u001b[1mwandb\u001b[0m: \tbatch_size: 64\n",
      "\u001b[34m\u001b[1mwandb\u001b[0m: \tl2_coeff: 0.5\n",
      "\u001b[34m\u001b[1mwandb\u001b[0m: \tloss_func: cross_ent\n",
      "\u001b[34m\u001b[1mwandb\u001b[0m: \tlr: 0.0001\n",
      "\u001b[34m\u001b[1mwandb\u001b[0m: \tn_epochs: 10\n",
      "\u001b[34m\u001b[1mwandb\u001b[0m: \tn_hidden: 3\n",
      "\u001b[34m\u001b[1mwandb\u001b[0m: \tn_hidden_units: 128\n",
      "\u001b[34m\u001b[1mwandb\u001b[0m: \toptim_algo: rmsprop\n",
      "\u001b[34m\u001b[1mwandb\u001b[0m: \trelu_param: 0.1\n",
      "\u001b[34m\u001b[1mwandb\u001b[0m: \tweights_init: xavier_uniform\n",
      "Failed to detect the name of this notebook, you can set it manually with the WANDB_NOTEBOOK_NAME environment variable to enable code saving.\n"
     ]
    },
    {
     "data": {
      "text/html": [
       "Tracking run with wandb version 0.14.0"
      ],
      "text/plain": [
       "<IPython.core.display.HTML object>"
      ]
     },
     "metadata": {},
     "output_type": "display_data"
    },
    {
     "data": {
      "text/html": [
       "Run data is saved locally in <code>d:\\CS6901\\wandb\\run-20230318_000233-prn9nzrb</code>"
      ],
      "text/plain": [
       "<IPython.core.display.HTML object>"
      ]
     },
     "metadata": {},
     "output_type": "display_data"
    },
    {
     "data": {
      "text/html": [
       "Syncing run <strong><a href='https://wandb.ai/viswa_ee/CS6910/runs/prn9nzrb' target=\"_blank\">comfy-sweep-47</a></strong> to <a href='https://wandb.ai/viswa_ee/CS6910' target=\"_blank\">Weights & Biases</a> (<a href='https://wandb.me/run' target=\"_blank\">docs</a>)<br/>Sweep page: <a href='https://wandb.ai/viswa_ee/CS6910/sweeps/5hrjihf5' target=\"_blank\">https://wandb.ai/viswa_ee/CS6910/sweeps/5hrjihf5</a>"
      ],
      "text/plain": [
       "<IPython.core.display.HTML object>"
      ]
     },
     "metadata": {},
     "output_type": "display_data"
    },
    {
     "data": {
      "text/html": [
       " View project at <a href='https://wandb.ai/viswa_ee/CS6910' target=\"_blank\">https://wandb.ai/viswa_ee/CS6910</a>"
      ],
      "text/plain": [
       "<IPython.core.display.HTML object>"
      ]
     },
     "metadata": {},
     "output_type": "display_data"
    },
    {
     "data": {
      "text/html": [
       " View sweep at <a href='https://wandb.ai/viswa_ee/CS6910/sweeps/5hrjihf5' target=\"_blank\">https://wandb.ai/viswa_ee/CS6910/sweeps/5hrjihf5</a>"
      ],
      "text/plain": [
       "<IPython.core.display.HTML object>"
      ]
     },
     "metadata": {},
     "output_type": "display_data"
    },
    {
     "data": {
      "text/html": [
       " View run at <a href='https://wandb.ai/viswa_ee/CS6910/runs/prn9nzrb' target=\"_blank\">https://wandb.ai/viswa_ee/CS6910/runs/prn9nzrb</a>"
      ],
      "text/plain": [
       "<IPython.core.display.HTML object>"
      ]
     },
     "metadata": {},
     "output_type": "display_data"
    },
    {
     "data": {
      "text/html": [
       "Waiting for W&B process to finish... <strong style=\"color:green\">(success).</strong>"
      ],
      "text/plain": [
       "<IPython.core.display.HTML object>"
      ]
     },
     "metadata": {},
     "output_type": "display_data"
    },
    {
     "data": {
      "text/html": [
       "<style>\n",
       "    table.wandb td:nth-child(1) { padding: 0 10px; text-align: left ; width: auto;} td:nth-child(2) {text-align: left ; width: 100%}\n",
       "    .wandb-row { display: flex; flex-direction: row; flex-wrap: wrap; justify-content: flex-start; width: 100% }\n",
       "    .wandb-col { display: flex; flex-direction: column; flex-basis: 100%; flex: 1; padding: 10px; }\n",
       "    </style>\n",
       "<div class=\"wandb-row\"><div class=\"wandb-col\"><h3>Run history:</h3><br/><table class=\"wandb\"><tr><td>train_acc</td><td>▁▆▆▃▇▇▃██▇</td></tr><tr><td>train_loss</td><td>█▅▄▃▂▂▂▁▂▁</td></tr><tr><td>val_acc</td><td>▂▆▆▁▇▆▁█▇█</td></tr><tr><td>val_loss</td><td>█▄▃▄▂▂▅▂▁▁</td></tr></table><br/></div><div class=\"wandb-col\"><h3>Run summary:</h3><br/><table class=\"wandb\"><tr><td>train_acc</td><td>0.85035</td></tr><tr><td>train_loss</td><td>0.67992</td></tr><tr><td>val_acc</td><td>0.84683</td></tr><tr><td>val_loss</td><td>0.44572</td></tr></table><br/></div></div>"
      ],
      "text/plain": [
       "<IPython.core.display.HTML object>"
      ]
     },
     "metadata": {},
     "output_type": "display_data"
    },
    {
     "data": {
      "text/html": [
       " View run <strong style=\"color:#cdcd00\">comfy-sweep-47</strong> at: <a href='https://wandb.ai/viswa_ee/CS6910/runs/prn9nzrb' target=\"_blank\">https://wandb.ai/viswa_ee/CS6910/runs/prn9nzrb</a><br/>Synced 4 W&B file(s), 1 media file(s), 0 artifact file(s) and 0 other file(s)"
      ],
      "text/plain": [
       "<IPython.core.display.HTML object>"
      ]
     },
     "metadata": {},
     "output_type": "display_data"
    },
    {
     "data": {
      "text/html": [
       "Find logs at: <code>.\\wandb\\run-20230318_000233-prn9nzrb\\logs</code>"
      ],
      "text/plain": [
       "<IPython.core.display.HTML object>"
      ]
     },
     "metadata": {},
     "output_type": "display_data"
    },
    {
     "name": "stderr",
     "output_type": "stream",
     "text": [
      "\u001b[34m\u001b[1mwandb\u001b[0m: Agent Starting Run: y4xl2ats with config:\n",
      "\u001b[34m\u001b[1mwandb\u001b[0m: \tact_func: identity\n",
      "\u001b[34m\u001b[1mwandb\u001b[0m: \tbatch_size: 32\n",
      "\u001b[34m\u001b[1mwandb\u001b[0m: \tl2_coeff: 0.5\n",
      "\u001b[34m\u001b[1mwandb\u001b[0m: \tloss_func: cross_ent\n",
      "\u001b[34m\u001b[1mwandb\u001b[0m: \tlr: 0.0001\n",
      "\u001b[34m\u001b[1mwandb\u001b[0m: \tn_epochs: 10\n",
      "\u001b[34m\u001b[1mwandb\u001b[0m: \tn_hidden: 4\n",
      "\u001b[34m\u001b[1mwandb\u001b[0m: \tn_hidden_units: 128\n",
      "\u001b[34m\u001b[1mwandb\u001b[0m: \toptim_algo: adam\n",
      "\u001b[34m\u001b[1mwandb\u001b[0m: \trelu_param: 0.1\n",
      "\u001b[34m\u001b[1mwandb\u001b[0m: \tweights_init: xavier_uniform\n",
      "Failed to detect the name of this notebook, you can set it manually with the WANDB_NOTEBOOK_NAME environment variable to enable code saving.\n"
     ]
    },
    {
     "data": {
      "text/html": [
       "Tracking run with wandb version 0.14.0"
      ],
      "text/plain": [
       "<IPython.core.display.HTML object>"
      ]
     },
     "metadata": {},
     "output_type": "display_data"
    },
    {
     "data": {
      "text/html": [
       "Run data is saved locally in <code>d:\\CS6901\\wandb\\run-20230318_000339-y4xl2ats</code>"
      ],
      "text/plain": [
       "<IPython.core.display.HTML object>"
      ]
     },
     "metadata": {},
     "output_type": "display_data"
    },
    {
     "data": {
      "text/html": [
       "Syncing run <strong><a href='https://wandb.ai/viswa_ee/CS6910/runs/y4xl2ats' target=\"_blank\">misunderstood-sweep-48</a></strong> to <a href='https://wandb.ai/viswa_ee/CS6910' target=\"_blank\">Weights & Biases</a> (<a href='https://wandb.me/run' target=\"_blank\">docs</a>)<br/>Sweep page: <a href='https://wandb.ai/viswa_ee/CS6910/sweeps/5hrjihf5' target=\"_blank\">https://wandb.ai/viswa_ee/CS6910/sweeps/5hrjihf5</a>"
      ],
      "text/plain": [
       "<IPython.core.display.HTML object>"
      ]
     },
     "metadata": {},
     "output_type": "display_data"
    },
    {
     "data": {
      "text/html": [
       " View project at <a href='https://wandb.ai/viswa_ee/CS6910' target=\"_blank\">https://wandb.ai/viswa_ee/CS6910</a>"
      ],
      "text/plain": [
       "<IPython.core.display.HTML object>"
      ]
     },
     "metadata": {},
     "output_type": "display_data"
    },
    {
     "data": {
      "text/html": [
       " View sweep at <a href='https://wandb.ai/viswa_ee/CS6910/sweeps/5hrjihf5' target=\"_blank\">https://wandb.ai/viswa_ee/CS6910/sweeps/5hrjihf5</a>"
      ],
      "text/plain": [
       "<IPython.core.display.HTML object>"
      ]
     },
     "metadata": {},
     "output_type": "display_data"
    },
    {
     "data": {
      "text/html": [
       " View run at <a href='https://wandb.ai/viswa_ee/CS6910/runs/y4xl2ats' target=\"_blank\">https://wandb.ai/viswa_ee/CS6910/runs/y4xl2ats</a>"
      ],
      "text/plain": [
       "<IPython.core.display.HTML object>"
      ]
     },
     "metadata": {},
     "output_type": "display_data"
    },
    {
     "data": {
      "text/html": [
       "Waiting for W&B process to finish... <strong style=\"color:green\">(success).</strong>"
      ],
      "text/plain": [
       "<IPython.core.display.HTML object>"
      ]
     },
     "metadata": {},
     "output_type": "display_data"
    },
    {
     "data": {
      "text/html": [
       "<style>\n",
       "    table.wandb td:nth-child(1) { padding: 0 10px; text-align: left ; width: auto;} td:nth-child(2) {text-align: left ; width: 100%}\n",
       "    .wandb-row { display: flex; flex-direction: row; flex-wrap: wrap; justify-content: flex-start; width: 100% }\n",
       "    .wandb-col { display: flex; flex-direction: column; flex-basis: 100%; flex: 1; padding: 10px; }\n",
       "    </style>\n",
       "<div class=\"wandb-row\"><div class=\"wandb-col\"><h3>Run history:</h3><br/><table class=\"wandb\"><tr><td>train_acc</td><td>▁▆▆▃▆█▆▅▇▆</td></tr><tr><td>train_loss</td><td>█▄▃▂▂▂▁▁▁▁</td></tr><tr><td>val_acc</td><td>▁▆▇▂▆█▇▅█▄</td></tr><tr><td>val_loss</td><td>█▄▃▄▃▁▃▃▁▂</td></tr></table><br/></div><div class=\"wandb-col\"><h3>Run summary:</h3><br/><table class=\"wandb\"><tr><td>train_acc</td><td>0.83348</td></tr><tr><td>train_loss</td><td>1.02817</td></tr><tr><td>val_acc</td><td>0.82583</td></tr><tr><td>val_loss</td><td>0.49456</td></tr></table><br/></div></div>"
      ],
      "text/plain": [
       "<IPython.core.display.HTML object>"
      ]
     },
     "metadata": {},
     "output_type": "display_data"
    },
    {
     "data": {
      "text/html": [
       " View run <strong style=\"color:#cdcd00\">misunderstood-sweep-48</strong> at: <a href='https://wandb.ai/viswa_ee/CS6910/runs/y4xl2ats' target=\"_blank\">https://wandb.ai/viswa_ee/CS6910/runs/y4xl2ats</a><br/>Synced 4 W&B file(s), 1 media file(s), 0 artifact file(s) and 0 other file(s)"
      ],
      "text/plain": [
       "<IPython.core.display.HTML object>"
      ]
     },
     "metadata": {},
     "output_type": "display_data"
    },
    {
     "data": {
      "text/html": [
       "Find logs at: <code>.\\wandb\\run-20230318_000339-y4xl2ats\\logs</code>"
      ],
      "text/plain": [
       "<IPython.core.display.HTML object>"
      ]
     },
     "metadata": {},
     "output_type": "display_data"
    },
    {
     "name": "stderr",
     "output_type": "stream",
     "text": [
      "\u001b[34m\u001b[1mwandb\u001b[0m: Agent Starting Run: 7ikgzlw5 with config:\n",
      "\u001b[34m\u001b[1mwandb\u001b[0m: \tact_func: identity\n",
      "\u001b[34m\u001b[1mwandb\u001b[0m: \tbatch_size: 16\n",
      "\u001b[34m\u001b[1mwandb\u001b[0m: \tl2_coeff: 0.5\n",
      "\u001b[34m\u001b[1mwandb\u001b[0m: \tloss_func: mse\n",
      "\u001b[34m\u001b[1mwandb\u001b[0m: \tlr: 0.0001\n",
      "\u001b[34m\u001b[1mwandb\u001b[0m: \tn_epochs: 10\n",
      "\u001b[34m\u001b[1mwandb\u001b[0m: \tn_hidden: 5\n",
      "\u001b[34m\u001b[1mwandb\u001b[0m: \tn_hidden_units: 64\n",
      "\u001b[34m\u001b[1mwandb\u001b[0m: \toptim_algo: adam\n",
      "\u001b[34m\u001b[1mwandb\u001b[0m: \trelu_param: 0.1\n",
      "\u001b[34m\u001b[1mwandb\u001b[0m: \tweights_init: xavier_uniform\n",
      "Failed to detect the name of this notebook, you can set it manually with the WANDB_NOTEBOOK_NAME environment variable to enable code saving.\n"
     ]
    },
    {
     "data": {
      "text/html": [
       "Tracking run with wandb version 0.14.0"
      ],
      "text/plain": [
       "<IPython.core.display.HTML object>"
      ]
     },
     "metadata": {},
     "output_type": "display_data"
    },
    {
     "data": {
      "text/html": [
       "Run data is saved locally in <code>d:\\CS6901\\wandb\\run-20230318_000552-7ikgzlw5</code>"
      ],
      "text/plain": [
       "<IPython.core.display.HTML object>"
      ]
     },
     "metadata": {},
     "output_type": "display_data"
    },
    {
     "data": {
      "text/html": [
       "Syncing run <strong><a href='https://wandb.ai/viswa_ee/CS6910/runs/7ikgzlw5' target=\"_blank\">dainty-sweep-49</a></strong> to <a href='https://wandb.ai/viswa_ee/CS6910' target=\"_blank\">Weights & Biases</a> (<a href='https://wandb.me/run' target=\"_blank\">docs</a>)<br/>Sweep page: <a href='https://wandb.ai/viswa_ee/CS6910/sweeps/5hrjihf5' target=\"_blank\">https://wandb.ai/viswa_ee/CS6910/sweeps/5hrjihf5</a>"
      ],
      "text/plain": [
       "<IPython.core.display.HTML object>"
      ]
     },
     "metadata": {},
     "output_type": "display_data"
    },
    {
     "data": {
      "text/html": [
       " View project at <a href='https://wandb.ai/viswa_ee/CS6910' target=\"_blank\">https://wandb.ai/viswa_ee/CS6910</a>"
      ],
      "text/plain": [
       "<IPython.core.display.HTML object>"
      ]
     },
     "metadata": {},
     "output_type": "display_data"
    },
    {
     "data": {
      "text/html": [
       " View sweep at <a href='https://wandb.ai/viswa_ee/CS6910/sweeps/5hrjihf5' target=\"_blank\">https://wandb.ai/viswa_ee/CS6910/sweeps/5hrjihf5</a>"
      ],
      "text/plain": [
       "<IPython.core.display.HTML object>"
      ]
     },
     "metadata": {},
     "output_type": "display_data"
    },
    {
     "data": {
      "text/html": [
       " View run at <a href='https://wandb.ai/viswa_ee/CS6910/runs/7ikgzlw5' target=\"_blank\">https://wandb.ai/viswa_ee/CS6910/runs/7ikgzlw5</a>"
      ],
      "text/plain": [
       "<IPython.core.display.HTML object>"
      ]
     },
     "metadata": {},
     "output_type": "display_data"
    },
    {
     "data": {
      "text/html": [
       "Waiting for W&B process to finish... <strong style=\"color:green\">(success).</strong>"
      ],
      "text/plain": [
       "<IPython.core.display.HTML object>"
      ]
     },
     "metadata": {},
     "output_type": "display_data"
    },
    {
     "data": {
      "text/html": [
       "<style>\n",
       "    table.wandb td:nth-child(1) { padding: 0 10px; text-align: left ; width: auto;} td:nth-child(2) {text-align: left ; width: 100%}\n",
       "    .wandb-row { display: flex; flex-direction: row; flex-wrap: wrap; justify-content: flex-start; width: 100% }\n",
       "    .wandb-col { display: flex; flex-direction: column; flex-basis: 100%; flex: 1; padding: 10px; }\n",
       "    </style>\n",
       "<div class=\"wandb-row\"><div class=\"wandb-col\"><h3>Run history:</h3><br/><table class=\"wandb\"><tr><td>train_acc</td><td>▃▆▆▆▅█▁▇██</td></tr><tr><td>train_loss</td><td>▆▇▇▄▆█▆▁▅▄</td></tr><tr><td>val_acc</td><td>▃▇▅█▅█▁▇██</td></tr><tr><td>val_loss</td><td>███▄▄▅▃▁▁▂</td></tr></table><br/></div><div class=\"wandb-col\"><h3>Run summary:</h3><br/><table class=\"wandb\"><tr><td>train_acc</td><td>0.83511</td></tr><tr><td>train_loss</td><td>-1059.2052</td></tr><tr><td>val_acc</td><td>0.8285</td></tr><tr><td>val_loss</td><td>-933.6451</td></tr></table><br/></div></div>"
      ],
      "text/plain": [
       "<IPython.core.display.HTML object>"
      ]
     },
     "metadata": {},
     "output_type": "display_data"
    },
    {
     "data": {
      "text/html": [
       " View run <strong style=\"color:#cdcd00\">dainty-sweep-49</strong> at: <a href='https://wandb.ai/viswa_ee/CS6910/runs/7ikgzlw5' target=\"_blank\">https://wandb.ai/viswa_ee/CS6910/runs/7ikgzlw5</a><br/>Synced 4 W&B file(s), 1 media file(s), 0 artifact file(s) and 0 other file(s)"
      ],
      "text/plain": [
       "<IPython.core.display.HTML object>"
      ]
     },
     "metadata": {},
     "output_type": "display_data"
    },
    {
     "data": {
      "text/html": [
       "Find logs at: <code>.\\wandb\\run-20230318_000552-7ikgzlw5\\logs</code>"
      ],
      "text/plain": [
       "<IPython.core.display.HTML object>"
      ]
     },
     "metadata": {},
     "output_type": "display_data"
    },
    {
     "name": "stderr",
     "output_type": "stream",
     "text": [
      "\u001b[34m\u001b[1mwandb\u001b[0m: Agent Starting Run: 9ryz4an1 with config:\n",
      "\u001b[34m\u001b[1mwandb\u001b[0m: \tact_func: identity\n",
      "\u001b[34m\u001b[1mwandb\u001b[0m: \tbatch_size: 32\n",
      "\u001b[34m\u001b[1mwandb\u001b[0m: \tl2_coeff: 0.0005\n",
      "\u001b[34m\u001b[1mwandb\u001b[0m: \tloss_func: mse\n",
      "\u001b[34m\u001b[1mwandb\u001b[0m: \tlr: 0.0001\n",
      "\u001b[34m\u001b[1mwandb\u001b[0m: \tn_epochs: 5\n",
      "\u001b[34m\u001b[1mwandb\u001b[0m: \tn_hidden: 3\n",
      "\u001b[34m\u001b[1mwandb\u001b[0m: \tn_hidden_units: 32\n",
      "\u001b[34m\u001b[1mwandb\u001b[0m: \toptim_algo: nadam\n",
      "\u001b[34m\u001b[1mwandb\u001b[0m: \trelu_param: 0\n",
      "\u001b[34m\u001b[1mwandb\u001b[0m: \tweights_init: xavier_uniform\n",
      "Failed to detect the name of this notebook, you can set it manually with the WANDB_NOTEBOOK_NAME environment variable to enable code saving.\n"
     ]
    },
    {
     "data": {
      "text/html": [
       "Tracking run with wandb version 0.14.0"
      ],
      "text/plain": [
       "<IPython.core.display.HTML object>"
      ]
     },
     "metadata": {},
     "output_type": "display_data"
    },
    {
     "data": {
      "text/html": [
       "Run data is saved locally in <code>d:\\CS6901\\wandb\\run-20230318_000741-9ryz4an1</code>"
      ],
      "text/plain": [
       "<IPython.core.display.HTML object>"
      ]
     },
     "metadata": {},
     "output_type": "display_data"
    },
    {
     "data": {
      "text/html": [
       "Syncing run <strong><a href='https://wandb.ai/viswa_ee/CS6910/runs/9ryz4an1' target=\"_blank\">jumping-sweep-50</a></strong> to <a href='https://wandb.ai/viswa_ee/CS6910' target=\"_blank\">Weights & Biases</a> (<a href='https://wandb.me/run' target=\"_blank\">docs</a>)<br/>Sweep page: <a href='https://wandb.ai/viswa_ee/CS6910/sweeps/5hrjihf5' target=\"_blank\">https://wandb.ai/viswa_ee/CS6910/sweeps/5hrjihf5</a>"
      ],
      "text/plain": [
       "<IPython.core.display.HTML object>"
      ]
     },
     "metadata": {},
     "output_type": "display_data"
    },
    {
     "data": {
      "text/html": [
       " View project at <a href='https://wandb.ai/viswa_ee/CS6910' target=\"_blank\">https://wandb.ai/viswa_ee/CS6910</a>"
      ],
      "text/plain": [
       "<IPython.core.display.HTML object>"
      ]
     },
     "metadata": {},
     "output_type": "display_data"
    },
    {
     "data": {
      "text/html": [
       " View sweep at <a href='https://wandb.ai/viswa_ee/CS6910/sweeps/5hrjihf5' target=\"_blank\">https://wandb.ai/viswa_ee/CS6910/sweeps/5hrjihf5</a>"
      ],
      "text/plain": [
       "<IPython.core.display.HTML object>"
      ]
     },
     "metadata": {},
     "output_type": "display_data"
    },
    {
     "data": {
      "text/html": [
       " View run at <a href='https://wandb.ai/viswa_ee/CS6910/runs/9ryz4an1' target=\"_blank\">https://wandb.ai/viswa_ee/CS6910/runs/9ryz4an1</a>"
      ],
      "text/plain": [
       "<IPython.core.display.HTML object>"
      ]
     },
     "metadata": {},
     "output_type": "display_data"
    },
    {
     "data": {
      "text/html": [
       "Waiting for W&B process to finish... <strong style=\"color:green\">(success).</strong>"
      ],
      "text/plain": [
       "<IPython.core.display.HTML object>"
      ]
     },
     "metadata": {},
     "output_type": "display_data"
    },
    {
     "data": {
      "text/html": [
       "<style>\n",
       "    table.wandb td:nth-child(1) { padding: 0 10px; text-align: left ; width: auto;} td:nth-child(2) {text-align: left ; width: 100%}\n",
       "    .wandb-row { display: flex; flex-direction: row; flex-wrap: wrap; justify-content: flex-start; width: 100% }\n",
       "    .wandb-col { display: flex; flex-direction: column; flex-basis: 100%; flex: 1; padding: 10px; }\n",
       "    </style>\n",
       "<div class=\"wandb-row\"><div class=\"wandb-col\"><h3>Run history:</h3><br/><table class=\"wandb\"><tr><td>train_acc</td><td>▁▅▇██</td></tr><tr><td>train_loss</td><td>█▄▆▂▁</td></tr><tr><td>val_acc</td><td>▁▆▇██</td></tr><tr><td>val_loss</td><td>█▅▃▂▁</td></tr></table><br/></div><div class=\"wandb-col\"><h3>Run summary:</h3><br/><table class=\"wandb\"><tr><td>train_acc</td><td>0.84631</td></tr><tr><td>train_loss</td><td>-1622.41352</td></tr><tr><td>val_acc</td><td>0.83917</td></tr><tr><td>val_loss</td><td>-1584.03367</td></tr></table><br/></div></div>"
      ],
      "text/plain": [
       "<IPython.core.display.HTML object>"
      ]
     },
     "metadata": {},
     "output_type": "display_data"
    },
    {
     "data": {
      "text/html": [
       " View run <strong style=\"color:#cdcd00\">jumping-sweep-50</strong> at: <a href='https://wandb.ai/viswa_ee/CS6910/runs/9ryz4an1' target=\"_blank\">https://wandb.ai/viswa_ee/CS6910/runs/9ryz4an1</a><br/>Synced 4 W&B file(s), 1 media file(s), 0 artifact file(s) and 0 other file(s)"
      ],
      "text/plain": [
       "<IPython.core.display.HTML object>"
      ]
     },
     "metadata": {},
     "output_type": "display_data"
    },
    {
     "data": {
      "text/html": [
       "Find logs at: <code>.\\wandb\\run-20230318_000741-9ryz4an1\\logs</code>"
      ],
      "text/plain": [
       "<IPython.core.display.HTML object>"
      ]
     },
     "metadata": {},
     "output_type": "display_data"
    },
    {
     "name": "stderr",
     "output_type": "stream",
     "text": [
      "\u001b[34m\u001b[1mwandb\u001b[0m: Agent Starting Run: w22u73vo with config:\n",
      "\u001b[34m\u001b[1mwandb\u001b[0m: \tact_func: identity\n",
      "\u001b[34m\u001b[1mwandb\u001b[0m: \tbatch_size: 16\n",
      "\u001b[34m\u001b[1mwandb\u001b[0m: \tl2_coeff: 0.5\n",
      "\u001b[34m\u001b[1mwandb\u001b[0m: \tloss_func: mse\n",
      "\u001b[34m\u001b[1mwandb\u001b[0m: \tlr: 0.0001\n",
      "\u001b[34m\u001b[1mwandb\u001b[0m: \tn_epochs: 10\n",
      "\u001b[34m\u001b[1mwandb\u001b[0m: \tn_hidden: 3\n",
      "\u001b[34m\u001b[1mwandb\u001b[0m: \tn_hidden_units: 64\n",
      "\u001b[34m\u001b[1mwandb\u001b[0m: \toptim_algo: adam\n",
      "\u001b[34m\u001b[1mwandb\u001b[0m: \trelu_param: 0\n",
      "\u001b[34m\u001b[1mwandb\u001b[0m: \tweights_init: xavier_uniform\n",
      "Failed to detect the name of this notebook, you can set it manually with the WANDB_NOTEBOOK_NAME environment variable to enable code saving.\n"
     ]
    },
    {
     "data": {
      "text/html": [
       "Tracking run with wandb version 0.14.0"
      ],
      "text/plain": [
       "<IPython.core.display.HTML object>"
      ]
     },
     "metadata": {},
     "output_type": "display_data"
    },
    {
     "data": {
      "text/html": [
       "Run data is saved locally in <code>d:\\CS6901\\wandb\\run-20230318_000815-w22u73vo</code>"
      ],
      "text/plain": [
       "<IPython.core.display.HTML object>"
      ]
     },
     "metadata": {},
     "output_type": "display_data"
    },
    {
     "data": {
      "text/html": [
       "Syncing run <strong><a href='https://wandb.ai/viswa_ee/CS6910/runs/w22u73vo' target=\"_blank\">honest-sweep-51</a></strong> to <a href='https://wandb.ai/viswa_ee/CS6910' target=\"_blank\">Weights & Biases</a> (<a href='https://wandb.me/run' target=\"_blank\">docs</a>)<br/>Sweep page: <a href='https://wandb.ai/viswa_ee/CS6910/sweeps/5hrjihf5' target=\"_blank\">https://wandb.ai/viswa_ee/CS6910/sweeps/5hrjihf5</a>"
      ],
      "text/plain": [
       "<IPython.core.display.HTML object>"
      ]
     },
     "metadata": {},
     "output_type": "display_data"
    },
    {
     "data": {
      "text/html": [
       " View project at <a href='https://wandb.ai/viswa_ee/CS6910' target=\"_blank\">https://wandb.ai/viswa_ee/CS6910</a>"
      ],
      "text/plain": [
       "<IPython.core.display.HTML object>"
      ]
     },
     "metadata": {},
     "output_type": "display_data"
    },
    {
     "data": {
      "text/html": [
       " View sweep at <a href='https://wandb.ai/viswa_ee/CS6910/sweeps/5hrjihf5' target=\"_blank\">https://wandb.ai/viswa_ee/CS6910/sweeps/5hrjihf5</a>"
      ],
      "text/plain": [
       "<IPython.core.display.HTML object>"
      ]
     },
     "metadata": {},
     "output_type": "display_data"
    },
    {
     "data": {
      "text/html": [
       " View run at <a href='https://wandb.ai/viswa_ee/CS6910/runs/w22u73vo' target=\"_blank\">https://wandb.ai/viswa_ee/CS6910/runs/w22u73vo</a>"
      ],
      "text/plain": [
       "<IPython.core.display.HTML object>"
      ]
     },
     "metadata": {},
     "output_type": "display_data"
    },
    {
     "data": {
      "text/html": [
       "Waiting for W&B process to finish... <strong style=\"color:green\">(success).</strong>"
      ],
      "text/plain": [
       "<IPython.core.display.HTML object>"
      ]
     },
     "metadata": {},
     "output_type": "display_data"
    },
    {
     "data": {
      "text/html": [
       "<style>\n",
       "    table.wandb td:nth-child(1) { padding: 0 10px; text-align: left ; width: auto;} td:nth-child(2) {text-align: left ; width: 100%}\n",
       "    .wandb-row { display: flex; flex-direction: row; flex-wrap: wrap; justify-content: flex-start; width: 100% }\n",
       "    .wandb-col { display: flex; flex-direction: column; flex-basis: 100%; flex: 1; padding: 10px; }\n",
       "    </style>\n",
       "<div class=\"wandb-row\"><div class=\"wandb-col\"><h3>Run history:</h3><br/><table class=\"wandb\"><tr><td>train_acc</td><td>▄▁▇▇▆▇▇██▇</td></tr><tr><td>train_loss</td><td>▇▇▆▇█▄▅▁▄▅</td></tr><tr><td>val_acc</td><td>▅▁█▆▆▇█▇█▇</td></tr><tr><td>val_loss</td><td>█▇▆▅▄▄▃▁▁▁</td></tr></table><br/></div><div class=\"wandb-col\"><h3>Run summary:</h3><br/><table class=\"wandb\"><tr><td>train_acc</td><td>0.83754</td></tr><tr><td>train_loss</td><td>-790.0185</td></tr><tr><td>val_acc</td><td>0.83367</td></tr><tr><td>val_loss</td><td>-829.09849</td></tr></table><br/></div></div>"
      ],
      "text/plain": [
       "<IPython.core.display.HTML object>"
      ]
     },
     "metadata": {},
     "output_type": "display_data"
    },
    {
     "data": {
      "text/html": [
       " View run <strong style=\"color:#cdcd00\">honest-sweep-51</strong> at: <a href='https://wandb.ai/viswa_ee/CS6910/runs/w22u73vo' target=\"_blank\">https://wandb.ai/viswa_ee/CS6910/runs/w22u73vo</a><br/>Synced 4 W&B file(s), 1 media file(s), 0 artifact file(s) and 0 other file(s)"
      ],
      "text/plain": [
       "<IPython.core.display.HTML object>"
      ]
     },
     "metadata": {},
     "output_type": "display_data"
    },
    {
     "data": {
      "text/html": [
       "Find logs at: <code>.\\wandb\\run-20230318_000815-w22u73vo\\logs</code>"
      ],
      "text/plain": [
       "<IPython.core.display.HTML object>"
      ]
     },
     "metadata": {},
     "output_type": "display_data"
    },
    {
     "name": "stderr",
     "output_type": "stream",
     "text": [
      "\u001b[34m\u001b[1mwandb\u001b[0m: Agent Starting Run: wfrrbfvu with config:\n",
      "\u001b[34m\u001b[1mwandb\u001b[0m: \tact_func: identity\n",
      "\u001b[34m\u001b[1mwandb\u001b[0m: \tbatch_size: 16\n",
      "\u001b[34m\u001b[1mwandb\u001b[0m: \tl2_coeff: 0.0005\n",
      "\u001b[34m\u001b[1mwandb\u001b[0m: \tloss_func: mse\n",
      "\u001b[34m\u001b[1mwandb\u001b[0m: \tlr: 0.0001\n",
      "\u001b[34m\u001b[1mwandb\u001b[0m: \tn_epochs: 10\n",
      "\u001b[34m\u001b[1mwandb\u001b[0m: \tn_hidden: 5\n",
      "\u001b[34m\u001b[1mwandb\u001b[0m: \tn_hidden_units: 32\n",
      "\u001b[34m\u001b[1mwandb\u001b[0m: \toptim_algo: adam\n",
      "\u001b[34m\u001b[1mwandb\u001b[0m: \trelu_param: 0.01\n",
      "\u001b[34m\u001b[1mwandb\u001b[0m: \tweights_init: xavier_uniform\n",
      "Failed to detect the name of this notebook, you can set it manually with the WANDB_NOTEBOOK_NAME environment variable to enable code saving.\n"
     ]
    },
    {
     "data": {
      "text/html": [
       "Tracking run with wandb version 0.14.0"
      ],
      "text/plain": [
       "<IPython.core.display.HTML object>"
      ]
     },
     "metadata": {},
     "output_type": "display_data"
    },
    {
     "data": {
      "text/html": [
       "Run data is saved locally in <code>d:\\CS6901\\wandb\\run-20230318_001013-wfrrbfvu</code>"
      ],
      "text/plain": [
       "<IPython.core.display.HTML object>"
      ]
     },
     "metadata": {},
     "output_type": "display_data"
    },
    {
     "data": {
      "text/html": [
       "Syncing run <strong><a href='https://wandb.ai/viswa_ee/CS6910/runs/wfrrbfvu' target=\"_blank\">vital-sweep-52</a></strong> to <a href='https://wandb.ai/viswa_ee/CS6910' target=\"_blank\">Weights & Biases</a> (<a href='https://wandb.me/run' target=\"_blank\">docs</a>)<br/>Sweep page: <a href='https://wandb.ai/viswa_ee/CS6910/sweeps/5hrjihf5' target=\"_blank\">https://wandb.ai/viswa_ee/CS6910/sweeps/5hrjihf5</a>"
      ],
      "text/plain": [
       "<IPython.core.display.HTML object>"
      ]
     },
     "metadata": {},
     "output_type": "display_data"
    },
    {
     "data": {
      "text/html": [
       " View project at <a href='https://wandb.ai/viswa_ee/CS6910' target=\"_blank\">https://wandb.ai/viswa_ee/CS6910</a>"
      ],
      "text/plain": [
       "<IPython.core.display.HTML object>"
      ]
     },
     "metadata": {},
     "output_type": "display_data"
    },
    {
     "data": {
      "text/html": [
       " View sweep at <a href='https://wandb.ai/viswa_ee/CS6910/sweeps/5hrjihf5' target=\"_blank\">https://wandb.ai/viswa_ee/CS6910/sweeps/5hrjihf5</a>"
      ],
      "text/plain": [
       "<IPython.core.display.HTML object>"
      ]
     },
     "metadata": {},
     "output_type": "display_data"
    },
    {
     "data": {
      "text/html": [
       " View run at <a href='https://wandb.ai/viswa_ee/CS6910/runs/wfrrbfvu' target=\"_blank\">https://wandb.ai/viswa_ee/CS6910/runs/wfrrbfvu</a>"
      ],
      "text/plain": [
       "<IPython.core.display.HTML object>"
      ]
     },
     "metadata": {},
     "output_type": "display_data"
    },
    {
     "data": {
      "text/html": [
       "Waiting for W&B process to finish... <strong style=\"color:green\">(success).</strong>"
      ],
      "text/plain": [
       "<IPython.core.display.HTML object>"
      ]
     },
     "metadata": {},
     "output_type": "display_data"
    },
    {
     "data": {
      "text/html": [
       "<style>\n",
       "    table.wandb td:nth-child(1) { padding: 0 10px; text-align: left ; width: auto;} td:nth-child(2) {text-align: left ; width: 100%}\n",
       "    .wandb-row { display: flex; flex-direction: row; flex-wrap: wrap; justify-content: flex-start; width: 100% }\n",
       "    .wandb-col { display: flex; flex-direction: column; flex-basis: 100%; flex: 1; padding: 10px; }\n",
       "    </style>\n",
       "<div class=\"wandb-row\"><div class=\"wandb-col\"><h3>Run history:</h3><br/><table class=\"wandb\"><tr><td>train_acc</td><td>▁▄▆▆▅▇▇███</td></tr><tr><td>train_loss</td><td>██▅▁▅▃▄▅▆▄</td></tr><tr><td>val_acc</td><td>▁▄▆▆▅▇▇███</td></tr><tr><td>val_loss</td><td>█▆▅▄▃▂▂▂▁▁</td></tr></table><br/></div><div class=\"wandb-col\"><h3>Run summary:</h3><br/><table class=\"wandb\"><tr><td>train_acc</td><td>0.8575</td></tr><tr><td>train_loss</td><td>-1788.66841</td></tr><tr><td>val_acc</td><td>0.85033</td></tr><tr><td>val_loss</td><td>-2133.17646</td></tr></table><br/></div></div>"
      ],
      "text/plain": [
       "<IPython.core.display.HTML object>"
      ]
     },
     "metadata": {},
     "output_type": "display_data"
    },
    {
     "data": {
      "text/html": [
       " View run <strong style=\"color:#cdcd00\">vital-sweep-52</strong> at: <a href='https://wandb.ai/viswa_ee/CS6910/runs/wfrrbfvu' target=\"_blank\">https://wandb.ai/viswa_ee/CS6910/runs/wfrrbfvu</a><br/>Synced 4 W&B file(s), 1 media file(s), 0 artifact file(s) and 0 other file(s)"
      ],
      "text/plain": [
       "<IPython.core.display.HTML object>"
      ]
     },
     "metadata": {},
     "output_type": "display_data"
    },
    {
     "data": {
      "text/html": [
       "Find logs at: <code>.\\wandb\\run-20230318_001013-wfrrbfvu\\logs</code>"
      ],
      "text/plain": [
       "<IPython.core.display.HTML object>"
      ]
     },
     "metadata": {},
     "output_type": "display_data"
    },
    {
     "name": "stderr",
     "output_type": "stream",
     "text": [
      "\u001b[34m\u001b[1mwandb\u001b[0m: Agent Starting Run: y20rq1j5 with config:\n",
      "\u001b[34m\u001b[1mwandb\u001b[0m: \tact_func: identity\n",
      "\u001b[34m\u001b[1mwandb\u001b[0m: \tbatch_size: 64\n",
      "\u001b[34m\u001b[1mwandb\u001b[0m: \tl2_coeff: 0.0005\n",
      "\u001b[34m\u001b[1mwandb\u001b[0m: \tloss_func: mse\n",
      "\u001b[34m\u001b[1mwandb\u001b[0m: \tlr: 0.0001\n",
      "\u001b[34m\u001b[1mwandb\u001b[0m: \tn_epochs: 5\n",
      "\u001b[34m\u001b[1mwandb\u001b[0m: \tn_hidden: 5\n",
      "\u001b[34m\u001b[1mwandb\u001b[0m: \tn_hidden_units: 64\n",
      "\u001b[34m\u001b[1mwandb\u001b[0m: \toptim_algo: rmsprop\n",
      "\u001b[34m\u001b[1mwandb\u001b[0m: \trelu_param: 0.1\n",
      "\u001b[34m\u001b[1mwandb\u001b[0m: \tweights_init: xavier_uniform\n",
      "Failed to detect the name of this notebook, you can set it manually with the WANDB_NOTEBOOK_NAME environment variable to enable code saving.\n"
     ]
    },
    {
     "data": {
      "text/html": [
       "Tracking run with wandb version 0.14.0"
      ],
      "text/plain": [
       "<IPython.core.display.HTML object>"
      ]
     },
     "metadata": {},
     "output_type": "display_data"
    },
    {
     "data": {
      "text/html": [
       "Run data is saved locally in <code>d:\\CS6901\\wandb\\run-20230318_001145-y20rq1j5</code>"
      ],
      "text/plain": [
       "<IPython.core.display.HTML object>"
      ]
     },
     "metadata": {},
     "output_type": "display_data"
    },
    {
     "data": {
      "text/html": [
       "Syncing run <strong><a href='https://wandb.ai/viswa_ee/CS6910/runs/y20rq1j5' target=\"_blank\">fluent-sweep-53</a></strong> to <a href='https://wandb.ai/viswa_ee/CS6910' target=\"_blank\">Weights & Biases</a> (<a href='https://wandb.me/run' target=\"_blank\">docs</a>)<br/>Sweep page: <a href='https://wandb.ai/viswa_ee/CS6910/sweeps/5hrjihf5' target=\"_blank\">https://wandb.ai/viswa_ee/CS6910/sweeps/5hrjihf5</a>"
      ],
      "text/plain": [
       "<IPython.core.display.HTML object>"
      ]
     },
     "metadata": {},
     "output_type": "display_data"
    },
    {
     "data": {
      "text/html": [
       " View project at <a href='https://wandb.ai/viswa_ee/CS6910' target=\"_blank\">https://wandb.ai/viswa_ee/CS6910</a>"
      ],
      "text/plain": [
       "<IPython.core.display.HTML object>"
      ]
     },
     "metadata": {},
     "output_type": "display_data"
    },
    {
     "data": {
      "text/html": [
       " View sweep at <a href='https://wandb.ai/viswa_ee/CS6910/sweeps/5hrjihf5' target=\"_blank\">https://wandb.ai/viswa_ee/CS6910/sweeps/5hrjihf5</a>"
      ],
      "text/plain": [
       "<IPython.core.display.HTML object>"
      ]
     },
     "metadata": {},
     "output_type": "display_data"
    },
    {
     "data": {
      "text/html": [
       " View run at <a href='https://wandb.ai/viswa_ee/CS6910/runs/y20rq1j5' target=\"_blank\">https://wandb.ai/viswa_ee/CS6910/runs/y20rq1j5</a>"
      ],
      "text/plain": [
       "<IPython.core.display.HTML object>"
      ]
     },
     "metadata": {},
     "output_type": "display_data"
    },
    {
     "data": {
      "text/html": [
       "Waiting for W&B process to finish... <strong style=\"color:green\">(success).</strong>"
      ],
      "text/plain": [
       "<IPython.core.display.HTML object>"
      ]
     },
     "metadata": {},
     "output_type": "display_data"
    },
    {
     "data": {
      "text/html": [
       "<style>\n",
       "    table.wandb td:nth-child(1) { padding: 0 10px; text-align: left ; width: auto;} td:nth-child(2) {text-align: left ; width: 100%}\n",
       "    .wandb-row { display: flex; flex-direction: row; flex-wrap: wrap; justify-content: flex-start; width: 100% }\n",
       "    .wandb-col { display: flex; flex-direction: column; flex-basis: 100%; flex: 1; padding: 10px; }\n",
       "    </style>\n",
       "<div class=\"wandb-row\"><div class=\"wandb-col\"><h3>Run history:</h3><br/><table class=\"wandb\"><tr><td>train_acc</td><td>▁▃▆██</td></tr><tr><td>train_loss</td><td>█▇▅▂▁</td></tr><tr><td>val_acc</td><td>▁▅▆█▇</td></tr><tr><td>val_loss</td><td>█▅▄▂▁</td></tr></table><br/></div><div class=\"wandb-col\"><h3>Run summary:</h3><br/><table class=\"wandb\"><tr><td>train_acc</td><td>0.85615</td></tr><tr><td>train_loss</td><td>-1875.52397</td></tr><tr><td>val_acc</td><td>0.8475</td></tr><tr><td>val_loss</td><td>-1791.54609</td></tr></table><br/></div></div>"
      ],
      "text/plain": [
       "<IPython.core.display.HTML object>"
      ]
     },
     "metadata": {},
     "output_type": "display_data"
    },
    {
     "data": {
      "text/html": [
       " View run <strong style=\"color:#cdcd00\">fluent-sweep-53</strong> at: <a href='https://wandb.ai/viswa_ee/CS6910/runs/y20rq1j5' target=\"_blank\">https://wandb.ai/viswa_ee/CS6910/runs/y20rq1j5</a><br/>Synced 4 W&B file(s), 1 media file(s), 0 artifact file(s) and 0 other file(s)"
      ],
      "text/plain": [
       "<IPython.core.display.HTML object>"
      ]
     },
     "metadata": {},
     "output_type": "display_data"
    },
    {
     "data": {
      "text/html": [
       "Find logs at: <code>.\\wandb\\run-20230318_001145-y20rq1j5\\logs</code>"
      ],
      "text/plain": [
       "<IPython.core.display.HTML object>"
      ]
     },
     "metadata": {},
     "output_type": "display_data"
    },
    {
     "name": "stderr",
     "output_type": "stream",
     "text": [
      "\u001b[34m\u001b[1mwandb\u001b[0m: Sweep Agent: Waiting for job.\n",
      "\u001b[34m\u001b[1mwandb\u001b[0m: Job received.\n",
      "\u001b[34m\u001b[1mwandb\u001b[0m: Agent Starting Run: 0j931xd5 with config:\n",
      "\u001b[34m\u001b[1mwandb\u001b[0m: \tact_func: identity\n",
      "\u001b[34m\u001b[1mwandb\u001b[0m: \tbatch_size: 16\n",
      "\u001b[34m\u001b[1mwandb\u001b[0m: \tl2_coeff: 0\n",
      "\u001b[34m\u001b[1mwandb\u001b[0m: \tloss_func: mse\n",
      "\u001b[34m\u001b[1mwandb\u001b[0m: \tlr: 0.0001\n",
      "\u001b[34m\u001b[1mwandb\u001b[0m: \tn_epochs: 5\n",
      "\u001b[34m\u001b[1mwandb\u001b[0m: \tn_hidden: 4\n",
      "\u001b[34m\u001b[1mwandb\u001b[0m: \tn_hidden_units: 64\n",
      "\u001b[34m\u001b[1mwandb\u001b[0m: \toptim_algo: rmsprop\n",
      "\u001b[34m\u001b[1mwandb\u001b[0m: \trelu_param: 0.01\n",
      "\u001b[34m\u001b[1mwandb\u001b[0m: \tweights_init: xavier_uniform\n",
      "Failed to detect the name of this notebook, you can set it manually with the WANDB_NOTEBOOK_NAME environment variable to enable code saving.\n"
     ]
    },
    {
     "data": {
      "text/html": [
       "Tracking run with wandb version 0.14.0"
      ],
      "text/plain": [
       "<IPython.core.display.HTML object>"
      ]
     },
     "metadata": {},
     "output_type": "display_data"
    },
    {
     "data": {
      "text/html": [
       "Run data is saved locally in <code>d:\\CS6901\\wandb\\run-20230318_001224-0j931xd5</code>"
      ],
      "text/plain": [
       "<IPython.core.display.HTML object>"
      ]
     },
     "metadata": {},
     "output_type": "display_data"
    },
    {
     "data": {
      "text/html": [
       "Syncing run <strong><a href='https://wandb.ai/viswa_ee/CS6910/runs/0j931xd5' target=\"_blank\">unique-sweep-54</a></strong> to <a href='https://wandb.ai/viswa_ee/CS6910' target=\"_blank\">Weights & Biases</a> (<a href='https://wandb.me/run' target=\"_blank\">docs</a>)<br/>Sweep page: <a href='https://wandb.ai/viswa_ee/CS6910/sweeps/5hrjihf5' target=\"_blank\">https://wandb.ai/viswa_ee/CS6910/sweeps/5hrjihf5</a>"
      ],
      "text/plain": [
       "<IPython.core.display.HTML object>"
      ]
     },
     "metadata": {},
     "output_type": "display_data"
    },
    {
     "data": {
      "text/html": [
       " View project at <a href='https://wandb.ai/viswa_ee/CS6910' target=\"_blank\">https://wandb.ai/viswa_ee/CS6910</a>"
      ],
      "text/plain": [
       "<IPython.core.display.HTML object>"
      ]
     },
     "metadata": {},
     "output_type": "display_data"
    },
    {
     "data": {
      "text/html": [
       " View sweep at <a href='https://wandb.ai/viswa_ee/CS6910/sweeps/5hrjihf5' target=\"_blank\">https://wandb.ai/viswa_ee/CS6910/sweeps/5hrjihf5</a>"
      ],
      "text/plain": [
       "<IPython.core.display.HTML object>"
      ]
     },
     "metadata": {},
     "output_type": "display_data"
    },
    {
     "data": {
      "text/html": [
       " View run at <a href='https://wandb.ai/viswa_ee/CS6910/runs/0j931xd5' target=\"_blank\">https://wandb.ai/viswa_ee/CS6910/runs/0j931xd5</a>"
      ],
      "text/plain": [
       "<IPython.core.display.HTML object>"
      ]
     },
     "metadata": {},
     "output_type": "display_data"
    },
    {
     "data": {
      "text/html": [
       "Waiting for W&B process to finish... <strong style=\"color:green\">(success).</strong>"
      ],
      "text/plain": [
       "<IPython.core.display.HTML object>"
      ]
     },
     "metadata": {},
     "output_type": "display_data"
    },
    {
     "data": {
      "text/html": [
       "<style>\n",
       "    table.wandb td:nth-child(1) { padding: 0 10px; text-align: left ; width: auto;} td:nth-child(2) {text-align: left ; width: 100%}\n",
       "    .wandb-row { display: flex; flex-direction: row; flex-wrap: wrap; justify-content: flex-start; width: 100% }\n",
       "    .wandb-col { display: flex; flex-direction: column; flex-basis: 100%; flex: 1; padding: 10px; }\n",
       "    </style>\n",
       "<div class=\"wandb-row\"><div class=\"wandb-col\"><h3>Run history:</h3><br/><table class=\"wandb\"><tr><td>train_acc</td><td>▁▆▆▆█</td></tr><tr><td>train_loss</td><td>██▁▅▁</td></tr><tr><td>val_acc</td><td>▁▇▆▅█</td></tr><tr><td>val_loss</td><td>█▅▄▃▁</td></tr></table><br/></div><div class=\"wandb-col\"><h3>Run summary:</h3><br/><table class=\"wandb\"><tr><td>train_acc</td><td>0.85748</td></tr><tr><td>train_loss</td><td>-1969.76568</td></tr><tr><td>val_acc</td><td>0.85083</td></tr><tr><td>val_loss</td><td>-1778.06676</td></tr></table><br/></div></div>"
      ],
      "text/plain": [
       "<IPython.core.display.HTML object>"
      ]
     },
     "metadata": {},
     "output_type": "display_data"
    },
    {
     "data": {
      "text/html": [
       " View run <strong style=\"color:#cdcd00\">unique-sweep-54</strong> at: <a href='https://wandb.ai/viswa_ee/CS6910/runs/0j931xd5' target=\"_blank\">https://wandb.ai/viswa_ee/CS6910/runs/0j931xd5</a><br/>Synced 4 W&B file(s), 1 media file(s), 0 artifact file(s) and 0 other file(s)"
      ],
      "text/plain": [
       "<IPython.core.display.HTML object>"
      ]
     },
     "metadata": {},
     "output_type": "display_data"
    },
    {
     "data": {
      "text/html": [
       "Find logs at: <code>.\\wandb\\run-20230318_001224-0j931xd5\\logs</code>"
      ],
      "text/plain": [
       "<IPython.core.display.HTML object>"
      ]
     },
     "metadata": {},
     "output_type": "display_data"
    },
    {
     "name": "stderr",
     "output_type": "stream",
     "text": [
      "\u001b[34m\u001b[1mwandb\u001b[0m: Agent Starting Run: e0fg6qye with config:\n",
      "\u001b[34m\u001b[1mwandb\u001b[0m: \tact_func: identity\n",
      "\u001b[34m\u001b[1mwandb\u001b[0m: \tbatch_size: 32\n",
      "\u001b[34m\u001b[1mwandb\u001b[0m: \tl2_coeff: 0.0005\n",
      "\u001b[34m\u001b[1mwandb\u001b[0m: \tloss_func: mse\n",
      "\u001b[34m\u001b[1mwandb\u001b[0m: \tlr: 0.0001\n",
      "\u001b[34m\u001b[1mwandb\u001b[0m: \tn_epochs: 10\n",
      "\u001b[34m\u001b[1mwandb\u001b[0m: \tn_hidden: 4\n",
      "\u001b[34m\u001b[1mwandb\u001b[0m: \tn_hidden_units: 64\n",
      "\u001b[34m\u001b[1mwandb\u001b[0m: \toptim_algo: adam\n",
      "\u001b[34m\u001b[1mwandb\u001b[0m: \trelu_param: 0.01\n",
      "\u001b[34m\u001b[1mwandb\u001b[0m: \tweights_init: xavier_uniform\n",
      "Failed to detect the name of this notebook, you can set it manually with the WANDB_NOTEBOOK_NAME environment variable to enable code saving.\n"
     ]
    },
    {
     "data": {
      "text/html": [
       "Tracking run with wandb version 0.14.0"
      ],
      "text/plain": [
       "<IPython.core.display.HTML object>"
      ]
     },
     "metadata": {},
     "output_type": "display_data"
    },
    {
     "data": {
      "text/html": [
       "Run data is saved locally in <code>d:\\CS6901\\wandb\\run-20230318_001328-e0fg6qye</code>"
      ],
      "text/plain": [
       "<IPython.core.display.HTML object>"
      ]
     },
     "metadata": {},
     "output_type": "display_data"
    },
    {
     "data": {
      "text/html": [
       "Syncing run <strong><a href='https://wandb.ai/viswa_ee/CS6910/runs/e0fg6qye' target=\"_blank\">blooming-sweep-55</a></strong> to <a href='https://wandb.ai/viswa_ee/CS6910' target=\"_blank\">Weights & Biases</a> (<a href='https://wandb.me/run' target=\"_blank\">docs</a>)<br/>Sweep page: <a href='https://wandb.ai/viswa_ee/CS6910/sweeps/5hrjihf5' target=\"_blank\">https://wandb.ai/viswa_ee/CS6910/sweeps/5hrjihf5</a>"
      ],
      "text/plain": [
       "<IPython.core.display.HTML object>"
      ]
     },
     "metadata": {},
     "output_type": "display_data"
    },
    {
     "data": {
      "text/html": [
       " View project at <a href='https://wandb.ai/viswa_ee/CS6910' target=\"_blank\">https://wandb.ai/viswa_ee/CS6910</a>"
      ],
      "text/plain": [
       "<IPython.core.display.HTML object>"
      ]
     },
     "metadata": {},
     "output_type": "display_data"
    },
    {
     "data": {
      "text/html": [
       " View sweep at <a href='https://wandb.ai/viswa_ee/CS6910/sweeps/5hrjihf5' target=\"_blank\">https://wandb.ai/viswa_ee/CS6910/sweeps/5hrjihf5</a>"
      ],
      "text/plain": [
       "<IPython.core.display.HTML object>"
      ]
     },
     "metadata": {},
     "output_type": "display_data"
    },
    {
     "data": {
      "text/html": [
       " View run at <a href='https://wandb.ai/viswa_ee/CS6910/runs/e0fg6qye' target=\"_blank\">https://wandb.ai/viswa_ee/CS6910/runs/e0fg6qye</a>"
      ],
      "text/plain": [
       "<IPython.core.display.HTML object>"
      ]
     },
     "metadata": {},
     "output_type": "display_data"
    },
    {
     "data": {
      "text/html": [
       "Waiting for W&B process to finish... <strong style=\"color:green\">(success).</strong>"
      ],
      "text/plain": [
       "<IPython.core.display.HTML object>"
      ]
     },
     "metadata": {},
     "output_type": "display_data"
    },
    {
     "data": {
      "text/html": [
       "<style>\n",
       "    table.wandb td:nth-child(1) { padding: 0 10px; text-align: left ; width: auto;} td:nth-child(2) {text-align: left ; width: 100%}\n",
       "    .wandb-row { display: flex; flex-direction: row; flex-wrap: wrap; justify-content: flex-start; width: 100% }\n",
       "    .wandb-col { display: flex; flex-direction: column; flex-basis: 100%; flex: 1; padding: 10px; }\n",
       "    </style>\n",
       "<div class=\"wandb-row\"><div class=\"wandb-col\"><h3>Run history:</h3><br/><table class=\"wandb\"><tr><td>train_acc</td><td>▁▄▅▄▇▇▆███</td></tr><tr><td>train_loss</td><td>█▇▅▅▆▆▂▂▁▄</td></tr><tr><td>val_acc</td><td>▁▅▅▄▇▇▆█▇█</td></tr><tr><td>val_loss</td><td>█▆▅▄▃▂▂▂▁▁</td></tr></table><br/></div><div class=\"wandb-col\"><h3>Run summary:</h3><br/><table class=\"wandb\"><tr><td>train_acc</td><td>0.8635</td></tr><tr><td>train_loss</td><td>-1845.39856</td></tr><tr><td>val_acc</td><td>0.85667</td></tr><tr><td>val_loss</td><td>-2183.82441</td></tr></table><br/></div></div>"
      ],
      "text/plain": [
       "<IPython.core.display.HTML object>"
      ]
     },
     "metadata": {},
     "output_type": "display_data"
    },
    {
     "data": {
      "text/html": [
       " View run <strong style=\"color:#cdcd00\">blooming-sweep-55</strong> at: <a href='https://wandb.ai/viswa_ee/CS6910/runs/e0fg6qye' target=\"_blank\">https://wandb.ai/viswa_ee/CS6910/runs/e0fg6qye</a><br/>Synced 4 W&B file(s), 1 media file(s), 0 artifact file(s) and 0 other file(s)"
      ],
      "text/plain": [
       "<IPython.core.display.HTML object>"
      ]
     },
     "metadata": {},
     "output_type": "display_data"
    },
    {
     "data": {
      "text/html": [
       "Find logs at: <code>.\\wandb\\run-20230318_001328-e0fg6qye\\logs</code>"
      ],
      "text/plain": [
       "<IPython.core.display.HTML object>"
      ]
     },
     "metadata": {},
     "output_type": "display_data"
    },
    {
     "name": "stderr",
     "output_type": "stream",
     "text": [
      "\u001b[34m\u001b[1mwandb\u001b[0m: Agent Starting Run: xu1qrq30 with config:\n",
      "\u001b[34m\u001b[1mwandb\u001b[0m: \tact_func: identity\n",
      "\u001b[34m\u001b[1mwandb\u001b[0m: \tbatch_size: 32\n",
      "\u001b[34m\u001b[1mwandb\u001b[0m: \tl2_coeff: 0.5\n",
      "\u001b[34m\u001b[1mwandb\u001b[0m: \tloss_func: cross_ent\n",
      "\u001b[34m\u001b[1mwandb\u001b[0m: \tlr: 0.001\n",
      "\u001b[34m\u001b[1mwandb\u001b[0m: \tn_epochs: 10\n",
      "\u001b[34m\u001b[1mwandb\u001b[0m: \tn_hidden: 4\n",
      "\u001b[34m\u001b[1mwandb\u001b[0m: \tn_hidden_units: 128\n",
      "\u001b[34m\u001b[1mwandb\u001b[0m: \toptim_algo: sgd\n",
      "\u001b[34m\u001b[1mwandb\u001b[0m: \trelu_param: 0\n",
      "\u001b[34m\u001b[1mwandb\u001b[0m: \tweights_init: xavier_uniform\n",
      "Failed to detect the name of this notebook, you can set it manually with the WANDB_NOTEBOOK_NAME environment variable to enable code saving.\n"
     ]
    },
    {
     "data": {
      "text/html": [
       "Tracking run with wandb version 0.14.0"
      ],
      "text/plain": [
       "<IPython.core.display.HTML object>"
      ]
     },
     "metadata": {},
     "output_type": "display_data"
    },
    {
     "data": {
      "text/html": [
       "Run data is saved locally in <code>d:\\CS6901\\wandb\\run-20230318_001445-xu1qrq30</code>"
      ],
      "text/plain": [
       "<IPython.core.display.HTML object>"
      ]
     },
     "metadata": {},
     "output_type": "display_data"
    },
    {
     "data": {
      "text/html": [
       "Syncing run <strong><a href='https://wandb.ai/viswa_ee/CS6910/runs/xu1qrq30' target=\"_blank\">celestial-sweep-56</a></strong> to <a href='https://wandb.ai/viswa_ee/CS6910' target=\"_blank\">Weights & Biases</a> (<a href='https://wandb.me/run' target=\"_blank\">docs</a>)<br/>Sweep page: <a href='https://wandb.ai/viswa_ee/CS6910/sweeps/5hrjihf5' target=\"_blank\">https://wandb.ai/viswa_ee/CS6910/sweeps/5hrjihf5</a>"
      ],
      "text/plain": [
       "<IPython.core.display.HTML object>"
      ]
     },
     "metadata": {},
     "output_type": "display_data"
    },
    {
     "data": {
      "text/html": [
       " View project at <a href='https://wandb.ai/viswa_ee/CS6910' target=\"_blank\">https://wandb.ai/viswa_ee/CS6910</a>"
      ],
      "text/plain": [
       "<IPython.core.display.HTML object>"
      ]
     },
     "metadata": {},
     "output_type": "display_data"
    },
    {
     "data": {
      "text/html": [
       " View sweep at <a href='https://wandb.ai/viswa_ee/CS6910/sweeps/5hrjihf5' target=\"_blank\">https://wandb.ai/viswa_ee/CS6910/sweeps/5hrjihf5</a>"
      ],
      "text/plain": [
       "<IPython.core.display.HTML object>"
      ]
     },
     "metadata": {},
     "output_type": "display_data"
    },
    {
     "data": {
      "text/html": [
       " View run at <a href='https://wandb.ai/viswa_ee/CS6910/runs/xu1qrq30' target=\"_blank\">https://wandb.ai/viswa_ee/CS6910/runs/xu1qrq30</a>"
      ],
      "text/plain": [
       "<IPython.core.display.HTML object>"
      ]
     },
     "metadata": {},
     "output_type": "display_data"
    },
    {
     "data": {
      "text/html": [
       "Waiting for W&B process to finish... <strong style=\"color:green\">(success).</strong>"
      ],
      "text/plain": [
       "<IPython.core.display.HTML object>"
      ]
     },
     "metadata": {},
     "output_type": "display_data"
    },
    {
     "data": {
      "text/html": [
       "<style>\n",
       "    table.wandb td:nth-child(1) { padding: 0 10px; text-align: left ; width: auto;} td:nth-child(2) {text-align: left ; width: 100%}\n",
       "    .wandb-row { display: flex; flex-direction: row; flex-wrap: wrap; justify-content: flex-start; width: 100% }\n",
       "    .wandb-col { display: flex; flex-direction: column; flex-basis: 100%; flex: 1; padding: 10px; }\n",
       "    </style>\n",
       "<div class=\"wandb-row\"><div class=\"wandb-col\"><h3>Run history:</h3><br/><table class=\"wandb\"><tr><td>train_acc</td><td>▁▄▅▆▇▇▇███</td></tr><tr><td>train_loss</td><td>█▅▆▅▅▅▃▃▁▂</td></tr><tr><td>val_acc</td><td>▁▄▅▆▇▇▇▇██</td></tr><tr><td>val_loss</td><td>█▅▄▃▂▂▂▁▁▁</td></tr></table><br/></div><div class=\"wandb-col\"><h3>Run summary:</h3><br/><table class=\"wandb\"><tr><td>train_acc</td><td>0.79281</td></tr><tr><td>train_loss</td><td>9.31158</td></tr><tr><td>val_acc</td><td>0.788</td></tr><tr><td>val_loss</td><td>0.62149</td></tr></table><br/></div></div>"
      ],
      "text/plain": [
       "<IPython.core.display.HTML object>"
      ]
     },
     "metadata": {},
     "output_type": "display_data"
    },
    {
     "data": {
      "text/html": [
       " View run <strong style=\"color:#cdcd00\">celestial-sweep-56</strong> at: <a href='https://wandb.ai/viswa_ee/CS6910/runs/xu1qrq30' target=\"_blank\">https://wandb.ai/viswa_ee/CS6910/runs/xu1qrq30</a><br/>Synced 4 W&B file(s), 1 media file(s), 0 artifact file(s) and 0 other file(s)"
      ],
      "text/plain": [
       "<IPython.core.display.HTML object>"
      ]
     },
     "metadata": {},
     "output_type": "display_data"
    },
    {
     "data": {
      "text/html": [
       "Find logs at: <code>.\\wandb\\run-20230318_001445-xu1qrq30\\logs</code>"
      ],
      "text/plain": [
       "<IPython.core.display.HTML object>"
      ]
     },
     "metadata": {},
     "output_type": "display_data"
    },
    {
     "name": "stderr",
     "output_type": "stream",
     "text": [
      "\u001b[34m\u001b[1mwandb\u001b[0m: Agent Starting Run: ohslqv0p with config:\n",
      "\u001b[34m\u001b[1mwandb\u001b[0m: \tact_func: identity\n",
      "\u001b[34m\u001b[1mwandb\u001b[0m: \tbatch_size: 16\n",
      "\u001b[34m\u001b[1mwandb\u001b[0m: \tl2_coeff: 0.0005\n",
      "\u001b[34m\u001b[1mwandb\u001b[0m: \tloss_func: mse\n",
      "\u001b[34m\u001b[1mwandb\u001b[0m: \tlr: 0.0001\n",
      "\u001b[34m\u001b[1mwandb\u001b[0m: \tn_epochs: 5\n",
      "\u001b[34m\u001b[1mwandb\u001b[0m: \tn_hidden: 3\n",
      "\u001b[34m\u001b[1mwandb\u001b[0m: \tn_hidden_units: 32\n",
      "\u001b[34m\u001b[1mwandb\u001b[0m: \toptim_algo: sgd\n",
      "\u001b[34m\u001b[1mwandb\u001b[0m: \trelu_param: 0.1\n",
      "\u001b[34m\u001b[1mwandb\u001b[0m: \tweights_init: xavier_uniform\n",
      "Failed to detect the name of this notebook, you can set it manually with the WANDB_NOTEBOOK_NAME environment variable to enable code saving.\n"
     ]
    },
    {
     "data": {
      "text/html": [
       "Tracking run with wandb version 0.14.0"
      ],
      "text/plain": [
       "<IPython.core.display.HTML object>"
      ]
     },
     "metadata": {},
     "output_type": "display_data"
    },
    {
     "data": {
      "text/html": [
       "Run data is saved locally in <code>d:\\CS6901\\wandb\\run-20230318_001622-ohslqv0p</code>"
      ],
      "text/plain": [
       "<IPython.core.display.HTML object>"
      ]
     },
     "metadata": {},
     "output_type": "display_data"
    },
    {
     "data": {
      "text/html": [
       "Syncing run <strong><a href='https://wandb.ai/viswa_ee/CS6910/runs/ohslqv0p' target=\"_blank\">giddy-sweep-57</a></strong> to <a href='https://wandb.ai/viswa_ee/CS6910' target=\"_blank\">Weights & Biases</a> (<a href='https://wandb.me/run' target=\"_blank\">docs</a>)<br/>Sweep page: <a href='https://wandb.ai/viswa_ee/CS6910/sweeps/5hrjihf5' target=\"_blank\">https://wandb.ai/viswa_ee/CS6910/sweeps/5hrjihf5</a>"
      ],
      "text/plain": [
       "<IPython.core.display.HTML object>"
      ]
     },
     "metadata": {},
     "output_type": "display_data"
    },
    {
     "data": {
      "text/html": [
       " View project at <a href='https://wandb.ai/viswa_ee/CS6910' target=\"_blank\">https://wandb.ai/viswa_ee/CS6910</a>"
      ],
      "text/plain": [
       "<IPython.core.display.HTML object>"
      ]
     },
     "metadata": {},
     "output_type": "display_data"
    },
    {
     "data": {
      "text/html": [
       " View sweep at <a href='https://wandb.ai/viswa_ee/CS6910/sweeps/5hrjihf5' target=\"_blank\">https://wandb.ai/viswa_ee/CS6910/sweeps/5hrjihf5</a>"
      ],
      "text/plain": [
       "<IPython.core.display.HTML object>"
      ]
     },
     "metadata": {},
     "output_type": "display_data"
    },
    {
     "data": {
      "text/html": [
       " View run at <a href='https://wandb.ai/viswa_ee/CS6910/runs/ohslqv0p' target=\"_blank\">https://wandb.ai/viswa_ee/CS6910/runs/ohslqv0p</a>"
      ],
      "text/plain": [
       "<IPython.core.display.HTML object>"
      ]
     },
     "metadata": {},
     "output_type": "display_data"
    },
    {
     "data": {
      "text/html": [
       "Waiting for W&B process to finish... <strong style=\"color:green\">(success).</strong>"
      ],
      "text/plain": [
       "<IPython.core.display.HTML object>"
      ]
     },
     "metadata": {},
     "output_type": "display_data"
    },
    {
     "data": {
      "text/html": [
       "<style>\n",
       "    table.wandb td:nth-child(1) { padding: 0 10px; text-align: left ; width: auto;} td:nth-child(2) {text-align: left ; width: 100%}\n",
       "    .wandb-row { display: flex; flex-direction: row; flex-wrap: wrap; justify-content: flex-start; width: 100% }\n",
       "    .wandb-col { display: flex; flex-direction: column; flex-basis: 100%; flex: 1; padding: 10px; }\n",
       "    </style>\n",
       "<div class=\"wandb-row\"><div class=\"wandb-col\"><h3>Run history:</h3><br/><table class=\"wandb\"><tr><td>train_acc</td><td>▁▄▆▇█</td></tr><tr><td>train_loss</td><td>█▇▆▃▁</td></tr><tr><td>val_acc</td><td>▁▄▆▇█</td></tr><tr><td>val_loss</td><td>█▇▆▄▁</td></tr></table><br/></div><div class=\"wandb-col\"><h3>Run summary:</h3><br/><table class=\"wandb\"><tr><td>train_acc</td><td>0.59857</td></tr><tr><td>train_loss</td><td>-151.451</td></tr><tr><td>val_acc</td><td>0.591</td></tr><tr><td>val_loss</td><td>-144.45123</td></tr></table><br/></div></div>"
      ],
      "text/plain": [
       "<IPython.core.display.HTML object>"
      ]
     },
     "metadata": {},
     "output_type": "display_data"
    },
    {
     "data": {
      "text/html": [
       " View run <strong style=\"color:#cdcd00\">giddy-sweep-57</strong> at: <a href='https://wandb.ai/viswa_ee/CS6910/runs/ohslqv0p' target=\"_blank\">https://wandb.ai/viswa_ee/CS6910/runs/ohslqv0p</a><br/>Synced 4 W&B file(s), 1 media file(s), 0 artifact file(s) and 0 other file(s)"
      ],
      "text/plain": [
       "<IPython.core.display.HTML object>"
      ]
     },
     "metadata": {},
     "output_type": "display_data"
    },
    {
     "data": {
      "text/html": [
       "Find logs at: <code>.\\wandb\\run-20230318_001622-ohslqv0p\\logs</code>"
      ],
      "text/plain": [
       "<IPython.core.display.HTML object>"
      ]
     },
     "metadata": {},
     "output_type": "display_data"
    },
    {
     "name": "stderr",
     "output_type": "stream",
     "text": [
      "\u001b[34m\u001b[1mwandb\u001b[0m: Agent Starting Run: hocrhrtj with config:\n",
      "\u001b[34m\u001b[1mwandb\u001b[0m: \tact_func: identity\n",
      "\u001b[34m\u001b[1mwandb\u001b[0m: \tbatch_size: 64\n",
      "\u001b[34m\u001b[1mwandb\u001b[0m: \tl2_coeff: 0.0005\n",
      "\u001b[34m\u001b[1mwandb\u001b[0m: \tloss_func: cross_ent\n",
      "\u001b[34m\u001b[1mwandb\u001b[0m: \tlr: 0.0001\n",
      "\u001b[34m\u001b[1mwandb\u001b[0m: \tn_epochs: 5\n",
      "\u001b[34m\u001b[1mwandb\u001b[0m: \tn_hidden: 3\n",
      "\u001b[34m\u001b[1mwandb\u001b[0m: \tn_hidden_units: 128\n",
      "\u001b[34m\u001b[1mwandb\u001b[0m: \toptim_algo: nag\n",
      "\u001b[34m\u001b[1mwandb\u001b[0m: \trelu_param: 0\n",
      "\u001b[34m\u001b[1mwandb\u001b[0m: \tweights_init: xavier_uniform\n",
      "Failed to detect the name of this notebook, you can set it manually with the WANDB_NOTEBOOK_NAME environment variable to enable code saving.\n"
     ]
    },
    {
     "data": {
      "text/html": [
       "Tracking run with wandb version 0.14.0"
      ],
      "text/plain": [
       "<IPython.core.display.HTML object>"
      ]
     },
     "metadata": {},
     "output_type": "display_data"
    },
    {
     "data": {
      "text/html": [
       "Run data is saved locally in <code>d:\\CS6901\\wandb\\run-20230318_001702-hocrhrtj</code>"
      ],
      "text/plain": [
       "<IPython.core.display.HTML object>"
      ]
     },
     "metadata": {},
     "output_type": "display_data"
    },
    {
     "data": {
      "text/html": [
       "Syncing run <strong><a href='https://wandb.ai/viswa_ee/CS6910/runs/hocrhrtj' target=\"_blank\">fallen-sweep-58</a></strong> to <a href='https://wandb.ai/viswa_ee/CS6910' target=\"_blank\">Weights & Biases</a> (<a href='https://wandb.me/run' target=\"_blank\">docs</a>)<br/>Sweep page: <a href='https://wandb.ai/viswa_ee/CS6910/sweeps/5hrjihf5' target=\"_blank\">https://wandb.ai/viswa_ee/CS6910/sweeps/5hrjihf5</a>"
      ],
      "text/plain": [
       "<IPython.core.display.HTML object>"
      ]
     },
     "metadata": {},
     "output_type": "display_data"
    },
    {
     "data": {
      "text/html": [
       " View project at <a href='https://wandb.ai/viswa_ee/CS6910' target=\"_blank\">https://wandb.ai/viswa_ee/CS6910</a>"
      ],
      "text/plain": [
       "<IPython.core.display.HTML object>"
      ]
     },
     "metadata": {},
     "output_type": "display_data"
    },
    {
     "data": {
      "text/html": [
       " View sweep at <a href='https://wandb.ai/viswa_ee/CS6910/sweeps/5hrjihf5' target=\"_blank\">https://wandb.ai/viswa_ee/CS6910/sweeps/5hrjihf5</a>"
      ],
      "text/plain": [
       "<IPython.core.display.HTML object>"
      ]
     },
     "metadata": {},
     "output_type": "display_data"
    },
    {
     "data": {
      "text/html": [
       " View run at <a href='https://wandb.ai/viswa_ee/CS6910/runs/hocrhrtj' target=\"_blank\">https://wandb.ai/viswa_ee/CS6910/runs/hocrhrtj</a>"
      ],
      "text/plain": [
       "<IPython.core.display.HTML object>"
      ]
     },
     "metadata": {},
     "output_type": "display_data"
    },
    {
     "data": {
      "text/html": [
       "Waiting for W&B process to finish... <strong style=\"color:green\">(success).</strong>"
      ],
      "text/plain": [
       "<IPython.core.display.HTML object>"
      ]
     },
     "metadata": {},
     "output_type": "display_data"
    },
    {
     "data": {
      "text/html": [
       "<style>\n",
       "    table.wandb td:nth-child(1) { padding: 0 10px; text-align: left ; width: auto;} td:nth-child(2) {text-align: left ; width: 100%}\n",
       "    .wandb-row { display: flex; flex-direction: row; flex-wrap: wrap; justify-content: flex-start; width: 100% }\n",
       "    .wandb-col { display: flex; flex-direction: column; flex-basis: 100%; flex: 1; padding: 10px; }\n",
       "    </style>\n",
       "<div class=\"wandb-row\"><div class=\"wandb-col\"><h3>Run history:</h3><br/><table class=\"wandb\"><tr><td>train_acc</td><td>▆█▃▄▁</td></tr><tr><td>train_loss</td><td>█▇▁▂▃</td></tr><tr><td>val_acc</td><td>▇█▄▅▁</td></tr><tr><td>val_loss</td><td>▇█▆▅▁</td></tr></table><br/></div><div class=\"wandb-col\"><h3>Run summary:</h3><br/><table class=\"wandb\"><tr><td>train_acc</td><td>0.09422</td></tr><tr><td>train_loss</td><td>2.87823</td></tr><tr><td>val_acc</td><td>0.09267</td></tr><tr><td>val_loss</td><td>2.92145</td></tr></table><br/></div></div>"
      ],
      "text/plain": [
       "<IPython.core.display.HTML object>"
      ]
     },
     "metadata": {},
     "output_type": "display_data"
    },
    {
     "data": {
      "text/html": [
       " View run <strong style=\"color:#cdcd00\">fallen-sweep-58</strong> at: <a href='https://wandb.ai/viswa_ee/CS6910/runs/hocrhrtj' target=\"_blank\">https://wandb.ai/viswa_ee/CS6910/runs/hocrhrtj</a><br/>Synced 4 W&B file(s), 1 media file(s), 0 artifact file(s) and 0 other file(s)"
      ],
      "text/plain": [
       "<IPython.core.display.HTML object>"
      ]
     },
     "metadata": {},
     "output_type": "display_data"
    },
    {
     "data": {
      "text/html": [
       "Find logs at: <code>.\\wandb\\run-20230318_001702-hocrhrtj\\logs</code>"
      ],
      "text/plain": [
       "<IPython.core.display.HTML object>"
      ]
     },
     "metadata": {},
     "output_type": "display_data"
    },
    {
     "name": "stderr",
     "output_type": "stream",
     "text": [
      "\u001b[34m\u001b[1mwandb\u001b[0m: Sweep Agent: Waiting for job.\n",
      "\u001b[34m\u001b[1mwandb\u001b[0m: Job received.\n",
      "\u001b[34m\u001b[1mwandb\u001b[0m: Agent Starting Run: 6wzrfvan with config:\n",
      "\u001b[34m\u001b[1mwandb\u001b[0m: \tact_func: identity\n",
      "\u001b[34m\u001b[1mwandb\u001b[0m: \tbatch_size: 32\n",
      "\u001b[34m\u001b[1mwandb\u001b[0m: \tl2_coeff: 0.0005\n",
      "\u001b[34m\u001b[1mwandb\u001b[0m: \tloss_func: mse\n",
      "\u001b[34m\u001b[1mwandb\u001b[0m: \tlr: 0.0001\n",
      "\u001b[34m\u001b[1mwandb\u001b[0m: \tn_epochs: 5\n",
      "\u001b[34m\u001b[1mwandb\u001b[0m: \tn_hidden: 5\n",
      "\u001b[34m\u001b[1mwandb\u001b[0m: \tn_hidden_units: 64\n",
      "\u001b[34m\u001b[1mwandb\u001b[0m: \toptim_algo: adam\n",
      "\u001b[34m\u001b[1mwandb\u001b[0m: \trelu_param: 0.01\n",
      "\u001b[34m\u001b[1mwandb\u001b[0m: \tweights_init: xavier_uniform\n",
      "Failed to detect the name of this notebook, you can set it manually with the WANDB_NOTEBOOK_NAME environment variable to enable code saving.\n"
     ]
    },
    {
     "data": {
      "text/html": [
       "Tracking run with wandb version 0.14.0"
      ],
      "text/plain": [
       "<IPython.core.display.HTML object>"
      ]
     },
     "metadata": {},
     "output_type": "display_data"
    },
    {
     "data": {
      "text/html": [
       "Run data is saved locally in <code>d:\\CS6901\\wandb\\run-20230318_001751-6wzrfvan</code>"
      ],
      "text/plain": [
       "<IPython.core.display.HTML object>"
      ]
     },
     "metadata": {},
     "output_type": "display_data"
    },
    {
     "data": {
      "text/html": [
       "Syncing run <strong><a href='https://wandb.ai/viswa_ee/CS6910/runs/6wzrfvan' target=\"_blank\">kind-sweep-59</a></strong> to <a href='https://wandb.ai/viswa_ee/CS6910' target=\"_blank\">Weights & Biases</a> (<a href='https://wandb.me/run' target=\"_blank\">docs</a>)<br/>Sweep page: <a href='https://wandb.ai/viswa_ee/CS6910/sweeps/5hrjihf5' target=\"_blank\">https://wandb.ai/viswa_ee/CS6910/sweeps/5hrjihf5</a>"
      ],
      "text/plain": [
       "<IPython.core.display.HTML object>"
      ]
     },
     "metadata": {},
     "output_type": "display_data"
    },
    {
     "data": {
      "text/html": [
       " View project at <a href='https://wandb.ai/viswa_ee/CS6910' target=\"_blank\">https://wandb.ai/viswa_ee/CS6910</a>"
      ],
      "text/plain": [
       "<IPython.core.display.HTML object>"
      ]
     },
     "metadata": {},
     "output_type": "display_data"
    },
    {
     "data": {
      "text/html": [
       " View sweep at <a href='https://wandb.ai/viswa_ee/CS6910/sweeps/5hrjihf5' target=\"_blank\">https://wandb.ai/viswa_ee/CS6910/sweeps/5hrjihf5</a>"
      ],
      "text/plain": [
       "<IPython.core.display.HTML object>"
      ]
     },
     "metadata": {},
     "output_type": "display_data"
    },
    {
     "data": {
      "text/html": [
       " View run at <a href='https://wandb.ai/viswa_ee/CS6910/runs/6wzrfvan' target=\"_blank\">https://wandb.ai/viswa_ee/CS6910/runs/6wzrfvan</a>"
      ],
      "text/plain": [
       "<IPython.core.display.HTML object>"
      ]
     },
     "metadata": {},
     "output_type": "display_data"
    },
    {
     "data": {
      "text/html": [
       "Waiting for W&B process to finish... <strong style=\"color:green\">(success).</strong>"
      ],
      "text/plain": [
       "<IPython.core.display.HTML object>"
      ]
     },
     "metadata": {},
     "output_type": "display_data"
    },
    {
     "data": {
      "text/html": [
       "<style>\n",
       "    table.wandb td:nth-child(1) { padding: 0 10px; text-align: left ; width: auto;} td:nth-child(2) {text-align: left ; width: 100%}\n",
       "    .wandb-row { display: flex; flex-direction: row; flex-wrap: wrap; justify-content: flex-start; width: 100% }\n",
       "    .wandb-col { display: flex; flex-direction: column; flex-basis: 100%; flex: 1; padding: 10px; }\n",
       "    </style>\n",
       "<div class=\"wandb-row\"><div class=\"wandb-col\"><h3>Run history:</h3><br/><table class=\"wandb\"><tr><td>train_acc</td><td>▁▂▅▇█</td></tr><tr><td>train_loss</td><td>█▁▆▅▁</td></tr><tr><td>val_acc</td><td>▁▂▆▆█</td></tr><tr><td>val_loss</td><td>█▅▄▁▁</td></tr></table><br/></div><div class=\"wandb-col\"><h3>Run summary:</h3><br/><table class=\"wandb\"><tr><td>train_acc</td><td>0.85798</td></tr><tr><td>train_loss</td><td>-1522.44476</td></tr><tr><td>val_acc</td><td>0.8545</td></tr><tr><td>val_loss</td><td>-1667.89769</td></tr></table><br/></div></div>"
      ],
      "text/plain": [
       "<IPython.core.display.HTML object>"
      ]
     },
     "metadata": {},
     "output_type": "display_data"
    },
    {
     "data": {
      "text/html": [
       " View run <strong style=\"color:#cdcd00\">kind-sweep-59</strong> at: <a href='https://wandb.ai/viswa_ee/CS6910/runs/6wzrfvan' target=\"_blank\">https://wandb.ai/viswa_ee/CS6910/runs/6wzrfvan</a><br/>Synced 4 W&B file(s), 1 media file(s), 0 artifact file(s) and 0 other file(s)"
      ],
      "text/plain": [
       "<IPython.core.display.HTML object>"
      ]
     },
     "metadata": {},
     "output_type": "display_data"
    },
    {
     "data": {
      "text/html": [
       "Find logs at: <code>.\\wandb\\run-20230318_001751-6wzrfvan\\logs</code>"
      ],
      "text/plain": [
       "<IPython.core.display.HTML object>"
      ]
     },
     "metadata": {},
     "output_type": "display_data"
    },
    {
     "name": "stderr",
     "output_type": "stream",
     "text": [
      "\u001b[34m\u001b[1mwandb\u001b[0m: Agent Starting Run: dw6pdzed with config:\n",
      "\u001b[34m\u001b[1mwandb\u001b[0m: \tact_func: identity\n",
      "\u001b[34m\u001b[1mwandb\u001b[0m: \tbatch_size: 16\n",
      "\u001b[34m\u001b[1mwandb\u001b[0m: \tl2_coeff: 0.0005\n",
      "\u001b[34m\u001b[1mwandb\u001b[0m: \tloss_func: mse\n",
      "\u001b[34m\u001b[1mwandb\u001b[0m: \tlr: 0.0001\n",
      "\u001b[34m\u001b[1mwandb\u001b[0m: \tn_epochs: 10\n",
      "\u001b[34m\u001b[1mwandb\u001b[0m: \tn_hidden: 4\n",
      "\u001b[34m\u001b[1mwandb\u001b[0m: \tn_hidden_units: 32\n",
      "\u001b[34m\u001b[1mwandb\u001b[0m: \toptim_algo: rmsprop\n",
      "\u001b[34m\u001b[1mwandb\u001b[0m: \trelu_param: 0.1\n",
      "\u001b[34m\u001b[1mwandb\u001b[0m: \tweights_init: xavier_uniform\n",
      "Failed to detect the name of this notebook, you can set it manually with the WANDB_NOTEBOOK_NAME environment variable to enable code saving.\n"
     ]
    },
    {
     "data": {
      "text/html": [
       "Tracking run with wandb version 0.14.0"
      ],
      "text/plain": [
       "<IPython.core.display.HTML object>"
      ]
     },
     "metadata": {},
     "output_type": "display_data"
    },
    {
     "data": {
      "text/html": [
       "Run data is saved locally in <code>d:\\CS6901\\wandb\\run-20230318_001828-dw6pdzed</code>"
      ],
      "text/plain": [
       "<IPython.core.display.HTML object>"
      ]
     },
     "metadata": {},
     "output_type": "display_data"
    },
    {
     "data": {
      "text/html": [
       "Syncing run <strong><a href='https://wandb.ai/viswa_ee/CS6910/runs/dw6pdzed' target=\"_blank\">skilled-sweep-60</a></strong> to <a href='https://wandb.ai/viswa_ee/CS6910' target=\"_blank\">Weights & Biases</a> (<a href='https://wandb.me/run' target=\"_blank\">docs</a>)<br/>Sweep page: <a href='https://wandb.ai/viswa_ee/CS6910/sweeps/5hrjihf5' target=\"_blank\">https://wandb.ai/viswa_ee/CS6910/sweeps/5hrjihf5</a>"
      ],
      "text/plain": [
       "<IPython.core.display.HTML object>"
      ]
     },
     "metadata": {},
     "output_type": "display_data"
    },
    {
     "data": {
      "text/html": [
       " View project at <a href='https://wandb.ai/viswa_ee/CS6910' target=\"_blank\">https://wandb.ai/viswa_ee/CS6910</a>"
      ],
      "text/plain": [
       "<IPython.core.display.HTML object>"
      ]
     },
     "metadata": {},
     "output_type": "display_data"
    },
    {
     "data": {
      "text/html": [
       " View sweep at <a href='https://wandb.ai/viswa_ee/CS6910/sweeps/5hrjihf5' target=\"_blank\">https://wandb.ai/viswa_ee/CS6910/sweeps/5hrjihf5</a>"
      ],
      "text/plain": [
       "<IPython.core.display.HTML object>"
      ]
     },
     "metadata": {},
     "output_type": "display_data"
    },
    {
     "data": {
      "text/html": [
       " View run at <a href='https://wandb.ai/viswa_ee/CS6910/runs/dw6pdzed' target=\"_blank\">https://wandb.ai/viswa_ee/CS6910/runs/dw6pdzed</a>"
      ],
      "text/plain": [
       "<IPython.core.display.HTML object>"
      ]
     },
     "metadata": {},
     "output_type": "display_data"
    },
    {
     "data": {
      "text/html": [
       "Waiting for W&B process to finish... <strong style=\"color:green\">(success).</strong>"
      ],
      "text/plain": [
       "<IPython.core.display.HTML object>"
      ]
     },
     "metadata": {},
     "output_type": "display_data"
    },
    {
     "data": {
      "text/html": [
       "<style>\n",
       "    table.wandb td:nth-child(1) { padding: 0 10px; text-align: left ; width: auto;} td:nth-child(2) {text-align: left ; width: 100%}\n",
       "    .wandb-row { display: flex; flex-direction: row; flex-wrap: wrap; justify-content: flex-start; width: 100% }\n",
       "    .wandb-col { display: flex; flex-direction: column; flex-basis: 100%; flex: 1; padding: 10px; }\n",
       "    </style>\n",
       "<div class=\"wandb-row\"><div class=\"wandb-col\"><h3>Run history:</h3><br/><table class=\"wandb\"><tr><td>train_acc</td><td>▁▄▅▄▆▇███▇</td></tr><tr><td>train_loss</td><td>█▅▅█▇▅▄▅▃▁</td></tr><tr><td>val_acc</td><td>▁▄▅▄▇▇▇██▇</td></tr><tr><td>val_loss</td><td>█▆▅▅▃▃▂▂▂▁</td></tr></table><br/></div><div class=\"wandb-col\"><h3>Run summary:</h3><br/><table class=\"wandb\"><tr><td>train_acc</td><td>0.85865</td></tr><tr><td>train_loss</td><td>-2312.49482</td></tr><tr><td>val_acc</td><td>0.84783</td></tr><tr><td>val_loss</td><td>-2267.80451</td></tr></table><br/></div></div>"
      ],
      "text/plain": [
       "<IPython.core.display.HTML object>"
      ]
     },
     "metadata": {},
     "output_type": "display_data"
    },
    {
     "data": {
      "text/html": [
       " View run <strong style=\"color:#cdcd00\">skilled-sweep-60</strong> at: <a href='https://wandb.ai/viswa_ee/CS6910/runs/dw6pdzed' target=\"_blank\">https://wandb.ai/viswa_ee/CS6910/runs/dw6pdzed</a><br/>Synced 4 W&B file(s), 1 media file(s), 0 artifact file(s) and 0 other file(s)"
      ],
      "text/plain": [
       "<IPython.core.display.HTML object>"
      ]
     },
     "metadata": {},
     "output_type": "display_data"
    },
    {
     "data": {
      "text/html": [
       "Find logs at: <code>.\\wandb\\run-20230318_001828-dw6pdzed\\logs</code>"
      ],
      "text/plain": [
       "<IPython.core.display.HTML object>"
      ]
     },
     "metadata": {},
     "output_type": "display_data"
    }
   ],
   "source": [
    "wandb.agent(sweep_id,learn,count=60)"
   ]
  },
  {
   "cell_type": "code",
   "execution_count": 6,
   "metadata": {},
   "outputs": [],
   "source": [
    "class_names = [str(i) for i in range(10)]"
   ]
  },
  {
   "cell_type": "code",
   "execution_count": 7,
   "metadata": {},
   "outputs": [
    {
     "data": {
      "image/png": "[encoded data removed]",
      "text/plain": [
       "<Figure size 540x288 with 10 Axes>"
      ]
     },
     "metadata": {
      "needs_background": "light"
     },
     "output_type": "display_data"
    }
   ],
   "source": [
    "(x_train, y_train), (x_test, y_test) = mnist.load_data()\n",
    "\n",
    "class_num = 10\n",
    "num_row = 2\n",
    "num_col = 5# plot images\n",
    "fig, axes = plt.subplots(num_row, num_col, figsize=(1.5*num_col,2*num_row))\n",
    "img_list=[]\n",
    "for i in range(class_num):\n",
    "  ax = axes[i//num_col, i%num_col]\n",
    "  a = np.argmax(y_train == i)\n",
    "  ax.imshow(x_train[a], cmap='gray')\n",
    "  ax.set_title(class_names[i])\n",
    "plt.tight_layout()\n",
    "\n",
    "x_train, x_valid, y_train, y_valid = train_test_split(x_train, y_train, test_size=0.1, random_state=0, stratify=y_train)\n",
    "\n",
    "x_train = x_train.reshape((len(x_train), 28*28))\n",
    "x_train = x_train.astype('float32') / 255\n",
    "\n",
    "x_valid = x_valid.reshape((len(x_valid), 28*28))\n",
    "x_valid = x_valid.astype('float32') / 255\n",
    "\n",
    "# Preprocessing test data\n",
    "x_test = x_test.reshape((len(x_test), 28 * 28))\n",
    "x_test = x_test.astype('float32') / 225"
   ]
  },
  {
   "cell_type": "code",
   "execution_count": 8,
   "metadata": {},
   "outputs": [],
   "source": [
    "sweep_config = {\n",
    "    'method':'bayes',\n",
    "    'metric':{\n",
    "    'name':'val_acc',\n",
    "    'goal':'maximize'\n",
    "    },\n",
    "    'parameters':{\n",
    "    'optim_algo':{\n",
    "    'values':['sgd','sgdm','rmsprop','adam','nadam','nag']\n",
    "    },\n",
    "    'weights_init':{\n",
    "    'values':['random','xavier_uniform']\n",
    "    },\n",
    "    'act_func':{\n",
    "    'values':['relu','sigmoid','tanh','identity']\n",
    "    }\n",
    "    }\n",
    "}"
   ]
  },
  {
   "cell_type": "code",
   "execution_count": 11,
   "metadata": {},
   "outputs": [
    {
     "name": "stderr",
     "output_type": "stream",
     "text": [
      "Failed to detect the name of this notebook, you can set it manually with the WANDB_NOTEBOOK_NAME environment variable to enable code saving.\n"
     ]
    },
    {
     "name": "stdout",
     "output_type": "stream",
     "text": [
      "Create sweep with ID: faldzlw8\n",
      "Sweep URL: https://wandb.ai/viswa_ee/CS6910/sweeps/faldzlw8\n"
     ]
    }
   ],
   "source": [
    "sweep_id = wandb.sweep(sweep_config, entity=\"viswa_ee\", project=\"CS6910\")"
   ]
  },
  {
   "cell_type": "code",
   "execution_count": 9,
   "metadata": {},
   "outputs": [],
   "source": [
    "def learn():\n",
    "    config_defaults={\n",
    "        'optim_algo':'adam',\n",
    "        'weights_init':'xavier_uniform',\n",
    "        'act_fn':'relu'\n",
    "    }\n",
    "    wandb.init(config=config_defaults)\n",
    "    config = wandb.config\n",
    "    X = x_train.T\n",
    "    X_valid = x_valid.T\n",
    "    Y_valid = y_valid\n",
    "    Y = y_train\n",
    "    n_class= 10\n",
    "    class_names = [str(i) for i in range(10)]\n",
    "\n",
    "    layers = []\n",
    "    n_hidden = 5\n",
    "    n_hidden_units = 64\n",
    "    for i in range(n_hidden+2):\n",
    "        if i == 0:\n",
    "            layers.append(X.shape[0])\n",
    "        elif i == n_hidden+1:\n",
    "            layers.append(n_class)\n",
    "        else:\n",
    "            layers.append(n_hidden_units)\n",
    "        i = i+1\n",
    "    \n",
    "    output_act = 'softmax'\n",
    "    act_fn = 'tanh'\n",
    "\n",
    "    acts = []\n",
    "    for i in range(n_hidden+1):\n",
    "        if i == n_hidden:\n",
    "            acts.append(output_act)\n",
    "        else:\n",
    "            acts.append(act_fn)\n",
    "        i = i+1\n",
    "    \n",
    "    wandb.run.name = config.weights_init+'_'+ config.optim_algo +'_'+ config.act_func \n",
    "    model = FFNN(net_size=layers,layer_act=acts,init_wb=config.weights_init,lr=0.0001,opt=config.optim_algo,\\\n",
    "                 lamda=0,batch_size=16,n_epochs=10,loss='mse',relu_param=0)\n",
    "    model.train(X,Y,X_valid,Y_valid)\n",
    "    y_test_pred,_ = model.predict(x_test.T)\n",
    "    cm = confusion_matrix(y_test, y_test_pred)\n",
    "    cm_norm = cm.astype(\"float\") / cm.sum(axis=1)[:, np.newaxis]\n",
    "    fig, ax = plt.subplots(figsize=(8, 6))\n",
    "    sns.heatmap(\n",
    "        cm_norm, annot=True, cmap=\"Blues\", square=True, xticklabels=class_names, yticklabels=class_names\n",
    "    )\n",
    "    plt.ylabel(\"True label\")\n",
    "    plt.xlabel(\"Predicted label\")\n",
    "    # Log the confusion matrix plot to wandb\n",
    "    wandb.log({\"Confusion Matrix\":wandb.Image(fig)})\n",
    "    fig.clf()\n",
    "    plt.close('all')\n",
    "    # log = {'conf_matrix':wandb.plot.confusion_matrix(y_true=y_test,preds=y_test_pred,class_names=class_names)}\n",
    "    # wandb.log(log)\n",
    "    # wandb.log({'conf_mat_'+wandb.run.name:wandb.plot.confusion_matrix(y_true=y_test,preds=y_test_pred,class_names=class_names)})\n",
    "    "
   ]
  },
  {
   "cell_type": "code",
   "execution_count": 12,
   "metadata": {},
   "outputs": [
    {
     "name": "stderr",
     "output_type": "stream",
     "text": [
      "\u001b[34m\u001b[1mwandb\u001b[0m: Agent Starting Run: osc47dxh with config:\n",
      "\u001b[34m\u001b[1mwandb\u001b[0m: \tact_func: sigmoid\n",
      "\u001b[34m\u001b[1mwandb\u001b[0m: \toptim_algo: sgd\n",
      "\u001b[34m\u001b[1mwandb\u001b[0m: \tweights_init: xavier_uniform\n",
      "Failed to detect the name of this notebook, you can set it manually with the WANDB_NOTEBOOK_NAME environment variable to enable code saving.\n",
      "\u001b[34m\u001b[1mwandb\u001b[0m: Currently logged in as: \u001b[33mviswa_ee\u001b[0m. Use \u001b[1m`wandb login --relogin`\u001b[0m to force relogin\n"
     ]
    },
    {
     "data": {
      "text/html": [
       "Tracking run with wandb version 0.14.0"
      ],
      "text/plain": [
       "<IPython.core.display.HTML object>"
      ]
     },
     "metadata": {},
     "output_type": "display_data"
    },
    {
     "data": {
      "text/html": [
       "Run data is saved locally in <code>d:\\CS6901\\wandb\\run-20230318_014222-osc47dxh</code>"
      ],
      "text/plain": [
       "<IPython.core.display.HTML object>"
      ]
     },
     "metadata": {},
     "output_type": "display_data"
    },
    {
     "data": {
      "text/html": [
       "Syncing run <strong><a href='https://wandb.ai/viswa_ee/CS6910/runs/osc47dxh' target=\"_blank\">deft-sweep-1</a></strong> to <a href='https://wandb.ai/viswa_ee/CS6910' target=\"_blank\">Weights & Biases</a> (<a href='https://wandb.me/run' target=\"_blank\">docs</a>)<br/>Sweep page: <a href='https://wandb.ai/viswa_ee/CS6910/sweeps/faldzlw8' target=\"_blank\">https://wandb.ai/viswa_ee/CS6910/sweeps/faldzlw8</a>"
      ],
      "text/plain": [
       "<IPython.core.display.HTML object>"
      ]
     },
     "metadata": {},
     "output_type": "display_data"
    },
    {
     "data": {
      "text/html": [
       " View project at <a href='https://wandb.ai/viswa_ee/CS6910' target=\"_blank\">https://wandb.ai/viswa_ee/CS6910</a>"
      ],
      "text/plain": [
       "<IPython.core.display.HTML object>"
      ]
     },
     "metadata": {},
     "output_type": "display_data"
    },
    {
     "data": {
      "text/html": [
       " View sweep at <a href='https://wandb.ai/viswa_ee/CS6910/sweeps/faldzlw8' target=\"_blank\">https://wandb.ai/viswa_ee/CS6910/sweeps/faldzlw8</a>"
      ],
      "text/plain": [
       "<IPython.core.display.HTML object>"
      ]
     },
     "metadata": {},
     "output_type": "display_data"
    },
    {
     "data": {
      "text/html": [
       " View run at <a href='https://wandb.ai/viswa_ee/CS6910/runs/osc47dxh' target=\"_blank\">https://wandb.ai/viswa_ee/CS6910/runs/osc47dxh</a>"
      ],
      "text/plain": [
       "<IPython.core.display.HTML object>"
      ]
     },
     "metadata": {},
     "output_type": "display_data"
    },
    {
     "data": {
      "text/html": [
       "Waiting for W&B process to finish... <strong style=\"color:green\">(success).</strong>"
      ],
      "text/plain": [
       "<IPython.core.display.HTML object>"
      ]
     },
     "metadata": {},
     "output_type": "display_data"
    },
    {
     "data": {
      "text/html": [
       "<style>\n",
       "    table.wandb td:nth-child(1) { padding: 0 10px; text-align: left ; width: auto;} td:nth-child(2) {text-align: left ; width: 100%}\n",
       "    .wandb-row { display: flex; flex-direction: row; flex-wrap: wrap; justify-content: flex-start; width: 100% }\n",
       "    .wandb-col { display: flex; flex-direction: column; flex-basis: 100%; flex: 1; padding: 10px; }\n",
       "    </style>\n",
       "<div class=\"wandb-row\"><div class=\"wandb-col\"><h3>Run history:</h3><br/><table class=\"wandb\"><tr><td>train_acc</td><td>▁▃▄▅▅▆▇▇██</td></tr><tr><td>train_loss</td><td>████▇▆▆▄▃▁</td></tr><tr><td>val_acc</td><td>▁▃▄▅▅▆▇▇██</td></tr><tr><td>val_loss</td><td>███▇▇▆▅▄▃▁</td></tr></table><br/></div><div class=\"wandb-col\"><h3>Run summary:</h3><br/><table class=\"wandb\"><tr><td>train_acc</td><td>0.61033</td></tr><tr><td>train_loss</td><td>-98.47681</td></tr><tr><td>val_acc</td><td>0.60367</td></tr><tr><td>val_loss</td><td>-90.30037</td></tr></table><br/></div></div>"
      ],
      "text/plain": [
       "<IPython.core.display.HTML object>"
      ]
     },
     "metadata": {},
     "output_type": "display_data"
    },
    {
     "data": {
      "text/html": [
       " View run <strong style=\"color:#cdcd00\">deft-sweep-1</strong> at: <a href='https://wandb.ai/viswa_ee/CS6910/runs/osc47dxh' target=\"_blank\">https://wandb.ai/viswa_ee/CS6910/runs/osc47dxh</a><br/>Synced 4 W&B file(s), 1 media file(s), 0 artifact file(s) and 0 other file(s)"
      ],
      "text/plain": [
       "<IPython.core.display.HTML object>"
      ]
     },
     "metadata": {},
     "output_type": "display_data"
    },
    {
     "data": {
      "text/html": [
       "Find logs at: <code>.\\wandb\\run-20230318_014222-osc47dxh\\logs</code>"
      ],
      "text/plain": [
       "<IPython.core.display.HTML object>"
      ]
     },
     "metadata": {},
     "output_type": "display_data"
    },
    {
     "name": "stderr",
     "output_type": "stream",
     "text": [
      "\u001b[34m\u001b[1mwandb\u001b[0m: Agent Starting Run: j8uc78lf with config:\n",
      "\u001b[34m\u001b[1mwandb\u001b[0m: \tact_func: relu\n",
      "\u001b[34m\u001b[1mwandb\u001b[0m: \toptim_algo: sgdm\n",
      "\u001b[34m\u001b[1mwandb\u001b[0m: \tweights_init: xavier_uniform\n",
      "Failed to detect the name of this notebook, you can set it manually with the WANDB_NOTEBOOK_NAME environment variable to enable code saving.\n"
     ]
    },
    {
     "data": {
      "text/html": [
       "Tracking run with wandb version 0.14.0"
      ],
      "text/plain": [
       "<IPython.core.display.HTML object>"
      ]
     },
     "metadata": {},
     "output_type": "display_data"
    },
    {
     "data": {
      "text/html": [
       "Run data is saved locally in <code>d:\\CS6901\\wandb\\run-20230318_014435-j8uc78lf</code>"
      ],
      "text/plain": [
       "<IPython.core.display.HTML object>"
      ]
     },
     "metadata": {},
     "output_type": "display_data"
    },
    {
     "data": {
      "text/html": [
       "Syncing run <strong><a href='https://wandb.ai/viswa_ee/CS6910/runs/j8uc78lf' target=\"_blank\">atomic-sweep-2</a></strong> to <a href='https://wandb.ai/viswa_ee/CS6910' target=\"_blank\">Weights & Biases</a> (<a href='https://wandb.me/run' target=\"_blank\">docs</a>)<br/>Sweep page: <a href='https://wandb.ai/viswa_ee/CS6910/sweeps/faldzlw8' target=\"_blank\">https://wandb.ai/viswa_ee/CS6910/sweeps/faldzlw8</a>"
      ],
      "text/plain": [
       "<IPython.core.display.HTML object>"
      ]
     },
     "metadata": {},
     "output_type": "display_data"
    },
    {
     "data": {
      "text/html": [
       " View project at <a href='https://wandb.ai/viswa_ee/CS6910' target=\"_blank\">https://wandb.ai/viswa_ee/CS6910</a>"
      ],
      "text/plain": [
       "<IPython.core.display.HTML object>"
      ]
     },
     "metadata": {},
     "output_type": "display_data"
    },
    {
     "data": {
      "text/html": [
       " View sweep at <a href='https://wandb.ai/viswa_ee/CS6910/sweeps/faldzlw8' target=\"_blank\">https://wandb.ai/viswa_ee/CS6910/sweeps/faldzlw8</a>"
      ],
      "text/plain": [
       "<IPython.core.display.HTML object>"
      ]
     },
     "metadata": {},
     "output_type": "display_data"
    },
    {
     "data": {
      "text/html": [
       " View run at <a href='https://wandb.ai/viswa_ee/CS6910/runs/j8uc78lf' target=\"_blank\">https://wandb.ai/viswa_ee/CS6910/runs/j8uc78lf</a>"
      ],
      "text/plain": [
       "<IPython.core.display.HTML object>"
      ]
     },
     "metadata": {},
     "output_type": "display_data"
    },
    {
     "data": {
      "text/html": [
       "Waiting for W&B process to finish... <strong style=\"color:green\">(success).</strong>"
      ],
      "text/plain": [
       "<IPython.core.display.HTML object>"
      ]
     },
     "metadata": {},
     "output_type": "display_data"
    },
    {
     "data": {
      "text/html": [
       "<style>\n",
       "    table.wandb td:nth-child(1) { padding: 0 10px; text-align: left ; width: auto;} td:nth-child(2) {text-align: left ; width: 100%}\n",
       "    .wandb-row { display: flex; flex-direction: row; flex-wrap: wrap; justify-content: flex-start; width: 100% }\n",
       "    .wandb-col { display: flex; flex-direction: column; flex-basis: 100%; flex: 1; padding: 10px; }\n",
       "    </style>\n",
       "<div class=\"wandb-row\"><div class=\"wandb-col\"><h3>Run history:</h3><br/><table class=\"wandb\"><tr><td>train_acc</td><td>▁▂▄▅▆▇▇▇██</td></tr><tr><td>train_loss</td><td>████▇▆▅▃▄▁</td></tr><tr><td>val_acc</td><td>▁▂▄▅▆▇▇▇██</td></tr><tr><td>val_loss</td><td>████▇▇▆▄▃▁</td></tr></table><br/></div><div class=\"wandb-col\"><h3>Run summary:</h3><br/><table class=\"wandb\"><tr><td>train_acc</td><td>0.6232</td></tr><tr><td>train_loss</td><td>-85.72391</td></tr><tr><td>val_acc</td><td>0.62583</td></tr><tr><td>val_loss</td><td>-88.57078</td></tr></table><br/></div></div>"
      ],
      "text/plain": [
       "<IPython.core.display.HTML object>"
      ]
     },
     "metadata": {},
     "output_type": "display_data"
    },
    {
     "data": {
      "text/html": [
       " View run <strong style=\"color:#cdcd00\">atomic-sweep-2</strong> at: <a href='https://wandb.ai/viswa_ee/CS6910/runs/j8uc78lf' target=\"_blank\">https://wandb.ai/viswa_ee/CS6910/runs/j8uc78lf</a><br/>Synced 4 W&B file(s), 1 media file(s), 0 artifact file(s) and 0 other file(s)"
      ],
      "text/plain": [
       "<IPython.core.display.HTML object>"
      ]
     },
     "metadata": {},
     "output_type": "display_data"
    },
    {
     "data": {
      "text/html": [
       "Find logs at: <code>.\\wandb\\run-20230318_014435-j8uc78lf\\logs</code>"
      ],
      "text/plain": [
       "<IPython.core.display.HTML object>"
      ]
     },
     "metadata": {},
     "output_type": "display_data"
    },
    {
     "name": "stderr",
     "output_type": "stream",
     "text": [
      "\u001b[34m\u001b[1mwandb\u001b[0m: Agent Starting Run: gsdsnki0 with config:\n",
      "\u001b[34m\u001b[1mwandb\u001b[0m: \tact_func: sigmoid\n",
      "\u001b[34m\u001b[1mwandb\u001b[0m: \toptim_algo: adam\n",
      "\u001b[34m\u001b[1mwandb\u001b[0m: \tweights_init: xavier_uniform\n",
      "Failed to detect the name of this notebook, you can set it manually with the WANDB_NOTEBOOK_NAME environment variable to enable code saving.\n"
     ]
    },
    {
     "data": {
      "text/html": [
       "Tracking run with wandb version 0.14.0"
      ],
      "text/plain": [
       "<IPython.core.display.HTML object>"
      ]
     },
     "metadata": {},
     "output_type": "display_data"
    },
    {
     "data": {
      "text/html": [
       "Run data is saved locally in <code>d:\\CS6901\\wandb\\run-20230318_014651-gsdsnki0</code>"
      ],
      "text/plain": [
       "<IPython.core.display.HTML object>"
      ]
     },
     "metadata": {},
     "output_type": "display_data"
    },
    {
     "data": {
      "text/html": [
       "Syncing run <strong><a href='https://wandb.ai/viswa_ee/CS6910/runs/gsdsnki0' target=\"_blank\">pleasant-sweep-3</a></strong> to <a href='https://wandb.ai/viswa_ee/CS6910' target=\"_blank\">Weights & Biases</a> (<a href='https://wandb.me/run' target=\"_blank\">docs</a>)<br/>Sweep page: <a href='https://wandb.ai/viswa_ee/CS6910/sweeps/faldzlw8' target=\"_blank\">https://wandb.ai/viswa_ee/CS6910/sweeps/faldzlw8</a>"
      ],
      "text/plain": [
       "<IPython.core.display.HTML object>"
      ]
     },
     "metadata": {},
     "output_type": "display_data"
    },
    {
     "data": {
      "text/html": [
       " View project at <a href='https://wandb.ai/viswa_ee/CS6910' target=\"_blank\">https://wandb.ai/viswa_ee/CS6910</a>"
      ],
      "text/plain": [
       "<IPython.core.display.HTML object>"
      ]
     },
     "metadata": {},
     "output_type": "display_data"
    },
    {
     "data": {
      "text/html": [
       " View sweep at <a href='https://wandb.ai/viswa_ee/CS6910/sweeps/faldzlw8' target=\"_blank\">https://wandb.ai/viswa_ee/CS6910/sweeps/faldzlw8</a>"
      ],
      "text/plain": [
       "<IPython.core.display.HTML object>"
      ]
     },
     "metadata": {},
     "output_type": "display_data"
    },
    {
     "data": {
      "text/html": [
       " View run at <a href='https://wandb.ai/viswa_ee/CS6910/runs/gsdsnki0' target=\"_blank\">https://wandb.ai/viswa_ee/CS6910/runs/gsdsnki0</a>"
      ],
      "text/plain": [
       "<IPython.core.display.HTML object>"
      ]
     },
     "metadata": {},
     "output_type": "display_data"
    },
    {
     "data": {
      "text/html": [
       "Waiting for W&B process to finish... <strong style=\"color:green\">(success).</strong>"
      ],
      "text/plain": [
       "<IPython.core.display.HTML object>"
      ]
     },
     "metadata": {},
     "output_type": "display_data"
    },
    {
     "data": {
      "text/html": [
       "<style>\n",
       "    table.wandb td:nth-child(1) { padding: 0 10px; text-align: left ; width: auto;} td:nth-child(2) {text-align: left ; width: 100%}\n",
       "    .wandb-row { display: flex; flex-direction: row; flex-wrap: wrap; justify-content: flex-start; width: 100% }\n",
       "    .wandb-col { display: flex; flex-direction: column; flex-basis: 100%; flex: 1; padding: 10px; }\n",
       "    </style>\n",
       "<div class=\"wandb-row\"><div class=\"wandb-col\"><h3>Run history:</h3><br/><table class=\"wandb\"><tr><td>train_acc</td><td>▁▃▅▆▆▇▇▇██</td></tr><tr><td>train_loss</td><td>█▆▆▆▄▃▃▂▁▁</td></tr><tr><td>val_acc</td><td>▁▄▅▆▇▇▇███</td></tr><tr><td>val_loss</td><td>█▇▆▅▄▄▃▂▁▁</td></tr></table><br/></div><div class=\"wandb-col\"><h3>Run summary:</h3><br/><table class=\"wandb\"><tr><td>train_acc</td><td>0.98256</td></tr><tr><td>train_loss</td><td>-1009.84143</td></tr><tr><td>val_acc</td><td>0.966</td></tr><tr><td>val_loss</td><td>-1011.10565</td></tr></table><br/></div></div>"
      ],
      "text/plain": [
       "<IPython.core.display.HTML object>"
      ]
     },
     "metadata": {},
     "output_type": "display_data"
    },
    {
     "data": {
      "text/html": [
       " View run <strong style=\"color:#cdcd00\">pleasant-sweep-3</strong> at: <a href='https://wandb.ai/viswa_ee/CS6910/runs/gsdsnki0' target=\"_blank\">https://wandb.ai/viswa_ee/CS6910/runs/gsdsnki0</a><br/>Synced 4 W&B file(s), 1 media file(s), 0 artifact file(s) and 0 other file(s)"
      ],
      "text/plain": [
       "<IPython.core.display.HTML object>"
      ]
     },
     "metadata": {},
     "output_type": "display_data"
    },
    {
     "data": {
      "text/html": [
       "Find logs at: <code>.\\wandb\\run-20230318_014651-gsdsnki0\\logs</code>"
      ],
      "text/plain": [
       "<IPython.core.display.HTML object>"
      ]
     },
     "metadata": {},
     "output_type": "display_data"
    },
    {
     "name": "stderr",
     "output_type": "stream",
     "text": [
      "\u001b[34m\u001b[1mwandb\u001b[0m: Agent Starting Run: yke8gmtz with config:\n",
      "\u001b[34m\u001b[1mwandb\u001b[0m: \tact_func: sigmoid\n",
      "\u001b[34m\u001b[1mwandb\u001b[0m: \toptim_algo: nadam\n",
      "\u001b[34m\u001b[1mwandb\u001b[0m: \tweights_init: xavier_uniform\n",
      "Failed to detect the name of this notebook, you can set it manually with the WANDB_NOTEBOOK_NAME environment variable to enable code saving.\n"
     ]
    },
    {
     "data": {
      "text/html": [
       "Tracking run with wandb version 0.14.0"
      ],
      "text/plain": [
       "<IPython.core.display.HTML object>"
      ]
     },
     "metadata": {},
     "output_type": "display_data"
    },
    {
     "data": {
      "text/html": [
       "Run data is saved locally in <code>d:\\CS6901\\wandb\\run-20230318_014914-yke8gmtz</code>"
      ],
      "text/plain": [
       "<IPython.core.display.HTML object>"
      ]
     },
     "metadata": {},
     "output_type": "display_data"
    },
    {
     "data": {
      "text/html": [
       "Syncing run <strong><a href='https://wandb.ai/viswa_ee/CS6910/runs/yke8gmtz' target=\"_blank\">polar-sweep-4</a></strong> to <a href='https://wandb.ai/viswa_ee/CS6910' target=\"_blank\">Weights & Biases</a> (<a href='https://wandb.me/run' target=\"_blank\">docs</a>)<br/>Sweep page: <a href='https://wandb.ai/viswa_ee/CS6910/sweeps/faldzlw8' target=\"_blank\">https://wandb.ai/viswa_ee/CS6910/sweeps/faldzlw8</a>"
      ],
      "text/plain": [
       "<IPython.core.display.HTML object>"
      ]
     },
     "metadata": {},
     "output_type": "display_data"
    },
    {
     "data": {
      "text/html": [
       " View project at <a href='https://wandb.ai/viswa_ee/CS6910' target=\"_blank\">https://wandb.ai/viswa_ee/CS6910</a>"
      ],
      "text/plain": [
       "<IPython.core.display.HTML object>"
      ]
     },
     "metadata": {},
     "output_type": "display_data"
    },
    {
     "data": {
      "text/html": [
       " View sweep at <a href='https://wandb.ai/viswa_ee/CS6910/sweeps/faldzlw8' target=\"_blank\">https://wandb.ai/viswa_ee/CS6910/sweeps/faldzlw8</a>"
      ],
      "text/plain": [
       "<IPython.core.display.HTML object>"
      ]
     },
     "metadata": {},
     "output_type": "display_data"
    },
    {
     "data": {
      "text/html": [
       " View run at <a href='https://wandb.ai/viswa_ee/CS6910/runs/yke8gmtz' target=\"_blank\">https://wandb.ai/viswa_ee/CS6910/runs/yke8gmtz</a>"
      ],
      "text/plain": [
       "<IPython.core.display.HTML object>"
      ]
     },
     "metadata": {},
     "output_type": "display_data"
    },
    {
     "data": {
      "text/html": [
       "Waiting for W&B process to finish... <strong style=\"color:green\">(success).</strong>"
      ],
      "text/plain": [
       "<IPython.core.display.HTML object>"
      ]
     },
     "metadata": {},
     "output_type": "display_data"
    },
    {
     "data": {
      "text/html": [
       "<style>\n",
       "    table.wandb td:nth-child(1) { padding: 0 10px; text-align: left ; width: auto;} td:nth-child(2) {text-align: left ; width: 100%}\n",
       "    .wandb-row { display: flex; flex-direction: row; flex-wrap: wrap; justify-content: flex-start; width: 100% }\n",
       "    .wandb-col { display: flex; flex-direction: column; flex-basis: 100%; flex: 1; padding: 10px; }\n",
       "    </style>\n",
       "<div class=\"wandb-row\"><div class=\"wandb-col\"><h3>Run history:</h3><br/><table class=\"wandb\"><tr><td>train_acc</td><td>▁▃▄▆▆▇▇▇██</td></tr><tr><td>train_loss</td><td>█▆▆▆▄▃▂▃▁▁</td></tr><tr><td>val_acc</td><td>▁▃▄▅▆▇▇▇██</td></tr><tr><td>val_loss</td><td>█▇▆▅▄▄▃▂▂▁</td></tr></table><br/></div><div class=\"wandb-col\"><h3>Run summary:</h3><br/><table class=\"wandb\"><tr><td>train_acc</td><td>0.98257</td></tr><tr><td>train_loss</td><td>-984.17706</td></tr><tr><td>val_acc</td><td>0.9685</td></tr><tr><td>val_loss</td><td>-998.68206</td></tr></table><br/></div></div>"
      ],
      "text/plain": [
       "<IPython.core.display.HTML object>"
      ]
     },
     "metadata": {},
     "output_type": "display_data"
    },
    {
     "data": {
      "text/html": [
       " View run <strong style=\"color:#cdcd00\">polar-sweep-4</strong> at: <a href='https://wandb.ai/viswa_ee/CS6910/runs/yke8gmtz' target=\"_blank\">https://wandb.ai/viswa_ee/CS6910/runs/yke8gmtz</a><br/>Synced 4 W&B file(s), 1 media file(s), 0 artifact file(s) and 0 other file(s)"
      ],
      "text/plain": [
       "<IPython.core.display.HTML object>"
      ]
     },
     "metadata": {},
     "output_type": "display_data"
    },
    {
     "data": {
      "text/html": [
       "Find logs at: <code>.\\wandb\\run-20230318_014914-yke8gmtz\\logs</code>"
      ],
      "text/plain": [
       "<IPython.core.display.HTML object>"
      ]
     },
     "metadata": {},
     "output_type": "display_data"
    },
    {
     "name": "stderr",
     "output_type": "stream",
     "text": [
      "\u001b[34m\u001b[1mwandb\u001b[0m: Agent Starting Run: 6bhflad2 with config:\n",
      "\u001b[34m\u001b[1mwandb\u001b[0m: \tact_func: identity\n",
      "\u001b[34m\u001b[1mwandb\u001b[0m: \toptim_algo: nadam\n",
      "\u001b[34m\u001b[1mwandb\u001b[0m: \tweights_init: xavier_uniform\n",
      "Failed to detect the name of this notebook, you can set it manually with the WANDB_NOTEBOOK_NAME environment variable to enable code saving.\n"
     ]
    },
    {
     "data": {
      "text/html": [
       "Tracking run with wandb version 0.14.0"
      ],
      "text/plain": [
       "<IPython.core.display.HTML object>"
      ]
     },
     "metadata": {},
     "output_type": "display_data"
    },
    {
     "data": {
      "text/html": [
       "Run data is saved locally in <code>d:\\CS6901\\wandb\\run-20230318_015141-6bhflad2</code>"
      ],
      "text/plain": [
       "<IPython.core.display.HTML object>"
      ]
     },
     "metadata": {},
     "output_type": "display_data"
    },
    {
     "data": {
      "text/html": [
       "Syncing run <strong><a href='https://wandb.ai/viswa_ee/CS6910/runs/6bhflad2' target=\"_blank\">elated-sweep-5</a></strong> to <a href='https://wandb.ai/viswa_ee/CS6910' target=\"_blank\">Weights & Biases</a> (<a href='https://wandb.me/run' target=\"_blank\">docs</a>)<br/>Sweep page: <a href='https://wandb.ai/viswa_ee/CS6910/sweeps/faldzlw8' target=\"_blank\">https://wandb.ai/viswa_ee/CS6910/sweeps/faldzlw8</a>"
      ],
      "text/plain": [
       "<IPython.core.display.HTML object>"
      ]
     },
     "metadata": {},
     "output_type": "display_data"
    },
    {
     "data": {
      "text/html": [
       " View project at <a href='https://wandb.ai/viswa_ee/CS6910' target=\"_blank\">https://wandb.ai/viswa_ee/CS6910</a>"
      ],
      "text/plain": [
       "<IPython.core.display.HTML object>"
      ]
     },
     "metadata": {},
     "output_type": "display_data"
    },
    {
     "data": {
      "text/html": [
       " View sweep at <a href='https://wandb.ai/viswa_ee/CS6910/sweeps/faldzlw8' target=\"_blank\">https://wandb.ai/viswa_ee/CS6910/sweeps/faldzlw8</a>"
      ],
      "text/plain": [
       "<IPython.core.display.HTML object>"
      ]
     },
     "metadata": {},
     "output_type": "display_data"
    },
    {
     "data": {
      "text/html": [
       " View run at <a href='https://wandb.ai/viswa_ee/CS6910/runs/6bhflad2' target=\"_blank\">https://wandb.ai/viswa_ee/CS6910/runs/6bhflad2</a>"
      ],
      "text/plain": [
       "<IPython.core.display.HTML object>"
      ]
     },
     "metadata": {},
     "output_type": "display_data"
    },
    {
     "data": {
      "text/html": [
       "Waiting for W&B process to finish... <strong style=\"color:green\">(success).</strong>"
      ],
      "text/plain": [
       "<IPython.core.display.HTML object>"
      ]
     },
     "metadata": {},
     "output_type": "display_data"
    },
    {
     "data": {
      "text/html": [
       "<style>\n",
       "    table.wandb td:nth-child(1) { padding: 0 10px; text-align: left ; width: auto;} td:nth-child(2) {text-align: left ; width: 100%}\n",
       "    .wandb-row { display: flex; flex-direction: row; flex-wrap: wrap; justify-content: flex-start; width: 100% }\n",
       "    .wandb-col { display: flex; flex-direction: column; flex-basis: 100%; flex: 1; padding: 10px; }\n",
       "    </style>\n",
       "<div class=\"wandb-row\"><div class=\"wandb-col\"><h3>Run history:</h3><br/><table class=\"wandb\"><tr><td>train_acc</td><td>▁▃▅▆▆▇▇███</td></tr><tr><td>train_loss</td><td>█▇▆▅▅▄▃▃▂▁</td></tr><tr><td>val_acc</td><td>▁▄▅▅▆▇█▇██</td></tr><tr><td>val_loss</td><td>█▇▆▅▅▄▃▃▂▁</td></tr></table><br/></div><div class=\"wandb-col\"><h3>Run summary:</h3><br/><table class=\"wandb\"><tr><td>train_acc</td><td>0.98276</td></tr><tr><td>train_loss</td><td>-1105.23914</td></tr><tr><td>val_acc</td><td>0.96767</td></tr><tr><td>val_loss</td><td>-1057.52321</td></tr></table><br/></div></div>"
      ],
      "text/plain": [
       "<IPython.core.display.HTML object>"
      ]
     },
     "metadata": {},
     "output_type": "display_data"
    },
    {
     "data": {
      "text/html": [
       " View run <strong style=\"color:#cdcd00\">elated-sweep-5</strong> at: <a href='https://wandb.ai/viswa_ee/CS6910/runs/6bhflad2' target=\"_blank\">https://wandb.ai/viswa_ee/CS6910/runs/6bhflad2</a><br/>Synced 4 W&B file(s), 1 media file(s), 0 artifact file(s) and 0 other file(s)"
      ],
      "text/plain": [
       "<IPython.core.display.HTML object>"
      ]
     },
     "metadata": {},
     "output_type": "display_data"
    },
    {
     "data": {
      "text/html": [
       "Find logs at: <code>.\\wandb\\run-20230318_015141-6bhflad2\\logs</code>"
      ],
      "text/plain": [
       "<IPython.core.display.HTML object>"
      ]
     },
     "metadata": {},
     "output_type": "display_data"
    },
    {
     "name": "stderr",
     "output_type": "stream",
     "text": [
      "\u001b[34m\u001b[1mwandb\u001b[0m: Agent Starting Run: d1drj0kd with config:\n",
      "\u001b[34m\u001b[1mwandb\u001b[0m: \tact_func: tanh\n",
      "\u001b[34m\u001b[1mwandb\u001b[0m: \toptim_algo: nadam\n",
      "\u001b[34m\u001b[1mwandb\u001b[0m: \tweights_init: xavier_uniform\n",
      "Failed to detect the name of this notebook, you can set it manually with the WANDB_NOTEBOOK_NAME environment variable to enable code saving.\n"
     ]
    },
    {
     "data": {
      "text/html": [
       "Tracking run with wandb version 0.14.0"
      ],
      "text/plain": [
       "<IPython.core.display.HTML object>"
      ]
     },
     "metadata": {},
     "output_type": "display_data"
    },
    {
     "data": {
      "text/html": [
       "Run data is saved locally in <code>d:\\CS6901\\wandb\\run-20230318_015450-d1drj0kd</code>"
      ],
      "text/plain": [
       "<IPython.core.display.HTML object>"
      ]
     },
     "metadata": {},
     "output_type": "display_data"
    },
    {
     "data": {
      "text/html": [
       "Syncing run <strong><a href='https://wandb.ai/viswa_ee/CS6910/runs/d1drj0kd' target=\"_blank\">lunar-sweep-6</a></strong> to <a href='https://wandb.ai/viswa_ee/CS6910' target=\"_blank\">Weights & Biases</a> (<a href='https://wandb.me/run' target=\"_blank\">docs</a>)<br/>Sweep page: <a href='https://wandb.ai/viswa_ee/CS6910/sweeps/faldzlw8' target=\"_blank\">https://wandb.ai/viswa_ee/CS6910/sweeps/faldzlw8</a>"
      ],
      "text/plain": [
       "<IPython.core.display.HTML object>"
      ]
     },
     "metadata": {},
     "output_type": "display_data"
    },
    {
     "data": {
      "text/html": [
       " View project at <a href='https://wandb.ai/viswa_ee/CS6910' target=\"_blank\">https://wandb.ai/viswa_ee/CS6910</a>"
      ],
      "text/plain": [
       "<IPython.core.display.HTML object>"
      ]
     },
     "metadata": {},
     "output_type": "display_data"
    },
    {
     "data": {
      "text/html": [
       " View sweep at <a href='https://wandb.ai/viswa_ee/CS6910/sweeps/faldzlw8' target=\"_blank\">https://wandb.ai/viswa_ee/CS6910/sweeps/faldzlw8</a>"
      ],
      "text/plain": [
       "<IPython.core.display.HTML object>"
      ]
     },
     "metadata": {},
     "output_type": "display_data"
    },
    {
     "data": {
      "text/html": [
       " View run at <a href='https://wandb.ai/viswa_ee/CS6910/runs/d1drj0kd' target=\"_blank\">https://wandb.ai/viswa_ee/CS6910/runs/d1drj0kd</a>"
      ],
      "text/plain": [
       "<IPython.core.display.HTML object>"
      ]
     },
     "metadata": {},
     "output_type": "display_data"
    },
    {
     "data": {
      "text/html": [
       "Waiting for W&B process to finish... <strong style=\"color:green\">(success).</strong>"
      ],
      "text/plain": [
       "<IPython.core.display.HTML object>"
      ]
     },
     "metadata": {},
     "output_type": "display_data"
    },
    {
     "data": {
      "text/html": [
       "<style>\n",
       "    table.wandb td:nth-child(1) { padding: 0 10px; text-align: left ; width: auto;} td:nth-child(2) {text-align: left ; width: 100%}\n",
       "    .wandb-row { display: flex; flex-direction: row; flex-wrap: wrap; justify-content: flex-start; width: 100% }\n",
       "    .wandb-col { display: flex; flex-direction: column; flex-basis: 100%; flex: 1; padding: 10px; }\n",
       "    </style>\n",
       "<div class=\"wandb-row\"><div class=\"wandb-col\"><h3>Run history:</h3><br/><table class=\"wandb\"><tr><td>train_acc</td><td>▁▃▅▅▆▇▇███</td></tr><tr><td>train_loss</td><td>█▆▆▅▄▄▃▁▁▁</td></tr><tr><td>val_acc</td><td>▁▃▅▅▅▇██▇█</td></tr><tr><td>val_loss</td><td>█▇▆▅▄▄▃▂▂▁</td></tr></table><br/></div><div class=\"wandb-col\"><h3>Run summary:</h3><br/><table class=\"wandb\"><tr><td>train_acc</td><td>0.98294</td></tr><tr><td>train_loss</td><td>-954.79297</td></tr><tr><td>val_acc</td><td>0.96683</td></tr><tr><td>val_loss</td><td>-994.13857</td></tr></table><br/></div></div>"
      ],
      "text/plain": [
       "<IPython.core.display.HTML object>"
      ]
     },
     "metadata": {},
     "output_type": "display_data"
    },
    {
     "data": {
      "text/html": [
       " View run <strong style=\"color:#cdcd00\">lunar-sweep-6</strong> at: <a href='https://wandb.ai/viswa_ee/CS6910/runs/d1drj0kd' target=\"_blank\">https://wandb.ai/viswa_ee/CS6910/runs/d1drj0kd</a><br/>Synced 4 W&B file(s), 1 media file(s), 0 artifact file(s) and 0 other file(s)"
      ],
      "text/plain": [
       "<IPython.core.display.HTML object>"
      ]
     },
     "metadata": {},
     "output_type": "display_data"
    },
    {
     "data": {
      "text/html": [
       "Find logs at: <code>.\\wandb\\run-20230318_015450-d1drj0kd\\logs</code>"
      ],
      "text/plain": [
       "<IPython.core.display.HTML object>"
      ]
     },
     "metadata": {},
     "output_type": "display_data"
    },
    {
     "name": "stderr",
     "output_type": "stream",
     "text": [
      "\u001b[34m\u001b[1mwandb\u001b[0m: Agent Starting Run: l5ijywas with config:\n",
      "\u001b[34m\u001b[1mwandb\u001b[0m: \tact_func: identity\n",
      "\u001b[34m\u001b[1mwandb\u001b[0m: \toptim_algo: nag\n",
      "\u001b[34m\u001b[1mwandb\u001b[0m: \tweights_init: xavier_uniform\n",
      "Failed to detect the name of this notebook, you can set it manually with the WANDB_NOTEBOOK_NAME environment variable to enable code saving.\n"
     ]
    },
    {
     "data": {
      "text/html": [
       "Tracking run with wandb version 0.14.0"
      ],
      "text/plain": [
       "<IPython.core.display.HTML object>"
      ]
     },
     "metadata": {},
     "output_type": "display_data"
    },
    {
     "data": {
      "text/html": [
       "Run data is saved locally in <code>d:\\CS6901\\wandb\\run-20230318_015734-l5ijywas</code>"
      ],
      "text/plain": [
       "<IPython.core.display.HTML object>"
      ]
     },
     "metadata": {},
     "output_type": "display_data"
    },
    {
     "data": {
      "text/html": [
       "Syncing run <strong><a href='https://wandb.ai/viswa_ee/CS6910/runs/l5ijywas' target=\"_blank\">bright-sweep-7</a></strong> to <a href='https://wandb.ai/viswa_ee/CS6910' target=\"_blank\">Weights & Biases</a> (<a href='https://wandb.me/run' target=\"_blank\">docs</a>)<br/>Sweep page: <a href='https://wandb.ai/viswa_ee/CS6910/sweeps/faldzlw8' target=\"_blank\">https://wandb.ai/viswa_ee/CS6910/sweeps/faldzlw8</a>"
      ],
      "text/plain": [
       "<IPython.core.display.HTML object>"
      ]
     },
     "metadata": {},
     "output_type": "display_data"
    },
    {
     "data": {
      "text/html": [
       " View project at <a href='https://wandb.ai/viswa_ee/CS6910' target=\"_blank\">https://wandb.ai/viswa_ee/CS6910</a>"
      ],
      "text/plain": [
       "<IPython.core.display.HTML object>"
      ]
     },
     "metadata": {},
     "output_type": "display_data"
    },
    {
     "data": {
      "text/html": [
       " View sweep at <a href='https://wandb.ai/viswa_ee/CS6910/sweeps/faldzlw8' target=\"_blank\">https://wandb.ai/viswa_ee/CS6910/sweeps/faldzlw8</a>"
      ],
      "text/plain": [
       "<IPython.core.display.HTML object>"
      ]
     },
     "metadata": {},
     "output_type": "display_data"
    },
    {
     "data": {
      "text/html": [
       " View run at <a href='https://wandb.ai/viswa_ee/CS6910/runs/l5ijywas' target=\"_blank\">https://wandb.ai/viswa_ee/CS6910/runs/l5ijywas</a>"
      ],
      "text/plain": [
       "<IPython.core.display.HTML object>"
      ]
     },
     "metadata": {},
     "output_type": "display_data"
    },
    {
     "data": {
      "text/html": [
       "Waiting for W&B process to finish... <strong style=\"color:green\">(success).</strong>"
      ],
      "text/plain": [
       "<IPython.core.display.HTML object>"
      ]
     },
     "metadata": {},
     "output_type": "display_data"
    },
    {
     "data": {
      "text/html": [
       "<style>\n",
       "    table.wandb td:nth-child(1) { padding: 0 10px; text-align: left ; width: auto;} td:nth-child(2) {text-align: left ; width: 100%}\n",
       "    .wandb-row { display: flex; flex-direction: row; flex-wrap: wrap; justify-content: flex-start; width: 100% }\n",
       "    .wandb-col { display: flex; flex-direction: column; flex-basis: 100%; flex: 1; padding: 10px; }\n",
       "    </style>\n",
       "<div class=\"wandb-row\"><div class=\"wandb-col\"><h3>Run history:</h3><br/><table class=\"wandb\"><tr><td>train_acc</td><td>▆▅▆▂▁▂▂▃█▁</td></tr><tr><td>train_loss</td><td>█▅▂▂▇█▇▇▁▄</td></tr><tr><td>val_acc</td><td>█▆▆▃▃▁▁▆▆▁</td></tr><tr><td>val_loss</td><td>▁▅▄▂▄██▅▃▇</td></tr></table><br/></div><div class=\"wandb-col\"><h3>Run summary:</h3><br/><table class=\"wandb\"><tr><td>train_acc</td><td>0.10085</td></tr><tr><td>train_loss</td><td>-66.19773</td></tr><tr><td>val_acc</td><td>0.10267</td></tr><tr><td>val_loss</td><td>-66.52405</td></tr></table><br/></div></div>"
      ],
      "text/plain": [
       "<IPython.core.display.HTML object>"
      ]
     },
     "metadata": {},
     "output_type": "display_data"
    },
    {
     "data": {
      "text/html": [
       " View run <strong style=\"color:#cdcd00\">bright-sweep-7</strong> at: <a href='https://wandb.ai/viswa_ee/CS6910/runs/l5ijywas' target=\"_blank\">https://wandb.ai/viswa_ee/CS6910/runs/l5ijywas</a><br/>Synced 4 W&B file(s), 1 media file(s), 0 artifact file(s) and 0 other file(s)"
      ],
      "text/plain": [
       "<IPython.core.display.HTML object>"
      ]
     },
     "metadata": {},
     "output_type": "display_data"
    },
    {
     "data": {
      "text/html": [
       "Find logs at: <code>.\\wandb\\run-20230318_015734-l5ijywas\\logs</code>"
      ],
      "text/plain": [
       "<IPython.core.display.HTML object>"
      ]
     },
     "metadata": {},
     "output_type": "display_data"
    },
    {
     "name": "stderr",
     "output_type": "stream",
     "text": [
      "\u001b[34m\u001b[1mwandb\u001b[0m: Agent Starting Run: 6tvu0ljo with config:\n",
      "\u001b[34m\u001b[1mwandb\u001b[0m: \tact_func: relu\n",
      "\u001b[34m\u001b[1mwandb\u001b[0m: \toptim_algo: rmsprop\n",
      "\u001b[34m\u001b[1mwandb\u001b[0m: \tweights_init: random\n",
      "Failed to detect the name of this notebook, you can set it manually with the WANDB_NOTEBOOK_NAME environment variable to enable code saving.\n"
     ]
    },
    {
     "data": {
      "text/html": [
       "Tracking run with wandb version 0.14.0"
      ],
      "text/plain": [
       "<IPython.core.display.HTML object>"
      ]
     },
     "metadata": {},
     "output_type": "display_data"
    },
    {
     "data": {
      "text/html": [
       "Run data is saved locally in <code>d:\\CS6901\\wandb\\run-20230318_015949-6tvu0ljo</code>"
      ],
      "text/plain": [
       "<IPython.core.display.HTML object>"
      ]
     },
     "metadata": {},
     "output_type": "display_data"
    },
    {
     "data": {
      "text/html": [
       "Syncing run <strong><a href='https://wandb.ai/viswa_ee/CS6910/runs/6tvu0ljo' target=\"_blank\">wobbly-sweep-8</a></strong> to <a href='https://wandb.ai/viswa_ee/CS6910' target=\"_blank\">Weights & Biases</a> (<a href='https://wandb.me/run' target=\"_blank\">docs</a>)<br/>Sweep page: <a href='https://wandb.ai/viswa_ee/CS6910/sweeps/faldzlw8' target=\"_blank\">https://wandb.ai/viswa_ee/CS6910/sweeps/faldzlw8</a>"
      ],
      "text/plain": [
       "<IPython.core.display.HTML object>"
      ]
     },
     "metadata": {},
     "output_type": "display_data"
    },
    {
     "data": {
      "text/html": [
       " View project at <a href='https://wandb.ai/viswa_ee/CS6910' target=\"_blank\">https://wandb.ai/viswa_ee/CS6910</a>"
      ],
      "text/plain": [
       "<IPython.core.display.HTML object>"
      ]
     },
     "metadata": {},
     "output_type": "display_data"
    },
    {
     "data": {
      "text/html": [
       " View sweep at <a href='https://wandb.ai/viswa_ee/CS6910/sweeps/faldzlw8' target=\"_blank\">https://wandb.ai/viswa_ee/CS6910/sweeps/faldzlw8</a>"
      ],
      "text/plain": [
       "<IPython.core.display.HTML object>"
      ]
     },
     "metadata": {},
     "output_type": "display_data"
    },
    {
     "data": {
      "text/html": [
       " View run at <a href='https://wandb.ai/viswa_ee/CS6910/runs/6tvu0ljo' target=\"_blank\">https://wandb.ai/viswa_ee/CS6910/runs/6tvu0ljo</a>"
      ],
      "text/plain": [
       "<IPython.core.display.HTML object>"
      ]
     },
     "metadata": {},
     "output_type": "display_data"
    },
    {
     "data": {
      "text/html": [
       "Waiting for W&B process to finish... <strong style=\"color:green\">(success).</strong>"
      ],
      "text/plain": [
       "<IPython.core.display.HTML object>"
      ]
     },
     "metadata": {},
     "output_type": "display_data"
    },
    {
     "data": {
      "text/html": [
       "<style>\n",
       "    table.wandb td:nth-child(1) { padding: 0 10px; text-align: left ; width: auto;} td:nth-child(2) {text-align: left ; width: 100%}\n",
       "    .wandb-row { display: flex; flex-direction: row; flex-wrap: wrap; justify-content: flex-start; width: 100% }\n",
       "    .wandb-col { display: flex; flex-direction: column; flex-basis: 100%; flex: 1; padding: 10px; }\n",
       "    </style>\n",
       "<div class=\"wandb-row\"><div class=\"wandb-col\"><h3>Run history:</h3><br/><table class=\"wandb\"><tr><td>train_acc</td><td>▁▃▄▅▅▆▆▇▇█</td></tr><tr><td>train_loss</td><td>▁▂▁▂▅▇██▇▇</td></tr><tr><td>val_acc</td><td>▁▃▄▅▅▆▇▇▇█</td></tr><tr><td>val_loss</td><td>▁▂▄▅▅▆▇▇██</td></tr></table><br/></div><div class=\"wandb-col\"><h3>Run summary:</h3><br/><table class=\"wandb\"><tr><td>train_acc</td><td>0.35904</td></tr><tr><td>train_loss</td><td>-483.12498</td></tr><tr><td>val_acc</td><td>0.33317</td></tr><tr><td>val_loss</td><td>-409.76272</td></tr></table><br/></div></div>"
      ],
      "text/plain": [
       "<IPython.core.display.HTML object>"
      ]
     },
     "metadata": {},
     "output_type": "display_data"
    },
    {
     "data": {
      "text/html": [
       " View run <strong style=\"color:#cdcd00\">wobbly-sweep-8</strong> at: <a href='https://wandb.ai/viswa_ee/CS6910/runs/6tvu0ljo' target=\"_blank\">https://wandb.ai/viswa_ee/CS6910/runs/6tvu0ljo</a><br/>Synced 4 W&B file(s), 1 media file(s), 0 artifact file(s) and 0 other file(s)"
      ],
      "text/plain": [
       "<IPython.core.display.HTML object>"
      ]
     },
     "metadata": {},
     "output_type": "display_data"
    },
    {
     "data": {
      "text/html": [
       "Find logs at: <code>.\\wandb\\run-20230318_015949-6tvu0ljo\\logs</code>"
      ],
      "text/plain": [
       "<IPython.core.display.HTML object>"
      ]
     },
     "metadata": {},
     "output_type": "display_data"
    },
    {
     "name": "stderr",
     "output_type": "stream",
     "text": [
      "\u001b[34m\u001b[1mwandb\u001b[0m: Agent Starting Run: 5s4gjgzu with config:\n",
      "\u001b[34m\u001b[1mwandb\u001b[0m: \tact_func: identity\n",
      "\u001b[34m\u001b[1mwandb\u001b[0m: \toptim_algo: sgd\n",
      "\u001b[34m\u001b[1mwandb\u001b[0m: \tweights_init: xavier_uniform\n",
      "Failed to detect the name of this notebook, you can set it manually with the WANDB_NOTEBOOK_NAME environment variable to enable code saving.\n"
     ]
    },
    {
     "data": {
      "text/html": [
       "Tracking run with wandb version 0.14.0"
      ],
      "text/plain": [
       "<IPython.core.display.HTML object>"
      ]
     },
     "metadata": {},
     "output_type": "display_data"
    },
    {
     "data": {
      "text/html": [
       "Run data is saved locally in <code>d:\\CS6901\\wandb\\run-20230318_020235-5s4gjgzu</code>"
      ],
      "text/plain": [
       "<IPython.core.display.HTML object>"
      ]
     },
     "metadata": {},
     "output_type": "display_data"
    },
    {
     "data": {
      "text/html": [
       "Syncing run <strong><a href='https://wandb.ai/viswa_ee/CS6910/runs/5s4gjgzu' target=\"_blank\">jolly-sweep-9</a></strong> to <a href='https://wandb.ai/viswa_ee/CS6910' target=\"_blank\">Weights & Biases</a> (<a href='https://wandb.me/run' target=\"_blank\">docs</a>)<br/>Sweep page: <a href='https://wandb.ai/viswa_ee/CS6910/sweeps/faldzlw8' target=\"_blank\">https://wandb.ai/viswa_ee/CS6910/sweeps/faldzlw8</a>"
      ],
      "text/plain": [
       "<IPython.core.display.HTML object>"
      ]
     },
     "metadata": {},
     "output_type": "display_data"
    },
    {
     "data": {
      "text/html": [
       " View project at <a href='https://wandb.ai/viswa_ee/CS6910' target=\"_blank\">https://wandb.ai/viswa_ee/CS6910</a>"
      ],
      "text/plain": [
       "<IPython.core.display.HTML object>"
      ]
     },
     "metadata": {},
     "output_type": "display_data"
    },
    {
     "data": {
      "text/html": [
       " View sweep at <a href='https://wandb.ai/viswa_ee/CS6910/sweeps/faldzlw8' target=\"_blank\">https://wandb.ai/viswa_ee/CS6910/sweeps/faldzlw8</a>"
      ],
      "text/plain": [
       "<IPython.core.display.HTML object>"
      ]
     },
     "metadata": {},
     "output_type": "display_data"
    },
    {
     "data": {
      "text/html": [
       " View run at <a href='https://wandb.ai/viswa_ee/CS6910/runs/5s4gjgzu' target=\"_blank\">https://wandb.ai/viswa_ee/CS6910/runs/5s4gjgzu</a>"
      ],
      "text/plain": [
       "<IPython.core.display.HTML object>"
      ]
     },
     "metadata": {},
     "output_type": "display_data"
    },
    {
     "data": {
      "text/html": [
       "Waiting for W&B process to finish... <strong style=\"color:green\">(success).</strong>"
      ],
      "text/plain": [
       "<IPython.core.display.HTML object>"
      ]
     },
     "metadata": {},
     "output_type": "display_data"
    },
    {
     "data": {
      "text/html": [
       "<style>\n",
       "    table.wandb td:nth-child(1) { padding: 0 10px; text-align: left ; width: auto;} td:nth-child(2) {text-align: left ; width: 100%}\n",
       "    .wandb-row { display: flex; flex-direction: row; flex-wrap: wrap; justify-content: flex-start; width: 100% }\n",
       "    .wandb-col { display: flex; flex-direction: column; flex-basis: 100%; flex: 1; padding: 10px; }\n",
       "    </style>\n",
       "<div class=\"wandb-row\"><div class=\"wandb-col\"><h3>Run history:</h3><br/><table class=\"wandb\"><tr><td>train_acc</td><td>▁▃▄▅▆▆▇▇██</td></tr><tr><td>train_loss</td><td>██▇▇▆▅▅▂▁▂</td></tr><tr><td>val_acc</td><td>▁▃▄▅▆▆▇▇██</td></tr><tr><td>val_loss</td><td>███▇▆▆▅▄▂▁</td></tr></table><br/></div><div class=\"wandb-col\"><h3>Run summary:</h3><br/><table class=\"wandb\"><tr><td>train_acc</td><td>0.63617</td></tr><tr><td>train_loss</td><td>-93.32673</td></tr><tr><td>val_acc</td><td>0.63433</td></tr><tr><td>val_loss</td><td>-99.8868</td></tr></table><br/></div></div>"
      ],
      "text/plain": [
       "<IPython.core.display.HTML object>"
      ]
     },
     "metadata": {},
     "output_type": "display_data"
    },
    {
     "data": {
      "text/html": [
       " View run <strong style=\"color:#cdcd00\">jolly-sweep-9</strong> at: <a href='https://wandb.ai/viswa_ee/CS6910/runs/5s4gjgzu' target=\"_blank\">https://wandb.ai/viswa_ee/CS6910/runs/5s4gjgzu</a><br/>Synced 4 W&B file(s), 1 media file(s), 0 artifact file(s) and 0 other file(s)"
      ],
      "text/plain": [
       "<IPython.core.display.HTML object>"
      ]
     },
     "metadata": {},
     "output_type": "display_data"
    },
    {
     "data": {
      "text/html": [
       "Find logs at: <code>.\\wandb\\run-20230318_020235-5s4gjgzu\\logs</code>"
      ],
      "text/plain": [
       "<IPython.core.display.HTML object>"
      ]
     },
     "metadata": {},
     "output_type": "display_data"
    },
    {
     "name": "stderr",
     "output_type": "stream",
     "text": [
      "\u001b[34m\u001b[1mwandb\u001b[0m: Sweep Agent: Waiting for job.\n",
      "\u001b[34m\u001b[1mwandb\u001b[0m: Job received.\n",
      "\u001b[34m\u001b[1mwandb\u001b[0m: Agent Starting Run: kh1l5ef4 with config:\n",
      "\u001b[34m\u001b[1mwandb\u001b[0m: \tact_func: tanh\n",
      "\u001b[34m\u001b[1mwandb\u001b[0m: \toptim_algo: sgd\n",
      "\u001b[34m\u001b[1mwandb\u001b[0m: \tweights_init: random\n",
      "Failed to detect the name of this notebook, you can set it manually with the WANDB_NOTEBOOK_NAME environment variable to enable code saving.\n"
     ]
    },
    {
     "data": {
      "text/html": [
       "Tracking run with wandb version 0.14.0"
      ],
      "text/plain": [
       "<IPython.core.display.HTML object>"
      ]
     },
     "metadata": {},
     "output_type": "display_data"
    },
    {
     "data": {
      "text/html": [
       "Run data is saved locally in <code>d:\\CS6901\\wandb\\run-20230318_020439-kh1l5ef4</code>"
      ],
      "text/plain": [
       "<IPython.core.display.HTML object>"
      ]
     },
     "metadata": {},
     "output_type": "display_data"
    },
    {
     "data": {
      "text/html": [
       "Syncing run <strong><a href='https://wandb.ai/viswa_ee/CS6910/runs/kh1l5ef4' target=\"_blank\">prime-sweep-10</a></strong> to <a href='https://wandb.ai/viswa_ee/CS6910' target=\"_blank\">Weights & Biases</a> (<a href='https://wandb.me/run' target=\"_blank\">docs</a>)<br/>Sweep page: <a href='https://wandb.ai/viswa_ee/CS6910/sweeps/faldzlw8' target=\"_blank\">https://wandb.ai/viswa_ee/CS6910/sweeps/faldzlw8</a>"
      ],
      "text/plain": [
       "<IPython.core.display.HTML object>"
      ]
     },
     "metadata": {},
     "output_type": "display_data"
    },
    {
     "data": {
      "text/html": [
       " View project at <a href='https://wandb.ai/viswa_ee/CS6910' target=\"_blank\">https://wandb.ai/viswa_ee/CS6910</a>"
      ],
      "text/plain": [
       "<IPython.core.display.HTML object>"
      ]
     },
     "metadata": {},
     "output_type": "display_data"
    },
    {
     "data": {
      "text/html": [
       " View sweep at <a href='https://wandb.ai/viswa_ee/CS6910/sweeps/faldzlw8' target=\"_blank\">https://wandb.ai/viswa_ee/CS6910/sweeps/faldzlw8</a>"
      ],
      "text/plain": [
       "<IPython.core.display.HTML object>"
      ]
     },
     "metadata": {},
     "output_type": "display_data"
    },
    {
     "data": {
      "text/html": [
       " View run at <a href='https://wandb.ai/viswa_ee/CS6910/runs/kh1l5ef4' target=\"_blank\">https://wandb.ai/viswa_ee/CS6910/runs/kh1l5ef4</a>"
      ],
      "text/plain": [
       "<IPython.core.display.HTML object>"
      ]
     },
     "metadata": {},
     "output_type": "display_data"
    },
    {
     "data": {
      "text/html": [
       "Waiting for W&B process to finish... <strong style=\"color:green\">(success).</strong>"
      ],
      "text/plain": [
       "<IPython.core.display.HTML object>"
      ]
     },
     "metadata": {},
     "output_type": "display_data"
    },
    {
     "data": {
      "text/html": [
       "<style>\n",
       "    table.wandb td:nth-child(1) { padding: 0 10px; text-align: left ; width: auto;} td:nth-child(2) {text-align: left ; width: 100%}\n",
       "    .wandb-row { display: flex; flex-direction: row; flex-wrap: wrap; justify-content: flex-start; width: 100% }\n",
       "    .wandb-col { display: flex; flex-direction: column; flex-basis: 100%; flex: 1; padding: 10px; }\n",
       "    </style>\n",
       "<div class=\"wandb-row\"><div class=\"wandb-col\"><h3>Run history:</h3><br/><table class=\"wandb\"><tr><td>train_acc</td><td>▁▂▃▄▄▅▆▇▇█</td></tr><tr><td>train_loss</td><td>▅▃▁▄▄█▅▆█▇</td></tr><tr><td>val_acc</td><td>▁▂▃▄▄▅▆▇▇█</td></tr><tr><td>val_loss</td><td>▁▃▄▅▆▆▇▇██</td></tr></table><br/></div><div class=\"wandb-col\"><h3>Run summary:</h3><br/><table class=\"wandb\"><tr><td>train_acc</td><td>0.19981</td></tr><tr><td>train_loss</td><td>-1196.37712</td></tr><tr><td>val_acc</td><td>0.17617</td></tr><tr><td>val_loss</td><td>-1109.60295</td></tr></table><br/></div></div>"
      ],
      "text/plain": [
       "<IPython.core.display.HTML object>"
      ]
     },
     "metadata": {},
     "output_type": "display_data"
    },
    {
     "data": {
      "text/html": [
       " View run <strong style=\"color:#cdcd00\">prime-sweep-10</strong> at: <a href='https://wandb.ai/viswa_ee/CS6910/runs/kh1l5ef4' target=\"_blank\">https://wandb.ai/viswa_ee/CS6910/runs/kh1l5ef4</a><br/>Synced 4 W&B file(s), 1 media file(s), 0 artifact file(s) and 0 other file(s)"
      ],
      "text/plain": [
       "<IPython.core.display.HTML object>"
      ]
     },
     "metadata": {},
     "output_type": "display_data"
    },
    {
     "data": {
      "text/html": [
       "Find logs at: <code>.\\wandb\\run-20230318_020439-kh1l5ef4\\logs</code>"
      ],
      "text/plain": [
       "<IPython.core.display.HTML object>"
      ]
     },
     "metadata": {},
     "output_type": "display_data"
    },
    {
     "name": "stderr",
     "output_type": "stream",
     "text": [
      "\u001b[34m\u001b[1mwandb\u001b[0m: Agent Starting Run: umm0aa5l with config:\n",
      "\u001b[34m\u001b[1mwandb\u001b[0m: \tact_func: tanh\n",
      "\u001b[34m\u001b[1mwandb\u001b[0m: \toptim_algo: sgdm\n",
      "\u001b[34m\u001b[1mwandb\u001b[0m: \tweights_init: xavier_uniform\n",
      "Failed to detect the name of this notebook, you can set it manually with the WANDB_NOTEBOOK_NAME environment variable to enable code saving.\n"
     ]
    },
    {
     "data": {
      "text/html": [
       "Tracking run with wandb version 0.14.0"
      ],
      "text/plain": [
       "<IPython.core.display.HTML object>"
      ]
     },
     "metadata": {},
     "output_type": "display_data"
    },
    {
     "data": {
      "text/html": [
       "Run data is saved locally in <code>d:\\CS6901\\wandb\\run-20230318_020645-umm0aa5l</code>"
      ],
      "text/plain": [
       "<IPython.core.display.HTML object>"
      ]
     },
     "metadata": {},
     "output_type": "display_data"
    },
    {
     "data": {
      "text/html": [
       "Syncing run <strong><a href='https://wandb.ai/viswa_ee/CS6910/runs/umm0aa5l' target=\"_blank\">gallant-sweep-11</a></strong> to <a href='https://wandb.ai/viswa_ee/CS6910' target=\"_blank\">Weights & Biases</a> (<a href='https://wandb.me/run' target=\"_blank\">docs</a>)<br/>Sweep page: <a href='https://wandb.ai/viswa_ee/CS6910/sweeps/faldzlw8' target=\"_blank\">https://wandb.ai/viswa_ee/CS6910/sweeps/faldzlw8</a>"
      ],
      "text/plain": [
       "<IPython.core.display.HTML object>"
      ]
     },
     "metadata": {},
     "output_type": "display_data"
    },
    {
     "data": {
      "text/html": [
       " View project at <a href='https://wandb.ai/viswa_ee/CS6910' target=\"_blank\">https://wandb.ai/viswa_ee/CS6910</a>"
      ],
      "text/plain": [
       "<IPython.core.display.HTML object>"
      ]
     },
     "metadata": {},
     "output_type": "display_data"
    },
    {
     "data": {
      "text/html": [
       " View sweep at <a href='https://wandb.ai/viswa_ee/CS6910/sweeps/faldzlw8' target=\"_blank\">https://wandb.ai/viswa_ee/CS6910/sweeps/faldzlw8</a>"
      ],
      "text/plain": [
       "<IPython.core.display.HTML object>"
      ]
     },
     "metadata": {},
     "output_type": "display_data"
    },
    {
     "data": {
      "text/html": [
       " View run at <a href='https://wandb.ai/viswa_ee/CS6910/runs/umm0aa5l' target=\"_blank\">https://wandb.ai/viswa_ee/CS6910/runs/umm0aa5l</a>"
      ],
      "text/plain": [
       "<IPython.core.display.HTML object>"
      ]
     },
     "metadata": {},
     "output_type": "display_data"
    },
    {
     "data": {
      "text/html": [
       "Waiting for W&B process to finish... <strong style=\"color:green\">(success).</strong>"
      ],
      "text/plain": [
       "<IPython.core.display.HTML object>"
      ]
     },
     "metadata": {},
     "output_type": "display_data"
    },
    {
     "data": {
      "text/html": [
       "<style>\n",
       "    table.wandb td:nth-child(1) { padding: 0 10px; text-align: left ; width: auto;} td:nth-child(2) {text-align: left ; width: 100%}\n",
       "    .wandb-row { display: flex; flex-direction: row; flex-wrap: wrap; justify-content: flex-start; width: 100% }\n",
       "    .wandb-col { display: flex; flex-direction: column; flex-basis: 100%; flex: 1; padding: 10px; }\n",
       "    </style>\n",
       "<div class=\"wandb-row\"><div class=\"wandb-col\"><h3>Run history:</h3><br/><table class=\"wandb\"><tr><td>train_acc</td><td>▁▃▅▆▆▇▇▇██</td></tr><tr><td>train_loss</td><td>███▇▇▆▅▄▃▁</td></tr><tr><td>val_acc</td><td>▁▃▅▆▆▇▇▇██</td></tr><tr><td>val_loss</td><td>████▇▆▅▄▃▁</td></tr></table><br/></div><div class=\"wandb-col\"><h3>Run summary:</h3><br/><table class=\"wandb\"><tr><td>train_acc</td><td>0.63302</td></tr><tr><td>train_loss</td><td>-97.15063</td></tr><tr><td>val_acc</td><td>0.6295</td></tr><tr><td>val_loss</td><td>-97.08467</td></tr></table><br/></div></div>"
      ],
      "text/plain": [
       "<IPython.core.display.HTML object>"
      ]
     },
     "metadata": {},
     "output_type": "display_data"
    },
    {
     "data": {
      "text/html": [
       " View run <strong style=\"color:#cdcd00\">gallant-sweep-11</strong> at: <a href='https://wandb.ai/viswa_ee/CS6910/runs/umm0aa5l' target=\"_blank\">https://wandb.ai/viswa_ee/CS6910/runs/umm0aa5l</a><br/>Synced 4 W&B file(s), 1 media file(s), 0 artifact file(s) and 0 other file(s)"
      ],
      "text/plain": [
       "<IPython.core.display.HTML object>"
      ]
     },
     "metadata": {},
     "output_type": "display_data"
    },
    {
     "data": {
      "text/html": [
       "Find logs at: <code>.\\wandb\\run-20230318_020645-umm0aa5l\\logs</code>"
      ],
      "text/plain": [
       "<IPython.core.display.HTML object>"
      ]
     },
     "metadata": {},
     "output_type": "display_data"
    },
    {
     "name": "stderr",
     "output_type": "stream",
     "text": [
      "\u001b[34m\u001b[1mwandb\u001b[0m: Sweep Agent: Waiting for job.\n",
      "\u001b[34m\u001b[1mwandb\u001b[0m: Job received.\n",
      "\u001b[34m\u001b[1mwandb\u001b[0m: Agent Starting Run: ia8snqh1 with config:\n",
      "\u001b[34m\u001b[1mwandb\u001b[0m: \tact_func: identity\n",
      "\u001b[34m\u001b[1mwandb\u001b[0m: \toptim_algo: adam\n",
      "\u001b[34m\u001b[1mwandb\u001b[0m: \tweights_init: random\n",
      "Failed to detect the name of this notebook, you can set it manually with the WANDB_NOTEBOOK_NAME environment variable to enable code saving.\n"
     ]
    },
    {
     "data": {
      "text/html": [
       "Tracking run with wandb version 0.14.0"
      ],
      "text/plain": [
       "<IPython.core.display.HTML object>"
      ]
     },
     "metadata": {},
     "output_type": "display_data"
    },
    {
     "data": {
      "text/html": [
       "Run data is saved locally in <code>d:\\CS6901\\wandb\\run-20230318_020854-ia8snqh1</code>"
      ],
      "text/plain": [
       "<IPython.core.display.HTML object>"
      ]
     },
     "metadata": {},
     "output_type": "display_data"
    },
    {
     "data": {
      "text/html": [
       "Syncing run <strong><a href='https://wandb.ai/viswa_ee/CS6910/runs/ia8snqh1' target=\"_blank\">absurd-sweep-12</a></strong> to <a href='https://wandb.ai/viswa_ee/CS6910' target=\"_blank\">Weights & Biases</a> (<a href='https://wandb.me/run' target=\"_blank\">docs</a>)<br/>Sweep page: <a href='https://wandb.ai/viswa_ee/CS6910/sweeps/faldzlw8' target=\"_blank\">https://wandb.ai/viswa_ee/CS6910/sweeps/faldzlw8</a>"
      ],
      "text/plain": [
       "<IPython.core.display.HTML object>"
      ]
     },
     "metadata": {},
     "output_type": "display_data"
    },
    {
     "data": {
      "text/html": [
       " View project at <a href='https://wandb.ai/viswa_ee/CS6910' target=\"_blank\">https://wandb.ai/viswa_ee/CS6910</a>"
      ],
      "text/plain": [
       "<IPython.core.display.HTML object>"
      ]
     },
     "metadata": {},
     "output_type": "display_data"
    },
    {
     "data": {
      "text/html": [
       " View sweep at <a href='https://wandb.ai/viswa_ee/CS6910/sweeps/faldzlw8' target=\"_blank\">https://wandb.ai/viswa_ee/CS6910/sweeps/faldzlw8</a>"
      ],
      "text/plain": [
       "<IPython.core.display.HTML object>"
      ]
     },
     "metadata": {},
     "output_type": "display_data"
    },
    {
     "data": {
      "text/html": [
       " View run at <a href='https://wandb.ai/viswa_ee/CS6910/runs/ia8snqh1' target=\"_blank\">https://wandb.ai/viswa_ee/CS6910/runs/ia8snqh1</a>"
      ],
      "text/plain": [
       "<IPython.core.display.HTML object>"
      ]
     },
     "metadata": {},
     "output_type": "display_data"
    },
    {
     "data": {
      "text/html": [
       "Waiting for W&B process to finish... <strong style=\"color:green\">(success).</strong>"
      ],
      "text/plain": [
       "<IPython.core.display.HTML object>"
      ]
     },
     "metadata": {},
     "output_type": "display_data"
    },
    {
     "data": {
      "text/html": [
       "<style>\n",
       "    table.wandb td:nth-child(1) { padding: 0 10px; text-align: left ; width: auto;} td:nth-child(2) {text-align: left ; width: 100%}\n",
       "    .wandb-row { display: flex; flex-direction: row; flex-wrap: wrap; justify-content: flex-start; width: 100% }\n",
       "    .wandb-col { display: flex; flex-direction: column; flex-basis: 100%; flex: 1; padding: 10px; }\n",
       "    </style>\n",
       "<div class=\"wandb-row\"><div class=\"wandb-col\"><h3>Run history:</h3><br/><table class=\"wandb\"><tr><td>train_acc</td><td>▁▃▄▅▅▆▆▇██</td></tr><tr><td>train_loss</td><td>▁▃▅▃▅▆▇▇▇█</td></tr><tr><td>val_acc</td><td>▁▃▄▅▅▆▇▇▇█</td></tr><tr><td>val_loss</td><td>▁▃▄▅▆▆▇▇██</td></tr></table><br/></div><div class=\"wandb-col\"><h3>Run summary:</h3><br/><table class=\"wandb\"><tr><td>train_acc</td><td>0.38287</td></tr><tr><td>train_loss</td><td>-442.53041</td></tr><tr><td>val_acc</td><td>0.36417</td></tr><tr><td>val_loss</td><td>-453.54951</td></tr></table><br/></div></div>"
      ],
      "text/plain": [
       "<IPython.core.display.HTML object>"
      ]
     },
     "metadata": {},
     "output_type": "display_data"
    },
    {
     "data": {
      "text/html": [
       " View run <strong style=\"color:#cdcd00\">absurd-sweep-12</strong> at: <a href='https://wandb.ai/viswa_ee/CS6910/runs/ia8snqh1' target=\"_blank\">https://wandb.ai/viswa_ee/CS6910/runs/ia8snqh1</a><br/>Synced 4 W&B file(s), 1 media file(s), 0 artifact file(s) and 0 other file(s)"
      ],
      "text/plain": [
       "<IPython.core.display.HTML object>"
      ]
     },
     "metadata": {},
     "output_type": "display_data"
    },
    {
     "data": {
      "text/html": [
       "Find logs at: <code>.\\wandb\\run-20230318_020854-ia8snqh1\\logs</code>"
      ],
      "text/plain": [
       "<IPython.core.display.HTML object>"
      ]
     },
     "metadata": {},
     "output_type": "display_data"
    },
    {
     "name": "stderr",
     "output_type": "stream",
     "text": [
      "\u001b[34m\u001b[1mwandb\u001b[0m: Agent Starting Run: 0kgtq47k with config:\n",
      "\u001b[34m\u001b[1mwandb\u001b[0m: \tact_func: relu\n",
      "\u001b[34m\u001b[1mwandb\u001b[0m: \toptim_algo: sgd\n",
      "\u001b[34m\u001b[1mwandb\u001b[0m: \tweights_init: random\n",
      "Failed to detect the name of this notebook, you can set it manually with the WANDB_NOTEBOOK_NAME environment variable to enable code saving.\n"
     ]
    },
    {
     "data": {
      "text/html": [
       "Tracking run with wandb version 0.14.0"
      ],
      "text/plain": [
       "<IPython.core.display.HTML object>"
      ]
     },
     "metadata": {},
     "output_type": "display_data"
    },
    {
     "data": {
      "text/html": [
       "Run data is saved locally in <code>d:\\CS6901\\wandb\\run-20230318_021123-0kgtq47k</code>"
      ],
      "text/plain": [
       "<IPython.core.display.HTML object>"
      ]
     },
     "metadata": {},
     "output_type": "display_data"
    },
    {
     "data": {
      "text/html": [
       "Syncing run <strong><a href='https://wandb.ai/viswa_ee/CS6910/runs/0kgtq47k' target=\"_blank\">chocolate-sweep-13</a></strong> to <a href='https://wandb.ai/viswa_ee/CS6910' target=\"_blank\">Weights & Biases</a> (<a href='https://wandb.me/run' target=\"_blank\">docs</a>)<br/>Sweep page: <a href='https://wandb.ai/viswa_ee/CS6910/sweeps/faldzlw8' target=\"_blank\">https://wandb.ai/viswa_ee/CS6910/sweeps/faldzlw8</a>"
      ],
      "text/plain": [
       "<IPython.core.display.HTML object>"
      ]
     },
     "metadata": {},
     "output_type": "display_data"
    },
    {
     "data": {
      "text/html": [
       " View project at <a href='https://wandb.ai/viswa_ee/CS6910' target=\"_blank\">https://wandb.ai/viswa_ee/CS6910</a>"
      ],
      "text/plain": [
       "<IPython.core.display.HTML object>"
      ]
     },
     "metadata": {},
     "output_type": "display_data"
    },
    {
     "data": {
      "text/html": [
       " View sweep at <a href='https://wandb.ai/viswa_ee/CS6910/sweeps/faldzlw8' target=\"_blank\">https://wandb.ai/viswa_ee/CS6910/sweeps/faldzlw8</a>"
      ],
      "text/plain": [
       "<IPython.core.display.HTML object>"
      ]
     },
     "metadata": {},
     "output_type": "display_data"
    },
    {
     "data": {
      "text/html": [
       " View run at <a href='https://wandb.ai/viswa_ee/CS6910/runs/0kgtq47k' target=\"_blank\">https://wandb.ai/viswa_ee/CS6910/runs/0kgtq47k</a>"
      ],
      "text/plain": [
       "<IPython.core.display.HTML object>"
      ]
     },
     "metadata": {},
     "output_type": "display_data"
    },
    {
     "data": {
      "text/html": [
       "Waiting for W&B process to finish... <strong style=\"color:green\">(success).</strong>"
      ],
      "text/plain": [
       "<IPython.core.display.HTML object>"
      ]
     },
     "metadata": {},
     "output_type": "display_data"
    },
    {
     "data": {
      "text/html": [
       "<style>\n",
       "    table.wandb td:nth-child(1) { padding: 0 10px; text-align: left ; width: auto;} td:nth-child(2) {text-align: left ; width: 100%}\n",
       "    .wandb-row { display: flex; flex-direction: row; flex-wrap: wrap; justify-content: flex-start; width: 100% }\n",
       "    .wandb-col { display: flex; flex-direction: column; flex-basis: 100%; flex: 1; padding: 10px; }\n",
       "    </style>\n",
       "<div class=\"wandb-row\"><div class=\"wandb-col\"><h3>Run history:</h3><br/><table class=\"wandb\"><tr><td>train_acc</td><td>▁▂▃▄▅▅▆▇▇█</td></tr><tr><td>train_loss</td><td>▃▃▁▇▅▆▇▇▇█</td></tr><tr><td>val_acc</td><td>▁▂▃▄▅▅▆▇▇█</td></tr><tr><td>val_loss</td><td>▁▃▄▅▅▆▇▇██</td></tr></table><br/></div><div class=\"wandb-col\"><h3>Run summary:</h3><br/><table class=\"wandb\"><tr><td>train_acc</td><td>0.19157</td></tr><tr><td>train_loss</td><td>-694.44301</td></tr><tr><td>val_acc</td><td>0.17683</td></tr><tr><td>val_loss</td><td>-824.66343</td></tr></table><br/></div></div>"
      ],
      "text/plain": [
       "<IPython.core.display.HTML object>"
      ]
     },
     "metadata": {},
     "output_type": "display_data"
    },
    {
     "data": {
      "text/html": [
       " View run <strong style=\"color:#cdcd00\">chocolate-sweep-13</strong> at: <a href='https://wandb.ai/viswa_ee/CS6910/runs/0kgtq47k' target=\"_blank\">https://wandb.ai/viswa_ee/CS6910/runs/0kgtq47k</a><br/>Synced 4 W&B file(s), 1 media file(s), 0 artifact file(s) and 0 other file(s)"
      ],
      "text/plain": [
       "<IPython.core.display.HTML object>"
      ]
     },
     "metadata": {},
     "output_type": "display_data"
    },
    {
     "data": {
      "text/html": [
       "Find logs at: <code>.\\wandb\\run-20230318_021123-0kgtq47k\\logs</code>"
      ],
      "text/plain": [
       "<IPython.core.display.HTML object>"
      ]
     },
     "metadata": {},
     "output_type": "display_data"
    },
    {
     "name": "stderr",
     "output_type": "stream",
     "text": [
      "\u001b[34m\u001b[1mwandb\u001b[0m: Agent Starting Run: tk5kyd7x with config:\n",
      "\u001b[34m\u001b[1mwandb\u001b[0m: \tact_func: identity\n",
      "\u001b[34m\u001b[1mwandb\u001b[0m: \toptim_algo: sgd\n",
      "\u001b[34m\u001b[1mwandb\u001b[0m: \tweights_init: xavier_uniform\n",
      "Failed to detect the name of this notebook, you can set it manually with the WANDB_NOTEBOOK_NAME environment variable to enable code saving.\n"
     ]
    },
    {
     "data": {
      "text/html": [
       "Tracking run with wandb version 0.14.0"
      ],
      "text/plain": [
       "<IPython.core.display.HTML object>"
      ]
     },
     "metadata": {},
     "output_type": "display_data"
    },
    {
     "data": {
      "text/html": [
       "Run data is saved locally in <code>d:\\CS6901\\wandb\\run-20230318_021340-tk5kyd7x</code>"
      ],
      "text/plain": [
       "<IPython.core.display.HTML object>"
      ]
     },
     "metadata": {},
     "output_type": "display_data"
    },
    {
     "data": {
      "text/html": [
       "Syncing run <strong><a href='https://wandb.ai/viswa_ee/CS6910/runs/tk5kyd7x' target=\"_blank\">breezy-sweep-14</a></strong> to <a href='https://wandb.ai/viswa_ee/CS6910' target=\"_blank\">Weights & Biases</a> (<a href='https://wandb.me/run' target=\"_blank\">docs</a>)<br/>Sweep page: <a href='https://wandb.ai/viswa_ee/CS6910/sweeps/faldzlw8' target=\"_blank\">https://wandb.ai/viswa_ee/CS6910/sweeps/faldzlw8</a>"
      ],
      "text/plain": [
       "<IPython.core.display.HTML object>"
      ]
     },
     "metadata": {},
     "output_type": "display_data"
    },
    {
     "data": {
      "text/html": [
       " View project at <a href='https://wandb.ai/viswa_ee/CS6910' target=\"_blank\">https://wandb.ai/viswa_ee/CS6910</a>"
      ],
      "text/plain": [
       "<IPython.core.display.HTML object>"
      ]
     },
     "metadata": {},
     "output_type": "display_data"
    },
    {
     "data": {
      "text/html": [
       " View sweep at <a href='https://wandb.ai/viswa_ee/CS6910/sweeps/faldzlw8' target=\"_blank\">https://wandb.ai/viswa_ee/CS6910/sweeps/faldzlw8</a>"
      ],
      "text/plain": [
       "<IPython.core.display.HTML object>"
      ]
     },
     "metadata": {},
     "output_type": "display_data"
    },
    {
     "data": {
      "text/html": [
       " View run at <a href='https://wandb.ai/viswa_ee/CS6910/runs/tk5kyd7x' target=\"_blank\">https://wandb.ai/viswa_ee/CS6910/runs/tk5kyd7x</a>"
      ],
      "text/plain": [
       "<IPython.core.display.HTML object>"
      ]
     },
     "metadata": {},
     "output_type": "display_data"
    },
    {
     "data": {
      "text/html": [
       "Waiting for W&B process to finish... <strong style=\"color:green\">(success).</strong>"
      ],
      "text/plain": [
       "<IPython.core.display.HTML object>"
      ]
     },
     "metadata": {},
     "output_type": "display_data"
    },
    {
     "data": {
      "text/html": [
       "<style>\n",
       "    table.wandb td:nth-child(1) { padding: 0 10px; text-align: left ; width: auto;} td:nth-child(2) {text-align: left ; width: 100%}\n",
       "    .wandb-row { display: flex; flex-direction: row; flex-wrap: wrap; justify-content: flex-start; width: 100% }\n",
       "    .wandb-col { display: flex; flex-direction: column; flex-basis: 100%; flex: 1; padding: 10px; }\n",
       "    </style>\n",
       "<div class=\"wandb-row\"><div class=\"wandb-col\"><h3>Run history:</h3><br/><table class=\"wandb\"><tr><td>train_acc</td><td>▁▃▄▅▆▆▇▇██</td></tr><tr><td>train_loss</td><td>████▆▆▇▅▁▂</td></tr><tr><td>val_acc</td><td>▁▃▄▅▆▆▇▇██</td></tr><tr><td>val_loss</td><td>███▇▇▆▅▄▃▁</td></tr></table><br/></div><div class=\"wandb-col\"><h3>Run summary:</h3><br/><table class=\"wandb\"><tr><td>train_acc</td><td>0.57411</td></tr><tr><td>train_loss</td><td>-86.74662</td></tr><tr><td>val_acc</td><td>0.58417</td></tr><tr><td>val_loss</td><td>-87.63602</td></tr></table><br/></div></div>"
      ],
      "text/plain": [
       "<IPython.core.display.HTML object>"
      ]
     },
     "metadata": {},
     "output_type": "display_data"
    },
    {
     "data": {
      "text/html": [
       " View run <strong style=\"color:#cdcd00\">breezy-sweep-14</strong> at: <a href='https://wandb.ai/viswa_ee/CS6910/runs/tk5kyd7x' target=\"_blank\">https://wandb.ai/viswa_ee/CS6910/runs/tk5kyd7x</a><br/>Synced 4 W&B file(s), 1 media file(s), 0 artifact file(s) and 0 other file(s)"
      ],
      "text/plain": [
       "<IPython.core.display.HTML object>"
      ]
     },
     "metadata": {},
     "output_type": "display_data"
    },
    {
     "data": {
      "text/html": [
       "Find logs at: <code>.\\wandb\\run-20230318_021340-tk5kyd7x\\logs</code>"
      ],
      "text/plain": [
       "<IPython.core.display.HTML object>"
      ]
     },
     "metadata": {},
     "output_type": "display_data"
    },
    {
     "name": "stderr",
     "output_type": "stream",
     "text": [
      "\u001b[34m\u001b[1mwandb\u001b[0m: Agent Starting Run: 0oe1bnxr with config:\n",
      "\u001b[34m\u001b[1mwandb\u001b[0m: \tact_func: relu\n",
      "\u001b[34m\u001b[1mwandb\u001b[0m: \toptim_algo: nag\n",
      "\u001b[34m\u001b[1mwandb\u001b[0m: \tweights_init: random\n",
      "Failed to detect the name of this notebook, you can set it manually with the WANDB_NOTEBOOK_NAME environment variable to enable code saving.\n"
     ]
    },
    {
     "data": {
      "text/html": [
       "Tracking run with wandb version 0.14.0"
      ],
      "text/plain": [
       "<IPython.core.display.HTML object>"
      ]
     },
     "metadata": {},
     "output_type": "display_data"
    },
    {
     "data": {
      "text/html": [
       "Run data is saved locally in <code>d:\\CS6901\\wandb\\run-20230318_021540-0oe1bnxr</code>"
      ],
      "text/plain": [
       "<IPython.core.display.HTML object>"
      ]
     },
     "metadata": {},
     "output_type": "display_data"
    },
    {
     "data": {
      "text/html": [
       "Syncing run <strong><a href='https://wandb.ai/viswa_ee/CS6910/runs/0oe1bnxr' target=\"_blank\">ruby-sweep-15</a></strong> to <a href='https://wandb.ai/viswa_ee/CS6910' target=\"_blank\">Weights & Biases</a> (<a href='https://wandb.me/run' target=\"_blank\">docs</a>)<br/>Sweep page: <a href='https://wandb.ai/viswa_ee/CS6910/sweeps/faldzlw8' target=\"_blank\">https://wandb.ai/viswa_ee/CS6910/sweeps/faldzlw8</a>"
      ],
      "text/plain": [
       "<IPython.core.display.HTML object>"
      ]
     },
     "metadata": {},
     "output_type": "display_data"
    },
    {
     "data": {
      "text/html": [
       " View project at <a href='https://wandb.ai/viswa_ee/CS6910' target=\"_blank\">https://wandb.ai/viswa_ee/CS6910</a>"
      ],
      "text/plain": [
       "<IPython.core.display.HTML object>"
      ]
     },
     "metadata": {},
     "output_type": "display_data"
    },
    {
     "data": {
      "text/html": [
       " View sweep at <a href='https://wandb.ai/viswa_ee/CS6910/sweeps/faldzlw8' target=\"_blank\">https://wandb.ai/viswa_ee/CS6910/sweeps/faldzlw8</a>"
      ],
      "text/plain": [
       "<IPython.core.display.HTML object>"
      ]
     },
     "metadata": {},
     "output_type": "display_data"
    },
    {
     "data": {
      "text/html": [
       " View run at <a href='https://wandb.ai/viswa_ee/CS6910/runs/0oe1bnxr' target=\"_blank\">https://wandb.ai/viswa_ee/CS6910/runs/0oe1bnxr</a>"
      ],
      "text/plain": [
       "<IPython.core.display.HTML object>"
      ]
     },
     "metadata": {},
     "output_type": "display_data"
    },
    {
     "data": {
      "text/html": [
       "Waiting for W&B process to finish... <strong style=\"color:green\">(success).</strong>"
      ],
      "text/plain": [
       "<IPython.core.display.HTML object>"
      ]
     },
     "metadata": {},
     "output_type": "display_data"
    },
    {
     "data": {
      "text/html": [
       "<style>\n",
       "    table.wandb td:nth-child(1) { padding: 0 10px; text-align: left ; width: auto;} td:nth-child(2) {text-align: left ; width: 100%}\n",
       "    .wandb-row { display: flex; flex-direction: row; flex-wrap: wrap; justify-content: flex-start; width: 100% }\n",
       "    .wandb-col { display: flex; flex-direction: column; flex-basis: 100%; flex: 1; padding: 10px; }\n",
       "    </style>\n",
       "<div class=\"wandb-row\"><div class=\"wandb-col\"><h3>Run history:</h3><br/><table class=\"wandb\"><tr><td>train_acc</td><td>▅▇▆▇▅▇█▅█▁</td></tr><tr><td>train_loss</td><td>▆▇▄▁▆▇▃█▁▅</td></tr><tr><td>val_acc</td><td>▄▄█▄▁█▁▁█▄</td></tr><tr><td>val_loss</td><td>▃▁▅▆█▄▄▆▃▄</td></tr></table><br/></div><div class=\"wandb-col\"><h3>Run summary:</h3><br/><table class=\"wandb\"><tr><td>train_acc</td><td>0.08048</td></tr><tr><td>train_loss</td><td>-2041.5116</td></tr><tr><td>val_acc</td><td>0.08567</td></tr><tr><td>val_loss</td><td>-2199.35918</td></tr></table><br/></div></div>"
      ],
      "text/plain": [
       "<IPython.core.display.HTML object>"
      ]
     },
     "metadata": {},
     "output_type": "display_data"
    },
    {
     "data": {
      "text/html": [
       " View run <strong style=\"color:#cdcd00\">ruby-sweep-15</strong> at: <a href='https://wandb.ai/viswa_ee/CS6910/runs/0oe1bnxr' target=\"_blank\">https://wandb.ai/viswa_ee/CS6910/runs/0oe1bnxr</a><br/>Synced 4 W&B file(s), 1 media file(s), 0 artifact file(s) and 0 other file(s)"
      ],
      "text/plain": [
       "<IPython.core.display.HTML object>"
      ]
     },
     "metadata": {},
     "output_type": "display_data"
    },
    {
     "data": {
      "text/html": [
       "Find logs at: <code>.\\wandb\\run-20230318_021540-0oe1bnxr\\logs</code>"
      ],
      "text/plain": [
       "<IPython.core.display.HTML object>"
      ]
     },
     "metadata": {},
     "output_type": "display_data"
    },
    {
     "name": "stderr",
     "output_type": "stream",
     "text": [
      "\u001b[34m\u001b[1mwandb\u001b[0m: Sweep Agent: Waiting for job.\n",
      "\u001b[34m\u001b[1mwandb\u001b[0m: Job received.\n",
      "\u001b[34m\u001b[1mwandb\u001b[0m: Agent Starting Run: wx7eia6f with config:\n",
      "\u001b[34m\u001b[1mwandb\u001b[0m: \tact_func: sigmoid\n",
      "\u001b[34m\u001b[1mwandb\u001b[0m: \toptim_algo: rmsprop\n",
      "\u001b[34m\u001b[1mwandb\u001b[0m: \tweights_init: xavier_uniform\n",
      "Failed to detect the name of this notebook, you can set it manually with the WANDB_NOTEBOOK_NAME environment variable to enable code saving.\n"
     ]
    },
    {
     "data": {
      "text/html": [
       "Tracking run with wandb version 0.14.0"
      ],
      "text/plain": [
       "<IPython.core.display.HTML object>"
      ]
     },
     "metadata": {},
     "output_type": "display_data"
    },
    {
     "data": {
      "text/html": [
       "Run data is saved locally in <code>d:\\CS6901\\wandb\\run-20230318_021814-wx7eia6f</code>"
      ],
      "text/plain": [
       "<IPython.core.display.HTML object>"
      ]
     },
     "metadata": {},
     "output_type": "display_data"
    },
    {
     "data": {
      "text/html": [
       "Syncing run <strong><a href='https://wandb.ai/viswa_ee/CS6910/runs/wx7eia6f' target=\"_blank\">ruby-sweep-16</a></strong> to <a href='https://wandb.ai/viswa_ee/CS6910' target=\"_blank\">Weights & Biases</a> (<a href='https://wandb.me/run' target=\"_blank\">docs</a>)<br/>Sweep page: <a href='https://wandb.ai/viswa_ee/CS6910/sweeps/faldzlw8' target=\"_blank\">https://wandb.ai/viswa_ee/CS6910/sweeps/faldzlw8</a>"
      ],
      "text/plain": [
       "<IPython.core.display.HTML object>"
      ]
     },
     "metadata": {},
     "output_type": "display_data"
    },
    {
     "data": {
      "text/html": [
       " View project at <a href='https://wandb.ai/viswa_ee/CS6910' target=\"_blank\">https://wandb.ai/viswa_ee/CS6910</a>"
      ],
      "text/plain": [
       "<IPython.core.display.HTML object>"
      ]
     },
     "metadata": {},
     "output_type": "display_data"
    },
    {
     "data": {
      "text/html": [
       " View sweep at <a href='https://wandb.ai/viswa_ee/CS6910/sweeps/faldzlw8' target=\"_blank\">https://wandb.ai/viswa_ee/CS6910/sweeps/faldzlw8</a>"
      ],
      "text/plain": [
       "<IPython.core.display.HTML object>"
      ]
     },
     "metadata": {},
     "output_type": "display_data"
    },
    {
     "data": {
      "text/html": [
       " View run at <a href='https://wandb.ai/viswa_ee/CS6910/runs/wx7eia6f' target=\"_blank\">https://wandb.ai/viswa_ee/CS6910/runs/wx7eia6f</a>"
      ],
      "text/plain": [
       "<IPython.core.display.HTML object>"
      ]
     },
     "metadata": {},
     "output_type": "display_data"
    },
    {
     "data": {
      "text/html": [
       "Waiting for W&B process to finish... <strong style=\"color:green\">(success).</strong>"
      ],
      "text/plain": [
       "<IPython.core.display.HTML object>"
      ]
     },
     "metadata": {},
     "output_type": "display_data"
    },
    {
     "data": {
      "text/html": [
       "<style>\n",
       "    table.wandb td:nth-child(1) { padding: 0 10px; text-align: left ; width: auto;} td:nth-child(2) {text-align: left ; width: 100%}\n",
       "    .wandb-row { display: flex; flex-direction: row; flex-wrap: wrap; justify-content: flex-start; width: 100% }\n",
       "    .wandb-col { display: flex; flex-direction: column; flex-basis: 100%; flex: 1; padding: 10px; }\n",
       "    </style>\n",
       "<div class=\"wandb-row\"><div class=\"wandb-col\"><h3>Run history:</h3><br/><table class=\"wandb\"><tr><td>train_acc</td><td>▁▃▅▅▆▇▇▇██</td></tr><tr><td>train_loss</td><td>█▆▅▅▅▄▂▁▂▁</td></tr><tr><td>val_acc</td><td>▁▄▅▅▆▇▇███</td></tr><tr><td>val_loss</td><td>█▇▆▅▄▄▃▂▂▁</td></tr></table><br/></div><div class=\"wandb-col\"><h3>Run summary:</h3><br/><table class=\"wandb\"><tr><td>train_acc</td><td>0.98356</td></tr><tr><td>train_loss</td><td>-1022.14088</td></tr><tr><td>val_acc</td><td>0.96767</td></tr><tr><td>val_loss</td><td>-1015.64368</td></tr></table><br/></div></div>"
      ],
      "text/plain": [
       "<IPython.core.display.HTML object>"
      ]
     },
     "metadata": {},
     "output_type": "display_data"
    },
    {
     "data": {
      "text/html": [
       " View run <strong style=\"color:#cdcd00\">ruby-sweep-16</strong> at: <a href='https://wandb.ai/viswa_ee/CS6910/runs/wx7eia6f' target=\"_blank\">https://wandb.ai/viswa_ee/CS6910/runs/wx7eia6f</a><br/>Synced 4 W&B file(s), 1 media file(s), 0 artifact file(s) and 0 other file(s)"
      ],
      "text/plain": [
       "<IPython.core.display.HTML object>"
      ]
     },
     "metadata": {},
     "output_type": "display_data"
    },
    {
     "data": {
      "text/html": [
       "Find logs at: <code>.\\wandb\\run-20230318_021814-wx7eia6f\\logs</code>"
      ],
      "text/plain": [
       "<IPython.core.display.HTML object>"
      ]
     },
     "metadata": {},
     "output_type": "display_data"
    },
    {
     "name": "stderr",
     "output_type": "stream",
     "text": [
      "\u001b[34m\u001b[1mwandb\u001b[0m: Agent Starting Run: 1dukzkvg with config:\n",
      "\u001b[34m\u001b[1mwandb\u001b[0m: \tact_func: tanh\n",
      "\u001b[34m\u001b[1mwandb\u001b[0m: \toptim_algo: nadam\n",
      "\u001b[34m\u001b[1mwandb\u001b[0m: \tweights_init: xavier_uniform\n",
      "Failed to detect the name of this notebook, you can set it manually with the WANDB_NOTEBOOK_NAME environment variable to enable code saving.\n"
     ]
    },
    {
     "data": {
      "text/html": [
       "Tracking run with wandb version 0.14.0"
      ],
      "text/plain": [
       "<IPython.core.display.HTML object>"
      ]
     },
     "metadata": {},
     "output_type": "display_data"
    },
    {
     "data": {
      "text/html": [
       "Run data is saved locally in <code>d:\\CS6901\\wandb\\run-20230318_022032-1dukzkvg</code>"
      ],
      "text/plain": [
       "<IPython.core.display.HTML object>"
      ]
     },
     "metadata": {},
     "output_type": "display_data"
    },
    {
     "data": {
      "text/html": [
       "Syncing run <strong><a href='https://wandb.ai/viswa_ee/CS6910/runs/1dukzkvg' target=\"_blank\">earthy-sweep-17</a></strong> to <a href='https://wandb.ai/viswa_ee/CS6910' target=\"_blank\">Weights & Biases</a> (<a href='https://wandb.me/run' target=\"_blank\">docs</a>)<br/>Sweep page: <a href='https://wandb.ai/viswa_ee/CS6910/sweeps/faldzlw8' target=\"_blank\">https://wandb.ai/viswa_ee/CS6910/sweeps/faldzlw8</a>"
      ],
      "text/plain": [
       "<IPython.core.display.HTML object>"
      ]
     },
     "metadata": {},
     "output_type": "display_data"
    },
    {
     "data": {
      "text/html": [
       " View project at <a href='https://wandb.ai/viswa_ee/CS6910' target=\"_blank\">https://wandb.ai/viswa_ee/CS6910</a>"
      ],
      "text/plain": [
       "<IPython.core.display.HTML object>"
      ]
     },
     "metadata": {},
     "output_type": "display_data"
    },
    {
     "data": {
      "text/html": [
       " View sweep at <a href='https://wandb.ai/viswa_ee/CS6910/sweeps/faldzlw8' target=\"_blank\">https://wandb.ai/viswa_ee/CS6910/sweeps/faldzlw8</a>"
      ],
      "text/plain": [
       "<IPython.core.display.HTML object>"
      ]
     },
     "metadata": {},
     "output_type": "display_data"
    },
    {
     "data": {
      "text/html": [
       " View run at <a href='https://wandb.ai/viswa_ee/CS6910/runs/1dukzkvg' target=\"_blank\">https://wandb.ai/viswa_ee/CS6910/runs/1dukzkvg</a>"
      ],
      "text/plain": [
       "<IPython.core.display.HTML object>"
      ]
     },
     "metadata": {},
     "output_type": "display_data"
    },
    {
     "data": {
      "text/html": [
       "Waiting for W&B process to finish... <strong style=\"color:green\">(success).</strong>"
      ],
      "text/plain": [
       "<IPython.core.display.HTML object>"
      ]
     },
     "metadata": {},
     "output_type": "display_data"
    },
    {
     "data": {
      "text/html": [
       "<style>\n",
       "    table.wandb td:nth-child(1) { padding: 0 10px; text-align: left ; width: auto;} td:nth-child(2) {text-align: left ; width: 100%}\n",
       "    .wandb-row { display: flex; flex-direction: row; flex-wrap: wrap; justify-content: flex-start; width: 100% }\n",
       "    .wandb-col { display: flex; flex-direction: column; flex-basis: 100%; flex: 1; padding: 10px; }\n",
       "    </style>\n",
       "<div class=\"wandb-row\"><div class=\"wandb-col\"><h3>Run history:</h3><br/><table class=\"wandb\"><tr><td>train_acc</td><td>▁▃▅▅▆▆▇███</td></tr><tr><td>train_loss</td><td>█▇▆▅▅▃▃▃▃▁</td></tr><tr><td>val_acc</td><td>▁▃▅▅▆▇▇▇██</td></tr><tr><td>val_loss</td><td>█▇▆▅▄▄▃▂▂▁</td></tr></table><br/></div><div class=\"wandb-col\"><h3>Run summary:</h3><br/><table class=\"wandb\"><tr><td>train_acc</td><td>0.98337</td></tr><tr><td>train_loss</td><td>-1015.84081</td></tr><tr><td>val_acc</td><td>0.96917</td></tr><tr><td>val_loss</td><td>-1016.36731</td></tr></table><br/></div></div>"
      ],
      "text/plain": [
       "<IPython.core.display.HTML object>"
      ]
     },
     "metadata": {},
     "output_type": "display_data"
    },
    {
     "data": {
      "text/html": [
       " View run <strong style=\"color:#cdcd00\">earthy-sweep-17</strong> at: <a href='https://wandb.ai/viswa_ee/CS6910/runs/1dukzkvg' target=\"_blank\">https://wandb.ai/viswa_ee/CS6910/runs/1dukzkvg</a><br/>Synced 4 W&B file(s), 1 media file(s), 0 artifact file(s) and 0 other file(s)"
      ],
      "text/plain": [
       "<IPython.core.display.HTML object>"
      ]
     },
     "metadata": {},
     "output_type": "display_data"
    },
    {
     "data": {
      "text/html": [
       "Find logs at: <code>.\\wandb\\run-20230318_022032-1dukzkvg\\logs</code>"
      ],
      "text/plain": [
       "<IPython.core.display.HTML object>"
      ]
     },
     "metadata": {},
     "output_type": "display_data"
    },
    {
     "name": "stderr",
     "output_type": "stream",
     "text": [
      "\u001b[34m\u001b[1mwandb\u001b[0m: Agent Starting Run: jq0ichnb with config:\n",
      "\u001b[34m\u001b[1mwandb\u001b[0m: \tact_func: tanh\n",
      "\u001b[34m\u001b[1mwandb\u001b[0m: \toptim_algo: nadam\n",
      "\u001b[34m\u001b[1mwandb\u001b[0m: \tweights_init: xavier_uniform\n",
      "Failed to detect the name of this notebook, you can set it manually with the WANDB_NOTEBOOK_NAME environment variable to enable code saving.\n"
     ]
    },
    {
     "data": {
      "text/html": [
       "Tracking run with wandb version 0.14.0"
      ],
      "text/plain": [
       "<IPython.core.display.HTML object>"
      ]
     },
     "metadata": {},
     "output_type": "display_data"
    },
    {
     "data": {
      "text/html": [
       "Run data is saved locally in <code>d:\\CS6901\\wandb\\run-20230318_022249-jq0ichnb</code>"
      ],
      "text/plain": [
       "<IPython.core.display.HTML object>"
      ]
     },
     "metadata": {},
     "output_type": "display_data"
    },
    {
     "data": {
      "text/html": [
       "Syncing run <strong><a href='https://wandb.ai/viswa_ee/CS6910/runs/jq0ichnb' target=\"_blank\">rich-sweep-18</a></strong> to <a href='https://wandb.ai/viswa_ee/CS6910' target=\"_blank\">Weights & Biases</a> (<a href='https://wandb.me/run' target=\"_blank\">docs</a>)<br/>Sweep page: <a href='https://wandb.ai/viswa_ee/CS6910/sweeps/faldzlw8' target=\"_blank\">https://wandb.ai/viswa_ee/CS6910/sweeps/faldzlw8</a>"
      ],
      "text/plain": [
       "<IPython.core.display.HTML object>"
      ]
     },
     "metadata": {},
     "output_type": "display_data"
    },
    {
     "data": {
      "text/html": [
       " View project at <a href='https://wandb.ai/viswa_ee/CS6910' target=\"_blank\">https://wandb.ai/viswa_ee/CS6910</a>"
      ],
      "text/plain": [
       "<IPython.core.display.HTML object>"
      ]
     },
     "metadata": {},
     "output_type": "display_data"
    },
    {
     "data": {
      "text/html": [
       " View sweep at <a href='https://wandb.ai/viswa_ee/CS6910/sweeps/faldzlw8' target=\"_blank\">https://wandb.ai/viswa_ee/CS6910/sweeps/faldzlw8</a>"
      ],
      "text/plain": [
       "<IPython.core.display.HTML object>"
      ]
     },
     "metadata": {},
     "output_type": "display_data"
    },
    {
     "data": {
      "text/html": [
       " View run at <a href='https://wandb.ai/viswa_ee/CS6910/runs/jq0ichnb' target=\"_blank\">https://wandb.ai/viswa_ee/CS6910/runs/jq0ichnb</a>"
      ],
      "text/plain": [
       "<IPython.core.display.HTML object>"
      ]
     },
     "metadata": {},
     "output_type": "display_data"
    },
    {
     "data": {
      "text/html": [
       "Waiting for W&B process to finish... <strong style=\"color:green\">(success).</strong>"
      ],
      "text/plain": [
       "<IPython.core.display.HTML object>"
      ]
     },
     "metadata": {},
     "output_type": "display_data"
    },
    {
     "data": {
      "text/html": [
       "<style>\n",
       "    table.wandb td:nth-child(1) { padding: 0 10px; text-align: left ; width: auto;} td:nth-child(2) {text-align: left ; width: 100%}\n",
       "    .wandb-row { display: flex; flex-direction: row; flex-wrap: wrap; justify-content: flex-start; width: 100% }\n",
       "    .wandb-col { display: flex; flex-direction: column; flex-basis: 100%; flex: 1; padding: 10px; }\n",
       "    </style>\n",
       "<div class=\"wandb-row\"><div class=\"wandb-col\"><h3>Run history:</h3><br/><table class=\"wandb\"><tr><td>train_acc</td><td>▁▃▄▆▆▇▇▇██</td></tr><tr><td>train_loss</td><td>█▇▆▆▃▄▃▂▁▁</td></tr><tr><td>val_acc</td><td>▁▃▅▆▆▇▇▇██</td></tr><tr><td>val_loss</td><td>█▇▆▅▄▄▃▂▂▁</td></tr></table><br/></div><div class=\"wandb-col\"><h3>Run summary:</h3><br/><table class=\"wandb\"><tr><td>train_acc</td><td>0.98369</td></tr><tr><td>train_loss</td><td>-990.67317</td></tr><tr><td>val_acc</td><td>0.97</td></tr><tr><td>val_loss</td><td>-1014.79948</td></tr></table><br/></div></div>"
      ],
      "text/plain": [
       "<IPython.core.display.HTML object>"
      ]
     },
     "metadata": {},
     "output_type": "display_data"
    },
    {
     "data": {
      "text/html": [
       " View run <strong style=\"color:#cdcd00\">rich-sweep-18</strong> at: <a href='https://wandb.ai/viswa_ee/CS6910/runs/jq0ichnb' target=\"_blank\">https://wandb.ai/viswa_ee/CS6910/runs/jq0ichnb</a><br/>Synced 4 W&B file(s), 1 media file(s), 0 artifact file(s) and 0 other file(s)"
      ],
      "text/plain": [
       "<IPython.core.display.HTML object>"
      ]
     },
     "metadata": {},
     "output_type": "display_data"
    },
    {
     "data": {
      "text/html": [
       "Find logs at: <code>.\\wandb\\run-20230318_022249-jq0ichnb\\logs</code>"
      ],
      "text/plain": [
       "<IPython.core.display.HTML object>"
      ]
     },
     "metadata": {},
     "output_type": "display_data"
    },
    {
     "name": "stderr",
     "output_type": "stream",
     "text": [
      "\u001b[34m\u001b[1mwandb\u001b[0m: Agent Starting Run: spf3y8kc with config:\n",
      "\u001b[34m\u001b[1mwandb\u001b[0m: \tact_func: tanh\n",
      "\u001b[34m\u001b[1mwandb\u001b[0m: \toptim_algo: nadam\n",
      "\u001b[34m\u001b[1mwandb\u001b[0m: \tweights_init: xavier_uniform\n",
      "Failed to detect the name of this notebook, you can set it manually with the WANDB_NOTEBOOK_NAME environment variable to enable code saving.\n"
     ]
    },
    {
     "data": {
      "text/html": [
       "Tracking run with wandb version 0.14.0"
      ],
      "text/plain": [
       "<IPython.core.display.HTML object>"
      ]
     },
     "metadata": {},
     "output_type": "display_data"
    },
    {
     "data": {
      "text/html": [
       "Run data is saved locally in <code>d:\\CS6901\\wandb\\run-20230318_022506-spf3y8kc</code>"
      ],
      "text/plain": [
       "<IPython.core.display.HTML object>"
      ]
     },
     "metadata": {},
     "output_type": "display_data"
    },
    {
     "data": {
      "text/html": [
       "Syncing run <strong><a href='https://wandb.ai/viswa_ee/CS6910/runs/spf3y8kc' target=\"_blank\">robust-sweep-19</a></strong> to <a href='https://wandb.ai/viswa_ee/CS6910' target=\"_blank\">Weights & Biases</a> (<a href='https://wandb.me/run' target=\"_blank\">docs</a>)<br/>Sweep page: <a href='https://wandb.ai/viswa_ee/CS6910/sweeps/faldzlw8' target=\"_blank\">https://wandb.ai/viswa_ee/CS6910/sweeps/faldzlw8</a>"
      ],
      "text/plain": [
       "<IPython.core.display.HTML object>"
      ]
     },
     "metadata": {},
     "output_type": "display_data"
    },
    {
     "data": {
      "text/html": [
       " View project at <a href='https://wandb.ai/viswa_ee/CS6910' target=\"_blank\">https://wandb.ai/viswa_ee/CS6910</a>"
      ],
      "text/plain": [
       "<IPython.core.display.HTML object>"
      ]
     },
     "metadata": {},
     "output_type": "display_data"
    },
    {
     "data": {
      "text/html": [
       " View sweep at <a href='https://wandb.ai/viswa_ee/CS6910/sweeps/faldzlw8' target=\"_blank\">https://wandb.ai/viswa_ee/CS6910/sweeps/faldzlw8</a>"
      ],
      "text/plain": [
       "<IPython.core.display.HTML object>"
      ]
     },
     "metadata": {},
     "output_type": "display_data"
    },
    {
     "data": {
      "text/html": [
       " View run at <a href='https://wandb.ai/viswa_ee/CS6910/runs/spf3y8kc' target=\"_blank\">https://wandb.ai/viswa_ee/CS6910/runs/spf3y8kc</a>"
      ],
      "text/plain": [
       "<IPython.core.display.HTML object>"
      ]
     },
     "metadata": {},
     "output_type": "display_data"
    },
    {
     "data": {
      "text/html": [
       "Waiting for W&B process to finish... <strong style=\"color:green\">(success).</strong>"
      ],
      "text/plain": [
       "<IPython.core.display.HTML object>"
      ]
     },
     "metadata": {},
     "output_type": "display_data"
    },
    {
     "data": {
      "text/html": [
       "<style>\n",
       "    table.wandb td:nth-child(1) { padding: 0 10px; text-align: left ; width: auto;} td:nth-child(2) {text-align: left ; width: 100%}\n",
       "    .wandb-row { display: flex; flex-direction: row; flex-wrap: wrap; justify-content: flex-start; width: 100% }\n",
       "    .wandb-col { display: flex; flex-direction: column; flex-basis: 100%; flex: 1; padding: 10px; }\n",
       "    </style>\n",
       "<div class=\"wandb-row\"><div class=\"wandb-col\"><h3>Run history:</h3><br/><table class=\"wandb\"><tr><td>train_acc</td><td>▁▃▅▅▆▆▇▇██</td></tr><tr><td>train_loss</td><td>█▆▅▅▄▂▃▂▁▁</td></tr><tr><td>val_acc</td><td>▁▃▅▅▆▇▇███</td></tr><tr><td>val_loss</td><td>█▇▆▅▄▄▃▂▂▁</td></tr></table><br/></div><div class=\"wandb-col\"><h3>Run summary:</h3><br/><table class=\"wandb\"><tr><td>train_acc</td><td>0.98333</td></tr><tr><td>train_loss</td><td>-919.54094</td></tr><tr><td>val_acc</td><td>0.96667</td></tr><tr><td>val_loss</td><td>-981.84055</td></tr></table><br/></div></div>"
      ],
      "text/plain": [
       "<IPython.core.display.HTML object>"
      ]
     },
     "metadata": {},
     "output_type": "display_data"
    },
    {
     "data": {
      "text/html": [
       " View run <strong style=\"color:#cdcd00\">robust-sweep-19</strong> at: <a href='https://wandb.ai/viswa_ee/CS6910/runs/spf3y8kc' target=\"_blank\">https://wandb.ai/viswa_ee/CS6910/runs/spf3y8kc</a><br/>Synced 4 W&B file(s), 1 media file(s), 0 artifact file(s) and 0 other file(s)"
      ],
      "text/plain": [
       "<IPython.core.display.HTML object>"
      ]
     },
     "metadata": {},
     "output_type": "display_data"
    },
    {
     "data": {
      "text/html": [
       "Find logs at: <code>.\\wandb\\run-20230318_022506-spf3y8kc\\logs</code>"
      ],
      "text/plain": [
       "<IPython.core.display.HTML object>"
      ]
     },
     "metadata": {},
     "output_type": "display_data"
    },
    {
     "name": "stderr",
     "output_type": "stream",
     "text": [
      "\u001b[34m\u001b[1mwandb\u001b[0m: Agent Starting Run: sz6n5xrq with config:\n",
      "\u001b[34m\u001b[1mwandb\u001b[0m: \tact_func: tanh\n",
      "\u001b[34m\u001b[1mwandb\u001b[0m: \toptim_algo: nadam\n",
      "\u001b[34m\u001b[1mwandb\u001b[0m: \tweights_init: xavier_uniform\n",
      "Failed to detect the name of this notebook, you can set it manually with the WANDB_NOTEBOOK_NAME environment variable to enable code saving.\n"
     ]
    },
    {
     "data": {
      "text/html": [
       "Tracking run with wandb version 0.14.0"
      ],
      "text/plain": [
       "<IPython.core.display.HTML object>"
      ]
     },
     "metadata": {},
     "output_type": "display_data"
    },
    {
     "data": {
      "text/html": [
       "Run data is saved locally in <code>d:\\CS6901\\wandb\\run-20230318_022723-sz6n5xrq</code>"
      ],
      "text/plain": [
       "<IPython.core.display.HTML object>"
      ]
     },
     "metadata": {},
     "output_type": "display_data"
    },
    {
     "data": {
      "text/html": [
       "Syncing run <strong><a href='https://wandb.ai/viswa_ee/CS6910/runs/sz6n5xrq' target=\"_blank\">breezy-sweep-20</a></strong> to <a href='https://wandb.ai/viswa_ee/CS6910' target=\"_blank\">Weights & Biases</a> (<a href='https://wandb.me/run' target=\"_blank\">docs</a>)<br/>Sweep page: <a href='https://wandb.ai/viswa_ee/CS6910/sweeps/faldzlw8' target=\"_blank\">https://wandb.ai/viswa_ee/CS6910/sweeps/faldzlw8</a>"
      ],
      "text/plain": [
       "<IPython.core.display.HTML object>"
      ]
     },
     "metadata": {},
     "output_type": "display_data"
    },
    {
     "data": {
      "text/html": [
       " View project at <a href='https://wandb.ai/viswa_ee/CS6910' target=\"_blank\">https://wandb.ai/viswa_ee/CS6910</a>"
      ],
      "text/plain": [
       "<IPython.core.display.HTML object>"
      ]
     },
     "metadata": {},
     "output_type": "display_data"
    },
    {
     "data": {
      "text/html": [
       " View sweep at <a href='https://wandb.ai/viswa_ee/CS6910/sweeps/faldzlw8' target=\"_blank\">https://wandb.ai/viswa_ee/CS6910/sweeps/faldzlw8</a>"
      ],
      "text/plain": [
       "<IPython.core.display.HTML object>"
      ]
     },
     "metadata": {},
     "output_type": "display_data"
    },
    {
     "data": {
      "text/html": [
       " View run at <a href='https://wandb.ai/viswa_ee/CS6910/runs/sz6n5xrq' target=\"_blank\">https://wandb.ai/viswa_ee/CS6910/runs/sz6n5xrq</a>"
      ],
      "text/plain": [
       "<IPython.core.display.HTML object>"
      ]
     },
     "metadata": {},
     "output_type": "display_data"
    },
    {
     "data": {
      "text/html": [
       "Waiting for W&B process to finish... <strong style=\"color:green\">(success).</strong>"
      ],
      "text/plain": [
       "<IPython.core.display.HTML object>"
      ]
     },
     "metadata": {},
     "output_type": "display_data"
    },
    {
     "data": {
      "text/html": [
       "<style>\n",
       "    table.wandb td:nth-child(1) { padding: 0 10px; text-align: left ; width: auto;} td:nth-child(2) {text-align: left ; width: 100%}\n",
       "    .wandb-row { display: flex; flex-direction: row; flex-wrap: wrap; justify-content: flex-start; width: 100% }\n",
       "    .wandb-col { display: flex; flex-direction: column; flex-basis: 100%; flex: 1; padding: 10px; }\n",
       "    </style>\n",
       "<div class=\"wandb-row\"><div class=\"wandb-col\"><h3>Run history:</h3><br/><table class=\"wandb\"><tr><td>train_acc</td><td>▁▃▅▆▇▇▇▇██</td></tr><tr><td>train_loss</td><td>██▆▅▅▄▄▁▂▂</td></tr><tr><td>val_acc</td><td>▁▄▅▆▇▇▇▇██</td></tr><tr><td>val_loss</td><td>█▇▆▅▄▄▃▂▂▁</td></tr></table><br/></div><div class=\"wandb-col\"><h3>Run summary:</h3><br/><table class=\"wandb\"><tr><td>train_acc</td><td>0.98235</td></tr><tr><td>train_loss</td><td>-964.48226</td></tr><tr><td>val_acc</td><td>0.9685</td></tr><tr><td>val_loss</td><td>-1019.98217</td></tr></table><br/></div></div>"
      ],
      "text/plain": [
       "<IPython.core.display.HTML object>"
      ]
     },
     "metadata": {},
     "output_type": "display_data"
    },
    {
     "data": {
      "text/html": [
       " View run <strong style=\"color:#cdcd00\">breezy-sweep-20</strong> at: <a href='https://wandb.ai/viswa_ee/CS6910/runs/sz6n5xrq' target=\"_blank\">https://wandb.ai/viswa_ee/CS6910/runs/sz6n5xrq</a><br/>Synced 4 W&B file(s), 1 media file(s), 0 artifact file(s) and 0 other file(s)"
      ],
      "text/plain": [
       "<IPython.core.display.HTML object>"
      ]
     },
     "metadata": {},
     "output_type": "display_data"
    },
    {
     "data": {
      "text/html": [
       "Find logs at: <code>.\\wandb\\run-20230318_022723-sz6n5xrq\\logs</code>"
      ],
      "text/plain": [
       "<IPython.core.display.HTML object>"
      ]
     },
     "metadata": {},
     "output_type": "display_data"
    }
   ],
   "source": [
    "wandb.agent(sweep_id,learn,count=20)"
   ]
  }
 ],
 "metadata": {
  "kernelspec": {
   "display_name": "dl",
   "language": "python",
   "name": "python3"
  },
  "language_info": {
   "codemirror_mode": {
    "name": "ipython",
    "version": 3
   },
   "file_extension": ".py",
   "mimetype": "text/x-python",
   "name": "python",
   "nbconvert_exporter": "python",
   "pygments_lexer": "ipython3",
   "version": "3.9.7"
  },
  "orig_nbformat": 4
 },
 "nbformat": 4,
 "nbformat_minor": 2
}
