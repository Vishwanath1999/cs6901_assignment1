{
 "cells": [
  {
   "cell_type": "code",
   "execution_count": 1,
   "metadata": {},
   "outputs": [],
   "source": [
    "import numpy as np\n",
    "import wandb\n",
    "import matplotlib.pyplot as plt\n",
    "from keras.datasets import fashion_mnist\n",
    "from sklearn.model_selection import train_test_split\n",
    "from sklearn.metrics import confusion_matrix , accuracy_score\n",
    "from scipy.special import log_softmax,softmax\n",
    "import seaborn as sns"
   ]
  },
  {
   "cell_type": "code",
   "execution_count": 2,
   "metadata": {},
   "outputs": [],
   "source": [
    "class FFNN:\n",
    "    def __init__(self,net_size,layer_act,init_wb='random',lr=1e-3,opt='rmsprop',lamda=0,batch_size=64,\\\n",
    "                 n_epochs=10,gamma=0.9,beta=0.999,beta_1=0.9,beta_2=0.999,seed=None,loss='cross_ent',relu_param=0,epsilon=1e-8):\n",
    "        \n",
    "        self.net_size = net_size\n",
    "        self.layer_acts = layer_act\n",
    "        self.init_wb = init_wb\n",
    "        self.lr = lr\n",
    "        self.optim = opt\n",
    "        self.lamda = lamda\n",
    "        self.batch_size = batch_size\n",
    "        self.n_epochs = n_epochs\n",
    "        self.beta_1 = beta_1\n",
    "        self.beta_2 = beta_2\n",
    "        self.loss = loss\n",
    "        self.seed = seed\n",
    "        self.relu_param=relu_param\n",
    "        self.gamma = gamma\n",
    "        self.beta=beta\n",
    "        self.epsilon=epsilon\n",
    "\n",
    "    def onehot_encode(self,y, n_labels):\n",
    "        mat = np.zeros((len(y), n_labels))\n",
    "        for i, val in enumerate(y):\n",
    "            mat[i, val] = 1\n",
    "        return mat.T\n",
    "    \n",
    "    def nn_init(self, network_size, wb_init='random'):\n",
    "\n",
    "        if self.seed is not None:\n",
    "            np.random.seed(self.seed)\n",
    "\n",
    "        params = {}\n",
    "\n",
    "        num_layers = len(network_size)\n",
    "\n",
    "        if wb_init == 'random':\n",
    "            for layer in range(1, num_layers):\n",
    "                params['weights' + str(layer)] = np.random.normal(0,1,(network_size[layer], network_size[layer - 1]))\n",
    "                params['biases' + str(layer)] = np.random.normal(0,1,(network_size[layer], 1))\n",
    "                \n",
    "        elif wb_init == 'xavier_uniform':\n",
    "            for layer in range(1, num_layers):\n",
    "                r = np.sqrt(6.0 / (network_size[layer] + network_size[layer - 1]))\n",
    "                params['weights' + str(layer)] = np.random.uniform(-r, r, (network_size[layer], network_size[layer - 1]))\n",
    "                params['biases' + str(layer)] = np.random.uniform(-r, r, (network_size[layer], 1))\n",
    "        \n",
    "        else:\n",
    "            raise ValueError('Invalid Activation function ...')\n",
    "        return params\n",
    "    \n",
    "    def Linear(self,input_data,diff=False):\n",
    "        input_data = np.array(input_data, dtype=np.float64)\n",
    "        if diff == False:\n",
    "            return input_data\n",
    "        else:\n",
    "            return np.ones_like(input_data)\n",
    "\n",
    "    def ReLU(self, input_data, diff=False):\n",
    "        alpha = self.relu_param\n",
    "        input_data = np.array(input_data, dtype=np.float64)\n",
    "\n",
    "        if diff == False:\n",
    "            return np.where(input_data < 0, alpha * input_data, input_data)\n",
    "\n",
    "        elif diff == True:\n",
    "            output_data = np.ones_like(input_data, dtype=np.float64)\n",
    "            output_data[input_data < 0] = alpha\n",
    "            return output_data\n",
    "    \n",
    "    # def ELU(self,input_data,diff=False):\n",
    "    #     alpha = self.relu_param\n",
    "    #     input_data = np.where(input_data>700,700,input_data)\n",
    "    #     if diff == False:\n",
    "    #         return np.where(input_data < 0, alpha * (np.exp(input_data)-1), input_data)\n",
    "    #     else:\n",
    "    #         output_data = np.ones_like(input_data, dtype=np.float64)\n",
    "    #         output_data[input_data < 0] = alpha*np.exp(input_data)\n",
    "    #         return output_data  \n",
    "    \n",
    "    def sigmoid(self, input_data, diff=False):\n",
    "        input_data = np.where(input_data<-700,-700,input_data)\n",
    "        if not diff:\n",
    "            output_data = 1 / (1 + np.exp(-np.array(input_data)))\n",
    "        else:\n",
    "            s = 1 / (1 + np.exp(-np.array(input_data)))\n",
    "            output_data = s * (1 - s)\n",
    "        return output_data\n",
    "\n",
    "    def Tanh(self, input_data, diff=False):\n",
    "        input_data = np.array(input_data)\n",
    "        input_data = np.clip(input_data,-700,700)\n",
    "        if not diff:\n",
    "            output_data = np.tanh(input_data)\n",
    "        else:\n",
    "            output_data = 1 - np.tanh(input_data) ** 2\n",
    "        return output_data\n",
    "    \n",
    "    def softmax(self,X):\n",
    "        X = np.clip(X,-700,700)\n",
    "        return log_softmax(X,axis=0)\n",
    "\n",
    "    def forward(self,data,acts,params):\n",
    "        if self.seed is not None:\n",
    "            np.random.seed(self.seed)\n",
    "        param_list = []\n",
    "        act_out = data\n",
    "        for idx, act in enumerate(acts,start=1):\n",
    "            data_prev = act_out\n",
    "            Wb = np.dot(params['weights'+str(idx)],data_prev)+params['biases'+str(idx)]\n",
    "\n",
    "            if act == 'sigmoid':\n",
    "                act_out = self.sigmoid(Wb)\n",
    "            elif act == 'tanh':\n",
    "                act_out = self.Tanh(Wb)\n",
    "            elif act == 'relu':\n",
    "                act_out = self.ReLU(Wb)\n",
    "            elif act == 'softmax':\n",
    "                act_out = self.softmax(Wb)\n",
    "            elif act == 'identity':\n",
    "                act_out = self.Linear(Wb)\n",
    "            # elif act == 'elu':\n",
    "            #     act_out == self.ELU(Wb)\n",
    "            else:\n",
    "                raise ValueError('Invalid activation function ...')\n",
    "            \n",
    "            pl = ((data_prev,params['weights'+str(idx)],params['biases'+str(idx)]),Wb)\n",
    "            param_list.append(pl)\n",
    "        return act_out,param_list\n",
    "    \n",
    "    def grad(self,pred,target,params,lamda=0,loss='cross_ent'):\n",
    "        n_class = target.shape[1]\n",
    "        if loss == 'cross_ent':\n",
    "            loss = -np.mean(np.multiply(pred,target),axis=1).sum()\n",
    "        elif loss=='mse':\n",
    "            loss = -np.mean(np.multiply(pred-target,pred-target),axis=1).sum()\n",
    "        else:\n",
    "            raise ValueError('Error function invalid. Please choose either \"cross_ent\" or \"mse\" ')\n",
    "        param_len = len(params)//2\n",
    "\n",
    "        sum_w = 0\n",
    "        for idx in range(1,param_len):\n",
    "            sum_w += np.square(params['weights'+str(idx)]).sum()\n",
    "        loss += sum_w*(lamda/(2*n_class))\n",
    "        return loss\n",
    "\n",
    "    def backward(self,pred,target,param_list,acts,lamda=0,loss='cross_ent'):\n",
    "        grad_tape = {}\n",
    "        lpl = len(param_list)\n",
    "        m,n = pred.shape\n",
    "        target = target.reshape(pred.shape)\n",
    "        if loss == 'cross_ent':\n",
    "            dOut = np.exp(pred) - target\n",
    "        elif loss == 'mse':\n",
    "            dOut = 2*(np.exp(pred) - target)\n",
    "        else:\n",
    "            raise ValueError('Error function invalid. Please choose either \"cross_ent\" or \"mse\" ')\n",
    "\n",
    "        pred,weight,_ = param_list[-1][0]\n",
    "        grad_tape['d_weights'+str(lpl)] = np.dot(dOut,pred.T)/m\n",
    "        grad_tape['d_biases'+str(lpl)] = dOut.sum(axis=1,keepdims=True)/m\n",
    "        grad_tape['d_pred'+str(lpl-1)] = np.dot(weight.T,dOut)\n",
    "\n",
    "        for idx in reversed(range(lpl-1)):\n",
    "            linear_pred,out = param_list[idx]\n",
    "            out_prev,weight,b = linear_pred\n",
    "\n",
    "            m,n = out_prev.shape\n",
    "            dOut_prev = grad_tape['d_pred'+str(idx+1)]\n",
    "\n",
    "            if acts[idx] == 'relu':\n",
    "                dOut = dOut_prev*self.ReLU(out,True)\n",
    "            elif acts[idx] == 'sigmoid':\n",
    "                dOut = dOut_prev*self.sigmoid(out,True)\n",
    "            elif acts[idx] == 'tanh':\n",
    "                dOut = dOut_prev*self.Tanh(out,True)\n",
    "            # elif acts[idx] == 'elu':\n",
    "            #     dOut = dOut_prev*self.ELU(out,True)\n",
    "            elif acts[idx] == 'identity':\n",
    "                dOut = dOut_prev*self.Linear(out,True)            \n",
    "            \n",
    "            grad_tape['d_pred'+str(idx)] = np.dot(weight.T,dOut)\n",
    "            grad_tape['d_weights'+str(idx+1)] = (np.dot(dOut,out_prev.T)+ lamda*weight)/m\n",
    "            grad_tape['d_biases'+str(idx+1)] = dOut.sum(axis=1,keepdims=True)/m\n",
    "        return grad_tape\n",
    "        \n",
    "\n",
    "    def optim_step(self,params,grad_tape,lr,t_step,algo='adam',moment_params=None):\n",
    "        len_param = len(params)//2\n",
    "\n",
    "        if algo == 'sgd':\n",
    "            for idx in range(len_param):\n",
    "                params['weights'+str(idx+1)] -= lr*grad_tape['d_weights'+str(idx+1)]\n",
    "                params['biases'+str(idx+1)] -= lr*grad_tape['d_biases'+str(idx+1)]\n",
    "                moment_params=None\n",
    "        elif algo == 'sgdm':\n",
    "            for idx in range(len_param):\n",
    "                moment_params['v_w'+str(idx+1)] = self.gamma*moment_params['v_w'+str(idx+1)] + (1-self.gamma)*grad_tape['d_weights'+str(idx+1)]\n",
    "                moment_params['v_b'+str(idx+1)] = self.gamma*moment_params['v_b'+str(idx+1)] + (1-self.gamma)*grad_tape['d_biases'+str(idx+1)]\n",
    "\n",
    "                params['weights'+str(idx+1)] -= lr*moment_params['v_w'+str(idx+1)]\n",
    "                params['biases'+str(idx+1)] -= lr*moment_params['v_b'+str(idx+1)]\n",
    "        elif algo == 'nag':\n",
    "            for idx in range(len_param):\n",
    "                moment_params['v_w'+str(idx+1)] = self.gamma*moment_params['v_w'+str(idx+1)] - lr*grad_tape['d_weights'+str(idx+1)]\n",
    "                moment_params['v_b'+str(idx+1)] = self.gamma*moment_params['v_b'+str(idx+1)] - lr*grad_tape['d_biases'+str(idx+1)]\n",
    "\n",
    "                params['weights'+str(idx+1)] -= self.gamma*(moment_params['v_w'+str(idx+1)] - moment_params['v_w_prev'+str(idx+1)])\n",
    "                params['biases'+str(idx+1)] -= self.gamma*(moment_params['v_b'+str(idx+1)] - moment_params['v_b_prev'+str(idx+1)])\n",
    "\n",
    "                moment_params['v_w_prev'+str(idx+1)] = moment_params['v_w'+str(idx+1)]\n",
    "                moment_params['v_b_prev'+str(idx+1)] = moment_params['v_b'+str(idx+1)]\n",
    "\n",
    "        elif algo == 'rmsprop':\n",
    "            for idx in range(len_param):\n",
    "                moment_params['m_b'+str(idx+1)] = self.beta*moment_params['m_b'+str(idx+1)] + (1-self.beta)*(grad_tape['d_biases'+str(idx+1)]**2)\n",
    "                moment_params['m_w'+str(idx+1)] = self.beta*moment_params['m_w'+str(idx+1)] + (1-self.beta)*(grad_tape['d_weights'+str(idx+1)]**2)\n",
    "\n",
    "                params['weights'+str(idx+1)] -= lr*grad_tape['d_weights'+str(idx+1)]/(np.sqrt(moment_params['m_w'+str(idx+1)])+self.epsilon)\n",
    "                params['biases'+str(idx+1)] -= lr*grad_tape['d_biases'+str(idx+1)]/(np.sqrt(moment_params['m_b'+str(idx+1)])+self.epsilon)\n",
    "\n",
    "        elif algo == 'adam':\n",
    "            for idx in range(len_param):\n",
    "                moment_params['v_b'+str(idx+1)] = self.beta_1*moment_params['v_b'+str(idx+1)] + (1-self.beta_1)*grad_tape['d_biases'+str(idx+1)]\n",
    "                moment_params['v_w'+str(idx+1)] = self.beta_1*moment_params['v_w'+str(idx+1)] + (1-self.beta_1)*grad_tape['d_weights'+str(idx+1)]\n",
    "\n",
    "                moment_params['m_b'+str(idx+1)] = self.beta_2*moment_params['m_b'+str(idx+1)] + (1-self.beta_2)*(grad_tape['d_biases'+str(idx+1)]**2)\n",
    "                moment_params['m_w'+str(idx+1)] = self.beta_2*moment_params['m_w'+str(idx+1)] + (1-self.beta_2)*(grad_tape['d_weights'+str(idx+1)]**2)\n",
    "\n",
    "                mod_lr = lr*np.sqrt((1-self.beta_2**t_step)/(1-self.beta_1**t_step+self.epsilon))\n",
    "                params['weights'+str(idx+1)] -= mod_lr*(moment_params['v_w'+str(idx+1)]/(np.sqrt(moment_params['m_w'+str(idx+1)])+self.epsilon))\n",
    "                params['biases'+str(idx+1)] -= mod_lr*(moment_params['v_b'+str(idx+1)]/(np.sqrt(moment_params['m_b'+str(idx+1)])+self.epsilon))\n",
    "        elif algo =='nadam':\n",
    "            for idx in range(len_param):\n",
    "                moment_params['v_b'+str(idx+1)] = self.beta_1*moment_params['v_b'+str(idx+1)] + (1-self.beta_1)*grad_tape['d_biases'+str(idx+1)]\n",
    "                moment_params['v_w'+str(idx+1)] = self.beta_1*moment_params['v_w'+str(idx+1)] + (1-self.beta_1)*grad_tape['d_weights'+str(idx+1)]\n",
    "\n",
    "                moment_params['m_b'+str(idx+1)] = self.beta_2*moment_params['m_b'+str(idx+1)] + (1-self.beta_2)*(grad_tape['d_biases'+str(idx+1)]**2)\n",
    "                moment_params['m_w'+str(idx+1)] = self.beta_2*moment_params['m_w'+str(idx+1)] + (1-self.beta_2)*(grad_tape['d_weights'+str(idx+1)]**2)\n",
    "\n",
    "                mod_lr = lr*np.sqrt((1-self.beta_2**t_step)/(1-self.beta_1**t_step+self.epsilon))\n",
    "                params['weights'+str(idx+1)] -= (mod_lr/(np.sqrt(moment_params['m_w'+str(idx+1)])+self.epsilon))*(self.beta_1*moment_params['v_w'+str(idx+1)] + (1-self.beta_1)*grad_tape['d_weights'+str(idx+1)])\n",
    "                params['biases'+str(idx+1)] -= (mod_lr/(np.sqrt(moment_params['m_b'+str(idx+1)])+self.epsilon))*(self.beta_1*moment_params['v_b'+str(idx+1)] + (1-self.beta_1)*grad_tape['d_biases'+str(idx+1)])\n",
    "        return params,moment_params\n",
    "    \n",
    "    def predict(self,data):\n",
    "        out = self.forward(data,self.layer_acts,self.params)[0]\n",
    "        return np.argmax(out,axis=0),out.T\n",
    "    \n",
    "    def train(self,X_train,Y_train,X_val,Y_val,n_classes=10,wb_log=True):\n",
    "        self.losses=[]\n",
    "        moment_params = {}\n",
    "        m = X_train.shape[1]\n",
    "        y_train = self.onehot_encode(Y_train,n_classes)\n",
    "        y_val = self.onehot_encode(Y_val,n_classes)\n",
    "        self.params = self.nn_init(self.net_size,self.init_wb)\n",
    "        self.t_step = 1\n",
    "        idx = np.arange(m)\n",
    "\n",
    "        if self.optim != 'sgd':\n",
    "            for ii in range(1,len(self.net_size)):\n",
    "                moment_params['v_w'+str(ii)] = np.zeros((self.net_size[ii],self.net_size[ii-1]))\n",
    "                moment_params['v_b'+str(ii)] = np.zeros((self.net_size[ii],1))\n",
    "\n",
    "                moment_params['v_w_prev'+str(ii)] = np.zeros((self.net_size[ii],self.net_size[ii-1]))\n",
    "                moment_params['v_b_prev'+str(ii)] = np.zeros((self.net_size[ii],1))\n",
    "\n",
    "                moment_params['m_w'+str(ii)] = np.zeros((self.net_size[ii],self.net_size[ii-1]))\n",
    "                moment_params['m_b'+str(ii)] = np.zeros((self.net_size[ii],1))\n",
    "        \n",
    "        for _ in range(self.n_epochs):\n",
    "            np.random.shuffle(idx)\n",
    "            X_shuffled = X_train[:,idx]\n",
    "            Y_shuffled = y_train[:,idx]\n",
    "            for ii in range(0,m,self.batch_size):\n",
    "                X_batched = X_shuffled[:,ii:ii+self.batch_size]\n",
    "                Y_batched = Y_shuffled[:,ii:ii+self.batch_size]\n",
    "\n",
    "                out,param_list = self.forward(X_batched,self.layer_acts,self.params)                \n",
    "                loss = self.grad(out,Y_batched,self.params,self.lamda,self.loss)                \n",
    "                self.losses.append(loss)\n",
    "                grads = self.backward(out,Y_batched,param_list,self.layer_acts,self.lamda,self.loss)\n",
    "                self.params,moment_params = self.optim_step(self.params,grads,self.lr,\\\n",
    "                                                            self.t_step,self.optim,moment_params)\n",
    "                self.t_step+=1\n",
    "            y_pred_train,_ = self.predict(X_train)\n",
    "            y_pred_valid,_ = self.predict(X_val)\n",
    "\n",
    "            train_acc = accuracy_score(Y_train,y_pred_train)\n",
    "            val_acc = accuracy_score(Y_val,y_pred_valid)\n",
    "            val_out,_ = self.forward(X_val,self.layer_acts,self.params)\n",
    "            val_loss = self.grad(val_out,y_val,self.params,self.lamda,self.loss)\n",
    "            log = {'train_acc':train_acc, 'val_acc':val_acc,'train_loss':loss,'val_loss':val_loss}#\n",
    "            if wb_log:\n",
    "                wandb.log(log)\n",
    "            else:\n",
    "                print(log)"
   ]
  },
  {
   "cell_type": "code",
   "execution_count": 3,
   "metadata": {},
   "outputs": [],
   "source": [
    "class_names = ['T-shirt/top', 'Trouser', 'Pullover', 'Dress',\n",
    "               'Coat', 'Sandal', 'Shirt', 'Sneaker', 'Bag', 'Ankle boot']"
   ]
  },
  {
   "cell_type": "code",
   "execution_count": 4,
   "metadata": {},
   "outputs": [
    {
     "data": {
      "image/png": "[encoded data removed]",
      "text/plain": [
       "<Figure size 540x288 with 10 Axes>"
      ]
     },
     "metadata": {
      "needs_background": "light"
     },
     "output_type": "display_data"
    }
   ],
   "source": [
    "(x_train, y_train), (x_test, y_test) = fashion_mnist.load_data()\n",
    "\n",
    "class_num = 10\n",
    "num_row = 2\n",
    "num_col = 5# plot images\n",
    "fig, axes = plt.subplots(num_row, num_col, figsize=(1.5*num_col,2*num_row))\n",
    "img_list=[]\n",
    "for i in range(class_num):\n",
    "  ax = axes[i//num_col, i%num_col]\n",
    "  a = np.argmax(y_train == i)\n",
    "  ax.imshow(x_train[a], cmap='gray')\n",
    "  ax.set_title(class_names[i])\n",
    "plt.tight_layout()\n",
    "\n",
    "x_train, x_valid, y_train, y_valid = train_test_split(x_train, y_train, test_size=0.1, random_state=0, stratify=y_train)\n",
    "\n",
    "x_train = x_train.reshape((len(x_train), 28*28))\n",
    "x_train = x_train.astype('float32') / 255\n",
    "\n",
    "x_valid = x_valid.reshape((len(x_valid), 28*28))\n",
    "x_valid = x_valid.astype('float32') / 255\n",
    "\n",
    "# Preprocessing test data\n",
    "x_test = x_test.reshape((len(x_test), 28 * 28))\n",
    "x_test = x_test.astype('float32') / 225"
   ]
  },
  {
   "cell_type": "code",
   "execution_count": 5,
   "metadata": {},
   "outputs": [],
   "source": [
    "X = x_train.T\n",
    "X_valid = x_valid.T\n",
    "Y_valid = y_valid\n",
    "Y = y_train\n",
    "n_class= 10\n",
    "n_hidden = 4\n",
    "layers = []\n",
    "hidden_size=32\n",
    "for i in range(n_hidden+2):\n",
    "    if i == 0:\n",
    "        layers.append(X.shape[0])\n",
    "    elif i == n_hidden+1:\n",
    "        layers.append(n_class)\n",
    "    else:\n",
    "        layers.append(hidden_size)\n",
    "    i = i+1\n",
    "act = []\n",
    "o_act = 'softmax'\n",
    "actvn_fn = 'identity'\n",
    "for i in range(n_hidden+1):\n",
    "    if i == n_hidden:\n",
    "        act.append(o_act)\n",
    "    else:\n",
    "        act.append(actvn_fn)\n",
    "    i = i+1\n",
    "model = FFNN(layers,act,'xavier_uniform',opt='adam')"
   ]
  },
  {
   "cell_type": "code",
   "execution_count": 6,
   "metadata": {},
   "outputs": [],
   "source": [
    "# model.params = model.nn_init(layers)\n",
    "# model.train(X,Y,X_valid,Y_valid,wb_log=False)\n",
    "# y_pred,_ = model.predict(x_test.T)"
   ]
  },
  {
   "cell_type": "code",
   "execution_count": 7,
   "metadata": {},
   "outputs": [],
   "source": [
    "sweep_config = {\n",
    "    'method':'bayes',\n",
    "    'metric':{\n",
    "    'name':'val_acc',\n",
    "    'goal':'maximize'\n",
    "    },\n",
    "    'parameters':{\n",
    "    'n_epochs':{\n",
    "    'values':[5,10]\n",
    "    },\n",
    "    'n_hidden':{\n",
    "    'values':[3,4,5]\n",
    "    },\n",
    "    'n_hidden_units':{\n",
    "    'values':[32,64,128]\n",
    "    },\n",
    "    'l2_coeff':{\n",
    "    'values':[0,5e-4,5e-1]\n",
    "    },\n",
    "    'lr':{\n",
    "    'values':[1e-3,1e-4]\n",
    "    },\n",
    "    'optim_algo':{\n",
    "    'values':['sgd','sgdm','rmsprop','adam','nadam','nag']\n",
    "    },\n",
    "    'batch_size':{\n",
    "    'values':[16,32,64]\n",
    "    },\n",
    "    'weights_init':{\n",
    "    'values':['random','xavier_uniform']\n",
    "    },\n",
    "    'act_func':{\n",
    "    'values':['relu','sigmoid','tanh','identity']\n",
    "    },\n",
    "    'loss_func':{\n",
    "    'values':['cross_ent','mse']\n",
    "    },\n",
    "    'relu_param':{\n",
    "    'values':[0,1e-1,1e-2,1e-3]\n",
    "    }\n",
    "    }\n",
    "}\n"
   ]
  },
  {
   "cell_type": "code",
   "execution_count": 8,
   "metadata": {},
   "outputs": [
    {
     "name": "stderr",
     "output_type": "stream",
     "text": [
      "Failed to detect the name of this notebook, you can set it manually with the WANDB_NOTEBOOK_NAME environment variable to enable code saving.\n"
     ]
    },
    {
     "name": "stdout",
     "output_type": "stream",
     "text": [
      "Create sweep with ID: t38ec2il\n",
      "Sweep URL: https://wandb.ai/viswa_ee/CS6910/sweeps/t38ec2il\n"
     ]
    }
   ],
   "source": [
    "sweep_id = wandb.sweep(sweep_config, entity=\"viswa_ee\", project=\"CS6910\")"
   ]
  },
  {
   "cell_type": "code",
   "execution_count": 9,
   "metadata": {},
   "outputs": [],
   "source": [
    "def learn():\n",
    "    config_defaults={\n",
    "        'n_epochs':10,\n",
    "        'n_hidden':3,\n",
    "        'n_hidden_units':10,\n",
    "        'l2_coeff':0,\n",
    "        'lr':1e-3,\n",
    "        'optim_algo':'sgd',\n",
    "        'batch_size':16,\n",
    "        'weights_init':'random',\n",
    "        'act_func':'relu',\n",
    "        'loss_func':'cross_ent',\n",
    "        'relu_param':0\n",
    "    }\n",
    "    wandb.init(config=config_defaults)\n",
    "    config = wandb.config\n",
    "    X = x_train.T\n",
    "    X_valid = x_valid.T\n",
    "    Y_valid = y_valid\n",
    "    Y = y_train\n",
    "    n_class= 10\n",
    "    class_names = ['T-shirt/top', 'Trouser', 'Pullover', 'Dress',\n",
    "               'Coat', 'Sandal', 'Shirt', 'Sneaker', 'Bag', 'Ankle boot']\n",
    "\n",
    "    layers = []\n",
    "    for i in range(config.n_hidden+2):\n",
    "        if i == 0:\n",
    "            layers.append(X.shape[0])\n",
    "        elif i == config.n_hidden+1:\n",
    "            layers.append(n_class)\n",
    "        else:\n",
    "            layers.append(config.n_hidden_units)\n",
    "        i = i+1\n",
    "    \n",
    "    output_act = 'softmax'\n",
    "    act_fn = config.act_func\n",
    "\n",
    "    acts = []\n",
    "    for i in range(config.n_hidden+1):\n",
    "        if i == config.n_hidden:\n",
    "            acts.append(output_act)\n",
    "        else:\n",
    "            acts.append(act_fn)\n",
    "        i = i+1\n",
    "    \n",
    "    wandb.run.name = config.weights_init+'_'+ config.optim_algo +'_'+ config.act_func + '_bs_' + str(config.batch_size)+'_layers_'+str(config.n_hidden)+'_neurons_'+str(config.n_hidden_units)\n",
    "    model = FFNN(net_size=layers,layer_act=acts,init_wb=config.weights_init,lr=config.lr,opt=config.optim_algo,\\\n",
    "                 lamda=config.l2_coeff,batch_size=config.batch_size,n_epochs=config.n_epochs,loss=config.loss_func,relu_param=config.relu_param)\n",
    "    model.train(X,Y,X_valid,Y_valid)\n",
    "    y_test_pred,_ = model.predict(x_test.T)\n",
    "    cm = confusion_matrix(y_test, y_test_pred)\n",
    "    cm_norm = cm.astype(\"float\") / cm.sum(axis=1)[:, np.newaxis]\n",
    "    fig, ax = plt.subplots(figsize=(8, 6))\n",
    "    sns.heatmap(\n",
    "        cm_norm, annot=True, cmap=\"Blues\", square=True, xticklabels=class_names, yticklabels=class_names\n",
    "    )\n",
    "    plt.ylabel(\"True label\")\n",
    "    plt.xlabel(\"Predicted label\")\n",
    "    # Log the confusion matrix plot to wandb\n",
    "    wandb.log({\"Confusion Matrix\":wandb.Image(fig)})\n",
    "    fig.clf()\n",
    "    plt.close('all')\n",
    "    # log = {'conf_matrix':wandb.plot.confusion_matrix(y_true=y_test,preds=y_test_pred,class_names=class_names)}\n",
    "    # wandb.log(log)\n",
    "    # wandb.log({'conf_mat_'+wandb.run.name:wandb.plot.confusion_matrix(y_true=y_test,preds=y_test_pred,class_names=class_names)})\n",
    "    "
   ]
  },
  {
   "cell_type": "code",
   "execution_count": 10,
   "metadata": {},
   "outputs": [
    {
     "name": "stderr",
     "output_type": "stream",
     "text": [
      "\u001b[34m\u001b[1mwandb\u001b[0m: Agent Starting Run: fzfrooec with config:\n",
      "\u001b[34m\u001b[1mwandb\u001b[0m: \tact_func: sigmoid\n",
      "\u001b[34m\u001b[1mwandb\u001b[0m: \tbatch_size: 32\n",
      "\u001b[34m\u001b[1mwandb\u001b[0m: \tl2_coeff: 0.0005\n",
      "\u001b[34m\u001b[1mwandb\u001b[0m: \tloss_func: cross_ent\n",
      "\u001b[34m\u001b[1mwandb\u001b[0m: \tlr: 0.001\n",
      "\u001b[34m\u001b[1mwandb\u001b[0m: \tn_epochs: 5\n",
      "\u001b[34m\u001b[1mwandb\u001b[0m: \tn_hidden: 4\n",
      "\u001b[34m\u001b[1mwandb\u001b[0m: \tn_hidden_units: 128\n",
      "\u001b[34m\u001b[1mwandb\u001b[0m: \toptim_algo: nadam\n",
      "\u001b[34m\u001b[1mwandb\u001b[0m: \trelu_param: 0.1\n",
      "\u001b[34m\u001b[1mwandb\u001b[0m: \tweight_init: random\n",
      "Failed to detect the name of this notebook, you can set it manually with the WANDB_NOTEBOOK_NAME environment variable to enable code saving.\n",
      "\u001b[34m\u001b[1mwandb\u001b[0m: Currently logged in as: \u001b[33mviswa_ee\u001b[0m. Use \u001b[1m`wandb login --relogin`\u001b[0m to force relogin\n"
     ]
    },
    {
     "data": {
      "text/html": [
       "Tracking run with wandb version 0.14.0"
      ],
      "text/plain": [
       "<IPython.core.display.HTML object>"
      ]
     },
     "metadata": {},
     "output_type": "display_data"
    },
    {
     "data": {
      "text/html": [
       "Run data is saved locally in <code>d:\\CS6901\\wandb\\run-20230317_164027-fzfrooec</code>"
      ],
      "text/plain": [
       "<IPython.core.display.HTML object>"
      ]
     },
     "metadata": {},
     "output_type": "display_data"
    },
    {
     "data": {
      "text/html": [
       "Syncing run <strong><a href='https://wandb.ai/viswa_ee/CS6910/runs/fzfrooec' target=\"_blank\">effortless-sweep-1</a></strong> to <a href='https://wandb.ai/viswa_ee/CS6910' target=\"_blank\">Weights & Biases</a> (<a href='https://wandb.me/run' target=\"_blank\">docs</a>)<br/>Sweep page: <a href='https://wandb.ai/viswa_ee/CS6910/sweeps/t38ec2il' target=\"_blank\">https://wandb.ai/viswa_ee/CS6910/sweeps/t38ec2il</a>"
      ],
      "text/plain": [
       "<IPython.core.display.HTML object>"
      ]
     },
     "metadata": {},
     "output_type": "display_data"
    },
    {
     "data": {
      "text/html": [
       " View project at <a href='https://wandb.ai/viswa_ee/CS6910' target=\"_blank\">https://wandb.ai/viswa_ee/CS6910</a>"
      ],
      "text/plain": [
       "<IPython.core.display.HTML object>"
      ]
     },
     "metadata": {},
     "output_type": "display_data"
    },
    {
     "data": {
      "text/html": [
       " View sweep at <a href='https://wandb.ai/viswa_ee/CS6910/sweeps/t38ec2il' target=\"_blank\">https://wandb.ai/viswa_ee/CS6910/sweeps/t38ec2il</a>"
      ],
      "text/plain": [
       "<IPython.core.display.HTML object>"
      ]
     },
     "metadata": {},
     "output_type": "display_data"
    },
    {
     "data": {
      "text/html": [
       " View run at <a href='https://wandb.ai/viswa_ee/CS6910/runs/fzfrooec' target=\"_blank\">https://wandb.ai/viswa_ee/CS6910/runs/fzfrooec</a>"
      ],
      "text/plain": [
       "<IPython.core.display.HTML object>"
      ]
     },
     "metadata": {},
     "output_type": "display_data"
    },
    {
     "data": {
      "text/html": [
       "Waiting for W&B process to finish... <strong style=\"color:green\">(success).</strong>"
      ],
      "text/plain": [
       "<IPython.core.display.HTML object>"
      ]
     },
     "metadata": {},
     "output_type": "display_data"
    },
    {
     "data": {
      "text/html": [
       "<style>\n",
       "    table.wandb td:nth-child(1) { padding: 0 10px; text-align: left ; width: auto;} td:nth-child(2) {text-align: left ; width: 100%}\n",
       "    .wandb-row { display: flex; flex-direction: row; flex-wrap: wrap; justify-content: flex-start; width: 100% }\n",
       "    .wandb-col { display: flex; flex-direction: column; flex-basis: 100%; flex: 1; padding: 10px; }\n",
       "    </style>\n",
       "<div class=\"wandb-row\"><div class=\"wandb-col\"><h3>Run history:</h3><br/><table class=\"wandb\"><tr><td>train_acc</td><td>▁▃▅▇█</td></tr><tr><td>train_loss</td><td>█▃▁▂▂</td></tr><tr><td>val_acc</td><td>▁▃▅▇█</td></tr><tr><td>val_loss</td><td>█▅▄▂▁</td></tr></table><br/></div><div class=\"wandb-col\"><h3>Run summary:</h3><br/><table class=\"wandb\"><tr><td>train_acc</td><td>0.87009</td></tr><tr><td>train_loss</td><td>1.99813</td></tr><tr><td>val_acc</td><td>0.8415</td></tr><tr><td>val_loss</td><td>0.42736</td></tr></table><br/></div></div>"
      ],
      "text/plain": [
       "<IPython.core.display.HTML object>"
      ]
     },
     "metadata": {},
     "output_type": "display_data"
    },
    {
     "data": {
      "text/html": [
       " View run <strong style=\"color:#cdcd00\">effortless-sweep-1</strong> at: <a href='https://wandb.ai/viswa_ee/CS6910/runs/fzfrooec' target=\"_blank\">https://wandb.ai/viswa_ee/CS6910/runs/fzfrooec</a><br/>Synced 4 W&B file(s), 1 media file(s), 0 artifact file(s) and 0 other file(s)"
      ],
      "text/plain": [
       "<IPython.core.display.HTML object>"
      ]
     },
     "metadata": {},
     "output_type": "display_data"
    },
    {
     "data": {
      "text/html": [
       "Find logs at: <code>.\\wandb\\run-20230317_164027-fzfrooec\\logs</code>"
      ],
      "text/plain": [
       "<IPython.core.display.HTML object>"
      ]
     },
     "metadata": {},
     "output_type": "display_data"
    },
    {
     "name": "stderr",
     "output_type": "stream",
     "text": [
      "\u001b[34m\u001b[1mwandb\u001b[0m: Agent Starting Run: 3tqzz0bg with config:\n",
      "\u001b[34m\u001b[1mwandb\u001b[0m: \tact_func: relu\n",
      "\u001b[34m\u001b[1mwandb\u001b[0m: \tbatch_size: 16\n",
      "\u001b[34m\u001b[1mwandb\u001b[0m: \tl2_coeff: 0.5\n",
      "\u001b[34m\u001b[1mwandb\u001b[0m: \tloss_func: cross_ent\n",
      "\u001b[34m\u001b[1mwandb\u001b[0m: \tlr: 0.0001\n",
      "\u001b[34m\u001b[1mwandb\u001b[0m: \tn_epochs: 5\n",
      "\u001b[34m\u001b[1mwandb\u001b[0m: \tn_hidden: 5\n",
      "\u001b[34m\u001b[1mwandb\u001b[0m: \tn_hidden_units: 32\n",
      "\u001b[34m\u001b[1mwandb\u001b[0m: \toptim_algo: sgdm\n",
      "\u001b[34m\u001b[1mwandb\u001b[0m: \trelu_param: 0.01\n",
      "\u001b[34m\u001b[1mwandb\u001b[0m: \tweight_init: xavier_uniform\n",
      "Failed to detect the name of this notebook, you can set it manually with the WANDB_NOTEBOOK_NAME environment variable to enable code saving.\n"
     ]
    },
    {
     "data": {
      "text/html": [
       "Tracking run with wandb version 0.14.0"
      ],
      "text/plain": [
       "<IPython.core.display.HTML object>"
      ]
     },
     "metadata": {},
     "output_type": "display_data"
    },
    {
     "data": {
      "text/html": [
       "Run data is saved locally in <code>d:\\CS6901\\wandb\\run-20230317_164212-3tqzz0bg</code>"
      ],
      "text/plain": [
       "<IPython.core.display.HTML object>"
      ]
     },
     "metadata": {},
     "output_type": "display_data"
    },
    {
     "data": {
      "text/html": [
       "Syncing run <strong><a href='https://wandb.ai/viswa_ee/CS6910/runs/3tqzz0bg' target=\"_blank\">wandering-sweep-2</a></strong> to <a href='https://wandb.ai/viswa_ee/CS6910' target=\"_blank\">Weights & Biases</a> (<a href='https://wandb.me/run' target=\"_blank\">docs</a>)<br/>Sweep page: <a href='https://wandb.ai/viswa_ee/CS6910/sweeps/t38ec2il' target=\"_blank\">https://wandb.ai/viswa_ee/CS6910/sweeps/t38ec2il</a>"
      ],
      "text/plain": [
       "<IPython.core.display.HTML object>"
      ]
     },
     "metadata": {},
     "output_type": "display_data"
    },
    {
     "data": {
      "text/html": [
       " View project at <a href='https://wandb.ai/viswa_ee/CS6910' target=\"_blank\">https://wandb.ai/viswa_ee/CS6910</a>"
      ],
      "text/plain": [
       "<IPython.core.display.HTML object>"
      ]
     },
     "metadata": {},
     "output_type": "display_data"
    },
    {
     "data": {
      "text/html": [
       " View sweep at <a href='https://wandb.ai/viswa_ee/CS6910/sweeps/t38ec2il' target=\"_blank\">https://wandb.ai/viswa_ee/CS6910/sweeps/t38ec2il</a>"
      ],
      "text/plain": [
       "<IPython.core.display.HTML object>"
      ]
     },
     "metadata": {},
     "output_type": "display_data"
    },
    {
     "data": {
      "text/html": [
       " View run at <a href='https://wandb.ai/viswa_ee/CS6910/runs/3tqzz0bg' target=\"_blank\">https://wandb.ai/viswa_ee/CS6910/runs/3tqzz0bg</a>"
      ],
      "text/plain": [
       "<IPython.core.display.HTML object>"
      ]
     },
     "metadata": {},
     "output_type": "display_data"
    },
    {
     "data": {
      "text/html": [
       "Waiting for W&B process to finish... <strong style=\"color:green\">(success).</strong>"
      ],
      "text/plain": [
       "<IPython.core.display.HTML object>"
      ]
     },
     "metadata": {},
     "output_type": "display_data"
    },
    {
     "data": {
      "text/html": [
       "<style>\n",
       "    table.wandb td:nth-child(1) { padding: 0 10px; text-align: left ; width: auto;} td:nth-child(2) {text-align: left ; width: 100%}\n",
       "    .wandb-row { display: flex; flex-direction: row; flex-wrap: wrap; justify-content: flex-start; width: 100% }\n",
       "    .wandb-col { display: flex; flex-direction: column; flex-basis: 100%; flex: 1; padding: 10px; }\n",
       "    </style>\n",
       "<div class=\"wandb-row\"><div class=\"wandb-col\"><h3>Run history:</h3><br/><table class=\"wandb\"><tr><td>train_acc</td><td>▁▄▄▆█</td></tr><tr><td>train_loss</td><td>█▆▄▃▁</td></tr><tr><td>val_acc</td><td>▁▄▄▆█</td></tr><tr><td>val_loss</td><td>█▄▂▂▁</td></tr></table><br/></div><div class=\"wandb-col\"><h3>Run summary:</h3><br/><table class=\"wandb\"><tr><td>train_acc</td><td>0.40839</td></tr><tr><td>train_loss</td><td>446.14658</td></tr><tr><td>val_acc</td><td>0.40683</td></tr><tr><td>val_loss</td><td>3.48961</td></tr></table><br/></div></div>"
      ],
      "text/plain": [
       "<IPython.core.display.HTML object>"
      ]
     },
     "metadata": {},
     "output_type": "display_data"
    },
    {
     "data": {
      "text/html": [
       " View run <strong style=\"color:#cdcd00\">wandering-sweep-2</strong> at: <a href='https://wandb.ai/viswa_ee/CS6910/runs/3tqzz0bg' target=\"_blank\">https://wandb.ai/viswa_ee/CS6910/runs/3tqzz0bg</a><br/>Synced 4 W&B file(s), 1 media file(s), 0 artifact file(s) and 0 other file(s)"
      ],
      "text/plain": [
       "<IPython.core.display.HTML object>"
      ]
     },
     "metadata": {},
     "output_type": "display_data"
    },
    {
     "data": {
      "text/html": [
       "Find logs at: <code>.\\wandb\\run-20230317_164212-3tqzz0bg\\logs</code>"
      ],
      "text/plain": [
       "<IPython.core.display.HTML object>"
      ]
     },
     "metadata": {},
     "output_type": "display_data"
    },
    {
     "name": "stderr",
     "output_type": "stream",
     "text": [
      "\u001b[34m\u001b[1mwandb\u001b[0m: Sweep Agent: Waiting for job.\n",
      "\u001b[34m\u001b[1mwandb\u001b[0m: Job received.\n",
      "\u001b[34m\u001b[1mwandb\u001b[0m: Agent Starting Run: ryr0qvka with config:\n",
      "\u001b[34m\u001b[1mwandb\u001b[0m: \tact_func: sigmoid\n",
      "\u001b[34m\u001b[1mwandb\u001b[0m: \tbatch_size: 16\n",
      "\u001b[34m\u001b[1mwandb\u001b[0m: \tl2_coeff: 0\n",
      "\u001b[34m\u001b[1mwandb\u001b[0m: \tloss_func: cross_ent\n",
      "\u001b[34m\u001b[1mwandb\u001b[0m: \tlr: 0.0001\n",
      "\u001b[34m\u001b[1mwandb\u001b[0m: \tn_epochs: 10\n",
      "\u001b[34m\u001b[1mwandb\u001b[0m: \tn_hidden: 5\n",
      "\u001b[34m\u001b[1mwandb\u001b[0m: \tn_hidden_units: 32\n",
      "\u001b[34m\u001b[1mwandb\u001b[0m: \toptim_algo: sgdm\n",
      "\u001b[34m\u001b[1mwandb\u001b[0m: \trelu_param: 0.01\n",
      "\u001b[34m\u001b[1mwandb\u001b[0m: \tweight_init: xavier_uniform\n",
      "Failed to detect the name of this notebook, you can set it manually with the WANDB_NOTEBOOK_NAME environment variable to enable code saving.\n"
     ]
    },
    {
     "data": {
      "text/html": [
       "Tracking run with wandb version 0.14.0"
      ],
      "text/plain": [
       "<IPython.core.display.HTML object>"
      ]
     },
     "metadata": {},
     "output_type": "display_data"
    },
    {
     "data": {
      "text/html": [
       "Run data is saved locally in <code>d:\\CS6901\\wandb\\run-20230317_164307-ryr0qvka</code>"
      ],
      "text/plain": [
       "<IPython.core.display.HTML object>"
      ]
     },
     "metadata": {},
     "output_type": "display_data"
    },
    {
     "data": {
      "text/html": [
       "Syncing run <strong><a href='https://wandb.ai/viswa_ee/CS6910/runs/ryr0qvka' target=\"_blank\">misty-sweep-3</a></strong> to <a href='https://wandb.ai/viswa_ee/CS6910' target=\"_blank\">Weights & Biases</a> (<a href='https://wandb.me/run' target=\"_blank\">docs</a>)<br/>Sweep page: <a href='https://wandb.ai/viswa_ee/CS6910/sweeps/t38ec2il' target=\"_blank\">https://wandb.ai/viswa_ee/CS6910/sweeps/t38ec2il</a>"
      ],
      "text/plain": [
       "<IPython.core.display.HTML object>"
      ]
     },
     "metadata": {},
     "output_type": "display_data"
    },
    {
     "data": {
      "text/html": [
       " View project at <a href='https://wandb.ai/viswa_ee/CS6910' target=\"_blank\">https://wandb.ai/viswa_ee/CS6910</a>"
      ],
      "text/plain": [
       "<IPython.core.display.HTML object>"
      ]
     },
     "metadata": {},
     "output_type": "display_data"
    },
    {
     "data": {
      "text/html": [
       " View sweep at <a href='https://wandb.ai/viswa_ee/CS6910/sweeps/t38ec2il' target=\"_blank\">https://wandb.ai/viswa_ee/CS6910/sweeps/t38ec2il</a>"
      ],
      "text/plain": [
       "<IPython.core.display.HTML object>"
      ]
     },
     "metadata": {},
     "output_type": "display_data"
    },
    {
     "data": {
      "text/html": [
       " View run at <a href='https://wandb.ai/viswa_ee/CS6910/runs/ryr0qvka' target=\"_blank\">https://wandb.ai/viswa_ee/CS6910/runs/ryr0qvka</a>"
      ],
      "text/plain": [
       "<IPython.core.display.HTML object>"
      ]
     },
     "metadata": {},
     "output_type": "display_data"
    },
    {
     "data": {
      "text/html": [
       "Waiting for W&B process to finish... <strong style=\"color:green\">(success).</strong>"
      ],
      "text/plain": [
       "<IPython.core.display.HTML object>"
      ]
     },
     "metadata": {},
     "output_type": "display_data"
    },
    {
     "data": {
      "text/html": [
       "<style>\n",
       "    table.wandb td:nth-child(1) { padding: 0 10px; text-align: left ; width: auto;} td:nth-child(2) {text-align: left ; width: 100%}\n",
       "    .wandb-row { display: flex; flex-direction: row; flex-wrap: wrap; justify-content: flex-start; width: 100% }\n",
       "    .wandb-col { display: flex; flex-direction: column; flex-basis: 100%; flex: 1; padding: 10px; }\n",
       "    </style>\n",
       "<div class=\"wandb-row\"><div class=\"wandb-col\"><h3>Run history:</h3><br/><table class=\"wandb\"><tr><td>train_acc</td><td>▁▁▃▂▅▅▅▆▇█</td></tr><tr><td>train_loss</td><td>█▄▄▂▁▂▁▂▂▁</td></tr><tr><td>val_acc</td><td>▁▁▃▃▅▅▆▆▇█</td></tr><tr><td>val_loss</td><td>█▃▂▁▁▁▁▁▁▁</td></tr></table><br/></div><div class=\"wandb-col\"><h3>Run summary:</h3><br/><table class=\"wandb\"><tr><td>train_acc</td><td>0.14407</td></tr><tr><td>train_loss</td><td>2.17282</td></tr><tr><td>val_acc</td><td>0.13533</td></tr><tr><td>val_loss</td><td>2.26596</td></tr></table><br/></div></div>"
      ],
      "text/plain": [
       "<IPython.core.display.HTML object>"
      ]
     },
     "metadata": {},
     "output_type": "display_data"
    },
    {
     "data": {
      "text/html": [
       " View run <strong style=\"color:#cdcd00\">misty-sweep-3</strong> at: <a href='https://wandb.ai/viswa_ee/CS6910/runs/ryr0qvka' target=\"_blank\">https://wandb.ai/viswa_ee/CS6910/runs/ryr0qvka</a><br/>Synced 4 W&B file(s), 1 media file(s), 0 artifact file(s) and 0 other file(s)"
      ],
      "text/plain": [
       "<IPython.core.display.HTML object>"
      ]
     },
     "metadata": {},
     "output_type": "display_data"
    },
    {
     "data": {
      "text/html": [
       "Find logs at: <code>.\\wandb\\run-20230317_164307-ryr0qvka\\logs</code>"
      ],
      "text/plain": [
       "<IPython.core.display.HTML object>"
      ]
     },
     "metadata": {},
     "output_type": "display_data"
    },
    {
     "name": "stderr",
     "output_type": "stream",
     "text": [
      "\u001b[34m\u001b[1mwandb\u001b[0m: Sweep Agent: Waiting for job.\n",
      "\u001b[34m\u001b[1mwandb\u001b[0m: Job received.\n",
      "\u001b[34m\u001b[1mwandb\u001b[0m: Agent Starting Run: yse2y36k with config:\n",
      "\u001b[34m\u001b[1mwandb\u001b[0m: \tact_func: tanh\n",
      "\u001b[34m\u001b[1mwandb\u001b[0m: \tbatch_size: 32\n",
      "\u001b[34m\u001b[1mwandb\u001b[0m: \tl2_coeff: 0.5\n",
      "\u001b[34m\u001b[1mwandb\u001b[0m: \tloss_func: mse\n",
      "\u001b[34m\u001b[1mwandb\u001b[0m: \tlr: 0.0001\n",
      "\u001b[34m\u001b[1mwandb\u001b[0m: \tn_epochs: 10\n",
      "\u001b[34m\u001b[1mwandb\u001b[0m: \tn_hidden: 4\n",
      "\u001b[34m\u001b[1mwandb\u001b[0m: \tn_hidden_units: 128\n",
      "\u001b[34m\u001b[1mwandb\u001b[0m: \toptim_algo: adam\n",
      "\u001b[34m\u001b[1mwandb\u001b[0m: \trelu_param: 0.1\n",
      "\u001b[34m\u001b[1mwandb\u001b[0m: \tweight_init: xavier_uniform\n",
      "Failed to detect the name of this notebook, you can set it manually with the WANDB_NOTEBOOK_NAME environment variable to enable code saving.\n"
     ]
    },
    {
     "data": {
      "text/html": [
       "Tracking run with wandb version 0.14.0"
      ],
      "text/plain": [
       "<IPython.core.display.HTML object>"
      ]
     },
     "metadata": {},
     "output_type": "display_data"
    },
    {
     "data": {
      "text/html": [
       "Run data is saved locally in <code>d:\\CS6901\\wandb\\run-20230317_164443-yse2y36k</code>"
      ],
      "text/plain": [
       "<IPython.core.display.HTML object>"
      ]
     },
     "metadata": {},
     "output_type": "display_data"
    },
    {
     "data": {
      "text/html": [
       "Syncing run <strong><a href='https://wandb.ai/viswa_ee/CS6910/runs/yse2y36k' target=\"_blank\">noble-sweep-4</a></strong> to <a href='https://wandb.ai/viswa_ee/CS6910' target=\"_blank\">Weights & Biases</a> (<a href='https://wandb.me/run' target=\"_blank\">docs</a>)<br/>Sweep page: <a href='https://wandb.ai/viswa_ee/CS6910/sweeps/t38ec2il' target=\"_blank\">https://wandb.ai/viswa_ee/CS6910/sweeps/t38ec2il</a>"
      ],
      "text/plain": [
       "<IPython.core.display.HTML object>"
      ]
     },
     "metadata": {},
     "output_type": "display_data"
    },
    {
     "data": {
      "text/html": [
       " View project at <a href='https://wandb.ai/viswa_ee/CS6910' target=\"_blank\">https://wandb.ai/viswa_ee/CS6910</a>"
      ],
      "text/plain": [
       "<IPython.core.display.HTML object>"
      ]
     },
     "metadata": {},
     "output_type": "display_data"
    },
    {
     "data": {
      "text/html": [
       " View sweep at <a href='https://wandb.ai/viswa_ee/CS6910/sweeps/t38ec2il' target=\"_blank\">https://wandb.ai/viswa_ee/CS6910/sweeps/t38ec2il</a>"
      ],
      "text/plain": [
       "<IPython.core.display.HTML object>"
      ]
     },
     "metadata": {},
     "output_type": "display_data"
    },
    {
     "data": {
      "text/html": [
       " View run at <a href='https://wandb.ai/viswa_ee/CS6910/runs/yse2y36k' target=\"_blank\">https://wandb.ai/viswa_ee/CS6910/runs/yse2y36k</a>"
      ],
      "text/plain": [
       "<IPython.core.display.HTML object>"
      ]
     },
     "metadata": {},
     "output_type": "display_data"
    },
    {
     "data": {
      "text/html": [
       "Waiting for W&B process to finish... <strong style=\"color:green\">(success).</strong>"
      ],
      "text/plain": [
       "<IPython.core.display.HTML object>"
      ]
     },
     "metadata": {},
     "output_type": "display_data"
    },
    {
     "data": {
      "text/html": [
       "<style>\n",
       "    table.wandb td:nth-child(1) { padding: 0 10px; text-align: left ; width: auto;} td:nth-child(2) {text-align: left ; width: 100%}\n",
       "    .wandb-row { display: flex; flex-direction: row; flex-wrap: wrap; justify-content: flex-start; width: 100% }\n",
       "    .wandb-col { display: flex; flex-direction: column; flex-basis: 100%; flex: 1; padding: 10px; }\n",
       "    </style>\n",
       "<div class=\"wandb-row\"><div class=\"wandb-col\"><h3>Run history:</h3><br/><table class=\"wandb\"><tr><td>train_acc</td><td>▁▃▅▅▆▇▇▇██</td></tr><tr><td>train_loss</td><td>▆█▇▅▃▄▃▂▁▅</td></tr><tr><td>val_acc</td><td>▁▃▅▅▆▇▇▇██</td></tr><tr><td>val_loss</td><td>█▆▃▂▂▁▁▂▂▃</td></tr></table><br/></div><div class=\"wandb-col\"><h3>Run summary:</h3><br/><table class=\"wandb\"><tr><td>train_acc</td><td>0.6115</td></tr><tr><td>train_loss</td><td>-2021.40866</td></tr><tr><td>val_acc</td><td>0.58167</td></tr><tr><td>val_loss</td><td>-4199.50913</td></tr></table><br/></div></div>"
      ],
      "text/plain": [
       "<IPython.core.display.HTML object>"
      ]
     },
     "metadata": {},
     "output_type": "display_data"
    },
    {
     "data": {
      "text/html": [
       " View run <strong style=\"color:#cdcd00\">noble-sweep-4</strong> at: <a href='https://wandb.ai/viswa_ee/CS6910/runs/yse2y36k' target=\"_blank\">https://wandb.ai/viswa_ee/CS6910/runs/yse2y36k</a><br/>Synced 4 W&B file(s), 1 media file(s), 0 artifact file(s) and 0 other file(s)"
      ],
      "text/plain": [
       "<IPython.core.display.HTML object>"
      ]
     },
     "metadata": {},
     "output_type": "display_data"
    },
    {
     "data": {
      "text/html": [
       "Find logs at: <code>.\\wandb\\run-20230317_164443-yse2y36k\\logs</code>"
      ],
      "text/plain": [
       "<IPython.core.display.HTML object>"
      ]
     },
     "metadata": {},
     "output_type": "display_data"
    },
    {
     "name": "stderr",
     "output_type": "stream",
     "text": [
      "\u001b[34m\u001b[1mwandb\u001b[0m: Agent Starting Run: i5asbkj8 with config:\n",
      "\u001b[34m\u001b[1mwandb\u001b[0m: \tact_func: sigmoid\n",
      "\u001b[34m\u001b[1mwandb\u001b[0m: \tbatch_size: 32\n",
      "\u001b[34m\u001b[1mwandb\u001b[0m: \tl2_coeff: 0.5\n",
      "\u001b[34m\u001b[1mwandb\u001b[0m: \tloss_func: cross_ent\n",
      "\u001b[34m\u001b[1mwandb\u001b[0m: \tlr: 0.001\n",
      "\u001b[34m\u001b[1mwandb\u001b[0m: \tn_epochs: 5\n",
      "\u001b[34m\u001b[1mwandb\u001b[0m: \tn_hidden: 4\n",
      "\u001b[34m\u001b[1mwandb\u001b[0m: \tn_hidden_units: 128\n",
      "\u001b[34m\u001b[1mwandb\u001b[0m: \toptim_algo: nadam\n",
      "\u001b[34m\u001b[1mwandb\u001b[0m: \trelu_param: 0.1\n",
      "\u001b[34m\u001b[1mwandb\u001b[0m: \tweight_init: xavier_uniform\n",
      "Failed to detect the name of this notebook, you can set it manually with the WANDB_NOTEBOOK_NAME environment variable to enable code saving.\n"
     ]
    },
    {
     "data": {
      "text/html": [
       "Tracking run with wandb version 0.14.0"
      ],
      "text/plain": [
       "<IPython.core.display.HTML object>"
      ]
     },
     "metadata": {},
     "output_type": "display_data"
    },
    {
     "data": {
      "text/html": [
       "Run data is saved locally in <code>d:\\CS6901\\wandb\\run-20230317_164821-i5asbkj8</code>"
      ],
      "text/plain": [
       "<IPython.core.display.HTML object>"
      ]
     },
     "metadata": {},
     "output_type": "display_data"
    },
    {
     "data": {
      "text/html": [
       "Syncing run <strong><a href='https://wandb.ai/viswa_ee/CS6910/runs/i5asbkj8' target=\"_blank\">revived-sweep-5</a></strong> to <a href='https://wandb.ai/viswa_ee/CS6910' target=\"_blank\">Weights & Biases</a> (<a href='https://wandb.me/run' target=\"_blank\">docs</a>)<br/>Sweep page: <a href='https://wandb.ai/viswa_ee/CS6910/sweeps/t38ec2il' target=\"_blank\">https://wandb.ai/viswa_ee/CS6910/sweeps/t38ec2il</a>"
      ],
      "text/plain": [
       "<IPython.core.display.HTML object>"
      ]
     },
     "metadata": {},
     "output_type": "display_data"
    },
    {
     "data": {
      "text/html": [
       " View project at <a href='https://wandb.ai/viswa_ee/CS6910' target=\"_blank\">https://wandb.ai/viswa_ee/CS6910</a>"
      ],
      "text/plain": [
       "<IPython.core.display.HTML object>"
      ]
     },
     "metadata": {},
     "output_type": "display_data"
    },
    {
     "data": {
      "text/html": [
       " View sweep at <a href='https://wandb.ai/viswa_ee/CS6910/sweeps/t38ec2il' target=\"_blank\">https://wandb.ai/viswa_ee/CS6910/sweeps/t38ec2il</a>"
      ],
      "text/plain": [
       "<IPython.core.display.HTML object>"
      ]
     },
     "metadata": {},
     "output_type": "display_data"
    },
    {
     "data": {
      "text/html": [
       " View run at <a href='https://wandb.ai/viswa_ee/CS6910/runs/i5asbkj8' target=\"_blank\">https://wandb.ai/viswa_ee/CS6910/runs/i5asbkj8</a>"
      ],
      "text/plain": [
       "<IPython.core.display.HTML object>"
      ]
     },
     "metadata": {},
     "output_type": "display_data"
    },
    {
     "data": {
      "text/html": [
       "Waiting for W&B process to finish... <strong style=\"color:green\">(success).</strong>"
      ],
      "text/plain": [
       "<IPython.core.display.HTML object>"
      ]
     },
     "metadata": {},
     "output_type": "display_data"
    },
    {
     "data": {
      "text/html": [
       "<style>\n",
       "    table.wandb td:nth-child(1) { padding: 0 10px; text-align: left ; width: auto;} td:nth-child(2) {text-align: left ; width: 100%}\n",
       "    .wandb-row { display: flex; flex-direction: row; flex-wrap: wrap; justify-content: flex-start; width: 100% }\n",
       "    .wandb-col { display: flex; flex-direction: column; flex-basis: 100%; flex: 1; padding: 10px; }\n",
       "    </style>\n",
       "<div class=\"wandb-row\"><div class=\"wandb-col\"><h3>Run history:</h3><br/><table class=\"wandb\"><tr><td>train_acc</td><td>█▅▁▁▅</td></tr><tr><td>train_loss</td><td>█▁▁▁▁</td></tr><tr><td>val_acc</td><td>█▅▁▁▅</td></tr><tr><td>val_loss</td><td>█▁▃▂▁</td></tr></table><br/></div><div class=\"wandb-col\"><h3>Run summary:</h3><br/><table class=\"wandb\"><tr><td>train_acc</td><td>0.7272</td></tr><tr><td>train_loss</td><td>2.40916</td></tr><tr><td>val_acc</td><td>0.72217</td></tr><tr><td>val_loss</td><td>0.82921</td></tr></table><br/></div></div>"
      ],
      "text/plain": [
       "<IPython.core.display.HTML object>"
      ]
     },
     "metadata": {},
     "output_type": "display_data"
    },
    {
     "data": {
      "text/html": [
       " View run <strong style=\"color:#cdcd00\">revived-sweep-5</strong> at: <a href='https://wandb.ai/viswa_ee/CS6910/runs/i5asbkj8' target=\"_blank\">https://wandb.ai/viswa_ee/CS6910/runs/i5asbkj8</a><br/>Synced 4 W&B file(s), 1 media file(s), 0 artifact file(s) and 0 other file(s)"
      ],
      "text/plain": [
       "<IPython.core.display.HTML object>"
      ]
     },
     "metadata": {},
     "output_type": "display_data"
    },
    {
     "data": {
      "text/html": [
       "Find logs at: <code>.\\wandb\\run-20230317_164821-i5asbkj8\\logs</code>"
      ],
      "text/plain": [
       "<IPython.core.display.HTML object>"
      ]
     },
     "metadata": {},
     "output_type": "display_data"
    },
    {
     "name": "stderr",
     "output_type": "stream",
     "text": [
      "\u001b[34m\u001b[1mwandb\u001b[0m: Sweep Agent: Waiting for job.\n",
      "\u001b[34m\u001b[1mwandb\u001b[0m: Job received.\n",
      "\u001b[34m\u001b[1mwandb\u001b[0m: Agent Starting Run: hd71eqxc with config:\n",
      "\u001b[34m\u001b[1mwandb\u001b[0m: \tact_func: sigmoid\n",
      "\u001b[34m\u001b[1mwandb\u001b[0m: \tbatch_size: 32\n",
      "\u001b[34m\u001b[1mwandb\u001b[0m: \tl2_coeff: 0.5\n",
      "\u001b[34m\u001b[1mwandb\u001b[0m: \tloss_func: mse\n",
      "\u001b[34m\u001b[1mwandb\u001b[0m: \tlr: 0.001\n",
      "\u001b[34m\u001b[1mwandb\u001b[0m: \tn_epochs: 5\n",
      "\u001b[34m\u001b[1mwandb\u001b[0m: \tn_hidden: 3\n",
      "\u001b[34m\u001b[1mwandb\u001b[0m: \tn_hidden_units: 128\n",
      "\u001b[34m\u001b[1mwandb\u001b[0m: \toptim_algo: nag\n",
      "\u001b[34m\u001b[1mwandb\u001b[0m: \trelu_param: 0\n",
      "\u001b[34m\u001b[1mwandb\u001b[0m: \tweight_init: random\n",
      "Failed to detect the name of this notebook, you can set it manually with the WANDB_NOTEBOOK_NAME environment variable to enable code saving.\n"
     ]
    },
    {
     "data": {
      "text/html": [
       "Tracking run with wandb version 0.14.0"
      ],
      "text/plain": [
       "<IPython.core.display.HTML object>"
      ]
     },
     "metadata": {},
     "output_type": "display_data"
    },
    {
     "data": {
      "text/html": [
       "Run data is saved locally in <code>d:\\CS6901\\wandb\\run-20230317_165008-hd71eqxc</code>"
      ],
      "text/plain": [
       "<IPython.core.display.HTML object>"
      ]
     },
     "metadata": {},
     "output_type": "display_data"
    },
    {
     "data": {
      "text/html": [
       "Syncing run <strong><a href='https://wandb.ai/viswa_ee/CS6910/runs/hd71eqxc' target=\"_blank\">sparkling-sweep-6</a></strong> to <a href='https://wandb.ai/viswa_ee/CS6910' target=\"_blank\">Weights & Biases</a> (<a href='https://wandb.me/run' target=\"_blank\">docs</a>)<br/>Sweep page: <a href='https://wandb.ai/viswa_ee/CS6910/sweeps/t38ec2il' target=\"_blank\">https://wandb.ai/viswa_ee/CS6910/sweeps/t38ec2il</a>"
      ],
      "text/plain": [
       "<IPython.core.display.HTML object>"
      ]
     },
     "metadata": {},
     "output_type": "display_data"
    },
    {
     "data": {
      "text/html": [
       " View project at <a href='https://wandb.ai/viswa_ee/CS6910' target=\"_blank\">https://wandb.ai/viswa_ee/CS6910</a>"
      ],
      "text/plain": [
       "<IPython.core.display.HTML object>"
      ]
     },
     "metadata": {},
     "output_type": "display_data"
    },
    {
     "data": {
      "text/html": [
       " View sweep at <a href='https://wandb.ai/viswa_ee/CS6910/sweeps/t38ec2il' target=\"_blank\">https://wandb.ai/viswa_ee/CS6910/sweeps/t38ec2il</a>"
      ],
      "text/plain": [
       "<IPython.core.display.HTML object>"
      ]
     },
     "metadata": {},
     "output_type": "display_data"
    },
    {
     "data": {
      "text/html": [
       " View run at <a href='https://wandb.ai/viswa_ee/CS6910/runs/hd71eqxc' target=\"_blank\">https://wandb.ai/viswa_ee/CS6910/runs/hd71eqxc</a>"
      ],
      "text/plain": [
       "<IPython.core.display.HTML object>"
      ]
     },
     "metadata": {},
     "output_type": "display_data"
    },
    {
     "data": {
      "text/html": [
       "Waiting for W&B process to finish... <strong style=\"color:green\">(success).</strong>"
      ],
      "text/plain": [
       "<IPython.core.display.HTML object>"
      ]
     },
     "metadata": {},
     "output_type": "display_data"
    },
    {
     "data": {
      "text/html": [
       "<style>\n",
       "    table.wandb td:nth-child(1) { padding: 0 10px; text-align: left ; width: auto;} td:nth-child(2) {text-align: left ; width: 100%}\n",
       "    .wandb-row { display: flex; flex-direction: row; flex-wrap: wrap; justify-content: flex-start; width: 100% }\n",
       "    .wandb-col { display: flex; flex-direction: column; flex-basis: 100%; flex: 1; padding: 10px; }\n",
       "    </style>\n",
       "<div class=\"wandb-row\"><div class=\"wandb-col\"><h3>Run history:</h3><br/><table class=\"wandb\"><tr><td>train_acc</td><td>▁▁█▁▁</td></tr><tr><td>train_loss</td><td>▂█▂▁▁</td></tr><tr><td>val_acc</td><td>▁▁█▁▁</td></tr><tr><td>val_loss</td><td>▁▁█▂▂</td></tr></table><br/></div><div class=\"wandb-col\"><h3>Run summary:</h3><br/><table class=\"wandb\"><tr><td>train_acc</td><td>0.09981</td></tr><tr><td>train_loss</td><td>-976.34544</td></tr><tr><td>val_acc</td><td>0.09933</td></tr><tr><td>val_loss</td><td>-2830.4906</td></tr></table><br/></div></div>"
      ],
      "text/plain": [
       "<IPython.core.display.HTML object>"
      ]
     },
     "metadata": {},
     "output_type": "display_data"
    },
    {
     "data": {
      "text/html": [
       " View run <strong style=\"color:#cdcd00\">sparkling-sweep-6</strong> at: <a href='https://wandb.ai/viswa_ee/CS6910/runs/hd71eqxc' target=\"_blank\">https://wandb.ai/viswa_ee/CS6910/runs/hd71eqxc</a><br/>Synced 4 W&B file(s), 1 media file(s), 0 artifact file(s) and 0 other file(s)"
      ],
      "text/plain": [
       "<IPython.core.display.HTML object>"
      ]
     },
     "metadata": {},
     "output_type": "display_data"
    },
    {
     "data": {
      "text/html": [
       "Find logs at: <code>.\\wandb\\run-20230317_165008-hd71eqxc\\logs</code>"
      ],
      "text/plain": [
       "<IPython.core.display.HTML object>"
      ]
     },
     "metadata": {},
     "output_type": "display_data"
    },
    {
     "name": "stderr",
     "output_type": "stream",
     "text": [
      "\u001b[34m\u001b[1mwandb\u001b[0m: Agent Starting Run: 3nv1sseo with config:\n",
      "\u001b[34m\u001b[1mwandb\u001b[0m: \tact_func: sigmoid\n",
      "\u001b[34m\u001b[1mwandb\u001b[0m: \tbatch_size: 64\n",
      "\u001b[34m\u001b[1mwandb\u001b[0m: \tl2_coeff: 0.5\n",
      "\u001b[34m\u001b[1mwandb\u001b[0m: \tloss_func: cross_ent\n",
      "\u001b[34m\u001b[1mwandb\u001b[0m: \tlr: 0.0001\n",
      "\u001b[34m\u001b[1mwandb\u001b[0m: \tn_epochs: 10\n",
      "\u001b[34m\u001b[1mwandb\u001b[0m: \tn_hidden: 4\n",
      "\u001b[34m\u001b[1mwandb\u001b[0m: \tn_hidden_units: 128\n",
      "\u001b[34m\u001b[1mwandb\u001b[0m: \toptim_algo: adam\n",
      "\u001b[34m\u001b[1mwandb\u001b[0m: \trelu_param: 0.1\n",
      "\u001b[34m\u001b[1mwandb\u001b[0m: \tweight_init: xavier_uniform\n",
      "Failed to detect the name of this notebook, you can set it manually with the WANDB_NOTEBOOK_NAME environment variable to enable code saving.\n"
     ]
    },
    {
     "data": {
      "text/html": [
       "Tracking run with wandb version 0.14.0"
      ],
      "text/plain": [
       "<IPython.core.display.HTML object>"
      ]
     },
     "metadata": {},
     "output_type": "display_data"
    },
    {
     "data": {
      "text/html": [
       "Run data is saved locally in <code>d:\\CS6901\\wandb\\run-20230317_165122-3nv1sseo</code>"
      ],
      "text/plain": [
       "<IPython.core.display.HTML object>"
      ]
     },
     "metadata": {},
     "output_type": "display_data"
    },
    {
     "data": {
      "text/html": [
       "Syncing run <strong><a href='https://wandb.ai/viswa_ee/CS6910/runs/3nv1sseo' target=\"_blank\">vivid-sweep-7</a></strong> to <a href='https://wandb.ai/viswa_ee/CS6910' target=\"_blank\">Weights & Biases</a> (<a href='https://wandb.me/run' target=\"_blank\">docs</a>)<br/>Sweep page: <a href='https://wandb.ai/viswa_ee/CS6910/sweeps/t38ec2il' target=\"_blank\">https://wandb.ai/viswa_ee/CS6910/sweeps/t38ec2il</a>"
      ],
      "text/plain": [
       "<IPython.core.display.HTML object>"
      ]
     },
     "metadata": {},
     "output_type": "display_data"
    },
    {
     "data": {
      "text/html": [
       " View project at <a href='https://wandb.ai/viswa_ee/CS6910' target=\"_blank\">https://wandb.ai/viswa_ee/CS6910</a>"
      ],
      "text/plain": [
       "<IPython.core.display.HTML object>"
      ]
     },
     "metadata": {},
     "output_type": "display_data"
    },
    {
     "data": {
      "text/html": [
       " View sweep at <a href='https://wandb.ai/viswa_ee/CS6910/sweeps/t38ec2il' target=\"_blank\">https://wandb.ai/viswa_ee/CS6910/sweeps/t38ec2il</a>"
      ],
      "text/plain": [
       "<IPython.core.display.HTML object>"
      ]
     },
     "metadata": {},
     "output_type": "display_data"
    },
    {
     "data": {
      "text/html": [
       " View run at <a href='https://wandb.ai/viswa_ee/CS6910/runs/3nv1sseo' target=\"_blank\">https://wandb.ai/viswa_ee/CS6910/runs/3nv1sseo</a>"
      ],
      "text/plain": [
       "<IPython.core.display.HTML object>"
      ]
     },
     "metadata": {},
     "output_type": "display_data"
    },
    {
     "data": {
      "text/html": [
       "Waiting for W&B process to finish... <strong style=\"color:green\">(success).</strong>"
      ],
      "text/plain": [
       "<IPython.core.display.HTML object>"
      ]
     },
     "metadata": {},
     "output_type": "display_data"
    },
    {
     "data": {
      "text/html": [
       "<style>\n",
       "    table.wandb td:nth-child(1) { padding: 0 10px; text-align: left ; width: auto;} td:nth-child(2) {text-align: left ; width: 100%}\n",
       "    .wandb-row { display: flex; flex-direction: row; flex-wrap: wrap; justify-content: flex-start; width: 100% }\n",
       "    .wandb-col { display: flex; flex-direction: column; flex-basis: 100%; flex: 1; padding: 10px; }\n",
       "    </style>\n",
       "<div class=\"wandb-row\"><div class=\"wandb-col\"><h3>Run history:</h3><br/><table class=\"wandb\"><tr><td>train_acc</td><td>▁▄▅▆▇▇▇███</td></tr><tr><td>train_loss</td><td>█▇▆▅▄▃▃▂▁▁</td></tr><tr><td>val_acc</td><td>▁▄▅▆▇▇▇███</td></tr><tr><td>val_loss</td><td>█▇▅▅▄▃▂▂▁▁</td></tr></table><br/></div><div class=\"wandb-col\"><h3>Run summary:</h3><br/><table class=\"wandb\"><tr><td>train_acc</td><td>0.78641</td></tr><tr><td>train_loss</td><td>206.73745</td></tr><tr><td>val_acc</td><td>0.78033</td></tr><tr><td>val_loss</td><td>2.27829</td></tr></table><br/></div></div>"
      ],
      "text/plain": [
       "<IPython.core.display.HTML object>"
      ]
     },
     "metadata": {},
     "output_type": "display_data"
    },
    {
     "data": {
      "text/html": [
       " View run <strong style=\"color:#cdcd00\">vivid-sweep-7</strong> at: <a href='https://wandb.ai/viswa_ee/CS6910/runs/3nv1sseo' target=\"_blank\">https://wandb.ai/viswa_ee/CS6910/runs/3nv1sseo</a><br/>Synced 4 W&B file(s), 1 media file(s), 0 artifact file(s) and 0 other file(s)"
      ],
      "text/plain": [
       "<IPython.core.display.HTML object>"
      ]
     },
     "metadata": {},
     "output_type": "display_data"
    },
    {
     "data": {
      "text/html": [
       "Find logs at: <code>.\\wandb\\run-20230317_165122-3nv1sseo\\logs</code>"
      ],
      "text/plain": [
       "<IPython.core.display.HTML object>"
      ]
     },
     "metadata": {},
     "output_type": "display_data"
    },
    {
     "name": "stderr",
     "output_type": "stream",
     "text": [
      "\u001b[34m\u001b[1mwandb\u001b[0m: Agent Starting Run: r9n263cv with config:\n",
      "\u001b[34m\u001b[1mwandb\u001b[0m: \tact_func: tanh\n",
      "\u001b[34m\u001b[1mwandb\u001b[0m: \tbatch_size: 64\n",
      "\u001b[34m\u001b[1mwandb\u001b[0m: \tl2_coeff: 0.5\n",
      "\u001b[34m\u001b[1mwandb\u001b[0m: \tloss_func: cross_ent\n",
      "\u001b[34m\u001b[1mwandb\u001b[0m: \tlr: 0.001\n",
      "\u001b[34m\u001b[1mwandb\u001b[0m: \tn_epochs: 5\n",
      "\u001b[34m\u001b[1mwandb\u001b[0m: \tn_hidden: 5\n",
      "\u001b[34m\u001b[1mwandb\u001b[0m: \tn_hidden_units: 128\n",
      "\u001b[34m\u001b[1mwandb\u001b[0m: \toptim_algo: adam\n",
      "\u001b[34m\u001b[1mwandb\u001b[0m: \trelu_param: 0.1\n",
      "\u001b[34m\u001b[1mwandb\u001b[0m: \tweight_init: xavier_uniform\n",
      "Failed to detect the name of this notebook, you can set it manually with the WANDB_NOTEBOOK_NAME environment variable to enable code saving.\n"
     ]
    },
    {
     "data": {
      "text/html": [
       "Tracking run with wandb version 0.14.0"
      ],
      "text/plain": [
       "<IPython.core.display.HTML object>"
      ]
     },
     "metadata": {},
     "output_type": "display_data"
    },
    {
     "data": {
      "text/html": [
       "Run data is saved locally in <code>d:\\CS6901\\wandb\\run-20230317_165325-r9n263cv</code>"
      ],
      "text/plain": [
       "<IPython.core.display.HTML object>"
      ]
     },
     "metadata": {},
     "output_type": "display_data"
    },
    {
     "data": {
      "text/html": [
       "Syncing run <strong><a href='https://wandb.ai/viswa_ee/CS6910/runs/r9n263cv' target=\"_blank\">frosty-sweep-8</a></strong> to <a href='https://wandb.ai/viswa_ee/CS6910' target=\"_blank\">Weights & Biases</a> (<a href='https://wandb.me/run' target=\"_blank\">docs</a>)<br/>Sweep page: <a href='https://wandb.ai/viswa_ee/CS6910/sweeps/t38ec2il' target=\"_blank\">https://wandb.ai/viswa_ee/CS6910/sweeps/t38ec2il</a>"
      ],
      "text/plain": [
       "<IPython.core.display.HTML object>"
      ]
     },
     "metadata": {},
     "output_type": "display_data"
    },
    {
     "data": {
      "text/html": [
       " View project at <a href='https://wandb.ai/viswa_ee/CS6910' target=\"_blank\">https://wandb.ai/viswa_ee/CS6910</a>"
      ],
      "text/plain": [
       "<IPython.core.display.HTML object>"
      ]
     },
     "metadata": {},
     "output_type": "display_data"
    },
    {
     "data": {
      "text/html": [
       " View sweep at <a href='https://wandb.ai/viswa_ee/CS6910/sweeps/t38ec2il' target=\"_blank\">https://wandb.ai/viswa_ee/CS6910/sweeps/t38ec2il</a>"
      ],
      "text/plain": [
       "<IPython.core.display.HTML object>"
      ]
     },
     "metadata": {},
     "output_type": "display_data"
    },
    {
     "data": {
      "text/html": [
       " View run at <a href='https://wandb.ai/viswa_ee/CS6910/runs/r9n263cv' target=\"_blank\">https://wandb.ai/viswa_ee/CS6910/runs/r9n263cv</a>"
      ],
      "text/plain": [
       "<IPython.core.display.HTML object>"
      ]
     },
     "metadata": {},
     "output_type": "display_data"
    },
    {
     "data": {
      "text/html": [
       "Waiting for W&B process to finish... <strong style=\"color:green\">(success).</strong>"
      ],
      "text/plain": [
       "<IPython.core.display.HTML object>"
      ]
     },
     "metadata": {},
     "output_type": "display_data"
    },
    {
     "data": {
      "text/html": [
       "<style>\n",
       "    table.wandb td:nth-child(1) { padding: 0 10px; text-align: left ; width: auto;} td:nth-child(2) {text-align: left ; width: 100%}\n",
       "    .wandb-row { display: flex; flex-direction: row; flex-wrap: wrap; justify-content: flex-start; width: 100% }\n",
       "    .wandb-col { display: flex; flex-direction: column; flex-basis: 100%; flex: 1; padding: 10px; }\n",
       "    </style>\n",
       "<div class=\"wandb-row\"><div class=\"wandb-col\"><h3>Run history:</h3><br/><table class=\"wandb\"><tr><td>train_acc</td><td>▁▃▄▆█</td></tr><tr><td>train_loss</td><td>█▆▅▃▁</td></tr><tr><td>val_acc</td><td>▁▃▄▆█</td></tr><tr><td>val_loss</td><td>█▅▃▂▁</td></tr></table><br/></div><div class=\"wandb-col\"><h3>Run summary:</h3><br/><table class=\"wandb\"><tr><td>train_acc</td><td>0.67585</td></tr><tr><td>train_loss</td><td>407.38811</td></tr><tr><td>val_acc</td><td>0.64767</td></tr><tr><td>val_loss</td><td>4.23407</td></tr></table><br/></div></div>"
      ],
      "text/plain": [
       "<IPython.core.display.HTML object>"
      ]
     },
     "metadata": {},
     "output_type": "display_data"
    },
    {
     "data": {
      "text/html": [
       " View run <strong style=\"color:#cdcd00\">frosty-sweep-8</strong> at: <a href='https://wandb.ai/viswa_ee/CS6910/runs/r9n263cv' target=\"_blank\">https://wandb.ai/viswa_ee/CS6910/runs/r9n263cv</a><br/>Synced 4 W&B file(s), 1 media file(s), 0 artifact file(s) and 0 other file(s)"
      ],
      "text/plain": [
       "<IPython.core.display.HTML object>"
      ]
     },
     "metadata": {},
     "output_type": "display_data"
    },
    {
     "data": {
      "text/html": [
       "Find logs at: <code>.\\wandb\\run-20230317_165325-r9n263cv\\logs</code>"
      ],
      "text/plain": [
       "<IPython.core.display.HTML object>"
      ]
     },
     "metadata": {},
     "output_type": "display_data"
    },
    {
     "name": "stderr",
     "output_type": "stream",
     "text": [
      "\u001b[34m\u001b[1mwandb\u001b[0m: Agent Starting Run: z0m2wnzr with config:\n",
      "\u001b[34m\u001b[1mwandb\u001b[0m: \tact_func: sigmoid\n",
      "\u001b[34m\u001b[1mwandb\u001b[0m: \tbatch_size: 64\n",
      "\u001b[34m\u001b[1mwandb\u001b[0m: \tl2_coeff: 0.5\n",
      "\u001b[34m\u001b[1mwandb\u001b[0m: \tloss_func: mse\n",
      "\u001b[34m\u001b[1mwandb\u001b[0m: \tlr: 0.001\n",
      "\u001b[34m\u001b[1mwandb\u001b[0m: \tn_epochs: 10\n",
      "\u001b[34m\u001b[1mwandb\u001b[0m: \tn_hidden: 4\n",
      "\u001b[34m\u001b[1mwandb\u001b[0m: \tn_hidden_units: 128\n",
      "\u001b[34m\u001b[1mwandb\u001b[0m: \toptim_algo: adam\n",
      "\u001b[34m\u001b[1mwandb\u001b[0m: \trelu_param: 0.01\n",
      "\u001b[34m\u001b[1mwandb\u001b[0m: \tweight_init: xavier_uniform\n",
      "Failed to detect the name of this notebook, you can set it manually with the WANDB_NOTEBOOK_NAME environment variable to enable code saving.\n"
     ]
    },
    {
     "data": {
      "text/html": [
       "Tracking run with wandb version 0.14.0"
      ],
      "text/plain": [
       "<IPython.core.display.HTML object>"
      ]
     },
     "metadata": {},
     "output_type": "display_data"
    },
    {
     "data": {
      "text/html": [
       "Run data is saved locally in <code>d:\\CS6901\\wandb\\run-20230317_165451-z0m2wnzr</code>"
      ],
      "text/plain": [
       "<IPython.core.display.HTML object>"
      ]
     },
     "metadata": {},
     "output_type": "display_data"
    },
    {
     "data": {
      "text/html": [
       "Syncing run <strong><a href='https://wandb.ai/viswa_ee/CS6910/runs/z0m2wnzr' target=\"_blank\">happy-sweep-9</a></strong> to <a href='https://wandb.ai/viswa_ee/CS6910' target=\"_blank\">Weights & Biases</a> (<a href='https://wandb.me/run' target=\"_blank\">docs</a>)<br/>Sweep page: <a href='https://wandb.ai/viswa_ee/CS6910/sweeps/t38ec2il' target=\"_blank\">https://wandb.ai/viswa_ee/CS6910/sweeps/t38ec2il</a>"
      ],
      "text/plain": [
       "<IPython.core.display.HTML object>"
      ]
     },
     "metadata": {},
     "output_type": "display_data"
    },
    {
     "data": {
      "text/html": [
       " View project at <a href='https://wandb.ai/viswa_ee/CS6910' target=\"_blank\">https://wandb.ai/viswa_ee/CS6910</a>"
      ],
      "text/plain": [
       "<IPython.core.display.HTML object>"
      ]
     },
     "metadata": {},
     "output_type": "display_data"
    },
    {
     "data": {
      "text/html": [
       " View sweep at <a href='https://wandb.ai/viswa_ee/CS6910/sweeps/t38ec2il' target=\"_blank\">https://wandb.ai/viswa_ee/CS6910/sweeps/t38ec2il</a>"
      ],
      "text/plain": [
       "<IPython.core.display.HTML object>"
      ]
     },
     "metadata": {},
     "output_type": "display_data"
    },
    {
     "data": {
      "text/html": [
       " View run at <a href='https://wandb.ai/viswa_ee/CS6910/runs/z0m2wnzr' target=\"_blank\">https://wandb.ai/viswa_ee/CS6910/runs/z0m2wnzr</a>"
      ],
      "text/plain": [
       "<IPython.core.display.HTML object>"
      ]
     },
     "metadata": {},
     "output_type": "display_data"
    },
    {
     "data": {
      "text/html": [
       "Waiting for W&B process to finish... <strong style=\"color:green\">(success).</strong>"
      ],
      "text/plain": [
       "<IPython.core.display.HTML object>"
      ]
     },
     "metadata": {},
     "output_type": "display_data"
    },
    {
     "data": {
      "text/html": [
       "<style>\n",
       "    table.wandb td:nth-child(1) { padding: 0 10px; text-align: left ; width: auto;} td:nth-child(2) {text-align: left ; width: 100%}\n",
       "    .wandb-row { display: flex; flex-direction: row; flex-wrap: wrap; justify-content: flex-start; width: 100% }\n",
       "    .wandb-col { display: flex; flex-direction: column; flex-basis: 100%; flex: 1; padding: 10px; }\n",
       "    </style>\n",
       "<div class=\"wandb-row\"><div class=\"wandb-col\"><h3>Run history:</h3><br/><table class=\"wandb\"><tr><td>train_acc</td><td>▁▄██▅▂▇▇▄▅</td></tr><tr><td>train_loss</td><td>█▃▃▂▁▂▁▂▂▁</td></tr><tr><td>val_acc</td><td>▁▄█▇▅▃▇▇▅▅</td></tr><tr><td>val_loss</td><td>█▄▄▄▄▃▂▃▁▁</td></tr></table><br/></div><div class=\"wandb-col\"><h3>Run summary:</h3><br/><table class=\"wandb\"><tr><td>train_acc</td><td>0.8057</td></tr><tr><td>train_loss</td><td>-433.29369</td></tr><tr><td>val_acc</td><td>0.79833</td></tr><tr><td>val_loss</td><td>-438.28026</td></tr></table><br/></div></div>"
      ],
      "text/plain": [
       "<IPython.core.display.HTML object>"
      ]
     },
     "metadata": {},
     "output_type": "display_data"
    },
    {
     "data": {
      "text/html": [
       " View run <strong style=\"color:#cdcd00\">happy-sweep-9</strong> at: <a href='https://wandb.ai/viswa_ee/CS6910/runs/z0m2wnzr' target=\"_blank\">https://wandb.ai/viswa_ee/CS6910/runs/z0m2wnzr</a><br/>Synced 4 W&B file(s), 1 media file(s), 0 artifact file(s) and 0 other file(s)"
      ],
      "text/plain": [
       "<IPython.core.display.HTML object>"
      ]
     },
     "metadata": {},
     "output_type": "display_data"
    },
    {
     "data": {
      "text/html": [
       "Find logs at: <code>.\\wandb\\run-20230317_165451-z0m2wnzr\\logs</code>"
      ],
      "text/plain": [
       "<IPython.core.display.HTML object>"
      ]
     },
     "metadata": {},
     "output_type": "display_data"
    },
    {
     "name": "stderr",
     "output_type": "stream",
     "text": [
      "\u001b[34m\u001b[1mwandb\u001b[0m: Agent Starting Run: t90zhy68 with config:\n",
      "\u001b[34m\u001b[1mwandb\u001b[0m: \tact_func: identity\n",
      "\u001b[34m\u001b[1mwandb\u001b[0m: \tbatch_size: 32\n",
      "\u001b[34m\u001b[1mwandb\u001b[0m: \tl2_coeff: 0.5\n",
      "\u001b[34m\u001b[1mwandb\u001b[0m: \tloss_func: cross_ent\n",
      "\u001b[34m\u001b[1mwandb\u001b[0m: \tlr: 0.0001\n",
      "\u001b[34m\u001b[1mwandb\u001b[0m: \tn_epochs: 10\n",
      "\u001b[34m\u001b[1mwandb\u001b[0m: \tn_hidden: 5\n",
      "\u001b[34m\u001b[1mwandb\u001b[0m: \tn_hidden_units: 128\n",
      "\u001b[34m\u001b[1mwandb\u001b[0m: \toptim_algo: nadam\n",
      "\u001b[34m\u001b[1mwandb\u001b[0m: \trelu_param: 0.1\n",
      "\u001b[34m\u001b[1mwandb\u001b[0m: \tweight_init: random\n",
      "Failed to detect the name of this notebook, you can set it manually with the WANDB_NOTEBOOK_NAME environment variable to enable code saving.\n"
     ]
    },
    {
     "data": {
      "text/html": [
       "Tracking run with wandb version 0.14.0"
      ],
      "text/plain": [
       "<IPython.core.display.HTML object>"
      ]
     },
     "metadata": {},
     "output_type": "display_data"
    },
    {
     "data": {
      "text/html": [
       "Run data is saved locally in <code>d:\\CS6901\\wandb\\run-20230317_165638-t90zhy68</code>"
      ],
      "text/plain": [
       "<IPython.core.display.HTML object>"
      ]
     },
     "metadata": {},
     "output_type": "display_data"
    },
    {
     "data": {
      "text/html": [
       "Syncing run <strong><a href='https://wandb.ai/viswa_ee/CS6910/runs/t90zhy68' target=\"_blank\">hardy-sweep-10</a></strong> to <a href='https://wandb.ai/viswa_ee/CS6910' target=\"_blank\">Weights & Biases</a> (<a href='https://wandb.me/run' target=\"_blank\">docs</a>)<br/>Sweep page: <a href='https://wandb.ai/viswa_ee/CS6910/sweeps/t38ec2il' target=\"_blank\">https://wandb.ai/viswa_ee/CS6910/sweeps/t38ec2il</a>"
      ],
      "text/plain": [
       "<IPython.core.display.HTML object>"
      ]
     },
     "metadata": {},
     "output_type": "display_data"
    },
    {
     "data": {
      "text/html": [
       " View project at <a href='https://wandb.ai/viswa_ee/CS6910' target=\"_blank\">https://wandb.ai/viswa_ee/CS6910</a>"
      ],
      "text/plain": [
       "<IPython.core.display.HTML object>"
      ]
     },
     "metadata": {},
     "output_type": "display_data"
    },
    {
     "data": {
      "text/html": [
       " View sweep at <a href='https://wandb.ai/viswa_ee/CS6910/sweeps/t38ec2il' target=\"_blank\">https://wandb.ai/viswa_ee/CS6910/sweeps/t38ec2il</a>"
      ],
      "text/plain": [
       "<IPython.core.display.HTML object>"
      ]
     },
     "metadata": {},
     "output_type": "display_data"
    },
    {
     "data": {
      "text/html": [
       " View run at <a href='https://wandb.ai/viswa_ee/CS6910/runs/t90zhy68' target=\"_blank\">https://wandb.ai/viswa_ee/CS6910/runs/t90zhy68</a>"
      ],
      "text/plain": [
       "<IPython.core.display.HTML object>"
      ]
     },
     "metadata": {},
     "output_type": "display_data"
    },
    {
     "data": {
      "text/html": [
       "Waiting for W&B process to finish... <strong style=\"color:green\">(success).</strong>"
      ],
      "text/plain": [
       "<IPython.core.display.HTML object>"
      ]
     },
     "metadata": {},
     "output_type": "display_data"
    },
    {
     "data": {
      "text/html": [
       "<style>\n",
       "    table.wandb td:nth-child(1) { padding: 0 10px; text-align: left ; width: auto;} td:nth-child(2) {text-align: left ; width: 100%}\n",
       "    .wandb-row { display: flex; flex-direction: row; flex-wrap: wrap; justify-content: flex-start; width: 100% }\n",
       "    .wandb-col { display: flex; flex-direction: column; flex-basis: 100%; flex: 1; padding: 10px; }\n",
       "    </style>\n",
       "<div class=\"wandb-row\"><div class=\"wandb-col\"><h3>Run history:</h3><br/><table class=\"wandb\"><tr><td>train_acc</td><td>█▆▃▄▄▂▁▂▂▅</td></tr><tr><td>train_loss</td><td>▁▁▂▂▃▄▅▆▇█</td></tr><tr><td>val_acc</td><td>█▆▃▄▄▂▁▁▂▅</td></tr><tr><td>val_loss</td><td>▃▁▁▁▇▁▇█▃▃</td></tr></table><br/></div><div class=\"wandb-col\"><h3>Run summary:</h3><br/><table class=\"wandb\"><tr><td>train_acc</td><td>0.21315</td></tr><tr><td>train_loss</td><td>8575.22736</td></tr><tr><td>val_acc</td><td>0.21283</td></tr><tr><td>val_loss</td><td>84.72727</td></tr></table><br/></div></div>"
      ],
      "text/plain": [
       "<IPython.core.display.HTML object>"
      ]
     },
     "metadata": {},
     "output_type": "display_data"
    },
    {
     "data": {
      "text/html": [
       " View run <strong style=\"color:#cdcd00\">hardy-sweep-10</strong> at: <a href='https://wandb.ai/viswa_ee/CS6910/runs/t90zhy68' target=\"_blank\">https://wandb.ai/viswa_ee/CS6910/runs/t90zhy68</a><br/>Synced 4 W&B file(s), 1 media file(s), 0 artifact file(s) and 0 other file(s)"
      ],
      "text/plain": [
       "<IPython.core.display.HTML object>"
      ]
     },
     "metadata": {},
     "output_type": "display_data"
    },
    {
     "data": {
      "text/html": [
       "Find logs at: <code>.\\wandb\\run-20230317_165638-t90zhy68\\logs</code>"
      ],
      "text/plain": [
       "<IPython.core.display.HTML object>"
      ]
     },
     "metadata": {},
     "output_type": "display_data"
    },
    {
     "name": "stderr",
     "output_type": "stream",
     "text": [
      "\u001b[34m\u001b[1mwandb\u001b[0m: Agent Starting Run: 4yqjbcb0 with config:\n",
      "\u001b[34m\u001b[1mwandb\u001b[0m: \tact_func: sigmoid\n",
      "\u001b[34m\u001b[1mwandb\u001b[0m: \tbatch_size: 32\n",
      "\u001b[34m\u001b[1mwandb\u001b[0m: \tl2_coeff: 0.5\n",
      "\u001b[34m\u001b[1mwandb\u001b[0m: \tloss_func: mse\n",
      "\u001b[34m\u001b[1mwandb\u001b[0m: \tlr: 0.0001\n",
      "\u001b[34m\u001b[1mwandb\u001b[0m: \tn_epochs: 5\n",
      "\u001b[34m\u001b[1mwandb\u001b[0m: \tn_hidden: 5\n",
      "\u001b[34m\u001b[1mwandb\u001b[0m: \tn_hidden_units: 128\n",
      "\u001b[34m\u001b[1mwandb\u001b[0m: \toptim_algo: nadam\n",
      "\u001b[34m\u001b[1mwandb\u001b[0m: \trelu_param: 0.1\n",
      "\u001b[34m\u001b[1mwandb\u001b[0m: \tweight_init: xavier_uniform\n",
      "Failed to detect the name of this notebook, you can set it manually with the WANDB_NOTEBOOK_NAME environment variable to enable code saving.\n"
     ]
    },
    {
     "data": {
      "text/html": [
       "Tracking run with wandb version 0.14.0"
      ],
      "text/plain": [
       "<IPython.core.display.HTML object>"
      ]
     },
     "metadata": {},
     "output_type": "display_data"
    },
    {
     "data": {
      "text/html": [
       "Run data is saved locally in <code>d:\\CS6901\\wandb\\run-20230317_165929-4yqjbcb0</code>"
      ],
      "text/plain": [
       "<IPython.core.display.HTML object>"
      ]
     },
     "metadata": {},
     "output_type": "display_data"
    },
    {
     "data": {
      "text/html": [
       "Syncing run <strong><a href='https://wandb.ai/viswa_ee/CS6910/runs/4yqjbcb0' target=\"_blank\">deep-sweep-11</a></strong> to <a href='https://wandb.ai/viswa_ee/CS6910' target=\"_blank\">Weights & Biases</a> (<a href='https://wandb.me/run' target=\"_blank\">docs</a>)<br/>Sweep page: <a href='https://wandb.ai/viswa_ee/CS6910/sweeps/t38ec2il' target=\"_blank\">https://wandb.ai/viswa_ee/CS6910/sweeps/t38ec2il</a>"
      ],
      "text/plain": [
       "<IPython.core.display.HTML object>"
      ]
     },
     "metadata": {},
     "output_type": "display_data"
    },
    {
     "data": {
      "text/html": [
       " View project at <a href='https://wandb.ai/viswa_ee/CS6910' target=\"_blank\">https://wandb.ai/viswa_ee/CS6910</a>"
      ],
      "text/plain": [
       "<IPython.core.display.HTML object>"
      ]
     },
     "metadata": {},
     "output_type": "display_data"
    },
    {
     "data": {
      "text/html": [
       " View sweep at <a href='https://wandb.ai/viswa_ee/CS6910/sweeps/t38ec2il' target=\"_blank\">https://wandb.ai/viswa_ee/CS6910/sweeps/t38ec2il</a>"
      ],
      "text/plain": [
       "<IPython.core.display.HTML object>"
      ]
     },
     "metadata": {},
     "output_type": "display_data"
    },
    {
     "data": {
      "text/html": [
       " View run at <a href='https://wandb.ai/viswa_ee/CS6910/runs/4yqjbcb0' target=\"_blank\">https://wandb.ai/viswa_ee/CS6910/runs/4yqjbcb0</a>"
      ],
      "text/plain": [
       "<IPython.core.display.HTML object>"
      ]
     },
     "metadata": {},
     "output_type": "display_data"
    },
    {
     "data": {
      "text/html": [
       "Waiting for W&B process to finish... <strong style=\"color:green\">(success).</strong>"
      ],
      "text/plain": [
       "<IPython.core.display.HTML object>"
      ]
     },
     "metadata": {},
     "output_type": "display_data"
    },
    {
     "data": {
      "text/html": [
       "<style>\n",
       "    table.wandb td:nth-child(1) { padding: 0 10px; text-align: left ; width: auto;} td:nth-child(2) {text-align: left ; width: 100%}\n",
       "    .wandb-row { display: flex; flex-direction: row; flex-wrap: wrap; justify-content: flex-start; width: 100% }\n",
       "    .wandb-col { display: flex; flex-direction: column; flex-basis: 100%; flex: 1; padding: 10px; }\n",
       "    </style>\n",
       "<div class=\"wandb-row\"><div class=\"wandb-col\"><h3>Run history:</h3><br/><table class=\"wandb\"><tr><td>train_acc</td><td>▁▄▆▇█</td></tr><tr><td>train_loss</td><td>█▆▄▂▁</td></tr><tr><td>val_acc</td><td>▁▄▆██</td></tr><tr><td>val_loss</td><td>█▅▄▂▁</td></tr></table><br/></div><div class=\"wandb-col\"><h3>Run summary:</h3><br/><table class=\"wandb\"><tr><td>train_acc</td><td>0.78133</td></tr><tr><td>train_loss</td><td>337.42605</td></tr><tr><td>val_acc</td><td>0.7765</td></tr><tr><td>val_loss</td><td>-316.23361</td></tr></table><br/></div></div>"
      ],
      "text/plain": [
       "<IPython.core.display.HTML object>"
      ]
     },
     "metadata": {},
     "output_type": "display_data"
    },
    {
     "data": {
      "text/html": [
       " View run <strong style=\"color:#cdcd00\">deep-sweep-11</strong> at: <a href='https://wandb.ai/viswa_ee/CS6910/runs/4yqjbcb0' target=\"_blank\">https://wandb.ai/viswa_ee/CS6910/runs/4yqjbcb0</a><br/>Synced 4 W&B file(s), 1 media file(s), 0 artifact file(s) and 0 other file(s)"
      ],
      "text/plain": [
       "<IPython.core.display.HTML object>"
      ]
     },
     "metadata": {},
     "output_type": "display_data"
    },
    {
     "data": {
      "text/html": [
       "Find logs at: <code>.\\wandb\\run-20230317_165929-4yqjbcb0\\logs</code>"
      ],
      "text/plain": [
       "<IPython.core.display.HTML object>"
      ]
     },
     "metadata": {},
     "output_type": "display_data"
    },
    {
     "name": "stderr",
     "output_type": "stream",
     "text": [
      "\u001b[34m\u001b[1mwandb\u001b[0m: Agent Starting Run: ad6m2t0g with config:\n",
      "\u001b[34m\u001b[1mwandb\u001b[0m: \tact_func: tanh\n",
      "\u001b[34m\u001b[1mwandb\u001b[0m: \tbatch_size: 64\n",
      "\u001b[34m\u001b[1mwandb\u001b[0m: \tl2_coeff: 0.5\n",
      "\u001b[34m\u001b[1mwandb\u001b[0m: \tloss_func: mse\n",
      "\u001b[34m\u001b[1mwandb\u001b[0m: \tlr: 0.001\n",
      "\u001b[34m\u001b[1mwandb\u001b[0m: \tn_epochs: 10\n",
      "\u001b[34m\u001b[1mwandb\u001b[0m: \tn_hidden: 4\n",
      "\u001b[34m\u001b[1mwandb\u001b[0m: \tn_hidden_units: 128\n",
      "\u001b[34m\u001b[1mwandb\u001b[0m: \toptim_algo: adam\n",
      "\u001b[34m\u001b[1mwandb\u001b[0m: \trelu_param: 0.01\n",
      "\u001b[34m\u001b[1mwandb\u001b[0m: \tweight_init: xavier_uniform\n",
      "Failed to detect the name of this notebook, you can set it manually with the WANDB_NOTEBOOK_NAME environment variable to enable code saving.\n"
     ]
    },
    {
     "data": {
      "text/html": [
       "Tracking run with wandb version 0.14.0"
      ],
      "text/plain": [
       "<IPython.core.display.HTML object>"
      ]
     },
     "metadata": {},
     "output_type": "display_data"
    },
    {
     "data": {
      "text/html": [
       "Run data is saved locally in <code>d:\\CS6901\\wandb\\run-20230317_170120-ad6m2t0g</code>"
      ],
      "text/plain": [
       "<IPython.core.display.HTML object>"
      ]
     },
     "metadata": {},
     "output_type": "display_data"
    },
    {
     "data": {
      "text/html": [
       "Syncing run <strong><a href='https://wandb.ai/viswa_ee/CS6910/runs/ad6m2t0g' target=\"_blank\">proud-sweep-12</a></strong> to <a href='https://wandb.ai/viswa_ee/CS6910' target=\"_blank\">Weights & Biases</a> (<a href='https://wandb.me/run' target=\"_blank\">docs</a>)<br/>Sweep page: <a href='https://wandb.ai/viswa_ee/CS6910/sweeps/t38ec2il' target=\"_blank\">https://wandb.ai/viswa_ee/CS6910/sweeps/t38ec2il</a>"
      ],
      "text/plain": [
       "<IPython.core.display.HTML object>"
      ]
     },
     "metadata": {},
     "output_type": "display_data"
    },
    {
     "data": {
      "text/html": [
       " View project at <a href='https://wandb.ai/viswa_ee/CS6910' target=\"_blank\">https://wandb.ai/viswa_ee/CS6910</a>"
      ],
      "text/plain": [
       "<IPython.core.display.HTML object>"
      ]
     },
     "metadata": {},
     "output_type": "display_data"
    },
    {
     "data": {
      "text/html": [
       " View sweep at <a href='https://wandb.ai/viswa_ee/CS6910/sweeps/t38ec2il' target=\"_blank\">https://wandb.ai/viswa_ee/CS6910/sweeps/t38ec2il</a>"
      ],
      "text/plain": [
       "<IPython.core.display.HTML object>"
      ]
     },
     "metadata": {},
     "output_type": "display_data"
    },
    {
     "data": {
      "text/html": [
       " View run at <a href='https://wandb.ai/viswa_ee/CS6910/runs/ad6m2t0g' target=\"_blank\">https://wandb.ai/viswa_ee/CS6910/runs/ad6m2t0g</a>"
      ],
      "text/plain": [
       "<IPython.core.display.HTML object>"
      ]
     },
     "metadata": {},
     "output_type": "display_data"
    },
    {
     "data": {
      "text/html": [
       "Waiting for W&B process to finish... <strong style=\"color:green\">(success).</strong>"
      ],
      "text/plain": [
       "<IPython.core.display.HTML object>"
      ]
     },
     "metadata": {},
     "output_type": "display_data"
    },
    {
     "data": {
      "text/html": [
       "<style>\n",
       "    table.wandb td:nth-child(1) { padding: 0 10px; text-align: left ; width: auto;} td:nth-child(2) {text-align: left ; width: 100%}\n",
       "    .wandb-row { display: flex; flex-direction: row; flex-wrap: wrap; justify-content: flex-start; width: 100% }\n",
       "    .wandb-col { display: flex; flex-direction: column; flex-basis: 100%; flex: 1; padding: 10px; }\n",
       "    </style>\n",
       "<div class=\"wandb-row\"><div class=\"wandb-col\"><h3>Run history:</h3><br/><table class=\"wandb\"><tr><td>train_acc</td><td>▁▂▃▄▅▆▆▇██</td></tr><tr><td>train_loss</td><td>▁▃▅█▆▆██▆█</td></tr><tr><td>val_acc</td><td>▁▂▃▄▅▆▆▇██</td></tr><tr><td>val_loss</td><td>▁▂▄▅▆▇▇███</td></tr></table><br/></div><div class=\"wandb-col\"><h3>Run summary:</h3><br/><table class=\"wandb\"><tr><td>train_acc</td><td>0.82611</td></tr><tr><td>train_loss</td><td>-1152.59679</td></tr><tr><td>val_acc</td><td>0.81267</td></tr><tr><td>val_loss</td><td>-1267.9448</td></tr></table><br/></div></div>"
      ],
      "text/plain": [
       "<IPython.core.display.HTML object>"
      ]
     },
     "metadata": {},
     "output_type": "display_data"
    },
    {
     "data": {
      "text/html": [
       " View run <strong style=\"color:#cdcd00\">proud-sweep-12</strong> at: <a href='https://wandb.ai/viswa_ee/CS6910/runs/ad6m2t0g' target=\"_blank\">https://wandb.ai/viswa_ee/CS6910/runs/ad6m2t0g</a><br/>Synced 4 W&B file(s), 1 media file(s), 0 artifact file(s) and 0 other file(s)"
      ],
      "text/plain": [
       "<IPython.core.display.HTML object>"
      ]
     },
     "metadata": {},
     "output_type": "display_data"
    },
    {
     "data": {
      "text/html": [
       "Find logs at: <code>.\\wandb\\run-20230317_170120-ad6m2t0g\\logs</code>"
      ],
      "text/plain": [
       "<IPython.core.display.HTML object>"
      ]
     },
     "metadata": {},
     "output_type": "display_data"
    },
    {
     "name": "stderr",
     "output_type": "stream",
     "text": [
      "\u001b[34m\u001b[1mwandb\u001b[0m: Agent Starting Run: j4mnw1f4 with config:\n",
      "\u001b[34m\u001b[1mwandb\u001b[0m: \tact_func: identity\n",
      "\u001b[34m\u001b[1mwandb\u001b[0m: \tbatch_size: 64\n",
      "\u001b[34m\u001b[1mwandb\u001b[0m: \tl2_coeff: 0.5\n",
      "\u001b[34m\u001b[1mwandb\u001b[0m: \tloss_func: mse\n",
      "\u001b[34m\u001b[1mwandb\u001b[0m: \tlr: 0.0001\n",
      "\u001b[34m\u001b[1mwandb\u001b[0m: \tn_epochs: 10\n",
      "\u001b[34m\u001b[1mwandb\u001b[0m: \tn_hidden: 4\n",
      "\u001b[34m\u001b[1mwandb\u001b[0m: \tn_hidden_units: 128\n",
      "\u001b[34m\u001b[1mwandb\u001b[0m: \toptim_algo: rmsprop\n",
      "\u001b[34m\u001b[1mwandb\u001b[0m: \trelu_param: 0.001\n",
      "\u001b[34m\u001b[1mwandb\u001b[0m: \tweight_init: xavier_uniform\n",
      "Failed to detect the name of this notebook, you can set it manually with the WANDB_NOTEBOOK_NAME environment variable to enable code saving.\n"
     ]
    },
    {
     "data": {
      "text/html": [
       "Tracking run with wandb version 0.14.0"
      ],
      "text/plain": [
       "<IPython.core.display.HTML object>"
      ]
     },
     "metadata": {},
     "output_type": "display_data"
    },
    {
     "data": {
      "text/html": [
       "Run data is saved locally in <code>d:\\CS6901\\wandb\\run-20230317_170428-j4mnw1f4</code>"
      ],
      "text/plain": [
       "<IPython.core.display.HTML object>"
      ]
     },
     "metadata": {},
     "output_type": "display_data"
    },
    {
     "data": {
      "text/html": [
       "Syncing run <strong><a href='https://wandb.ai/viswa_ee/CS6910/runs/j4mnw1f4' target=\"_blank\">solar-sweep-13</a></strong> to <a href='https://wandb.ai/viswa_ee/CS6910' target=\"_blank\">Weights & Biases</a> (<a href='https://wandb.me/run' target=\"_blank\">docs</a>)<br/>Sweep page: <a href='https://wandb.ai/viswa_ee/CS6910/sweeps/t38ec2il' target=\"_blank\">https://wandb.ai/viswa_ee/CS6910/sweeps/t38ec2il</a>"
      ],
      "text/plain": [
       "<IPython.core.display.HTML object>"
      ]
     },
     "metadata": {},
     "output_type": "display_data"
    },
    {
     "data": {
      "text/html": [
       " View project at <a href='https://wandb.ai/viswa_ee/CS6910' target=\"_blank\">https://wandb.ai/viswa_ee/CS6910</a>"
      ],
      "text/plain": [
       "<IPython.core.display.HTML object>"
      ]
     },
     "metadata": {},
     "output_type": "display_data"
    },
    {
     "data": {
      "text/html": [
       " View sweep at <a href='https://wandb.ai/viswa_ee/CS6910/sweeps/t38ec2il' target=\"_blank\">https://wandb.ai/viswa_ee/CS6910/sweeps/t38ec2il</a>"
      ],
      "text/plain": [
       "<IPython.core.display.HTML object>"
      ]
     },
     "metadata": {},
     "output_type": "display_data"
    },
    {
     "data": {
      "text/html": [
       " View run at <a href='https://wandb.ai/viswa_ee/CS6910/runs/j4mnw1f4' target=\"_blank\">https://wandb.ai/viswa_ee/CS6910/runs/j4mnw1f4</a>"
      ],
      "text/plain": [
       "<IPython.core.display.HTML object>"
      ]
     },
     "metadata": {},
     "output_type": "display_data"
    },
    {
     "data": {
      "text/html": [
       "Waiting for W&B process to finish... <strong style=\"color:green\">(success).</strong>"
      ],
      "text/plain": [
       "<IPython.core.display.HTML object>"
      ]
     },
     "metadata": {},
     "output_type": "display_data"
    },
    {
     "data": {
      "text/html": [
       "<style>\n",
       "    table.wandb td:nth-child(1) { padding: 0 10px; text-align: left ; width: auto;} td:nth-child(2) {text-align: left ; width: 100%}\n",
       "    .wandb-row { display: flex; flex-direction: row; flex-wrap: wrap; justify-content: flex-start; width: 100% }\n",
       "    .wandb-col { display: flex; flex-direction: column; flex-basis: 100%; flex: 1; padding: 10px; }\n",
       "    </style>\n",
       "<div class=\"wandb-row\"><div class=\"wandb-col\"><h3>Run history:</h3><br/><table class=\"wandb\"><tr><td>train_acc</td><td>██▇▆▄▃▂▂▂▁</td></tr><tr><td>train_loss</td><td>▂▁▃▄▅▅▇█▆▇</td></tr><tr><td>val_acc</td><td>██▇▆▅▃▂▂▂▁</td></tr><tr><td>val_loss</td><td>▁▁▂▄▅▆▇▇▇█</td></tr></table><br/></div><div class=\"wandb-col\"><h3>Run summary:</h3><br/><table class=\"wandb\"><tr><td>train_acc</td><td>0.18074</td></tr><tr><td>train_loss</td><td>-9942758.90022</td></tr><tr><td>val_acc</td><td>0.17467</td></tr><tr><td>val_loss</td><td>-9787283.97125</td></tr></table><br/></div></div>"
      ],
      "text/plain": [
       "<IPython.core.display.HTML object>"
      ]
     },
     "metadata": {},
     "output_type": "display_data"
    },
    {
     "data": {
      "text/html": [
       " View run <strong style=\"color:#cdcd00\">solar-sweep-13</strong> at: <a href='https://wandb.ai/viswa_ee/CS6910/runs/j4mnw1f4' target=\"_blank\">https://wandb.ai/viswa_ee/CS6910/runs/j4mnw1f4</a><br/>Synced 4 W&B file(s), 1 media file(s), 0 artifact file(s) and 0 other file(s)"
      ],
      "text/plain": [
       "<IPython.core.display.HTML object>"
      ]
     },
     "metadata": {},
     "output_type": "display_data"
    },
    {
     "data": {
      "text/html": [
       "Find logs at: <code>.\\wandb\\run-20230317_170428-j4mnw1f4\\logs</code>"
      ],
      "text/plain": [
       "<IPython.core.display.HTML object>"
      ]
     },
     "metadata": {},
     "output_type": "display_data"
    },
    {
     "name": "stderr",
     "output_type": "stream",
     "text": [
      "\u001b[34m\u001b[1mwandb\u001b[0m: Agent Starting Run: oiy7xdy7 with config:\n",
      "\u001b[34m\u001b[1mwandb\u001b[0m: \tact_func: sigmoid\n",
      "\u001b[34m\u001b[1mwandb\u001b[0m: \tbatch_size: 64\n",
      "\u001b[34m\u001b[1mwandb\u001b[0m: \tl2_coeff: 0.0005\n",
      "\u001b[34m\u001b[1mwandb\u001b[0m: \tloss_func: cross_ent\n",
      "\u001b[34m\u001b[1mwandb\u001b[0m: \tlr: 0.001\n",
      "\u001b[34m\u001b[1mwandb\u001b[0m: \tn_epochs: 5\n",
      "\u001b[34m\u001b[1mwandb\u001b[0m: \tn_hidden: 5\n",
      "\u001b[34m\u001b[1mwandb\u001b[0m: \tn_hidden_units: 128\n",
      "\u001b[34m\u001b[1mwandb\u001b[0m: \toptim_algo: nadam\n",
      "\u001b[34m\u001b[1mwandb\u001b[0m: \trelu_param: 0.01\n",
      "\u001b[34m\u001b[1mwandb\u001b[0m: \tweight_init: xavier_uniform\n",
      "Failed to detect the name of this notebook, you can set it manually with the WANDB_NOTEBOOK_NAME environment variable to enable code saving.\n"
     ]
    },
    {
     "data": {
      "text/html": [
       "Tracking run with wandb version 0.14.0"
      ],
      "text/plain": [
       "<IPython.core.display.HTML object>"
      ]
     },
     "metadata": {},
     "output_type": "display_data"
    },
    {
     "data": {
      "text/html": [
       "Run data is saved locally in <code>d:\\CS6901\\wandb\\run-20230317_170605-oiy7xdy7</code>"
      ],
      "text/plain": [
       "<IPython.core.display.HTML object>"
      ]
     },
     "metadata": {},
     "output_type": "display_data"
    },
    {
     "data": {
      "text/html": [
       "Syncing run <strong><a href='https://wandb.ai/viswa_ee/CS6910/runs/oiy7xdy7' target=\"_blank\">snowy-sweep-14</a></strong> to <a href='https://wandb.ai/viswa_ee/CS6910' target=\"_blank\">Weights & Biases</a> (<a href='https://wandb.me/run' target=\"_blank\">docs</a>)<br/>Sweep page: <a href='https://wandb.ai/viswa_ee/CS6910/sweeps/t38ec2il' target=\"_blank\">https://wandb.ai/viswa_ee/CS6910/sweeps/t38ec2il</a>"
      ],
      "text/plain": [
       "<IPython.core.display.HTML object>"
      ]
     },
     "metadata": {},
     "output_type": "display_data"
    },
    {
     "data": {
      "text/html": [
       " View project at <a href='https://wandb.ai/viswa_ee/CS6910' target=\"_blank\">https://wandb.ai/viswa_ee/CS6910</a>"
      ],
      "text/plain": [
       "<IPython.core.display.HTML object>"
      ]
     },
     "metadata": {},
     "output_type": "display_data"
    },
    {
     "data": {
      "text/html": [
       " View sweep at <a href='https://wandb.ai/viswa_ee/CS6910/sweeps/t38ec2il' target=\"_blank\">https://wandb.ai/viswa_ee/CS6910/sweeps/t38ec2il</a>"
      ],
      "text/plain": [
       "<IPython.core.display.HTML object>"
      ]
     },
     "metadata": {},
     "output_type": "display_data"
    },
    {
     "data": {
      "text/html": [
       " View run at <a href='https://wandb.ai/viswa_ee/CS6910/runs/oiy7xdy7' target=\"_blank\">https://wandb.ai/viswa_ee/CS6910/runs/oiy7xdy7</a>"
      ],
      "text/plain": [
       "<IPython.core.display.HTML object>"
      ]
     },
     "metadata": {},
     "output_type": "display_data"
    },
    {
     "data": {
      "text/html": [
       "Waiting for W&B process to finish... <strong style=\"color:green\">(success).</strong>"
      ],
      "text/plain": [
       "<IPython.core.display.HTML object>"
      ]
     },
     "metadata": {},
     "output_type": "display_data"
    },
    {
     "data": {
      "text/html": [
       "<style>\n",
       "    table.wandb td:nth-child(1) { padding: 0 10px; text-align: left ; width: auto;} td:nth-child(2) {text-align: left ; width: 100%}\n",
       "    .wandb-row { display: flex; flex-direction: row; flex-wrap: wrap; justify-content: flex-start; width: 100% }\n",
       "    .wandb-col { display: flex; flex-direction: column; flex-basis: 100%; flex: 1; padding: 10px; }\n",
       "    </style>\n",
       "<div class=\"wandb-row\"><div class=\"wandb-col\"><h3>Run history:</h3><br/><table class=\"wandb\"><tr><td>train_acc</td><td>▁▄▆▇█</td></tr><tr><td>train_loss</td><td>▆█▂▁▅</td></tr><tr><td>val_acc</td><td>▁▄▆▇█</td></tr><tr><td>val_loss</td><td>█▅▃▂▁</td></tr></table><br/></div><div class=\"wandb-col\"><h3>Run summary:</h3><br/><table class=\"wandb\"><tr><td>train_acc</td><td>0.85746</td></tr><tr><td>train_loss</td><td>1.37263</td></tr><tr><td>val_acc</td><td>0.837</td></tr><tr><td>val_loss</td><td>0.46324</td></tr></table><br/></div></div>"
      ],
      "text/plain": [
       "<IPython.core.display.HTML object>"
      ]
     },
     "metadata": {},
     "output_type": "display_data"
    },
    {
     "data": {
      "text/html": [
       " View run <strong style=\"color:#cdcd00\">snowy-sweep-14</strong> at: <a href='https://wandb.ai/viswa_ee/CS6910/runs/oiy7xdy7' target=\"_blank\">https://wandb.ai/viswa_ee/CS6910/runs/oiy7xdy7</a><br/>Synced 4 W&B file(s), 1 media file(s), 0 artifact file(s) and 0 other file(s)"
      ],
      "text/plain": [
       "<IPython.core.display.HTML object>"
      ]
     },
     "metadata": {},
     "output_type": "display_data"
    },
    {
     "data": {
      "text/html": [
       "Find logs at: <code>.\\wandb\\run-20230317_170605-oiy7xdy7\\logs</code>"
      ],
      "text/plain": [
       "<IPython.core.display.HTML object>"
      ]
     },
     "metadata": {},
     "output_type": "display_data"
    },
    {
     "name": "stderr",
     "output_type": "stream",
     "text": [
      "\u001b[34m\u001b[1mwandb\u001b[0m: Agent Starting Run: 2hr7m023 with config:\n",
      "\u001b[34m\u001b[1mwandb\u001b[0m: \tact_func: sigmoid\n",
      "\u001b[34m\u001b[1mwandb\u001b[0m: \tbatch_size: 64\n",
      "\u001b[34m\u001b[1mwandb\u001b[0m: \tl2_coeff: 0.5\n",
      "\u001b[34m\u001b[1mwandb\u001b[0m: \tloss_func: cross_ent\n",
      "\u001b[34m\u001b[1mwandb\u001b[0m: \tlr: 0.001\n",
      "\u001b[34m\u001b[1mwandb\u001b[0m: \tn_epochs: 10\n",
      "\u001b[34m\u001b[1mwandb\u001b[0m: \tn_hidden: 5\n",
      "\u001b[34m\u001b[1mwandb\u001b[0m: \tn_hidden_units: 128\n",
      "\u001b[34m\u001b[1mwandb\u001b[0m: \toptim_algo: nadam\n",
      "\u001b[34m\u001b[1mwandb\u001b[0m: \trelu_param: 0.01\n",
      "\u001b[34m\u001b[1mwandb\u001b[0m: \tweight_init: xavier_uniform\n",
      "Failed to detect the name of this notebook, you can set it manually with the WANDB_NOTEBOOK_NAME environment variable to enable code saving.\n"
     ]
    },
    {
     "data": {
      "text/html": [
       "Tracking run with wandb version 0.14.0"
      ],
      "text/plain": [
       "<IPython.core.display.HTML object>"
      ]
     },
     "metadata": {},
     "output_type": "display_data"
    },
    {
     "data": {
      "text/html": [
       "Run data is saved locally in <code>d:\\CS6901\\wandb\\run-20230317_170728-2hr7m023</code>"
      ],
      "text/plain": [
       "<IPython.core.display.HTML object>"
      ]
     },
     "metadata": {},
     "output_type": "display_data"
    },
    {
     "data": {
      "text/html": [
       "Syncing run <strong><a href='https://wandb.ai/viswa_ee/CS6910/runs/2hr7m023' target=\"_blank\">smart-sweep-15</a></strong> to <a href='https://wandb.ai/viswa_ee/CS6910' target=\"_blank\">Weights & Biases</a> (<a href='https://wandb.me/run' target=\"_blank\">docs</a>)<br/>Sweep page: <a href='https://wandb.ai/viswa_ee/CS6910/sweeps/t38ec2il' target=\"_blank\">https://wandb.ai/viswa_ee/CS6910/sweeps/t38ec2il</a>"
      ],
      "text/plain": [
       "<IPython.core.display.HTML object>"
      ]
     },
     "metadata": {},
     "output_type": "display_data"
    },
    {
     "data": {
      "text/html": [
       " View project at <a href='https://wandb.ai/viswa_ee/CS6910' target=\"_blank\">https://wandb.ai/viswa_ee/CS6910</a>"
      ],
      "text/plain": [
       "<IPython.core.display.HTML object>"
      ]
     },
     "metadata": {},
     "output_type": "display_data"
    },
    {
     "data": {
      "text/html": [
       " View sweep at <a href='https://wandb.ai/viswa_ee/CS6910/sweeps/t38ec2il' target=\"_blank\">https://wandb.ai/viswa_ee/CS6910/sweeps/t38ec2il</a>"
      ],
      "text/plain": [
       "<IPython.core.display.HTML object>"
      ]
     },
     "metadata": {},
     "output_type": "display_data"
    },
    {
     "data": {
      "text/html": [
       " View run at <a href='https://wandb.ai/viswa_ee/CS6910/runs/2hr7m023' target=\"_blank\">https://wandb.ai/viswa_ee/CS6910/runs/2hr7m023</a>"
      ],
      "text/plain": [
       "<IPython.core.display.HTML object>"
      ]
     },
     "metadata": {},
     "output_type": "display_data"
    },
    {
     "data": {
      "text/html": [
       "Waiting for W&B process to finish... <strong style=\"color:green\">(success).</strong>"
      ],
      "text/plain": [
       "<IPython.core.display.HTML object>"
      ]
     },
     "metadata": {},
     "output_type": "display_data"
    },
    {
     "data": {
      "text/html": [
       "<style>\n",
       "    table.wandb td:nth-child(1) { padding: 0 10px; text-align: left ; width: auto;} td:nth-child(2) {text-align: left ; width: 100%}\n",
       "    .wandb-row { display: flex; flex-direction: row; flex-wrap: wrap; justify-content: flex-start; width: 100% }\n",
       "    .wandb-col { display: flex; flex-direction: column; flex-basis: 100%; flex: 1; padding: 10px; }\n",
       "    </style>\n",
       "<div class=\"wandb-row\"><div class=\"wandb-col\"><h3>Run history:</h3><br/><table class=\"wandb\"><tr><td>train_acc</td><td>▁▇█▄▄▂▂▂▁▃</td></tr><tr><td>train_loss</td><td>█▃▂▁▁▁▁▁▁▁</td></tr><tr><td>val_acc</td><td>▁▇█▄▅▁▃▃▁▃</td></tr><tr><td>val_loss</td><td>█▃▁▁▁▁▁▁▁▁</td></tr></table><br/></div><div class=\"wandb-col\"><h3>Run summary:</h3><br/><table class=\"wandb\"><tr><td>train_acc</td><td>0.77439</td></tr><tr><td>train_loss</td><td>1.88442</td></tr><tr><td>val_acc</td><td>0.76933</td></tr><tr><td>val_loss</td><td>0.68775</td></tr></table><br/></div></div>"
      ],
      "text/plain": [
       "<IPython.core.display.HTML object>"
      ]
     },
     "metadata": {},
     "output_type": "display_data"
    },
    {
     "data": {
      "text/html": [
       " View run <strong style=\"color:#cdcd00\">smart-sweep-15</strong> at: <a href='https://wandb.ai/viswa_ee/CS6910/runs/2hr7m023' target=\"_blank\">https://wandb.ai/viswa_ee/CS6910/runs/2hr7m023</a><br/>Synced 4 W&B file(s), 1 media file(s), 0 artifact file(s) and 0 other file(s)"
      ],
      "text/plain": [
       "<IPython.core.display.HTML object>"
      ]
     },
     "metadata": {},
     "output_type": "display_data"
    },
    {
     "data": {
      "text/html": [
       "Find logs at: <code>.\\wandb\\run-20230317_170728-2hr7m023\\logs</code>"
      ],
      "text/plain": [
       "<IPython.core.display.HTML object>"
      ]
     },
     "metadata": {},
     "output_type": "display_data"
    },
    {
     "name": "stderr",
     "output_type": "stream",
     "text": [
      "\u001b[34m\u001b[1mwandb\u001b[0m: Agent Starting Run: erjm6j7j with config:\n",
      "\u001b[34m\u001b[1mwandb\u001b[0m: \tact_func: sigmoid\n",
      "\u001b[34m\u001b[1mwandb\u001b[0m: \tbatch_size: 64\n",
      "\u001b[34m\u001b[1mwandb\u001b[0m: \tl2_coeff: 0.0005\n",
      "\u001b[34m\u001b[1mwandb\u001b[0m: \tloss_func: mse\n",
      "\u001b[34m\u001b[1mwandb\u001b[0m: \tlr: 0.001\n",
      "\u001b[34m\u001b[1mwandb\u001b[0m: \tn_epochs: 5\n",
      "\u001b[34m\u001b[1mwandb\u001b[0m: \tn_hidden: 5\n",
      "\u001b[34m\u001b[1mwandb\u001b[0m: \tn_hidden_units: 128\n",
      "\u001b[34m\u001b[1mwandb\u001b[0m: \toptim_algo: nadam\n",
      "\u001b[34m\u001b[1mwandb\u001b[0m: \trelu_param: 0.01\n",
      "\u001b[34m\u001b[1mwandb\u001b[0m: \tweight_init: xavier_uniform\n",
      "Failed to detect the name of this notebook, you can set it manually with the WANDB_NOTEBOOK_NAME environment variable to enable code saving.\n"
     ]
    },
    {
     "data": {
      "text/html": [
       "Tracking run with wandb version 0.14.0"
      ],
      "text/plain": [
       "<IPython.core.display.HTML object>"
      ]
     },
     "metadata": {},
     "output_type": "display_data"
    },
    {
     "data": {
      "text/html": [
       "Run data is saved locally in <code>d:\\CS6901\\wandb\\run-20230317_170937-erjm6j7j</code>"
      ],
      "text/plain": [
       "<IPython.core.display.HTML object>"
      ]
     },
     "metadata": {},
     "output_type": "display_data"
    },
    {
     "data": {
      "text/html": [
       "Syncing run <strong><a href='https://wandb.ai/viswa_ee/CS6910/runs/erjm6j7j' target=\"_blank\">royal-sweep-16</a></strong> to <a href='https://wandb.ai/viswa_ee/CS6910' target=\"_blank\">Weights & Biases</a> (<a href='https://wandb.me/run' target=\"_blank\">docs</a>)<br/>Sweep page: <a href='https://wandb.ai/viswa_ee/CS6910/sweeps/t38ec2il' target=\"_blank\">https://wandb.ai/viswa_ee/CS6910/sweeps/t38ec2il</a>"
      ],
      "text/plain": [
       "<IPython.core.display.HTML object>"
      ]
     },
     "metadata": {},
     "output_type": "display_data"
    },
    {
     "data": {
      "text/html": [
       " View project at <a href='https://wandb.ai/viswa_ee/CS6910' target=\"_blank\">https://wandb.ai/viswa_ee/CS6910</a>"
      ],
      "text/plain": [
       "<IPython.core.display.HTML object>"
      ]
     },
     "metadata": {},
     "output_type": "display_data"
    },
    {
     "data": {
      "text/html": [
       " View sweep at <a href='https://wandb.ai/viswa_ee/CS6910/sweeps/t38ec2il' target=\"_blank\">https://wandb.ai/viswa_ee/CS6910/sweeps/t38ec2il</a>"
      ],
      "text/plain": [
       "<IPython.core.display.HTML object>"
      ]
     },
     "metadata": {},
     "output_type": "display_data"
    },
    {
     "data": {
      "text/html": [
       " View run at <a href='https://wandb.ai/viswa_ee/CS6910/runs/erjm6j7j' target=\"_blank\">https://wandb.ai/viswa_ee/CS6910/runs/erjm6j7j</a>"
      ],
      "text/plain": [
       "<IPython.core.display.HTML object>"
      ]
     },
     "metadata": {},
     "output_type": "display_data"
    },
    {
     "data": {
      "text/html": [
       "Waiting for W&B process to finish... <strong style=\"color:green\">(success).</strong>"
      ],
      "text/plain": [
       "<IPython.core.display.HTML object>"
      ]
     },
     "metadata": {},
     "output_type": "display_data"
    },
    {
     "data": {
      "text/html": [
       "<style>\n",
       "    table.wandb td:nth-child(1) { padding: 0 10px; text-align: left ; width: auto;} td:nth-child(2) {text-align: left ; width: 100%}\n",
       "    .wandb-row { display: flex; flex-direction: row; flex-wrap: wrap; justify-content: flex-start; width: 100% }\n",
       "    .wandb-col { display: flex; flex-direction: column; flex-basis: 100%; flex: 1; padding: 10px; }\n",
       "    </style>\n",
       "<div class=\"wandb-row\"><div class=\"wandb-col\"><h3>Run history:</h3><br/><table class=\"wandb\"><tr><td>train_acc</td><td>▁▅▆▇█</td></tr><tr><td>train_loss</td><td>██▅▆▁</td></tr><tr><td>val_acc</td><td>▁▅▇██</td></tr><tr><td>val_loss</td><td>█▆▅▄▁</td></tr></table><br/></div><div class=\"wandb-col\"><h3>Run summary:</h3><br/><table class=\"wandb\"><tr><td>train_acc</td><td>0.85178</td></tr><tr><td>train_loss</td><td>-783.05506</td></tr><tr><td>val_acc</td><td>0.83283</td></tr><tr><td>val_loss</td><td>-753.99753</td></tr></table><br/></div></div>"
      ],
      "text/plain": [
       "<IPython.core.display.HTML object>"
      ]
     },
     "metadata": {},
     "output_type": "display_data"
    },
    {
     "data": {
      "text/html": [
       " View run <strong style=\"color:#cdcd00\">royal-sweep-16</strong> at: <a href='https://wandb.ai/viswa_ee/CS6910/runs/erjm6j7j' target=\"_blank\">https://wandb.ai/viswa_ee/CS6910/runs/erjm6j7j</a><br/>Synced 4 W&B file(s), 1 media file(s), 0 artifact file(s) and 0 other file(s)"
      ],
      "text/plain": [
       "<IPython.core.display.HTML object>"
      ]
     },
     "metadata": {},
     "output_type": "display_data"
    },
    {
     "data": {
      "text/html": [
       "Find logs at: <code>.\\wandb\\run-20230317_170937-erjm6j7j\\logs</code>"
      ],
      "text/plain": [
       "<IPython.core.display.HTML object>"
      ]
     },
     "metadata": {},
     "output_type": "display_data"
    },
    {
     "name": "stderr",
     "output_type": "stream",
     "text": [
      "\u001b[34m\u001b[1mwandb\u001b[0m: Agent Starting Run: nxrbc2i6 with config:\n",
      "\u001b[34m\u001b[1mwandb\u001b[0m: \tact_func: sigmoid\n",
      "\u001b[34m\u001b[1mwandb\u001b[0m: \tbatch_size: 64\n",
      "\u001b[34m\u001b[1mwandb\u001b[0m: \tl2_coeff: 0.5\n",
      "\u001b[34m\u001b[1mwandb\u001b[0m: \tloss_func: mse\n",
      "\u001b[34m\u001b[1mwandb\u001b[0m: \tlr: 0.001\n",
      "\u001b[34m\u001b[1mwandb\u001b[0m: \tn_epochs: 10\n",
      "\u001b[34m\u001b[1mwandb\u001b[0m: \tn_hidden: 5\n",
      "\u001b[34m\u001b[1mwandb\u001b[0m: \tn_hidden_units: 128\n",
      "\u001b[34m\u001b[1mwandb\u001b[0m: \toptim_algo: nadam\n",
      "\u001b[34m\u001b[1mwandb\u001b[0m: \trelu_param: 0.01\n",
      "\u001b[34m\u001b[1mwandb\u001b[0m: \tweight_init: xavier_uniform\n",
      "Failed to detect the name of this notebook, you can set it manually with the WANDB_NOTEBOOK_NAME environment variable to enable code saving.\n"
     ]
    },
    {
     "data": {
      "text/html": [
       "Tracking run with wandb version 0.14.0"
      ],
      "text/plain": [
       "<IPython.core.display.HTML object>"
      ]
     },
     "metadata": {},
     "output_type": "display_data"
    },
    {
     "data": {
      "text/html": [
       "Run data is saved locally in <code>d:\\CS6901\\wandb\\run-20230317_171056-nxrbc2i6</code>"
      ],
      "text/plain": [
       "<IPython.core.display.HTML object>"
      ]
     },
     "metadata": {},
     "output_type": "display_data"
    },
    {
     "data": {
      "text/html": [
       "Syncing run <strong><a href='https://wandb.ai/viswa_ee/CS6910/runs/nxrbc2i6' target=\"_blank\">silvery-sweep-17</a></strong> to <a href='https://wandb.ai/viswa_ee/CS6910' target=\"_blank\">Weights & Biases</a> (<a href='https://wandb.me/run' target=\"_blank\">docs</a>)<br/>Sweep page: <a href='https://wandb.ai/viswa_ee/CS6910/sweeps/t38ec2il' target=\"_blank\">https://wandb.ai/viswa_ee/CS6910/sweeps/t38ec2il</a>"
      ],
      "text/plain": [
       "<IPython.core.display.HTML object>"
      ]
     },
     "metadata": {},
     "output_type": "display_data"
    },
    {
     "data": {
      "text/html": [
       " View project at <a href='https://wandb.ai/viswa_ee/CS6910' target=\"_blank\">https://wandb.ai/viswa_ee/CS6910</a>"
      ],
      "text/plain": [
       "<IPython.core.display.HTML object>"
      ]
     },
     "metadata": {},
     "output_type": "display_data"
    },
    {
     "data": {
      "text/html": [
       " View sweep at <a href='https://wandb.ai/viswa_ee/CS6910/sweeps/t38ec2il' target=\"_blank\">https://wandb.ai/viswa_ee/CS6910/sweeps/t38ec2il</a>"
      ],
      "text/plain": [
       "<IPython.core.display.HTML object>"
      ]
     },
     "metadata": {},
     "output_type": "display_data"
    },
    {
     "data": {
      "text/html": [
       " View run at <a href='https://wandb.ai/viswa_ee/CS6910/runs/nxrbc2i6' target=\"_blank\">https://wandb.ai/viswa_ee/CS6910/runs/nxrbc2i6</a>"
      ],
      "text/plain": [
       "<IPython.core.display.HTML object>"
      ]
     },
     "metadata": {},
     "output_type": "display_data"
    },
    {
     "data": {
      "text/html": [
       "Waiting for W&B process to finish... <strong style=\"color:green\">(success).</strong>"
      ],
      "text/plain": [
       "<IPython.core.display.HTML object>"
      ]
     },
     "metadata": {},
     "output_type": "display_data"
    },
    {
     "data": {
      "text/html": [
       "<style>\n",
       "    table.wandb td:nth-child(1) { padding: 0 10px; text-align: left ; width: auto;} td:nth-child(2) {text-align: left ; width: 100%}\n",
       "    .wandb-row { display: flex; flex-direction: row; flex-wrap: wrap; justify-content: flex-start; width: 100% }\n",
       "    .wandb-col { display: flex; flex-direction: column; flex-basis: 100%; flex: 1; padding: 10px; }\n",
       "    </style>\n",
       "<div class=\"wandb-row\"><div class=\"wandb-col\"><h3>Run history:</h3><br/><table class=\"wandb\"><tr><td>train_acc</td><td>▁█▅▇▆▇▃▅▆▆</td></tr><tr><td>train_loss</td><td>█▄▃▄▃▃▃▂▁▂</td></tr><tr><td>val_acc</td><td>▁█▆█▇█▅▅▇▇</td></tr><tr><td>val_loss</td><td>█▅▄▆▅▄▃▂▁▁</td></tr></table><br/></div><div class=\"wandb-col\"><h3>Run summary:</h3><br/><table class=\"wandb\"><tr><td>train_acc</td><td>0.8205</td></tr><tr><td>train_loss</td><td>-439.03495</td></tr><tr><td>val_acc</td><td>0.8185</td></tr><tr><td>val_loss</td><td>-484.39333</td></tr></table><br/></div></div>"
      ],
      "text/plain": [
       "<IPython.core.display.HTML object>"
      ]
     },
     "metadata": {},
     "output_type": "display_data"
    },
    {
     "data": {
      "text/html": [
       " View run <strong style=\"color:#cdcd00\">silvery-sweep-17</strong> at: <a href='https://wandb.ai/viswa_ee/CS6910/runs/nxrbc2i6' target=\"_blank\">https://wandb.ai/viswa_ee/CS6910/runs/nxrbc2i6</a><br/>Synced 4 W&B file(s), 1 media file(s), 0 artifact file(s) and 0 other file(s)"
      ],
      "text/plain": [
       "<IPython.core.display.HTML object>"
      ]
     },
     "metadata": {},
     "output_type": "display_data"
    },
    {
     "data": {
      "text/html": [
       "Find logs at: <code>.\\wandb\\run-20230317_171056-nxrbc2i6\\logs</code>"
      ],
      "text/plain": [
       "<IPython.core.display.HTML object>"
      ]
     },
     "metadata": {},
     "output_type": "display_data"
    },
    {
     "name": "stderr",
     "output_type": "stream",
     "text": [
      "\u001b[34m\u001b[1mwandb\u001b[0m: Agent Starting Run: oq6mcmal with config:\n",
      "\u001b[34m\u001b[1mwandb\u001b[0m: \tact_func: sigmoid\n",
      "\u001b[34m\u001b[1mwandb\u001b[0m: \tbatch_size: 32\n",
      "\u001b[34m\u001b[1mwandb\u001b[0m: \tl2_coeff: 0.0005\n",
      "\u001b[34m\u001b[1mwandb\u001b[0m: \tloss_func: mse\n",
      "\u001b[34m\u001b[1mwandb\u001b[0m: \tlr: 0.001\n",
      "\u001b[34m\u001b[1mwandb\u001b[0m: \tn_epochs: 10\n",
      "\u001b[34m\u001b[1mwandb\u001b[0m: \tn_hidden: 5\n",
      "\u001b[34m\u001b[1mwandb\u001b[0m: \tn_hidden_units: 128\n",
      "\u001b[34m\u001b[1mwandb\u001b[0m: \toptim_algo: nadam\n",
      "\u001b[34m\u001b[1mwandb\u001b[0m: \trelu_param: 0.1\n",
      "\u001b[34m\u001b[1mwandb\u001b[0m: \tweight_init: xavier_uniform\n",
      "Failed to detect the name of this notebook, you can set it manually with the WANDB_NOTEBOOK_NAME environment variable to enable code saving.\n"
     ]
    },
    {
     "data": {
      "text/html": [
       "Tracking run with wandb version 0.14.0"
      ],
      "text/plain": [
       "<IPython.core.display.HTML object>"
      ]
     },
     "metadata": {},
     "output_type": "display_data"
    },
    {
     "data": {
      "text/html": [
       "Run data is saved locally in <code>d:\\CS6901\\wandb\\run-20230317_171321-oq6mcmal</code>"
      ],
      "text/plain": [
       "<IPython.core.display.HTML object>"
      ]
     },
     "metadata": {},
     "output_type": "display_data"
    },
    {
     "data": {
      "text/html": [
       "Syncing run <strong><a href='https://wandb.ai/viswa_ee/CS6910/runs/oq6mcmal' target=\"_blank\">ethereal-sweep-18</a></strong> to <a href='https://wandb.ai/viswa_ee/CS6910' target=\"_blank\">Weights & Biases</a> (<a href='https://wandb.me/run' target=\"_blank\">docs</a>)<br/>Sweep page: <a href='https://wandb.ai/viswa_ee/CS6910/sweeps/t38ec2il' target=\"_blank\">https://wandb.ai/viswa_ee/CS6910/sweeps/t38ec2il</a>"
      ],
      "text/plain": [
       "<IPython.core.display.HTML object>"
      ]
     },
     "metadata": {},
     "output_type": "display_data"
    },
    {
     "data": {
      "text/html": [
       " View project at <a href='https://wandb.ai/viswa_ee/CS6910' target=\"_blank\">https://wandb.ai/viswa_ee/CS6910</a>"
      ],
      "text/plain": [
       "<IPython.core.display.HTML object>"
      ]
     },
     "metadata": {},
     "output_type": "display_data"
    },
    {
     "data": {
      "text/html": [
       " View sweep at <a href='https://wandb.ai/viswa_ee/CS6910/sweeps/t38ec2il' target=\"_blank\">https://wandb.ai/viswa_ee/CS6910/sweeps/t38ec2il</a>"
      ],
      "text/plain": [
       "<IPython.core.display.HTML object>"
      ]
     },
     "metadata": {},
     "output_type": "display_data"
    },
    {
     "data": {
      "text/html": [
       " View run at <a href='https://wandb.ai/viswa_ee/CS6910/runs/oq6mcmal' target=\"_blank\">https://wandb.ai/viswa_ee/CS6910/runs/oq6mcmal</a>"
      ],
      "text/plain": [
       "<IPython.core.display.HTML object>"
      ]
     },
     "metadata": {},
     "output_type": "display_data"
    },
    {
     "data": {
      "text/html": [
       "Waiting for W&B process to finish... <strong style=\"color:green\">(success).</strong>"
      ],
      "text/plain": [
       "<IPython.core.display.HTML object>"
      ]
     },
     "metadata": {},
     "output_type": "display_data"
    },
    {
     "data": {
      "text/html": [
       "<style>\n",
       "    table.wandb td:nth-child(1) { padding: 0 10px; text-align: left ; width: auto;} td:nth-child(2) {text-align: left ; width: 100%}\n",
       "    .wandb-row { display: flex; flex-direction: row; flex-wrap: wrap; justify-content: flex-start; width: 100% }\n",
       "    .wandb-col { display: flex; flex-direction: column; flex-basis: 100%; flex: 1; padding: 10px; }\n",
       "    </style>\n",
       "<div class=\"wandb-row\"><div class=\"wandb-col\"><h3>Run history:</h3><br/><table class=\"wandb\"><tr><td>train_acc</td><td>▁▃▅▅▆▆▇▇██</td></tr><tr><td>train_loss</td><td>█▇▆▇▆▅▅▁▄▁</td></tr><tr><td>val_acc</td><td>▁▂▅▆▇▆▇▇██</td></tr><tr><td>val_loss</td><td>█▇▆▆▅▅▄▃▃▁</td></tr></table><br/></div><div class=\"wandb-col\"><h3>Run summary:</h3><br/><table class=\"wandb\"><tr><td>train_acc</td><td>0.89224</td></tr><tr><td>train_loss</td><td>-1176.29666</td></tr><tr><td>val_acc</td><td>0.85233</td></tr><tr><td>val_loss</td><td>-1075.94337</td></tr></table><br/></div></div>"
      ],
      "text/plain": [
       "<IPython.core.display.HTML object>"
      ]
     },
     "metadata": {},
     "output_type": "display_data"
    },
    {
     "data": {
      "text/html": [
       " View run <strong style=\"color:#cdcd00\">ethereal-sweep-18</strong> at: <a href='https://wandb.ai/viswa_ee/CS6910/runs/oq6mcmal' target=\"_blank\">https://wandb.ai/viswa_ee/CS6910/runs/oq6mcmal</a><br/>Synced 4 W&B file(s), 1 media file(s), 0 artifact file(s) and 0 other file(s)"
      ],
      "text/plain": [
       "<IPython.core.display.HTML object>"
      ]
     },
     "metadata": {},
     "output_type": "display_data"
    },
    {
     "data": {
      "text/html": [
       "Find logs at: <code>.\\wandb\\run-20230317_171321-oq6mcmal\\logs</code>"
      ],
      "text/plain": [
       "<IPython.core.display.HTML object>"
      ]
     },
     "metadata": {},
     "output_type": "display_data"
    },
    {
     "name": "stderr",
     "output_type": "stream",
     "text": [
      "\u001b[34m\u001b[1mwandb\u001b[0m: Agent Starting Run: 0e8q8n8f with config:\n",
      "\u001b[34m\u001b[1mwandb\u001b[0m: \tact_func: relu\n",
      "\u001b[34m\u001b[1mwandb\u001b[0m: \tbatch_size: 64\n",
      "\u001b[34m\u001b[1mwandb\u001b[0m: \tl2_coeff: 0.5\n",
      "\u001b[34m\u001b[1mwandb\u001b[0m: \tloss_func: cross_ent\n",
      "\u001b[34m\u001b[1mwandb\u001b[0m: \tlr: 0.001\n",
      "\u001b[34m\u001b[1mwandb\u001b[0m: \tn_epochs: 10\n",
      "\u001b[34m\u001b[1mwandb\u001b[0m: \tn_hidden: 5\n",
      "\u001b[34m\u001b[1mwandb\u001b[0m: \tn_hidden_units: 128\n",
      "\u001b[34m\u001b[1mwandb\u001b[0m: \toptim_algo: nag\n",
      "\u001b[34m\u001b[1mwandb\u001b[0m: \trelu_param: 0.1\n",
      "\u001b[34m\u001b[1mwandb\u001b[0m: \tweight_init: xavier_uniform\n",
      "Failed to detect the name of this notebook, you can set it manually with the WANDB_NOTEBOOK_NAME environment variable to enable code saving.\n"
     ]
    },
    {
     "data": {
      "text/html": [
       "Tracking run with wandb version 0.14.0"
      ],
      "text/plain": [
       "<IPython.core.display.HTML object>"
      ]
     },
     "metadata": {},
     "output_type": "display_data"
    },
    {
     "data": {
      "text/html": [
       "Run data is saved locally in <code>d:\\CS6901\\wandb\\run-20230317_171721-0e8q8n8f</code>"
      ],
      "text/plain": [
       "<IPython.core.display.HTML object>"
      ]
     },
     "metadata": {},
     "output_type": "display_data"
    },
    {
     "data": {
      "text/html": [
       "Syncing run <strong><a href='https://wandb.ai/viswa_ee/CS6910/runs/0e8q8n8f' target=\"_blank\">still-sweep-19</a></strong> to <a href='https://wandb.ai/viswa_ee/CS6910' target=\"_blank\">Weights & Biases</a> (<a href='https://wandb.me/run' target=\"_blank\">docs</a>)<br/>Sweep page: <a href='https://wandb.ai/viswa_ee/CS6910/sweeps/t38ec2il' target=\"_blank\">https://wandb.ai/viswa_ee/CS6910/sweeps/t38ec2il</a>"
      ],
      "text/plain": [
       "<IPython.core.display.HTML object>"
      ]
     },
     "metadata": {},
     "output_type": "display_data"
    },
    {
     "data": {
      "text/html": [
       " View project at <a href='https://wandb.ai/viswa_ee/CS6910' target=\"_blank\">https://wandb.ai/viswa_ee/CS6910</a>"
      ],
      "text/plain": [
       "<IPython.core.display.HTML object>"
      ]
     },
     "metadata": {},
     "output_type": "display_data"
    },
    {
     "data": {
      "text/html": [
       " View sweep at <a href='https://wandb.ai/viswa_ee/CS6910/sweeps/t38ec2il' target=\"_blank\">https://wandb.ai/viswa_ee/CS6910/sweeps/t38ec2il</a>"
      ],
      "text/plain": [
       "<IPython.core.display.HTML object>"
      ]
     },
     "metadata": {},
     "output_type": "display_data"
    },
    {
     "data": {
      "text/html": [
       " View run at <a href='https://wandb.ai/viswa_ee/CS6910/runs/0e8q8n8f' target=\"_blank\">https://wandb.ai/viswa_ee/CS6910/runs/0e8q8n8f</a>"
      ],
      "text/plain": [
       "<IPython.core.display.HTML object>"
      ]
     },
     "metadata": {},
     "output_type": "display_data"
    },
    {
     "data": {
      "text/html": [
       "Waiting for W&B process to finish... <strong style=\"color:green\">(success).</strong>"
      ],
      "text/plain": [
       "<IPython.core.display.HTML object>"
      ]
     },
     "metadata": {},
     "output_type": "display_data"
    },
    {
     "data": {
      "text/html": [
       "<style>\n",
       "    table.wandb td:nth-child(1) { padding: 0 10px; text-align: left ; width: auto;} td:nth-child(2) {text-align: left ; width: 100%}\n",
       "    .wandb-row { display: flex; flex-direction: row; flex-wrap: wrap; justify-content: flex-start; width: 100% }\n",
       "    .wandb-col { display: flex; flex-direction: column; flex-basis: 100%; flex: 1; padding: 10px; }\n",
       "    </style>\n",
       "<div class=\"wandb-row\"><div class=\"wandb-col\"><h3>Run history:</h3><br/><table class=\"wandb\"><tr><td>train_acc</td><td>▁▁▁▁▁▁▁▁▁▁</td></tr><tr><td>val_acc</td><td>▁▁▁▁▁▁▁▁▁▁</td></tr></table><br/></div><div class=\"wandb-col\"><h3>Run summary:</h3><br/><table class=\"wandb\"><tr><td>train_acc</td><td>0.1</td></tr><tr><td>train_loss</td><td>nan</td></tr><tr><td>val_acc</td><td>0.1</td></tr><tr><td>val_loss</td><td>nan</td></tr></table><br/></div></div>"
      ],
      "text/plain": [
       "<IPython.core.display.HTML object>"
      ]
     },
     "metadata": {},
     "output_type": "display_data"
    },
    {
     "data": {
      "text/html": [
       " View run <strong style=\"color:#cdcd00\">still-sweep-19</strong> at: <a href='https://wandb.ai/viswa_ee/CS6910/runs/0e8q8n8f' target=\"_blank\">https://wandb.ai/viswa_ee/CS6910/runs/0e8q8n8f</a><br/>Synced 4 W&B file(s), 1 media file(s), 0 artifact file(s) and 0 other file(s)"
      ],
      "text/plain": [
       "<IPython.core.display.HTML object>"
      ]
     },
     "metadata": {},
     "output_type": "display_data"
    },
    {
     "data": {
      "text/html": [
       "Find logs at: <code>.\\wandb\\run-20230317_171721-0e8q8n8f\\logs</code>"
      ],
      "text/plain": [
       "<IPython.core.display.HTML object>"
      ]
     },
     "metadata": {},
     "output_type": "display_data"
    },
    {
     "name": "stderr",
     "output_type": "stream",
     "text": [
      "\u001b[34m\u001b[1mwandb\u001b[0m: Agent Starting Run: 4sl0leqs with config:\n",
      "\u001b[34m\u001b[1mwandb\u001b[0m: \tact_func: sigmoid\n",
      "\u001b[34m\u001b[1mwandb\u001b[0m: \tbatch_size: 64\n",
      "\u001b[34m\u001b[1mwandb\u001b[0m: \tl2_coeff: 0.5\n",
      "\u001b[34m\u001b[1mwandb\u001b[0m: \tloss_func: mse\n",
      "\u001b[34m\u001b[1mwandb\u001b[0m: \tlr: 0.001\n",
      "\u001b[34m\u001b[1mwandb\u001b[0m: \tn_epochs: 10\n",
      "\u001b[34m\u001b[1mwandb\u001b[0m: \tn_hidden: 5\n",
      "\u001b[34m\u001b[1mwandb\u001b[0m: \tn_hidden_units: 128\n",
      "\u001b[34m\u001b[1mwandb\u001b[0m: \toptim_algo: adam\n",
      "\u001b[34m\u001b[1mwandb\u001b[0m: \trelu_param: 0.001\n",
      "\u001b[34m\u001b[1mwandb\u001b[0m: \tweight_init: xavier_uniform\n",
      "Failed to detect the name of this notebook, you can set it manually with the WANDB_NOTEBOOK_NAME environment variable to enable code saving.\n"
     ]
    },
    {
     "data": {
      "text/html": [
       "Tracking run with wandb version 0.14.0"
      ],
      "text/plain": [
       "<IPython.core.display.HTML object>"
      ]
     },
     "metadata": {},
     "output_type": "display_data"
    },
    {
     "data": {
      "text/html": [
       "Run data is saved locally in <code>d:\\CS6901\\wandb\\run-20230317_171912-4sl0leqs</code>"
      ],
      "text/plain": [
       "<IPython.core.display.HTML object>"
      ]
     },
     "metadata": {},
     "output_type": "display_data"
    },
    {
     "data": {
      "text/html": [
       "Syncing run <strong><a href='https://wandb.ai/viswa_ee/CS6910/runs/4sl0leqs' target=\"_blank\">silver-sweep-20</a></strong> to <a href='https://wandb.ai/viswa_ee/CS6910' target=\"_blank\">Weights & Biases</a> (<a href='https://wandb.me/run' target=\"_blank\">docs</a>)<br/>Sweep page: <a href='https://wandb.ai/viswa_ee/CS6910/sweeps/t38ec2il' target=\"_blank\">https://wandb.ai/viswa_ee/CS6910/sweeps/t38ec2il</a>"
      ],
      "text/plain": [
       "<IPython.core.display.HTML object>"
      ]
     },
     "metadata": {},
     "output_type": "display_data"
    },
    {
     "data": {
      "text/html": [
       " View project at <a href='https://wandb.ai/viswa_ee/CS6910' target=\"_blank\">https://wandb.ai/viswa_ee/CS6910</a>"
      ],
      "text/plain": [
       "<IPython.core.display.HTML object>"
      ]
     },
     "metadata": {},
     "output_type": "display_data"
    },
    {
     "data": {
      "text/html": [
       " View sweep at <a href='https://wandb.ai/viswa_ee/CS6910/sweeps/t38ec2il' target=\"_blank\">https://wandb.ai/viswa_ee/CS6910/sweeps/t38ec2il</a>"
      ],
      "text/plain": [
       "<IPython.core.display.HTML object>"
      ]
     },
     "metadata": {},
     "output_type": "display_data"
    },
    {
     "data": {
      "text/html": [
       " View run at <a href='https://wandb.ai/viswa_ee/CS6910/runs/4sl0leqs' target=\"_blank\">https://wandb.ai/viswa_ee/CS6910/runs/4sl0leqs</a>"
      ],
      "text/plain": [
       "<IPython.core.display.HTML object>"
      ]
     },
     "metadata": {},
     "output_type": "display_data"
    },
    {
     "data": {
      "text/html": [
       "Waiting for W&B process to finish... <strong style=\"color:green\">(success).</strong>"
      ],
      "text/plain": [
       "<IPython.core.display.HTML object>"
      ]
     },
     "metadata": {},
     "output_type": "display_data"
    },
    {
     "data": {
      "text/html": [
       "<style>\n",
       "    table.wandb td:nth-child(1) { padding: 0 10px; text-align: left ; width: auto;} td:nth-child(2) {text-align: left ; width: 100%}\n",
       "    .wandb-row { display: flex; flex-direction: row; flex-wrap: wrap; justify-content: flex-start; width: 100% }\n",
       "    .wandb-col { display: flex; flex-direction: column; flex-basis: 100%; flex: 1; padding: 10px; }\n",
       "    </style>\n",
       "<div class=\"wandb-row\"><div class=\"wandb-col\"><h3>Run history:</h3><br/><table class=\"wandb\"><tr><td>train_acc</td><td>▁▅█▇▆▆█▇▃▆</td></tr><tr><td>train_loss</td><td>█▄▄▄▄▃▃▃▂▁</td></tr><tr><td>val_acc</td><td>▁▆▇▇▇▆▇█▄▆</td></tr><tr><td>val_loss</td><td>▄▂▅█▇▆▅▃▁▁</td></tr></table><br/></div><div class=\"wandb-col\"><h3>Run summary:</h3><br/><table class=\"wandb\"><tr><td>train_acc</td><td>0.80706</td></tr><tr><td>train_loss</td><td>-489.20109</td></tr><tr><td>val_acc</td><td>0.80233</td></tr><tr><td>val_loss</td><td>-457.83495</td></tr></table><br/></div></div>"
      ],
      "text/plain": [
       "<IPython.core.display.HTML object>"
      ]
     },
     "metadata": {},
     "output_type": "display_data"
    },
    {
     "data": {
      "text/html": [
       " View run <strong style=\"color:#cdcd00\">silver-sweep-20</strong> at: <a href='https://wandb.ai/viswa_ee/CS6910/runs/4sl0leqs' target=\"_blank\">https://wandb.ai/viswa_ee/CS6910/runs/4sl0leqs</a><br/>Synced 4 W&B file(s), 1 media file(s), 0 artifact file(s) and 0 other file(s)"
      ],
      "text/plain": [
       "<IPython.core.display.HTML object>"
      ]
     },
     "metadata": {},
     "output_type": "display_data"
    },
    {
     "data": {
      "text/html": [
       "Find logs at: <code>.\\wandb\\run-20230317_171912-4sl0leqs\\logs</code>"
      ],
      "text/plain": [
       "<IPython.core.display.HTML object>"
      ]
     },
     "metadata": {},
     "output_type": "display_data"
    },
    {
     "name": "stderr",
     "output_type": "stream",
     "text": [
      "\u001b[34m\u001b[1mwandb\u001b[0m: Agent Starting Run: itt9by1y with config:\n",
      "\u001b[34m\u001b[1mwandb\u001b[0m: \tact_func: tanh\n",
      "\u001b[34m\u001b[1mwandb\u001b[0m: \tbatch_size: 64\n",
      "\u001b[34m\u001b[1mwandb\u001b[0m: \tl2_coeff: 0.0005\n",
      "\u001b[34m\u001b[1mwandb\u001b[0m: \tloss_func: mse\n",
      "\u001b[34m\u001b[1mwandb\u001b[0m: \tlr: 0.001\n",
      "\u001b[34m\u001b[1mwandb\u001b[0m: \tn_epochs: 5\n",
      "\u001b[34m\u001b[1mwandb\u001b[0m: \tn_hidden: 5\n",
      "\u001b[34m\u001b[1mwandb\u001b[0m: \tn_hidden_units: 128\n",
      "\u001b[34m\u001b[1mwandb\u001b[0m: \toptim_algo: nadam\n",
      "\u001b[34m\u001b[1mwandb\u001b[0m: \trelu_param: 0.001\n",
      "\u001b[34m\u001b[1mwandb\u001b[0m: \tweight_init: xavier_uniform\n",
      "Failed to detect the name of this notebook, you can set it manually with the WANDB_NOTEBOOK_NAME environment variable to enable code saving.\n"
     ]
    },
    {
     "data": {
      "text/html": [
       "Tracking run with wandb version 0.14.0"
      ],
      "text/plain": [
       "<IPython.core.display.HTML object>"
      ]
     },
     "metadata": {},
     "output_type": "display_data"
    },
    {
     "data": {
      "text/html": [
       "Run data is saved locally in <code>d:\\CS6901\\wandb\\run-20230317_172142-itt9by1y</code>"
      ],
      "text/plain": [
       "<IPython.core.display.HTML object>"
      ]
     },
     "metadata": {},
     "output_type": "display_data"
    },
    {
     "data": {
      "text/html": [
       "Syncing run <strong><a href='https://wandb.ai/viswa_ee/CS6910/runs/itt9by1y' target=\"_blank\">vocal-sweep-21</a></strong> to <a href='https://wandb.ai/viswa_ee/CS6910' target=\"_blank\">Weights & Biases</a> (<a href='https://wandb.me/run' target=\"_blank\">docs</a>)<br/>Sweep page: <a href='https://wandb.ai/viswa_ee/CS6910/sweeps/t38ec2il' target=\"_blank\">https://wandb.ai/viswa_ee/CS6910/sweeps/t38ec2il</a>"
      ],
      "text/plain": [
       "<IPython.core.display.HTML object>"
      ]
     },
     "metadata": {},
     "output_type": "display_data"
    },
    {
     "data": {
      "text/html": [
       " View project at <a href='https://wandb.ai/viswa_ee/CS6910' target=\"_blank\">https://wandb.ai/viswa_ee/CS6910</a>"
      ],
      "text/plain": [
       "<IPython.core.display.HTML object>"
      ]
     },
     "metadata": {},
     "output_type": "display_data"
    },
    {
     "data": {
      "text/html": [
       " View sweep at <a href='https://wandb.ai/viswa_ee/CS6910/sweeps/t38ec2il' target=\"_blank\">https://wandb.ai/viswa_ee/CS6910/sweeps/t38ec2il</a>"
      ],
      "text/plain": [
       "<IPython.core.display.HTML object>"
      ]
     },
     "metadata": {},
     "output_type": "display_data"
    },
    {
     "data": {
      "text/html": [
       " View run at <a href='https://wandb.ai/viswa_ee/CS6910/runs/itt9by1y' target=\"_blank\">https://wandb.ai/viswa_ee/CS6910/runs/itt9by1y</a>"
      ],
      "text/plain": [
       "<IPython.core.display.HTML object>"
      ]
     },
     "metadata": {},
     "output_type": "display_data"
    },
    {
     "data": {
      "text/html": [
       "Waiting for W&B process to finish... <strong style=\"color:green\">(success).</strong>"
      ],
      "text/plain": [
       "<IPython.core.display.HTML object>"
      ]
     },
     "metadata": {},
     "output_type": "display_data"
    },
    {
     "data": {
      "text/html": [
       "<style>\n",
       "    table.wandb td:nth-child(1) { padding: 0 10px; text-align: left ; width: auto;} td:nth-child(2) {text-align: left ; width: 100%}\n",
       "    .wandb-row { display: flex; flex-direction: row; flex-wrap: wrap; justify-content: flex-start; width: 100% }\n",
       "    .wandb-col { display: flex; flex-direction: column; flex-basis: 100%; flex: 1; padding: 10px; }\n",
       "    </style>\n",
       "<div class=\"wandb-row\"><div class=\"wandb-col\"><h3>Run history:</h3><br/><table class=\"wandb\"><tr><td>train_acc</td><td>▁▄▅▆█</td></tr><tr><td>train_loss</td><td>▁▁▃▆█</td></tr><tr><td>val_acc</td><td>▁▄▅▆█</td></tr><tr><td>val_loss</td><td>▁▂▄▇█</td></tr></table><br/></div><div class=\"wandb-col\"><h3>Run summary:</h3><br/><table class=\"wandb\"><tr><td>train_acc</td><td>0.54339</td></tr><tr><td>train_loss</td><td>-849.34984</td></tr><tr><td>val_acc</td><td>0.53467</td></tr><tr><td>val_loss</td><td>-1364.16968</td></tr></table><br/></div></div>"
      ],
      "text/plain": [
       "<IPython.core.display.HTML object>"
      ]
     },
     "metadata": {},
     "output_type": "display_data"
    },
    {
     "data": {
      "text/html": [
       " View run <strong style=\"color:#cdcd00\">vocal-sweep-21</strong> at: <a href='https://wandb.ai/viswa_ee/CS6910/runs/itt9by1y' target=\"_blank\">https://wandb.ai/viswa_ee/CS6910/runs/itt9by1y</a><br/>Synced 4 W&B file(s), 1 media file(s), 0 artifact file(s) and 0 other file(s)"
      ],
      "text/plain": [
       "<IPython.core.display.HTML object>"
      ]
     },
     "metadata": {},
     "output_type": "display_data"
    },
    {
     "data": {
      "text/html": [
       "Find logs at: <code>.\\wandb\\run-20230317_172142-itt9by1y\\logs</code>"
      ],
      "text/plain": [
       "<IPython.core.display.HTML object>"
      ]
     },
     "metadata": {},
     "output_type": "display_data"
    },
    {
     "name": "stderr",
     "output_type": "stream",
     "text": [
      "\u001b[34m\u001b[1mwandb\u001b[0m: Agent Starting Run: 9vvhjmk8 with config:\n",
      "\u001b[34m\u001b[1mwandb\u001b[0m: \tact_func: sigmoid\n",
      "\u001b[34m\u001b[1mwandb\u001b[0m: \tbatch_size: 64\n",
      "\u001b[34m\u001b[1mwandb\u001b[0m: \tl2_coeff: 0.0005\n",
      "\u001b[34m\u001b[1mwandb\u001b[0m: \tloss_func: mse\n",
      "\u001b[34m\u001b[1mwandb\u001b[0m: \tlr: 0.001\n",
      "\u001b[34m\u001b[1mwandb\u001b[0m: \tn_epochs: 10\n",
      "\u001b[34m\u001b[1mwandb\u001b[0m: \tn_hidden: 5\n",
      "\u001b[34m\u001b[1mwandb\u001b[0m: \tn_hidden_units: 64\n",
      "\u001b[34m\u001b[1mwandb\u001b[0m: \toptim_algo: nadam\n",
      "\u001b[34m\u001b[1mwandb\u001b[0m: \trelu_param: 0.01\n",
      "\u001b[34m\u001b[1mwandb\u001b[0m: \tweight_init: xavier_uniform\n",
      "Failed to detect the name of this notebook, you can set it manually with the WANDB_NOTEBOOK_NAME environment variable to enable code saving.\n"
     ]
    },
    {
     "data": {
      "text/html": [
       "Tracking run with wandb version 0.14.0"
      ],
      "text/plain": [
       "<IPython.core.display.HTML object>"
      ]
     },
     "metadata": {},
     "output_type": "display_data"
    },
    {
     "data": {
      "text/html": [
       "Run data is saved locally in <code>d:\\CS6901\\wandb\\run-20230317_172321-9vvhjmk8</code>"
      ],
      "text/plain": [
       "<IPython.core.display.HTML object>"
      ]
     },
     "metadata": {},
     "output_type": "display_data"
    },
    {
     "data": {
      "text/html": [
       "Syncing run <strong><a href='https://wandb.ai/viswa_ee/CS6910/runs/9vvhjmk8' target=\"_blank\">vague-sweep-22</a></strong> to <a href='https://wandb.ai/viswa_ee/CS6910' target=\"_blank\">Weights & Biases</a> (<a href='https://wandb.me/run' target=\"_blank\">docs</a>)<br/>Sweep page: <a href='https://wandb.ai/viswa_ee/CS6910/sweeps/t38ec2il' target=\"_blank\">https://wandb.ai/viswa_ee/CS6910/sweeps/t38ec2il</a>"
      ],
      "text/plain": [
       "<IPython.core.display.HTML object>"
      ]
     },
     "metadata": {},
     "output_type": "display_data"
    },
    {
     "data": {
      "text/html": [
       " View project at <a href='https://wandb.ai/viswa_ee/CS6910' target=\"_blank\">https://wandb.ai/viswa_ee/CS6910</a>"
      ],
      "text/plain": [
       "<IPython.core.display.HTML object>"
      ]
     },
     "metadata": {},
     "output_type": "display_data"
    },
    {
     "data": {
      "text/html": [
       " View sweep at <a href='https://wandb.ai/viswa_ee/CS6910/sweeps/t38ec2il' target=\"_blank\">https://wandb.ai/viswa_ee/CS6910/sweeps/t38ec2il</a>"
      ],
      "text/plain": [
       "<IPython.core.display.HTML object>"
      ]
     },
     "metadata": {},
     "output_type": "display_data"
    },
    {
     "data": {
      "text/html": [
       " View run at <a href='https://wandb.ai/viswa_ee/CS6910/runs/9vvhjmk8' target=\"_blank\">https://wandb.ai/viswa_ee/CS6910/runs/9vvhjmk8</a>"
      ],
      "text/plain": [
       "<IPython.core.display.HTML object>"
      ]
     },
     "metadata": {},
     "output_type": "display_data"
    },
    {
     "data": {
      "text/html": [
       "Waiting for W&B process to finish... <strong style=\"color:green\">(success).</strong>"
      ],
      "text/plain": [
       "<IPython.core.display.HTML object>"
      ]
     },
     "metadata": {},
     "output_type": "display_data"
    },
    {
     "data": {
      "text/html": [
       "<style>\n",
       "    table.wandb td:nth-child(1) { padding: 0 10px; text-align: left ; width: auto;} td:nth-child(2) {text-align: left ; width: 100%}\n",
       "    .wandb-row { display: flex; flex-direction: row; flex-wrap: wrap; justify-content: flex-start; width: 100% }\n",
       "    .wandb-col { display: flex; flex-direction: column; flex-basis: 100%; flex: 1; padding: 10px; }\n",
       "    </style>\n",
       "<div class=\"wandb-row\"><div class=\"wandb-col\"><h3>Run history:</h3><br/><table class=\"wandb\"><tr><td>train_acc</td><td>▁▃▅▅▆▇▇▇██</td></tr><tr><td>train_loss</td><td>█▆▅▅▄▃▄▂▁▁</td></tr><tr><td>val_acc</td><td>▁▃▅▆▇▇▇███</td></tr><tr><td>val_loss</td><td>█▆▅▅▄▃▂▂▁▁</td></tr></table><br/></div><div class=\"wandb-col\"><h3>Run summary:</h3><br/><table class=\"wandb\"><tr><td>train_acc</td><td>0.87648</td></tr><tr><td>train_loss</td><td>-791.39575</td></tr><tr><td>val_acc</td><td>0.8475</td></tr><tr><td>val_loss</td><td>-756.8991</td></tr></table><br/></div></div>"
      ],
      "text/plain": [
       "<IPython.core.display.HTML object>"
      ]
     },
     "metadata": {},
     "output_type": "display_data"
    },
    {
     "data": {
      "text/html": [
       " View run <strong style=\"color:#cdcd00\">vague-sweep-22</strong> at: <a href='https://wandb.ai/viswa_ee/CS6910/runs/9vvhjmk8' target=\"_blank\">https://wandb.ai/viswa_ee/CS6910/runs/9vvhjmk8</a><br/>Synced 4 W&B file(s), 1 media file(s), 0 artifact file(s) and 0 other file(s)"
      ],
      "text/plain": [
       "<IPython.core.display.HTML object>"
      ]
     },
     "metadata": {},
     "output_type": "display_data"
    },
    {
     "data": {
      "text/html": [
       "Find logs at: <code>.\\wandb\\run-20230317_172321-9vvhjmk8\\logs</code>"
      ],
      "text/plain": [
       "<IPython.core.display.HTML object>"
      ]
     },
     "metadata": {},
     "output_type": "display_data"
    },
    {
     "name": "stderr",
     "output_type": "stream",
     "text": [
      "\u001b[34m\u001b[1mwandb\u001b[0m: Agent Starting Run: ew0lfuat with config:\n",
      "\u001b[34m\u001b[1mwandb\u001b[0m: \tact_func: sigmoid\n",
      "\u001b[34m\u001b[1mwandb\u001b[0m: \tbatch_size: 32\n",
      "\u001b[34m\u001b[1mwandb\u001b[0m: \tl2_coeff: 0.0005\n",
      "\u001b[34m\u001b[1mwandb\u001b[0m: \tloss_func: cross_ent\n",
      "\u001b[34m\u001b[1mwandb\u001b[0m: \tlr: 0.001\n",
      "\u001b[34m\u001b[1mwandb\u001b[0m: \tn_epochs: 10\n",
      "\u001b[34m\u001b[1mwandb\u001b[0m: \tn_hidden: 4\n",
      "\u001b[34m\u001b[1mwandb\u001b[0m: \tn_hidden_units: 128\n",
      "\u001b[34m\u001b[1mwandb\u001b[0m: \toptim_algo: nag\n",
      "\u001b[34m\u001b[1mwandb\u001b[0m: \trelu_param: 0.001\n",
      "\u001b[34m\u001b[1mwandb\u001b[0m: \tweight_init: xavier_uniform\n",
      "Failed to detect the name of this notebook, you can set it manually with the WANDB_NOTEBOOK_NAME environment variable to enable code saving.\n"
     ]
    },
    {
     "data": {
      "text/html": [
       "Tracking run with wandb version 0.14.0"
      ],
      "text/plain": [
       "<IPython.core.display.HTML object>"
      ]
     },
     "metadata": {},
     "output_type": "display_data"
    },
    {
     "data": {
      "text/html": [
       "Run data is saved locally in <code>d:\\CS6901\\wandb\\run-20230317_172439-ew0lfuat</code>"
      ],
      "text/plain": [
       "<IPython.core.display.HTML object>"
      ]
     },
     "metadata": {},
     "output_type": "display_data"
    },
    {
     "data": {
      "text/html": [
       "Syncing run <strong><a href='https://wandb.ai/viswa_ee/CS6910/runs/ew0lfuat' target=\"_blank\">happy-sweep-23</a></strong> to <a href='https://wandb.ai/viswa_ee/CS6910' target=\"_blank\">Weights & Biases</a> (<a href='https://wandb.me/run' target=\"_blank\">docs</a>)<br/>Sweep page: <a href='https://wandb.ai/viswa_ee/CS6910/sweeps/t38ec2il' target=\"_blank\">https://wandb.ai/viswa_ee/CS6910/sweeps/t38ec2il</a>"
      ],
      "text/plain": [
       "<IPython.core.display.HTML object>"
      ]
     },
     "metadata": {},
     "output_type": "display_data"
    },
    {
     "data": {
      "text/html": [
       " View project at <a href='https://wandb.ai/viswa_ee/CS6910' target=\"_blank\">https://wandb.ai/viswa_ee/CS6910</a>"
      ],
      "text/plain": [
       "<IPython.core.display.HTML object>"
      ]
     },
     "metadata": {},
     "output_type": "display_data"
    },
    {
     "data": {
      "text/html": [
       " View sweep at <a href='https://wandb.ai/viswa_ee/CS6910/sweeps/t38ec2il' target=\"_blank\">https://wandb.ai/viswa_ee/CS6910/sweeps/t38ec2il</a>"
      ],
      "text/plain": [
       "<IPython.core.display.HTML object>"
      ]
     },
     "metadata": {},
     "output_type": "display_data"
    },
    {
     "data": {
      "text/html": [
       " View run at <a href='https://wandb.ai/viswa_ee/CS6910/runs/ew0lfuat' target=\"_blank\">https://wandb.ai/viswa_ee/CS6910/runs/ew0lfuat</a>"
      ],
      "text/plain": [
       "<IPython.core.display.HTML object>"
      ]
     },
     "metadata": {},
     "output_type": "display_data"
    },
    {
     "data": {
      "text/html": [
       "Waiting for W&B process to finish... <strong style=\"color:green\">(success).</strong>"
      ],
      "text/plain": [
       "<IPython.core.display.HTML object>"
      ]
     },
     "metadata": {},
     "output_type": "display_data"
    },
    {
     "data": {
      "text/html": [
       "<style>\n",
       "    table.wandb td:nth-child(1) { padding: 0 10px; text-align: left ; width: auto;} td:nth-child(2) {text-align: left ; width: 100%}\n",
       "    .wandb-row { display: flex; flex-direction: row; flex-wrap: wrap; justify-content: flex-start; width: 100% }\n",
       "    .wandb-col { display: flex; flex-direction: column; flex-basis: 100%; flex: 1; padding: 10px; }\n",
       "    </style>\n",
       "<div class=\"wandb-row\"><div class=\"wandb-col\"><h3>Run history:</h3><br/><table class=\"wandb\"><tr><td>train_acc</td><td>█▁▁▁█▁▁▁██</td></tr><tr><td>train_loss</td><td>█▁▃▄▄▃▅▅▂▁</td></tr><tr><td>val_acc</td><td>▁▁▁▁▁▁▁▁▁▁</td></tr><tr><td>val_loss</td><td>█▁▂▂▆▅▃▃█▇</td></tr></table><br/></div><div class=\"wandb-col\"><h3>Run summary:</h3><br/><table class=\"wandb\"><tr><td>train_acc</td><td>0.09965</td></tr><tr><td>train_loss</td><td>11.02541</td></tr><tr><td>val_acc</td><td>0.09967</td></tr><tr><td>val_loss</td><td>11.0867</td></tr></table><br/></div></div>"
      ],
      "text/plain": [
       "<IPython.core.display.HTML object>"
      ]
     },
     "metadata": {},
     "output_type": "display_data"
    },
    {
     "data": {
      "text/html": [
       " View run <strong style=\"color:#cdcd00\">happy-sweep-23</strong> at: <a href='https://wandb.ai/viswa_ee/CS6910/runs/ew0lfuat' target=\"_blank\">https://wandb.ai/viswa_ee/CS6910/runs/ew0lfuat</a><br/>Synced 4 W&B file(s), 1 media file(s), 0 artifact file(s) and 0 other file(s)"
      ],
      "text/plain": [
       "<IPython.core.display.HTML object>"
      ]
     },
     "metadata": {},
     "output_type": "display_data"
    },
    {
     "data": {
      "text/html": [
       "Find logs at: <code>.\\wandb\\run-20230317_172439-ew0lfuat\\logs</code>"
      ],
      "text/plain": [
       "<IPython.core.display.HTML object>"
      ]
     },
     "metadata": {},
     "output_type": "display_data"
    },
    {
     "name": "stderr",
     "output_type": "stream",
     "text": [
      "\u001b[34m\u001b[1mwandb\u001b[0m: Agent Starting Run: hbwvf821 with config:\n",
      "\u001b[34m\u001b[1mwandb\u001b[0m: \tact_func: tanh\n",
      "\u001b[34m\u001b[1mwandb\u001b[0m: \tbatch_size: 64\n",
      "\u001b[34m\u001b[1mwandb\u001b[0m: \tl2_coeff: 0.0005\n",
      "\u001b[34m\u001b[1mwandb\u001b[0m: \tloss_func: mse\n",
      "\u001b[34m\u001b[1mwandb\u001b[0m: \tlr: 0.001\n",
      "\u001b[34m\u001b[1mwandb\u001b[0m: \tn_epochs: 5\n",
      "\u001b[34m\u001b[1mwandb\u001b[0m: \tn_hidden: 5\n",
      "\u001b[34m\u001b[1mwandb\u001b[0m: \tn_hidden_units: 128\n",
      "\u001b[34m\u001b[1mwandb\u001b[0m: \toptim_algo: adam\n",
      "\u001b[34m\u001b[1mwandb\u001b[0m: \trelu_param: 0.1\n",
      "\u001b[34m\u001b[1mwandb\u001b[0m: \tweight_init: xavier_uniform\n",
      "Failed to detect the name of this notebook, you can set it manually with the WANDB_NOTEBOOK_NAME environment variable to enable code saving.\n"
     ]
    },
    {
     "data": {
      "text/html": [
       "Tracking run with wandb version 0.14.0"
      ],
      "text/plain": [
       "<IPython.core.display.HTML object>"
      ]
     },
     "metadata": {},
     "output_type": "display_data"
    },
    {
     "data": {
      "text/html": [
       "Run data is saved locally in <code>d:\\CS6901\\wandb\\run-20230317_172738-hbwvf821</code>"
      ],
      "text/plain": [
       "<IPython.core.display.HTML object>"
      ]
     },
     "metadata": {},
     "output_type": "display_data"
    },
    {
     "data": {
      "text/html": [
       "Syncing run <strong><a href='https://wandb.ai/viswa_ee/CS6910/runs/hbwvf821' target=\"_blank\">solar-sweep-24</a></strong> to <a href='https://wandb.ai/viswa_ee/CS6910' target=\"_blank\">Weights & Biases</a> (<a href='https://wandb.me/run' target=\"_blank\">docs</a>)<br/>Sweep page: <a href='https://wandb.ai/viswa_ee/CS6910/sweeps/t38ec2il' target=\"_blank\">https://wandb.ai/viswa_ee/CS6910/sweeps/t38ec2il</a>"
      ],
      "text/plain": [
       "<IPython.core.display.HTML object>"
      ]
     },
     "metadata": {},
     "output_type": "display_data"
    },
    {
     "data": {
      "text/html": [
       " View project at <a href='https://wandb.ai/viswa_ee/CS6910' target=\"_blank\">https://wandb.ai/viswa_ee/CS6910</a>"
      ],
      "text/plain": [
       "<IPython.core.display.HTML object>"
      ]
     },
     "metadata": {},
     "output_type": "display_data"
    },
    {
     "data": {
      "text/html": [
       " View sweep at <a href='https://wandb.ai/viswa_ee/CS6910/sweeps/t38ec2il' target=\"_blank\">https://wandb.ai/viswa_ee/CS6910/sweeps/t38ec2il</a>"
      ],
      "text/plain": [
       "<IPython.core.display.HTML object>"
      ]
     },
     "metadata": {},
     "output_type": "display_data"
    },
    {
     "data": {
      "text/html": [
       " View run at <a href='https://wandb.ai/viswa_ee/CS6910/runs/hbwvf821' target=\"_blank\">https://wandb.ai/viswa_ee/CS6910/runs/hbwvf821</a>"
      ],
      "text/plain": [
       "<IPython.core.display.HTML object>"
      ]
     },
     "metadata": {},
     "output_type": "display_data"
    },
    {
     "data": {
      "text/html": [
       "Waiting for W&B process to finish... <strong style=\"color:green\">(success).</strong>"
      ],
      "text/plain": [
       "<IPython.core.display.HTML object>"
      ]
     },
     "metadata": {},
     "output_type": "display_data"
    },
    {
     "data": {
      "text/html": [
       "<style>\n",
       "    table.wandb td:nth-child(1) { padding: 0 10px; text-align: left ; width: auto;} td:nth-child(2) {text-align: left ; width: 100%}\n",
       "    .wandb-row { display: flex; flex-direction: row; flex-wrap: wrap; justify-content: flex-start; width: 100% }\n",
       "    .wandb-col { display: flex; flex-direction: column; flex-basis: 100%; flex: 1; padding: 10px; }\n",
       "    </style>\n",
       "<div class=\"wandb-row\"><div class=\"wandb-col\"><h3>Run history:</h3><br/><table class=\"wandb\"><tr><td>train_acc</td><td>▁▄▅▇█</td></tr><tr><td>train_loss</td><td>▃▁▅██</td></tr><tr><td>val_acc</td><td>▁▄▅▇█</td></tr><tr><td>val_loss</td><td>▁▂▄▆█</td></tr></table><br/></div><div class=\"wandb-col\"><h3>Run summary:</h3><br/><table class=\"wandb\"><tr><td>train_acc</td><td>0.53454</td></tr><tr><td>train_loss</td><td>-1576.89019</td></tr><tr><td>val_acc</td><td>0.534</td></tr><tr><td>val_loss</td><td>-1425.68741</td></tr></table><br/></div></div>"
      ],
      "text/plain": [
       "<IPython.core.display.HTML object>"
      ]
     },
     "metadata": {},
     "output_type": "display_data"
    },
    {
     "data": {
      "text/html": [
       " View run <strong style=\"color:#cdcd00\">solar-sweep-24</strong> at: <a href='https://wandb.ai/viswa_ee/CS6910/runs/hbwvf821' target=\"_blank\">https://wandb.ai/viswa_ee/CS6910/runs/hbwvf821</a><br/>Synced 4 W&B file(s), 1 media file(s), 0 artifact file(s) and 0 other file(s)"
      ],
      "text/plain": [
       "<IPython.core.display.HTML object>"
      ]
     },
     "metadata": {},
     "output_type": "display_data"
    },
    {
     "data": {
      "text/html": [
       "Find logs at: <code>.\\wandb\\run-20230317_172738-hbwvf821\\logs</code>"
      ],
      "text/plain": [
       "<IPython.core.display.HTML object>"
      ]
     },
     "metadata": {},
     "output_type": "display_data"
    },
    {
     "name": "stderr",
     "output_type": "stream",
     "text": [
      "\u001b[34m\u001b[1mwandb\u001b[0m: Agent Starting Run: 5bzkwup6 with config:\n",
      "\u001b[34m\u001b[1mwandb\u001b[0m: \tact_func: sigmoid\n",
      "\u001b[34m\u001b[1mwandb\u001b[0m: \tbatch_size: 64\n",
      "\u001b[34m\u001b[1mwandb\u001b[0m: \tl2_coeff: 0.5\n",
      "\u001b[34m\u001b[1mwandb\u001b[0m: \tloss_func: mse\n",
      "\u001b[34m\u001b[1mwandb\u001b[0m: \tlr: 0.001\n",
      "\u001b[34m\u001b[1mwandb\u001b[0m: \tn_epochs: 10\n",
      "\u001b[34m\u001b[1mwandb\u001b[0m: \tn_hidden: 5\n",
      "\u001b[34m\u001b[1mwandb\u001b[0m: \tn_hidden_units: 64\n",
      "\u001b[34m\u001b[1mwandb\u001b[0m: \toptim_algo: adam\n",
      "\u001b[34m\u001b[1mwandb\u001b[0m: \trelu_param: 0.01\n",
      "\u001b[34m\u001b[1mwandb\u001b[0m: \tweight_init: xavier_uniform\n",
      "Failed to detect the name of this notebook, you can set it manually with the WANDB_NOTEBOOK_NAME environment variable to enable code saving.\n"
     ]
    },
    {
     "data": {
      "text/html": [
       "Tracking run with wandb version 0.14.0"
      ],
      "text/plain": [
       "<IPython.core.display.HTML object>"
      ]
     },
     "metadata": {},
     "output_type": "display_data"
    },
    {
     "data": {
      "text/html": [
       "Run data is saved locally in <code>d:\\CS6901\\wandb\\run-20230317_172912-5bzkwup6</code>"
      ],
      "text/plain": [
       "<IPython.core.display.HTML object>"
      ]
     },
     "metadata": {},
     "output_type": "display_data"
    },
    {
     "data": {
      "text/html": [
       "Syncing run <strong><a href='https://wandb.ai/viswa_ee/CS6910/runs/5bzkwup6' target=\"_blank\">sandy-sweep-25</a></strong> to <a href='https://wandb.ai/viswa_ee/CS6910' target=\"_blank\">Weights & Biases</a> (<a href='https://wandb.me/run' target=\"_blank\">docs</a>)<br/>Sweep page: <a href='https://wandb.ai/viswa_ee/CS6910/sweeps/t38ec2il' target=\"_blank\">https://wandb.ai/viswa_ee/CS6910/sweeps/t38ec2il</a>"
      ],
      "text/plain": [
       "<IPython.core.display.HTML object>"
      ]
     },
     "metadata": {},
     "output_type": "display_data"
    },
    {
     "data": {
      "text/html": [
       " View project at <a href='https://wandb.ai/viswa_ee/CS6910' target=\"_blank\">https://wandb.ai/viswa_ee/CS6910</a>"
      ],
      "text/plain": [
       "<IPython.core.display.HTML object>"
      ]
     },
     "metadata": {},
     "output_type": "display_data"
    },
    {
     "data": {
      "text/html": [
       " View sweep at <a href='https://wandb.ai/viswa_ee/CS6910/sweeps/t38ec2il' target=\"_blank\">https://wandb.ai/viswa_ee/CS6910/sweeps/t38ec2il</a>"
      ],
      "text/plain": [
       "<IPython.core.display.HTML object>"
      ]
     },
     "metadata": {},
     "output_type": "display_data"
    },
    {
     "data": {
      "text/html": [
       " View run at <a href='https://wandb.ai/viswa_ee/CS6910/runs/5bzkwup6' target=\"_blank\">https://wandb.ai/viswa_ee/CS6910/runs/5bzkwup6</a>"
      ],
      "text/plain": [
       "<IPython.core.display.HTML object>"
      ]
     },
     "metadata": {},
     "output_type": "display_data"
    },
    {
     "data": {
      "text/html": [
       "Waiting for W&B process to finish... <strong style=\"color:green\">(success).</strong>"
      ],
      "text/plain": [
       "<IPython.core.display.HTML object>"
      ]
     },
     "metadata": {},
     "output_type": "display_data"
    },
    {
     "data": {
      "text/html": [
       "<style>\n",
       "    table.wandb td:nth-child(1) { padding: 0 10px; text-align: left ; width: auto;} td:nth-child(2) {text-align: left ; width: 100%}\n",
       "    .wandb-row { display: flex; flex-direction: row; flex-wrap: wrap; justify-content: flex-start; width: 100% }\n",
       "    .wandb-col { display: flex; flex-direction: column; flex-basis: 100%; flex: 1; padding: 10px; }\n",
       "    </style>\n",
       "<div class=\"wandb-row\"><div class=\"wandb-col\"><h3>Run history:</h3><br/><table class=\"wandb\"><tr><td>train_acc</td><td>▁▆█▇███▇▇▇</td></tr><tr><td>train_loss</td><td>█▆▅▄▅▃▃▂▁▂</td></tr><tr><td>val_acc</td><td>▁▆█▆███▇▇█</td></tr><tr><td>val_loss</td><td>█▇██▇▆▅▄▃▁</td></tr></table><br/></div><div class=\"wandb-col\"><h3>Run summary:</h3><br/><table class=\"wandb\"><tr><td>train_acc</td><td>0.81726</td></tr><tr><td>train_loss</td><td>-339.82986</td></tr><tr><td>val_acc</td><td>0.81617</td></tr><tr><td>val_loss</td><td>-380.99698</td></tr></table><br/></div></div>"
      ],
      "text/plain": [
       "<IPython.core.display.HTML object>"
      ]
     },
     "metadata": {},
     "output_type": "display_data"
    },
    {
     "data": {
      "text/html": [
       " View run <strong style=\"color:#cdcd00\">sandy-sweep-25</strong> at: <a href='https://wandb.ai/viswa_ee/CS6910/runs/5bzkwup6' target=\"_blank\">https://wandb.ai/viswa_ee/CS6910/runs/5bzkwup6</a><br/>Synced 4 W&B file(s), 1 media file(s), 0 artifact file(s) and 0 other file(s)"
      ],
      "text/plain": [
       "<IPython.core.display.HTML object>"
      ]
     },
     "metadata": {},
     "output_type": "display_data"
    },
    {
     "data": {
      "text/html": [
       "Find logs at: <code>.\\wandb\\run-20230317_172912-5bzkwup6\\logs</code>"
      ],
      "text/plain": [
       "<IPython.core.display.HTML object>"
      ]
     },
     "metadata": {},
     "output_type": "display_data"
    },
    {
     "name": "stderr",
     "output_type": "stream",
     "text": [
      "\u001b[34m\u001b[1mwandb\u001b[0m: Agent Starting Run: 3jarq1kn with config:\n",
      "\u001b[34m\u001b[1mwandb\u001b[0m: \tact_func: tanh\n",
      "\u001b[34m\u001b[1mwandb\u001b[0m: \tbatch_size: 64\n",
      "\u001b[34m\u001b[1mwandb\u001b[0m: \tl2_coeff: 0.0005\n",
      "\u001b[34m\u001b[1mwandb\u001b[0m: \tloss_func: mse\n",
      "\u001b[34m\u001b[1mwandb\u001b[0m: \tlr: 0.0001\n",
      "\u001b[34m\u001b[1mwandb\u001b[0m: \tn_epochs: 5\n",
      "\u001b[34m\u001b[1mwandb\u001b[0m: \tn_hidden: 5\n",
      "\u001b[34m\u001b[1mwandb\u001b[0m: \tn_hidden_units: 128\n",
      "\u001b[34m\u001b[1mwandb\u001b[0m: \toptim_algo: nag\n",
      "\u001b[34m\u001b[1mwandb\u001b[0m: \trelu_param: 0.001\n",
      "\u001b[34m\u001b[1mwandb\u001b[0m: \tweight_init: xavier_uniform\n",
      "Failed to detect the name of this notebook, you can set it manually with the WANDB_NOTEBOOK_NAME environment variable to enable code saving.\n"
     ]
    },
    {
     "data": {
      "text/html": [
       "Tracking run with wandb version 0.14.0"
      ],
      "text/plain": [
       "<IPython.core.display.HTML object>"
      ]
     },
     "metadata": {},
     "output_type": "display_data"
    },
    {
     "data": {
      "text/html": [
       "Run data is saved locally in <code>d:\\CS6901\\wandb\\run-20230317_173008-3jarq1kn</code>"
      ],
      "text/plain": [
       "<IPython.core.display.HTML object>"
      ]
     },
     "metadata": {},
     "output_type": "display_data"
    },
    {
     "data": {
      "text/html": [
       "Syncing run <strong><a href='https://wandb.ai/viswa_ee/CS6910/runs/3jarq1kn' target=\"_blank\">true-sweep-26</a></strong> to <a href='https://wandb.ai/viswa_ee/CS6910' target=\"_blank\">Weights & Biases</a> (<a href='https://wandb.me/run' target=\"_blank\">docs</a>)<br/>Sweep page: <a href='https://wandb.ai/viswa_ee/CS6910/sweeps/t38ec2il' target=\"_blank\">https://wandb.ai/viswa_ee/CS6910/sweeps/t38ec2il</a>"
      ],
      "text/plain": [
       "<IPython.core.display.HTML object>"
      ]
     },
     "metadata": {},
     "output_type": "display_data"
    },
    {
     "data": {
      "text/html": [
       " View project at <a href='https://wandb.ai/viswa_ee/CS6910' target=\"_blank\">https://wandb.ai/viswa_ee/CS6910</a>"
      ],
      "text/plain": [
       "<IPython.core.display.HTML object>"
      ]
     },
     "metadata": {},
     "output_type": "display_data"
    },
    {
     "data": {
      "text/html": [
       " View sweep at <a href='https://wandb.ai/viswa_ee/CS6910/sweeps/t38ec2il' target=\"_blank\">https://wandb.ai/viswa_ee/CS6910/sweeps/t38ec2il</a>"
      ],
      "text/plain": [
       "<IPython.core.display.HTML object>"
      ]
     },
     "metadata": {},
     "output_type": "display_data"
    },
    {
     "data": {
      "text/html": [
       " View run at <a href='https://wandb.ai/viswa_ee/CS6910/runs/3jarq1kn' target=\"_blank\">https://wandb.ai/viswa_ee/CS6910/runs/3jarq1kn</a>"
      ],
      "text/plain": [
       "<IPython.core.display.HTML object>"
      ]
     },
     "metadata": {},
     "output_type": "display_data"
    },
    {
     "data": {
      "text/html": [
       "Waiting for W&B process to finish... <strong style=\"color:green\">(success).</strong>"
      ],
      "text/plain": [
       "<IPython.core.display.HTML object>"
      ]
     },
     "metadata": {},
     "output_type": "display_data"
    },
    {
     "data": {
      "text/html": [
       "<style>\n",
       "    table.wandb td:nth-child(1) { padding: 0 10px; text-align: left ; width: auto;} td:nth-child(2) {text-align: left ; width: 100%}\n",
       "    .wandb-row { display: flex; flex-direction: row; flex-wrap: wrap; justify-content: flex-start; width: 100% }\n",
       "    .wandb-col { display: flex; flex-direction: column; flex-basis: 100%; flex: 1; padding: 10px; }\n",
       "    </style>\n",
       "<div class=\"wandb-row\"><div class=\"wandb-col\"><h3>Run history:</h3><br/><table class=\"wandb\"><tr><td>train_acc</td><td>▂▂█▃▁</td></tr><tr><td>train_loss</td><td>█▅▆▆▁</td></tr><tr><td>val_acc</td><td>▃▁▁▃█</td></tr><tr><td>val_loss</td><td>▅▄▁██</td></tr></table><br/></div><div class=\"wandb-col\"><h3>Run summary:</h3><br/><table class=\"wandb\"><tr><td>train_acc</td><td>0.07315</td></tr><tr><td>train_loss</td><td>-4676.95756</td></tr><tr><td>val_acc</td><td>0.07467</td></tr><tr><td>val_loss</td><td>-4360.99666</td></tr></table><br/></div></div>"
      ],
      "text/plain": [
       "<IPython.core.display.HTML object>"
      ]
     },
     "metadata": {},
     "output_type": "display_data"
    },
    {
     "data": {
      "text/html": [
       " View run <strong style=\"color:#cdcd00\">true-sweep-26</strong> at: <a href='https://wandb.ai/viswa_ee/CS6910/runs/3jarq1kn' target=\"_blank\">https://wandb.ai/viswa_ee/CS6910/runs/3jarq1kn</a><br/>Synced 4 W&B file(s), 1 media file(s), 0 artifact file(s) and 0 other file(s)"
      ],
      "text/plain": [
       "<IPython.core.display.HTML object>"
      ]
     },
     "metadata": {},
     "output_type": "display_data"
    },
    {
     "data": {
      "text/html": [
       "Find logs at: <code>.\\wandb\\run-20230317_173008-3jarq1kn\\logs</code>"
      ],
      "text/plain": [
       "<IPython.core.display.HTML object>"
      ]
     },
     "metadata": {},
     "output_type": "display_data"
    },
    {
     "name": "stderr",
     "output_type": "stream",
     "text": [
      "\u001b[34m\u001b[1mwandb\u001b[0m: Agent Starting Run: vsy9m0wu with config:\n",
      "\u001b[34m\u001b[1mwandb\u001b[0m: \tact_func: sigmoid\n",
      "\u001b[34m\u001b[1mwandb\u001b[0m: \tbatch_size: 64\n",
      "\u001b[34m\u001b[1mwandb\u001b[0m: \tl2_coeff: 0.5\n",
      "\u001b[34m\u001b[1mwandb\u001b[0m: \tloss_func: cross_ent\n",
      "\u001b[34m\u001b[1mwandb\u001b[0m: \tlr: 0.001\n",
      "\u001b[34m\u001b[1mwandb\u001b[0m: \tn_epochs: 10\n",
      "\u001b[34m\u001b[1mwandb\u001b[0m: \tn_hidden: 5\n",
      "\u001b[34m\u001b[1mwandb\u001b[0m: \tn_hidden_units: 128\n",
      "\u001b[34m\u001b[1mwandb\u001b[0m: \toptim_algo: adam\n",
      "\u001b[34m\u001b[1mwandb\u001b[0m: \trelu_param: 0.01\n",
      "\u001b[34m\u001b[1mwandb\u001b[0m: \tweight_init: xavier_uniform\n",
      "Failed to detect the name of this notebook, you can set it manually with the WANDB_NOTEBOOK_NAME environment variable to enable code saving.\n"
     ]
    },
    {
     "data": {
      "text/html": [
       "Tracking run with wandb version 0.14.0"
      ],
      "text/plain": [
       "<IPython.core.display.HTML object>"
      ]
     },
     "metadata": {},
     "output_type": "display_data"
    },
    {
     "data": {
      "text/html": [
       "Run data is saved locally in <code>d:\\CS6901\\wandb\\run-20230317_173120-vsy9m0wu</code>"
      ],
      "text/plain": [
       "<IPython.core.display.HTML object>"
      ]
     },
     "metadata": {},
     "output_type": "display_data"
    },
    {
     "data": {
      "text/html": [
       "Syncing run <strong><a href='https://wandb.ai/viswa_ee/CS6910/runs/vsy9m0wu' target=\"_blank\">likely-sweep-27</a></strong> to <a href='https://wandb.ai/viswa_ee/CS6910' target=\"_blank\">Weights & Biases</a> (<a href='https://wandb.me/run' target=\"_blank\">docs</a>)<br/>Sweep page: <a href='https://wandb.ai/viswa_ee/CS6910/sweeps/t38ec2il' target=\"_blank\">https://wandb.ai/viswa_ee/CS6910/sweeps/t38ec2il</a>"
      ],
      "text/plain": [
       "<IPython.core.display.HTML object>"
      ]
     },
     "metadata": {},
     "output_type": "display_data"
    },
    {
     "data": {
      "text/html": [
       " View project at <a href='https://wandb.ai/viswa_ee/CS6910' target=\"_blank\">https://wandb.ai/viswa_ee/CS6910</a>"
      ],
      "text/plain": [
       "<IPython.core.display.HTML object>"
      ]
     },
     "metadata": {},
     "output_type": "display_data"
    },
    {
     "data": {
      "text/html": [
       " View sweep at <a href='https://wandb.ai/viswa_ee/CS6910/sweeps/t38ec2il' target=\"_blank\">https://wandb.ai/viswa_ee/CS6910/sweeps/t38ec2il</a>"
      ],
      "text/plain": [
       "<IPython.core.display.HTML object>"
      ]
     },
     "metadata": {},
     "output_type": "display_data"
    },
    {
     "data": {
      "text/html": [
       " View run at <a href='https://wandb.ai/viswa_ee/CS6910/runs/vsy9m0wu' target=\"_blank\">https://wandb.ai/viswa_ee/CS6910/runs/vsy9m0wu</a>"
      ],
      "text/plain": [
       "<IPython.core.display.HTML object>"
      ]
     },
     "metadata": {},
     "output_type": "display_data"
    },
    {
     "data": {
      "text/html": [
       "Waiting for W&B process to finish... <strong style=\"color:green\">(success).</strong>"
      ],
      "text/plain": [
       "<IPython.core.display.HTML object>"
      ]
     },
     "metadata": {},
     "output_type": "display_data"
    },
    {
     "data": {
      "text/html": [
       "<style>\n",
       "    table.wandb td:nth-child(1) { padding: 0 10px; text-align: left ; width: auto;} td:nth-child(2) {text-align: left ; width: 100%}\n",
       "    .wandb-row { display: flex; flex-direction: row; flex-wrap: wrap; justify-content: flex-start; width: 100% }\n",
       "    .wandb-col { display: flex; flex-direction: column; flex-basis: 100%; flex: 1; padding: 10px; }\n",
       "    </style>\n",
       "<div class=\"wandb-row\"><div class=\"wandb-col\"><h3>Run history:</h3><br/><table class=\"wandb\"><tr><td>train_acc</td><td>▃█▆▅▃▃▂▁▃▁</td></tr><tr><td>train_loss</td><td>█▃▂▁▁▁▁▁▁▁</td></tr><tr><td>val_acc</td><td>▄█▇▅▃▃▁▁▃▁</td></tr><tr><td>val_loss</td><td>█▂▁▁▁▁▁▁▁▁</td></tr></table><br/></div><div class=\"wandb-col\"><h3>Run summary:</h3><br/><table class=\"wandb\"><tr><td>train_acc</td><td>0.73178</td></tr><tr><td>train_loss</td><td>1.7121</td></tr><tr><td>val_acc</td><td>0.72083</td></tr><tr><td>val_loss</td><td>0.74928</td></tr></table><br/></div></div>"
      ],
      "text/plain": [
       "<IPython.core.display.HTML object>"
      ]
     },
     "metadata": {},
     "output_type": "display_data"
    },
    {
     "data": {
      "text/html": [
       " View run <strong style=\"color:#cdcd00\">likely-sweep-27</strong> at: <a href='https://wandb.ai/viswa_ee/CS6910/runs/vsy9m0wu' target=\"_blank\">https://wandb.ai/viswa_ee/CS6910/runs/vsy9m0wu</a><br/>Synced 4 W&B file(s), 1 media file(s), 0 artifact file(s) and 0 other file(s)"
      ],
      "text/plain": [
       "<IPython.core.display.HTML object>"
      ]
     },
     "metadata": {},
     "output_type": "display_data"
    },
    {
     "data": {
      "text/html": [
       "Find logs at: <code>.\\wandb\\run-20230317_173120-vsy9m0wu\\logs</code>"
      ],
      "text/plain": [
       "<IPython.core.display.HTML object>"
      ]
     },
     "metadata": {},
     "output_type": "display_data"
    },
    {
     "name": "stderr",
     "output_type": "stream",
     "text": [
      "\u001b[34m\u001b[1mwandb\u001b[0m: Agent Starting Run: 71nn1msh with config:\n",
      "\u001b[34m\u001b[1mwandb\u001b[0m: \tact_func: relu\n",
      "\u001b[34m\u001b[1mwandb\u001b[0m: \tbatch_size: 32\n",
      "\u001b[34m\u001b[1mwandb\u001b[0m: \tl2_coeff: 0.0005\n",
      "\u001b[34m\u001b[1mwandb\u001b[0m: \tloss_func: mse\n",
      "\u001b[34m\u001b[1mwandb\u001b[0m: \tlr: 0.0001\n",
      "\u001b[34m\u001b[1mwandb\u001b[0m: \tn_epochs: 10\n",
      "\u001b[34m\u001b[1mwandb\u001b[0m: \tn_hidden: 5\n",
      "\u001b[34m\u001b[1mwandb\u001b[0m: \tn_hidden_units: 128\n",
      "\u001b[34m\u001b[1mwandb\u001b[0m: \toptim_algo: nadam\n",
      "\u001b[34m\u001b[1mwandb\u001b[0m: \trelu_param: 0.1\n",
      "\u001b[34m\u001b[1mwandb\u001b[0m: \tweight_init: xavier_uniform\n",
      "Failed to detect the name of this notebook, you can set it manually with the WANDB_NOTEBOOK_NAME environment variable to enable code saving.\n"
     ]
    },
    {
     "data": {
      "text/html": [
       "Tracking run with wandb version 0.14.0"
      ],
      "text/plain": [
       "<IPython.core.display.HTML object>"
      ]
     },
     "metadata": {},
     "output_type": "display_data"
    },
    {
     "data": {
      "text/html": [
       "Run data is saved locally in <code>d:\\CS6901\\wandb\\run-20230317_173319-71nn1msh</code>"
      ],
      "text/plain": [
       "<IPython.core.display.HTML object>"
      ]
     },
     "metadata": {},
     "output_type": "display_data"
    },
    {
     "data": {
      "text/html": [
       "Syncing run <strong><a href='https://wandb.ai/viswa_ee/CS6910/runs/71nn1msh' target=\"_blank\">grateful-sweep-28</a></strong> to <a href='https://wandb.ai/viswa_ee/CS6910' target=\"_blank\">Weights & Biases</a> (<a href='https://wandb.me/run' target=\"_blank\">docs</a>)<br/>Sweep page: <a href='https://wandb.ai/viswa_ee/CS6910/sweeps/t38ec2il' target=\"_blank\">https://wandb.ai/viswa_ee/CS6910/sweeps/t38ec2il</a>"
      ],
      "text/plain": [
       "<IPython.core.display.HTML object>"
      ]
     },
     "metadata": {},
     "output_type": "display_data"
    },
    {
     "data": {
      "text/html": [
       " View project at <a href='https://wandb.ai/viswa_ee/CS6910' target=\"_blank\">https://wandb.ai/viswa_ee/CS6910</a>"
      ],
      "text/plain": [
       "<IPython.core.display.HTML object>"
      ]
     },
     "metadata": {},
     "output_type": "display_data"
    },
    {
     "data": {
      "text/html": [
       " View sweep at <a href='https://wandb.ai/viswa_ee/CS6910/sweeps/t38ec2il' target=\"_blank\">https://wandb.ai/viswa_ee/CS6910/sweeps/t38ec2il</a>"
      ],
      "text/plain": [
       "<IPython.core.display.HTML object>"
      ]
     },
     "metadata": {},
     "output_type": "display_data"
    },
    {
     "data": {
      "text/html": [
       " View run at <a href='https://wandb.ai/viswa_ee/CS6910/runs/71nn1msh' target=\"_blank\">https://wandb.ai/viswa_ee/CS6910/runs/71nn1msh</a>"
      ],
      "text/plain": [
       "<IPython.core.display.HTML object>"
      ]
     },
     "metadata": {},
     "output_type": "display_data"
    },
    {
     "data": {
      "text/html": [
       "Waiting for W&B process to finish... <strong style=\"color:green\">(success).</strong>"
      ],
      "text/plain": [
       "<IPython.core.display.HTML object>"
      ]
     },
     "metadata": {},
     "output_type": "display_data"
    },
    {
     "data": {
      "text/html": [
       "<style>\n",
       "    table.wandb td:nth-child(1) { padding: 0 10px; text-align: left ; width: auto;} td:nth-child(2) {text-align: left ; width: 100%}\n",
       "    .wandb-row { display: flex; flex-direction: row; flex-wrap: wrap; justify-content: flex-start; width: 100% }\n",
       "    .wandb-col { display: flex; flex-direction: column; flex-basis: 100%; flex: 1; padding: 10px; }\n",
       "    </style>\n",
       "<div class=\"wandb-row\"><div class=\"wandb-col\"><h3>Run history:</h3><br/><table class=\"wandb\"><tr><td>train_acc</td><td>▁▅▆▆▆▇████</td></tr><tr><td>train_loss</td><td>█▆▆▁▁▂▁▃▃▁</td></tr><tr><td>val_acc</td><td>▁▅▆▇▆▇████</td></tr><tr><td>val_loss</td><td>█▄▃▃▂▂▂▁▁▁</td></tr></table><br/></div><div class=\"wandb-col\"><h3>Run summary:</h3><br/><table class=\"wandb\"><tr><td>train_acc</td><td>0.54081</td></tr><tr><td>train_loss</td><td>-15327128.70356</td></tr><tr><td>val_acc</td><td>0.54467</td></tr><tr><td>val_loss</td><td>-15277853.14191</td></tr></table><br/></div></div>"
      ],
      "text/plain": [
       "<IPython.core.display.HTML object>"
      ]
     },
     "metadata": {},
     "output_type": "display_data"
    },
    {
     "data": {
      "text/html": [
       " View run <strong style=\"color:#cdcd00\">grateful-sweep-28</strong> at: <a href='https://wandb.ai/viswa_ee/CS6910/runs/71nn1msh' target=\"_blank\">https://wandb.ai/viswa_ee/CS6910/runs/71nn1msh</a><br/>Synced 4 W&B file(s), 1 media file(s), 0 artifact file(s) and 0 other file(s)"
      ],
      "text/plain": [
       "<IPython.core.display.HTML object>"
      ]
     },
     "metadata": {},
     "output_type": "display_data"
    },
    {
     "data": {
      "text/html": [
       "Find logs at: <code>.\\wandb\\run-20230317_173319-71nn1msh\\logs</code>"
      ],
      "text/plain": [
       "<IPython.core.display.HTML object>"
      ]
     },
     "metadata": {},
     "output_type": "display_data"
    },
    {
     "name": "stderr",
     "output_type": "stream",
     "text": [
      "\u001b[34m\u001b[1mwandb\u001b[0m: Agent Starting Run: 82yuesaw with config:\n",
      "\u001b[34m\u001b[1mwandb\u001b[0m: \tact_func: sigmoid\n",
      "\u001b[34m\u001b[1mwandb\u001b[0m: \tbatch_size: 64\n",
      "\u001b[34m\u001b[1mwandb\u001b[0m: \tl2_coeff: 0.0005\n",
      "\u001b[34m\u001b[1mwandb\u001b[0m: \tloss_func: mse\n",
      "\u001b[34m\u001b[1mwandb\u001b[0m: \tlr: 0.0001\n",
      "\u001b[34m\u001b[1mwandb\u001b[0m: \tn_epochs: 10\n",
      "\u001b[34m\u001b[1mwandb\u001b[0m: \tn_hidden: 5\n",
      "\u001b[34m\u001b[1mwandb\u001b[0m: \tn_hidden_units: 64\n",
      "\u001b[34m\u001b[1mwandb\u001b[0m: \toptim_algo: nag\n",
      "\u001b[34m\u001b[1mwandb\u001b[0m: \trelu_param: 0.01\n",
      "\u001b[34m\u001b[1mwandb\u001b[0m: \tweight_init: xavier_uniform\n",
      "Failed to detect the name of this notebook, you can set it manually with the WANDB_NOTEBOOK_NAME environment variable to enable code saving.\n"
     ]
    },
    {
     "data": {
      "text/html": [
       "Tracking run with wandb version 0.14.0"
      ],
      "text/plain": [
       "<IPython.core.display.HTML object>"
      ]
     },
     "metadata": {},
     "output_type": "display_data"
    },
    {
     "data": {
      "text/html": [
       "Run data is saved locally in <code>d:\\CS6901\\wandb\\run-20230317_173606-82yuesaw</code>"
      ],
      "text/plain": [
       "<IPython.core.display.HTML object>"
      ]
     },
     "metadata": {},
     "output_type": "display_data"
    },
    {
     "data": {
      "text/html": [
       "Syncing run <strong><a href='https://wandb.ai/viswa_ee/CS6910/runs/82yuesaw' target=\"_blank\">comic-sweep-29</a></strong> to <a href='https://wandb.ai/viswa_ee/CS6910' target=\"_blank\">Weights & Biases</a> (<a href='https://wandb.me/run' target=\"_blank\">docs</a>)<br/>Sweep page: <a href='https://wandb.ai/viswa_ee/CS6910/sweeps/t38ec2il' target=\"_blank\">https://wandb.ai/viswa_ee/CS6910/sweeps/t38ec2il</a>"
      ],
      "text/plain": [
       "<IPython.core.display.HTML object>"
      ]
     },
     "metadata": {},
     "output_type": "display_data"
    },
    {
     "data": {
      "text/html": [
       " View project at <a href='https://wandb.ai/viswa_ee/CS6910' target=\"_blank\">https://wandb.ai/viswa_ee/CS6910</a>"
      ],
      "text/plain": [
       "<IPython.core.display.HTML object>"
      ]
     },
     "metadata": {},
     "output_type": "display_data"
    },
    {
     "data": {
      "text/html": [
       " View sweep at <a href='https://wandb.ai/viswa_ee/CS6910/sweeps/t38ec2il' target=\"_blank\">https://wandb.ai/viswa_ee/CS6910/sweeps/t38ec2il</a>"
      ],
      "text/plain": [
       "<IPython.core.display.HTML object>"
      ]
     },
     "metadata": {},
     "output_type": "display_data"
    },
    {
     "data": {
      "text/html": [
       " View run at <a href='https://wandb.ai/viswa_ee/CS6910/runs/82yuesaw' target=\"_blank\">https://wandb.ai/viswa_ee/CS6910/runs/82yuesaw</a>"
      ],
      "text/plain": [
       "<IPython.core.display.HTML object>"
      ]
     },
     "metadata": {},
     "output_type": "display_data"
    },
    {
     "data": {
      "text/html": [
       "Waiting for W&B process to finish... <strong style=\"color:green\">(success).</strong>"
      ],
      "text/plain": [
       "<IPython.core.display.HTML object>"
      ]
     },
     "metadata": {},
     "output_type": "display_data"
    },
    {
     "data": {
      "text/html": [
       "<style>\n",
       "    table.wandb td:nth-child(1) { padding: 0 10px; text-align: left ; width: auto;} td:nth-child(2) {text-align: left ; width: 100%}\n",
       "    .wandb-row { display: flex; flex-direction: row; flex-wrap: wrap; justify-content: flex-start; width: 100% }\n",
       "    .wandb-col { display: flex; flex-direction: column; flex-basis: 100%; flex: 1; padding: 10px; }\n",
       "    </style>\n",
       "<div class=\"wandb-row\"><div class=\"wandb-col\"><h3>Run history:</h3><br/><table class=\"wandb\"><tr><td>train_acc</td><td>▁▁▁▁▁▁▁▁█▁</td></tr><tr><td>train_loss</td><td>▄██▁▁▂▄▃▅▄</td></tr><tr><td>val_acc</td><td>▁▁▁▁▁▁▁▁▁▁</td></tr><tr><td>val_loss</td><td>▅▅█▃▄▁▂▂▅▃</td></tr></table><br/></div><div class=\"wandb-col\"><h3>Run summary:</h3><br/><table class=\"wandb\"><tr><td>train_acc</td><td>0.09994</td></tr><tr><td>train_loss</td><td>-1086.16333</td></tr><tr><td>val_acc</td><td>0.09983</td></tr><tr><td>val_loss</td><td>-1091.2544</td></tr></table><br/></div></div>"
      ],
      "text/plain": [
       "<IPython.core.display.HTML object>"
      ]
     },
     "metadata": {},
     "output_type": "display_data"
    },
    {
     "data": {
      "text/html": [
       " View run <strong style=\"color:#cdcd00\">comic-sweep-29</strong> at: <a href='https://wandb.ai/viswa_ee/CS6910/runs/82yuesaw' target=\"_blank\">https://wandb.ai/viswa_ee/CS6910/runs/82yuesaw</a><br/>Synced 4 W&B file(s), 1 media file(s), 0 artifact file(s) and 0 other file(s)"
      ],
      "text/plain": [
       "<IPython.core.display.HTML object>"
      ]
     },
     "metadata": {},
     "output_type": "display_data"
    },
    {
     "data": {
      "text/html": [
       "Find logs at: <code>.\\wandb\\run-20230317_173606-82yuesaw\\logs</code>"
      ],
      "text/plain": [
       "<IPython.core.display.HTML object>"
      ]
     },
     "metadata": {},
     "output_type": "display_data"
    },
    {
     "name": "stderr",
     "output_type": "stream",
     "text": [
      "\u001b[34m\u001b[1mwandb\u001b[0m: Agent Starting Run: 18pws6ok with config:\n",
      "\u001b[34m\u001b[1mwandb\u001b[0m: \tact_func: sigmoid\n",
      "\u001b[34m\u001b[1mwandb\u001b[0m: \tbatch_size: 64\n",
      "\u001b[34m\u001b[1mwandb\u001b[0m: \tl2_coeff: 0.0005\n",
      "\u001b[34m\u001b[1mwandb\u001b[0m: \tloss_func: mse\n",
      "\u001b[34m\u001b[1mwandb\u001b[0m: \tlr: 0.001\n",
      "\u001b[34m\u001b[1mwandb\u001b[0m: \tn_epochs: 5\n",
      "\u001b[34m\u001b[1mwandb\u001b[0m: \tn_hidden: 4\n",
      "\u001b[34m\u001b[1mwandb\u001b[0m: \tn_hidden_units: 128\n",
      "\u001b[34m\u001b[1mwandb\u001b[0m: \toptim_algo: adam\n",
      "\u001b[34m\u001b[1mwandb\u001b[0m: \trelu_param: 0.001\n",
      "\u001b[34m\u001b[1mwandb\u001b[0m: \tweight_init: xavier_uniform\n",
      "Failed to detect the name of this notebook, you can set it manually with the WANDB_NOTEBOOK_NAME environment variable to enable code saving.\n"
     ]
    },
    {
     "data": {
      "text/html": [
       "Tracking run with wandb version 0.14.0"
      ],
      "text/plain": [
       "<IPython.core.display.HTML object>"
      ]
     },
     "metadata": {},
     "output_type": "display_data"
    },
    {
     "data": {
      "text/html": [
       "Run data is saved locally in <code>d:\\CS6901\\wandb\\run-20230317_173703-18pws6ok</code>"
      ],
      "text/plain": [
       "<IPython.core.display.HTML object>"
      ]
     },
     "metadata": {},
     "output_type": "display_data"
    },
    {
     "data": {
      "text/html": [
       "Syncing run <strong><a href='https://wandb.ai/viswa_ee/CS6910/runs/18pws6ok' target=\"_blank\">ruby-sweep-30</a></strong> to <a href='https://wandb.ai/viswa_ee/CS6910' target=\"_blank\">Weights & Biases</a> (<a href='https://wandb.me/run' target=\"_blank\">docs</a>)<br/>Sweep page: <a href='https://wandb.ai/viswa_ee/CS6910/sweeps/t38ec2il' target=\"_blank\">https://wandb.ai/viswa_ee/CS6910/sweeps/t38ec2il</a>"
      ],
      "text/plain": [
       "<IPython.core.display.HTML object>"
      ]
     },
     "metadata": {},
     "output_type": "display_data"
    },
    {
     "data": {
      "text/html": [
       " View project at <a href='https://wandb.ai/viswa_ee/CS6910' target=\"_blank\">https://wandb.ai/viswa_ee/CS6910</a>"
      ],
      "text/plain": [
       "<IPython.core.display.HTML object>"
      ]
     },
     "metadata": {},
     "output_type": "display_data"
    },
    {
     "data": {
      "text/html": [
       " View sweep at <a href='https://wandb.ai/viswa_ee/CS6910/sweeps/t38ec2il' target=\"_blank\">https://wandb.ai/viswa_ee/CS6910/sweeps/t38ec2il</a>"
      ],
      "text/plain": [
       "<IPython.core.display.HTML object>"
      ]
     },
     "metadata": {},
     "output_type": "display_data"
    },
    {
     "data": {
      "text/html": [
       " View run at <a href='https://wandb.ai/viswa_ee/CS6910/runs/18pws6ok' target=\"_blank\">https://wandb.ai/viswa_ee/CS6910/runs/18pws6ok</a>"
      ],
      "text/plain": [
       "<IPython.core.display.HTML object>"
      ]
     },
     "metadata": {},
     "output_type": "display_data"
    },
    {
     "data": {
      "text/html": [
       "Waiting for W&B process to finish... <strong style=\"color:green\">(success).</strong>"
      ],
      "text/plain": [
       "<IPython.core.display.HTML object>"
      ]
     },
     "metadata": {},
     "output_type": "display_data"
    },
    {
     "data": {
      "text/html": [
       "<style>\n",
       "    table.wandb td:nth-child(1) { padding: 0 10px; text-align: left ; width: auto;} td:nth-child(2) {text-align: left ; width: 100%}\n",
       "    .wandb-row { display: flex; flex-direction: row; flex-wrap: wrap; justify-content: flex-start; width: 100% }\n",
       "    .wandb-col { display: flex; flex-direction: column; flex-basis: 100%; flex: 1; padding: 10px; }\n",
       "    </style>\n",
       "<div class=\"wandb-row\"><div class=\"wandb-col\"><h3>Run history:</h3><br/><table class=\"wandb\"><tr><td>train_acc</td><td>▁▄▆▇█</td></tr><tr><td>train_loss</td><td>█▃▅▂▁</td></tr><tr><td>val_acc</td><td>▁▄▆▇█</td></tr><tr><td>val_loss</td><td>█▅▅▂▁</td></tr></table><br/></div><div class=\"wandb-col\"><h3>Run summary:</h3><br/><table class=\"wandb\"><tr><td>train_acc</td><td>0.85737</td></tr><tr><td>train_loss</td><td>-810.47835</td></tr><tr><td>val_acc</td><td>0.8375</td></tr><tr><td>val_loss</td><td>-818.92957</td></tr></table><br/></div></div>"
      ],
      "text/plain": [
       "<IPython.core.display.HTML object>"
      ]
     },
     "metadata": {},
     "output_type": "display_data"
    },
    {
     "data": {
      "text/html": [
       " View run <strong style=\"color:#cdcd00\">ruby-sweep-30</strong> at: <a href='https://wandb.ai/viswa_ee/CS6910/runs/18pws6ok' target=\"_blank\">https://wandb.ai/viswa_ee/CS6910/runs/18pws6ok</a><br/>Synced 4 W&B file(s), 1 media file(s), 0 artifact file(s) and 0 other file(s)"
      ],
      "text/plain": [
       "<IPython.core.display.HTML object>"
      ]
     },
     "metadata": {},
     "output_type": "display_data"
    },
    {
     "data": {
      "text/html": [
       "Find logs at: <code>.\\wandb\\run-20230317_173703-18pws6ok\\logs</code>"
      ],
      "text/plain": [
       "<IPython.core.display.HTML object>"
      ]
     },
     "metadata": {},
     "output_type": "display_data"
    },
    {
     "name": "stderr",
     "output_type": "stream",
     "text": [
      "\u001b[34m\u001b[1mwandb\u001b[0m: Sweep Agent: Waiting for job.\n",
      "\u001b[34m\u001b[1mwandb\u001b[0m: Job received.\n",
      "\u001b[34m\u001b[1mwandb\u001b[0m: Agent Starting Run: zhlufuj2 with config:\n",
      "\u001b[34m\u001b[1mwandb\u001b[0m: \tact_func: tanh\n",
      "\u001b[34m\u001b[1mwandb\u001b[0m: \tbatch_size: 64\n",
      "\u001b[34m\u001b[1mwandb\u001b[0m: \tl2_coeff: 0.5\n",
      "\u001b[34m\u001b[1mwandb\u001b[0m: \tloss_func: mse\n",
      "\u001b[34m\u001b[1mwandb\u001b[0m: \tlr: 0.001\n",
      "\u001b[34m\u001b[1mwandb\u001b[0m: \tn_epochs: 5\n",
      "\u001b[34m\u001b[1mwandb\u001b[0m: \tn_hidden: 5\n",
      "\u001b[34m\u001b[1mwandb\u001b[0m: \tn_hidden_units: 128\n",
      "\u001b[34m\u001b[1mwandb\u001b[0m: \toptim_algo: nag\n",
      "\u001b[34m\u001b[1mwandb\u001b[0m: \trelu_param: 0.1\n",
      "\u001b[34m\u001b[1mwandb\u001b[0m: \tweight_init: xavier_uniform\n",
      "Failed to detect the name of this notebook, you can set it manually with the WANDB_NOTEBOOK_NAME environment variable to enable code saving.\n"
     ]
    },
    {
     "data": {
      "text/html": [
       "Tracking run with wandb version 0.14.0"
      ],
      "text/plain": [
       "<IPython.core.display.HTML object>"
      ]
     },
     "metadata": {},
     "output_type": "display_data"
    },
    {
     "data": {
      "text/html": [
       "Run data is saved locally in <code>d:\\CS6901\\wandb\\run-20230317_173804-zhlufuj2</code>"
      ],
      "text/plain": [
       "<IPython.core.display.HTML object>"
      ]
     },
     "metadata": {},
     "output_type": "display_data"
    },
    {
     "data": {
      "text/html": [
       "Syncing run <strong><a href='https://wandb.ai/viswa_ee/CS6910/runs/zhlufuj2' target=\"_blank\">bumbling-sweep-31</a></strong> to <a href='https://wandb.ai/viswa_ee/CS6910' target=\"_blank\">Weights & Biases</a> (<a href='https://wandb.me/run' target=\"_blank\">docs</a>)<br/>Sweep page: <a href='https://wandb.ai/viswa_ee/CS6910/sweeps/t38ec2il' target=\"_blank\">https://wandb.ai/viswa_ee/CS6910/sweeps/t38ec2il</a>"
      ],
      "text/plain": [
       "<IPython.core.display.HTML object>"
      ]
     },
     "metadata": {},
     "output_type": "display_data"
    },
    {
     "data": {
      "text/html": [
       " View project at <a href='https://wandb.ai/viswa_ee/CS6910' target=\"_blank\">https://wandb.ai/viswa_ee/CS6910</a>"
      ],
      "text/plain": [
       "<IPython.core.display.HTML object>"
      ]
     },
     "metadata": {},
     "output_type": "display_data"
    },
    {
     "data": {
      "text/html": [
       " View sweep at <a href='https://wandb.ai/viswa_ee/CS6910/sweeps/t38ec2il' target=\"_blank\">https://wandb.ai/viswa_ee/CS6910/sweeps/t38ec2il</a>"
      ],
      "text/plain": [
       "<IPython.core.display.HTML object>"
      ]
     },
     "metadata": {},
     "output_type": "display_data"
    },
    {
     "data": {
      "text/html": [
       " View run at <a href='https://wandb.ai/viswa_ee/CS6910/runs/zhlufuj2' target=\"_blank\">https://wandb.ai/viswa_ee/CS6910/runs/zhlufuj2</a>"
      ],
      "text/plain": [
       "<IPython.core.display.HTML object>"
      ]
     },
     "metadata": {},
     "output_type": "display_data"
    },
    {
     "data": {
      "text/html": [
       "Waiting for W&B process to finish... <strong style=\"color:green\">(success).</strong>"
      ],
      "text/plain": [
       "<IPython.core.display.HTML object>"
      ]
     },
     "metadata": {},
     "output_type": "display_data"
    },
    {
     "data": {
      "text/html": [
       "<style>\n",
       "    table.wandb td:nth-child(1) { padding: 0 10px; text-align: left ; width: auto;} td:nth-child(2) {text-align: left ; width: 100%}\n",
       "    .wandb-row { display: flex; flex-direction: row; flex-wrap: wrap; justify-content: flex-start; width: 100% }\n",
       "    .wandb-col { display: flex; flex-direction: column; flex-basis: 100%; flex: 1; padding: 10px; }\n",
       "    </style>\n",
       "<div class=\"wandb-row\"><div class=\"wandb-col\"><h3>Run history:</h3><br/><table class=\"wandb\"><tr><td>train_acc</td><td>▃▆▁▃█</td></tr><tr><td>train_loss</td><td>▅█▂▁▇</td></tr><tr><td>val_acc</td><td>█▅▅█▁</td></tr><tr><td>val_loss</td><td>▇█▁▇▆</td></tr></table><br/></div><div class=\"wandb-col\"><h3>Run summary:</h3><br/><table class=\"wandb\"><tr><td>train_acc</td><td>0.07043</td></tr><tr><td>train_loss</td><td>-3369.77526</td></tr><tr><td>val_acc</td><td>0.0685</td></tr><tr><td>val_loss</td><td>-4557.32227</td></tr></table><br/></div></div>"
      ],
      "text/plain": [
       "<IPython.core.display.HTML object>"
      ]
     },
     "metadata": {},
     "output_type": "display_data"
    },
    {
     "data": {
      "text/html": [
       " View run <strong style=\"color:#cdcd00\">bumbling-sweep-31</strong> at: <a href='https://wandb.ai/viswa_ee/CS6910/runs/zhlufuj2' target=\"_blank\">https://wandb.ai/viswa_ee/CS6910/runs/zhlufuj2</a><br/>Synced 4 W&B file(s), 1 media file(s), 0 artifact file(s) and 0 other file(s)"
      ],
      "text/plain": [
       "<IPython.core.display.HTML object>"
      ]
     },
     "metadata": {},
     "output_type": "display_data"
    },
    {
     "data": {
      "text/html": [
       "Find logs at: <code>.\\wandb\\run-20230317_173804-zhlufuj2\\logs</code>"
      ],
      "text/plain": [
       "<IPython.core.display.HTML object>"
      ]
     },
     "metadata": {},
     "output_type": "display_data"
    },
    {
     "name": "stderr",
     "output_type": "stream",
     "text": [
      "\u001b[34m\u001b[1mwandb\u001b[0m: Sweep Agent: Waiting for job.\n",
      "\u001b[34m\u001b[1mwandb\u001b[0m: Job received.\n",
      "\u001b[34m\u001b[1mwandb\u001b[0m: Agent Starting Run: mk5d2aa2 with config:\n",
      "\u001b[34m\u001b[1mwandb\u001b[0m: \tact_func: relu\n",
      "\u001b[34m\u001b[1mwandb\u001b[0m: \tbatch_size: 64\n",
      "\u001b[34m\u001b[1mwandb\u001b[0m: \tl2_coeff: 0.0005\n",
      "\u001b[34m\u001b[1mwandb\u001b[0m: \tloss_func: mse\n",
      "\u001b[34m\u001b[1mwandb\u001b[0m: \tlr: 0.001\n",
      "\u001b[34m\u001b[1mwandb\u001b[0m: \tn_epochs: 5\n",
      "\u001b[34m\u001b[1mwandb\u001b[0m: \tn_hidden: 4\n",
      "\u001b[34m\u001b[1mwandb\u001b[0m: \tn_hidden_units: 128\n",
      "\u001b[34m\u001b[1mwandb\u001b[0m: \toptim_algo: rmsprop\n",
      "\u001b[34m\u001b[1mwandb\u001b[0m: \trelu_param: 0.01\n",
      "\u001b[34m\u001b[1mwandb\u001b[0m: \tweight_init: xavier_uniform\n",
      "Failed to detect the name of this notebook, you can set it manually with the WANDB_NOTEBOOK_NAME environment variable to enable code saving.\n"
     ]
    },
    {
     "data": {
      "text/html": [
       "Tracking run with wandb version 0.14.0"
      ],
      "text/plain": [
       "<IPython.core.display.HTML object>"
      ]
     },
     "metadata": {},
     "output_type": "display_data"
    },
    {
     "data": {
      "text/html": [
       "Run data is saved locally in <code>d:\\CS6901\\wandb\\run-20230317_173925-mk5d2aa2</code>"
      ],
      "text/plain": [
       "<IPython.core.display.HTML object>"
      ]
     },
     "metadata": {},
     "output_type": "display_data"
    },
    {
     "data": {
      "text/html": [
       "Syncing run <strong><a href='https://wandb.ai/viswa_ee/CS6910/runs/mk5d2aa2' target=\"_blank\">flowing-sweep-32</a></strong> to <a href='https://wandb.ai/viswa_ee/CS6910' target=\"_blank\">Weights & Biases</a> (<a href='https://wandb.me/run' target=\"_blank\">docs</a>)<br/>Sweep page: <a href='https://wandb.ai/viswa_ee/CS6910/sweeps/t38ec2il' target=\"_blank\">https://wandb.ai/viswa_ee/CS6910/sweeps/t38ec2il</a>"
      ],
      "text/plain": [
       "<IPython.core.display.HTML object>"
      ]
     },
     "metadata": {},
     "output_type": "display_data"
    },
    {
     "data": {
      "text/html": [
       " View project at <a href='https://wandb.ai/viswa_ee/CS6910' target=\"_blank\">https://wandb.ai/viswa_ee/CS6910</a>"
      ],
      "text/plain": [
       "<IPython.core.display.HTML object>"
      ]
     },
     "metadata": {},
     "output_type": "display_data"
    },
    {
     "data": {
      "text/html": [
       " View sweep at <a href='https://wandb.ai/viswa_ee/CS6910/sweeps/t38ec2il' target=\"_blank\">https://wandb.ai/viswa_ee/CS6910/sweeps/t38ec2il</a>"
      ],
      "text/plain": [
       "<IPython.core.display.HTML object>"
      ]
     },
     "metadata": {},
     "output_type": "display_data"
    },
    {
     "data": {
      "text/html": [
       " View run at <a href='https://wandb.ai/viswa_ee/CS6910/runs/mk5d2aa2' target=\"_blank\">https://wandb.ai/viswa_ee/CS6910/runs/mk5d2aa2</a>"
      ],
      "text/plain": [
       "<IPython.core.display.HTML object>"
      ]
     },
     "metadata": {},
     "output_type": "display_data"
    },
    {
     "data": {
      "text/html": [
       "Waiting for W&B process to finish... <strong style=\"color:green\">(success).</strong>"
      ],
      "text/plain": [
       "<IPython.core.display.HTML object>"
      ]
     },
     "metadata": {},
     "output_type": "display_data"
    },
    {
     "data": {
      "text/html": [
       "<style>\n",
       "    table.wandb td:nth-child(1) { padding: 0 10px; text-align: left ; width: auto;} td:nth-child(2) {text-align: left ; width: 100%}\n",
       "    .wandb-row { display: flex; flex-direction: row; flex-wrap: wrap; justify-content: flex-start; width: 100% }\n",
       "    .wandb-col { display: flex; flex-direction: column; flex-basis: 100%; flex: 1; padding: 10px; }\n",
       "    </style>\n",
       "<div class=\"wandb-row\"><div class=\"wandb-col\"><h3>Run history:</h3><br/><table class=\"wandb\"><tr><td>train_acc</td><td>▁▅█▇▇</td></tr><tr><td>train_loss</td><td>█▅▇▂▁</td></tr><tr><td>val_acc</td><td>▁▅█▆▇</td></tr><tr><td>val_loss</td><td>█▃▁▂▁</td></tr></table><br/></div><div class=\"wandb-col\"><h3>Run summary:</h3><br/><table class=\"wandb\"><tr><td>train_acc</td><td>0.7482</td></tr><tr><td>train_loss</td><td>-16950914.56059</td></tr><tr><td>val_acc</td><td>0.74583</td></tr><tr><td>val_loss</td><td>-16559009.6799</td></tr></table><br/></div></div>"
      ],
      "text/plain": [
       "<IPython.core.display.HTML object>"
      ]
     },
     "metadata": {},
     "output_type": "display_data"
    },
    {
     "data": {
      "text/html": [
       " View run <strong style=\"color:#cdcd00\">flowing-sweep-32</strong> at: <a href='https://wandb.ai/viswa_ee/CS6910/runs/mk5d2aa2' target=\"_blank\">https://wandb.ai/viswa_ee/CS6910/runs/mk5d2aa2</a><br/>Synced 4 W&B file(s), 1 media file(s), 0 artifact file(s) and 0 other file(s)"
      ],
      "text/plain": [
       "<IPython.core.display.HTML object>"
      ]
     },
     "metadata": {},
     "output_type": "display_data"
    },
    {
     "data": {
      "text/html": [
       "Find logs at: <code>.\\wandb\\run-20230317_173925-mk5d2aa2\\logs</code>"
      ],
      "text/plain": [
       "<IPython.core.display.HTML object>"
      ]
     },
     "metadata": {},
     "output_type": "display_data"
    },
    {
     "name": "stderr",
     "output_type": "stream",
     "text": [
      "\u001b[34m\u001b[1mwandb\u001b[0m: Sweep Agent: Waiting for job.\n",
      "\u001b[34m\u001b[1mwandb\u001b[0m: Job received.\n",
      "\u001b[34m\u001b[1mwandb\u001b[0m: Agent Starting Run: 6dqku7p8 with config:\n",
      "\u001b[34m\u001b[1mwandb\u001b[0m: \tact_func: sigmoid\n",
      "\u001b[34m\u001b[1mwandb\u001b[0m: \tbatch_size: 64\n",
      "\u001b[34m\u001b[1mwandb\u001b[0m: \tl2_coeff: 0.0005\n",
      "\u001b[34m\u001b[1mwandb\u001b[0m: \tloss_func: mse\n",
      "\u001b[34m\u001b[1mwandb\u001b[0m: \tlr: 0.001\n",
      "\u001b[34m\u001b[1mwandb\u001b[0m: \tn_epochs: 5\n",
      "\u001b[34m\u001b[1mwandb\u001b[0m: \tn_hidden: 5\n",
      "\u001b[34m\u001b[1mwandb\u001b[0m: \tn_hidden_units: 128\n",
      "\u001b[34m\u001b[1mwandb\u001b[0m: \toptim_algo: nadam\n",
      "\u001b[34m\u001b[1mwandb\u001b[0m: \trelu_param: 0.001\n",
      "\u001b[34m\u001b[1mwandb\u001b[0m: \tweight_init: xavier_uniform\n",
      "Failed to detect the name of this notebook, you can set it manually with the WANDB_NOTEBOOK_NAME environment variable to enable code saving.\n"
     ]
    },
    {
     "data": {
      "text/html": [
       "Tracking run with wandb version 0.14.0"
      ],
      "text/plain": [
       "<IPython.core.display.HTML object>"
      ]
     },
     "metadata": {},
     "output_type": "display_data"
    },
    {
     "data": {
      "text/html": [
       "Run data is saved locally in <code>d:\\CS6901\\wandb\\run-20230317_174024-6dqku7p8</code>"
      ],
      "text/plain": [
       "<IPython.core.display.HTML object>"
      ]
     },
     "metadata": {},
     "output_type": "display_data"
    },
    {
     "data": {
      "text/html": [
       "Syncing run <strong><a href='https://wandb.ai/viswa_ee/CS6910/runs/6dqku7p8' target=\"_blank\">earthy-sweep-33</a></strong> to <a href='https://wandb.ai/viswa_ee/CS6910' target=\"_blank\">Weights & Biases</a> (<a href='https://wandb.me/run' target=\"_blank\">docs</a>)<br/>Sweep page: <a href='https://wandb.ai/viswa_ee/CS6910/sweeps/t38ec2il' target=\"_blank\">https://wandb.ai/viswa_ee/CS6910/sweeps/t38ec2il</a>"
      ],
      "text/plain": [
       "<IPython.core.display.HTML object>"
      ]
     },
     "metadata": {},
     "output_type": "display_data"
    },
    {
     "data": {
      "text/html": [
       " View project at <a href='https://wandb.ai/viswa_ee/CS6910' target=\"_blank\">https://wandb.ai/viswa_ee/CS6910</a>"
      ],
      "text/plain": [
       "<IPython.core.display.HTML object>"
      ]
     },
     "metadata": {},
     "output_type": "display_data"
    },
    {
     "data": {
      "text/html": [
       " View sweep at <a href='https://wandb.ai/viswa_ee/CS6910/sweeps/t38ec2il' target=\"_blank\">https://wandb.ai/viswa_ee/CS6910/sweeps/t38ec2il</a>"
      ],
      "text/plain": [
       "<IPython.core.display.HTML object>"
      ]
     },
     "metadata": {},
     "output_type": "display_data"
    },
    {
     "data": {
      "text/html": [
       " View run at <a href='https://wandb.ai/viswa_ee/CS6910/runs/6dqku7p8' target=\"_blank\">https://wandb.ai/viswa_ee/CS6910/runs/6dqku7p8</a>"
      ],
      "text/plain": [
       "<IPython.core.display.HTML object>"
      ]
     },
     "metadata": {},
     "output_type": "display_data"
    },
    {
     "data": {
      "text/html": [
       "Waiting for W&B process to finish... <strong style=\"color:green\">(success).</strong>"
      ],
      "text/plain": [
       "<IPython.core.display.HTML object>"
      ]
     },
     "metadata": {},
     "output_type": "display_data"
    },
    {
     "data": {
      "text/html": [
       "<style>\n",
       "    table.wandb td:nth-child(1) { padding: 0 10px; text-align: left ; width: auto;} td:nth-child(2) {text-align: left ; width: 100%}\n",
       "    .wandb-row { display: flex; flex-direction: row; flex-wrap: wrap; justify-content: flex-start; width: 100% }\n",
       "    .wandb-col { display: flex; flex-direction: column; flex-basis: 100%; flex: 1; padding: 10px; }\n",
       "    </style>\n",
       "<div class=\"wandb-row\"><div class=\"wandb-col\"><h3>Run history:</h3><br/><table class=\"wandb\"><tr><td>train_acc</td><td>▁▄▅▇█</td></tr><tr><td>train_loss</td><td>█▇▃▁▂</td></tr><tr><td>val_acc</td><td>▁▄▆▇█</td></tr><tr><td>val_loss</td><td>█▆▄▂▁</td></tr></table><br/></div><div class=\"wandb-col\"><h3>Run summary:</h3><br/><table class=\"wandb\"><tr><td>train_acc</td><td>0.85657</td></tr><tr><td>train_loss</td><td>-694.79096</td></tr><tr><td>val_acc</td><td>0.83</td></tr><tr><td>val_loss</td><td>-682.49698</td></tr></table><br/></div></div>"
      ],
      "text/plain": [
       "<IPython.core.display.HTML object>"
      ]
     },
     "metadata": {},
     "output_type": "display_data"
    },
    {
     "data": {
      "text/html": [
       " View run <strong style=\"color:#cdcd00\">earthy-sweep-33</strong> at: <a href='https://wandb.ai/viswa_ee/CS6910/runs/6dqku7p8' target=\"_blank\">https://wandb.ai/viswa_ee/CS6910/runs/6dqku7p8</a><br/>Synced 4 W&B file(s), 1 media file(s), 0 artifact file(s) and 0 other file(s)"
      ],
      "text/plain": [
       "<IPython.core.display.HTML object>"
      ]
     },
     "metadata": {},
     "output_type": "display_data"
    },
    {
     "data": {
      "text/html": [
       "Find logs at: <code>.\\wandb\\run-20230317_174024-6dqku7p8\\logs</code>"
      ],
      "text/plain": [
       "<IPython.core.display.HTML object>"
      ]
     },
     "metadata": {},
     "output_type": "display_data"
    },
    {
     "name": "stderr",
     "output_type": "stream",
     "text": [
      "\u001b[34m\u001b[1mwandb\u001b[0m: Sweep Agent: Waiting for job.\n",
      "\u001b[34m\u001b[1mwandb\u001b[0m: Job received.\n",
      "\u001b[34m\u001b[1mwandb\u001b[0m: Agent Starting Run: y6lt3baa with config:\n",
      "\u001b[34m\u001b[1mwandb\u001b[0m: \tact_func: sigmoid\n",
      "\u001b[34m\u001b[1mwandb\u001b[0m: \tbatch_size: 64\n",
      "\u001b[34m\u001b[1mwandb\u001b[0m: \tl2_coeff: 0.5\n",
      "\u001b[34m\u001b[1mwandb\u001b[0m: \tloss_func: mse\n",
      "\u001b[34m\u001b[1mwandb\u001b[0m: \tlr: 0.001\n",
      "\u001b[34m\u001b[1mwandb\u001b[0m: \tn_epochs: 10\n",
      "\u001b[34m\u001b[1mwandb\u001b[0m: \tn_hidden: 4\n",
      "\u001b[34m\u001b[1mwandb\u001b[0m: \tn_hidden_units: 128\n",
      "\u001b[34m\u001b[1mwandb\u001b[0m: \toptim_algo: adam\n",
      "\u001b[34m\u001b[1mwandb\u001b[0m: \trelu_param: 0.001\n",
      "\u001b[34m\u001b[1mwandb\u001b[0m: \tweight_init: xavier_uniform\n",
      "Failed to detect the name of this notebook, you can set it manually with the WANDB_NOTEBOOK_NAME environment variable to enable code saving.\n"
     ]
    },
    {
     "data": {
      "text/html": [
       "Tracking run with wandb version 0.14.0"
      ],
      "text/plain": [
       "<IPython.core.display.HTML object>"
      ]
     },
     "metadata": {},
     "output_type": "display_data"
    },
    {
     "data": {
      "text/html": [
       "Run data is saved locally in <code>d:\\CS6901\\wandb\\run-20230317_174133-y6lt3baa</code>"
      ],
      "text/plain": [
       "<IPython.core.display.HTML object>"
      ]
     },
     "metadata": {},
     "output_type": "display_data"
    },
    {
     "data": {
      "text/html": [
       "Syncing run <strong><a href='https://wandb.ai/viswa_ee/CS6910/runs/y6lt3baa' target=\"_blank\">confused-sweep-34</a></strong> to <a href='https://wandb.ai/viswa_ee/CS6910' target=\"_blank\">Weights & Biases</a> (<a href='https://wandb.me/run' target=\"_blank\">docs</a>)<br/>Sweep page: <a href='https://wandb.ai/viswa_ee/CS6910/sweeps/t38ec2il' target=\"_blank\">https://wandb.ai/viswa_ee/CS6910/sweeps/t38ec2il</a>"
      ],
      "text/plain": [
       "<IPython.core.display.HTML object>"
      ]
     },
     "metadata": {},
     "output_type": "display_data"
    },
    {
     "data": {
      "text/html": [
       " View project at <a href='https://wandb.ai/viswa_ee/CS6910' target=\"_blank\">https://wandb.ai/viswa_ee/CS6910</a>"
      ],
      "text/plain": [
       "<IPython.core.display.HTML object>"
      ]
     },
     "metadata": {},
     "output_type": "display_data"
    },
    {
     "data": {
      "text/html": [
       " View sweep at <a href='https://wandb.ai/viswa_ee/CS6910/sweeps/t38ec2il' target=\"_blank\">https://wandb.ai/viswa_ee/CS6910/sweeps/t38ec2il</a>"
      ],
      "text/plain": [
       "<IPython.core.display.HTML object>"
      ]
     },
     "metadata": {},
     "output_type": "display_data"
    },
    {
     "data": {
      "text/html": [
       " View run at <a href='https://wandb.ai/viswa_ee/CS6910/runs/y6lt3baa' target=\"_blank\">https://wandb.ai/viswa_ee/CS6910/runs/y6lt3baa</a>"
      ],
      "text/plain": [
       "<IPython.core.display.HTML object>"
      ]
     },
     "metadata": {},
     "output_type": "display_data"
    },
    {
     "data": {
      "text/html": [
       "Waiting for W&B process to finish... <strong style=\"color:green\">(success).</strong>"
      ],
      "text/plain": [
       "<IPython.core.display.HTML object>"
      ]
     },
     "metadata": {},
     "output_type": "display_data"
    },
    {
     "data": {
      "text/html": [
       "<style>\n",
       "    table.wandb td:nth-child(1) { padding: 0 10px; text-align: left ; width: auto;} td:nth-child(2) {text-align: left ; width: 100%}\n",
       "    .wandb-row { display: flex; flex-direction: row; flex-wrap: wrap; justify-content: flex-start; width: 100% }\n",
       "    .wandb-col { display: flex; flex-direction: column; flex-basis: 100%; flex: 1; padding: 10px; }\n",
       "    </style>\n",
       "<div class=\"wandb-row\"><div class=\"wandb-col\"><h3>Run history:</h3><br/><table class=\"wandb\"><tr><td>train_acc</td><td>▁▅▂█▇▄▅▆▇▅</td></tr><tr><td>train_loss</td><td>█▅▂▄▂▃▂▂▂▁</td></tr><tr><td>val_acc</td><td>▁▅▃██▄▆▆█▆</td></tr><tr><td>val_loss</td><td>█▅▄▆▆▅▄▄▃▁</td></tr></table><br/></div><div class=\"wandb-col\"><h3>Run summary:</h3><br/><table class=\"wandb\"><tr><td>train_acc</td><td>0.81487</td></tr><tr><td>train_loss</td><td>-481.35729</td></tr><tr><td>val_acc</td><td>0.814</td></tr><tr><td>val_loss</td><td>-482.42786</td></tr></table><br/></div></div>"
      ],
      "text/plain": [
       "<IPython.core.display.HTML object>"
      ]
     },
     "metadata": {},
     "output_type": "display_data"
    },
    {
     "data": {
      "text/html": [
       " View run <strong style=\"color:#cdcd00\">confused-sweep-34</strong> at: <a href='https://wandb.ai/viswa_ee/CS6910/runs/y6lt3baa' target=\"_blank\">https://wandb.ai/viswa_ee/CS6910/runs/y6lt3baa</a><br/>Synced 4 W&B file(s), 1 media file(s), 0 artifact file(s) and 0 other file(s)"
      ],
      "text/plain": [
       "<IPython.core.display.HTML object>"
      ]
     },
     "metadata": {},
     "output_type": "display_data"
    },
    {
     "data": {
      "text/html": [
       "Find logs at: <code>.\\wandb\\run-20230317_174133-y6lt3baa\\logs</code>"
      ],
      "text/plain": [
       "<IPython.core.display.HTML object>"
      ]
     },
     "metadata": {},
     "output_type": "display_data"
    },
    {
     "name": "stderr",
     "output_type": "stream",
     "text": [
      "\u001b[34m\u001b[1mwandb\u001b[0m: Sweep Agent: Waiting for job.\n",
      "\u001b[34m\u001b[1mwandb\u001b[0m: Job received.\n",
      "\u001b[34m\u001b[1mwandb\u001b[0m: Agent Starting Run: su37rpgk with config:\n",
      "\u001b[34m\u001b[1mwandb\u001b[0m: \tact_func: sigmoid\n",
      "\u001b[34m\u001b[1mwandb\u001b[0m: \tbatch_size: 64\n",
      "\u001b[34m\u001b[1mwandb\u001b[0m: \tl2_coeff: 0.5\n",
      "\u001b[34m\u001b[1mwandb\u001b[0m: \tloss_func: cross_ent\n",
      "\u001b[34m\u001b[1mwandb\u001b[0m: \tlr: 0.001\n",
      "\u001b[34m\u001b[1mwandb\u001b[0m: \tn_epochs: 5\n",
      "\u001b[34m\u001b[1mwandb\u001b[0m: \tn_hidden: 4\n",
      "\u001b[34m\u001b[1mwandb\u001b[0m: \tn_hidden_units: 128\n",
      "\u001b[34m\u001b[1mwandb\u001b[0m: \toptim_algo: nadam\n",
      "\u001b[34m\u001b[1mwandb\u001b[0m: \trelu_param: 0.1\n",
      "\u001b[34m\u001b[1mwandb\u001b[0m: \tweight_init: xavier_uniform\n",
      "Failed to detect the name of this notebook, you can set it manually with the WANDB_NOTEBOOK_NAME environment variable to enable code saving.\n"
     ]
    },
    {
     "data": {
      "text/html": [
       "Tracking run with wandb version 0.14.0"
      ],
      "text/plain": [
       "<IPython.core.display.HTML object>"
      ]
     },
     "metadata": {},
     "output_type": "display_data"
    },
    {
     "data": {
      "text/html": [
       "Run data is saved locally in <code>d:\\CS6901\\wandb\\run-20230317_174313-su37rpgk</code>"
      ],
      "text/plain": [
       "<IPython.core.display.HTML object>"
      ]
     },
     "metadata": {},
     "output_type": "display_data"
    },
    {
     "data": {
      "text/html": [
       "Syncing run <strong><a href='https://wandb.ai/viswa_ee/CS6910/runs/su37rpgk' target=\"_blank\">wise-sweep-35</a></strong> to <a href='https://wandb.ai/viswa_ee/CS6910' target=\"_blank\">Weights & Biases</a> (<a href='https://wandb.me/run' target=\"_blank\">docs</a>)<br/>Sweep page: <a href='https://wandb.ai/viswa_ee/CS6910/sweeps/t38ec2il' target=\"_blank\">https://wandb.ai/viswa_ee/CS6910/sweeps/t38ec2il</a>"
      ],
      "text/plain": [
       "<IPython.core.display.HTML object>"
      ]
     },
     "metadata": {},
     "output_type": "display_data"
    },
    {
     "data": {
      "text/html": [
       " View project at <a href='https://wandb.ai/viswa_ee/CS6910' target=\"_blank\">https://wandb.ai/viswa_ee/CS6910</a>"
      ],
      "text/plain": [
       "<IPython.core.display.HTML object>"
      ]
     },
     "metadata": {},
     "output_type": "display_data"
    },
    {
     "data": {
      "text/html": [
       " View sweep at <a href='https://wandb.ai/viswa_ee/CS6910/sweeps/t38ec2il' target=\"_blank\">https://wandb.ai/viswa_ee/CS6910/sweeps/t38ec2il</a>"
      ],
      "text/plain": [
       "<IPython.core.display.HTML object>"
      ]
     },
     "metadata": {},
     "output_type": "display_data"
    },
    {
     "data": {
      "text/html": [
       " View run at <a href='https://wandb.ai/viswa_ee/CS6910/runs/su37rpgk' target=\"_blank\">https://wandb.ai/viswa_ee/CS6910/runs/su37rpgk</a>"
      ],
      "text/plain": [
       "<IPython.core.display.HTML object>"
      ]
     },
     "metadata": {},
     "output_type": "display_data"
    },
    {
     "data": {
      "text/html": [
       "Waiting for W&B process to finish... <strong style=\"color:green\">(success).</strong>"
      ],
      "text/plain": [
       "<IPython.core.display.HTML object>"
      ]
     },
     "metadata": {},
     "output_type": "display_data"
    },
    {
     "data": {
      "text/html": [
       "<style>\n",
       "    table.wandb td:nth-child(1) { padding: 0 10px; text-align: left ; width: auto;} td:nth-child(2) {text-align: left ; width: 100%}\n",
       "    .wandb-row { display: flex; flex-direction: row; flex-wrap: wrap; justify-content: flex-start; width: 100% }\n",
       "    .wandb-col { display: flex; flex-direction: column; flex-basis: 100%; flex: 1; padding: 10px; }\n",
       "    </style>\n",
       "<div class=\"wandb-row\"><div class=\"wandb-col\"><h3>Run history:</h3><br/><table class=\"wandb\"><tr><td>train_acc</td><td>▁▆█▅▄</td></tr><tr><td>train_loss</td><td>█▃▁▁▁</td></tr><tr><td>val_acc</td><td>▁▆█▅▄</td></tr><tr><td>val_loss</td><td>█▃▁▁▁</td></tr></table><br/></div><div class=\"wandb-col\"><h3>Run summary:</h3><br/><table class=\"wandb\"><tr><td>train_acc</td><td>0.79044</td></tr><tr><td>train_loss</td><td>2.4159</td></tr><tr><td>val_acc</td><td>0.78583</td></tr><tr><td>val_loss</td><td>0.64215</td></tr></table><br/></div></div>"
      ],
      "text/plain": [
       "<IPython.core.display.HTML object>"
      ]
     },
     "metadata": {},
     "output_type": "display_data"
    },
    {
     "data": {
      "text/html": [
       " View run <strong style=\"color:#cdcd00\">wise-sweep-35</strong> at: <a href='https://wandb.ai/viswa_ee/CS6910/runs/su37rpgk' target=\"_blank\">https://wandb.ai/viswa_ee/CS6910/runs/su37rpgk</a><br/>Synced 4 W&B file(s), 1 media file(s), 0 artifact file(s) and 0 other file(s)"
      ],
      "text/plain": [
       "<IPython.core.display.HTML object>"
      ]
     },
     "metadata": {},
     "output_type": "display_data"
    },
    {
     "data": {
      "text/html": [
       "Find logs at: <code>.\\wandb\\run-20230317_174313-su37rpgk\\logs</code>"
      ],
      "text/plain": [
       "<IPython.core.display.HTML object>"
      ]
     },
     "metadata": {},
     "output_type": "display_data"
    },
    {
     "name": "stderr",
     "output_type": "stream",
     "text": [
      "\u001b[34m\u001b[1mwandb\u001b[0m: Agent Starting Run: 4os98e25 with config:\n",
      "\u001b[34m\u001b[1mwandb\u001b[0m: \tact_func: tanh\n",
      "\u001b[34m\u001b[1mwandb\u001b[0m: \tbatch_size: 64\n",
      "\u001b[34m\u001b[1mwandb\u001b[0m: \tl2_coeff: 0.0005\n",
      "\u001b[34m\u001b[1mwandb\u001b[0m: \tloss_func: mse\n",
      "\u001b[34m\u001b[1mwandb\u001b[0m: \tlr: 0.001\n",
      "\u001b[34m\u001b[1mwandb\u001b[0m: \tn_epochs: 10\n",
      "\u001b[34m\u001b[1mwandb\u001b[0m: \tn_hidden: 5\n",
      "\u001b[34m\u001b[1mwandb\u001b[0m: \tn_hidden_units: 128\n",
      "\u001b[34m\u001b[1mwandb\u001b[0m: \toptim_algo: nadam\n",
      "\u001b[34m\u001b[1mwandb\u001b[0m: \trelu_param: 0.01\n",
      "\u001b[34m\u001b[1mwandb\u001b[0m: \tweight_init: xavier_uniform\n",
      "Failed to detect the name of this notebook, you can set it manually with the WANDB_NOTEBOOK_NAME environment variable to enable code saving.\n"
     ]
    },
    {
     "data": {
      "text/html": [
       "Tracking run with wandb version 0.14.0"
      ],
      "text/plain": [
       "<IPython.core.display.HTML object>"
      ]
     },
     "metadata": {},
     "output_type": "display_data"
    },
    {
     "data": {
      "text/html": [
       "Run data is saved locally in <code>d:\\CS6901\\wandb\\run-20230317_174408-4os98e25</code>"
      ],
      "text/plain": [
       "<IPython.core.display.HTML object>"
      ]
     },
     "metadata": {},
     "output_type": "display_data"
    },
    {
     "data": {
      "text/html": [
       "Syncing run <strong><a href='https://wandb.ai/viswa_ee/CS6910/runs/4os98e25' target=\"_blank\">radiant-sweep-36</a></strong> to <a href='https://wandb.ai/viswa_ee/CS6910' target=\"_blank\">Weights & Biases</a> (<a href='https://wandb.me/run' target=\"_blank\">docs</a>)<br/>Sweep page: <a href='https://wandb.ai/viswa_ee/CS6910/sweeps/t38ec2il' target=\"_blank\">https://wandb.ai/viswa_ee/CS6910/sweeps/t38ec2il</a>"
      ],
      "text/plain": [
       "<IPython.core.display.HTML object>"
      ]
     },
     "metadata": {},
     "output_type": "display_data"
    },
    {
     "data": {
      "text/html": [
       " View project at <a href='https://wandb.ai/viswa_ee/CS6910' target=\"_blank\">https://wandb.ai/viswa_ee/CS6910</a>"
      ],
      "text/plain": [
       "<IPython.core.display.HTML object>"
      ]
     },
     "metadata": {},
     "output_type": "display_data"
    },
    {
     "data": {
      "text/html": [
       " View sweep at <a href='https://wandb.ai/viswa_ee/CS6910/sweeps/t38ec2il' target=\"_blank\">https://wandb.ai/viswa_ee/CS6910/sweeps/t38ec2il</a>"
      ],
      "text/plain": [
       "<IPython.core.display.HTML object>"
      ]
     },
     "metadata": {},
     "output_type": "display_data"
    },
    {
     "data": {
      "text/html": [
       " View run at <a href='https://wandb.ai/viswa_ee/CS6910/runs/4os98e25' target=\"_blank\">https://wandb.ai/viswa_ee/CS6910/runs/4os98e25</a>"
      ],
      "text/plain": [
       "<IPython.core.display.HTML object>"
      ]
     },
     "metadata": {},
     "output_type": "display_data"
    },
    {
     "data": {
      "text/html": [
       "Waiting for W&B process to finish... <strong style=\"color:green\">(success).</strong>"
      ],
      "text/plain": [
       "<IPython.core.display.HTML object>"
      ]
     },
     "metadata": {},
     "output_type": "display_data"
    },
    {
     "data": {
      "text/html": [
       "<style>\n",
       "    table.wandb td:nth-child(1) { padding: 0 10px; text-align: left ; width: auto;} td:nth-child(2) {text-align: left ; width: 100%}\n",
       "    .wandb-row { display: flex; flex-direction: row; flex-wrap: wrap; justify-content: flex-start; width: 100% }\n",
       "    .wandb-col { display: flex; flex-direction: column; flex-basis: 100%; flex: 1; padding: 10px; }\n",
       "    </style>\n",
       "<div class=\"wandb-row\"><div class=\"wandb-col\"><h3>Run history:</h3><br/><table class=\"wandb\"><tr><td>train_acc</td><td>▁▃▄▅▆▆▇▇██</td></tr><tr><td>train_loss</td><td>▁▄▅▆▇▆▇▇▇█</td></tr><tr><td>val_acc</td><td>▁▃▄▅▅▆▇▇██</td></tr><tr><td>val_loss</td><td>▁▃▅▆▇▇▇███</td></tr></table><br/></div><div class=\"wandb-col\"><h3>Run summary:</h3><br/><table class=\"wandb\"><tr><td>train_acc</td><td>0.65078</td></tr><tr><td>train_loss</td><td>-772.81498</td></tr><tr><td>val_acc</td><td>0.64317</td></tr><tr><td>val_loss</td><td>-1048.28956</td></tr></table><br/></div></div>"
      ],
      "text/plain": [
       "<IPython.core.display.HTML object>"
      ]
     },
     "metadata": {},
     "output_type": "display_data"
    },
    {
     "data": {
      "text/html": [
       " View run <strong style=\"color:#cdcd00\">radiant-sweep-36</strong> at: <a href='https://wandb.ai/viswa_ee/CS6910/runs/4os98e25' target=\"_blank\">https://wandb.ai/viswa_ee/CS6910/runs/4os98e25</a><br/>Synced 4 W&B file(s), 1 media file(s), 0 artifact file(s) and 0 other file(s)"
      ],
      "text/plain": [
       "<IPython.core.display.HTML object>"
      ]
     },
     "metadata": {},
     "output_type": "display_data"
    },
    {
     "data": {
      "text/html": [
       "Find logs at: <code>.\\wandb\\run-20230317_174408-4os98e25\\logs</code>"
      ],
      "text/plain": [
       "<IPython.core.display.HTML object>"
      ]
     },
     "metadata": {},
     "output_type": "display_data"
    },
    {
     "name": "stderr",
     "output_type": "stream",
     "text": [
      "\u001b[34m\u001b[1mwandb\u001b[0m: Agent Starting Run: tvk9qs7i with config:\n",
      "\u001b[34m\u001b[1mwandb\u001b[0m: \tact_func: sigmoid\n",
      "\u001b[34m\u001b[1mwandb\u001b[0m: \tbatch_size: 64\n",
      "\u001b[34m\u001b[1mwandb\u001b[0m: \tl2_coeff: 0.5\n",
      "\u001b[34m\u001b[1mwandb\u001b[0m: \tloss_func: cross_ent\n",
      "\u001b[34m\u001b[1mwandb\u001b[0m: \tlr: 0.001\n",
      "\u001b[34m\u001b[1mwandb\u001b[0m: \tn_epochs: 10\n",
      "\u001b[34m\u001b[1mwandb\u001b[0m: \tn_hidden: 5\n",
      "\u001b[34m\u001b[1mwandb\u001b[0m: \tn_hidden_units: 128\n",
      "\u001b[34m\u001b[1mwandb\u001b[0m: \toptim_algo: adam\n",
      "\u001b[34m\u001b[1mwandb\u001b[0m: \trelu_param: 0.01\n",
      "\u001b[34m\u001b[1mwandb\u001b[0m: \tweight_init: xavier_uniform\n",
      "Failed to detect the name of this notebook, you can set it manually with the WANDB_NOTEBOOK_NAME environment variable to enable code saving.\n"
     ]
    },
    {
     "data": {
      "text/html": [
       "Tracking run with wandb version 0.14.0"
      ],
      "text/plain": [
       "<IPython.core.display.HTML object>"
      ]
     },
     "metadata": {},
     "output_type": "display_data"
    },
    {
     "data": {
      "text/html": [
       "Run data is saved locally in <code>d:\\CS6901\\wandb\\run-20230317_174631-tvk9qs7i</code>"
      ],
      "text/plain": [
       "<IPython.core.display.HTML object>"
      ]
     },
     "metadata": {},
     "output_type": "display_data"
    },
    {
     "data": {
      "text/html": [
       "Syncing run <strong><a href='https://wandb.ai/viswa_ee/CS6910/runs/tvk9qs7i' target=\"_blank\">magic-sweep-37</a></strong> to <a href='https://wandb.ai/viswa_ee/CS6910' target=\"_blank\">Weights & Biases</a> (<a href='https://wandb.me/run' target=\"_blank\">docs</a>)<br/>Sweep page: <a href='https://wandb.ai/viswa_ee/CS6910/sweeps/t38ec2il' target=\"_blank\">https://wandb.ai/viswa_ee/CS6910/sweeps/t38ec2il</a>"
      ],
      "text/plain": [
       "<IPython.core.display.HTML object>"
      ]
     },
     "metadata": {},
     "output_type": "display_data"
    },
    {
     "data": {
      "text/html": [
       " View project at <a href='https://wandb.ai/viswa_ee/CS6910' target=\"_blank\">https://wandb.ai/viswa_ee/CS6910</a>"
      ],
      "text/plain": [
       "<IPython.core.display.HTML object>"
      ]
     },
     "metadata": {},
     "output_type": "display_data"
    },
    {
     "data": {
      "text/html": [
       " View sweep at <a href='https://wandb.ai/viswa_ee/CS6910/sweeps/t38ec2il' target=\"_blank\">https://wandb.ai/viswa_ee/CS6910/sweeps/t38ec2il</a>"
      ],
      "text/plain": [
       "<IPython.core.display.HTML object>"
      ]
     },
     "metadata": {},
     "output_type": "display_data"
    },
    {
     "data": {
      "text/html": [
       " View run at <a href='https://wandb.ai/viswa_ee/CS6910/runs/tvk9qs7i' target=\"_blank\">https://wandb.ai/viswa_ee/CS6910/runs/tvk9qs7i</a>"
      ],
      "text/plain": [
       "<IPython.core.display.HTML object>"
      ]
     },
     "metadata": {},
     "output_type": "display_data"
    },
    {
     "data": {
      "text/html": [
       "Waiting for W&B process to finish... <strong style=\"color:green\">(success).</strong>"
      ],
      "text/plain": [
       "<IPython.core.display.HTML object>"
      ]
     },
     "metadata": {},
     "output_type": "display_data"
    },
    {
     "data": {
      "text/html": [
       "<style>\n",
       "    table.wandb td:nth-child(1) { padding: 0 10px; text-align: left ; width: auto;} td:nth-child(2) {text-align: left ; width: 100%}\n",
       "    .wandb-row { display: flex; flex-direction: row; flex-wrap: wrap; justify-content: flex-start; width: 100% }\n",
       "    .wandb-col { display: flex; flex-direction: column; flex-basis: 100%; flex: 1; padding: 10px; }\n",
       "    </style>\n",
       "<div class=\"wandb-row\"><div class=\"wandb-col\"><h3>Run history:</h3><br/><table class=\"wandb\"><tr><td>train_acc</td><td>▆█▅▃▆▆▅▇▁▆</td></tr><tr><td>train_loss</td><td>█▃▂▁▁▁▁▁▁▁</td></tr><tr><td>val_acc</td><td>▅█▅▃▆▆▅▇▁▆</td></tr><tr><td>val_loss</td><td>█▃▁▁▁▁▁▁▁▁</td></tr></table><br/></div><div class=\"wandb-col\"><h3>Run summary:</h3><br/><table class=\"wandb\"><tr><td>train_acc</td><td>0.76772</td></tr><tr><td>train_loss</td><td>1.61496</td></tr><tr><td>val_acc</td><td>0.76</td></tr><tr><td>val_loss</td><td>0.71647</td></tr></table><br/></div></div>"
      ],
      "text/plain": [
       "<IPython.core.display.HTML object>"
      ]
     },
     "metadata": {},
     "output_type": "display_data"
    },
    {
     "data": {
      "text/html": [
       " View run <strong style=\"color:#cdcd00\">magic-sweep-37</strong> at: <a href='https://wandb.ai/viswa_ee/CS6910/runs/tvk9qs7i' target=\"_blank\">https://wandb.ai/viswa_ee/CS6910/runs/tvk9qs7i</a><br/>Synced 4 W&B file(s), 1 media file(s), 0 artifact file(s) and 0 other file(s)"
      ],
      "text/plain": [
       "<IPython.core.display.HTML object>"
      ]
     },
     "metadata": {},
     "output_type": "display_data"
    },
    {
     "data": {
      "text/html": [
       "Find logs at: <code>.\\wandb\\run-20230317_174631-tvk9qs7i\\logs</code>"
      ],
      "text/plain": [
       "<IPython.core.display.HTML object>"
      ]
     },
     "metadata": {},
     "output_type": "display_data"
    },
    {
     "name": "stderr",
     "output_type": "stream",
     "text": [
      "\u001b[34m\u001b[1mwandb\u001b[0m: Agent Starting Run: 3eywtdpo with config:\n",
      "\u001b[34m\u001b[1mwandb\u001b[0m: \tact_func: sigmoid\n",
      "\u001b[34m\u001b[1mwandb\u001b[0m: \tbatch_size: 64\n",
      "\u001b[34m\u001b[1mwandb\u001b[0m: \tl2_coeff: 0.5\n",
      "\u001b[34m\u001b[1mwandb\u001b[0m: \tloss_func: mse\n",
      "\u001b[34m\u001b[1mwandb\u001b[0m: \tlr: 0.001\n",
      "\u001b[34m\u001b[1mwandb\u001b[0m: \tn_epochs: 5\n",
      "\u001b[34m\u001b[1mwandb\u001b[0m: \tn_hidden: 5\n",
      "\u001b[34m\u001b[1mwandb\u001b[0m: \tn_hidden_units: 128\n",
      "\u001b[34m\u001b[1mwandb\u001b[0m: \toptim_algo: adam\n",
      "\u001b[34m\u001b[1mwandb\u001b[0m: \trelu_param: 0.1\n",
      "\u001b[34m\u001b[1mwandb\u001b[0m: \tweight_init: xavier_uniform\n",
      "Failed to detect the name of this notebook, you can set it manually with the WANDB_NOTEBOOK_NAME environment variable to enable code saving.\n"
     ]
    },
    {
     "data": {
      "text/html": [
       "Tracking run with wandb version 0.14.0"
      ],
      "text/plain": [
       "<IPython.core.display.HTML object>"
      ]
     },
     "metadata": {},
     "output_type": "display_data"
    },
    {
     "data": {
      "text/html": [
       "Run data is saved locally in <code>d:\\CS6901\\wandb\\run-20230317_174820-3eywtdpo</code>"
      ],
      "text/plain": [
       "<IPython.core.display.HTML object>"
      ]
     },
     "metadata": {},
     "output_type": "display_data"
    },
    {
     "data": {
      "text/html": [
       "Syncing run <strong><a href='https://wandb.ai/viswa_ee/CS6910/runs/3eywtdpo' target=\"_blank\">vocal-sweep-38</a></strong> to <a href='https://wandb.ai/viswa_ee/CS6910' target=\"_blank\">Weights & Biases</a> (<a href='https://wandb.me/run' target=\"_blank\">docs</a>)<br/>Sweep page: <a href='https://wandb.ai/viswa_ee/CS6910/sweeps/t38ec2il' target=\"_blank\">https://wandb.ai/viswa_ee/CS6910/sweeps/t38ec2il</a>"
      ],
      "text/plain": [
       "<IPython.core.display.HTML object>"
      ]
     },
     "metadata": {},
     "output_type": "display_data"
    },
    {
     "data": {
      "text/html": [
       " View project at <a href='https://wandb.ai/viswa_ee/CS6910' target=\"_blank\">https://wandb.ai/viswa_ee/CS6910</a>"
      ],
      "text/plain": [
       "<IPython.core.display.HTML object>"
      ]
     },
     "metadata": {},
     "output_type": "display_data"
    },
    {
     "data": {
      "text/html": [
       " View sweep at <a href='https://wandb.ai/viswa_ee/CS6910/sweeps/t38ec2il' target=\"_blank\">https://wandb.ai/viswa_ee/CS6910/sweeps/t38ec2il</a>"
      ],
      "text/plain": [
       "<IPython.core.display.HTML object>"
      ]
     },
     "metadata": {},
     "output_type": "display_data"
    },
    {
     "data": {
      "text/html": [
       " View run at <a href='https://wandb.ai/viswa_ee/CS6910/runs/3eywtdpo' target=\"_blank\">https://wandb.ai/viswa_ee/CS6910/runs/3eywtdpo</a>"
      ],
      "text/plain": [
       "<IPython.core.display.HTML object>"
      ]
     },
     "metadata": {},
     "output_type": "display_data"
    },
    {
     "data": {
      "text/html": [
       "Waiting for W&B process to finish... <strong style=\"color:green\">(success).</strong>"
      ],
      "text/plain": [
       "<IPython.core.display.HTML object>"
      ]
     },
     "metadata": {},
     "output_type": "display_data"
    },
    {
     "data": {
      "text/html": [
       "<style>\n",
       "    table.wandb td:nth-child(1) { padding: 0 10px; text-align: left ; width: auto;} td:nth-child(2) {text-align: left ; width: 100%}\n",
       "    .wandb-row { display: flex; flex-direction: row; flex-wrap: wrap; justify-content: flex-start; width: 100% }\n",
       "    .wandb-col { display: flex; flex-direction: column; flex-basis: 100%; flex: 1; padding: 10px; }\n",
       "    </style>\n",
       "<div class=\"wandb-row\"><div class=\"wandb-col\"><h3>Run history:</h3><br/><table class=\"wandb\"><tr><td>train_acc</td><td>▁█▇▇▃</td></tr><tr><td>train_loss</td><td>█▃▂▂▁</td></tr><tr><td>val_acc</td><td>▁███▄</td></tr><tr><td>val_loss</td><td>▅▁▅█▇</td></tr></table><br/></div><div class=\"wandb-col\"><h3>Run summary:</h3><br/><table class=\"wandb\"><tr><td>train_acc</td><td>0.77696</td></tr><tr><td>train_loss</td><td>-375.77592</td></tr><tr><td>val_acc</td><td>0.775</td></tr><tr><td>val_loss</td><td>-355.04666</td></tr></table><br/></div></div>"
      ],
      "text/plain": [
       "<IPython.core.display.HTML object>"
      ]
     },
     "metadata": {},
     "output_type": "display_data"
    },
    {
     "data": {
      "text/html": [
       " View run <strong style=\"color:#cdcd00\">vocal-sweep-38</strong> at: <a href='https://wandb.ai/viswa_ee/CS6910/runs/3eywtdpo' target=\"_blank\">https://wandb.ai/viswa_ee/CS6910/runs/3eywtdpo</a><br/>Synced 4 W&B file(s), 1 media file(s), 0 artifact file(s) and 0 other file(s)"
      ],
      "text/plain": [
       "<IPython.core.display.HTML object>"
      ]
     },
     "metadata": {},
     "output_type": "display_data"
    },
    {
     "data": {
      "text/html": [
       "Find logs at: <code>.\\wandb\\run-20230317_174820-3eywtdpo\\logs</code>"
      ],
      "text/plain": [
       "<IPython.core.display.HTML object>"
      ]
     },
     "metadata": {},
     "output_type": "display_data"
    },
    {
     "name": "stderr",
     "output_type": "stream",
     "text": [
      "\u001b[34m\u001b[1mwandb\u001b[0m: Sweep Agent: Waiting for job.\n",
      "\u001b[34m\u001b[1mwandb\u001b[0m: Job received.\n",
      "\u001b[34m\u001b[1mwandb\u001b[0m: Agent Starting Run: 65smgbw7 with config:\n",
      "\u001b[34m\u001b[1mwandb\u001b[0m: \tact_func: tanh\n",
      "\u001b[34m\u001b[1mwandb\u001b[0m: \tbatch_size: 64\n",
      "\u001b[34m\u001b[1mwandb\u001b[0m: \tl2_coeff: 0.0005\n",
      "\u001b[34m\u001b[1mwandb\u001b[0m: \tloss_func: mse\n",
      "\u001b[34m\u001b[1mwandb\u001b[0m: \tlr: 0.001\n",
      "\u001b[34m\u001b[1mwandb\u001b[0m: \tn_epochs: 5\n",
      "\u001b[34m\u001b[1mwandb\u001b[0m: \tn_hidden: 4\n",
      "\u001b[34m\u001b[1mwandb\u001b[0m: \tn_hidden_units: 128\n",
      "\u001b[34m\u001b[1mwandb\u001b[0m: \toptim_algo: rmsprop\n",
      "\u001b[34m\u001b[1mwandb\u001b[0m: \trelu_param: 0.001\n",
      "\u001b[34m\u001b[1mwandb\u001b[0m: \tweight_init: xavier_uniform\n",
      "Failed to detect the name of this notebook, you can set it manually with the WANDB_NOTEBOOK_NAME environment variable to enable code saving.\n"
     ]
    },
    {
     "data": {
      "text/html": [
       "Tracking run with wandb version 0.14.0"
      ],
      "text/plain": [
       "<IPython.core.display.HTML object>"
      ]
     },
     "metadata": {},
     "output_type": "display_data"
    },
    {
     "data": {
      "text/html": [
       "Run data is saved locally in <code>d:\\CS6901\\wandb\\run-20230317_174927-65smgbw7</code>"
      ],
      "text/plain": [
       "<IPython.core.display.HTML object>"
      ]
     },
     "metadata": {},
     "output_type": "display_data"
    },
    {
     "data": {
      "text/html": [
       "Syncing run <strong><a href='https://wandb.ai/viswa_ee/CS6910/runs/65smgbw7' target=\"_blank\">amber-sweep-39</a></strong> to <a href='https://wandb.ai/viswa_ee/CS6910' target=\"_blank\">Weights & Biases</a> (<a href='https://wandb.me/run' target=\"_blank\">docs</a>)<br/>Sweep page: <a href='https://wandb.ai/viswa_ee/CS6910/sweeps/t38ec2il' target=\"_blank\">https://wandb.ai/viswa_ee/CS6910/sweeps/t38ec2il</a>"
      ],
      "text/plain": [
       "<IPython.core.display.HTML object>"
      ]
     },
     "metadata": {},
     "output_type": "display_data"
    },
    {
     "data": {
      "text/html": [
       " View project at <a href='https://wandb.ai/viswa_ee/CS6910' target=\"_blank\">https://wandb.ai/viswa_ee/CS6910</a>"
      ],
      "text/plain": [
       "<IPython.core.display.HTML object>"
      ]
     },
     "metadata": {},
     "output_type": "display_data"
    },
    {
     "data": {
      "text/html": [
       " View sweep at <a href='https://wandb.ai/viswa_ee/CS6910/sweeps/t38ec2il' target=\"_blank\">https://wandb.ai/viswa_ee/CS6910/sweeps/t38ec2il</a>"
      ],
      "text/plain": [
       "<IPython.core.display.HTML object>"
      ]
     },
     "metadata": {},
     "output_type": "display_data"
    },
    {
     "data": {
      "text/html": [
       " View run at <a href='https://wandb.ai/viswa_ee/CS6910/runs/65smgbw7' target=\"_blank\">https://wandb.ai/viswa_ee/CS6910/runs/65smgbw7</a>"
      ],
      "text/plain": [
       "<IPython.core.display.HTML object>"
      ]
     },
     "metadata": {},
     "output_type": "display_data"
    },
    {
     "data": {
      "text/html": [
       "Waiting for W&B process to finish... <strong style=\"color:green\">(success).</strong>"
      ],
      "text/plain": [
       "<IPython.core.display.HTML object>"
      ]
     },
     "metadata": {},
     "output_type": "display_data"
    },
    {
     "data": {
      "text/html": [
       "<style>\n",
       "    table.wandb td:nth-child(1) { padding: 0 10px; text-align: left ; width: auto;} td:nth-child(2) {text-align: left ; width: 100%}\n",
       "    .wandb-row { display: flex; flex-direction: row; flex-wrap: wrap; justify-content: flex-start; width: 100% }\n",
       "    .wandb-col { display: flex; flex-direction: column; flex-basis: 100%; flex: 1; padding: 10px; }\n",
       "    </style>\n",
       "<div class=\"wandb-row\"><div class=\"wandb-col\"><h3>Run history:</h3><br/><table class=\"wandb\"><tr><td>train_acc</td><td>▁▃▅▆█</td></tr><tr><td>train_loss</td><td>▄▅▁█▆</td></tr><tr><td>val_acc</td><td>▁▃▆▇█</td></tr><tr><td>val_loss</td><td>▁▆▅▇█</td></tr></table><br/></div><div class=\"wandb-col\"><h3>Run summary:</h3><br/><table class=\"wandb\"><tr><td>train_acc</td><td>0.67513</td></tr><tr><td>train_loss</td><td>-1312.81171</td></tr><tr><td>val_acc</td><td>0.6685</td></tr><tr><td>val_loss</td><td>-1273.40524</td></tr></table><br/></div></div>"
      ],
      "text/plain": [
       "<IPython.core.display.HTML object>"
      ]
     },
     "metadata": {},
     "output_type": "display_data"
    },
    {
     "data": {
      "text/html": [
       " View run <strong style=\"color:#cdcd00\">amber-sweep-39</strong> at: <a href='https://wandb.ai/viswa_ee/CS6910/runs/65smgbw7' target=\"_blank\">https://wandb.ai/viswa_ee/CS6910/runs/65smgbw7</a><br/>Synced 4 W&B file(s), 1 media file(s), 0 artifact file(s) and 0 other file(s)"
      ],
      "text/plain": [
       "<IPython.core.display.HTML object>"
      ]
     },
     "metadata": {},
     "output_type": "display_data"
    },
    {
     "data": {
      "text/html": [
       "Find logs at: <code>.\\wandb\\run-20230317_174927-65smgbw7\\logs</code>"
      ],
      "text/plain": [
       "<IPython.core.display.HTML object>"
      ]
     },
     "metadata": {},
     "output_type": "display_data"
    },
    {
     "name": "stderr",
     "output_type": "stream",
     "text": [
      "\u001b[34m\u001b[1mwandb\u001b[0m: Agent Starting Run: m7q98kkp with config:\n",
      "\u001b[34m\u001b[1mwandb\u001b[0m: \tact_func: sigmoid\n",
      "\u001b[34m\u001b[1mwandb\u001b[0m: \tbatch_size: 64\n",
      "\u001b[34m\u001b[1mwandb\u001b[0m: \tl2_coeff: 0.5\n",
      "\u001b[34m\u001b[1mwandb\u001b[0m: \tloss_func: mse\n",
      "\u001b[34m\u001b[1mwandb\u001b[0m: \tlr: 0.001\n",
      "\u001b[34m\u001b[1mwandb\u001b[0m: \tn_epochs: 5\n",
      "\u001b[34m\u001b[1mwandb\u001b[0m: \tn_hidden: 5\n",
      "\u001b[34m\u001b[1mwandb\u001b[0m: \tn_hidden_units: 128\n",
      "\u001b[34m\u001b[1mwandb\u001b[0m: \toptim_algo: rmsprop\n",
      "\u001b[34m\u001b[1mwandb\u001b[0m: \trelu_param: 0.001\n",
      "\u001b[34m\u001b[1mwandb\u001b[0m: \tweight_init: random\n",
      "Failed to detect the name of this notebook, you can set it manually with the WANDB_NOTEBOOK_NAME environment variable to enable code saving.\n"
     ]
    },
    {
     "data": {
      "text/html": [
       "Tracking run with wandb version 0.14.0"
      ],
      "text/plain": [
       "<IPython.core.display.HTML object>"
      ]
     },
     "metadata": {},
     "output_type": "display_data"
    },
    {
     "data": {
      "text/html": [
       "Run data is saved locally in <code>d:\\CS6901\\wandb\\run-20230317_175030-m7q98kkp</code>"
      ],
      "text/plain": [
       "<IPython.core.display.HTML object>"
      ]
     },
     "metadata": {},
     "output_type": "display_data"
    },
    {
     "data": {
      "text/html": [
       "Syncing run <strong><a href='https://wandb.ai/viswa_ee/CS6910/runs/m7q98kkp' target=\"_blank\">splendid-sweep-40</a></strong> to <a href='https://wandb.ai/viswa_ee/CS6910' target=\"_blank\">Weights & Biases</a> (<a href='https://wandb.me/run' target=\"_blank\">docs</a>)<br/>Sweep page: <a href='https://wandb.ai/viswa_ee/CS6910/sweeps/t38ec2il' target=\"_blank\">https://wandb.ai/viswa_ee/CS6910/sweeps/t38ec2il</a>"
      ],
      "text/plain": [
       "<IPython.core.display.HTML object>"
      ]
     },
     "metadata": {},
     "output_type": "display_data"
    },
    {
     "data": {
      "text/html": [
       " View project at <a href='https://wandb.ai/viswa_ee/CS6910' target=\"_blank\">https://wandb.ai/viswa_ee/CS6910</a>"
      ],
      "text/plain": [
       "<IPython.core.display.HTML object>"
      ]
     },
     "metadata": {},
     "output_type": "display_data"
    },
    {
     "data": {
      "text/html": [
       " View sweep at <a href='https://wandb.ai/viswa_ee/CS6910/sweeps/t38ec2il' target=\"_blank\">https://wandb.ai/viswa_ee/CS6910/sweeps/t38ec2il</a>"
      ],
      "text/plain": [
       "<IPython.core.display.HTML object>"
      ]
     },
     "metadata": {},
     "output_type": "display_data"
    },
    {
     "data": {
      "text/html": [
       " View run at <a href='https://wandb.ai/viswa_ee/CS6910/runs/m7q98kkp' target=\"_blank\">https://wandb.ai/viswa_ee/CS6910/runs/m7q98kkp</a>"
      ],
      "text/plain": [
       "<IPython.core.display.HTML object>"
      ]
     },
     "metadata": {},
     "output_type": "display_data"
    },
    {
     "data": {
      "text/html": [
       "Waiting for W&B process to finish... <strong style=\"color:green\">(success).</strong>"
      ],
      "text/plain": [
       "<IPython.core.display.HTML object>"
      ]
     },
     "metadata": {},
     "output_type": "display_data"
    },
    {
     "data": {
      "text/html": [
       "<style>\n",
       "    table.wandb td:nth-child(1) { padding: 0 10px; text-align: left ; width: auto;} td:nth-child(2) {text-align: left ; width: 100%}\n",
       "    .wandb-row { display: flex; flex-direction: row; flex-wrap: wrap; justify-content: flex-start; width: 100% }\n",
       "    .wandb-col { display: flex; flex-direction: column; flex-basis: 100%; flex: 1; padding: 10px; }\n",
       "    </style>\n",
       "<div class=\"wandb-row\"><div class=\"wandb-col\"><h3>Run history:</h3><br/><table class=\"wandb\"><tr><td>train_acc</td><td>▅▁▄█▇</td></tr><tr><td>train_loss</td><td>█▆▆▇▁</td></tr><tr><td>val_acc</td><td>▄▁▄█▇</td></tr><tr><td>val_loss</td><td>▅▁▇█▆</td></tr></table><br/></div><div class=\"wandb-col\"><h3>Run summary:</h3><br/><table class=\"wandb\"><tr><td>train_acc</td><td>0.79756</td></tr><tr><td>train_loss</td><td>-428.90293</td></tr><tr><td>val_acc</td><td>0.7935</td></tr><tr><td>val_loss</td><td>-381.61507</td></tr></table><br/></div></div>"
      ],
      "text/plain": [
       "<IPython.core.display.HTML object>"
      ]
     },
     "metadata": {},
     "output_type": "display_data"
    },
    {
     "data": {
      "text/html": [
       " View run <strong style=\"color:#cdcd00\">splendid-sweep-40</strong> at: <a href='https://wandb.ai/viswa_ee/CS6910/runs/m7q98kkp' target=\"_blank\">https://wandb.ai/viswa_ee/CS6910/runs/m7q98kkp</a><br/>Synced 4 W&B file(s), 1 media file(s), 0 artifact file(s) and 0 other file(s)"
      ],
      "text/plain": [
       "<IPython.core.display.HTML object>"
      ]
     },
     "metadata": {},
     "output_type": "display_data"
    },
    {
     "data": {
      "text/html": [
       "Find logs at: <code>.\\wandb\\run-20230317_175030-m7q98kkp\\logs</code>"
      ],
      "text/plain": [
       "<IPython.core.display.HTML object>"
      ]
     },
     "metadata": {},
     "output_type": "display_data"
    },
    {
     "name": "stderr",
     "output_type": "stream",
     "text": [
      "\u001b[34m\u001b[1mwandb\u001b[0m: Agent Starting Run: 6lzwdwhh with config:\n",
      "\u001b[34m\u001b[1mwandb\u001b[0m: \tact_func: sigmoid\n",
      "\u001b[34m\u001b[1mwandb\u001b[0m: \tbatch_size: 64\n",
      "\u001b[34m\u001b[1mwandb\u001b[0m: \tl2_coeff: 0.5\n",
      "\u001b[34m\u001b[1mwandb\u001b[0m: \tloss_func: mse\n",
      "\u001b[34m\u001b[1mwandb\u001b[0m: \tlr: 0.001\n",
      "\u001b[34m\u001b[1mwandb\u001b[0m: \tn_epochs: 10\n",
      "\u001b[34m\u001b[1mwandb\u001b[0m: \tn_hidden: 5\n",
      "\u001b[34m\u001b[1mwandb\u001b[0m: \tn_hidden_units: 128\n",
      "\u001b[34m\u001b[1mwandb\u001b[0m: \toptim_algo: nadam\n",
      "\u001b[34m\u001b[1mwandb\u001b[0m: \trelu_param: 0.01\n",
      "\u001b[34m\u001b[1mwandb\u001b[0m: \tweight_init: random\n",
      "Failed to detect the name of this notebook, you can set it manually with the WANDB_NOTEBOOK_NAME environment variable to enable code saving.\n"
     ]
    },
    {
     "data": {
      "text/html": [
       "Tracking run with wandb version 0.14.0"
      ],
      "text/plain": [
       "<IPython.core.display.HTML object>"
      ]
     },
     "metadata": {},
     "output_type": "display_data"
    },
    {
     "data": {
      "text/html": [
       "Run data is saved locally in <code>d:\\CS6901\\wandb\\run-20230317_175129-6lzwdwhh</code>"
      ],
      "text/plain": [
       "<IPython.core.display.HTML object>"
      ]
     },
     "metadata": {},
     "output_type": "display_data"
    },
    {
     "data": {
      "text/html": [
       "Syncing run <strong><a href='https://wandb.ai/viswa_ee/CS6910/runs/6lzwdwhh' target=\"_blank\">blooming-sweep-41</a></strong> to <a href='https://wandb.ai/viswa_ee/CS6910' target=\"_blank\">Weights & Biases</a> (<a href='https://wandb.me/run' target=\"_blank\">docs</a>)<br/>Sweep page: <a href='https://wandb.ai/viswa_ee/CS6910/sweeps/t38ec2il' target=\"_blank\">https://wandb.ai/viswa_ee/CS6910/sweeps/t38ec2il</a>"
      ],
      "text/plain": [
       "<IPython.core.display.HTML object>"
      ]
     },
     "metadata": {},
     "output_type": "display_data"
    },
    {
     "data": {
      "text/html": [
       " View project at <a href='https://wandb.ai/viswa_ee/CS6910' target=\"_blank\">https://wandb.ai/viswa_ee/CS6910</a>"
      ],
      "text/plain": [
       "<IPython.core.display.HTML object>"
      ]
     },
     "metadata": {},
     "output_type": "display_data"
    },
    {
     "data": {
      "text/html": [
       " View sweep at <a href='https://wandb.ai/viswa_ee/CS6910/sweeps/t38ec2il' target=\"_blank\">https://wandb.ai/viswa_ee/CS6910/sweeps/t38ec2il</a>"
      ],
      "text/plain": [
       "<IPython.core.display.HTML object>"
      ]
     },
     "metadata": {},
     "output_type": "display_data"
    },
    {
     "data": {
      "text/html": [
       " View run at <a href='https://wandb.ai/viswa_ee/CS6910/runs/6lzwdwhh' target=\"_blank\">https://wandb.ai/viswa_ee/CS6910/runs/6lzwdwhh</a>"
      ],
      "text/plain": [
       "<IPython.core.display.HTML object>"
      ]
     },
     "metadata": {},
     "output_type": "display_data"
    },
    {
     "data": {
      "text/html": [
       "Waiting for W&B process to finish... <strong style=\"color:green\">(success).</strong>"
      ],
      "text/plain": [
       "<IPython.core.display.HTML object>"
      ]
     },
     "metadata": {},
     "output_type": "display_data"
    },
    {
     "data": {
      "text/html": [
       "<style>\n",
       "    table.wandb td:nth-child(1) { padding: 0 10px; text-align: left ; width: auto;} td:nth-child(2) {text-align: left ; width: 100%}\n",
       "    .wandb-row { display: flex; flex-direction: row; flex-wrap: wrap; justify-content: flex-start; width: 100% }\n",
       "    .wandb-col { display: flex; flex-direction: column; flex-basis: 100%; flex: 1; padding: 10px; }\n",
       "    </style>\n",
       "<div class=\"wandb-row\"><div class=\"wandb-col\"><h3>Run history:</h3><br/><table class=\"wandb\"><tr><td>train_acc</td><td>▁▇█▄▇▄▄▅▃▄</td></tr><tr><td>train_loss</td><td>█▃▂▂▂▂▂▂▁▁</td></tr><tr><td>val_acc</td><td>▁▆█▅▇▄▄▅▂▅</td></tr><tr><td>val_loss</td><td>█▂▃▅▆▆▅▃▂▁</td></tr></table><br/></div><div class=\"wandb-col\"><h3>Run summary:</h3><br/><table class=\"wandb\"><tr><td>train_acc</td><td>0.80341</td></tr><tr><td>train_loss</td><td>-441.22376</td></tr><tr><td>val_acc</td><td>0.8055</td></tr><tr><td>val_loss</td><td>-425.13459</td></tr></table><br/></div></div>"
      ],
      "text/plain": [
       "<IPython.core.display.HTML object>"
      ]
     },
     "metadata": {},
     "output_type": "display_data"
    },
    {
     "data": {
      "text/html": [
       " View run <strong style=\"color:#cdcd00\">blooming-sweep-41</strong> at: <a href='https://wandb.ai/viswa_ee/CS6910/runs/6lzwdwhh' target=\"_blank\">https://wandb.ai/viswa_ee/CS6910/runs/6lzwdwhh</a><br/>Synced 4 W&B file(s), 1 media file(s), 0 artifact file(s) and 0 other file(s)"
      ],
      "text/plain": [
       "<IPython.core.display.HTML object>"
      ]
     },
     "metadata": {},
     "output_type": "display_data"
    },
    {
     "data": {
      "text/html": [
       "Find logs at: <code>.\\wandb\\run-20230317_175129-6lzwdwhh\\logs</code>"
      ],
      "text/plain": [
       "<IPython.core.display.HTML object>"
      ]
     },
     "metadata": {},
     "output_type": "display_data"
    },
    {
     "name": "stderr",
     "output_type": "stream",
     "text": [
      "\u001b[34m\u001b[1mwandb\u001b[0m: Agent Starting Run: a7vu0xgp with config:\n",
      "\u001b[34m\u001b[1mwandb\u001b[0m: \tact_func: sigmoid\n",
      "\u001b[34m\u001b[1mwandb\u001b[0m: \tbatch_size: 64\n",
      "\u001b[34m\u001b[1mwandb\u001b[0m: \tl2_coeff: 0.0005\n",
      "\u001b[34m\u001b[1mwandb\u001b[0m: \tloss_func: mse\n",
      "\u001b[34m\u001b[1mwandb\u001b[0m: \tlr: 0.001\n",
      "\u001b[34m\u001b[1mwandb\u001b[0m: \tn_epochs: 10\n",
      "\u001b[34m\u001b[1mwandb\u001b[0m: \tn_hidden: 5\n",
      "\u001b[34m\u001b[1mwandb\u001b[0m: \tn_hidden_units: 128\n",
      "\u001b[34m\u001b[1mwandb\u001b[0m: \toptim_algo: adam\n",
      "\u001b[34m\u001b[1mwandb\u001b[0m: \trelu_param: 0.01\n",
      "\u001b[34m\u001b[1mwandb\u001b[0m: \tweight_init: random\n",
      "Failed to detect the name of this notebook, you can set it manually with the WANDB_NOTEBOOK_NAME environment variable to enable code saving.\n"
     ]
    },
    {
     "data": {
      "text/html": [
       "Tracking run with wandb version 0.14.0"
      ],
      "text/plain": [
       "<IPython.core.display.HTML object>"
      ]
     },
     "metadata": {},
     "output_type": "display_data"
    },
    {
     "data": {
      "text/html": [
       "Run data is saved locally in <code>d:\\CS6901\\wandb\\run-20230317_175339-a7vu0xgp</code>"
      ],
      "text/plain": [
       "<IPython.core.display.HTML object>"
      ]
     },
     "metadata": {},
     "output_type": "display_data"
    },
    {
     "data": {
      "text/html": [
       "Syncing run <strong><a href='https://wandb.ai/viswa_ee/CS6910/runs/a7vu0xgp' target=\"_blank\">balmy-sweep-42</a></strong> to <a href='https://wandb.ai/viswa_ee/CS6910' target=\"_blank\">Weights & Biases</a> (<a href='https://wandb.me/run' target=\"_blank\">docs</a>)<br/>Sweep page: <a href='https://wandb.ai/viswa_ee/CS6910/sweeps/t38ec2il' target=\"_blank\">https://wandb.ai/viswa_ee/CS6910/sweeps/t38ec2il</a>"
      ],
      "text/plain": [
       "<IPython.core.display.HTML object>"
      ]
     },
     "metadata": {},
     "output_type": "display_data"
    },
    {
     "data": {
      "text/html": [
       " View project at <a href='https://wandb.ai/viswa_ee/CS6910' target=\"_blank\">https://wandb.ai/viswa_ee/CS6910</a>"
      ],
      "text/plain": [
       "<IPython.core.display.HTML object>"
      ]
     },
     "metadata": {},
     "output_type": "display_data"
    },
    {
     "data": {
      "text/html": [
       " View sweep at <a href='https://wandb.ai/viswa_ee/CS6910/sweeps/t38ec2il' target=\"_blank\">https://wandb.ai/viswa_ee/CS6910/sweeps/t38ec2il</a>"
      ],
      "text/plain": [
       "<IPython.core.display.HTML object>"
      ]
     },
     "metadata": {},
     "output_type": "display_data"
    },
    {
     "data": {
      "text/html": [
       " View run at <a href='https://wandb.ai/viswa_ee/CS6910/runs/a7vu0xgp' target=\"_blank\">https://wandb.ai/viswa_ee/CS6910/runs/a7vu0xgp</a>"
      ],
      "text/plain": [
       "<IPython.core.display.HTML object>"
      ]
     },
     "metadata": {},
     "output_type": "display_data"
    },
    {
     "data": {
      "text/html": [
       "Waiting for W&B process to finish... <strong style=\"color:green\">(success).</strong>"
      ],
      "text/plain": [
       "<IPython.core.display.HTML object>"
      ]
     },
     "metadata": {},
     "output_type": "display_data"
    },
    {
     "data": {
      "text/html": [
       "<style>\n",
       "    table.wandb td:nth-child(1) { padding: 0 10px; text-align: left ; width: auto;} td:nth-child(2) {text-align: left ; width: 100%}\n",
       "    .wandb-row { display: flex; flex-direction: row; flex-wrap: wrap; justify-content: flex-start; width: 100% }\n",
       "    .wandb-col { display: flex; flex-direction: column; flex-basis: 100%; flex: 1; padding: 10px; }\n",
       "    </style>\n",
       "<div class=\"wandb-row\"><div class=\"wandb-col\"><h3>Run history:</h3><br/><table class=\"wandb\"><tr><td>train_acc</td><td>▁▃▄▅▆▆▇▇██</td></tr><tr><td>train_loss</td><td>█▇▆▆▅▄▄▃▂▁</td></tr><tr><td>val_acc</td><td>▁▃▅▆▆▇▇▇██</td></tr><tr><td>val_loss</td><td>█▇▆▅▅▃▃▂▁▁</td></tr></table><br/></div><div class=\"wandb-col\"><h3>Run summary:</h3><br/><table class=\"wandb\"><tr><td>train_acc</td><td>0.88565</td></tr><tr><td>train_loss</td><td>-991.18092</td></tr><tr><td>val_acc</td><td>0.84767</td></tr><tr><td>val_loss</td><td>-930.85762</td></tr></table><br/></div></div>"
      ],
      "text/plain": [
       "<IPython.core.display.HTML object>"
      ]
     },
     "metadata": {},
     "output_type": "display_data"
    },
    {
     "data": {
      "text/html": [
       " View run <strong style=\"color:#cdcd00\">balmy-sweep-42</strong> at: <a href='https://wandb.ai/viswa_ee/CS6910/runs/a7vu0xgp' target=\"_blank\">https://wandb.ai/viswa_ee/CS6910/runs/a7vu0xgp</a><br/>Synced 4 W&B file(s), 1 media file(s), 0 artifact file(s) and 0 other file(s)"
      ],
      "text/plain": [
       "<IPython.core.display.HTML object>"
      ]
     },
     "metadata": {},
     "output_type": "display_data"
    },
    {
     "data": {
      "text/html": [
       "Find logs at: <code>.\\wandb\\run-20230317_175339-a7vu0xgp\\logs</code>"
      ],
      "text/plain": [
       "<IPython.core.display.HTML object>"
      ]
     },
     "metadata": {},
     "output_type": "display_data"
    },
    {
     "name": "stderr",
     "output_type": "stream",
     "text": [
      "\u001b[34m\u001b[1mwandb\u001b[0m: Sweep Agent: Waiting for job.\n",
      "\u001b[34m\u001b[1mwandb\u001b[0m: Job received.\n",
      "\u001b[34m\u001b[1mwandb\u001b[0m: Agent Starting Run: p2kd9wsn with config:\n",
      "\u001b[34m\u001b[1mwandb\u001b[0m: \tact_func: relu\n",
      "\u001b[34m\u001b[1mwandb\u001b[0m: \tbatch_size: 64\n",
      "\u001b[34m\u001b[1mwandb\u001b[0m: \tl2_coeff: 0.5\n",
      "\u001b[34m\u001b[1mwandb\u001b[0m: \tloss_func: mse\n",
      "\u001b[34m\u001b[1mwandb\u001b[0m: \tlr: 0.001\n",
      "\u001b[34m\u001b[1mwandb\u001b[0m: \tn_epochs: 5\n",
      "\u001b[34m\u001b[1mwandb\u001b[0m: \tn_hidden: 5\n",
      "\u001b[34m\u001b[1mwandb\u001b[0m: \tn_hidden_units: 128\n",
      "\u001b[34m\u001b[1mwandb\u001b[0m: \toptim_algo: adam\n",
      "\u001b[34m\u001b[1mwandb\u001b[0m: \trelu_param: 0.01\n",
      "\u001b[34m\u001b[1mwandb\u001b[0m: \tweight_init: xavier_uniform\n",
      "Failed to detect the name of this notebook, you can set it manually with the WANDB_NOTEBOOK_NAME environment variable to enable code saving.\n"
     ]
    },
    {
     "data": {
      "text/html": [
       "Tracking run with wandb version 0.14.0"
      ],
      "text/plain": [
       "<IPython.core.display.HTML object>"
      ]
     },
     "metadata": {},
     "output_type": "display_data"
    },
    {
     "data": {
      "text/html": [
       "Run data is saved locally in <code>d:\\CS6901\\wandb\\run-20230317_175544-p2kd9wsn</code>"
      ],
      "text/plain": [
       "<IPython.core.display.HTML object>"
      ]
     },
     "metadata": {},
     "output_type": "display_data"
    },
    {
     "data": {
      "text/html": [
       "Syncing run <strong><a href='https://wandb.ai/viswa_ee/CS6910/runs/p2kd9wsn' target=\"_blank\">lyric-sweep-43</a></strong> to <a href='https://wandb.ai/viswa_ee/CS6910' target=\"_blank\">Weights & Biases</a> (<a href='https://wandb.me/run' target=\"_blank\">docs</a>)<br/>Sweep page: <a href='https://wandb.ai/viswa_ee/CS6910/sweeps/t38ec2il' target=\"_blank\">https://wandb.ai/viswa_ee/CS6910/sweeps/t38ec2il</a>"
      ],
      "text/plain": [
       "<IPython.core.display.HTML object>"
      ]
     },
     "metadata": {},
     "output_type": "display_data"
    },
    {
     "data": {
      "text/html": [
       " View project at <a href='https://wandb.ai/viswa_ee/CS6910' target=\"_blank\">https://wandb.ai/viswa_ee/CS6910</a>"
      ],
      "text/plain": [
       "<IPython.core.display.HTML object>"
      ]
     },
     "metadata": {},
     "output_type": "display_data"
    },
    {
     "data": {
      "text/html": [
       " View sweep at <a href='https://wandb.ai/viswa_ee/CS6910/sweeps/t38ec2il' target=\"_blank\">https://wandb.ai/viswa_ee/CS6910/sweeps/t38ec2il</a>"
      ],
      "text/plain": [
       "<IPython.core.display.HTML object>"
      ]
     },
     "metadata": {},
     "output_type": "display_data"
    },
    {
     "data": {
      "text/html": [
       " View run at <a href='https://wandb.ai/viswa_ee/CS6910/runs/p2kd9wsn' target=\"_blank\">https://wandb.ai/viswa_ee/CS6910/runs/p2kd9wsn</a>"
      ],
      "text/plain": [
       "<IPython.core.display.HTML object>"
      ]
     },
     "metadata": {},
     "output_type": "display_data"
    },
    {
     "data": {
      "text/html": [
       "Waiting for W&B process to finish... <strong style=\"color:green\">(success).</strong>"
      ],
      "text/plain": [
       "<IPython.core.display.HTML object>"
      ]
     },
     "metadata": {},
     "output_type": "display_data"
    },
    {
     "data": {
      "text/html": [
       "<style>\n",
       "    table.wandb td:nth-child(1) { padding: 0 10px; text-align: left ; width: auto;} td:nth-child(2) {text-align: left ; width: 100%}\n",
       "    .wandb-row { display: flex; flex-direction: row; flex-wrap: wrap; justify-content: flex-start; width: 100% }\n",
       "    .wandb-col { display: flex; flex-direction: column; flex-basis: 100%; flex: 1; padding: 10px; }\n",
       "    </style>\n",
       "<div class=\"wandb-row\"><div class=\"wandb-col\"><h3>Run history:</h3><br/><table class=\"wandb\"><tr><td>train_acc</td><td>▁▅▅▆█</td></tr><tr><td>train_loss</td><td>█▅▃▄▁</td></tr><tr><td>val_acc</td><td>▁▅▅▆█</td></tr><tr><td>val_loss</td><td>█▄▃▃▁</td></tr></table><br/></div><div class=\"wandb-col\"><h3>Run summary:</h3><br/><table class=\"wandb\"><tr><td>train_acc</td><td>0.73063</td></tr><tr><td>train_loss</td><td>-16584724.49138</td></tr><tr><td>val_acc</td><td>0.72333</td></tr><tr><td>val_loss</td><td>-16516927.53175</td></tr></table><br/></div></div>"
      ],
      "text/plain": [
       "<IPython.core.display.HTML object>"
      ]
     },
     "metadata": {},
     "output_type": "display_data"
    },
    {
     "data": {
      "text/html": [
       " View run <strong style=\"color:#cdcd00\">lyric-sweep-43</strong> at: <a href='https://wandb.ai/viswa_ee/CS6910/runs/p2kd9wsn' target=\"_blank\">https://wandb.ai/viswa_ee/CS6910/runs/p2kd9wsn</a><br/>Synced 4 W&B file(s), 1 media file(s), 0 artifact file(s) and 0 other file(s)"
      ],
      "text/plain": [
       "<IPython.core.display.HTML object>"
      ]
     },
     "metadata": {},
     "output_type": "display_data"
    },
    {
     "data": {
      "text/html": [
       "Find logs at: <code>.\\wandb\\run-20230317_175544-p2kd9wsn\\logs</code>"
      ],
      "text/plain": [
       "<IPython.core.display.HTML object>"
      ]
     },
     "metadata": {},
     "output_type": "display_data"
    },
    {
     "name": "stderr",
     "output_type": "stream",
     "text": [
      "\u001b[34m\u001b[1mwandb\u001b[0m: Agent Starting Run: uopgy2wa with config:\n",
      "\u001b[34m\u001b[1mwandb\u001b[0m: \tact_func: sigmoid\n",
      "\u001b[34m\u001b[1mwandb\u001b[0m: \tbatch_size: 64\n",
      "\u001b[34m\u001b[1mwandb\u001b[0m: \tl2_coeff: 0.0005\n",
      "\u001b[34m\u001b[1mwandb\u001b[0m: \tloss_func: mse\n",
      "\u001b[34m\u001b[1mwandb\u001b[0m: \tlr: 0.001\n",
      "\u001b[34m\u001b[1mwandb\u001b[0m: \tn_epochs: 10\n",
      "\u001b[34m\u001b[1mwandb\u001b[0m: \tn_hidden: 5\n",
      "\u001b[34m\u001b[1mwandb\u001b[0m: \tn_hidden_units: 128\n",
      "\u001b[34m\u001b[1mwandb\u001b[0m: \toptim_algo: rmsprop\n",
      "\u001b[34m\u001b[1mwandb\u001b[0m: \trelu_param: 0.01\n",
      "\u001b[34m\u001b[1mwandb\u001b[0m: \tweight_init: xavier_uniform\n",
      "Failed to detect the name of this notebook, you can set it manually with the WANDB_NOTEBOOK_NAME environment variable to enable code saving.\n"
     ]
    },
    {
     "data": {
      "text/html": [
       "Tracking run with wandb version 0.14.0"
      ],
      "text/plain": [
       "<IPython.core.display.HTML object>"
      ]
     },
     "metadata": {},
     "output_type": "display_data"
    },
    {
     "data": {
      "text/html": [
       "Run data is saved locally in <code>d:\\CS6901\\wandb\\run-20230317_175645-uopgy2wa</code>"
      ],
      "text/plain": [
       "<IPython.core.display.HTML object>"
      ]
     },
     "metadata": {},
     "output_type": "display_data"
    },
    {
     "data": {
      "text/html": [
       "Syncing run <strong><a href='https://wandb.ai/viswa_ee/CS6910/runs/uopgy2wa' target=\"_blank\">avid-sweep-44</a></strong> to <a href='https://wandb.ai/viswa_ee/CS6910' target=\"_blank\">Weights & Biases</a> (<a href='https://wandb.me/run' target=\"_blank\">docs</a>)<br/>Sweep page: <a href='https://wandb.ai/viswa_ee/CS6910/sweeps/t38ec2il' target=\"_blank\">https://wandb.ai/viswa_ee/CS6910/sweeps/t38ec2il</a>"
      ],
      "text/plain": [
       "<IPython.core.display.HTML object>"
      ]
     },
     "metadata": {},
     "output_type": "display_data"
    },
    {
     "data": {
      "text/html": [
       " View project at <a href='https://wandb.ai/viswa_ee/CS6910' target=\"_blank\">https://wandb.ai/viswa_ee/CS6910</a>"
      ],
      "text/plain": [
       "<IPython.core.display.HTML object>"
      ]
     },
     "metadata": {},
     "output_type": "display_data"
    },
    {
     "data": {
      "text/html": [
       " View sweep at <a href='https://wandb.ai/viswa_ee/CS6910/sweeps/t38ec2il' target=\"_blank\">https://wandb.ai/viswa_ee/CS6910/sweeps/t38ec2il</a>"
      ],
      "text/plain": [
       "<IPython.core.display.HTML object>"
      ]
     },
     "metadata": {},
     "output_type": "display_data"
    },
    {
     "data": {
      "text/html": [
       " View run at <a href='https://wandb.ai/viswa_ee/CS6910/runs/uopgy2wa' target=\"_blank\">https://wandb.ai/viswa_ee/CS6910/runs/uopgy2wa</a>"
      ],
      "text/plain": [
       "<IPython.core.display.HTML object>"
      ]
     },
     "metadata": {},
     "output_type": "display_data"
    },
    {
     "data": {
      "text/html": [
       "Waiting for W&B process to finish... <strong style=\"color:green\">(success).</strong>"
      ],
      "text/plain": [
       "<IPython.core.display.HTML object>"
      ]
     },
     "metadata": {},
     "output_type": "display_data"
    },
    {
     "data": {
      "text/html": [
       "<style>\n",
       "    table.wandb td:nth-child(1) { padding: 0 10px; text-align: left ; width: auto;} td:nth-child(2) {text-align: left ; width: 100%}\n",
       "    .wandb-row { display: flex; flex-direction: row; flex-wrap: wrap; justify-content: flex-start; width: 100% }\n",
       "    .wandb-col { display: flex; flex-direction: column; flex-basis: 100%; flex: 1; padding: 10px; }\n",
       "    </style>\n",
       "<div class=\"wandb-row\"><div class=\"wandb-col\"><h3>Run history:</h3><br/><table class=\"wandb\"><tr><td>train_acc</td><td>▁▃▄▅▆▇▇▆▇█</td></tr><tr><td>train_loss</td><td>█▆▆▅▄▁▂▁▂▁</td></tr><tr><td>val_acc</td><td>▁▄▅▆▇▇█▇██</td></tr><tr><td>val_loss</td><td>█▇▆▅▄▃▃▂▁▁</td></tr></table><br/></div><div class=\"wandb-col\"><h3>Run summary:</h3><br/><table class=\"wandb\"><tr><td>train_acc</td><td>0.89026</td></tr><tr><td>train_loss</td><td>-869.81933</td></tr><tr><td>val_acc</td><td>0.84883</td></tr><tr><td>val_loss</td><td>-923.27719</td></tr></table><br/></div></div>"
      ],
      "text/plain": [
       "<IPython.core.display.HTML object>"
      ]
     },
     "metadata": {},
     "output_type": "display_data"
    },
    {
     "data": {
      "text/html": [
       " View run <strong style=\"color:#cdcd00\">avid-sweep-44</strong> at: <a href='https://wandb.ai/viswa_ee/CS6910/runs/uopgy2wa' target=\"_blank\">https://wandb.ai/viswa_ee/CS6910/runs/uopgy2wa</a><br/>Synced 4 W&B file(s), 1 media file(s), 0 artifact file(s) and 0 other file(s)"
      ],
      "text/plain": [
       "<IPython.core.display.HTML object>"
      ]
     },
     "metadata": {},
     "output_type": "display_data"
    },
    {
     "data": {
      "text/html": [
       "Find logs at: <code>.\\wandb\\run-20230317_175645-uopgy2wa\\logs</code>"
      ],
      "text/plain": [
       "<IPython.core.display.HTML object>"
      ]
     },
     "metadata": {},
     "output_type": "display_data"
    },
    {
     "name": "stderr",
     "output_type": "stream",
     "text": [
      "\u001b[34m\u001b[1mwandb\u001b[0m: Agent Starting Run: nn6wolg6 with config:\n",
      "\u001b[34m\u001b[1mwandb\u001b[0m: \tact_func: sigmoid\n",
      "\u001b[34m\u001b[1mwandb\u001b[0m: \tbatch_size: 64\n",
      "\u001b[34m\u001b[1mwandb\u001b[0m: \tl2_coeff: 0.5\n",
      "\u001b[34m\u001b[1mwandb\u001b[0m: \tloss_func: mse\n",
      "\u001b[34m\u001b[1mwandb\u001b[0m: \tlr: 0.001\n",
      "\u001b[34m\u001b[1mwandb\u001b[0m: \tn_epochs: 10\n",
      "\u001b[34m\u001b[1mwandb\u001b[0m: \tn_hidden: 5\n",
      "\u001b[34m\u001b[1mwandb\u001b[0m: \tn_hidden_units: 128\n",
      "\u001b[34m\u001b[1mwandb\u001b[0m: \toptim_algo: adam\n",
      "\u001b[34m\u001b[1mwandb\u001b[0m: \trelu_param: 0.001\n",
      "\u001b[34m\u001b[1mwandb\u001b[0m: \tweight_init: xavier_uniform\n",
      "Failed to detect the name of this notebook, you can set it manually with the WANDB_NOTEBOOK_NAME environment variable to enable code saving.\n"
     ]
    },
    {
     "data": {
      "text/html": [
       "Tracking run with wandb version 0.14.0"
      ],
      "text/plain": [
       "<IPython.core.display.HTML object>"
      ]
     },
     "metadata": {},
     "output_type": "display_data"
    },
    {
     "data": {
      "text/html": [
       "Run data is saved locally in <code>d:\\CS6901\\wandb\\run-20230317_175833-nn6wolg6</code>"
      ],
      "text/plain": [
       "<IPython.core.display.HTML object>"
      ]
     },
     "metadata": {},
     "output_type": "display_data"
    },
    {
     "data": {
      "text/html": [
       "Syncing run <strong><a href='https://wandb.ai/viswa_ee/CS6910/runs/nn6wolg6' target=\"_blank\">absurd-sweep-45</a></strong> to <a href='https://wandb.ai/viswa_ee/CS6910' target=\"_blank\">Weights & Biases</a> (<a href='https://wandb.me/run' target=\"_blank\">docs</a>)<br/>Sweep page: <a href='https://wandb.ai/viswa_ee/CS6910/sweeps/t38ec2il' target=\"_blank\">https://wandb.ai/viswa_ee/CS6910/sweeps/t38ec2il</a>"
      ],
      "text/plain": [
       "<IPython.core.display.HTML object>"
      ]
     },
     "metadata": {},
     "output_type": "display_data"
    },
    {
     "data": {
      "text/html": [
       " View project at <a href='https://wandb.ai/viswa_ee/CS6910' target=\"_blank\">https://wandb.ai/viswa_ee/CS6910</a>"
      ],
      "text/plain": [
       "<IPython.core.display.HTML object>"
      ]
     },
     "metadata": {},
     "output_type": "display_data"
    },
    {
     "data": {
      "text/html": [
       " View sweep at <a href='https://wandb.ai/viswa_ee/CS6910/sweeps/t38ec2il' target=\"_blank\">https://wandb.ai/viswa_ee/CS6910/sweeps/t38ec2il</a>"
      ],
      "text/plain": [
       "<IPython.core.display.HTML object>"
      ]
     },
     "metadata": {},
     "output_type": "display_data"
    },
    {
     "data": {
      "text/html": [
       " View run at <a href='https://wandb.ai/viswa_ee/CS6910/runs/nn6wolg6' target=\"_blank\">https://wandb.ai/viswa_ee/CS6910/runs/nn6wolg6</a>"
      ],
      "text/plain": [
       "<IPython.core.display.HTML object>"
      ]
     },
     "metadata": {},
     "output_type": "display_data"
    },
    {
     "data": {
      "text/html": [
       "Waiting for W&B process to finish... <strong style=\"color:green\">(success).</strong>"
      ],
      "text/plain": [
       "<IPython.core.display.HTML object>"
      ]
     },
     "metadata": {},
     "output_type": "display_data"
    },
    {
     "data": {
      "text/html": [
       "<style>\n",
       "    table.wandb td:nth-child(1) { padding: 0 10px; text-align: left ; width: auto;} td:nth-child(2) {text-align: left ; width: 100%}\n",
       "    .wandb-row { display: flex; flex-direction: row; flex-wrap: wrap; justify-content: flex-start; width: 100% }\n",
       "    .wandb-col { display: flex; flex-direction: column; flex-basis: 100%; flex: 1; padding: 10px; }\n",
       "    </style>\n",
       "<div class=\"wandb-row\"><div class=\"wandb-col\"><h3>Run history:</h3><br/><table class=\"wandb\"><tr><td>train_acc</td><td>▁█▄▄▅▂▇▄▅▃</td></tr><tr><td>train_loss</td><td>█▄▃▃▃▃▂▁▁▁</td></tr><tr><td>val_acc</td><td>▁█▄▅▅▂▇▄▅▃</td></tr><tr><td>val_loss</td><td>▆▂▅██▇▄▃▁▁</td></tr></table><br/></div><div class=\"wandb-col\"><h3>Run summary:</h3><br/><table class=\"wandb\"><tr><td>train_acc</td><td>0.78843</td></tr><tr><td>train_loss</td><td>-452.0207</td></tr><tr><td>val_acc</td><td>0.78083</td></tr><tr><td>val_loss</td><td>-433.45784</td></tr></table><br/></div></div>"
      ],
      "text/plain": [
       "<IPython.core.display.HTML object>"
      ]
     },
     "metadata": {},
     "output_type": "display_data"
    },
    {
     "data": {
      "text/html": [
       " View run <strong style=\"color:#cdcd00\">absurd-sweep-45</strong> at: <a href='https://wandb.ai/viswa_ee/CS6910/runs/nn6wolg6' target=\"_blank\">https://wandb.ai/viswa_ee/CS6910/runs/nn6wolg6</a><br/>Synced 4 W&B file(s), 1 media file(s), 0 artifact file(s) and 0 other file(s)"
      ],
      "text/plain": [
       "<IPython.core.display.HTML object>"
      ]
     },
     "metadata": {},
     "output_type": "display_data"
    },
    {
     "data": {
      "text/html": [
       "Find logs at: <code>.\\wandb\\run-20230317_175833-nn6wolg6\\logs</code>"
      ],
      "text/plain": [
       "<IPython.core.display.HTML object>"
      ]
     },
     "metadata": {},
     "output_type": "display_data"
    },
    {
     "name": "stderr",
     "output_type": "stream",
     "text": [
      "\u001b[34m\u001b[1mwandb\u001b[0m: Agent Starting Run: gy4vjqm7 with config:\n",
      "\u001b[34m\u001b[1mwandb\u001b[0m: \tact_func: sigmoid\n",
      "\u001b[34m\u001b[1mwandb\u001b[0m: \tbatch_size: 64\n",
      "\u001b[34m\u001b[1mwandb\u001b[0m: \tl2_coeff: 0.5\n",
      "\u001b[34m\u001b[1mwandb\u001b[0m: \tloss_func: mse\n",
      "\u001b[34m\u001b[1mwandb\u001b[0m: \tlr: 0.0001\n",
      "\u001b[34m\u001b[1mwandb\u001b[0m: \tn_epochs: 10\n",
      "\u001b[34m\u001b[1mwandb\u001b[0m: \tn_hidden: 5\n",
      "\u001b[34m\u001b[1mwandb\u001b[0m: \tn_hidden_units: 128\n",
      "\u001b[34m\u001b[1mwandb\u001b[0m: \toptim_algo: adam\n",
      "\u001b[34m\u001b[1mwandb\u001b[0m: \trelu_param: 0.1\n",
      "\u001b[34m\u001b[1mwandb\u001b[0m: \tweight_init: xavier_uniform\n",
      "Failed to detect the name of this notebook, you can set it manually with the WANDB_NOTEBOOK_NAME environment variable to enable code saving.\n"
     ]
    },
    {
     "data": {
      "text/html": [
       "Tracking run with wandb version 0.14.0"
      ],
      "text/plain": [
       "<IPython.core.display.HTML object>"
      ]
     },
     "metadata": {},
     "output_type": "display_data"
    },
    {
     "data": {
      "text/html": [
       "Run data is saved locally in <code>d:\\CS6901\\wandb\\run-20230317_180028-gy4vjqm7</code>"
      ],
      "text/plain": [
       "<IPython.core.display.HTML object>"
      ]
     },
     "metadata": {},
     "output_type": "display_data"
    },
    {
     "data": {
      "text/html": [
       "Syncing run <strong><a href='https://wandb.ai/viswa_ee/CS6910/runs/gy4vjqm7' target=\"_blank\">dutiful-sweep-46</a></strong> to <a href='https://wandb.ai/viswa_ee/CS6910' target=\"_blank\">Weights & Biases</a> (<a href='https://wandb.me/run' target=\"_blank\">docs</a>)<br/>Sweep page: <a href='https://wandb.ai/viswa_ee/CS6910/sweeps/t38ec2il' target=\"_blank\">https://wandb.ai/viswa_ee/CS6910/sweeps/t38ec2il</a>"
      ],
      "text/plain": [
       "<IPython.core.display.HTML object>"
      ]
     },
     "metadata": {},
     "output_type": "display_data"
    },
    {
     "data": {
      "text/html": [
       " View project at <a href='https://wandb.ai/viswa_ee/CS6910' target=\"_blank\">https://wandb.ai/viswa_ee/CS6910</a>"
      ],
      "text/plain": [
       "<IPython.core.display.HTML object>"
      ]
     },
     "metadata": {},
     "output_type": "display_data"
    },
    {
     "data": {
      "text/html": [
       " View sweep at <a href='https://wandb.ai/viswa_ee/CS6910/sweeps/t38ec2il' target=\"_blank\">https://wandb.ai/viswa_ee/CS6910/sweeps/t38ec2il</a>"
      ],
      "text/plain": [
       "<IPython.core.display.HTML object>"
      ]
     },
     "metadata": {},
     "output_type": "display_data"
    },
    {
     "data": {
      "text/html": [
       " View run at <a href='https://wandb.ai/viswa_ee/CS6910/runs/gy4vjqm7' target=\"_blank\">https://wandb.ai/viswa_ee/CS6910/runs/gy4vjqm7</a>"
      ],
      "text/plain": [
       "<IPython.core.display.HTML object>"
      ]
     },
     "metadata": {},
     "output_type": "display_data"
    },
    {
     "data": {
      "text/html": [
       "Waiting for W&B process to finish... <strong style=\"color:green\">(success).</strong>"
      ],
      "text/plain": [
       "<IPython.core.display.HTML object>"
      ]
     },
     "metadata": {},
     "output_type": "display_data"
    },
    {
     "data": {
      "text/html": [
       "<style>\n",
       "    table.wandb td:nth-child(1) { padding: 0 10px; text-align: left ; width: auto;} td:nth-child(2) {text-align: left ; width: 100%}\n",
       "    .wandb-row { display: flex; flex-direction: row; flex-wrap: wrap; justify-content: flex-start; width: 100% }\n",
       "    .wandb-col { display: flex; flex-direction: column; flex-basis: 100%; flex: 1; padding: 10px; }\n",
       "    </style>\n",
       "<div class=\"wandb-row\"><div class=\"wandb-col\"><h3>Run history:</h3><br/><table class=\"wandb\"><tr><td>train_acc</td><td>▁▄▅▆▇▇▇███</td></tr><tr><td>train_loss</td><td>█▇▅▅▄▄▃▂▁▁</td></tr><tr><td>val_acc</td><td>▁▄▅▆▇▇▇███</td></tr><tr><td>val_loss</td><td>█▅▄▃▃▂▂▁▁▁</td></tr></table><br/></div><div class=\"wandb-col\"><h3>Run summary:</h3><br/><table class=\"wandb\"><tr><td>train_acc</td><td>0.79891</td></tr><tr><td>train_loss</td><td>-155.63275</td></tr><tr><td>val_acc</td><td>0.7875</td></tr><tr><td>val_loss</td><td>-406.42892</td></tr></table><br/></div></div>"
      ],
      "text/plain": [
       "<IPython.core.display.HTML object>"
      ]
     },
     "metadata": {},
     "output_type": "display_data"
    },
    {
     "data": {
      "text/html": [
       " View run <strong style=\"color:#cdcd00\">dutiful-sweep-46</strong> at: <a href='https://wandb.ai/viswa_ee/CS6910/runs/gy4vjqm7' target=\"_blank\">https://wandb.ai/viswa_ee/CS6910/runs/gy4vjqm7</a><br/>Synced 4 W&B file(s), 1 media file(s), 0 artifact file(s) and 0 other file(s)"
      ],
      "text/plain": [
       "<IPython.core.display.HTML object>"
      ]
     },
     "metadata": {},
     "output_type": "display_data"
    },
    {
     "data": {
      "text/html": [
       "Find logs at: <code>.\\wandb\\run-20230317_180028-gy4vjqm7\\logs</code>"
      ],
      "text/plain": [
       "<IPython.core.display.HTML object>"
      ]
     },
     "metadata": {},
     "output_type": "display_data"
    },
    {
     "name": "stderr",
     "output_type": "stream",
     "text": [
      "\u001b[34m\u001b[1mwandb\u001b[0m: Sweep Agent: Waiting for job.\n",
      "\u001b[34m\u001b[1mwandb\u001b[0m: Job received.\n",
      "\u001b[34m\u001b[1mwandb\u001b[0m: Agent Starting Run: p9ieekyp with config:\n",
      "\u001b[34m\u001b[1mwandb\u001b[0m: \tact_func: relu\n",
      "\u001b[34m\u001b[1mwandb\u001b[0m: \tbatch_size: 64\n",
      "\u001b[34m\u001b[1mwandb\u001b[0m: \tl2_coeff: 0.5\n",
      "\u001b[34m\u001b[1mwandb\u001b[0m: \tloss_func: mse\n",
      "\u001b[34m\u001b[1mwandb\u001b[0m: \tlr: 0.0001\n",
      "\u001b[34m\u001b[1mwandb\u001b[0m: \tn_epochs: 5\n",
      "\u001b[34m\u001b[1mwandb\u001b[0m: \tn_hidden: 5\n",
      "\u001b[34m\u001b[1mwandb\u001b[0m: \tn_hidden_units: 128\n",
      "\u001b[34m\u001b[1mwandb\u001b[0m: \toptim_algo: adam\n",
      "\u001b[34m\u001b[1mwandb\u001b[0m: \trelu_param: 0.1\n",
      "\u001b[34m\u001b[1mwandb\u001b[0m: \tweight_init: xavier_uniform\n",
      "Failed to detect the name of this notebook, you can set it manually with the WANDB_NOTEBOOK_NAME environment variable to enable code saving.\n"
     ]
    },
    {
     "data": {
      "text/html": [
       "Tracking run with wandb version 0.14.0"
      ],
      "text/plain": [
       "<IPython.core.display.HTML object>"
      ]
     },
     "metadata": {},
     "output_type": "display_data"
    },
    {
     "data": {
      "text/html": [
       "Run data is saved locally in <code>d:\\CS6901\\wandb\\run-20230317_180226-p9ieekyp</code>"
      ],
      "text/plain": [
       "<IPython.core.display.HTML object>"
      ]
     },
     "metadata": {},
     "output_type": "display_data"
    },
    {
     "data": {
      "text/html": [
       "Syncing run <strong><a href='https://wandb.ai/viswa_ee/CS6910/runs/p9ieekyp' target=\"_blank\">fallen-sweep-47</a></strong> to <a href='https://wandb.ai/viswa_ee/CS6910' target=\"_blank\">Weights & Biases</a> (<a href='https://wandb.me/run' target=\"_blank\">docs</a>)<br/>Sweep page: <a href='https://wandb.ai/viswa_ee/CS6910/sweeps/t38ec2il' target=\"_blank\">https://wandb.ai/viswa_ee/CS6910/sweeps/t38ec2il</a>"
      ],
      "text/plain": [
       "<IPython.core.display.HTML object>"
      ]
     },
     "metadata": {},
     "output_type": "display_data"
    },
    {
     "data": {
      "text/html": [
       " View project at <a href='https://wandb.ai/viswa_ee/CS6910' target=\"_blank\">https://wandb.ai/viswa_ee/CS6910</a>"
      ],
      "text/plain": [
       "<IPython.core.display.HTML object>"
      ]
     },
     "metadata": {},
     "output_type": "display_data"
    },
    {
     "data": {
      "text/html": [
       " View sweep at <a href='https://wandb.ai/viswa_ee/CS6910/sweeps/t38ec2il' target=\"_blank\">https://wandb.ai/viswa_ee/CS6910/sweeps/t38ec2il</a>"
      ],
      "text/plain": [
       "<IPython.core.display.HTML object>"
      ]
     },
     "metadata": {},
     "output_type": "display_data"
    },
    {
     "data": {
      "text/html": [
       " View run at <a href='https://wandb.ai/viswa_ee/CS6910/runs/p9ieekyp' target=\"_blank\">https://wandb.ai/viswa_ee/CS6910/runs/p9ieekyp</a>"
      ],
      "text/plain": [
       "<IPython.core.display.HTML object>"
      ]
     },
     "metadata": {},
     "output_type": "display_data"
    },
    {
     "data": {
      "text/html": [
       "Waiting for W&B process to finish... <strong style=\"color:green\">(success).</strong>"
      ],
      "text/plain": [
       "<IPython.core.display.HTML object>"
      ]
     },
     "metadata": {},
     "output_type": "display_data"
    },
    {
     "data": {
      "text/html": [
       "<style>\n",
       "    table.wandb td:nth-child(1) { padding: 0 10px; text-align: left ; width: auto;} td:nth-child(2) {text-align: left ; width: 100%}\n",
       "    .wandb-row { display: flex; flex-direction: row; flex-wrap: wrap; justify-content: flex-start; width: 100% }\n",
       "    .wandb-col { display: flex; flex-direction: column; flex-basis: 100%; flex: 1; padding: 10px; }\n",
       "    </style>\n",
       "<div class=\"wandb-row\"><div class=\"wandb-col\"><h3>Run history:</h3><br/><table class=\"wandb\"><tr><td>train_acc</td><td>▁▅▆▇█</td></tr><tr><td>train_loss</td><td>█▄▃▅▁</td></tr><tr><td>val_acc</td><td>▁▅▆▇█</td></tr><tr><td>val_loss</td><td>█▃▃▂▁</td></tr></table><br/></div><div class=\"wandb-col\"><h3>Run summary:</h3><br/><table class=\"wandb\"><tr><td>train_acc</td><td>0.67054</td></tr><tr><td>train_loss</td><td>-16462936.21899</td></tr><tr><td>val_acc</td><td>0.663</td></tr><tr><td>val_loss</td><td>-16101773.38817</td></tr></table><br/></div></div>"
      ],
      "text/plain": [
       "<IPython.core.display.HTML object>"
      ]
     },
     "metadata": {},
     "output_type": "display_data"
    },
    {
     "data": {
      "text/html": [
       " View run <strong style=\"color:#cdcd00\">fallen-sweep-47</strong> at: <a href='https://wandb.ai/viswa_ee/CS6910/runs/p9ieekyp' target=\"_blank\">https://wandb.ai/viswa_ee/CS6910/runs/p9ieekyp</a><br/>Synced 4 W&B file(s), 1 media file(s), 0 artifact file(s) and 0 other file(s)"
      ],
      "text/plain": [
       "<IPython.core.display.HTML object>"
      ]
     },
     "metadata": {},
     "output_type": "display_data"
    },
    {
     "data": {
      "text/html": [
       "Find logs at: <code>.\\wandb\\run-20230317_180226-p9ieekyp\\logs</code>"
      ],
      "text/plain": [
       "<IPython.core.display.HTML object>"
      ]
     },
     "metadata": {},
     "output_type": "display_data"
    },
    {
     "name": "stderr",
     "output_type": "stream",
     "text": [
      "\u001b[34m\u001b[1mwandb\u001b[0m: Agent Starting Run: czqadyt3 with config:\n",
      "\u001b[34m\u001b[1mwandb\u001b[0m: \tact_func: relu\n",
      "\u001b[34m\u001b[1mwandb\u001b[0m: \tbatch_size: 64\n",
      "\u001b[34m\u001b[1mwandb\u001b[0m: \tl2_coeff: 0.5\n",
      "\u001b[34m\u001b[1mwandb\u001b[0m: \tloss_func: mse\n",
      "\u001b[34m\u001b[1mwandb\u001b[0m: \tlr: 0.001\n",
      "\u001b[34m\u001b[1mwandb\u001b[0m: \tn_epochs: 10\n",
      "\u001b[34m\u001b[1mwandb\u001b[0m: \tn_hidden: 4\n",
      "\u001b[34m\u001b[1mwandb\u001b[0m: \tn_hidden_units: 128\n",
      "\u001b[34m\u001b[1mwandb\u001b[0m: \toptim_algo: nadam\n",
      "\u001b[34m\u001b[1mwandb\u001b[0m: \trelu_param: 0.001\n",
      "\u001b[34m\u001b[1mwandb\u001b[0m: \tweight_init: xavier_uniform\n",
      "Failed to detect the name of this notebook, you can set it manually with the WANDB_NOTEBOOK_NAME environment variable to enable code saving.\n"
     ]
    },
    {
     "data": {
      "text/html": [
       "Tracking run with wandb version 0.14.0"
      ],
      "text/plain": [
       "<IPython.core.display.HTML object>"
      ]
     },
     "metadata": {},
     "output_type": "display_data"
    },
    {
     "data": {
      "text/html": [
       "Run data is saved locally in <code>d:\\CS6901\\wandb\\run-20230317_180326-czqadyt3</code>"
      ],
      "text/plain": [
       "<IPython.core.display.HTML object>"
      ]
     },
     "metadata": {},
     "output_type": "display_data"
    },
    {
     "data": {
      "text/html": [
       "Syncing run <strong><a href='https://wandb.ai/viswa_ee/CS6910/runs/czqadyt3' target=\"_blank\">azure-sweep-48</a></strong> to <a href='https://wandb.ai/viswa_ee/CS6910' target=\"_blank\">Weights & Biases</a> (<a href='https://wandb.me/run' target=\"_blank\">docs</a>)<br/>Sweep page: <a href='https://wandb.ai/viswa_ee/CS6910/sweeps/t38ec2il' target=\"_blank\">https://wandb.ai/viswa_ee/CS6910/sweeps/t38ec2il</a>"
      ],
      "text/plain": [
       "<IPython.core.display.HTML object>"
      ]
     },
     "metadata": {},
     "output_type": "display_data"
    },
    {
     "data": {
      "text/html": [
       " View project at <a href='https://wandb.ai/viswa_ee/CS6910' target=\"_blank\">https://wandb.ai/viswa_ee/CS6910</a>"
      ],
      "text/plain": [
       "<IPython.core.display.HTML object>"
      ]
     },
     "metadata": {},
     "output_type": "display_data"
    },
    {
     "data": {
      "text/html": [
       " View sweep at <a href='https://wandb.ai/viswa_ee/CS6910/sweeps/t38ec2il' target=\"_blank\">https://wandb.ai/viswa_ee/CS6910/sweeps/t38ec2il</a>"
      ],
      "text/plain": [
       "<IPython.core.display.HTML object>"
      ]
     },
     "metadata": {},
     "output_type": "display_data"
    },
    {
     "data": {
      "text/html": [
       " View run at <a href='https://wandb.ai/viswa_ee/CS6910/runs/czqadyt3' target=\"_blank\">https://wandb.ai/viswa_ee/CS6910/runs/czqadyt3</a>"
      ],
      "text/plain": [
       "<IPython.core.display.HTML object>"
      ]
     },
     "metadata": {},
     "output_type": "display_data"
    },
    {
     "data": {
      "text/html": [
       "Waiting for W&B process to finish... <strong style=\"color:green\">(success).</strong>"
      ],
      "text/plain": [
       "<IPython.core.display.HTML object>"
      ]
     },
     "metadata": {},
     "output_type": "display_data"
    },
    {
     "data": {
      "text/html": [
       "<style>\n",
       "    table.wandb td:nth-child(1) { padding: 0 10px; text-align: left ; width: auto;} td:nth-child(2) {text-align: left ; width: 100%}\n",
       "    .wandb-row { display: flex; flex-direction: row; flex-wrap: wrap; justify-content: flex-start; width: 100% }\n",
       "    .wandb-col { display: flex; flex-direction: column; flex-basis: 100%; flex: 1; padding: 10px; }\n",
       "    </style>\n",
       "<div class=\"wandb-row\"><div class=\"wandb-col\"><h3>Run history:</h3><br/><table class=\"wandb\"><tr><td>train_acc</td><td>▁▄▆▅▆▇▇▇▇█</td></tr><tr><td>train_loss</td><td>█▄▁▅▁▁▃▂▁▃</td></tr><tr><td>val_acc</td><td>▁▄▆▅▆▇▇▇▇█</td></tr><tr><td>val_loss</td><td>█▄▃▃▂▂▂▁▂▁</td></tr></table><br/></div><div class=\"wandb-col\"><h3>Run summary:</h3><br/><table class=\"wandb\"><tr><td>train_acc</td><td>0.7968</td></tr><tr><td>train_loss</td><td>-16381299.39979</td></tr><tr><td>val_acc</td><td>0.79167</td></tr><tr><td>val_loss</td><td>-16777781.96932</td></tr></table><br/></div></div>"
      ],
      "text/plain": [
       "<IPython.core.display.HTML object>"
      ]
     },
     "metadata": {},
     "output_type": "display_data"
    },
    {
     "data": {
      "text/html": [
       " View run <strong style=\"color:#cdcd00\">azure-sweep-48</strong> at: <a href='https://wandb.ai/viswa_ee/CS6910/runs/czqadyt3' target=\"_blank\">https://wandb.ai/viswa_ee/CS6910/runs/czqadyt3</a><br/>Synced 4 W&B file(s), 1 media file(s), 0 artifact file(s) and 0 other file(s)"
      ],
      "text/plain": [
       "<IPython.core.display.HTML object>"
      ]
     },
     "metadata": {},
     "output_type": "display_data"
    },
    {
     "data": {
      "text/html": [
       "Find logs at: <code>.\\wandb\\run-20230317_180326-czqadyt3\\logs</code>"
      ],
      "text/plain": [
       "<IPython.core.display.HTML object>"
      ]
     },
     "metadata": {},
     "output_type": "display_data"
    },
    {
     "name": "stderr",
     "output_type": "stream",
     "text": [
      "\u001b[34m\u001b[1mwandb\u001b[0m: Agent Starting Run: 8q83ywhu with config:\n",
      "\u001b[34m\u001b[1mwandb\u001b[0m: \tact_func: relu\n",
      "\u001b[34m\u001b[1mwandb\u001b[0m: \tbatch_size: 64\n",
      "\u001b[34m\u001b[1mwandb\u001b[0m: \tl2_coeff: 0.0005\n",
      "\u001b[34m\u001b[1mwandb\u001b[0m: \tloss_func: cross_ent\n",
      "\u001b[34m\u001b[1mwandb\u001b[0m: \tlr: 0.001\n",
      "\u001b[34m\u001b[1mwandb\u001b[0m: \tn_epochs: 5\n",
      "\u001b[34m\u001b[1mwandb\u001b[0m: \tn_hidden: 5\n",
      "\u001b[34m\u001b[1mwandb\u001b[0m: \tn_hidden_units: 128\n",
      "\u001b[34m\u001b[1mwandb\u001b[0m: \toptim_algo: nadam\n",
      "\u001b[34m\u001b[1mwandb\u001b[0m: \trelu_param: 0.1\n",
      "\u001b[34m\u001b[1mwandb\u001b[0m: \tweight_init: xavier_uniform\n",
      "Failed to detect the name of this notebook, you can set it manually with the WANDB_NOTEBOOK_NAME environment variable to enable code saving.\n"
     ]
    },
    {
     "data": {
      "text/html": [
       "Tracking run with wandb version 0.14.0"
      ],
      "text/plain": [
       "<IPython.core.display.HTML object>"
      ]
     },
     "metadata": {},
     "output_type": "display_data"
    },
    {
     "data": {
      "text/html": [
       "Run data is saved locally in <code>d:\\CS6901\\wandb\\run-20230317_180452-8q83ywhu</code>"
      ],
      "text/plain": [
       "<IPython.core.display.HTML object>"
      ]
     },
     "metadata": {},
     "output_type": "display_data"
    },
    {
     "data": {
      "text/html": [
       "Syncing run <strong><a href='https://wandb.ai/viswa_ee/CS6910/runs/8q83ywhu' target=\"_blank\">dutiful-sweep-49</a></strong> to <a href='https://wandb.ai/viswa_ee/CS6910' target=\"_blank\">Weights & Biases</a> (<a href='https://wandb.me/run' target=\"_blank\">docs</a>)<br/>Sweep page: <a href='https://wandb.ai/viswa_ee/CS6910/sweeps/t38ec2il' target=\"_blank\">https://wandb.ai/viswa_ee/CS6910/sweeps/t38ec2il</a>"
      ],
      "text/plain": [
       "<IPython.core.display.HTML object>"
      ]
     },
     "metadata": {},
     "output_type": "display_data"
    },
    {
     "data": {
      "text/html": [
       " View project at <a href='https://wandb.ai/viswa_ee/CS6910' target=\"_blank\">https://wandb.ai/viswa_ee/CS6910</a>"
      ],
      "text/plain": [
       "<IPython.core.display.HTML object>"
      ]
     },
     "metadata": {},
     "output_type": "display_data"
    },
    {
     "data": {
      "text/html": [
       " View sweep at <a href='https://wandb.ai/viswa_ee/CS6910/sweeps/t38ec2il' target=\"_blank\">https://wandb.ai/viswa_ee/CS6910/sweeps/t38ec2il</a>"
      ],
      "text/plain": [
       "<IPython.core.display.HTML object>"
      ]
     },
     "metadata": {},
     "output_type": "display_data"
    },
    {
     "data": {
      "text/html": [
       " View run at <a href='https://wandb.ai/viswa_ee/CS6910/runs/8q83ywhu' target=\"_blank\">https://wandb.ai/viswa_ee/CS6910/runs/8q83ywhu</a>"
      ],
      "text/plain": [
       "<IPython.core.display.HTML object>"
      ]
     },
     "metadata": {},
     "output_type": "display_data"
    },
    {
     "data": {
      "text/html": [
       "Waiting for W&B process to finish... <strong style=\"color:green\">(success).</strong>"
      ],
      "text/plain": [
       "<IPython.core.display.HTML object>"
      ]
     },
     "metadata": {},
     "output_type": "display_data"
    },
    {
     "data": {
      "text/html": [
       "<style>\n",
       "    table.wandb td:nth-child(1) { padding: 0 10px; text-align: left ; width: auto;} td:nth-child(2) {text-align: left ; width: 100%}\n",
       "    .wandb-row { display: flex; flex-direction: row; flex-wrap: wrap; justify-content: flex-start; width: 100% }\n",
       "    .wandb-col { display: flex; flex-direction: column; flex-basis: 100%; flex: 1; padding: 10px; }\n",
       "    </style>\n",
       "<div class=\"wandb-row\"><div class=\"wandb-col\"><h3>Run history:</h3><br/><table class=\"wandb\"><tr><td>train_acc</td><td>▁▂▃██</td></tr><tr><td>train_loss</td><td>▃▁█▄▁</td></tr><tr><td>val_acc</td><td>▁▂▃██</td></tr><tr><td>val_loss</td><td>▁▃█▄▁</td></tr></table><br/></div><div class=\"wandb-col\"><h3>Run summary:</h3><br/><table class=\"wandb\"><tr><td>train_acc</td><td>0.70317</td></tr><tr><td>train_loss</td><td>31.07681</td></tr><tr><td>val_acc</td><td>0.6995</td></tr><tr><td>val_loss</td><td>81.16717</td></tr></table><br/></div></div>"
      ],
      "text/plain": [
       "<IPython.core.display.HTML object>"
      ]
     },
     "metadata": {},
     "output_type": "display_data"
    },
    {
     "data": {
      "text/html": [
       " View run <strong style=\"color:#cdcd00\">dutiful-sweep-49</strong> at: <a href='https://wandb.ai/viswa_ee/CS6910/runs/8q83ywhu' target=\"_blank\">https://wandb.ai/viswa_ee/CS6910/runs/8q83ywhu</a><br/>Synced 4 W&B file(s), 1 media file(s), 0 artifact file(s) and 0 other file(s)"
      ],
      "text/plain": [
       "<IPython.core.display.HTML object>"
      ]
     },
     "metadata": {},
     "output_type": "display_data"
    },
    {
     "data": {
      "text/html": [
       "Find logs at: <code>.\\wandb\\run-20230317_180452-8q83ywhu\\logs</code>"
      ],
      "text/plain": [
       "<IPython.core.display.HTML object>"
      ]
     },
     "metadata": {},
     "output_type": "display_data"
    },
    {
     "name": "stderr",
     "output_type": "stream",
     "text": [
      "\u001b[34m\u001b[1mwandb\u001b[0m: Agent Starting Run: yfhyxkh8 with config:\n",
      "\u001b[34m\u001b[1mwandb\u001b[0m: \tact_func: sigmoid\n",
      "\u001b[34m\u001b[1mwandb\u001b[0m: \tbatch_size: 64\n",
      "\u001b[34m\u001b[1mwandb\u001b[0m: \tl2_coeff: 0.0005\n",
      "\u001b[34m\u001b[1mwandb\u001b[0m: \tloss_func: cross_ent\n",
      "\u001b[34m\u001b[1mwandb\u001b[0m: \tlr: 0.001\n",
      "\u001b[34m\u001b[1mwandb\u001b[0m: \tn_epochs: 5\n",
      "\u001b[34m\u001b[1mwandb\u001b[0m: \tn_hidden: 4\n",
      "\u001b[34m\u001b[1mwandb\u001b[0m: \tn_hidden_units: 128\n",
      "\u001b[34m\u001b[1mwandb\u001b[0m: \toptim_algo: nag\n",
      "\u001b[34m\u001b[1mwandb\u001b[0m: \trelu_param: 0.01\n",
      "\u001b[34m\u001b[1mwandb\u001b[0m: \tweight_init: xavier_uniform\n",
      "Failed to detect the name of this notebook, you can set it manually with the WANDB_NOTEBOOK_NAME environment variable to enable code saving.\n"
     ]
    },
    {
     "data": {
      "text/html": [
       "Tracking run with wandb version 0.14.0"
      ],
      "text/plain": [
       "<IPython.core.display.HTML object>"
      ]
     },
     "metadata": {},
     "output_type": "display_data"
    },
    {
     "data": {
      "text/html": [
       "Run data is saved locally in <code>d:\\CS6901\\wandb\\run-20230317_180544-yfhyxkh8</code>"
      ],
      "text/plain": [
       "<IPython.core.display.HTML object>"
      ]
     },
     "metadata": {},
     "output_type": "display_data"
    },
    {
     "data": {
      "text/html": [
       "Syncing run <strong><a href='https://wandb.ai/viswa_ee/CS6910/runs/yfhyxkh8' target=\"_blank\">prime-sweep-50</a></strong> to <a href='https://wandb.ai/viswa_ee/CS6910' target=\"_blank\">Weights & Biases</a> (<a href='https://wandb.me/run' target=\"_blank\">docs</a>)<br/>Sweep page: <a href='https://wandb.ai/viswa_ee/CS6910/sweeps/t38ec2il' target=\"_blank\">https://wandb.ai/viswa_ee/CS6910/sweeps/t38ec2il</a>"
      ],
      "text/plain": [
       "<IPython.core.display.HTML object>"
      ]
     },
     "metadata": {},
     "output_type": "display_data"
    },
    {
     "data": {
      "text/html": [
       " View project at <a href='https://wandb.ai/viswa_ee/CS6910' target=\"_blank\">https://wandb.ai/viswa_ee/CS6910</a>"
      ],
      "text/plain": [
       "<IPython.core.display.HTML object>"
      ]
     },
     "metadata": {},
     "output_type": "display_data"
    },
    {
     "data": {
      "text/html": [
       " View sweep at <a href='https://wandb.ai/viswa_ee/CS6910/sweeps/t38ec2il' target=\"_blank\">https://wandb.ai/viswa_ee/CS6910/sweeps/t38ec2il</a>"
      ],
      "text/plain": [
       "<IPython.core.display.HTML object>"
      ]
     },
     "metadata": {},
     "output_type": "display_data"
    },
    {
     "data": {
      "text/html": [
       " View run at <a href='https://wandb.ai/viswa_ee/CS6910/runs/yfhyxkh8' target=\"_blank\">https://wandb.ai/viswa_ee/CS6910/runs/yfhyxkh8</a>"
      ],
      "text/plain": [
       "<IPython.core.display.HTML object>"
      ]
     },
     "metadata": {},
     "output_type": "display_data"
    },
    {
     "data": {
      "text/html": [
       "Waiting for W&B process to finish... <strong style=\"color:green\">(success).</strong>"
      ],
      "text/plain": [
       "<IPython.core.display.HTML object>"
      ]
     },
     "metadata": {},
     "output_type": "display_data"
    },
    {
     "data": {
      "text/html": [
       "<style>\n",
       "    table.wandb td:nth-child(1) { padding: 0 10px; text-align: left ; width: auto;} td:nth-child(2) {text-align: left ; width: 100%}\n",
       "    .wandb-row { display: flex; flex-direction: row; flex-wrap: wrap; justify-content: flex-start; width: 100% }\n",
       "    .wandb-col { display: flex; flex-direction: column; flex-basis: 100%; flex: 1; padding: 10px; }\n",
       "    </style>\n",
       "<div class=\"wandb-row\"><div class=\"wandb-col\"><h3>Run history:</h3><br/><table class=\"wandb\"><tr><td>train_acc</td><td>▂▄█▃▁</td></tr><tr><td>train_loss</td><td>▄█▅▆▁</td></tr><tr><td>val_acc</td><td>██▆▁▅</td></tr><tr><td>val_loss</td><td>▃▅▁█▇</td></tr></table><br/></div><div class=\"wandb-col\"><h3>Run summary:</h3><br/><table class=\"wandb\"><tr><td>train_acc</td><td>0.09959</td></tr><tr><td>train_loss</td><td>12.52739</td></tr><tr><td>val_acc</td><td>0.1005</td></tr><tr><td>val_loss</td><td>15.379</td></tr></table><br/></div></div>"
      ],
      "text/plain": [
       "<IPython.core.display.HTML object>"
      ]
     },
     "metadata": {},
     "output_type": "display_data"
    },
    {
     "data": {
      "text/html": [
       " View run <strong style=\"color:#cdcd00\">prime-sweep-50</strong> at: <a href='https://wandb.ai/viswa_ee/CS6910/runs/yfhyxkh8' target=\"_blank\">https://wandb.ai/viswa_ee/CS6910/runs/yfhyxkh8</a><br/>Synced 4 W&B file(s), 1 media file(s), 0 artifact file(s) and 0 other file(s)"
      ],
      "text/plain": [
       "<IPython.core.display.HTML object>"
      ]
     },
     "metadata": {},
     "output_type": "display_data"
    },
    {
     "data": {
      "text/html": [
       "Find logs at: <code>.\\wandb\\run-20230317_180544-yfhyxkh8\\logs</code>"
      ],
      "text/plain": [
       "<IPython.core.display.HTML object>"
      ]
     },
     "metadata": {},
     "output_type": "display_data"
    },
    {
     "name": "stderr",
     "output_type": "stream",
     "text": [
      "\u001b[34m\u001b[1mwandb\u001b[0m: Agent Starting Run: g9asgopf with config:\n",
      "\u001b[34m\u001b[1mwandb\u001b[0m: \tact_func: sigmoid\n",
      "\u001b[34m\u001b[1mwandb\u001b[0m: \tbatch_size: 32\n",
      "\u001b[34m\u001b[1mwandb\u001b[0m: \tl2_coeff: 0\n",
      "\u001b[34m\u001b[1mwandb\u001b[0m: \tloss_func: mse\n",
      "\u001b[34m\u001b[1mwandb\u001b[0m: \tlr: 0.001\n",
      "\u001b[34m\u001b[1mwandb\u001b[0m: \tn_epochs: 10\n",
      "\u001b[34m\u001b[1mwandb\u001b[0m: \tn_hidden: 5\n",
      "\u001b[34m\u001b[1mwandb\u001b[0m: \tn_hidden_units: 128\n",
      "\u001b[34m\u001b[1mwandb\u001b[0m: \toptim_algo: nadam\n",
      "\u001b[34m\u001b[1mwandb\u001b[0m: \trelu_param: 0.001\n",
      "\u001b[34m\u001b[1mwandb\u001b[0m: \tweight_init: xavier_uniform\n",
      "Failed to detect the name of this notebook, you can set it manually with the WANDB_NOTEBOOK_NAME environment variable to enable code saving.\n"
     ]
    },
    {
     "data": {
      "text/html": [
       "Tracking run with wandb version 0.14.0"
      ],
      "text/plain": [
       "<IPython.core.display.HTML object>"
      ]
     },
     "metadata": {},
     "output_type": "display_data"
    },
    {
     "data": {
      "text/html": [
       "Run data is saved locally in <code>d:\\CS6901\\wandb\\run-20230317_180636-g9asgopf</code>"
      ],
      "text/plain": [
       "<IPython.core.display.HTML object>"
      ]
     },
     "metadata": {},
     "output_type": "display_data"
    },
    {
     "data": {
      "text/html": [
       "Syncing run <strong><a href='https://wandb.ai/viswa_ee/CS6910/runs/g9asgopf' target=\"_blank\">dark-sweep-51</a></strong> to <a href='https://wandb.ai/viswa_ee/CS6910' target=\"_blank\">Weights & Biases</a> (<a href='https://wandb.me/run' target=\"_blank\">docs</a>)<br/>Sweep page: <a href='https://wandb.ai/viswa_ee/CS6910/sweeps/t38ec2il' target=\"_blank\">https://wandb.ai/viswa_ee/CS6910/sweeps/t38ec2il</a>"
      ],
      "text/plain": [
       "<IPython.core.display.HTML object>"
      ]
     },
     "metadata": {},
     "output_type": "display_data"
    },
    {
     "data": {
      "text/html": [
       " View project at <a href='https://wandb.ai/viswa_ee/CS6910' target=\"_blank\">https://wandb.ai/viswa_ee/CS6910</a>"
      ],
      "text/plain": [
       "<IPython.core.display.HTML object>"
      ]
     },
     "metadata": {},
     "output_type": "display_data"
    },
    {
     "data": {
      "text/html": [
       " View sweep at <a href='https://wandb.ai/viswa_ee/CS6910/sweeps/t38ec2il' target=\"_blank\">https://wandb.ai/viswa_ee/CS6910/sweeps/t38ec2il</a>"
      ],
      "text/plain": [
       "<IPython.core.display.HTML object>"
      ]
     },
     "metadata": {},
     "output_type": "display_data"
    },
    {
     "data": {
      "text/html": [
       " View run at <a href='https://wandb.ai/viswa_ee/CS6910/runs/g9asgopf' target=\"_blank\">https://wandb.ai/viswa_ee/CS6910/runs/g9asgopf</a>"
      ],
      "text/plain": [
       "<IPython.core.display.HTML object>"
      ]
     },
     "metadata": {},
     "output_type": "display_data"
    },
    {
     "data": {
      "text/html": [
       "Waiting for W&B process to finish... <strong style=\"color:green\">(success).</strong>"
      ],
      "text/plain": [
       "<IPython.core.display.HTML object>"
      ]
     },
     "metadata": {},
     "output_type": "display_data"
    },
    {
     "data": {
      "text/html": [
       "<style>\n",
       "    table.wandb td:nth-child(1) { padding: 0 10px; text-align: left ; width: auto;} td:nth-child(2) {text-align: left ; width: 100%}\n",
       "    .wandb-row { display: flex; flex-direction: row; flex-wrap: wrap; justify-content: flex-start; width: 100% }\n",
       "    .wandb-col { display: flex; flex-direction: column; flex-basis: 100%; flex: 1; padding: 10px; }\n",
       "    </style>\n",
       "<div class=\"wandb-row\"><div class=\"wandb-col\"><h3>Run history:</h3><br/><table class=\"wandb\"><tr><td>train_acc</td><td>▁▃▄▅▆▆▇▇██</td></tr><tr><td>train_loss</td><td>██▄▃▄▄▂▁▁▂</td></tr><tr><td>val_acc</td><td>▁▄▅▆▆▇█▇██</td></tr><tr><td>val_loss</td><td>█▇▆▅▅▄▃▃▂▁</td></tr></table><br/></div><div class=\"wandb-col\"><h3>Run summary:</h3><br/><table class=\"wandb\"><tr><td>train_acc</td><td>0.89239</td></tr><tr><td>train_loss</td><td>-940.51141</td></tr><tr><td>val_acc</td><td>0.85467</td></tr><tr><td>val_loss</td><td>-1029.15961</td></tr></table><br/></div></div>"
      ],
      "text/plain": [
       "<IPython.core.display.HTML object>"
      ]
     },
     "metadata": {},
     "output_type": "display_data"
    },
    {
     "data": {
      "text/html": [
       " View run <strong style=\"color:#cdcd00\">dark-sweep-51</strong> at: <a href='https://wandb.ai/viswa_ee/CS6910/runs/g9asgopf' target=\"_blank\">https://wandb.ai/viswa_ee/CS6910/runs/g9asgopf</a><br/>Synced 4 W&B file(s), 1 media file(s), 0 artifact file(s) and 0 other file(s)"
      ],
      "text/plain": [
       "<IPython.core.display.HTML object>"
      ]
     },
     "metadata": {},
     "output_type": "display_data"
    },
    {
     "data": {
      "text/html": [
       "Find logs at: <code>.\\wandb\\run-20230317_180636-g9asgopf\\logs</code>"
      ],
      "text/plain": [
       "<IPython.core.display.HTML object>"
      ]
     },
     "metadata": {},
     "output_type": "display_data"
    },
    {
     "name": "stderr",
     "output_type": "stream",
     "text": [
      "\u001b[34m\u001b[1mwandb\u001b[0m: Sweep Agent: Waiting for job.\n",
      "\u001b[34m\u001b[1mwandb\u001b[0m: Job received.\n",
      "\u001b[34m\u001b[1mwandb\u001b[0m: Agent Starting Run: de0cldb8 with config:\n",
      "\u001b[34m\u001b[1mwandb\u001b[0m: \tact_func: sigmoid\n",
      "\u001b[34m\u001b[1mwandb\u001b[0m: \tbatch_size: 64\n",
      "\u001b[34m\u001b[1mwandb\u001b[0m: \tl2_coeff: 0.5\n",
      "\u001b[34m\u001b[1mwandb\u001b[0m: \tloss_func: mse\n",
      "\u001b[34m\u001b[1mwandb\u001b[0m: \tlr: 0.001\n",
      "\u001b[34m\u001b[1mwandb\u001b[0m: \tn_epochs: 10\n",
      "\u001b[34m\u001b[1mwandb\u001b[0m: \tn_hidden: 5\n",
      "\u001b[34m\u001b[1mwandb\u001b[0m: \tn_hidden_units: 128\n",
      "\u001b[34m\u001b[1mwandb\u001b[0m: \toptim_algo: sgdm\n",
      "\u001b[34m\u001b[1mwandb\u001b[0m: \trelu_param: 0.001\n",
      "\u001b[34m\u001b[1mwandb\u001b[0m: \tweight_init: xavier_uniform\n",
      "Failed to detect the name of this notebook, you can set it manually with the WANDB_NOTEBOOK_NAME environment variable to enable code saving.\n"
     ]
    },
    {
     "data": {
      "text/html": [
       "Tracking run with wandb version 0.14.0"
      ],
      "text/plain": [
       "<IPython.core.display.HTML object>"
      ]
     },
     "metadata": {},
     "output_type": "display_data"
    },
    {
     "data": {
      "text/html": [
       "Run data is saved locally in <code>d:\\CS6901\\wandb\\run-20230317_180933-de0cldb8</code>"
      ],
      "text/plain": [
       "<IPython.core.display.HTML object>"
      ]
     },
     "metadata": {},
     "output_type": "display_data"
    },
    {
     "data": {
      "text/html": [
       "Syncing run <strong><a href='https://wandb.ai/viswa_ee/CS6910/runs/de0cldb8' target=\"_blank\">charmed-sweep-52</a></strong> to <a href='https://wandb.ai/viswa_ee/CS6910' target=\"_blank\">Weights & Biases</a> (<a href='https://wandb.me/run' target=\"_blank\">docs</a>)<br/>Sweep page: <a href='https://wandb.ai/viswa_ee/CS6910/sweeps/t38ec2il' target=\"_blank\">https://wandb.ai/viswa_ee/CS6910/sweeps/t38ec2il</a>"
      ],
      "text/plain": [
       "<IPython.core.display.HTML object>"
      ]
     },
     "metadata": {},
     "output_type": "display_data"
    },
    {
     "data": {
      "text/html": [
       " View project at <a href='https://wandb.ai/viswa_ee/CS6910' target=\"_blank\">https://wandb.ai/viswa_ee/CS6910</a>"
      ],
      "text/plain": [
       "<IPython.core.display.HTML object>"
      ]
     },
     "metadata": {},
     "output_type": "display_data"
    },
    {
     "data": {
      "text/html": [
       " View sweep at <a href='https://wandb.ai/viswa_ee/CS6910/sweeps/t38ec2il' target=\"_blank\">https://wandb.ai/viswa_ee/CS6910/sweeps/t38ec2il</a>"
      ],
      "text/plain": [
       "<IPython.core.display.HTML object>"
      ]
     },
     "metadata": {},
     "output_type": "display_data"
    },
    {
     "data": {
      "text/html": [
       " View run at <a href='https://wandb.ai/viswa_ee/CS6910/runs/de0cldb8' target=\"_blank\">https://wandb.ai/viswa_ee/CS6910/runs/de0cldb8</a>"
      ],
      "text/plain": [
       "<IPython.core.display.HTML object>"
      ]
     },
     "metadata": {},
     "output_type": "display_data"
    },
    {
     "data": {
      "text/html": [
       "Waiting for W&B process to finish... <strong style=\"color:green\">(success).</strong>"
      ],
      "text/plain": [
       "<IPython.core.display.HTML object>"
      ]
     },
     "metadata": {},
     "output_type": "display_data"
    },
    {
     "data": {
      "text/html": [
       "<style>\n",
       "    table.wandb td:nth-child(1) { padding: 0 10px; text-align: left ; width: auto;} td:nth-child(2) {text-align: left ; width: 100%}\n",
       "    .wandb-row { display: flex; flex-direction: row; flex-wrap: wrap; justify-content: flex-start; width: 100% }\n",
       "    .wandb-col { display: flex; flex-direction: column; flex-basis: 100%; flex: 1; padding: 10px; }\n",
       "    </style>\n",
       "<div class=\"wandb-row\"><div class=\"wandb-col\"><h3>Run history:</h3><br/><table class=\"wandb\"><tr><td>train_acc</td><td>▁▃▅▆▆▇▇███</td></tr><tr><td>train_loss</td><td>██▇▆▅▆▄▃▂▁</td></tr><tr><td>val_acc</td><td>▁▃▅▆▆▇▇▇██</td></tr><tr><td>val_loss</td><td>█▇▆▅▅▄▃▂▂▁</td></tr></table><br/></div><div class=\"wandb-col\"><h3>Run summary:</h3><br/><table class=\"wandb\"><tr><td>train_acc</td><td>0.59167</td></tr><tr><td>train_loss</td><td>520.90552</td></tr><tr><td>val_acc</td><td>0.58233</td></tr><tr><td>val_loss</td><td>-281.96239</td></tr></table><br/></div></div>"
      ],
      "text/plain": [
       "<IPython.core.display.HTML object>"
      ]
     },
     "metadata": {},
     "output_type": "display_data"
    },
    {
     "data": {
      "text/html": [
       " View run <strong style=\"color:#cdcd00\">charmed-sweep-52</strong> at: <a href='https://wandb.ai/viswa_ee/CS6910/runs/de0cldb8' target=\"_blank\">https://wandb.ai/viswa_ee/CS6910/runs/de0cldb8</a><br/>Synced 4 W&B file(s), 1 media file(s), 0 artifact file(s) and 0 other file(s)"
      ],
      "text/plain": [
       "<IPython.core.display.HTML object>"
      ]
     },
     "metadata": {},
     "output_type": "display_data"
    },
    {
     "data": {
      "text/html": [
       "Find logs at: <code>.\\wandb\\run-20230317_180933-de0cldb8\\logs</code>"
      ],
      "text/plain": [
       "<IPython.core.display.HTML object>"
      ]
     },
     "metadata": {},
     "output_type": "display_data"
    },
    {
     "name": "stderr",
     "output_type": "stream",
     "text": [
      "\u001b[34m\u001b[1mwandb\u001b[0m: Agent Starting Run: wg5740l6 with config:\n",
      "\u001b[34m\u001b[1mwandb\u001b[0m: \tact_func: sigmoid\n",
      "\u001b[34m\u001b[1mwandb\u001b[0m: \tbatch_size: 64\n",
      "\u001b[34m\u001b[1mwandb\u001b[0m: \tl2_coeff: 0.0005\n",
      "\u001b[34m\u001b[1mwandb\u001b[0m: \tloss_func: mse\n",
      "\u001b[34m\u001b[1mwandb\u001b[0m: \tlr: 0.001\n",
      "\u001b[34m\u001b[1mwandb\u001b[0m: \tn_epochs: 10\n",
      "\u001b[34m\u001b[1mwandb\u001b[0m: \tn_hidden: 5\n",
      "\u001b[34m\u001b[1mwandb\u001b[0m: \tn_hidden_units: 128\n",
      "\u001b[34m\u001b[1mwandb\u001b[0m: \toptim_algo: nadam\n",
      "\u001b[34m\u001b[1mwandb\u001b[0m: \trelu_param: 0.1\n",
      "\u001b[34m\u001b[1mwandb\u001b[0m: \tweight_init: random\n",
      "Failed to detect the name of this notebook, you can set it manually with the WANDB_NOTEBOOK_NAME environment variable to enable code saving.\n"
     ]
    },
    {
     "data": {
      "text/html": [
       "Tracking run with wandb version 0.14.0"
      ],
      "text/plain": [
       "<IPython.core.display.HTML object>"
      ]
     },
     "metadata": {},
     "output_type": "display_data"
    },
    {
     "data": {
      "text/html": [
       "Run data is saved locally in <code>d:\\CS6901\\wandb\\run-20230317_181110-wg5740l6</code>"
      ],
      "text/plain": [
       "<IPython.core.display.HTML object>"
      ]
     },
     "metadata": {},
     "output_type": "display_data"
    },
    {
     "data": {
      "text/html": [
       "Syncing run <strong><a href='https://wandb.ai/viswa_ee/CS6910/runs/wg5740l6' target=\"_blank\">graceful-sweep-53</a></strong> to <a href='https://wandb.ai/viswa_ee/CS6910' target=\"_blank\">Weights & Biases</a> (<a href='https://wandb.me/run' target=\"_blank\">docs</a>)<br/>Sweep page: <a href='https://wandb.ai/viswa_ee/CS6910/sweeps/t38ec2il' target=\"_blank\">https://wandb.ai/viswa_ee/CS6910/sweeps/t38ec2il</a>"
      ],
      "text/plain": [
       "<IPython.core.display.HTML object>"
      ]
     },
     "metadata": {},
     "output_type": "display_data"
    },
    {
     "data": {
      "text/html": [
       " View project at <a href='https://wandb.ai/viswa_ee/CS6910' target=\"_blank\">https://wandb.ai/viswa_ee/CS6910</a>"
      ],
      "text/plain": [
       "<IPython.core.display.HTML object>"
      ]
     },
     "metadata": {},
     "output_type": "display_data"
    },
    {
     "data": {
      "text/html": [
       " View sweep at <a href='https://wandb.ai/viswa_ee/CS6910/sweeps/t38ec2il' target=\"_blank\">https://wandb.ai/viswa_ee/CS6910/sweeps/t38ec2il</a>"
      ],
      "text/plain": [
       "<IPython.core.display.HTML object>"
      ]
     },
     "metadata": {},
     "output_type": "display_data"
    },
    {
     "data": {
      "text/html": [
       " View run at <a href='https://wandb.ai/viswa_ee/CS6910/runs/wg5740l6' target=\"_blank\">https://wandb.ai/viswa_ee/CS6910/runs/wg5740l6</a>"
      ],
      "text/plain": [
       "<IPython.core.display.HTML object>"
      ]
     },
     "metadata": {},
     "output_type": "display_data"
    },
    {
     "data": {
      "text/html": [
       "Waiting for W&B process to finish... <strong style=\"color:green\">(success).</strong>"
      ],
      "text/plain": [
       "<IPython.core.display.HTML object>"
      ]
     },
     "metadata": {},
     "output_type": "display_data"
    },
    {
     "data": {
      "text/html": [
       "<style>\n",
       "    table.wandb td:nth-child(1) { padding: 0 10px; text-align: left ; width: auto;} td:nth-child(2) {text-align: left ; width: 100%}\n",
       "    .wandb-row { display: flex; flex-direction: row; flex-wrap: wrap; justify-content: flex-start; width: 100% }\n",
       "    .wandb-col { display: flex; flex-direction: column; flex-basis: 100%; flex: 1; padding: 10px; }\n",
       "    </style>\n",
       "<div class=\"wandb-row\"><div class=\"wandb-col\"><h3>Run history:</h3><br/><table class=\"wandb\"><tr><td>train_acc</td><td>▁▃▄▅▆▆▇█▇█</td></tr><tr><td>train_loss</td><td>█▇▆▄▄▃▄▃▁▁</td></tr><tr><td>val_acc</td><td>▁▄▅▆▇▇██▇█</td></tr><tr><td>val_loss</td><td>█▇▆▅▄▄▃▃▁▁</td></tr></table><br/></div><div class=\"wandb-col\"><h3>Run summary:</h3><br/><table class=\"wandb\"><tr><td>train_acc</td><td>0.88867</td></tr><tr><td>train_loss</td><td>-1010.7926</td></tr><tr><td>val_acc</td><td>0.85467</td></tr><tr><td>val_loss</td><td>-972.8835</td></tr></table><br/></div></div>"
      ],
      "text/plain": [
       "<IPython.core.display.HTML object>"
      ]
     },
     "metadata": {},
     "output_type": "display_data"
    },
    {
     "data": {
      "text/html": [
       " View run <strong style=\"color:#cdcd00\">graceful-sweep-53</strong> at: <a href='https://wandb.ai/viswa_ee/CS6910/runs/wg5740l6' target=\"_blank\">https://wandb.ai/viswa_ee/CS6910/runs/wg5740l6</a><br/>Synced 4 W&B file(s), 1 media file(s), 0 artifact file(s) and 0 other file(s)"
      ],
      "text/plain": [
       "<IPython.core.display.HTML object>"
      ]
     },
     "metadata": {},
     "output_type": "display_data"
    },
    {
     "data": {
      "text/html": [
       "Find logs at: <code>.\\wandb\\run-20230317_181110-wg5740l6\\logs</code>"
      ],
      "text/plain": [
       "<IPython.core.display.HTML object>"
      ]
     },
     "metadata": {},
     "output_type": "display_data"
    },
    {
     "name": "stderr",
     "output_type": "stream",
     "text": [
      "\u001b[34m\u001b[1mwandb\u001b[0m: Agent Starting Run: ho7y5gti with config:\n",
      "\u001b[34m\u001b[1mwandb\u001b[0m: \tact_func: relu\n",
      "\u001b[34m\u001b[1mwandb\u001b[0m: \tbatch_size: 64\n",
      "\u001b[34m\u001b[1mwandb\u001b[0m: \tl2_coeff: 0.0005\n",
      "\u001b[34m\u001b[1mwandb\u001b[0m: \tloss_func: mse\n",
      "\u001b[34m\u001b[1mwandb\u001b[0m: \tlr: 0.001\n",
      "\u001b[34m\u001b[1mwandb\u001b[0m: \tn_epochs: 10\n",
      "\u001b[34m\u001b[1mwandb\u001b[0m: \tn_hidden: 5\n",
      "\u001b[34m\u001b[1mwandb\u001b[0m: \tn_hidden_units: 128\n",
      "\u001b[34m\u001b[1mwandb\u001b[0m: \toptim_algo: nadam\n",
      "\u001b[34m\u001b[1mwandb\u001b[0m: \trelu_param: 0.1\n",
      "\u001b[34m\u001b[1mwandb\u001b[0m: \tweight_init: random\n",
      "Failed to detect the name of this notebook, you can set it manually with the WANDB_NOTEBOOK_NAME environment variable to enable code saving.\n"
     ]
    },
    {
     "data": {
      "text/html": [
       "Tracking run with wandb version 0.14.0"
      ],
      "text/plain": [
       "<IPython.core.display.HTML object>"
      ]
     },
     "metadata": {},
     "output_type": "display_data"
    },
    {
     "data": {
      "text/html": [
       "Run data is saved locally in <code>d:\\CS6901\\wandb\\run-20230317_181259-ho7y5gti</code>"
      ],
      "text/plain": [
       "<IPython.core.display.HTML object>"
      ]
     },
     "metadata": {},
     "output_type": "display_data"
    },
    {
     "data": {
      "text/html": [
       "Syncing run <strong><a href='https://wandb.ai/viswa_ee/CS6910/runs/ho7y5gti' target=\"_blank\">quiet-sweep-54</a></strong> to <a href='https://wandb.ai/viswa_ee/CS6910' target=\"_blank\">Weights & Biases</a> (<a href='https://wandb.me/run' target=\"_blank\">docs</a>)<br/>Sweep page: <a href='https://wandb.ai/viswa_ee/CS6910/sweeps/t38ec2il' target=\"_blank\">https://wandb.ai/viswa_ee/CS6910/sweeps/t38ec2il</a>"
      ],
      "text/plain": [
       "<IPython.core.display.HTML object>"
      ]
     },
     "metadata": {},
     "output_type": "display_data"
    },
    {
     "data": {
      "text/html": [
       " View project at <a href='https://wandb.ai/viswa_ee/CS6910' target=\"_blank\">https://wandb.ai/viswa_ee/CS6910</a>"
      ],
      "text/plain": [
       "<IPython.core.display.HTML object>"
      ]
     },
     "metadata": {},
     "output_type": "display_data"
    },
    {
     "data": {
      "text/html": [
       " View sweep at <a href='https://wandb.ai/viswa_ee/CS6910/sweeps/t38ec2il' target=\"_blank\">https://wandb.ai/viswa_ee/CS6910/sweeps/t38ec2il</a>"
      ],
      "text/plain": [
       "<IPython.core.display.HTML object>"
      ]
     },
     "metadata": {},
     "output_type": "display_data"
    },
    {
     "data": {
      "text/html": [
       " View run at <a href='https://wandb.ai/viswa_ee/CS6910/runs/ho7y5gti' target=\"_blank\">https://wandb.ai/viswa_ee/CS6910/runs/ho7y5gti</a>"
      ],
      "text/plain": [
       "<IPython.core.display.HTML object>"
      ]
     },
     "metadata": {},
     "output_type": "display_data"
    },
    {
     "data": {
      "text/html": [
       "Waiting for W&B process to finish... <strong style=\"color:green\">(success).</strong>"
      ],
      "text/plain": [
       "<IPython.core.display.HTML object>"
      ]
     },
     "metadata": {},
     "output_type": "display_data"
    },
    {
     "data": {
      "text/html": [
       "<style>\n",
       "    table.wandb td:nth-child(1) { padding: 0 10px; text-align: left ; width: auto;} td:nth-child(2) {text-align: left ; width: 100%}\n",
       "    .wandb-row { display: flex; flex-direction: row; flex-wrap: wrap; justify-content: flex-start; width: 100% }\n",
       "    .wandb-col { display: flex; flex-direction: column; flex-basis: 100%; flex: 1; padding: 10px; }\n",
       "    </style>\n",
       "<div class=\"wandb-row\"><div class=\"wandb-col\"><h3>Run history:</h3><br/><table class=\"wandb\"><tr><td>train_acc</td><td>▁▃▅▅▆▅▆▆▇█</td></tr><tr><td>train_loss</td><td>█▇▃▄▆▅▃▄▁▁</td></tr><tr><td>val_acc</td><td>▁▃▅▅▆▅▆▆▇█</td></tr><tr><td>val_loss</td><td>█▅▄▄▅▄▄▃▃▁</td></tr></table><br/></div><div class=\"wandb-col\"><h3>Run summary:</h3><br/><table class=\"wandb\"><tr><td>train_acc</td><td>0.70028</td></tr><tr><td>train_loss</td><td>-16341673.89544</td></tr><tr><td>val_acc</td><td>0.69</td></tr><tr><td>val_loss</td><td>-16449543.94799</td></tr></table><br/></div></div>"
      ],
      "text/plain": [
       "<IPython.core.display.HTML object>"
      ]
     },
     "metadata": {},
     "output_type": "display_data"
    },
    {
     "data": {
      "text/html": [
       " View run <strong style=\"color:#cdcd00\">quiet-sweep-54</strong> at: <a href='https://wandb.ai/viswa_ee/CS6910/runs/ho7y5gti' target=\"_blank\">https://wandb.ai/viswa_ee/CS6910/runs/ho7y5gti</a><br/>Synced 4 W&B file(s), 1 media file(s), 0 artifact file(s) and 0 other file(s)"
      ],
      "text/plain": [
       "<IPython.core.display.HTML object>"
      ]
     },
     "metadata": {},
     "output_type": "display_data"
    },
    {
     "data": {
      "text/html": [
       "Find logs at: <code>.\\wandb\\run-20230317_181259-ho7y5gti\\logs</code>"
      ],
      "text/plain": [
       "<IPython.core.display.HTML object>"
      ]
     },
     "metadata": {},
     "output_type": "display_data"
    },
    {
     "name": "stderr",
     "output_type": "stream",
     "text": [
      "\u001b[34m\u001b[1mwandb\u001b[0m: Agent Starting Run: 7gzjapyo with config:\n",
      "\u001b[34m\u001b[1mwandb\u001b[0m: \tact_func: tanh\n",
      "\u001b[34m\u001b[1mwandb\u001b[0m: \tbatch_size: 32\n",
      "\u001b[34m\u001b[1mwandb\u001b[0m: \tl2_coeff: 0.5\n",
      "\u001b[34m\u001b[1mwandb\u001b[0m: \tloss_func: cross_ent\n",
      "\u001b[34m\u001b[1mwandb\u001b[0m: \tlr: 0.001\n",
      "\u001b[34m\u001b[1mwandb\u001b[0m: \tn_epochs: 5\n",
      "\u001b[34m\u001b[1mwandb\u001b[0m: \tn_hidden: 5\n",
      "\u001b[34m\u001b[1mwandb\u001b[0m: \tn_hidden_units: 128\n",
      "\u001b[34m\u001b[1mwandb\u001b[0m: \toptim_algo: adam\n",
      "\u001b[34m\u001b[1mwandb\u001b[0m: \trelu_param: 0.001\n",
      "\u001b[34m\u001b[1mwandb\u001b[0m: \tweight_init: xavier_uniform\n",
      "Failed to detect the name of this notebook, you can set it manually with the WANDB_NOTEBOOK_NAME environment variable to enable code saving.\n"
     ]
    },
    {
     "data": {
      "text/html": [
       "Tracking run with wandb version 0.14.0"
      ],
      "text/plain": [
       "<IPython.core.display.HTML object>"
      ]
     },
     "metadata": {},
     "output_type": "display_data"
    },
    {
     "data": {
      "text/html": [
       "Run data is saved locally in <code>d:\\CS6901\\wandb\\run-20230317_181437-7gzjapyo</code>"
      ],
      "text/plain": [
       "<IPython.core.display.HTML object>"
      ]
     },
     "metadata": {},
     "output_type": "display_data"
    },
    {
     "data": {
      "text/html": [
       "Syncing run <strong><a href='https://wandb.ai/viswa_ee/CS6910/runs/7gzjapyo' target=\"_blank\">silver-sweep-55</a></strong> to <a href='https://wandb.ai/viswa_ee/CS6910' target=\"_blank\">Weights & Biases</a> (<a href='https://wandb.me/run' target=\"_blank\">docs</a>)<br/>Sweep page: <a href='https://wandb.ai/viswa_ee/CS6910/sweeps/t38ec2il' target=\"_blank\">https://wandb.ai/viswa_ee/CS6910/sweeps/t38ec2il</a>"
      ],
      "text/plain": [
       "<IPython.core.display.HTML object>"
      ]
     },
     "metadata": {},
     "output_type": "display_data"
    },
    {
     "data": {
      "text/html": [
       " View project at <a href='https://wandb.ai/viswa_ee/CS6910' target=\"_blank\">https://wandb.ai/viswa_ee/CS6910</a>"
      ],
      "text/plain": [
       "<IPython.core.display.HTML object>"
      ]
     },
     "metadata": {},
     "output_type": "display_data"
    },
    {
     "data": {
      "text/html": [
       " View sweep at <a href='https://wandb.ai/viswa_ee/CS6910/sweeps/t38ec2il' target=\"_blank\">https://wandb.ai/viswa_ee/CS6910/sweeps/t38ec2il</a>"
      ],
      "text/plain": [
       "<IPython.core.display.HTML object>"
      ]
     },
     "metadata": {},
     "output_type": "display_data"
    },
    {
     "data": {
      "text/html": [
       " View run at <a href='https://wandb.ai/viswa_ee/CS6910/runs/7gzjapyo' target=\"_blank\">https://wandb.ai/viswa_ee/CS6910/runs/7gzjapyo</a>"
      ],
      "text/plain": [
       "<IPython.core.display.HTML object>"
      ]
     },
     "metadata": {},
     "output_type": "display_data"
    },
    {
     "data": {
      "text/html": [
       "Waiting for W&B process to finish... <strong style=\"color:green\">(success).</strong>"
      ],
      "text/plain": [
       "<IPython.core.display.HTML object>"
      ]
     },
     "metadata": {},
     "output_type": "display_data"
    },
    {
     "data": {
      "text/html": [
       "<style>\n",
       "    table.wandb td:nth-child(1) { padding: 0 10px; text-align: left ; width: auto;} td:nth-child(2) {text-align: left ; width: 100%}\n",
       "    .wandb-row { display: flex; flex-direction: row; flex-wrap: wrap; justify-content: flex-start; width: 100% }\n",
       "    .wandb-col { display: flex; flex-direction: column; flex-basis: 100%; flex: 1; padding: 10px; }\n",
       "    </style>\n",
       "<div class=\"wandb-row\"><div class=\"wandb-col\"><h3>Run history:</h3><br/><table class=\"wandb\"><tr><td>train_acc</td><td>▁▄▇██</td></tr><tr><td>train_loss</td><td>█▆▃▂▁</td></tr><tr><td>val_acc</td><td>▁▄▆██</td></tr><tr><td>val_loss</td><td>█▄▃▂▁</td></tr></table><br/></div><div class=\"wandb-col\"><h3>Run summary:</h3><br/><table class=\"wandb\"><tr><td>train_acc</td><td>0.74513</td></tr><tr><td>train_loss</td><td>33.68407</td></tr><tr><td>val_acc</td><td>0.73733</td></tr><tr><td>val_loss</td><td>0.74724</td></tr></table><br/></div></div>"
      ],
      "text/plain": [
       "<IPython.core.display.HTML object>"
      ]
     },
     "metadata": {},
     "output_type": "display_data"
    },
    {
     "data": {
      "text/html": [
       " View run <strong style=\"color:#cdcd00\">silver-sweep-55</strong> at: <a href='https://wandb.ai/viswa_ee/CS6910/runs/7gzjapyo' target=\"_blank\">https://wandb.ai/viswa_ee/CS6910/runs/7gzjapyo</a><br/>Synced 4 W&B file(s), 1 media file(s), 0 artifact file(s) and 0 other file(s)"
      ],
      "text/plain": [
       "<IPython.core.display.HTML object>"
      ]
     },
     "metadata": {},
     "output_type": "display_data"
    },
    {
     "data": {
      "text/html": [
       "Find logs at: <code>.\\wandb\\run-20230317_181437-7gzjapyo\\logs</code>"
      ],
      "text/plain": [
       "<IPython.core.display.HTML object>"
      ]
     },
     "metadata": {},
     "output_type": "display_data"
    },
    {
     "name": "stderr",
     "output_type": "stream",
     "text": [
      "\u001b[34m\u001b[1mwandb\u001b[0m: Sweep Agent: Waiting for job.\n",
      "\u001b[34m\u001b[1mwandb\u001b[0m: Job received.\n",
      "\u001b[34m\u001b[1mwandb\u001b[0m: Agent Starting Run: 7tmgie71 with config:\n",
      "\u001b[34m\u001b[1mwandb\u001b[0m: \tact_func: sigmoid\n",
      "\u001b[34m\u001b[1mwandb\u001b[0m: \tbatch_size: 16\n",
      "\u001b[34m\u001b[1mwandb\u001b[0m: \tl2_coeff: 0.5\n",
      "\u001b[34m\u001b[1mwandb\u001b[0m: \tloss_func: mse\n",
      "\u001b[34m\u001b[1mwandb\u001b[0m: \tlr: 0.001\n",
      "\u001b[34m\u001b[1mwandb\u001b[0m: \tn_epochs: 5\n",
      "\u001b[34m\u001b[1mwandb\u001b[0m: \tn_hidden: 5\n",
      "\u001b[34m\u001b[1mwandb\u001b[0m: \tn_hidden_units: 128\n",
      "\u001b[34m\u001b[1mwandb\u001b[0m: \toptim_algo: adam\n",
      "\u001b[34m\u001b[1mwandb\u001b[0m: \trelu_param: 0.1\n",
      "\u001b[34m\u001b[1mwandb\u001b[0m: \tweight_init: xavier_uniform\n",
      "Failed to detect the name of this notebook, you can set it manually with the WANDB_NOTEBOOK_NAME environment variable to enable code saving.\n"
     ]
    },
    {
     "data": {
      "text/html": [
       "Tracking run with wandb version 0.14.0"
      ],
      "text/plain": [
       "<IPython.core.display.HTML object>"
      ]
     },
     "metadata": {},
     "output_type": "display_data"
    },
    {
     "data": {
      "text/html": [
       "Run data is saved locally in <code>d:\\CS6901\\wandb\\run-20230317_181625-7tmgie71</code>"
      ],
      "text/plain": [
       "<IPython.core.display.HTML object>"
      ]
     },
     "metadata": {},
     "output_type": "display_data"
    },
    {
     "data": {
      "text/html": [
       "Syncing run <strong><a href='https://wandb.ai/viswa_ee/CS6910/runs/7tmgie71' target=\"_blank\">eternal-sweep-56</a></strong> to <a href='https://wandb.ai/viswa_ee/CS6910' target=\"_blank\">Weights & Biases</a> (<a href='https://wandb.me/run' target=\"_blank\">docs</a>)<br/>Sweep page: <a href='https://wandb.ai/viswa_ee/CS6910/sweeps/t38ec2il' target=\"_blank\">https://wandb.ai/viswa_ee/CS6910/sweeps/t38ec2il</a>"
      ],
      "text/plain": [
       "<IPython.core.display.HTML object>"
      ]
     },
     "metadata": {},
     "output_type": "display_data"
    },
    {
     "data": {
      "text/html": [
       " View project at <a href='https://wandb.ai/viswa_ee/CS6910' target=\"_blank\">https://wandb.ai/viswa_ee/CS6910</a>"
      ],
      "text/plain": [
       "<IPython.core.display.HTML object>"
      ]
     },
     "metadata": {},
     "output_type": "display_data"
    },
    {
     "data": {
      "text/html": [
       " View sweep at <a href='https://wandb.ai/viswa_ee/CS6910/sweeps/t38ec2il' target=\"_blank\">https://wandb.ai/viswa_ee/CS6910/sweeps/t38ec2il</a>"
      ],
      "text/plain": [
       "<IPython.core.display.HTML object>"
      ]
     },
     "metadata": {},
     "output_type": "display_data"
    },
    {
     "data": {
      "text/html": [
       " View run at <a href='https://wandb.ai/viswa_ee/CS6910/runs/7tmgie71' target=\"_blank\">https://wandb.ai/viswa_ee/CS6910/runs/7tmgie71</a>"
      ],
      "text/plain": [
       "<IPython.core.display.HTML object>"
      ]
     },
     "metadata": {},
     "output_type": "display_data"
    },
    {
     "data": {
      "text/html": [
       "Waiting for W&B process to finish... <strong style=\"color:green\">(success).</strong>"
      ],
      "text/plain": [
       "<IPython.core.display.HTML object>"
      ]
     },
     "metadata": {},
     "output_type": "display_data"
    },
    {
     "data": {
      "text/html": [
       "<style>\n",
       "    table.wandb td:nth-child(1) { padding: 0 10px; text-align: left ; width: auto;} td:nth-child(2) {text-align: left ; width: 100%}\n",
       "    .wandb-row { display: flex; flex-direction: row; flex-wrap: wrap; justify-content: flex-start; width: 100% }\n",
       "    .wandb-col { display: flex; flex-direction: column; flex-basis: 100%; flex: 1; padding: 10px; }\n",
       "    </style>\n",
       "<div class=\"wandb-row\"><div class=\"wandb-col\"><h3>Run history:</h3><br/><table class=\"wandb\"><tr><td>train_acc</td><td>█▅▁▆▆</td></tr><tr><td>train_loss</td><td>▆█▇▄▁</td></tr><tr><td>val_acc</td><td>█▅▁▆▆</td></tr><tr><td>val_loss</td><td>█▅▁▂▂</td></tr></table><br/></div><div class=\"wandb-col\"><h3>Run summary:</h3><br/><table class=\"wandb\"><tr><td>train_acc</td><td>0.64765</td></tr><tr><td>train_loss</td><td>-261.30083</td></tr><tr><td>val_acc</td><td>0.64817</td></tr><tr><td>val_loss</td><td>-251.68351</td></tr></table><br/></div></div>"
      ],
      "text/plain": [
       "<IPython.core.display.HTML object>"
      ]
     },
     "metadata": {},
     "output_type": "display_data"
    },
    {
     "data": {
      "text/html": [
       " View run <strong style=\"color:#cdcd00\">eternal-sweep-56</strong> at: <a href='https://wandb.ai/viswa_ee/CS6910/runs/7tmgie71' target=\"_blank\">https://wandb.ai/viswa_ee/CS6910/runs/7tmgie71</a><br/>Synced 4 W&B file(s), 1 media file(s), 0 artifact file(s) and 0 other file(s)"
      ],
      "text/plain": [
       "<IPython.core.display.HTML object>"
      ]
     },
     "metadata": {},
     "output_type": "display_data"
    },
    {
     "data": {
      "text/html": [
       "Find logs at: <code>.\\wandb\\run-20230317_181625-7tmgie71\\logs</code>"
      ],
      "text/plain": [
       "<IPython.core.display.HTML object>"
      ]
     },
     "metadata": {},
     "output_type": "display_data"
    },
    {
     "name": "stderr",
     "output_type": "stream",
     "text": [
      "\u001b[34m\u001b[1mwandb\u001b[0m: Agent Starting Run: zgejuezo with config:\n",
      "\u001b[34m\u001b[1mwandb\u001b[0m: \tact_func: sigmoid\n",
      "\u001b[34m\u001b[1mwandb\u001b[0m: \tbatch_size: 64\n",
      "\u001b[34m\u001b[1mwandb\u001b[0m: \tl2_coeff: 0.0005\n",
      "\u001b[34m\u001b[1mwandb\u001b[0m: \tloss_func: mse\n",
      "\u001b[34m\u001b[1mwandb\u001b[0m: \tlr: 0.001\n",
      "\u001b[34m\u001b[1mwandb\u001b[0m: \tn_epochs: 10\n",
      "\u001b[34m\u001b[1mwandb\u001b[0m: \tn_hidden: 5\n",
      "\u001b[34m\u001b[1mwandb\u001b[0m: \tn_hidden_units: 128\n",
      "\u001b[34m\u001b[1mwandb\u001b[0m: \toptim_algo: nadam\n",
      "\u001b[34m\u001b[1mwandb\u001b[0m: \trelu_param: 0.001\n",
      "\u001b[34m\u001b[1mwandb\u001b[0m: \tweight_init: random\n",
      "Failed to detect the name of this notebook, you can set it manually with the WANDB_NOTEBOOK_NAME environment variable to enable code saving.\n"
     ]
    },
    {
     "data": {
      "text/html": [
       "Tracking run with wandb version 0.14.0"
      ],
      "text/plain": [
       "<IPython.core.display.HTML object>"
      ]
     },
     "metadata": {},
     "output_type": "display_data"
    },
    {
     "data": {
      "text/html": [
       "Run data is saved locally in <code>d:\\CS6901\\wandb\\run-20230317_181804-zgejuezo</code>"
      ],
      "text/plain": [
       "<IPython.core.display.HTML object>"
      ]
     },
     "metadata": {},
     "output_type": "display_data"
    },
    {
     "data": {
      "text/html": [
       "Syncing run <strong><a href='https://wandb.ai/viswa_ee/CS6910/runs/zgejuezo' target=\"_blank\">absurd-sweep-57</a></strong> to <a href='https://wandb.ai/viswa_ee/CS6910' target=\"_blank\">Weights & Biases</a> (<a href='https://wandb.me/run' target=\"_blank\">docs</a>)<br/>Sweep page: <a href='https://wandb.ai/viswa_ee/CS6910/sweeps/t38ec2il' target=\"_blank\">https://wandb.ai/viswa_ee/CS6910/sweeps/t38ec2il</a>"
      ],
      "text/plain": [
       "<IPython.core.display.HTML object>"
      ]
     },
     "metadata": {},
     "output_type": "display_data"
    },
    {
     "data": {
      "text/html": [
       " View project at <a href='https://wandb.ai/viswa_ee/CS6910' target=\"_blank\">https://wandb.ai/viswa_ee/CS6910</a>"
      ],
      "text/plain": [
       "<IPython.core.display.HTML object>"
      ]
     },
     "metadata": {},
     "output_type": "display_data"
    },
    {
     "data": {
      "text/html": [
       " View sweep at <a href='https://wandb.ai/viswa_ee/CS6910/sweeps/t38ec2il' target=\"_blank\">https://wandb.ai/viswa_ee/CS6910/sweeps/t38ec2il</a>"
      ],
      "text/plain": [
       "<IPython.core.display.HTML object>"
      ]
     },
     "metadata": {},
     "output_type": "display_data"
    },
    {
     "data": {
      "text/html": [
       " View run at <a href='https://wandb.ai/viswa_ee/CS6910/runs/zgejuezo' target=\"_blank\">https://wandb.ai/viswa_ee/CS6910/runs/zgejuezo</a>"
      ],
      "text/plain": [
       "<IPython.core.display.HTML object>"
      ]
     },
     "metadata": {},
     "output_type": "display_data"
    },
    {
     "data": {
      "text/html": [
       "Waiting for W&B process to finish... <strong style=\"color:green\">(success).</strong>"
      ],
      "text/plain": [
       "<IPython.core.display.HTML object>"
      ]
     },
     "metadata": {},
     "output_type": "display_data"
    },
    {
     "data": {
      "text/html": [
       "<style>\n",
       "    table.wandb td:nth-child(1) { padding: 0 10px; text-align: left ; width: auto;} td:nth-child(2) {text-align: left ; width: 100%}\n",
       "    .wandb-row { display: flex; flex-direction: row; flex-wrap: wrap; justify-content: flex-start; width: 100% }\n",
       "    .wandb-col { display: flex; flex-direction: column; flex-basis: 100%; flex: 1; padding: 10px; }\n",
       "    </style>\n",
       "<div class=\"wandb-row\"><div class=\"wandb-col\"><h3>Run history:</h3><br/><table class=\"wandb\"><tr><td>train_acc</td><td>▁▃▄▅▆▆▇███</td></tr><tr><td>train_loss</td><td>█▇▆▅▃▄▂▁▂▁</td></tr><tr><td>val_acc</td><td>▁▃▅▆▆▆▇▇▇█</td></tr><tr><td>val_loss</td><td>█▇▆▅▄▄▃▂▁▁</td></tr></table><br/></div><div class=\"wandb-col\"><h3>Run summary:</h3><br/><table class=\"wandb\"><tr><td>train_acc</td><td>0.88746</td></tr><tr><td>train_loss</td><td>-905.06477</td></tr><tr><td>val_acc</td><td>0.85183</td></tr><tr><td>val_loss</td><td>-891.71497</td></tr></table><br/></div></div>"
      ],
      "text/plain": [
       "<IPython.core.display.HTML object>"
      ]
     },
     "metadata": {},
     "output_type": "display_data"
    },
    {
     "data": {
      "text/html": [
       " View run <strong style=\"color:#cdcd00\">absurd-sweep-57</strong> at: <a href='https://wandb.ai/viswa_ee/CS6910/runs/zgejuezo' target=\"_blank\">https://wandb.ai/viswa_ee/CS6910/runs/zgejuezo</a><br/>Synced 4 W&B file(s), 1 media file(s), 0 artifact file(s) and 0 other file(s)"
      ],
      "text/plain": [
       "<IPython.core.display.HTML object>"
      ]
     },
     "metadata": {},
     "output_type": "display_data"
    },
    {
     "data": {
      "text/html": [
       "Find logs at: <code>.\\wandb\\run-20230317_181804-zgejuezo\\logs</code>"
      ],
      "text/plain": [
       "<IPython.core.display.HTML object>"
      ]
     },
     "metadata": {},
     "output_type": "display_data"
    },
    {
     "name": "stderr",
     "output_type": "stream",
     "text": [
      "\u001b[34m\u001b[1mwandb\u001b[0m: Sweep Agent: Waiting for job.\n",
      "\u001b[34m\u001b[1mwandb\u001b[0m: Job received.\n",
      "\u001b[34m\u001b[1mwandb\u001b[0m: Agent Starting Run: qp8z3xpc with config:\n",
      "\u001b[34m\u001b[1mwandb\u001b[0m: \tact_func: relu\n",
      "\u001b[34m\u001b[1mwandb\u001b[0m: \tbatch_size: 64\n",
      "\u001b[34m\u001b[1mwandb\u001b[0m: \tl2_coeff: 0.0005\n",
      "\u001b[34m\u001b[1mwandb\u001b[0m: \tloss_func: mse\n",
      "\u001b[34m\u001b[1mwandb\u001b[0m: \tlr: 0.001\n",
      "\u001b[34m\u001b[1mwandb\u001b[0m: \tn_epochs: 10\n",
      "\u001b[34m\u001b[1mwandb\u001b[0m: \tn_hidden: 5\n",
      "\u001b[34m\u001b[1mwandb\u001b[0m: \tn_hidden_units: 128\n",
      "\u001b[34m\u001b[1mwandb\u001b[0m: \toptim_algo: nadam\n",
      "\u001b[34m\u001b[1mwandb\u001b[0m: \trelu_param: 0.001\n",
      "\u001b[34m\u001b[1mwandb\u001b[0m: \tweight_init: xavier_uniform\n",
      "Failed to detect the name of this notebook, you can set it manually with the WANDB_NOTEBOOK_NAME environment variable to enable code saving.\n"
     ]
    },
    {
     "data": {
      "text/html": [
       "Tracking run with wandb version 0.14.0"
      ],
      "text/plain": [
       "<IPython.core.display.HTML object>"
      ]
     },
     "metadata": {},
     "output_type": "display_data"
    },
    {
     "data": {
      "text/html": [
       "Run data is saved locally in <code>d:\\CS6901\\wandb\\run-20230317_182003-qp8z3xpc</code>"
      ],
      "text/plain": [
       "<IPython.core.display.HTML object>"
      ]
     },
     "metadata": {},
     "output_type": "display_data"
    },
    {
     "data": {
      "text/html": [
       "Syncing run <strong><a href='https://wandb.ai/viswa_ee/CS6910/runs/qp8z3xpc' target=\"_blank\">crimson-sweep-58</a></strong> to <a href='https://wandb.ai/viswa_ee/CS6910' target=\"_blank\">Weights & Biases</a> (<a href='https://wandb.me/run' target=\"_blank\">docs</a>)<br/>Sweep page: <a href='https://wandb.ai/viswa_ee/CS6910/sweeps/t38ec2il' target=\"_blank\">https://wandb.ai/viswa_ee/CS6910/sweeps/t38ec2il</a>"
      ],
      "text/plain": [
       "<IPython.core.display.HTML object>"
      ]
     },
     "metadata": {},
     "output_type": "display_data"
    },
    {
     "data": {
      "text/html": [
       " View project at <a href='https://wandb.ai/viswa_ee/CS6910' target=\"_blank\">https://wandb.ai/viswa_ee/CS6910</a>"
      ],
      "text/plain": [
       "<IPython.core.display.HTML object>"
      ]
     },
     "metadata": {},
     "output_type": "display_data"
    },
    {
     "data": {
      "text/html": [
       " View sweep at <a href='https://wandb.ai/viswa_ee/CS6910/sweeps/t38ec2il' target=\"_blank\">https://wandb.ai/viswa_ee/CS6910/sweeps/t38ec2il</a>"
      ],
      "text/plain": [
       "<IPython.core.display.HTML object>"
      ]
     },
     "metadata": {},
     "output_type": "display_data"
    },
    {
     "data": {
      "text/html": [
       " View run at <a href='https://wandb.ai/viswa_ee/CS6910/runs/qp8z3xpc' target=\"_blank\">https://wandb.ai/viswa_ee/CS6910/runs/qp8z3xpc</a>"
      ],
      "text/plain": [
       "<IPython.core.display.HTML object>"
      ]
     },
     "metadata": {},
     "output_type": "display_data"
    },
    {
     "data": {
      "text/html": [
       "Waiting for W&B process to finish... <strong style=\"color:green\">(success).</strong>"
      ],
      "text/plain": [
       "<IPython.core.display.HTML object>"
      ]
     },
     "metadata": {},
     "output_type": "display_data"
    },
    {
     "data": {
      "text/html": [
       "<style>\n",
       "    table.wandb td:nth-child(1) { padding: 0 10px; text-align: left ; width: auto;} td:nth-child(2) {text-align: left ; width: 100%}\n",
       "    .wandb-row { display: flex; flex-direction: row; flex-wrap: wrap; justify-content: flex-start; width: 100% }\n",
       "    .wandb-col { display: flex; flex-direction: column; flex-basis: 100%; flex: 1; padding: 10px; }\n",
       "    </style>\n",
       "<div class=\"wandb-row\"><div class=\"wandb-col\"><h3>Run history:</h3><br/><table class=\"wandb\"><tr><td>train_acc</td><td>▁▅▅▆▆▇▇███</td></tr><tr><td>train_loss</td><td>█▄▄▃▂▃▂▃▃▁</td></tr><tr><td>val_acc</td><td>▁▅▅▆▆▇▇███</td></tr><tr><td>val_loss</td><td>█▅▄▄▃▃▂▂▂▁</td></tr></table><br/></div><div class=\"wandb-col\"><h3>Run summary:</h3><br/><table class=\"wandb\"><tr><td>train_acc</td><td>0.80567</td></tr><tr><td>train_loss</td><td>-17072327.00936</td></tr><tr><td>val_acc</td><td>0.79833</td></tr><tr><td>val_loss</td><td>-16920151.19911</td></tr></table><br/></div></div>"
      ],
      "text/plain": [
       "<IPython.core.display.HTML object>"
      ]
     },
     "metadata": {},
     "output_type": "display_data"
    },
    {
     "data": {
      "text/html": [
       " View run <strong style=\"color:#cdcd00\">crimson-sweep-58</strong> at: <a href='https://wandb.ai/viswa_ee/CS6910/runs/qp8z3xpc' target=\"_blank\">https://wandb.ai/viswa_ee/CS6910/runs/qp8z3xpc</a><br/>Synced 4 W&B file(s), 1 media file(s), 0 artifact file(s) and 0 other file(s)"
      ],
      "text/plain": [
       "<IPython.core.display.HTML object>"
      ]
     },
     "metadata": {},
     "output_type": "display_data"
    },
    {
     "data": {
      "text/html": [
       "Find logs at: <code>.\\wandb\\run-20230317_182003-qp8z3xpc\\logs</code>"
      ],
      "text/plain": [
       "<IPython.core.display.HTML object>"
      ]
     },
     "metadata": {},
     "output_type": "display_data"
    },
    {
     "name": "stderr",
     "output_type": "stream",
     "text": [
      "\u001b[34m\u001b[1mwandb\u001b[0m: Agent Starting Run: wphm7i9r with config:\n",
      "\u001b[34m\u001b[1mwandb\u001b[0m: \tact_func: sigmoid\n",
      "\u001b[34m\u001b[1mwandb\u001b[0m: \tbatch_size: 64\n",
      "\u001b[34m\u001b[1mwandb\u001b[0m: \tl2_coeff: 0.5\n",
      "\u001b[34m\u001b[1mwandb\u001b[0m: \tloss_func: mse\n",
      "\u001b[34m\u001b[1mwandb\u001b[0m: \tlr: 0.001\n",
      "\u001b[34m\u001b[1mwandb\u001b[0m: \tn_epochs: 10\n",
      "\u001b[34m\u001b[1mwandb\u001b[0m: \tn_hidden: 5\n",
      "\u001b[34m\u001b[1mwandb\u001b[0m: \tn_hidden_units: 128\n",
      "\u001b[34m\u001b[1mwandb\u001b[0m: \toptim_algo: adam\n",
      "\u001b[34m\u001b[1mwandb\u001b[0m: \trelu_param: 0.01\n",
      "\u001b[34m\u001b[1mwandb\u001b[0m: \tweight_init: xavier_uniform\n",
      "Failed to detect the name of this notebook, you can set it manually with the WANDB_NOTEBOOK_NAME environment variable to enable code saving.\n"
     ]
    },
    {
     "data": {
      "text/html": [
       "Tracking run with wandb version 0.14.0"
      ],
      "text/plain": [
       "<IPython.core.display.HTML object>"
      ]
     },
     "metadata": {},
     "output_type": "display_data"
    },
    {
     "data": {
      "text/html": [
       "Run data is saved locally in <code>d:\\CS6901\\wandb\\run-20230317_182138-wphm7i9r</code>"
      ],
      "text/plain": [
       "<IPython.core.display.HTML object>"
      ]
     },
     "metadata": {},
     "output_type": "display_data"
    },
    {
     "data": {
      "text/html": [
       "Syncing run <strong><a href='https://wandb.ai/viswa_ee/CS6910/runs/wphm7i9r' target=\"_blank\">frosty-sweep-59</a></strong> to <a href='https://wandb.ai/viswa_ee/CS6910' target=\"_blank\">Weights & Biases</a> (<a href='https://wandb.me/run' target=\"_blank\">docs</a>)<br/>Sweep page: <a href='https://wandb.ai/viswa_ee/CS6910/sweeps/t38ec2il' target=\"_blank\">https://wandb.ai/viswa_ee/CS6910/sweeps/t38ec2il</a>"
      ],
      "text/plain": [
       "<IPython.core.display.HTML object>"
      ]
     },
     "metadata": {},
     "output_type": "display_data"
    },
    {
     "data": {
      "text/html": [
       " View project at <a href='https://wandb.ai/viswa_ee/CS6910' target=\"_blank\">https://wandb.ai/viswa_ee/CS6910</a>"
      ],
      "text/plain": [
       "<IPython.core.display.HTML object>"
      ]
     },
     "metadata": {},
     "output_type": "display_data"
    },
    {
     "data": {
      "text/html": [
       " View sweep at <a href='https://wandb.ai/viswa_ee/CS6910/sweeps/t38ec2il' target=\"_blank\">https://wandb.ai/viswa_ee/CS6910/sweeps/t38ec2il</a>"
      ],
      "text/plain": [
       "<IPython.core.display.HTML object>"
      ]
     },
     "metadata": {},
     "output_type": "display_data"
    },
    {
     "data": {
      "text/html": [
       " View run at <a href='https://wandb.ai/viswa_ee/CS6910/runs/wphm7i9r' target=\"_blank\">https://wandb.ai/viswa_ee/CS6910/runs/wphm7i9r</a>"
      ],
      "text/plain": [
       "<IPython.core.display.HTML object>"
      ]
     },
     "metadata": {},
     "output_type": "display_data"
    },
    {
     "data": {
      "text/html": [
       "Waiting for W&B process to finish... <strong style=\"color:green\">(success).</strong>"
      ],
      "text/plain": [
       "<IPython.core.display.HTML object>"
      ]
     },
     "metadata": {},
     "output_type": "display_data"
    },
    {
     "data": {
      "text/html": [
       "<style>\n",
       "    table.wandb td:nth-child(1) { padding: 0 10px; text-align: left ; width: auto;} td:nth-child(2) {text-align: left ; width: 100%}\n",
       "    .wandb-row { display: flex; flex-direction: row; flex-wrap: wrap; justify-content: flex-start; width: 100% }\n",
       "    .wandb-col { display: flex; flex-direction: column; flex-basis: 100%; flex: 1; padding: 10px; }\n",
       "    </style>\n",
       "<div class=\"wandb-row\"><div class=\"wandb-col\"><h3>Run history:</h3><br/><table class=\"wandb\"><tr><td>train_acc</td><td>▃▇█▆▂▃▂▅▅▁</td></tr><tr><td>train_loss</td><td>█▄▂▂▃▃▂▁▁▁</td></tr><tr><td>val_acc</td><td>▃▇█▆▃▄▃▅▅▁</td></tr><tr><td>val_loss</td><td>█▄▄▆▆▆▄▄▃▁</td></tr></table><br/></div><div class=\"wandb-col\"><h3>Run summary:</h3><br/><table class=\"wandb\"><tr><td>train_acc</td><td>0.75009</td></tr><tr><td>train_loss</td><td>-425.31895</td></tr><tr><td>val_acc</td><td>0.73583</td></tr><tr><td>val_loss</td><td>-465.36349</td></tr></table><br/></div></div>"
      ],
      "text/plain": [
       "<IPython.core.display.HTML object>"
      ]
     },
     "metadata": {},
     "output_type": "display_data"
    },
    {
     "data": {
      "text/html": [
       " View run <strong style=\"color:#cdcd00\">frosty-sweep-59</strong> at: <a href='https://wandb.ai/viswa_ee/CS6910/runs/wphm7i9r' target=\"_blank\">https://wandb.ai/viswa_ee/CS6910/runs/wphm7i9r</a><br/>Synced 4 W&B file(s), 1 media file(s), 0 artifact file(s) and 0 other file(s)"
      ],
      "text/plain": [
       "<IPython.core.display.HTML object>"
      ]
     },
     "metadata": {},
     "output_type": "display_data"
    },
    {
     "data": {
      "text/html": [
       "Find logs at: <code>.\\wandb\\run-20230317_182138-wphm7i9r\\logs</code>"
      ],
      "text/plain": [
       "<IPython.core.display.HTML object>"
      ]
     },
     "metadata": {},
     "output_type": "display_data"
    },
    {
     "name": "stderr",
     "output_type": "stream",
     "text": [
      "\u001b[34m\u001b[1mwandb\u001b[0m: Sweep Agent: Waiting for job.\n",
      "\u001b[34m\u001b[1mwandb\u001b[0m: Job received.\n",
      "\u001b[34m\u001b[1mwandb\u001b[0m: Agent Starting Run: h0tsdlk2 with config:\n",
      "\u001b[34m\u001b[1mwandb\u001b[0m: \tact_func: relu\n",
      "\u001b[34m\u001b[1mwandb\u001b[0m: \tbatch_size: 64\n",
      "\u001b[34m\u001b[1mwandb\u001b[0m: \tl2_coeff: 0\n",
      "\u001b[34m\u001b[1mwandb\u001b[0m: \tloss_func: mse\n",
      "\u001b[34m\u001b[1mwandb\u001b[0m: \tlr: 0.001\n",
      "\u001b[34m\u001b[1mwandb\u001b[0m: \tn_epochs: 10\n",
      "\u001b[34m\u001b[1mwandb\u001b[0m: \tn_hidden: 5\n",
      "\u001b[34m\u001b[1mwandb\u001b[0m: \tn_hidden_units: 128\n",
      "\u001b[34m\u001b[1mwandb\u001b[0m: \toptim_algo: rmsprop\n",
      "\u001b[34m\u001b[1mwandb\u001b[0m: \trelu_param: 0.01\n",
      "\u001b[34m\u001b[1mwandb\u001b[0m: \tweight_init: xavier_uniform\n",
      "Failed to detect the name of this notebook, you can set it manually with the WANDB_NOTEBOOK_NAME environment variable to enable code saving.\n"
     ]
    },
    {
     "data": {
      "text/html": [
       "Tracking run with wandb version 0.14.0"
      ],
      "text/plain": [
       "<IPython.core.display.HTML object>"
      ]
     },
     "metadata": {},
     "output_type": "display_data"
    },
    {
     "data": {
      "text/html": [
       "Run data is saved locally in <code>d:\\CS6901\\wandb\\run-20230317_182327-h0tsdlk2</code>"
      ],
      "text/plain": [
       "<IPython.core.display.HTML object>"
      ]
     },
     "metadata": {},
     "output_type": "display_data"
    },
    {
     "data": {
      "text/html": [
       "Syncing run <strong><a href='https://wandb.ai/viswa_ee/CS6910/runs/h0tsdlk2' target=\"_blank\">polished-sweep-60</a></strong> to <a href='https://wandb.ai/viswa_ee/CS6910' target=\"_blank\">Weights & Biases</a> (<a href='https://wandb.me/run' target=\"_blank\">docs</a>)<br/>Sweep page: <a href='https://wandb.ai/viswa_ee/CS6910/sweeps/t38ec2il' target=\"_blank\">https://wandb.ai/viswa_ee/CS6910/sweeps/t38ec2il</a>"
      ],
      "text/plain": [
       "<IPython.core.display.HTML object>"
      ]
     },
     "metadata": {},
     "output_type": "display_data"
    },
    {
     "data": {
      "text/html": [
       " View project at <a href='https://wandb.ai/viswa_ee/CS6910' target=\"_blank\">https://wandb.ai/viswa_ee/CS6910</a>"
      ],
      "text/plain": [
       "<IPython.core.display.HTML object>"
      ]
     },
     "metadata": {},
     "output_type": "display_data"
    },
    {
     "data": {
      "text/html": [
       " View sweep at <a href='https://wandb.ai/viswa_ee/CS6910/sweeps/t38ec2il' target=\"_blank\">https://wandb.ai/viswa_ee/CS6910/sweeps/t38ec2il</a>"
      ],
      "text/plain": [
       "<IPython.core.display.HTML object>"
      ]
     },
     "metadata": {},
     "output_type": "display_data"
    },
    {
     "data": {
      "text/html": [
       " View run at <a href='https://wandb.ai/viswa_ee/CS6910/runs/h0tsdlk2' target=\"_blank\">https://wandb.ai/viswa_ee/CS6910/runs/h0tsdlk2</a>"
      ],
      "text/plain": [
       "<IPython.core.display.HTML object>"
      ]
     },
     "metadata": {},
     "output_type": "display_data"
    },
    {
     "data": {
      "text/html": [
       "Waiting for W&B process to finish... <strong style=\"color:green\">(success).</strong>"
      ],
      "text/plain": [
       "<IPython.core.display.HTML object>"
      ]
     },
     "metadata": {},
     "output_type": "display_data"
    },
    {
     "data": {
      "text/html": [
       "<style>\n",
       "    table.wandb td:nth-child(1) { padding: 0 10px; text-align: left ; width: auto;} td:nth-child(2) {text-align: left ; width: 100%}\n",
       "    .wandb-row { display: flex; flex-direction: row; flex-wrap: wrap; justify-content: flex-start; width: 100% }\n",
       "    .wandb-col { display: flex; flex-direction: column; flex-basis: 100%; flex: 1; padding: 10px; }\n",
       "    </style>\n",
       "<div class=\"wandb-row\"><div class=\"wandb-col\"><h3>Run history:</h3><br/><table class=\"wandb\"><tr><td>train_acc</td><td>▁▂▃▅▇▆▇█▇█</td></tr><tr><td>train_loss</td><td>██▇▇█▆▄▅▅▁</td></tr><tr><td>val_acc</td><td>▁▁▄▄▇▆▇█▇▇</td></tr><tr><td>val_loss</td><td>██▆▅▂▄▂▃▄▁</td></tr></table><br/></div><div class=\"wandb-col\"><h3>Run summary:</h3><br/><table class=\"wandb\"><tr><td>train_acc</td><td>0.72963</td></tr><tr><td>train_loss</td><td>-17031993.40399</td></tr><tr><td>val_acc</td><td>0.724</td></tr><tr><td>val_loss</td><td>-16511956.64684</td></tr></table><br/></div></div>"
      ],
      "text/plain": [
       "<IPython.core.display.HTML object>"
      ]
     },
     "metadata": {},
     "output_type": "display_data"
    },
    {
     "data": {
      "text/html": [
       " View run <strong style=\"color:#cdcd00\">polished-sweep-60</strong> at: <a href='https://wandb.ai/viswa_ee/CS6910/runs/h0tsdlk2' target=\"_blank\">https://wandb.ai/viswa_ee/CS6910/runs/h0tsdlk2</a><br/>Synced 4 W&B file(s), 1 media file(s), 0 artifact file(s) and 0 other file(s)"
      ],
      "text/plain": [
       "<IPython.core.display.HTML object>"
      ]
     },
     "metadata": {},
     "output_type": "display_data"
    },
    {
     "data": {
      "text/html": [
       "Find logs at: <code>.\\wandb\\run-20230317_182327-h0tsdlk2\\logs</code>"
      ],
      "text/plain": [
       "<IPython.core.display.HTML object>"
      ]
     },
     "metadata": {},
     "output_type": "display_data"
    }
   ],
   "source": [
    "wandb.agent(sweep_id,learn,count=60)"
   ]
  }
 ],
 "metadata": {
  "kernelspec": {
   "display_name": "dl",
   "language": "python",
   "name": "python3"
  },
  "language_info": {
   "codemirror_mode": {
    "name": "ipython",
    "version": 3
   },
   "file_extension": ".py",
   "mimetype": "text/x-python",
   "name": "python",
   "nbconvert_exporter": "python",
   "pygments_lexer": "ipython3",
   "version": "3.9.7"
  },
  "orig_nbformat": 4
 },
 "nbformat": 4,
 "nbformat_minor": 2
}
